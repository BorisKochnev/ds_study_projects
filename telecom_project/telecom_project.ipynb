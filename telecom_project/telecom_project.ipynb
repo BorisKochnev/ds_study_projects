{
 "cells": [
  {
   "cell_type": "markdown",
   "id": "d6887daa",
   "metadata": {},
   "source": [
    "# Исследование \"Определение наиболее прибыльного тарифа\""
   ]
  },
  {
   "cell_type": "markdown",
   "id": "0aafd467",
   "metadata": {},
   "source": [
    "<strong>Описание проекта:</strong> отдел маркетинга попросил проанализировать, какой тариф наиболее прибылен для компании. Это нужно, что скорректировать инвестиции в рекламу\n",
    "\n",
    "<strong>Цель проекта:</strong> на небольшой выборке проанализировать поведение клиентов и понять, какой тариф приносит больше выручки"
   ]
  },
  {
   "cell_type": "markdown",
   "id": "06318b70",
   "metadata": {
    "toc": true
   },
   "source": [
    "<h1>Содержание<span class=\"tocSkip\"></span></h1>\n",
    "<div class=\"toc\"><ul class=\"toc-item\"><li><span><a href=\"#Исследование-&quot;Определение-наиболее-прибыльного-тарифа&quot;\" data-toc-modified-id=\"Исследование-&quot;Определение-наиболее-прибыльного-тарифа&quot;-1\">Исследование \"Определение наиболее прибыльного тарифа\"</a></span><ul class=\"toc-item\"><li><ul class=\"toc-item\"><li><span><a href=\"#Изучение-данных-и-предобработка\" data-toc-modified-id=\"Изучение-данных-и-предобработка-1.0.1\">Изучение данных и предобработка</a></span><ul class=\"toc-item\"><li><span><a href=\"#Таблица-calls\" data-toc-modified-id=\"Таблица-calls-1.0.1.1\">Таблица calls</a></span></li><li><span><a href=\"#Таблица-internet\" data-toc-modified-id=\"Таблица-internet-1.0.1.2\">Таблица internet</a></span></li><li><span><a href=\"#Таблица-messages\" data-toc-modified-id=\"Таблица-messages-1.0.1.3\">Таблица messages</a></span></li><li><span><a href=\"#Таблица-tariffs\" data-toc-modified-id=\"Таблица-tariffs-1.0.1.4\">Таблица tariffs</a></span></li><li><span><a href=\"#Таблица-users\" data-toc-modified-id=\"Таблица-users-1.0.1.5\">Таблица users</a></span></li></ul></li><li><span><a href=\"#Расчет-показателей-и-подготовка-данных-к-анализу\" data-toc-modified-id=\"Расчет-показателей-и-подготовка-данных-к-анализу-1.0.2\">Расчет показателей и подготовка данных к анализу</a></span></li><li><span><a href=\"#Анализ-данных\" data-toc-modified-id=\"Анализ-данных-1.0.3\">Анализ данных</a></span></li><li><span><a href=\"#Проверка-гипотез\" data-toc-modified-id=\"Проверка-гипотез-1.0.4\">Проверка гипотез</a></span><ul class=\"toc-item\"><li><span><a href=\"#Средняя-выручка-пользователей-тарифов-«Ультра»-и-«Смарт»-различаются\" data-toc-modified-id=\"Средняя-выручка-пользователей-тарифов-«Ультра»-и-«Смарт»-различаются-1.0.4.1\">Средняя выручка пользователей тарифов «Ультра» и «Смарт» различаются</a></span></li><li><span><a href=\"#Средняя-выручка-пользователей-из-Москвы-отличается-от-выручки-пользователей-из-других-регионов\" data-toc-modified-id=\"Средняя-выручка-пользователей-из-Москвы-отличается-от-выручки-пользователей-из-других-регионов-1.0.4.2\">Средняя выручка пользователей из Москвы отличается от выручки пользователей из других регионов</a></span></li></ul></li><li><span><a href=\"#Общие-выводы\" data-toc-modified-id=\"Общие-выводы-1.0.5\">Общие выводы</a></span></li></ul></li></ul></li></ul></div>"
   ]
  },
  {
   "cell_type": "markdown",
   "id": "9a87309d",
   "metadata": {},
   "source": [
    "### Изучение данных и предобработка"
   ]
  },
  {
   "cell_type": "code",
   "execution_count": 1,
   "id": "4af4089f",
   "metadata": {},
   "outputs": [],
   "source": [
    "import pandas as pd\n",
    "import math\n",
    "import numpy as np\n",
    "from scipy import stats as st"
   ]
  },
  {
   "cell_type": "code",
   "execution_count": 2,
   "id": "4516ce37",
   "metadata": {},
   "outputs": [],
   "source": [
    "df_calls = pd.read_csv('/datasets/calls.csv')\n",
    "df_internet = pd.read_csv('/datasets/internet.csv')\n",
    "df_messages = pd.read_csv('/datasets/messages.csv')\n",
    "df_tariffs = pd.read_csv('/datasets/tariffs.csv')\n",
    "df_users = pd.read_csv('/datasets/users.csv')"
   ]
  },
  {
   "cell_type": "markdown",
   "id": "7c0c246c",
   "metadata": {},
   "source": [
    "#### Таблица calls"
   ]
  },
  {
   "cell_type": "code",
   "execution_count": 3,
   "id": "3c31c619",
   "metadata": {},
   "outputs": [
    {
     "name": "stdout",
     "output_type": "stream",
     "text": [
      "<class 'pandas.core.frame.DataFrame'>\n",
      "RangeIndex: 202607 entries, 0 to 202606\n",
      "Data columns (total 4 columns):\n",
      " #   Column     Non-Null Count   Dtype  \n",
      "---  ------     --------------   -----  \n",
      " 0   id         202607 non-null  object \n",
      " 1   call_date  202607 non-null  object \n",
      " 2   duration   202607 non-null  float64\n",
      " 3   user_id    202607 non-null  int64  \n",
      "dtypes: float64(1), int64(1), object(2)\n",
      "memory usage: 6.2+ MB\n"
     ]
    },
    {
     "data": {
      "text/html": [
       "<div>\n",
       "<style scoped>\n",
       "    .dataframe tbody tr th:only-of-type {\n",
       "        vertical-align: middle;\n",
       "    }\n",
       "\n",
       "    .dataframe tbody tr th {\n",
       "        vertical-align: top;\n",
       "    }\n",
       "\n",
       "    .dataframe thead th {\n",
       "        text-align: right;\n",
       "    }\n",
       "</style>\n",
       "<table border=\"1\" class=\"dataframe\">\n",
       "  <thead>\n",
       "    <tr style=\"text-align: right;\">\n",
       "      <th></th>\n",
       "      <th>duration</th>\n",
       "      <th>user_id</th>\n",
       "    </tr>\n",
       "  </thead>\n",
       "  <tbody>\n",
       "    <tr>\n",
       "      <th>count</th>\n",
       "      <td>202607.000000</td>\n",
       "      <td>202607.000000</td>\n",
       "    </tr>\n",
       "    <tr>\n",
       "      <th>mean</th>\n",
       "      <td>6.755887</td>\n",
       "      <td>1253.940619</td>\n",
       "    </tr>\n",
       "    <tr>\n",
       "      <th>std</th>\n",
       "      <td>5.843365</td>\n",
       "      <td>144.722751</td>\n",
       "    </tr>\n",
       "    <tr>\n",
       "      <th>min</th>\n",
       "      <td>0.000000</td>\n",
       "      <td>1000.000000</td>\n",
       "    </tr>\n",
       "    <tr>\n",
       "      <th>25%</th>\n",
       "      <td>1.300000</td>\n",
       "      <td>1126.000000</td>\n",
       "    </tr>\n",
       "    <tr>\n",
       "      <th>50%</th>\n",
       "      <td>6.000000</td>\n",
       "      <td>1260.000000</td>\n",
       "    </tr>\n",
       "    <tr>\n",
       "      <th>75%</th>\n",
       "      <td>10.700000</td>\n",
       "      <td>1379.000000</td>\n",
       "    </tr>\n",
       "    <tr>\n",
       "      <th>max</th>\n",
       "      <td>38.000000</td>\n",
       "      <td>1499.000000</td>\n",
       "    </tr>\n",
       "  </tbody>\n",
       "</table>\n",
       "</div>"
      ],
      "text/plain": [
       "            duration        user_id\n",
       "count  202607.000000  202607.000000\n",
       "mean        6.755887    1253.940619\n",
       "std         5.843365     144.722751\n",
       "min         0.000000    1000.000000\n",
       "25%         1.300000    1126.000000\n",
       "50%         6.000000    1260.000000\n",
       "75%        10.700000    1379.000000\n",
       "max        38.000000    1499.000000"
      ]
     },
     "execution_count": 3,
     "metadata": {},
     "output_type": "execute_result"
    }
   ],
   "source": [
    "df_calls.info()\n",
    "df_calls.describe()"
   ]
  },
  {
   "cell_type": "markdown",
   "id": "813690fb",
   "metadata": {},
   "source": [
    "Итак, первая таблица `calls` состоит из 4 столбцов:\n",
    "* `id` - уникальный номер звонка;\n",
    "* `call_date` - дата звонка;\n",
    "* `duration` - длительность звонка в минутах;\n",
    "* `user_id` - идентификатор пользователя, сделавшего звонок\n",
    "\n",
    "Выбивающихся значений нет, пропущенных значений тоже, однако для задачи стоит перевести длительность звонка в целочисленный тип данных с округлением 'вверх'. Это позволит точнее рассчитать списываемые оператором минуты. Также стоит перевести столбец `call_date` в форматы даты"
   ]
  },
  {
   "cell_type": "markdown",
   "id": "ebe6b831",
   "metadata": {},
   "source": [
    "Оценим распределение длительности звонков:"
   ]
  },
  {
   "cell_type": "code",
   "execution_count": 4,
   "id": "9e66c8eb",
   "metadata": {
    "scrolled": false
   },
   "outputs": [
    {
     "data": {
      "image/png": "[encoded data removed]",
      "text/plain": [
       "<Figure size 432x288 with 1 Axes>"
      ]
     },
     "metadata": {
      "needs_background": "light"
     },
     "output_type": "display_data"
    }
   ],
   "source": [
    "df_calls['duration'].hist(bins=35)\n",
    "None"
   ]
  },
  {
   "cell_type": "markdown",
   "id": "a83a0e93",
   "metadata": {},
   "source": [
    "Многие звонки длятся не более минуты. Аномалий не найдено"
   ]
  },
  {
   "cell_type": "code",
   "execution_count": 5,
   "id": "899ad250",
   "metadata": {
    "scrolled": true
   },
   "outputs": [
    {
     "name": "stdout",
     "output_type": "stream",
     "text": [
      "<class 'pandas.core.frame.DataFrame'>\n",
      "RangeIndex: 202607 entries, 0 to 202606\n",
      "Data columns (total 4 columns):\n",
      " #   Column     Non-Null Count   Dtype         \n",
      "---  ------     --------------   -----         \n",
      " 0   id         202607 non-null  object        \n",
      " 1   call_date  202607 non-null  datetime64[ns]\n",
      " 2   duration   202607 non-null  float64       \n",
      " 3   user_id    202607 non-null  int64         \n",
      "dtypes: datetime64[ns](1), float64(1), int64(1), object(1)\n",
      "memory usage: 6.2+ MB\n"
     ]
    }
   ],
   "source": [
    "df_calls['duration'] = np.ceil(df_calls['duration'])\n",
    "df_calls['call_date'] = pd.to_datetime(df_calls['call_date'], format=\"%Y-%m-%d\")\n",
    "df_calls = df_calls.drop_duplicates().reset_index(drop=True)\n",
    "df_calls.info()"
   ]
  },
  {
   "cell_type": "markdown",
   "id": "90770b07",
   "metadata": {},
   "source": [
    "Все столбцы переведены в нужный формат, дубликатов не найдено"
   ]
  },
  {
   "cell_type": "markdown",
   "id": "83c833b6",
   "metadata": {},
   "source": [
    "#### Таблица internet"
   ]
  },
  {
   "cell_type": "code",
   "execution_count": 6,
   "id": "d32750b9",
   "metadata": {},
   "outputs": [
    {
     "name": "stdout",
     "output_type": "stream",
     "text": [
      "<class 'pandas.core.frame.DataFrame'>\n",
      "RangeIndex: 149396 entries, 0 to 149395\n",
      "Data columns (total 5 columns):\n",
      " #   Column        Non-Null Count   Dtype  \n",
      "---  ------        --------------   -----  \n",
      " 0   Unnamed: 0    149396 non-null  int64  \n",
      " 1   id            149396 non-null  object \n",
      " 2   mb_used       149396 non-null  float64\n",
      " 3   session_date  149396 non-null  object \n",
      " 4   user_id       149396 non-null  int64  \n",
      "dtypes: float64(1), int64(2), object(2)\n",
      "memory usage: 5.7+ MB\n"
     ]
    },
    {
     "data": {
      "text/html": [
       "<div>\n",
       "<style scoped>\n",
       "    .dataframe tbody tr th:only-of-type {\n",
       "        vertical-align: middle;\n",
       "    }\n",
       "\n",
       "    .dataframe tbody tr th {\n",
       "        vertical-align: top;\n",
       "    }\n",
       "\n",
       "    .dataframe thead th {\n",
       "        text-align: right;\n",
       "    }\n",
       "</style>\n",
       "<table border=\"1\" class=\"dataframe\">\n",
       "  <thead>\n",
       "    <tr style=\"text-align: right;\">\n",
       "      <th></th>\n",
       "      <th>Unnamed: 0</th>\n",
       "      <th>mb_used</th>\n",
       "      <th>user_id</th>\n",
       "    </tr>\n",
       "  </thead>\n",
       "  <tbody>\n",
       "    <tr>\n",
       "      <th>count</th>\n",
       "      <td>149396.000000</td>\n",
       "      <td>149396.000000</td>\n",
       "      <td>149396.000000</td>\n",
       "    </tr>\n",
       "    <tr>\n",
       "      <th>mean</th>\n",
       "      <td>74697.500000</td>\n",
       "      <td>370.192426</td>\n",
       "      <td>1252.099842</td>\n",
       "    </tr>\n",
       "    <tr>\n",
       "      <th>std</th>\n",
       "      <td>43127.054745</td>\n",
       "      <td>278.300951</td>\n",
       "      <td>144.050823</td>\n",
       "    </tr>\n",
       "    <tr>\n",
       "      <th>min</th>\n",
       "      <td>0.000000</td>\n",
       "      <td>0.000000</td>\n",
       "      <td>1000.000000</td>\n",
       "    </tr>\n",
       "    <tr>\n",
       "      <th>25%</th>\n",
       "      <td>37348.750000</td>\n",
       "      <td>138.187500</td>\n",
       "      <td>1130.000000</td>\n",
       "    </tr>\n",
       "    <tr>\n",
       "      <th>50%</th>\n",
       "      <td>74697.500000</td>\n",
       "      <td>348.015000</td>\n",
       "      <td>1251.000000</td>\n",
       "    </tr>\n",
       "    <tr>\n",
       "      <th>75%</th>\n",
       "      <td>112046.250000</td>\n",
       "      <td>559.552500</td>\n",
       "      <td>1380.000000</td>\n",
       "    </tr>\n",
       "    <tr>\n",
       "      <th>max</th>\n",
       "      <td>149395.000000</td>\n",
       "      <td>1724.830000</td>\n",
       "      <td>1499.000000</td>\n",
       "    </tr>\n",
       "  </tbody>\n",
       "</table>\n",
       "</div>"
      ],
      "text/plain": [
       "          Unnamed: 0        mb_used        user_id\n",
       "count  149396.000000  149396.000000  149396.000000\n",
       "mean    74697.500000     370.192426    1252.099842\n",
       "std     43127.054745     278.300951     144.050823\n",
       "min         0.000000       0.000000    1000.000000\n",
       "25%     37348.750000     138.187500    1130.000000\n",
       "50%     74697.500000     348.015000    1251.000000\n",
       "75%    112046.250000     559.552500    1380.000000\n",
       "max    149395.000000    1724.830000    1499.000000"
      ]
     },
     "execution_count": 6,
     "metadata": {},
     "output_type": "execute_result"
    }
   ],
   "source": [
    "df_internet.info()\n",
    "df_internet.describe()"
   ]
  },
  {
   "cell_type": "markdown",
   "id": "302705df",
   "metadata": {},
   "source": [
    "Проверим распределение значений таблицы:"
   ]
  },
  {
   "cell_type": "code",
   "execution_count": 7,
   "id": "0614496d",
   "metadata": {
    "scrolled": false
   },
   "outputs": [
    {
     "data": {
      "image/png": "[encoded data removed]",
      "text/plain": [
       "<Figure size 432x288 with 1 Axes>"
      ]
     },
     "metadata": {
      "needs_background": "light"
     },
     "output_type": "display_data"
    }
   ],
   "source": [
    "df_internet['mb_used'].hist(bins=25)\n",
    "None"
   ]
  },
  {
   "cell_type": "markdown",
   "id": "65c7a060",
   "metadata": {},
   "source": [
    "Часто всего встречаются пользователи, которые почти не пользуются интернетом. Аномалий не найдено"
   ]
  },
  {
   "cell_type": "code",
   "execution_count": 8,
   "id": "677447c2",
   "metadata": {},
   "outputs": [
    {
     "data": {
      "text/html": [
       "<div>\n",
       "<style scoped>\n",
       "    .dataframe tbody tr th:only-of-type {\n",
       "        vertical-align: middle;\n",
       "    }\n",
       "\n",
       "    .dataframe tbody tr th {\n",
       "        vertical-align: top;\n",
       "    }\n",
       "\n",
       "    .dataframe thead th {\n",
       "        text-align: right;\n",
       "    }\n",
       "</style>\n",
       "<table border=\"1\" class=\"dataframe\">\n",
       "  <thead>\n",
       "    <tr style=\"text-align: right;\">\n",
       "      <th></th>\n",
       "      <th>Unnamed: 0</th>\n",
       "      <th>id</th>\n",
       "      <th>mb_used</th>\n",
       "      <th>session_date</th>\n",
       "      <th>user_id</th>\n",
       "    </tr>\n",
       "  </thead>\n",
       "  <tbody>\n",
       "    <tr>\n",
       "      <th>0</th>\n",
       "      <td>0</td>\n",
       "      <td>1000_0</td>\n",
       "      <td>112.95</td>\n",
       "      <td>2018-11-25</td>\n",
       "      <td>1000</td>\n",
       "    </tr>\n",
       "    <tr>\n",
       "      <th>1</th>\n",
       "      <td>1</td>\n",
       "      <td>1000_1</td>\n",
       "      <td>1052.81</td>\n",
       "      <td>2018-09-07</td>\n",
       "      <td>1000</td>\n",
       "    </tr>\n",
       "    <tr>\n",
       "      <th>2</th>\n",
       "      <td>2</td>\n",
       "      <td>1000_2</td>\n",
       "      <td>1197.26</td>\n",
       "      <td>2018-06-25</td>\n",
       "      <td>1000</td>\n",
       "    </tr>\n",
       "    <tr>\n",
       "      <th>3</th>\n",
       "      <td>3</td>\n",
       "      <td>1000_3</td>\n",
       "      <td>550.27</td>\n",
       "      <td>2018-08-22</td>\n",
       "      <td>1000</td>\n",
       "    </tr>\n",
       "    <tr>\n",
       "      <th>4</th>\n",
       "      <td>4</td>\n",
       "      <td>1000_4</td>\n",
       "      <td>302.56</td>\n",
       "      <td>2018-09-24</td>\n",
       "      <td>1000</td>\n",
       "    </tr>\n",
       "  </tbody>\n",
       "</table>\n",
       "</div>"
      ],
      "text/plain": [
       "   Unnamed: 0      id  mb_used session_date  user_id\n",
       "0           0  1000_0   112.95   2018-11-25     1000\n",
       "1           1  1000_1  1052.81   2018-09-07     1000\n",
       "2           2  1000_2  1197.26   2018-06-25     1000\n",
       "3           3  1000_3   550.27   2018-08-22     1000\n",
       "4           4  1000_4   302.56   2018-09-24     1000"
      ]
     },
     "execution_count": 8,
     "metadata": {},
     "output_type": "execute_result"
    }
   ],
   "source": [
    "df_internet.head()"
   ]
  },
  {
   "cell_type": "markdown",
   "id": "8dc5de70",
   "metadata": {},
   "source": [
    "Итак, вторая таблица `internet` состоит из 5 столбцов:\n",
    "* `Unnamed: 0` - вероятно, технический столбец, который дублирует индексы. Скорее всего, использовался для генерации 'id';\n",
    "* `id` - уникальный номер сессии;\n",
    "* `md_used` - объём потраченного за сессию интернет-трафика (в мегабайтах);\n",
    "* `session_date` - дата интернет-сессии\n",
    "* `user_id` - идентификатор пользователя\n",
    "\n",
    "Выбивающихся значений нет, пропущенных значений тоже, столбец `Unnamed: 0` не нужен для задачи. Столбец `session_date` стоит перевести в форматы даты"
   ]
  },
  {
   "cell_type": "code",
   "execution_count": 9,
   "id": "caba1019",
   "metadata": {},
   "outputs": [
    {
     "name": "stdout",
     "output_type": "stream",
     "text": [
      "<class 'pandas.core.frame.DataFrame'>\n",
      "RangeIndex: 149396 entries, 0 to 149395\n",
      "Data columns (total 5 columns):\n",
      " #   Column        Non-Null Count   Dtype         \n",
      "---  ------        --------------   -----         \n",
      " 0   Unnamed: 0    149396 non-null  int64         \n",
      " 1   id            149396 non-null  object        \n",
      " 2   mb_used       149396 non-null  float64       \n",
      " 3   session_date  149396 non-null  datetime64[ns]\n",
      " 4   user_id       149396 non-null  int64         \n",
      "dtypes: datetime64[ns](1), float64(1), int64(2), object(1)\n",
      "memory usage: 5.7+ MB\n"
     ]
    }
   ],
   "source": [
    "df_internet['session_date'] = pd.to_datetime(df_internet['session_date'], format=\"%Y-%m-%d\")\n",
    "df_internet = df_internet.drop_duplicates().reset_index(drop=True)\n",
    "df_internet.info()"
   ]
  },
  {
   "cell_type": "markdown",
   "id": "ba74eced",
   "metadata": {},
   "source": [
    "Все столбцы переведены в нужный формат, дубликатов не найдено"
   ]
  },
  {
   "cell_type": "markdown",
   "id": "c2b6b63e",
   "metadata": {},
   "source": [
    "#### Таблица messages"
   ]
  },
  {
   "cell_type": "code",
   "execution_count": 10,
   "id": "2c18cf68",
   "metadata": {},
   "outputs": [
    {
     "name": "stdout",
     "output_type": "stream",
     "text": [
      "<class 'pandas.core.frame.DataFrame'>\n",
      "RangeIndex: 123036 entries, 0 to 123035\n",
      "Data columns (total 3 columns):\n",
      " #   Column        Non-Null Count   Dtype \n",
      "---  ------        --------------   ----- \n",
      " 0   id            123036 non-null  object\n",
      " 1   message_date  123036 non-null  object\n",
      " 2   user_id       123036 non-null  int64 \n",
      "dtypes: int64(1), object(2)\n",
      "memory usage: 2.8+ MB\n"
     ]
    }
   ],
   "source": [
    "df_messages.info()"
   ]
  },
  {
   "cell_type": "markdown",
   "id": "d3ccaa8d",
   "metadata": {},
   "source": [
    "Итак, третья таблица `messages` состоит из следующих столбцов:\n",
    "* `id` - уникальный номер сообщения\n",
    "* `message_date` - дата сообщения\n",
    "* `id` - идентификатор пользователя, отправившего сообщение\n",
    "\n",
    "В таблице нет пропущенных значений. Столбец `message_date` стоит перевести в формат дат:"
   ]
  },
  {
   "cell_type": "code",
   "execution_count": 11,
   "id": "af89d953",
   "metadata": {
    "scrolled": true
   },
   "outputs": [
    {
     "data": {
      "text/html": [
       "<div>\n",
       "<style scoped>\n",
       "    .dataframe tbody tr th:only-of-type {\n",
       "        vertical-align: middle;\n",
       "    }\n",
       "\n",
       "    .dataframe tbody tr th {\n",
       "        vertical-align: top;\n",
       "    }\n",
       "\n",
       "    .dataframe thead th {\n",
       "        text-align: right;\n",
       "    }\n",
       "</style>\n",
       "<table border=\"1\" class=\"dataframe\">\n",
       "  <thead>\n",
       "    <tr style=\"text-align: right;\">\n",
       "      <th></th>\n",
       "      <th>id</th>\n",
       "      <th>message_date</th>\n",
       "      <th>user_id</th>\n",
       "    </tr>\n",
       "  </thead>\n",
       "  <tbody>\n",
       "    <tr>\n",
       "      <th>0</th>\n",
       "      <td>1000_0</td>\n",
       "      <td>2018-06-27</td>\n",
       "      <td>1000</td>\n",
       "    </tr>\n",
       "    <tr>\n",
       "      <th>1</th>\n",
       "      <td>1000_1</td>\n",
       "      <td>2018-10-08</td>\n",
       "      <td>1000</td>\n",
       "    </tr>\n",
       "    <tr>\n",
       "      <th>2</th>\n",
       "      <td>1000_2</td>\n",
       "      <td>2018-08-04</td>\n",
       "      <td>1000</td>\n",
       "    </tr>\n",
       "    <tr>\n",
       "      <th>3</th>\n",
       "      <td>1000_3</td>\n",
       "      <td>2018-06-16</td>\n",
       "      <td>1000</td>\n",
       "    </tr>\n",
       "    <tr>\n",
       "      <th>4</th>\n",
       "      <td>1000_4</td>\n",
       "      <td>2018-12-05</td>\n",
       "      <td>1000</td>\n",
       "    </tr>\n",
       "  </tbody>\n",
       "</table>\n",
       "</div>"
      ],
      "text/plain": [
       "       id message_date  user_id\n",
       "0  1000_0   2018-06-27     1000\n",
       "1  1000_1   2018-10-08     1000\n",
       "2  1000_2   2018-08-04     1000\n",
       "3  1000_3   2018-06-16     1000\n",
       "4  1000_4   2018-12-05     1000"
      ]
     },
     "execution_count": 11,
     "metadata": {},
     "output_type": "execute_result"
    }
   ],
   "source": [
    "df_messages.head()"
   ]
  },
  {
   "cell_type": "code",
   "execution_count": 12,
   "id": "bd0fa60f",
   "metadata": {},
   "outputs": [
    {
     "name": "stdout",
     "output_type": "stream",
     "text": [
      "<class 'pandas.core.frame.DataFrame'>\n",
      "RangeIndex: 123036 entries, 0 to 123035\n",
      "Data columns (total 3 columns):\n",
      " #   Column        Non-Null Count   Dtype         \n",
      "---  ------        --------------   -----         \n",
      " 0   id            123036 non-null  object        \n",
      " 1   message_date  123036 non-null  datetime64[ns]\n",
      " 2   user_id       123036 non-null  int64         \n",
      "dtypes: datetime64[ns](1), int64(1), object(1)\n",
      "memory usage: 2.8+ MB\n"
     ]
    }
   ],
   "source": [
    "df_messages['message_date'] = pd.to_datetime(df_messages['message_date'], format=\"%Y-%m-%d\")\n",
    "df_messages = df_messages.drop_duplicates().reset_index(drop=True)\n",
    "df_messages.info()"
   ]
  },
  {
   "cell_type": "markdown",
   "id": "16f9d009",
   "metadata": {},
   "source": [
    "Все столбцы переведены в нужный формат, дубликатов не найдено"
   ]
  },
  {
   "cell_type": "markdown",
   "id": "620ec0c4",
   "metadata": {},
   "source": [
    "#### Таблица tariffs"
   ]
  },
  {
   "cell_type": "code",
   "execution_count": 13,
   "id": "e3d1977c",
   "metadata": {},
   "outputs": [
    {
     "data": {
      "text/html": [
       "<div>\n",
       "<style scoped>\n",
       "    .dataframe tbody tr th:only-of-type {\n",
       "        vertical-align: middle;\n",
       "    }\n",
       "\n",
       "    .dataframe tbody tr th {\n",
       "        vertical-align: top;\n",
       "    }\n",
       "\n",
       "    .dataframe thead th {\n",
       "        text-align: right;\n",
       "    }\n",
       "</style>\n",
       "<table border=\"1\" class=\"dataframe\">\n",
       "  <thead>\n",
       "    <tr style=\"text-align: right;\">\n",
       "      <th></th>\n",
       "      <th>messages_included</th>\n",
       "      <th>mb_per_month_included</th>\n",
       "      <th>minutes_included</th>\n",
       "      <th>rub_monthly_fee</th>\n",
       "      <th>rub_per_gb</th>\n",
       "      <th>rub_per_message</th>\n",
       "      <th>rub_per_minute</th>\n",
       "      <th>tariff_name</th>\n",
       "    </tr>\n",
       "  </thead>\n",
       "  <tbody>\n",
       "    <tr>\n",
       "      <th>0</th>\n",
       "      <td>50</td>\n",
       "      <td>15360</td>\n",
       "      <td>500</td>\n",
       "      <td>550</td>\n",
       "      <td>200</td>\n",
       "      <td>3</td>\n",
       "      <td>3</td>\n",
       "      <td>smart</td>\n",
       "    </tr>\n",
       "    <tr>\n",
       "      <th>1</th>\n",
       "      <td>1000</td>\n",
       "      <td>30720</td>\n",
       "      <td>3000</td>\n",
       "      <td>1950</td>\n",
       "      <td>150</td>\n",
       "      <td>1</td>\n",
       "      <td>1</td>\n",
       "      <td>ultra</td>\n",
       "    </tr>\n",
       "  </tbody>\n",
       "</table>\n",
       "</div>"
      ],
      "text/plain": [
       "   messages_included  mb_per_month_included  minutes_included  \\\n",
       "0                 50                  15360               500   \n",
       "1               1000                  30720              3000   \n",
       "\n",
       "   rub_monthly_fee  rub_per_gb  rub_per_message  rub_per_minute tariff_name  \n",
       "0              550         200                3               3       smart  \n",
       "1             1950         150                1               1       ultra  "
      ]
     },
     "execution_count": 13,
     "metadata": {},
     "output_type": "execute_result"
    }
   ],
   "source": [
    "df_tariffs"
   ]
  },
  {
   "cell_type": "markdown",
   "id": "125dba2f",
   "metadata": {},
   "source": [
    "Итак, четвертая таблица `tariffs` состоит из 8 столбцов:\n",
    "* `messages_included` - количество сообщений в месяц, включённых в абонентскую плату\n",
    "* `mb_per_month_included` - объём интернет-трафика, включённого в абонентскую плату (в мегабайтах)\n",
    "* `minutes_included` - количество минут разговора в месяц, включённых в абонентскую плату\n",
    "* `rub_monthly_fee` - ежемесячная абонентская плата в рублях\n",
    "* `rub_per_gb` - стоимость дополнительного гигабайта интернет-трафика сверх тарифного пакета (1 гигабайт = 1024 мегабайта)\n",
    "* `rub_per_message` - стоимость отправки сообщения сверх тарифного пакета\n",
    "* `rub_per_minute` - стоимость минуты разговора сверх тарифного пакета (например, если в тарифе 100 минут разговора в месяц, то со 101 минуты будет взиматься плата)\n",
    "* `tariff_name` - название тарифа\n",
    "\n",
    "Пропущенных значений нет, все форматы соответствуют логике их использования. Для удобства стоит переименовать название последнего столбца в `tariff` - это позволит проще объединять таблицы"
   ]
  },
  {
   "cell_type": "code",
   "execution_count": 14,
   "id": "02fc6e07",
   "metadata": {},
   "outputs": [],
   "source": [
    "df_tariffs.rename(columns={'tariff_name': 'tariff'}, inplace=True)"
   ]
  },
  {
   "cell_type": "markdown",
   "id": "fa6718a8",
   "metadata": {},
   "source": [
    "#### Таблица users"
   ]
  },
  {
   "cell_type": "code",
   "execution_count": 15,
   "id": "9f8bbf24",
   "metadata": {},
   "outputs": [
    {
     "name": "stdout",
     "output_type": "stream",
     "text": [
      "<class 'pandas.core.frame.DataFrame'>\n",
      "RangeIndex: 500 entries, 0 to 499\n",
      "Data columns (total 8 columns):\n",
      " #   Column      Non-Null Count  Dtype \n",
      "---  ------      --------------  ----- \n",
      " 0   user_id     500 non-null    int64 \n",
      " 1   age         500 non-null    int64 \n",
      " 2   churn_date  38 non-null     object\n",
      " 3   city        500 non-null    object\n",
      " 4   first_name  500 non-null    object\n",
      " 5   last_name   500 non-null    object\n",
      " 6   reg_date    500 non-null    object\n",
      " 7   tariff      500 non-null    object\n",
      "dtypes: int64(2), object(6)\n",
      "memory usage: 31.4+ KB\n"
     ]
    }
   ],
   "source": [
    "df_users.head()\n",
    "df_users.info()"
   ]
  },
  {
   "cell_type": "markdown",
   "id": "0d58d766",
   "metadata": {},
   "source": [
    "Итак, пятая таблица `users` состоит из 8 столбцов:\n",
    "* `user_id` - уникальный идентификатор пользователя\n",
    "* `age` - возраст пользователя (годы)\n",
    "* `churn_date` - дата прекращения пользования тарифом\n",
    "* `city` - город проживания пользователя\n",
    "* `first_name` - имя пользователя\n",
    "* `last_name` - фамилия пользователя\n",
    "* `reg_date` - дата подключения тарифа (день, месяц, год)\n",
    "* `tariff` - название тарифа\n",
    "\n",
    "Столбцы `churn_date` и `reg_date` стоит перевести в формат даты:"
   ]
  },
  {
   "cell_type": "code",
   "execution_count": 16,
   "id": "7cf7aace",
   "metadata": {
    "scrolled": true
   },
   "outputs": [
    {
     "name": "stdout",
     "output_type": "stream",
     "text": [
      "<class 'pandas.core.frame.DataFrame'>\n",
      "RangeIndex: 500 entries, 0 to 499\n",
      "Data columns (total 8 columns):\n",
      " #   Column      Non-Null Count  Dtype         \n",
      "---  ------      --------------  -----         \n",
      " 0   user_id     500 non-null    int64         \n",
      " 1   age         500 non-null    int64         \n",
      " 2   churn_date  38 non-null     datetime64[ns]\n",
      " 3   city        500 non-null    object        \n",
      " 4   first_name  500 non-null    object        \n",
      " 5   last_name   500 non-null    object        \n",
      " 6   reg_date    500 non-null    datetime64[ns]\n",
      " 7   tariff      500 non-null    object        \n",
      "dtypes: datetime64[ns](2), int64(2), object(4)\n",
      "memory usage: 31.4+ KB\n"
     ]
    }
   ],
   "source": [
    "df_users[['churn_date', 'reg_date']] = df_users[['churn_date', 'reg_date']].apply(pd.to_datetime, format=\"%Y-%m-%d\", errors='coerce')\n",
    "df_users = df_users.drop_duplicates().reset_index(drop=True)\n",
    "df_users.info()\n"
   ]
  },
  {
   "cell_type": "markdown",
   "id": "706ef96a",
   "metadata": {},
   "source": [
    "Все столбцы переведены в нужный формат, дубликатов не найдено"
   ]
  },
  {
   "cell_type": "markdown",
   "id": "5b08da7f",
   "metadata": {},
   "source": [
    "Дополнительно можно проверить, нет ли опечаток и неявных дубликатов в столбце `city`"
   ]
  },
  {
   "cell_type": "code",
   "execution_count": 17,
   "id": "ac041112",
   "metadata": {},
   "outputs": [
    {
     "data": {
      "text/plain": [
       "array(['Краснодар', 'Москва', 'Стерлитамак', 'Новокузнецк',\n",
       "       'Набережные Челны', 'Ульяновск', 'Челябинск', 'Пермь', 'Тюмень',\n",
       "       'Самара', 'Санкт-Петербург', 'Иваново', 'Чебоксары', 'Омск', 'Уфа',\n",
       "       'Томск', 'Чита', 'Мурманск', 'Петрозаводск', 'Тверь',\n",
       "       'Екатеринбург', 'Махачкала', 'Вологда', 'Череповец', 'Ярославль',\n",
       "       'Сочи', 'Хабаровск', 'Ставрополь', 'Рязань', 'Улан-Удэ', 'Тула',\n",
       "       'Саратов', 'Ростов-на-Дону', 'Казань', 'Иркутск', 'Курск',\n",
       "       'Калуга', 'Якутск', 'Астрахань', 'Химки', 'Владикавказ',\n",
       "       'Волгоград', 'Саранск', 'Ижевск', 'Новосибирск', 'Брянск',\n",
       "       'Тольятти', 'Нижний Тагил', 'Орёл', 'Белгород', 'Воронеж',\n",
       "       'Волжский', 'Курган', 'Барнаул', 'Красноярск', 'Архангельск',\n",
       "       'Липецк', 'Кемерово', 'Киров', 'Сургут', 'Пенза', 'Магнитогорск',\n",
       "       'Нижний Новгород', 'Кострома', 'Владивосток', 'Тамбов', 'Балашиха',\n",
       "       'Севастополь', 'Калининград', 'Оренбург', 'Смоленск',\n",
       "       'Нижневартовск', 'Владимир', 'Новороссийск', 'Грозный', 'Подольск'],\n",
       "      dtype=object)"
      ]
     },
     "execution_count": 17,
     "metadata": {},
     "output_type": "execute_result"
    }
   ],
   "source": [
    "df_users['city'].unique()"
   ]
  },
  {
   "cell_type": "markdown",
   "id": "386fbafc",
   "metadata": {},
   "source": [
    "Неявных дубликатов не найдено"
   ]
  },
  {
   "cell_type": "markdown",
   "id": "76e6aa32",
   "metadata": {},
   "source": [
    "### Расчет показателей и подготовка данных к анализу"
   ]
  },
  {
   "cell_type": "markdown",
   "id": "b8d00f62",
   "metadata": {},
   "source": [
    "Перед подсчетом данных стоит проверить, сколько лет включено в выборку:"
   ]
  },
  {
   "cell_type": "code",
   "execution_count": 18,
   "id": "e695da49",
   "metadata": {},
   "outputs": [
    {
     "data": {
      "text/plain": [
       "array([2018])"
      ]
     },
     "execution_count": 18,
     "metadata": {},
     "output_type": "execute_result"
    }
   ],
   "source": [
    "df_calls['year'] = df_calls['call_date'].dt.year\n",
    "df_calls['year'].unique()"
   ]
  },
  {
   "cell_type": "markdown",
   "id": "b92268d4",
   "metadata": {},
   "source": [
    "Только один - 2018. Можно не сегментировать данные по годам"
   ]
  },
  {
   "cell_type": "code",
   "execution_count": 19,
   "id": "7766736f",
   "metadata": {},
   "outputs": [
    {
     "data": {
      "text/html": [
       "<div>\n",
       "<style scoped>\n",
       "    .dataframe tbody tr th:only-of-type {\n",
       "        vertical-align: middle;\n",
       "    }\n",
       "\n",
       "    .dataframe tbody tr th {\n",
       "        vertical-align: top;\n",
       "    }\n",
       "\n",
       "    .dataframe thead th {\n",
       "        text-align: right;\n",
       "    }\n",
       "</style>\n",
       "<table border=\"1\" class=\"dataframe\">\n",
       "  <thead>\n",
       "    <tr style=\"text-align: right;\">\n",
       "      <th></th>\n",
       "      <th>id</th>\n",
       "      <th>call_date</th>\n",
       "      <th>duration</th>\n",
       "      <th>user_id</th>\n",
       "    </tr>\n",
       "  </thead>\n",
       "  <tbody>\n",
       "    <tr>\n",
       "      <th>0</th>\n",
       "      <td>1000_0</td>\n",
       "      <td>2018-07-25</td>\n",
       "      <td>0.0</td>\n",
       "      <td>1000</td>\n",
       "    </tr>\n",
       "    <tr>\n",
       "      <th>1</th>\n",
       "      <td>1000_1</td>\n",
       "      <td>2018-08-17</td>\n",
       "      <td>0.0</td>\n",
       "      <td>1000</td>\n",
       "    </tr>\n",
       "    <tr>\n",
       "      <th>2</th>\n",
       "      <td>1000_2</td>\n",
       "      <td>2018-06-11</td>\n",
       "      <td>3.0</td>\n",
       "      <td>1000</td>\n",
       "    </tr>\n",
       "    <tr>\n",
       "      <th>3</th>\n",
       "      <td>1000_3</td>\n",
       "      <td>2018-09-21</td>\n",
       "      <td>14.0</td>\n",
       "      <td>1000</td>\n",
       "    </tr>\n",
       "    <tr>\n",
       "      <th>4</th>\n",
       "      <td>1000_4</td>\n",
       "      <td>2018-12-15</td>\n",
       "      <td>6.0</td>\n",
       "      <td>1000</td>\n",
       "    </tr>\n",
       "    <tr>\n",
       "      <th>...</th>\n",
       "      <td>...</td>\n",
       "      <td>...</td>\n",
       "      <td>...</td>\n",
       "      <td>...</td>\n",
       "    </tr>\n",
       "    <tr>\n",
       "      <th>202602</th>\n",
       "      <td>1499_215</td>\n",
       "      <td>2018-12-26</td>\n",
       "      <td>1.0</td>\n",
       "      <td>1499</td>\n",
       "    </tr>\n",
       "    <tr>\n",
       "      <th>202603</th>\n",
       "      <td>1499_216</td>\n",
       "      <td>2018-10-18</td>\n",
       "      <td>19.0</td>\n",
       "      <td>1499</td>\n",
       "    </tr>\n",
       "    <tr>\n",
       "      <th>202604</th>\n",
       "      <td>1499_217</td>\n",
       "      <td>2018-11-10</td>\n",
       "      <td>11.0</td>\n",
       "      <td>1499</td>\n",
       "    </tr>\n",
       "    <tr>\n",
       "      <th>202605</th>\n",
       "      <td>1499_218</td>\n",
       "      <td>2018-10-06</td>\n",
       "      <td>5.0</td>\n",
       "      <td>1499</td>\n",
       "    </tr>\n",
       "    <tr>\n",
       "      <th>202606</th>\n",
       "      <td>1499_219</td>\n",
       "      <td>2018-12-14</td>\n",
       "      <td>20.0</td>\n",
       "      <td>1499</td>\n",
       "    </tr>\n",
       "  </tbody>\n",
       "</table>\n",
       "<p>202607 rows × 4 columns</p>\n",
       "</div>"
      ],
      "text/plain": [
       "              id  call_date  duration  user_id\n",
       "0         1000_0 2018-07-25       0.0     1000\n",
       "1         1000_1 2018-08-17       0.0     1000\n",
       "2         1000_2 2018-06-11       3.0     1000\n",
       "3         1000_3 2018-09-21      14.0     1000\n",
       "4         1000_4 2018-12-15       6.0     1000\n",
       "...          ...        ...       ...      ...\n",
       "202602  1499_215 2018-12-26       1.0     1499\n",
       "202603  1499_216 2018-10-18      19.0     1499\n",
       "202604  1499_217 2018-11-10      11.0     1499\n",
       "202605  1499_218 2018-10-06       5.0     1499\n",
       "202606  1499_219 2018-12-14      20.0     1499\n",
       "\n",
       "[202607 rows x 4 columns]"
      ]
     },
     "execution_count": 19,
     "metadata": {},
     "output_type": "execute_result"
    }
   ],
   "source": [
    "df_calls.drop('year', axis=1)"
   ]
  },
  {
   "cell_type": "markdown",
   "id": "00101535",
   "metadata": {},
   "source": [
    "Многие из таблиц не нужны в исходном виде, можно перезаписать на них агрегированные данные. Для того, чтобы посчитать все данные помесячно, нужно добавить столбец `month` в таблицы `calls`, `internet`, `messages`"
   ]
  },
  {
   "cell_type": "code",
   "execution_count": 20,
   "id": "57c051a2",
   "metadata": {},
   "outputs": [],
   "source": [
    "#Добавляем месяцы в таблицы:\n",
    "df_calls['month'] = df_calls['call_date'].dt.month\n",
    "df_internet['month'] = df_internet['session_date'].dt.month\n",
    "df_messages['month'] = df_messages['message_date'].dt.month\n",
    "#Агрегируем звонки, так как мы округляли вверх, то можно суммировать полученные значения:\n",
    "df_calls = df_calls.pivot_table(index=['user_id', 'month'], values='duration', aggfunc=['sum', 'count'])\n",
    "#Агрегируем таблицу с интернет трафиком:\n",
    "df_internet = df_internet.pivot_table(index=['user_id', 'month'], values='mb_used', aggfunc='sum')\n",
    "#Агрегируем таблицу с сообщениями:\n",
    "df_messages = df_messages.pivot_table(index=['user_id', 'month'], values='id', aggfunc='count')\n"
   ]
  },
  {
   "cell_type": "markdown",
   "id": "db3e44fd",
   "metadata": {},
   "source": [
    "Теперь можно перейти к объединению таблиц. Для начала объединяю звонки, интернет-трафик и сообщения в единую таблицу:"
   ]
  },
  {
   "cell_type": "code",
   "execution_count": 21,
   "id": "5f763f30",
   "metadata": {},
   "outputs": [
    {
     "data": {
      "text/html": [
       "<div>\n",
       "<style scoped>\n",
       "    .dataframe tbody tr th:only-of-type {\n",
       "        vertical-align: middle;\n",
       "    }\n",
       "\n",
       "    .dataframe tbody tr th {\n",
       "        vertical-align: top;\n",
       "    }\n",
       "\n",
       "    .dataframe thead th {\n",
       "        text-align: right;\n",
       "    }\n",
       "</style>\n",
       "<table border=\"1\" class=\"dataframe\">\n",
       "  <thead>\n",
       "    <tr style=\"text-align: right;\">\n",
       "      <th></th>\n",
       "      <th>user_id</th>\n",
       "      <th>month</th>\n",
       "      <th>minutes</th>\n",
       "      <th>calls</th>\n",
       "      <th>mb_used</th>\n",
       "      <th>messages_sent</th>\n",
       "    </tr>\n",
       "  </thead>\n",
       "  <tbody>\n",
       "    <tr>\n",
       "      <th>0</th>\n",
       "      <td>1000</td>\n",
       "      <td>5</td>\n",
       "      <td>159.0</td>\n",
       "      <td>22.0</td>\n",
       "      <td>2253.49</td>\n",
       "      <td>22.0</td>\n",
       "    </tr>\n",
       "    <tr>\n",
       "      <th>1</th>\n",
       "      <td>1000</td>\n",
       "      <td>6</td>\n",
       "      <td>172.0</td>\n",
       "      <td>43.0</td>\n",
       "      <td>23233.77</td>\n",
       "      <td>60.0</td>\n",
       "    </tr>\n",
       "    <tr>\n",
       "      <th>2</th>\n",
       "      <td>1000</td>\n",
       "      <td>7</td>\n",
       "      <td>340.0</td>\n",
       "      <td>47.0</td>\n",
       "      <td>14003.64</td>\n",
       "      <td>75.0</td>\n",
       "    </tr>\n",
       "    <tr>\n",
       "      <th>3</th>\n",
       "      <td>1000</td>\n",
       "      <td>8</td>\n",
       "      <td>408.0</td>\n",
       "      <td>52.0</td>\n",
       "      <td>14055.93</td>\n",
       "      <td>81.0</td>\n",
       "    </tr>\n",
       "    <tr>\n",
       "      <th>4</th>\n",
       "      <td>1000</td>\n",
       "      <td>9</td>\n",
       "      <td>466.0</td>\n",
       "      <td>58.0</td>\n",
       "      <td>14568.91</td>\n",
       "      <td>57.0</td>\n",
       "    </tr>\n",
       "  </tbody>\n",
       "</table>\n",
       "</div>"
      ],
      "text/plain": [
       "   user_id  month  minutes  calls   mb_used  messages_sent\n",
       "0     1000      5    159.0   22.0   2253.49           22.0\n",
       "1     1000      6    172.0   43.0  23233.77           60.0\n",
       "2     1000      7    340.0   47.0  14003.64           75.0\n",
       "3     1000      8    408.0   52.0  14055.93           81.0\n",
       "4     1000      9    466.0   58.0  14568.91           57.0"
      ]
     },
     "execution_count": 21,
     "metadata": {},
     "output_type": "execute_result"
    }
   ],
   "source": [
    "join_frames = [df_internet, df_messages]\n",
    "df_full = df_calls.join(join_frames, how='outer').reset_index().fillna(0)\n",
    "df_full.columns = ['user_id', 'month', 'minutes','calls', 'mb_used', 'messages_sent']\n",
    "df_full.head()"
   ]
  },
  {
   "cell_type": "markdown",
   "id": "5f969f66",
   "metadata": {},
   "source": [
    "Чтобы присвоить пользователю тот или иной тариф, стоит проверить, не мог ли один и тот же пользователь использовать два тарифа в течение изучаемого периода:"
   ]
  },
  {
   "cell_type": "code",
   "execution_count": 22,
   "id": "77b7b6aa",
   "metadata": {},
   "outputs": [
    {
     "data": {
      "text/plain": [
       "array([1])"
      ]
     },
     "execution_count": 22,
     "metadata": {},
     "output_type": "execute_result"
    }
   ],
   "source": [
    "df_users.pivot_table(index='user_id', values='tariff', aggfunc='count')['tariff'].unique()"
   ]
  },
  {
   "cell_type": "markdown",
   "id": "4c3b6b5e",
   "metadata": {},
   "source": [
    "Каждому `user_id` присвоен только один тариф. Можно объединить оставшиеся таблицы:"
   ]
  },
  {
   "cell_type": "code",
   "execution_count": 23,
   "id": "84cf8429",
   "metadata": {},
   "outputs": [],
   "source": [
    "#Добавляем название тарифа каждой строке основного фрейма\n",
    "df_full = pd.merge(df_full, df_users, how='left', on='user_id')\n",
    "#Добавляем информацию о тарифе каждой строке основного фрейма\n",
    "df_full = pd.merge(df_full, df_tariffs, how='left', on='tariff')"
   ]
  },
  {
   "cell_type": "markdown",
   "id": "60d812cc",
   "metadata": {},
   "source": [
    "Теперь необходимо создать функцию, которая будет считать выручку от пользователя по каждой строке:"
   ]
  },
  {
   "cell_type": "code",
   "execution_count": 24,
   "id": "fdac1f60",
   "metadata": {},
   "outputs": [],
   "source": [
    "def revenue_counter(raw):\n",
    "    revenue = raw['rub_monthly_fee']\n",
    "    if raw['minutes'] > raw['minutes_included']:\n",
    "        revenue += (raw['minutes'] - raw['minutes_included']) * raw['rub_per_minute']\n",
    "    if raw['messages_sent'] > raw['messages_included']:\n",
    "        revenue += (raw['messages_sent'] - raw['messages_included']) * raw['rub_per_message']\n",
    "    if raw['mb_used'] > raw['mb_per_month_included']:\n",
    "        revenue += np.ceil((raw['mb_used'] - raw['mb_per_month_included']) / 1024) * raw['rub_per_gb']\n",
    "    return revenue"
   ]
  },
  {
   "cell_type": "code",
   "execution_count": 25,
   "id": "cda60ddb",
   "metadata": {},
   "outputs": [],
   "source": [
    "df_full['revenue'] = df_full.apply(revenue_counter, axis=1)"
   ]
  },
  {
   "cell_type": "markdown",
   "id": "489b0d35",
   "metadata": {},
   "source": [
    "Итак, в результате объединений таблиц и дополнительных расчетов мы получили таблицу `df_full`, в которой в разбивке по месяцам есть следующая информация:\n",
    "* объем предоставленных услуг (совокупная округленная длительность звонков, количество звонков, объем интернет-трафика, количество сообщений)\n",
    "* личная информация о пользователе\n",
    "* название и условия тарифа\n",
    "* месячная выручка с пользователя"
   ]
  },
  {
   "cell_type": "markdown",
   "id": "83044431",
   "metadata": {},
   "source": [
    "### Анализ данных"
   ]
  },
  {
   "cell_type": "markdown",
   "id": "40466536",
   "metadata": {},
   "source": [
    "Стоит начать с изучения данных в разрезе каждого тарифа:"
   ]
  },
  {
   "cell_type": "code",
   "execution_count": 26,
   "id": "1ef820a0",
   "metadata": {
    "scrolled": true
   },
   "outputs": [
    {
     "data": {
      "text/html": [
       "<div>\n",
       "<style scoped>\n",
       "    .dataframe tbody tr th:only-of-type {\n",
       "        vertical-align: middle;\n",
       "    }\n",
       "\n",
       "    .dataframe tbody tr th {\n",
       "        vertical-align: top;\n",
       "    }\n",
       "\n",
       "    .dataframe thead th {\n",
       "        text-align: right;\n",
       "    }\n",
       "</style>\n",
       "<table border=\"1\" class=\"dataframe\">\n",
       "  <thead>\n",
       "    <tr style=\"text-align: right;\">\n",
       "      <th></th>\n",
       "      <th>mb_used</th>\n",
       "      <th>messages_sent</th>\n",
       "      <th>minutes</th>\n",
       "      <th>revenue</th>\n",
       "    </tr>\n",
       "    <tr>\n",
       "      <th>tariff</th>\n",
       "      <th></th>\n",
       "      <th></th>\n",
       "      <th></th>\n",
       "      <th></th>\n",
       "    </tr>\n",
       "  </thead>\n",
       "  <tbody>\n",
       "    <tr>\n",
       "      <th>smart</th>\n",
       "      <td>16208</td>\n",
       "      <td>33</td>\n",
       "      <td>417</td>\n",
       "      <td>1289</td>\n",
       "    </tr>\n",
       "    <tr>\n",
       "      <th>ultra</th>\n",
       "      <td>19468</td>\n",
       "      <td>49</td>\n",
       "      <td>526</td>\n",
       "      <td>2070</td>\n",
       "    </tr>\n",
       "  </tbody>\n",
       "</table>\n",
       "</div>"
      ],
      "text/plain": [
       "        mb_used  messages_sent  minutes  revenue\n",
       "tariff                                          \n",
       "smart     16208             33      417     1289\n",
       "ultra     19468             49      526     2070"
      ]
     },
     "execution_count": 26,
     "metadata": {},
     "output_type": "execute_result"
    }
   ],
   "source": [
    "tariff_table = df_full.pivot_table(index='tariff', values=['minutes', 'mb_used', 'messages_sent', 'revenue']).astype('int')\n",
    "tariff_table"
   ]
  },
  {
   "cell_type": "markdown",
   "id": "0e4b73e2",
   "metadata": {},
   "source": [
    "Итак, в среднем пользователи тарифа `ultra` пользуются услугами оператора активнее:"
   ]
  },
  {
   "cell_type": "code",
   "execution_count": 27,
   "id": "cb1274e5",
   "metadata": {
    "scrolled": false
   },
   "outputs": [
    {
     "data": {
      "text/plain": [
       "mb_used          1.201135\n",
       "messages_sent    1.484848\n",
       "minutes          1.261391\n",
       "revenue          1.605896\n",
       "dtype: float64"
      ]
     },
     "execution_count": 27,
     "metadata": {},
     "output_type": "execute_result"
    }
   ],
   "source": [
    "tariff_table.loc['ultra'] / tariff_table.loc['smart']"
   ]
  },
  {
   "cell_type": "markdown",
   "id": "dc23fef3",
   "metadata": {},
   "source": [
    "В среднем на одного пользователя в месяц:\n",
    "* тариф `ultra` приносит на 61% больше выручки по сравнению с тарифом `smart`\n",
    "* с тарифом `ultra` на 48% чаще отправляют сообщения\n",
    "* с тарифом `ultra` используют на 26% больше минут\n",
    "* с тарифом  `ultra` используют на 20% больше интернета"
   ]
  },
  {
   "cell_type": "markdown",
   "id": "e58a88e3",
   "metadata": {},
   "source": [
    "Чтобы автоматизировать построение диаграмм, стоит создать функцию, которая будут отображать гистограммы в зависимости от значения:"
   ]
  },
  {
   "cell_type": "code",
   "execution_count": 28,
   "id": "23e78321",
   "metadata": {},
   "outputs": [
    {
     "data": {
      "image/png": "[encoded data removed]",
      "text/plain": [
       "<Figure size 432x288 with 1 Axes>"
      ]
     },
     "metadata": {
      "needs_background": "light"
     },
     "output_type": "display_data"
    },
    {
     "data": {
      "image/png": "[encoded data removed]",
      "text/plain": [
       "<Figure size 432x288 with 1 Axes>"
      ]
     },
     "metadata": {
      "needs_background": "light"
     },
     "output_type": "display_data"
    },
    {
     "data": {
      "image/png": "[encoded data removed]",
      "text/plain": [
       "<Figure size 432x288 with 1 Axes>"
      ]
     },
     "metadata": {
      "needs_background": "light"
     },
     "output_type": "display_data"
    }
   ],
   "source": [
    "def tariff_hist(value):\n",
    "    pivot_smart = (df_full\n",
    "                   .query('tariff == \"smart\"')\n",
    "                   [['user_id', value]]\n",
    "                  )\n",
    "    pivot_ultra = (df_full\n",
    "                   .query('tariff == \"ultra\"')\n",
    "                   [['user_id', value]]\n",
    "                  )\n",
    "    \n",
    "    hist_smart = pivot_smart.plot(\n",
    "        kind='hist',\n",
    "        y=value,\n",
    "        histtype='step',\n",
    "        bins=10,\n",
    "        linewidth=5,\n",
    "        alpha=0.7,\n",
    "        label='smart'\n",
    "    )\n",
    "\n",
    "    pivot_ultra.plot(\n",
    "        kind='hist',\n",
    "        y=value,\n",
    "        histtype='step',\n",
    "        bins=10,\n",
    "        linewidth=5,\n",
    "        alpha=0.7,\n",
    "        label='ultra',\n",
    "        ax=hist_smart,\n",
    "        grid=True,\n",
    "        legend=True,\n",
    "        title=value\n",
    "    )\n",
    "\n",
    "\n",
    "df_full_values = ['minutes', 'mb_used', 'messages_sent']\n",
    "\n",
    "\n",
    "for df_full_value in df_full_values:\n",
    "    tariff_hist(df_full_value)"
   ]
  },
  {
   "cell_type": "markdown",
   "id": "b9d7c9fa",
   "metadata": {},
   "source": [
    "Описание распределений:\n",
    "* `minutes`: распределение похоже на симметричное. Медиана тарифа `ultra` находится правее относительно тарифа `smart`, а размах выборки значительно больше\n",
    "* `mb_used`: распределение также похоже на симметричное. Медианы тарифа `ultra` и `smart` существенно не различаются, а размах выборки тарифа `ultra` значительно больше\n",
    "* `messages_sent` - распределение не симметрично. Это связано с тем, что пользователи всё реже и реже пользуются сообщениями. Медианы обоих тарифов совпадают, а у тарифа `ultra` более высокое стандартное отклонение\n",
    "\n",
    "Стоит отметить, что пользователей с тарифом `smart` значительно больше. Дополнительные расчёты позволят подтвердить, что у тарифа `ultra` все показатели обладают более высоким стандартным отклонением"
   ]
  },
  {
   "cell_type": "code",
   "execution_count": 29,
   "id": "5498e61e",
   "metadata": {
    "scrolled": true
   },
   "outputs": [
    {
     "name": "stdout",
     "output_type": "stream",
     "text": [
      "smart :\n"
     ]
    },
    {
     "data": {
      "text/html": [
       "<div>\n",
       "<style scoped>\n",
       "    .dataframe tbody tr th:only-of-type {\n",
       "        vertical-align: middle;\n",
       "    }\n",
       "\n",
       "    .dataframe tbody tr th {\n",
       "        vertical-align: top;\n",
       "    }\n",
       "\n",
       "    .dataframe thead th {\n",
       "        text-align: right;\n",
       "    }\n",
       "</style>\n",
       "<table border=\"1\" class=\"dataframe\">\n",
       "  <thead>\n",
       "    <tr style=\"text-align: right;\">\n",
       "      <th></th>\n",
       "      <th>var</th>\n",
       "      <th>std</th>\n",
       "      <th>mean</th>\n",
       "      <th>median</th>\n",
       "    </tr>\n",
       "  </thead>\n",
       "  <tbody>\n",
       "    <tr>\n",
       "      <th>minutes</th>\n",
       "      <td>36219</td>\n",
       "      <td>190</td>\n",
       "      <td>417</td>\n",
       "      <td>422</td>\n",
       "    </tr>\n",
       "    <tr>\n",
       "      <th>mb_used</th>\n",
       "      <td>34462496</td>\n",
       "      <td>5870</td>\n",
       "      <td>16208</td>\n",
       "      <td>16506</td>\n",
       "    </tr>\n",
       "    <tr>\n",
       "      <th>messages_sent</th>\n",
       "      <td>796</td>\n",
       "      <td>28</td>\n",
       "      <td>33</td>\n",
       "      <td>28</td>\n",
       "    </tr>\n",
       "  </tbody>\n",
       "</table>\n",
       "</div>"
      ],
      "text/plain": [
       "                    var   std   mean  median\n",
       "minutes           36219   190    417     422\n",
       "mb_used        34462496  5870  16208   16506\n",
       "messages_sent       796    28     33      28"
      ]
     },
     "metadata": {},
     "output_type": "display_data"
    },
    {
     "name": "stdout",
     "output_type": "stream",
     "text": [
      "ultra :\n"
     ]
    },
    {
     "data": {
      "text/html": [
       "<div>\n",
       "<style scoped>\n",
       "    .dataframe tbody tr th:only-of-type {\n",
       "        vertical-align: middle;\n",
       "    }\n",
       "\n",
       "    .dataframe tbody tr th {\n",
       "        vertical-align: top;\n",
       "    }\n",
       "\n",
       "    .dataframe thead th {\n",
       "        text-align: right;\n",
       "    }\n",
       "</style>\n",
       "<table border=\"1\" class=\"dataframe\">\n",
       "  <thead>\n",
       "    <tr style=\"text-align: right;\">\n",
       "      <th></th>\n",
       "      <th>var</th>\n",
       "      <th>std</th>\n",
       "      <th>mean</th>\n",
       "      <th>median</th>\n",
       "    </tr>\n",
       "  </thead>\n",
       "  <tbody>\n",
       "    <tr>\n",
       "      <th>minutes</th>\n",
       "      <td>100873</td>\n",
       "      <td>317</td>\n",
       "      <td>526</td>\n",
       "      <td>518</td>\n",
       "    </tr>\n",
       "    <tr>\n",
       "      <th>mb_used</th>\n",
       "      <td>101751013</td>\n",
       "      <td>10087</td>\n",
       "      <td>19468</td>\n",
       "      <td>19308</td>\n",
       "    </tr>\n",
       "    <tr>\n",
       "      <th>messages_sent</th>\n",
       "      <td>2285</td>\n",
       "      <td>47</td>\n",
       "      <td>49</td>\n",
       "      <td>38</td>\n",
       "    </tr>\n",
       "  </tbody>\n",
       "</table>\n",
       "</div>"
      ],
      "text/plain": [
       "                     var    std   mean  median\n",
       "minutes           100873    317    526     518\n",
       "mb_used        101751013  10087  19468   19308\n",
       "messages_sent       2285     47     49      38"
      ]
     },
     "metadata": {},
     "output_type": "display_data"
    }
   ],
   "source": [
    "tariff_list = ['smart', 'ultra']\n",
    "\n",
    "\n",
    "\n",
    "def statstic_counter(value, tariff):\n",
    "    var = np.var(df_full.query('tariff == @tariff')[value], ddof=1)\n",
    "    std = var ** .5\n",
    "    mean = df_full.query('tariff == @tariff')[value].mean()\n",
    "    median = df_full.query('tariff == @tariff')[value].median()\n",
    "    stat_list['var'].append(var)\n",
    "    stat_list['std'].append(std)\n",
    "    stat_list['mean'].append(mean)\n",
    "    stat_list['median'].append(median)\n",
    "    \n",
    "for tariff in tariff_list:\n",
    "    stat_list = {'var' : [], 'std' : [], 'mean' : [], 'median' : [] }\n",
    "    for df_full_value in df_full_values:\n",
    "        statstic_counter(df_full_value, tariff)\n",
    "    print(tariff, ':')\n",
    "    display(pd.DataFrame(data=stat_list, index=df_full_values).astype('int'))"
   ]
  },
  {
   "cell_type": "markdown",
   "id": "410cb73f",
   "metadata": {},
   "source": [
    "Гипотеза подтвердилась - у тарифа `ultra` более высокое стандартное отклонение и дисперсия. Эта информация будет полезна для проверки гипотез"
   ]
  },
  {
   "cell_type": "markdown",
   "id": "e9c6273c",
   "metadata": {},
   "source": [
    "### Проверка гипотез"
   ]
  },
  {
   "cell_type": "markdown",
   "id": "388f63ff",
   "metadata": {},
   "source": [
    "#### Средняя выручка пользователей тарифов «Ультра» и «Смарт» различаются"
   ]
  },
  {
   "cell_type": "markdown",
   "id": "8fc64610",
   "metadata": {},
   "source": [
    "Формулируем нулевую и альтернативную гипотезы: \n",
    "* `H₀`: среднемесячная выручка на одного пользователя тарифа `smart` равна аналогичному показателю тарифа `ultra`;\n",
    "* `H₁`: среднемесячная выручка на одного пользователя тарифа `smart` не равна аналогичному показателю тарифа `ultra`;\n",
    "\n",
    "Гипотезу можно сформулировать с помощью кода:\n",
    "* `H₀`: df_full.query('tariff == \"smart\"').mean() == df_full.query('tariff == \"ultra\"').mean()\n",
    "* `H₁`: df_full.query('tariff == \"smart\"').mean() != df_full.query('tariff == \"ultra\"').mean()\n",
    "\n",
    "Так как значения могут различаться в разную сторону, тест будет двусторонним. Стоит учесть, что выборки разные по размеру, а дисперсии отличаются по размеру:"
   ]
  },
  {
   "cell_type": "code",
   "execution_count": 30,
   "id": "31b684d2",
   "metadata": {},
   "outputs": [
    {
     "name": "stdout",
     "output_type": "stream",
     "text": [
      "Размер выборки тарифа smart: 2229 , Размер выборки тарифа ultra: 985\n"
     ]
    }
   ],
   "source": [
    "smart_count = df_full.query('tariff == \"smart\"')['user_id'].count()\n",
    "ultra_count = df_full.query('tariff == \"ultra\"')['user_id'].count()\n",
    "print('Размер выборки тарифа smart:', smart_count,\n",
    "      ', Размер выборки тарифа ultra:', ultra_count)"
   ]
  },
  {
   "cell_type": "code",
   "execution_count": 31,
   "id": "6d860cf0",
   "metadata": {
    "scrolled": true
   },
   "outputs": [
    {
     "name": "stdout",
     "output_type": "stream",
     "text": [
      "p-значение: 4.2606313931076085e-250\n",
      "Отвергаем нулевую гипотезу\n"
     ]
    }
   ],
   "source": [
    "df_smart = df_full.query('tariff == \"smart\"')['revenue']\n",
    "\n",
    "df_ultra = df_full.query('tariff == \"ultra\"')['revenue']\n",
    "\n",
    "alpha = 0.01\n",
    "\n",
    "results = st.ttest_ind(df_smart, df_ultra, equal_var = False)\n",
    "\n",
    "print('p-значение:', results.pvalue)\n",
    "\n",
    "if results.pvalue < alpha:\n",
    "    print(\"Отвергаем нулевую гипотезу\")\n",
    "else:\n",
    "    print(\"Не получилось отвергнуть нулевую гипотезу\")"
   ]
  },
  {
   "cell_type": "markdown",
   "id": "8c986ca7",
   "metadata": {},
   "source": [
    "Можно сформулировать новую гипотезу, при которой тариф ultra отличается от smart в бОльшую сторону: \n",
    "* `H₀`: среднемесячная выручка на одного пользователя тарифа `smart` равна аналогичному показателю тарифа `ultra`;\n",
    "* `H₁`: среднемесячная выручка на одного пользователя тарифа `smart` меньше аналогичного показателя тарифа `ultra`;"
   ]
  },
  {
   "cell_type": "code",
   "execution_count": 32,
   "id": "5554db59",
   "metadata": {
    "scrolled": true
   },
   "outputs": [
    {
     "name": "stdout",
     "output_type": "stream",
     "text": [
      "p-значение: 2.1303156965538042e-250\n",
      "Отвергаем нулевую гипотезу\n"
     ]
    }
   ],
   "source": [
    "print('p-значение:', results.pvalue / 2)\n",
    "\n",
    "if (results.pvalue / 2 < alpha) and (df_ultra.mean() > df_smart.mean()):\n",
    "    print(\"Отвергаем нулевую гипотезу\")\n",
    "else:\n",
    "    print(\"Не получилось отвергнуть нулевую гипотезу\")"
   ]
  },
  {
   "cell_type": "markdown",
   "id": "3bff3e09",
   "metadata": {},
   "source": [
    "Можно утверждать, что вероятность, при которой тариф ultra будет приносить меньше или столько же дохода, что и тариф smart, очень низка"
   ]
  },
  {
   "cell_type": "markdown",
   "id": "cedfcf85",
   "metadata": {},
   "source": [
    "#### Средняя выручка пользователей из Москвы отличается от выручки пользователей из других регионов"
   ]
  },
  {
   "cell_type": "markdown",
   "id": "ff1b68a7",
   "metadata": {},
   "source": [
    "Формулируем нулевую и альтернативную гипотезы: \n",
    "* `H₀`: среднемесячная выручка на одного пользователя в Москве равна аналогичному показателю других городов;\n",
    "* `H₁`: среднемесячная выручка на одного пользователя в Москве не равна аналогичному показателю других городов;\n",
    "\n",
    "Гипотезу можно сформулировать с помощью кода:\n",
    "* `H₀`: df_full.query('city == \"Москва\"').mean() == df_full.query('city != \"Москва\"').mean()\n",
    "* `H₁`: df_full.query('city == \"Москва\"').mean() != df_full.query('city != \"Москва\"').mean()\n",
    "\n",
    "Так как значения могут различаться в разную сторону, тест будет двусторонним:"
   ]
  },
  {
   "cell_type": "code",
   "execution_count": 33,
   "id": "fadf4821",
   "metadata": {},
   "outputs": [
    {
     "name": "stdout",
     "output_type": "stream",
     "text": [
      "p-значение: 0.5440152911670224\n",
      "Не получилось отвергнуть нулевую гипотезу\n"
     ]
    }
   ],
   "source": [
    "df_msk = df_full.query('city == \"Москва\"')['revenue']\n",
    "\n",
    "df_regions = df_full.query('city != \"Москва\"')['revenue']\n",
    "\n",
    "alpha = 0.01\n",
    "\n",
    "results = st.ttest_ind(df_msk, df_regions)\n",
    "\n",
    "print('p-значение:', results.pvalue)\n",
    "\n",
    "if results.pvalue < alpha:\n",
    "    print(\"Отвергаем нулевую гипотезу\")\n",
    "else:\n",
    "    print(\"Не получилось отвергнуть нулевую гипотезу\")"
   ]
  },
  {
   "cell_type": "markdown",
   "id": "7a62b4a5",
   "metadata": {},
   "source": [
    "Не удалось подтвердить гипотезу, при которой доход жителей Москвы отличается от дохода жителей из других регионов"
   ]
  },
  {
   "cell_type": "markdown",
   "id": "ebc4c3f9",
   "metadata": {},
   "source": [
    "### Общие выводы"
   ]
  },
  {
   "cell_type": "markdown",
   "id": "b666d1bf",
   "metadata": {},
   "source": [
    "Выполненные блоки работ:\n",
    "* Выполнена предобработка данных, данные переведены в нужный формат, проведена проверка на наличие аномалий и дубликатов\n",
    "* Данные агрегированы по месяцам и объединены в единую таблицу, посчитана помесячная выручка для каждого пользователя\n",
    "* Проведено исследование: изучено распределение объемов предоставляемых услуг по каждому тарифу, проведен сравнительный анализ между тарифами\n",
    "* Сформулированы и проверены две гипотезы\n",
    "\n",
    "В результате исследования было выявлено:\n",
    "\n",
    "* В среднем в месяц пользователи тарифа `smart` используют 417 минут звонков, отправляют 33 сообщения и тратят 16208 мб интернета\n",
    "* В среднем в месяц пользователи тарифа `ultra` используют 526 минут звонков, отправляют 49 сообщений и тратят 19468 мб интернета\n",
    "* Пользователей тарифа `smart` больше по сравнению с пользователями `ultra` более чем в 2 раза\n",
    "* Замечена более высокая вариативность показателей звонков, сообщений и интернета в тарифе `ultra`. Замечена более высокая дисперсия и стандартное отклонение по сравнению с тарифом `smart`\n",
    "\n",
    "В результате проверки гипотез было выявлено:\n",
    "\n",
    "* Средний доход на пользователя тарифа `ultra` с высокой долей вероятности не равен аналогичному показателю тарифа `smart`\n",
    "* Средний доход на пользователя тарифа `ultra` с высокой долей вероятности выше аналогичного показателя тарифа `smart`\n",
    "* Не удалось опровергнуть гипотезу о том, что средняя доходность на одного пользователя в Москве отличается от аналогичного показателя в регионах\n",
    "\n",
    "Самый выгодный тариф:\n",
    "* С точки зрения удельной выручки тариф `ultra` можно считать более выгодным, ведь среднемесячная выручка этого тарифа выше по сравнению с тарифом `smart` более чем на 60%, а объём предоставляемых услуг - всего на 26% по звонкам, 48% по сообщениям и 20% по интернет-трафику. Для более детальной оценки рентабельности стоит оценить расходы на предоставление услуг клиентам тарифов\n",
    "* Пользователи тарифа smart более выгодны с точки зрения абсолютной выручки - пользователей, которые пользуются тарифом `smart` больше более чем в 2 раза\n",
    "\n",
    "Рекомендации:\n",
    "* Для более точной оценки выгоды того или иного тарифа рекомендуем также оценить сроки жизни клиентов по каждому тарифу и оценить сопутствующие расходы на привлечение и удержание клиентов\n",
    "* Для оценки рентабельности стоит также оценить расходы компании на предоставление услуг по тарифам"
   ]
  }
 ],
 "metadata": {
  "ExecuteTimeLog": [
   {
    "duration": 365,
    "start_time": "2022-03-28T20:16:48.572Z"
   },
   {
    "duration": 152,
    "start_time": "2022-03-28T20:17:18.161Z"
   },
   {
    "duration": 128,
    "start_time": "2022-03-28T20:18:02.307Z"
   },
   {
    "duration": 82,
    "start_time": "2022-03-28T20:18:42.197Z"
   },
   {
    "duration": 28,
    "start_time": "2022-03-28T20:19:26.788Z"
   },
   {
    "duration": 62,
    "start_time": "2022-03-28T20:20:18.199Z"
   },
   {
    "duration": 26,
    "start_time": "2022-03-28T20:20:21.246Z"
   },
   {
    "duration": 26,
    "start_time": "2022-03-28T20:20:32.397Z"
   },
   {
    "duration": 153,
    "start_time": "2022-03-28T20:24:19.648Z"
   },
   {
    "duration": 142,
    "start_time": "2022-03-28T20:24:44.721Z"
   },
   {
    "duration": 154,
    "start_time": "2022-03-28T20:25:45.024Z"
   },
   {
    "duration": 159,
    "start_time": "2022-03-28T20:25:49.623Z"
   },
   {
    "duration": 142,
    "start_time": "2022-03-28T20:26:19.191Z"
   },
   {
    "duration": 97,
    "start_time": "2022-03-28T20:26:29.708Z"
   },
   {
    "duration": 18,
    "start_time": "2022-03-28T20:26:41.674Z"
   },
   {
    "duration": 28,
    "start_time": "2022-03-28T20:26:57.660Z"
   },
   {
    "duration": 26,
    "start_time": "2022-03-28T20:44:07.245Z"
   },
   {
    "duration": 364,
    "start_time": "2022-03-28T20:46:07.701Z"
   },
   {
    "duration": 25,
    "start_time": "2022-03-28T20:46:24.193Z"
   },
   {
    "duration": 27,
    "start_time": "2022-03-28T20:47:26.519Z"
   },
   {
    "duration": 46,
    "start_time": "2022-03-28T20:48:08.978Z"
   },
   {
    "duration": 8,
    "start_time": "2022-03-28T20:55:43.905Z"
   },
   {
    "duration": 2,
    "start_time": "2022-03-28T20:55:56.867Z"
   },
   {
    "duration": 10,
    "start_time": "2022-03-28T20:56:00.599Z"
   },
   {
    "duration": 8,
    "start_time": "2022-03-28T20:56:17.386Z"
   },
   {
    "duration": 7,
    "start_time": "2022-03-28T20:59:10.739Z"
   },
   {
    "duration": 8,
    "start_time": "2022-03-28T20:59:44.387Z"
   },
   {
    "duration": 8,
    "start_time": "2022-03-28T21:01:06.580Z"
   },
   {
    "duration": 7,
    "start_time": "2022-03-28T21:03:58.188Z"
   },
   {
    "duration": 3,
    "start_time": "2022-03-28T21:04:02.020Z"
   },
   {
    "duration": 4,
    "start_time": "2022-03-28T21:04:06.771Z"
   },
   {
    "duration": 10,
    "start_time": "2022-03-28T21:04:18.325Z"
   },
   {
    "duration": 11,
    "start_time": "2022-03-28T21:04:28.689Z"
   },
   {
    "duration": 10,
    "start_time": "2022-03-28T21:04:43.967Z"
   },
   {
    "duration": 4,
    "start_time": "2022-03-28T21:05:36.433Z"
   },
   {
    "duration": 27,
    "start_time": "2022-03-28T21:05:54.255Z"
   },
   {
    "duration": 23,
    "start_time": "2022-03-28T21:07:14.093Z"
   },
   {
    "duration": 22,
    "start_time": "2022-03-28T21:07:29.191Z"
   },
   {
    "duration": 30,
    "start_time": "2022-03-28T21:07:35.784Z"
   },
   {
    "duration": 13,
    "start_time": "2022-03-28T21:07:49.428Z"
   },
   {
    "duration": 7,
    "start_time": "2022-03-28T21:08:01.481Z"
   },
   {
    "duration": 24,
    "start_time": "2022-03-28T21:08:22.555Z"
   },
   {
    "duration": 23,
    "start_time": "2022-03-28T21:08:27.357Z"
   },
   {
    "duration": 44,
    "start_time": "2022-03-28T21:08:50.981Z"
   },
   {
    "duration": 28,
    "start_time": "2022-03-28T21:09:20.117Z"
   },
   {
    "duration": 7,
    "start_time": "2022-03-28T21:16:01.438Z"
   },
   {
    "duration": 8,
    "start_time": "2022-03-28T21:17:01.338Z"
   },
   {
    "duration": 20,
    "start_time": "2022-03-28T21:17:04.996Z"
   },
   {
    "duration": 7,
    "start_time": "2022-03-28T21:17:19.564Z"
   },
   {
    "duration": 60,
    "start_time": "2022-03-28T21:17:32.227Z"
   },
   {
    "duration": 13,
    "start_time": "2022-03-28T21:17:38.525Z"
   },
   {
    "duration": 8,
    "start_time": "2022-03-28T21:17:42.522Z"
   },
   {
    "duration": 8,
    "start_time": "2022-03-28T21:18:22.178Z"
   },
   {
    "duration": 136,
    "start_time": "2022-03-28T21:19:52.571Z"
   },
   {
    "duration": 11,
    "start_time": "2022-03-28T21:23:19.147Z"
   },
   {
    "duration": 11,
    "start_time": "2022-03-28T21:26:10.291Z"
   },
   {
    "duration": 10,
    "start_time": "2022-03-28T21:29:15.763Z"
   },
   {
    "duration": 43,
    "start_time": "2022-03-28T21:30:00.559Z"
   },
   {
    "duration": 43,
    "start_time": "2022-03-28T21:31:11.999Z"
   },
   {
    "duration": 41,
    "start_time": "2022-03-28T21:37:21.158Z"
   },
   {
    "duration": 10,
    "start_time": "2022-03-28T21:37:25.889Z"
   },
   {
    "duration": 16,
    "start_time": "2022-03-28T21:39:31.990Z"
   },
   {
    "duration": 10,
    "start_time": "2022-03-28T21:39:44.594Z"
   },
   {
    "duration": 14,
    "start_time": "2022-03-28T21:40:02.687Z"
   },
   {
    "duration": 14,
    "start_time": "2022-03-28T21:40:21.030Z"
   },
   {
    "duration": 1843,
    "start_time": "2022-03-28T21:42:29.843Z"
   },
   {
    "duration": 1513,
    "start_time": "2022-03-28T21:42:40.920Z"
   },
   {
    "duration": 27,
    "start_time": "2022-03-28T21:43:03.101Z"
   },
   {
    "duration": 15,
    "start_time": "2022-03-28T21:43:29.539Z"
   },
   {
    "duration": 9,
    "start_time": "2022-03-28T21:44:15.209Z"
   },
   {
    "duration": 9,
    "start_time": "2022-03-28T21:44:25.850Z"
   },
   {
    "duration": 10,
    "start_time": "2022-03-28T21:51:20.471Z"
   },
   {
    "duration": 15,
    "start_time": "2022-03-28T21:51:29.984Z"
   },
   {
    "duration": 11,
    "start_time": "2022-03-28T21:54:54.840Z"
   },
   {
    "duration": 10,
    "start_time": "2022-03-28T21:55:12.297Z"
   },
   {
    "duration": 4,
    "start_time": "2022-03-28T21:56:21.001Z"
   },
   {
    "duration": 10,
    "start_time": "2022-03-28T22:06:18.708Z"
   },
   {
    "duration": 2,
    "start_time": "2022-03-28T22:06:38.762Z"
   },
   {
    "duration": 393,
    "start_time": "2022-03-28T22:06:38.766Z"
   },
   {
    "duration": 46,
    "start_time": "2022-03-28T22:06:39.161Z"
   },
   {
    "duration": 4,
    "start_time": "2022-03-28T22:06:39.208Z"
   },
   {
    "duration": 46,
    "start_time": "2022-03-28T22:06:39.214Z"
   },
   {
    "duration": 8,
    "start_time": "2022-03-28T22:06:39.262Z"
   },
   {
    "duration": 29,
    "start_time": "2022-03-28T22:06:39.272Z"
   },
   {
    "duration": 52,
    "start_time": "2022-03-28T22:06:39.303Z"
   },
   {
    "duration": 7,
    "start_time": "2022-03-28T22:06:39.357Z"
   },
   {
    "duration": 23,
    "start_time": "2022-03-28T22:06:39.365Z"
   },
   {
    "duration": 7,
    "start_time": "2022-03-28T22:06:39.390Z"
   },
   {
    "duration": 11,
    "start_time": "2022-03-28T22:06:39.398Z"
   },
   {
    "duration": 10,
    "start_time": "2022-03-28T22:06:39.432Z"
   },
   {
    "duration": 9,
    "start_time": "2022-03-28T22:07:02.514Z"
   },
   {
    "duration": 9,
    "start_time": "2022-03-28T22:07:18.029Z"
   },
   {
    "duration": 15,
    "start_time": "2022-03-28T22:07:21.619Z"
   },
   {
    "duration": 1880,
    "start_time": "2022-03-28T22:07:46.773Z"
   },
   {
    "duration": 4,
    "start_time": "2022-03-28T22:08:21.336Z"
   },
   {
    "duration": 9,
    "start_time": "2022-03-28T22:08:43.850Z"
   },
   {
    "duration": 12,
    "start_time": "2022-03-28T22:08:49.328Z"
   },
   {
    "duration": 10,
    "start_time": "2022-03-28T22:09:22.439Z"
   },
   {
    "duration": 4,
    "start_time": "2022-03-28T22:11:45.864Z"
   },
   {
    "duration": 14,
    "start_time": "2022-03-28T22:16:10.201Z"
   },
   {
    "duration": 13,
    "start_time": "2022-03-28T22:16:27.058Z"
   },
   {
    "duration": 2,
    "start_time": "2022-03-28T22:16:34.133Z"
   },
   {
    "duration": 369,
    "start_time": "2022-03-28T22:16:34.137Z"
   },
   {
    "duration": 44,
    "start_time": "2022-03-28T22:16:34.507Z"
   },
   {
    "duration": 3,
    "start_time": "2022-03-28T22:16:34.553Z"
   },
   {
    "duration": 44,
    "start_time": "2022-03-28T22:16:34.558Z"
   },
   {
    "duration": 8,
    "start_time": "2022-03-28T22:16:34.603Z"
   },
   {
    "duration": 45,
    "start_time": "2022-03-28T22:16:34.612Z"
   },
   {
    "duration": 26,
    "start_time": "2022-03-28T22:16:34.658Z"
   },
   {
    "duration": 6,
    "start_time": "2022-03-28T22:16:34.686Z"
   },
   {
    "duration": 45,
    "start_time": "2022-03-28T22:16:34.694Z"
   },
   {
    "duration": 7,
    "start_time": "2022-03-28T22:16:34.740Z"
   },
   {
    "duration": 14,
    "start_time": "2022-03-28T22:16:34.748Z"
   },
   {
    "duration": 13,
    "start_time": "2022-03-28T22:16:34.763Z"
   },
   {
    "duration": 9,
    "start_time": "2022-03-28T22:30:05.050Z"
   },
   {
    "duration": 11,
    "start_time": "2022-03-28T22:33:16.606Z"
   },
   {
    "duration": 24,
    "start_time": "2022-03-28T22:33:44.224Z"
   },
   {
    "duration": 1660,
    "start_time": "2022-03-28T22:35:14.669Z"
   },
   {
    "duration": 3,
    "start_time": "2022-03-28T22:35:30.741Z"
   },
   {
    "duration": 385,
    "start_time": "2022-03-28T22:35:30.746Z"
   },
   {
    "duration": 45,
    "start_time": "2022-03-28T22:35:31.133Z"
   },
   {
    "duration": 32,
    "start_time": "2022-03-28T22:35:31.180Z"
   },
   {
    "duration": 58,
    "start_time": "2022-03-28T22:35:31.214Z"
   },
   {
    "duration": 8,
    "start_time": "2022-03-28T22:35:31.274Z"
   },
   {
    "duration": 50,
    "start_time": "2022-03-28T22:35:31.283Z"
   },
   {
    "duration": 27,
    "start_time": "2022-03-28T22:35:31.335Z"
   },
   {
    "duration": 9,
    "start_time": "2022-03-28T22:35:31.364Z"
   },
   {
    "duration": 38,
    "start_time": "2022-03-28T22:35:31.375Z"
   },
   {
    "duration": 7,
    "start_time": "2022-03-28T22:35:31.415Z"
   },
   {
    "duration": 21,
    "start_time": "2022-03-28T22:35:31.424Z"
   },
   {
    "duration": 17,
    "start_time": "2022-03-28T22:35:31.446Z"
   },
   {
    "duration": 103,
    "start_time": "2022-03-28T22:35:31.465Z"
   },
   {
    "duration": 103,
    "start_time": "2022-03-28T22:35:43.757Z"
   },
   {
    "duration": 24,
    "start_time": "2022-03-28T22:35:52.346Z"
   },
   {
    "duration": 31,
    "start_time": "2022-03-28T22:36:17.021Z"
   },
   {
    "duration": 3,
    "start_time": "2022-03-28T22:36:57.993Z"
   },
   {
    "duration": 361,
    "start_time": "2022-03-28T22:36:57.998Z"
   },
   {
    "duration": 44,
    "start_time": "2022-03-28T22:36:58.360Z"
   },
   {
    "duration": 31,
    "start_time": "2022-03-28T22:36:58.405Z"
   },
   {
    "duration": 43,
    "start_time": "2022-03-28T22:36:58.438Z"
   },
   {
    "duration": 7,
    "start_time": "2022-03-28T22:36:58.483Z"
   },
   {
    "duration": 46,
    "start_time": "2022-03-28T22:36:58.491Z"
   },
   {
    "duration": 27,
    "start_time": "2022-03-28T22:36:58.538Z"
   },
   {
    "duration": 9,
    "start_time": "2022-03-28T22:36:58.567Z"
   },
   {
    "duration": 21,
    "start_time": "2022-03-28T22:36:58.578Z"
   },
   {
    "duration": 7,
    "start_time": "2022-03-28T22:36:58.601Z"
   },
   {
    "duration": 11,
    "start_time": "2022-03-28T22:36:58.633Z"
   },
   {
    "duration": 21,
    "start_time": "2022-03-28T22:36:58.645Z"
   },
   {
    "duration": 31,
    "start_time": "2022-03-28T22:36:58.668Z"
   },
   {
    "duration": 23,
    "start_time": "2022-03-28T22:39:45.867Z"
   },
   {
    "duration": 18,
    "start_time": "2022-03-28T22:39:54.831Z"
   },
   {
    "duration": 8,
    "start_time": "2022-03-28T22:40:00.590Z"
   },
   {
    "duration": 4,
    "start_time": "2022-03-28T22:40:18.838Z"
   },
   {
    "duration": 10,
    "start_time": "2022-03-28T22:40:30.595Z"
   },
   {
    "duration": 21,
    "start_time": "2022-03-28T22:40:47.248Z"
   },
   {
    "duration": 27,
    "start_time": "2022-03-28T22:40:58.365Z"
   },
   {
    "duration": 42,
    "start_time": "2022-03-28T22:41:18.592Z"
   },
   {
    "duration": 44,
    "start_time": "2022-03-28T22:41:27.114Z"
   },
   {
    "duration": 44,
    "start_time": "2022-03-28T22:41:35.171Z"
   },
   {
    "duration": 42,
    "start_time": "2022-03-28T22:42:15.484Z"
   },
   {
    "duration": 65,
    "start_time": "2022-03-29T09:29:09.480Z"
   },
   {
    "duration": 418,
    "start_time": "2022-03-29T09:29:13.653Z"
   },
   {
    "duration": 444,
    "start_time": "2022-03-29T09:29:14.073Z"
   },
   {
    "duration": 72,
    "start_time": "2022-03-29T09:29:14.518Z"
   },
   {
    "duration": 55,
    "start_time": "2022-03-29T09:29:14.593Z"
   },
   {
    "duration": 85,
    "start_time": "2022-03-29T09:29:14.651Z"
   },
   {
    "duration": 14,
    "start_time": "2022-03-29T09:29:14.739Z"
   },
   {
    "duration": 33,
    "start_time": "2022-03-29T09:29:14.755Z"
   },
   {
    "duration": 64,
    "start_time": "2022-03-29T09:29:14.790Z"
   },
   {
    "duration": 9,
    "start_time": "2022-03-29T09:29:14.856Z"
   },
   {
    "duration": 27,
    "start_time": "2022-03-29T09:29:14.868Z"
   },
   {
    "duration": 9,
    "start_time": "2022-03-29T09:29:14.898Z"
   },
   {
    "duration": 38,
    "start_time": "2022-03-29T09:29:14.909Z"
   },
   {
    "duration": 17,
    "start_time": "2022-03-29T09:29:14.950Z"
   },
   {
    "duration": 27,
    "start_time": "2022-03-29T09:29:14.969Z"
   },
   {
    "duration": 85,
    "start_time": "2022-03-29T09:29:14.997Z"
   },
   {
    "duration": 31,
    "start_time": "2022-03-29T09:29:24.720Z"
   },
   {
    "duration": 172,
    "start_time": "2022-03-29T09:30:35.811Z"
   },
   {
    "duration": 23,
    "start_time": "2022-03-29T09:32:34.113Z"
   },
   {
    "duration": 67,
    "start_time": "2022-03-29T09:38:12.004Z"
   },
   {
    "duration": 22,
    "start_time": "2022-03-29T09:38:18.703Z"
   },
   {
    "duration": 21,
    "start_time": "2022-03-29T09:39:43.593Z"
   },
   {
    "duration": 158,
    "start_time": "2022-03-29T09:39:50.090Z"
   },
   {
    "duration": 150,
    "start_time": "2022-03-29T09:40:10.327Z"
   },
   {
    "duration": 158,
    "start_time": "2022-03-29T09:40:14.372Z"
   },
   {
    "duration": 103,
    "start_time": "2022-03-29T09:41:22.643Z"
   },
   {
    "duration": 72,
    "start_time": "2022-03-29T09:45:44.796Z"
   },
   {
    "duration": 71,
    "start_time": "2022-03-29T13:24:52.102Z"
   },
   {
    "duration": 9,
    "start_time": "2022-03-29T13:26:04.491Z"
   },
   {
    "duration": 525,
    "start_time": "2022-03-29T13:26:14.675Z"
   },
   {
    "duration": 526,
    "start_time": "2022-03-29T13:26:15.203Z"
   },
   {
    "duration": 84,
    "start_time": "2022-03-29T13:26:15.731Z"
   },
   {
    "duration": 267,
    "start_time": "2022-03-29T13:26:15.817Z"
   },
   {
    "duration": 63,
    "start_time": "2022-03-29T13:26:16.087Z"
   },
   {
    "duration": 34,
    "start_time": "2022-03-29T13:26:16.152Z"
   },
   {
    "duration": 201,
    "start_time": "2022-03-29T13:26:16.188Z"
   },
   {
    "duration": 43,
    "start_time": "2022-03-29T13:26:16.391Z"
   },
   {
    "duration": 11,
    "start_time": "2022-03-29T13:26:16.437Z"
   },
   {
    "duration": 154,
    "start_time": "2022-03-29T13:26:16.451Z"
   },
   {
    "duration": 12,
    "start_time": "2022-03-29T13:26:16.607Z"
   },
   {
    "duration": 23,
    "start_time": "2022-03-29T13:26:16.621Z"
   },
   {
    "duration": 47,
    "start_time": "2022-03-29T13:26:16.646Z"
   },
   {
    "duration": 35,
    "start_time": "2022-03-29T13:26:16.697Z"
   },
   {
    "duration": 52,
    "start_time": "2022-03-29T13:26:16.734Z"
   },
   {
    "duration": 31,
    "start_time": "2022-03-29T13:26:16.788Z"
   },
   {
    "duration": 71,
    "start_time": "2022-03-29T13:32:45.341Z"
   },
   {
    "duration": 76,
    "start_time": "2022-03-29T13:32:56.018Z"
   },
   {
    "duration": 69,
    "start_time": "2022-03-29T13:33:06.016Z"
   },
   {
    "duration": 1973,
    "start_time": "2022-03-29T13:44:40.831Z"
   },
   {
    "duration": 5,
    "start_time": "2022-03-29T13:44:54.044Z"
   },
   {
    "duration": 509,
    "start_time": "2022-03-29T13:44:54.052Z"
   },
   {
    "duration": 64,
    "start_time": "2022-03-29T13:44:54.564Z"
   },
   {
    "duration": 234,
    "start_time": "2022-03-29T13:44:54.631Z"
   },
   {
    "duration": 72,
    "start_time": "2022-03-29T13:44:54.868Z"
   },
   {
    "duration": 23,
    "start_time": "2022-03-29T13:44:54.942Z"
   },
   {
    "duration": 281,
    "start_time": "2022-03-29T13:44:54.967Z"
   },
   {
    "duration": 55,
    "start_time": "2022-03-29T13:44:55.250Z"
   },
   {
    "duration": 11,
    "start_time": "2022-03-29T13:44:55.307Z"
   },
   {
    "duration": 154,
    "start_time": "2022-03-29T13:44:55.321Z"
   },
   {
    "duration": 17,
    "start_time": "2022-03-29T13:44:55.478Z"
   },
   {
    "duration": 27,
    "start_time": "2022-03-29T13:44:55.497Z"
   },
   {
    "duration": 37,
    "start_time": "2022-03-29T13:44:55.527Z"
   },
   {
    "duration": 49,
    "start_time": "2022-03-29T13:44:55.568Z"
   },
   {
    "duration": 25,
    "start_time": "2022-03-29T13:44:55.619Z"
   },
   {
    "duration": 1712,
    "start_time": "2022-03-29T13:44:55.646Z"
   },
   {
    "duration": 199,
    "start_time": "2022-03-29T13:46:49.714Z"
   },
   {
    "duration": 84,
    "start_time": "2022-03-29T13:48:41.143Z"
   },
   {
    "duration": 168,
    "start_time": "2022-03-29T13:54:47.440Z"
   },
   {
    "duration": 71,
    "start_time": "2022-03-29T14:09:36.923Z"
   },
   {
    "duration": 535,
    "start_time": "2022-03-29T14:09:51.769Z"
   },
   {
    "duration": 529,
    "start_time": "2022-03-29T14:09:52.307Z"
   },
   {
    "duration": 82,
    "start_time": "2022-03-29T14:09:52.839Z"
   },
   {
    "duration": 267,
    "start_time": "2022-03-29T14:09:52.923Z"
   },
   {
    "duration": 64,
    "start_time": "2022-03-29T14:09:53.193Z"
   },
   {
    "duration": 34,
    "start_time": "2022-03-29T14:09:53.259Z"
   },
   {
    "duration": 195,
    "start_time": "2022-03-29T14:09:53.296Z"
   },
   {
    "duration": 40,
    "start_time": "2022-03-29T14:09:53.494Z"
   },
   {
    "duration": 10,
    "start_time": "2022-03-29T14:09:53.536Z"
   },
   {
    "duration": 151,
    "start_time": "2022-03-29T14:09:53.548Z"
   },
   {
    "duration": 12,
    "start_time": "2022-03-29T14:09:53.702Z"
   },
   {
    "duration": 33,
    "start_time": "2022-03-29T14:09:53.716Z"
   },
   {
    "duration": 57,
    "start_time": "2022-03-29T14:09:53.752Z"
   },
   {
    "duration": 49,
    "start_time": "2022-03-29T14:09:53.813Z"
   },
   {
    "duration": 27,
    "start_time": "2022-03-29T14:09:53.883Z"
   },
   {
    "duration": 209,
    "start_time": "2022-03-29T14:09:53.913Z"
   },
   {
    "duration": 2151,
    "start_time": "2022-03-29T14:10:52.900Z"
   },
   {
    "duration": 1743,
    "start_time": "2022-03-29T14:11:58.587Z"
   },
   {
    "duration": 2142,
    "start_time": "2022-03-29T14:12:17.981Z"
   },
   {
    "duration": 1754,
    "start_time": "2022-03-29T14:13:10.900Z"
   },
   {
    "duration": 4,
    "start_time": "2022-03-29T14:13:18.273Z"
   },
   {
    "duration": 722,
    "start_time": "2022-03-29T14:13:18.281Z"
   },
   {
    "duration": 69,
    "start_time": "2022-03-29T14:13:19.005Z"
   },
   {
    "duration": 249,
    "start_time": "2022-03-29T14:13:19.085Z"
   },
   {
    "duration": 78,
    "start_time": "2022-03-29T14:13:19.336Z"
   },
   {
    "duration": 12,
    "start_time": "2022-03-29T14:13:19.416Z"
   },
   {
    "duration": 205,
    "start_time": "2022-03-29T14:13:19.431Z"
   },
   {
    "duration": 62,
    "start_time": "2022-03-29T14:13:19.638Z"
   },
   {
    "duration": 12,
    "start_time": "2022-03-29T14:13:19.704Z"
   },
   {
    "duration": 153,
    "start_time": "2022-03-29T14:13:19.717Z"
   },
   {
    "duration": 23,
    "start_time": "2022-03-29T14:13:19.872Z"
   },
   {
    "duration": 55,
    "start_time": "2022-03-29T14:13:19.897Z"
   },
   {
    "duration": 77,
    "start_time": "2022-03-29T14:13:19.954Z"
   },
   {
    "duration": 64,
    "start_time": "2022-03-29T14:13:20.033Z"
   },
   {
    "duration": 68,
    "start_time": "2022-03-29T14:13:20.099Z"
   },
   {
    "duration": 212,
    "start_time": "2022-03-29T14:13:20.170Z"
   },
   {
    "duration": 2020,
    "start_time": "2022-03-29T14:16:05.989Z"
   },
   {
    "duration": 4,
    "start_time": "2022-03-29T14:16:20.747Z"
   },
   {
    "duration": 523,
    "start_time": "2022-03-29T14:16:20.755Z"
   },
   {
    "duration": 67,
    "start_time": "2022-03-29T14:16:21.280Z"
   },
   {
    "duration": 258,
    "start_time": "2022-03-29T14:16:21.350Z"
   },
   {
    "duration": 79,
    "start_time": "2022-03-29T14:16:21.613Z"
   },
   {
    "duration": 14,
    "start_time": "2022-03-29T14:16:21.695Z"
   },
   {
    "duration": 195,
    "start_time": "2022-03-29T14:16:21.711Z"
   },
   {
    "duration": 40,
    "start_time": "2022-03-29T14:16:21.909Z"
   },
   {
    "duration": 34,
    "start_time": "2022-03-29T14:16:21.952Z"
   },
   {
    "duration": 130,
    "start_time": "2022-03-29T14:16:21.989Z"
   },
   {
    "duration": 12,
    "start_time": "2022-03-29T14:16:22.121Z"
   },
   {
    "duration": 18,
    "start_time": "2022-03-29T14:16:22.135Z"
   },
   {
    "duration": 71,
    "start_time": "2022-03-29T14:16:22.155Z"
   },
   {
    "duration": 56,
    "start_time": "2022-03-29T14:16:22.231Z"
   },
   {
    "duration": 27,
    "start_time": "2022-03-29T14:16:22.289Z"
   },
   {
    "duration": 200,
    "start_time": "2022-03-29T14:16:22.318Z"
   },
   {
    "duration": 5,
    "start_time": "2022-03-29T14:16:43.529Z"
   },
   {
    "duration": 544,
    "start_time": "2022-03-29T14:16:43.537Z"
   },
   {
    "duration": 64,
    "start_time": "2022-03-29T14:16:44.084Z"
   },
   {
    "duration": 248,
    "start_time": "2022-03-29T14:16:44.150Z"
   },
   {
    "duration": 59,
    "start_time": "2022-03-29T14:16:44.401Z"
   },
   {
    "duration": 25,
    "start_time": "2022-03-29T14:16:44.462Z"
   },
   {
    "duration": 195,
    "start_time": "2022-03-29T14:16:44.489Z"
   },
   {
    "duration": 39,
    "start_time": "2022-03-29T14:16:44.687Z"
   },
   {
    "duration": 11,
    "start_time": "2022-03-29T14:16:44.729Z"
   },
   {
    "duration": 149,
    "start_time": "2022-03-29T14:16:44.743Z"
   },
   {
    "duration": 12,
    "start_time": "2022-03-29T14:16:44.894Z"
   },
   {
    "duration": 23,
    "start_time": "2022-03-29T14:16:44.908Z"
   },
   {
    "duration": 31,
    "start_time": "2022-03-29T14:16:44.933Z"
   },
   {
    "duration": 35,
    "start_time": "2022-03-29T14:16:44.986Z"
   },
   {
    "duration": 26,
    "start_time": "2022-03-29T14:16:45.024Z"
   },
   {
    "duration": 174,
    "start_time": "2022-03-29T14:16:45.085Z"
   },
   {
    "duration": 14,
    "start_time": "2022-03-29T14:17:44.855Z"
   },
   {
    "duration": 20,
    "start_time": "2022-03-29T14:18:30.835Z"
   },
   {
    "duration": 85,
    "start_time": "2022-03-29T14:28:27.112Z"
   },
   {
    "duration": 39,
    "start_time": "2022-03-29T14:29:28.252Z"
   },
   {
    "duration": 38,
    "start_time": "2022-03-29T14:30:18.283Z"
   },
   {
    "duration": 39,
    "start_time": "2022-03-29T14:35:22.522Z"
   },
   {
    "duration": 100,
    "start_time": "2022-03-29T14:39:20.923Z"
   },
   {
    "duration": 108,
    "start_time": "2022-03-29T14:42:08.436Z"
   },
   {
    "duration": 114,
    "start_time": "2022-03-29T14:42:16.831Z"
   },
   {
    "duration": 49,
    "start_time": "2022-03-29T14:42:23.848Z"
   },
   {
    "duration": 55,
    "start_time": "2022-03-29T14:42:35.701Z"
   },
   {
    "duration": 53,
    "start_time": "2022-03-29T14:44:42.216Z"
   },
   {
    "duration": 53,
    "start_time": "2022-03-29T14:45:19.587Z"
   },
   {
    "duration": 48,
    "start_time": "2022-03-29T14:45:36.469Z"
   },
   {
    "duration": 81,
    "start_time": "2022-03-29T14:47:09.035Z"
   },
   {
    "duration": 10,
    "start_time": "2022-03-29T14:53:07.073Z"
   },
   {
    "duration": 18,
    "start_time": "2022-03-29T14:53:54.871Z"
   },
   {
    "duration": 15,
    "start_time": "2022-03-29T14:55:36.184Z"
   },
   {
    "duration": 23,
    "start_time": "2022-03-29T14:56:27.869Z"
   },
   {
    "duration": 19,
    "start_time": "2022-03-29T14:58:35.561Z"
   },
   {
    "duration": 20,
    "start_time": "2022-03-29T14:58:55.869Z"
   },
   {
    "duration": 24,
    "start_time": "2022-03-29T14:59:13.101Z"
   },
   {
    "duration": 23,
    "start_time": "2022-03-29T14:59:37.347Z"
   },
   {
    "duration": 17,
    "start_time": "2022-03-29T15:00:49.707Z"
   },
   {
    "duration": 20,
    "start_time": "2022-03-29T15:01:06.315Z"
   },
   {
    "duration": 55,
    "start_time": "2022-03-29T15:20:46.048Z"
   },
   {
    "duration": 1714,
    "start_time": "2022-03-29T15:20:48.459Z"
   },
   {
    "duration": 4,
    "start_time": "2022-03-29T15:21:00.829Z"
   },
   {
    "duration": 692,
    "start_time": "2022-03-29T15:21:00.837Z"
   },
   {
    "duration": 65,
    "start_time": "2022-03-29T15:21:01.532Z"
   },
   {
    "duration": 211,
    "start_time": "2022-03-29T15:21:01.600Z"
   },
   {
    "duration": 78,
    "start_time": "2022-03-29T15:21:01.814Z"
   },
   {
    "duration": 13,
    "start_time": "2022-03-29T15:21:01.894Z"
   },
   {
    "duration": 209,
    "start_time": "2022-03-29T15:21:01.910Z"
   },
   {
    "duration": 44,
    "start_time": "2022-03-29T15:21:02.122Z"
   },
   {
    "duration": 22,
    "start_time": "2022-03-29T15:21:02.184Z"
   },
   {
    "duration": 152,
    "start_time": "2022-03-29T15:21:02.209Z"
   },
   {
    "duration": 12,
    "start_time": "2022-03-29T15:21:02.365Z"
   },
   {
    "duration": 40,
    "start_time": "2022-03-29T15:21:02.385Z"
   },
   {
    "duration": 68,
    "start_time": "2022-03-29T15:21:02.428Z"
   },
   {
    "duration": 117,
    "start_time": "2022-03-29T15:21:02.499Z"
   },
   {
    "duration": 38,
    "start_time": "2022-03-29T15:21:02.618Z"
   },
   {
    "duration": 177,
    "start_time": "2022-03-29T15:21:02.658Z"
   },
   {
    "duration": 65,
    "start_time": "2022-03-29T15:21:02.838Z"
   },
   {
    "duration": 16,
    "start_time": "2022-03-29T15:21:02.905Z"
   },
   {
    "duration": 100,
    "start_time": "2022-03-29T15:21:20.920Z"
   },
   {
    "duration": 4,
    "start_time": "2022-03-29T15:22:51.155Z"
   },
   {
    "duration": 511,
    "start_time": "2022-03-29T15:22:51.162Z"
   },
   {
    "duration": 68,
    "start_time": "2022-03-29T15:22:51.676Z"
   },
   {
    "duration": 246,
    "start_time": "2022-03-29T15:22:51.747Z"
   },
   {
    "duration": 59,
    "start_time": "2022-03-29T15:22:51.997Z"
   },
   {
    "duration": 38,
    "start_time": "2022-03-29T15:22:52.058Z"
   },
   {
    "duration": 174,
    "start_time": "2022-03-29T15:22:52.098Z"
   },
   {
    "duration": 44,
    "start_time": "2022-03-29T15:22:52.274Z"
   },
   {
    "duration": 10,
    "start_time": "2022-03-29T15:22:52.320Z"
   },
   {
    "duration": 145,
    "start_time": "2022-03-29T15:22:52.333Z"
   },
   {
    "duration": 16,
    "start_time": "2022-03-29T15:22:52.480Z"
   },
   {
    "duration": 17,
    "start_time": "2022-03-29T15:22:52.498Z"
   },
   {
    "duration": 21,
    "start_time": "2022-03-29T15:22:52.521Z"
   },
   {
    "duration": 34,
    "start_time": "2022-03-29T15:22:52.585Z"
   },
   {
    "duration": 26,
    "start_time": "2022-03-29T15:22:52.622Z"
   },
   {
    "duration": 95,
    "start_time": "2022-03-29T15:22:52.650Z"
   },
   {
    "duration": 48,
    "start_time": "2022-03-29T15:22:52.748Z"
   },
   {
    "duration": 0,
    "start_time": "2022-03-29T15:22:52.798Z"
   },
   {
    "duration": 25,
    "start_time": "2022-03-29T15:34:29.615Z"
   },
   {
    "duration": 4,
    "start_time": "2022-03-29T15:35:10.543Z"
   },
   {
    "duration": 532,
    "start_time": "2022-03-29T15:35:10.551Z"
   },
   {
    "duration": 65,
    "start_time": "2022-03-29T15:35:11.086Z"
   },
   {
    "duration": 245,
    "start_time": "2022-03-29T15:35:11.153Z"
   },
   {
    "duration": 63,
    "start_time": "2022-03-29T15:35:11.401Z"
   },
   {
    "duration": 13,
    "start_time": "2022-03-29T15:35:11.484Z"
   },
   {
    "duration": 213,
    "start_time": "2022-03-29T15:35:11.500Z"
   },
   {
    "duration": 71,
    "start_time": "2022-03-29T15:35:11.716Z"
   },
   {
    "duration": 11,
    "start_time": "2022-03-29T15:35:11.789Z"
   },
   {
    "duration": 136,
    "start_time": "2022-03-29T15:35:11.803Z"
   },
   {
    "duration": 12,
    "start_time": "2022-03-29T15:35:11.942Z"
   },
   {
    "duration": 39,
    "start_time": "2022-03-29T15:35:11.956Z"
   },
   {
    "duration": 38,
    "start_time": "2022-03-29T15:35:11.999Z"
   },
   {
    "duration": 60,
    "start_time": "2022-03-29T15:35:12.040Z"
   },
   {
    "duration": 25,
    "start_time": "2022-03-29T15:35:12.102Z"
   },
   {
    "duration": 96,
    "start_time": "2022-03-29T15:35:12.129Z"
   },
   {
    "duration": 29,
    "start_time": "2022-03-29T15:35:12.227Z"
   },
   {
    "duration": 0,
    "start_time": "2022-03-29T15:35:12.258Z"
   },
   {
    "duration": 14,
    "start_time": "2022-03-29T15:37:17.245Z"
   },
   {
    "duration": 25,
    "start_time": "2022-03-29T15:41:33.237Z"
   },
   {
    "duration": 4,
    "start_time": "2022-03-29T15:41:37.283Z"
   },
   {
    "duration": 513,
    "start_time": "2022-03-29T15:41:37.290Z"
   },
   {
    "duration": 65,
    "start_time": "2022-03-29T15:41:37.805Z"
   },
   {
    "duration": 241,
    "start_time": "2022-03-29T15:41:37.872Z"
   },
   {
    "duration": 71,
    "start_time": "2022-03-29T15:41:38.115Z"
   },
   {
    "duration": 12,
    "start_time": "2022-03-29T15:41:38.188Z"
   },
   {
    "duration": 188,
    "start_time": "2022-03-29T15:41:38.202Z"
   },
   {
    "duration": 40,
    "start_time": "2022-03-29T15:41:38.392Z"
   },
   {
    "duration": 17,
    "start_time": "2022-03-29T15:41:38.435Z"
   },
   {
    "duration": 119,
    "start_time": "2022-03-29T15:41:38.484Z"
   },
   {
    "duration": 12,
    "start_time": "2022-03-29T15:41:38.605Z"
   },
   {
    "duration": 18,
    "start_time": "2022-03-29T15:41:38.619Z"
   },
   {
    "duration": 47,
    "start_time": "2022-03-29T15:41:38.640Z"
   },
   {
    "duration": 39,
    "start_time": "2022-03-29T15:41:38.690Z"
   },
   {
    "duration": 26,
    "start_time": "2022-03-29T15:41:38.731Z"
   },
   {
    "duration": 187,
    "start_time": "2022-03-29T15:41:38.759Z"
   },
   {
    "duration": 50,
    "start_time": "2022-03-29T15:41:38.948Z"
   },
   {
    "duration": 15,
    "start_time": "2022-03-29T15:41:39.000Z"
   },
   {
    "duration": 34,
    "start_time": "2022-03-29T15:42:59.559Z"
   },
   {
    "duration": 452,
    "start_time": "2022-03-29T15:43:05.668Z"
   },
   {
    "duration": 82,
    "start_time": "2022-03-29T15:43:16.836Z"
   },
   {
    "duration": 35,
    "start_time": "2022-03-29T15:43:25.180Z"
   },
   {
    "duration": 39,
    "start_time": "2022-03-29T15:43:29.116Z"
   },
   {
    "duration": 34,
    "start_time": "2022-03-29T15:43:53.473Z"
   },
   {
    "duration": 39,
    "start_time": "2022-03-29T15:45:33.482Z"
   },
   {
    "duration": 87,
    "start_time": "2022-03-29T15:45:47.623Z"
   },
   {
    "duration": 1757,
    "start_time": "2022-03-29T15:45:52.933Z"
   },
   {
    "duration": 35,
    "start_time": "2022-03-29T15:46:02.420Z"
   },
   {
    "duration": 33,
    "start_time": "2022-03-29T15:46:07.001Z"
   },
   {
    "duration": 36,
    "start_time": "2022-03-29T15:52:49.251Z"
   },
   {
    "duration": 2528,
    "start_time": "2022-03-29T15:53:09.302Z"
   },
   {
    "duration": 99,
    "start_time": "2022-03-29T15:53:20.843Z"
   },
   {
    "duration": 40,
    "start_time": "2022-03-29T16:03:11.232Z"
   },
   {
    "duration": 4,
    "start_time": "2022-03-29T16:03:31.501Z"
   },
   {
    "duration": 484,
    "start_time": "2022-03-29T16:03:31.508Z"
   },
   {
    "duration": 64,
    "start_time": "2022-03-29T16:03:31.994Z"
   },
   {
    "duration": 227,
    "start_time": "2022-03-29T16:03:32.060Z"
   },
   {
    "duration": 60,
    "start_time": "2022-03-29T16:03:32.290Z"
   },
   {
    "duration": 33,
    "start_time": "2022-03-29T16:03:32.352Z"
   },
   {
    "duration": 201,
    "start_time": "2022-03-29T16:03:32.388Z"
   },
   {
    "duration": 44,
    "start_time": "2022-03-29T16:03:32.592Z"
   },
   {
    "duration": 14,
    "start_time": "2022-03-29T16:03:32.639Z"
   },
   {
    "duration": 192,
    "start_time": "2022-03-29T16:03:32.655Z"
   },
   {
    "duration": 14,
    "start_time": "2022-03-29T16:03:32.849Z"
   },
   {
    "duration": 29,
    "start_time": "2022-03-29T16:03:32.865Z"
   },
   {
    "duration": 22,
    "start_time": "2022-03-29T16:03:32.897Z"
   },
   {
    "duration": 68,
    "start_time": "2022-03-29T16:03:32.921Z"
   },
   {
    "duration": 34,
    "start_time": "2022-03-29T16:03:32.991Z"
   },
   {
    "duration": 177,
    "start_time": "2022-03-29T16:03:33.028Z"
   },
   {
    "duration": 432,
    "start_time": "2022-03-29T16:03:33.207Z"
   },
   {
    "duration": 0,
    "start_time": "2022-03-29T16:03:33.641Z"
   },
   {
    "duration": 40,
    "start_time": "2022-03-29T16:04:15.380Z"
   },
   {
    "duration": 15,
    "start_time": "2022-03-29T16:14:41.073Z"
   },
   {
    "duration": 18,
    "start_time": "2022-03-29T16:15:18.301Z"
   },
   {
    "duration": 118,
    "start_time": "2022-03-29T16:15:41.338Z"
   },
   {
    "duration": 29,
    "start_time": "2022-03-29T16:15:46.329Z"
   },
   {
    "duration": 47,
    "start_time": "2022-03-29T16:16:16.124Z"
   },
   {
    "duration": 19,
    "start_time": "2022-03-29T16:16:54.029Z"
   },
   {
    "duration": 4,
    "start_time": "2022-03-29T16:17:45.331Z"
   },
   {
    "duration": 504,
    "start_time": "2022-03-29T16:17:45.338Z"
   },
   {
    "duration": 66,
    "start_time": "2022-03-29T16:17:45.845Z"
   },
   {
    "duration": 215,
    "start_time": "2022-03-29T16:17:45.915Z"
   },
   {
    "duration": 81,
    "start_time": "2022-03-29T16:17:46.133Z"
   },
   {
    "duration": 13,
    "start_time": "2022-03-29T16:17:46.216Z"
   },
   {
    "duration": 196,
    "start_time": "2022-03-29T16:17:46.232Z"
   },
   {
    "duration": 56,
    "start_time": "2022-03-29T16:17:46.430Z"
   },
   {
    "duration": 11,
    "start_time": "2022-03-29T16:17:46.490Z"
   },
   {
    "duration": 134,
    "start_time": "2022-03-29T16:17:46.503Z"
   },
   {
    "duration": 12,
    "start_time": "2022-03-29T16:17:46.639Z"
   },
   {
    "duration": 34,
    "start_time": "2022-03-29T16:17:46.653Z"
   },
   {
    "duration": 25,
    "start_time": "2022-03-29T16:17:46.689Z"
   },
   {
    "duration": 36,
    "start_time": "2022-03-29T16:17:46.716Z"
   },
   {
    "duration": 50,
    "start_time": "2022-03-29T16:17:46.755Z"
   },
   {
    "duration": 172,
    "start_time": "2022-03-29T16:17:46.808Z"
   },
   {
    "duration": 44,
    "start_time": "2022-03-29T16:17:46.983Z"
   },
   {
    "duration": 15,
    "start_time": "2022-03-29T16:17:47.029Z"
   },
   {
    "duration": 44,
    "start_time": "2022-03-29T16:17:47.046Z"
   },
   {
    "duration": 29,
    "start_time": "2022-03-29T16:18:32.901Z"
   },
   {
    "duration": 471,
    "start_time": "2022-03-29T16:48:01.815Z"
   },
   {
    "duration": 462,
    "start_time": "2022-03-29T16:48:02.288Z"
   },
   {
    "duration": 72,
    "start_time": "2022-03-29T16:48:02.751Z"
   },
   {
    "duration": 198,
    "start_time": "2022-03-29T16:48:02.824Z"
   },
   {
    "duration": 59,
    "start_time": "2022-03-29T16:48:03.024Z"
   },
   {
    "duration": 9,
    "start_time": "2022-03-29T16:48:03.085Z"
   },
   {
    "duration": 128,
    "start_time": "2022-03-29T16:48:03.096Z"
   },
   {
    "duration": 32,
    "start_time": "2022-03-29T16:48:03.231Z"
   },
   {
    "duration": 8,
    "start_time": "2022-03-29T16:48:03.265Z"
   },
   {
    "duration": 113,
    "start_time": "2022-03-29T16:48:03.275Z"
   },
   {
    "duration": 9,
    "start_time": "2022-03-29T16:48:03.390Z"
   },
   {
    "duration": 32,
    "start_time": "2022-03-29T16:48:03.400Z"
   },
   {
    "duration": 18,
    "start_time": "2022-03-29T16:48:03.434Z"
   },
   {
    "duration": 32,
    "start_time": "2022-03-29T16:48:03.455Z"
   },
   {
    "duration": 19,
    "start_time": "2022-03-29T16:48:03.489Z"
   },
   {
    "duration": 140,
    "start_time": "2022-03-29T16:48:03.532Z"
   },
   {
    "duration": 79,
    "start_time": "2022-03-29T16:48:03.674Z"
   },
   {
    "duration": 13,
    "start_time": "2022-03-29T16:48:03.755Z"
   },
   {
    "duration": 2997,
    "start_time": "2022-03-29T16:48:09.476Z"
   },
   {
    "duration": 26660,
    "start_time": "2022-03-29T16:49:32.795Z"
   },
   {
    "duration": 26917,
    "start_time": "2022-03-29T16:50:34.491Z"
   },
   {
    "duration": 10,
    "start_time": "2022-03-29T16:55:17.080Z"
   },
   {
    "duration": 190,
    "start_time": "2022-03-29T16:56:27.573Z"
   },
   {
    "duration": 33,
    "start_time": "2022-03-29T16:56:40.708Z"
   },
   {
    "duration": 38,
    "start_time": "2022-03-29T16:57:24.981Z"
   },
   {
    "duration": 71,
    "start_time": "2022-03-29T17:03:22.509Z"
   },
   {
    "duration": 2690,
    "start_time": "2022-03-29T17:05:10.117Z"
   },
   {
    "duration": 19,
    "start_time": "2022-03-29T17:05:27.089Z"
   },
   {
    "duration": 7,
    "start_time": "2022-03-29T17:06:16.647Z"
   },
   {
    "duration": 13,
    "start_time": "2022-03-29T17:06:26.459Z"
   },
   {
    "duration": 455,
    "start_time": "2022-03-29T19:11:13.575Z"
   },
   {
    "duration": 394,
    "start_time": "2022-03-29T19:11:14.032Z"
   },
   {
    "duration": 61,
    "start_time": "2022-03-29T19:11:14.428Z"
   },
   {
    "duration": 177,
    "start_time": "2022-03-29T19:11:14.491Z"
   },
   {
    "duration": 59,
    "start_time": "2022-03-29T19:11:14.670Z"
   },
   {
    "duration": 9,
    "start_time": "2022-03-29T19:11:14.731Z"
   },
   {
    "duration": 118,
    "start_time": "2022-03-29T19:11:14.741Z"
   },
   {
    "duration": 44,
    "start_time": "2022-03-29T19:11:14.861Z"
   },
   {
    "duration": 9,
    "start_time": "2022-03-29T19:11:14.907Z"
   },
   {
    "duration": 140,
    "start_time": "2022-03-29T19:11:14.919Z"
   },
   {
    "duration": 13,
    "start_time": "2022-03-29T19:11:15.062Z"
   },
   {
    "duration": 33,
    "start_time": "2022-03-29T19:11:15.078Z"
   },
   {
    "duration": 28,
    "start_time": "2022-03-29T19:11:15.113Z"
   },
   {
    "duration": 35,
    "start_time": "2022-03-29T19:11:15.143Z"
   },
   {
    "duration": 39,
    "start_time": "2022-03-29T19:11:15.180Z"
   },
   {
    "duration": 188,
    "start_time": "2022-03-29T19:11:15.221Z"
   },
   {
    "duration": 101,
    "start_time": "2022-03-29T19:11:15.412Z"
   },
   {
    "duration": 14,
    "start_time": "2022-03-29T19:11:15.516Z"
   },
   {
    "duration": 29,
    "start_time": "2022-03-29T19:11:15.532Z"
   },
   {
    "duration": 40,
    "start_time": "2022-03-29T19:11:15.563Z"
   },
   {
    "duration": 80,
    "start_time": "2022-03-29T19:16:55.351Z"
   },
   {
    "duration": 20,
    "start_time": "2022-03-29T19:17:07.700Z"
   },
   {
    "duration": 16,
    "start_time": "2022-03-29T19:17:33.938Z"
   },
   {
    "duration": 7,
    "start_time": "2022-03-29T19:23:38.887Z"
   },
   {
    "duration": 3,
    "start_time": "2022-03-29T19:23:47.450Z"
   },
   {
    "duration": 47,
    "start_time": "2022-03-29T19:23:55.804Z"
   },
   {
    "duration": 28,
    "start_time": "2022-03-29T19:25:49.986Z"
   },
   {
    "duration": 3,
    "start_time": "2022-03-29T19:26:02.190Z"
   },
   {
    "duration": 438,
    "start_time": "2022-03-29T19:26:02.202Z"
   },
   {
    "duration": 54,
    "start_time": "2022-03-29T19:26:02.642Z"
   },
   {
    "duration": 155,
    "start_time": "2022-03-29T19:26:02.697Z"
   },
   {
    "duration": 62,
    "start_time": "2022-03-29T19:26:02.854Z"
   },
   {
    "duration": 11,
    "start_time": "2022-03-29T19:26:02.918Z"
   },
   {
    "duration": 122,
    "start_time": "2022-03-29T19:26:02.932Z"
   },
   {
    "duration": 49,
    "start_time": "2022-03-29T19:26:03.057Z"
   },
   {
    "duration": 9,
    "start_time": "2022-03-29T19:26:03.108Z"
   },
   {
    "duration": 99,
    "start_time": "2022-03-29T19:26:03.119Z"
   },
   {
    "duration": 9,
    "start_time": "2022-03-29T19:26:03.222Z"
   },
   {
    "duration": 5,
    "start_time": "2022-03-29T19:26:03.233Z"
   },
   {
    "duration": 14,
    "start_time": "2022-03-29T19:26:03.240Z"
   },
   {
    "duration": 18,
    "start_time": "2022-03-29T19:26:03.256Z"
   },
   {
    "duration": 28,
    "start_time": "2022-03-29T19:26:03.302Z"
   },
   {
    "duration": 21,
    "start_time": "2022-03-29T19:26:03.332Z"
   },
   {
    "duration": 161,
    "start_time": "2022-03-29T19:26:03.355Z"
   },
   {
    "duration": 32,
    "start_time": "2022-03-29T19:26:03.518Z"
   },
   {
    "duration": 11,
    "start_time": "2022-03-29T19:26:03.552Z"
   },
   {
    "duration": 54,
    "start_time": "2022-03-29T19:26:03.565Z"
   },
   {
    "duration": 12,
    "start_time": "2022-03-29T19:26:03.620Z"
   },
   {
    "duration": 3,
    "start_time": "2022-03-29T19:44:55.714Z"
   },
   {
    "duration": 8,
    "start_time": "2022-03-29T19:45:36.990Z"
   },
   {
    "duration": 126,
    "start_time": "2022-03-29T19:45:45.041Z"
   },
   {
    "duration": 3,
    "start_time": "2022-03-29T19:46:08.745Z"
   },
   {
    "duration": 390,
    "start_time": "2022-03-29T19:46:08.751Z"
   },
   {
    "duration": 53,
    "start_time": "2022-03-29T19:46:09.143Z"
   },
   {
    "duration": 171,
    "start_time": "2022-03-29T19:46:09.198Z"
   },
   {
    "duration": 61,
    "start_time": "2022-03-29T19:46:09.371Z"
   },
   {
    "duration": 9,
    "start_time": "2022-03-29T19:46:09.435Z"
   },
   {
    "duration": 122,
    "start_time": "2022-03-29T19:46:09.446Z"
   },
   {
    "duration": 40,
    "start_time": "2022-03-29T19:46:09.570Z"
   },
   {
    "duration": 8,
    "start_time": "2022-03-29T19:46:09.613Z"
   },
   {
    "duration": 97,
    "start_time": "2022-03-29T19:46:09.623Z"
   },
   {
    "duration": 10,
    "start_time": "2022-03-29T19:46:09.722Z"
   },
   {
    "duration": 6,
    "start_time": "2022-03-29T19:46:09.734Z"
   },
   {
    "duration": 16,
    "start_time": "2022-03-29T19:46:09.742Z"
   },
   {
    "duration": 18,
    "start_time": "2022-03-29T19:46:09.761Z"
   },
   {
    "duration": 27,
    "start_time": "2022-03-29T19:46:09.802Z"
   },
   {
    "duration": 19,
    "start_time": "2022-03-29T19:46:09.830Z"
   },
   {
    "duration": 150,
    "start_time": "2022-03-29T19:46:09.851Z"
   },
   {
    "duration": 31,
    "start_time": "2022-03-29T19:46:10.003Z"
   },
   {
    "duration": 12,
    "start_time": "2022-03-29T19:46:10.036Z"
   },
   {
    "duration": 51,
    "start_time": "2022-03-29T19:46:10.050Z"
   },
   {
    "duration": 5,
    "start_time": "2022-03-29T19:46:10.104Z"
   },
   {
    "duration": 148,
    "start_time": "2022-03-29T19:46:10.111Z"
   },
   {
    "duration": 12,
    "start_time": "2022-03-29T19:46:10.262Z"
   },
   {
    "duration": 134,
    "start_time": "2022-03-29T19:46:28.266Z"
   },
   {
    "duration": 158,
    "start_time": "2022-03-29T19:47:42.103Z"
   },
   {
    "duration": 401,
    "start_time": "2022-03-29T19:56:16.454Z"
   },
   {
    "duration": 385,
    "start_time": "2022-03-29T19:56:16.857Z"
   },
   {
    "duration": 55,
    "start_time": "2022-03-29T19:56:17.243Z"
   },
   {
    "duration": 179,
    "start_time": "2022-03-29T19:56:17.299Z"
   },
   {
    "duration": 43,
    "start_time": "2022-03-29T19:56:17.480Z"
   },
   {
    "duration": 9,
    "start_time": "2022-03-29T19:56:17.524Z"
   },
   {
    "duration": 125,
    "start_time": "2022-03-29T19:56:17.534Z"
   },
   {
    "duration": 26,
    "start_time": "2022-03-29T19:56:17.661Z"
   },
   {
    "duration": 6,
    "start_time": "2022-03-29T19:56:17.688Z"
   },
   {
    "duration": 91,
    "start_time": "2022-03-29T19:56:17.696Z"
   },
   {
    "duration": 8,
    "start_time": "2022-03-29T19:56:17.788Z"
   },
   {
    "duration": 4,
    "start_time": "2022-03-29T19:56:17.798Z"
   },
   {
    "duration": 16,
    "start_time": "2022-03-29T19:56:17.804Z"
   },
   {
    "duration": 15,
    "start_time": "2022-03-29T19:56:17.823Z"
   },
   {
    "duration": 44,
    "start_time": "2022-03-29T19:56:17.839Z"
   },
   {
    "duration": 17,
    "start_time": "2022-03-29T19:56:17.884Z"
   },
   {
    "duration": 140,
    "start_time": "2022-03-29T19:56:17.903Z"
   },
   {
    "duration": 63,
    "start_time": "2022-03-29T19:56:18.045Z"
   },
   {
    "duration": 8,
    "start_time": "2022-03-29T19:56:18.110Z"
   },
   {
    "duration": 13,
    "start_time": "2022-03-29T19:56:18.120Z"
   },
   {
    "duration": 4,
    "start_time": "2022-03-29T19:56:18.134Z"
   },
   {
    "duration": 135,
    "start_time": "2022-03-29T19:56:18.139Z"
   },
   {
    "duration": 11,
    "start_time": "2022-03-29T19:56:18.276Z"
   },
   {
    "duration": 16,
    "start_time": "2022-03-29T20:04:22.647Z"
   },
   {
    "duration": 24,
    "start_time": "2022-03-29T20:04:57.214Z"
   },
   {
    "duration": 15,
    "start_time": "2022-03-29T20:06:47.728Z"
   },
   {
    "duration": 76,
    "start_time": "2022-03-30T10:47:19.883Z"
   },
   {
    "duration": 539,
    "start_time": "2022-03-30T10:47:24.157Z"
   },
   {
    "duration": 505,
    "start_time": "2022-03-30T10:47:24.699Z"
   },
   {
    "duration": 81,
    "start_time": "2022-03-30T10:47:25.206Z"
   },
   {
    "duration": 231,
    "start_time": "2022-03-30T10:47:25.289Z"
   },
   {
    "duration": 80,
    "start_time": "2022-03-30T10:47:25.523Z"
   },
   {
    "duration": 13,
    "start_time": "2022-03-30T10:47:25.605Z"
   },
   {
    "duration": 177,
    "start_time": "2022-03-30T10:47:25.620Z"
   },
   {
    "duration": 40,
    "start_time": "2022-03-30T10:47:25.799Z"
   },
   {
    "duration": 35,
    "start_time": "2022-03-30T10:47:25.841Z"
   },
   {
    "duration": 122,
    "start_time": "2022-03-30T10:47:25.879Z"
   },
   {
    "duration": 12,
    "start_time": "2022-03-30T10:47:26.004Z"
   },
   {
    "duration": 5,
    "start_time": "2022-03-30T10:47:26.020Z"
   },
   {
    "duration": 47,
    "start_time": "2022-03-30T10:47:26.027Z"
   },
   {
    "duration": 22,
    "start_time": "2022-03-30T10:47:26.080Z"
   },
   {
    "duration": 35,
    "start_time": "2022-03-30T10:47:26.105Z"
   },
   {
    "duration": 54,
    "start_time": "2022-03-30T10:47:26.142Z"
   },
   {
    "duration": 191,
    "start_time": "2022-03-30T10:47:26.198Z"
   },
   {
    "duration": 84,
    "start_time": "2022-03-30T10:47:26.391Z"
   },
   {
    "duration": 15,
    "start_time": "2022-03-30T10:47:26.477Z"
   },
   {
    "duration": 18,
    "start_time": "2022-03-30T10:47:26.495Z"
   },
   {
    "duration": 7,
    "start_time": "2022-03-30T10:47:26.515Z"
   },
   {
    "duration": 230,
    "start_time": "2022-03-30T10:47:26.525Z"
   },
   {
    "duration": 28,
    "start_time": "2022-03-30T10:47:26.757Z"
   },
   {
    "duration": 846,
    "start_time": "2022-03-30T10:47:26.787Z"
   },
   {
    "duration": 350,
    "start_time": "2022-03-30T10:47:43.517Z"
   },
   {
    "duration": 227,
    "start_time": "2022-03-30T10:49:42.871Z"
   },
   {
    "duration": 232,
    "start_time": "2022-03-30T10:50:19.152Z"
   },
   {
    "duration": 242,
    "start_time": "2022-03-30T10:54:31.073Z"
   },
   {
    "duration": 212,
    "start_time": "2022-03-30T10:55:31.382Z"
   },
   {
    "duration": 226,
    "start_time": "2022-03-30T10:55:51.805Z"
   },
   {
    "duration": 48,
    "start_time": "2022-03-30T11:56:20.644Z"
   },
   {
    "duration": 363,
    "start_time": "2022-03-30T11:56:25.951Z"
   },
   {
    "duration": 353,
    "start_time": "2022-03-30T11:56:26.316Z"
   },
   {
    "duration": 55,
    "start_time": "2022-03-30T11:56:26.671Z"
   },
   {
    "duration": 164,
    "start_time": "2022-03-30T11:56:26.728Z"
   },
   {
    "duration": 51,
    "start_time": "2022-03-30T11:56:26.894Z"
   },
   {
    "duration": 9,
    "start_time": "2022-03-30T11:56:26.947Z"
   },
   {
    "duration": 107,
    "start_time": "2022-03-30T11:56:26.957Z"
   },
   {
    "duration": 28,
    "start_time": "2022-03-30T11:56:27.066Z"
   },
   {
    "duration": 7,
    "start_time": "2022-03-30T11:56:27.108Z"
   },
   {
    "duration": 62,
    "start_time": "2022-03-30T11:56:27.118Z"
   },
   {
    "duration": 7,
    "start_time": "2022-03-30T11:56:27.182Z"
   },
   {
    "duration": 3,
    "start_time": "2022-03-30T11:56:27.209Z"
   },
   {
    "duration": 12,
    "start_time": "2022-03-30T11:56:27.213Z"
   },
   {
    "duration": 16,
    "start_time": "2022-03-30T11:56:27.227Z"
   },
   {
    "duration": 24,
    "start_time": "2022-03-30T11:56:27.244Z"
   },
   {
    "duration": 43,
    "start_time": "2022-03-30T11:56:27.269Z"
   },
   {
    "duration": 122,
    "start_time": "2022-03-30T11:56:27.314Z"
   },
   {
    "duration": 55,
    "start_time": "2022-03-30T11:56:27.438Z"
   },
   {
    "duration": 21,
    "start_time": "2022-03-30T11:56:27.495Z"
   },
   {
    "duration": 12,
    "start_time": "2022-03-30T11:56:27.517Z"
   },
   {
    "duration": 4,
    "start_time": "2022-03-30T11:56:27.530Z"
   },
   {
    "duration": 131,
    "start_time": "2022-03-30T11:56:27.535Z"
   },
   {
    "duration": 13,
    "start_time": "2022-03-30T11:56:27.668Z"
   },
   {
    "duration": 1472,
    "start_time": "2022-03-30T11:56:27.683Z"
   },
   {
    "duration": 0,
    "start_time": "2022-03-30T11:56:29.157Z"
   },
   {
    "duration": 0,
    "start_time": "2022-03-30T11:56:29.158Z"
   },
   {
    "duration": 313,
    "start_time": "2022-03-30T11:57:37.725Z"
   },
   {
    "duration": 137,
    "start_time": "2022-03-30T11:58:38.630Z"
   },
   {
    "duration": 169,
    "start_time": "2022-03-30T11:59:00.196Z"
   },
   {
    "duration": 168,
    "start_time": "2022-03-30T11:59:41.632Z"
   },
   {
    "duration": 65,
    "start_time": "2022-03-30T12:04:44.346Z"
   },
   {
    "duration": 177,
    "start_time": "2022-03-30T12:04:52.170Z"
   },
   {
    "duration": 177,
    "start_time": "2022-03-30T12:05:30.670Z"
   },
   {
    "duration": 195,
    "start_time": "2022-03-30T12:07:36.369Z"
   },
   {
    "duration": 4,
    "start_time": "2022-03-30T12:09:42.275Z"
   },
   {
    "duration": 70,
    "start_time": "2022-03-30T12:10:16.172Z"
   },
   {
    "duration": 65,
    "start_time": "2022-03-30T12:10:32.337Z"
   },
   {
    "duration": 171,
    "start_time": "2022-03-30T12:10:48.430Z"
   },
   {
    "duration": 389,
    "start_time": "2022-03-30T12:12:23.655Z"
   },
   {
    "duration": 557,
    "start_time": "2022-03-30T12:12:36.226Z"
   },
   {
    "duration": 68,
    "start_time": "2022-03-30T12:25:05.605Z"
   },
   {
    "duration": 9,
    "start_time": "2022-03-30T12:25:16.927Z"
   },
   {
    "duration": 8,
    "start_time": "2022-03-30T12:25:56.131Z"
   },
   {
    "duration": 46,
    "start_time": "2022-03-30T12:35:59.764Z"
   },
   {
    "duration": 1098,
    "start_time": "2022-03-30T12:36:23.960Z"
   },
   {
    "duration": 39,
    "start_time": "2022-03-30T12:36:42.113Z"
   },
   {
    "duration": 42,
    "start_time": "2022-03-30T12:37:01.106Z"
   },
   {
    "duration": 45,
    "start_time": "2022-03-30T12:38:11.180Z"
   },
   {
    "duration": 6,
    "start_time": "2022-03-30T12:39:03.871Z"
   },
   {
    "duration": 530,
    "start_time": "2022-03-30T12:46:46.238Z"
   },
   {
    "duration": 9,
    "start_time": "2022-03-30T13:18:00.622Z"
   },
   {
    "duration": 32,
    "start_time": "2022-03-30T13:18:24.747Z"
   },
   {
    "duration": 34,
    "start_time": "2022-03-30T13:18:32.865Z"
   },
   {
    "duration": 31,
    "start_time": "2022-03-30T13:29:47.826Z"
   },
   {
    "duration": 31,
    "start_time": "2022-03-30T13:36:54.249Z"
   },
   {
    "duration": 34,
    "start_time": "2022-03-30T13:37:02.994Z"
   },
   {
    "duration": 22,
    "start_time": "2022-03-30T13:41:27.656Z"
   },
   {
    "duration": 19,
    "start_time": "2022-03-30T13:42:42.334Z"
   },
   {
    "duration": 55,
    "start_time": "2022-03-30T13:49:22.615Z"
   },
   {
    "duration": 419,
    "start_time": "2022-03-30T13:49:27.603Z"
   },
   {
    "duration": 381,
    "start_time": "2022-03-30T13:49:28.024Z"
   },
   {
    "duration": 57,
    "start_time": "2022-03-30T13:49:28.406Z"
   },
   {
    "duration": 168,
    "start_time": "2022-03-30T13:49:28.465Z"
   },
   {
    "duration": 43,
    "start_time": "2022-03-30T13:49:28.635Z"
   },
   {
    "duration": 7,
    "start_time": "2022-03-30T13:49:28.680Z"
   },
   {
    "duration": 113,
    "start_time": "2022-03-30T13:49:28.689Z"
   },
   {
    "duration": 30,
    "start_time": "2022-03-30T13:49:28.808Z"
   },
   {
    "duration": 6,
    "start_time": "2022-03-30T13:49:28.840Z"
   },
   {
    "duration": 91,
    "start_time": "2022-03-30T13:49:28.848Z"
   },
   {
    "duration": 8,
    "start_time": "2022-03-30T13:49:28.940Z"
   },
   {
    "duration": 4,
    "start_time": "2022-03-30T13:49:28.950Z"
   },
   {
    "duration": 11,
    "start_time": "2022-03-30T13:49:28.956Z"
   },
   {
    "duration": 49,
    "start_time": "2022-03-30T13:49:28.970Z"
   },
   {
    "duration": 24,
    "start_time": "2022-03-30T13:49:29.021Z"
   },
   {
    "duration": 18,
    "start_time": "2022-03-30T13:49:29.047Z"
   },
   {
    "duration": 146,
    "start_time": "2022-03-30T13:49:29.067Z"
   },
   {
    "duration": 58,
    "start_time": "2022-03-30T13:49:29.215Z"
   },
   {
    "duration": 10,
    "start_time": "2022-03-30T13:49:29.274Z"
   },
   {
    "duration": 31,
    "start_time": "2022-03-30T13:49:29.286Z"
   },
   {
    "duration": 4,
    "start_time": "2022-03-30T13:49:29.319Z"
   },
   {
    "duration": 130,
    "start_time": "2022-03-30T13:49:29.325Z"
   },
   {
    "duration": 15,
    "start_time": "2022-03-30T13:49:29.457Z"
   },
   {
    "duration": 937,
    "start_time": "2022-03-30T13:49:29.474Z"
   },
   {
    "duration": 21,
    "start_time": "2022-03-30T13:49:30.413Z"
   },
   {
    "duration": 20,
    "start_time": "2022-03-30T13:49:38.761Z"
   },
   {
    "duration": 21,
    "start_time": "2022-03-30T13:49:59.846Z"
   },
   {
    "duration": 28,
    "start_time": "2022-03-30T13:50:14.329Z"
   },
   {
    "duration": 26,
    "start_time": "2022-03-30T13:50:43.825Z"
   },
   {
    "duration": 25,
    "start_time": "2022-03-30T13:51:57.117Z"
   },
   {
    "duration": 46,
    "start_time": "2022-03-30T13:52:16.847Z"
   },
   {
    "duration": 52,
    "start_time": "2022-03-30T13:54:58.397Z"
   },
   {
    "duration": 44,
    "start_time": "2022-03-30T13:55:11.960Z"
   },
   {
    "duration": 44,
    "start_time": "2022-03-30T13:56:02.753Z"
   },
   {
    "duration": 49,
    "start_time": "2022-03-30T13:57:12.276Z"
   },
   {
    "duration": 22,
    "start_time": "2022-03-30T13:57:49.696Z"
   },
   {
    "duration": 21,
    "start_time": "2022-03-30T13:58:07.701Z"
   },
   {
    "duration": 43,
    "start_time": "2022-03-30T13:58:41.741Z"
   },
   {
    "duration": 44,
    "start_time": "2022-03-30T14:00:35.114Z"
   },
   {
    "duration": 44,
    "start_time": "2022-03-30T14:01:08.690Z"
   },
   {
    "duration": 18,
    "start_time": "2022-03-30T14:01:57.685Z"
   },
   {
    "duration": 18,
    "start_time": "2022-03-30T14:02:05.526Z"
   },
   {
    "duration": 21,
    "start_time": "2022-03-30T14:02:30.204Z"
   },
   {
    "duration": 40,
    "start_time": "2022-03-30T14:08:35.466Z"
   },
   {
    "duration": 72,
    "start_time": "2022-03-31T09:32:29.456Z"
   },
   {
    "duration": 16,
    "start_time": "2022-03-31T09:33:37.694Z"
   },
   {
    "duration": 503,
    "start_time": "2022-03-31T09:33:41.565Z"
   },
   {
    "duration": 433,
    "start_time": "2022-03-31T09:33:42.071Z"
   },
   {
    "duration": 73,
    "start_time": "2022-03-31T09:33:42.506Z"
   },
   {
    "duration": 220,
    "start_time": "2022-03-31T09:33:42.582Z"
   },
   {
    "duration": 57,
    "start_time": "2022-03-31T09:33:42.805Z"
   },
   {
    "duration": 28,
    "start_time": "2022-03-31T09:33:42.865Z"
   },
   {
    "duration": 171,
    "start_time": "2022-03-31T09:33:42.896Z"
   },
   {
    "duration": 44,
    "start_time": "2022-03-31T09:33:43.070Z"
   },
   {
    "duration": 11,
    "start_time": "2022-03-31T09:33:43.116Z"
   },
   {
    "duration": 128,
    "start_time": "2022-03-31T09:33:43.130Z"
   },
   {
    "duration": 23,
    "start_time": "2022-03-31T09:33:43.261Z"
   },
   {
    "duration": 18,
    "start_time": "2022-03-31T09:33:43.286Z"
   },
   {
    "duration": 33,
    "start_time": "2022-03-31T09:33:43.307Z"
   },
   {
    "duration": 44,
    "start_time": "2022-03-31T09:33:43.344Z"
   },
   {
    "duration": 58,
    "start_time": "2022-03-31T09:33:43.390Z"
   },
   {
    "duration": 25,
    "start_time": "2022-03-31T09:33:43.450Z"
   },
   {
    "duration": 210,
    "start_time": "2022-03-31T09:33:43.477Z"
   },
   {
    "duration": 69,
    "start_time": "2022-03-31T09:33:43.689Z"
   },
   {
    "duration": 29,
    "start_time": "2022-03-31T09:33:43.760Z"
   },
   {
    "duration": 24,
    "start_time": "2022-03-31T09:33:43.792Z"
   },
   {
    "duration": 19,
    "start_time": "2022-03-31T09:33:43.818Z"
   },
   {
    "duration": 285,
    "start_time": "2022-03-31T09:33:43.839Z"
   },
   {
    "duration": 26,
    "start_time": "2022-03-31T09:33:44.127Z"
   },
   {
    "duration": 1413,
    "start_time": "2022-03-31T09:33:44.156Z"
   },
   {
    "duration": 65,
    "start_time": "2022-03-31T09:33:45.571Z"
   },
   {
    "duration": 552,
    "start_time": "2022-03-31T09:33:45.638Z"
   },
   {
    "duration": 5,
    "start_time": "2022-03-31T09:36:52.390Z"
   },
   {
    "duration": 451,
    "start_time": "2022-03-31T09:36:52.398Z"
   },
   {
    "duration": 61,
    "start_time": "2022-03-31T09:36:52.852Z"
   },
   {
    "duration": 222,
    "start_time": "2022-03-31T09:36:52.916Z"
   },
   {
    "duration": 73,
    "start_time": "2022-03-31T09:36:53.142Z"
   },
   {
    "duration": 13,
    "start_time": "2022-03-31T09:36:53.218Z"
   },
   {
    "duration": 184,
    "start_time": "2022-03-31T09:36:53.233Z"
   },
   {
    "duration": 38,
    "start_time": "2022-03-31T09:36:53.420Z"
   },
   {
    "duration": 11,
    "start_time": "2022-03-31T09:36:53.483Z"
   },
   {
    "duration": 111,
    "start_time": "2022-03-31T09:36:53.497Z"
   },
   {
    "duration": 12,
    "start_time": "2022-03-31T09:36:53.611Z"
   },
   {
    "duration": 23,
    "start_time": "2022-03-31T09:36:53.626Z"
   },
   {
    "duration": 38,
    "start_time": "2022-03-31T09:36:53.651Z"
   },
   {
    "duration": 23,
    "start_time": "2022-03-31T09:36:53.694Z"
   },
   {
    "duration": 35,
    "start_time": "2022-03-31T09:36:53.719Z"
   },
   {
    "duration": 48,
    "start_time": "2022-03-31T09:36:53.757Z"
   },
   {
    "duration": 205,
    "start_time": "2022-03-31T09:36:53.807Z"
   },
   {
    "duration": 70,
    "start_time": "2022-03-31T09:36:54.015Z"
   },
   {
    "duration": 18,
    "start_time": "2022-03-31T09:36:54.088Z"
   },
   {
    "duration": 36,
    "start_time": "2022-03-31T09:36:54.108Z"
   },
   {
    "duration": 19,
    "start_time": "2022-03-31T09:36:54.146Z"
   },
   {
    "duration": 267,
    "start_time": "2022-03-31T09:36:54.168Z"
   },
   {
    "duration": 23,
    "start_time": "2022-03-31T09:36:54.437Z"
   },
   {
    "duration": 813,
    "start_time": "2022-03-31T09:36:54.462Z"
   },
   {
    "duration": 59,
    "start_time": "2022-03-31T09:36:55.278Z"
   },
   {
    "duration": 135,
    "start_time": "2022-03-31T09:36:55.339Z"
   },
   {
    "duration": 24,
    "start_time": "2022-03-31T09:37:29.075Z"
   },
   {
    "duration": 26,
    "start_time": "2022-03-31T09:40:43.932Z"
   },
   {
    "duration": 25,
    "start_time": "2022-03-31T09:41:16.980Z"
   },
   {
    "duration": 20,
    "start_time": "2022-03-31T09:41:35.957Z"
   },
   {
    "duration": 14,
    "start_time": "2022-03-31T09:42:35.264Z"
   },
   {
    "duration": 76,
    "start_time": "2022-03-31T10:12:19.498Z"
   },
   {
    "duration": 1063,
    "start_time": "2022-03-31T10:12:24.652Z"
   },
   {
    "duration": 665,
    "start_time": "2022-03-31T10:12:25.719Z"
   },
   {
    "duration": 102,
    "start_time": "2022-03-31T10:12:26.387Z"
   },
   {
    "duration": 231,
    "start_time": "2022-03-31T10:12:26.492Z"
   },
   {
    "duration": 77,
    "start_time": "2022-03-31T10:12:26.725Z"
   },
   {
    "duration": 13,
    "start_time": "2022-03-31T10:12:26.805Z"
   },
   {
    "duration": 166,
    "start_time": "2022-03-31T10:12:26.821Z"
   },
   {
    "duration": 39,
    "start_time": "2022-03-31T10:12:26.990Z"
   },
   {
    "duration": 38,
    "start_time": "2022-03-31T10:12:27.032Z"
   },
   {
    "duration": 111,
    "start_time": "2022-03-31T10:12:27.076Z"
   },
   {
    "duration": 13,
    "start_time": "2022-03-31T10:12:27.190Z"
   },
   {
    "duration": 7,
    "start_time": "2022-03-31T10:12:27.205Z"
   },
   {
    "duration": 17,
    "start_time": "2022-03-31T10:12:27.214Z"
   },
   {
    "duration": 24,
    "start_time": "2022-03-31T10:12:27.268Z"
   },
   {
    "duration": 36,
    "start_time": "2022-03-31T10:12:27.295Z"
   },
   {
    "duration": 54,
    "start_time": "2022-03-31T10:12:27.334Z"
   },
   {
    "duration": 186,
    "start_time": "2022-03-31T10:12:27.391Z"
   },
   {
    "duration": 44,
    "start_time": "2022-03-31T10:12:27.580Z"
   },
   {
    "duration": 44,
    "start_time": "2022-03-31T10:12:27.626Z"
   },
   {
    "duration": 18,
    "start_time": "2022-03-31T10:12:27.673Z"
   },
   {
    "duration": 7,
    "start_time": "2022-03-31T10:12:27.693Z"
   },
   {
    "duration": 220,
    "start_time": "2022-03-31T10:12:27.703Z"
   },
   {
    "duration": 21,
    "start_time": "2022-03-31T10:12:27.925Z"
   },
   {
    "duration": 1499,
    "start_time": "2022-03-31T10:12:27.948Z"
   },
   {
    "duration": 71,
    "start_time": "2022-03-31T10:12:29.449Z"
   },
   {
    "duration": 121,
    "start_time": "2022-03-31T10:12:29.522Z"
   },
   {
    "duration": 0,
    "start_time": "2022-03-31T10:12:29.645Z"
   },
   {
    "duration": 14,
    "start_time": "2022-03-31T10:12:37.307Z"
   },
   {
    "duration": 12,
    "start_time": "2022-03-31T10:16:27.542Z"
   },
   {
    "duration": 14,
    "start_time": "2022-03-31T10:17:12.322Z"
   },
   {
    "duration": 97,
    "start_time": "2022-03-31T10:17:20.076Z"
   },
   {
    "duration": 97,
    "start_time": "2022-03-31T10:30:35.003Z"
   },
   {
    "duration": 101,
    "start_time": "2022-03-31T10:31:22.896Z"
   },
   {
    "duration": 14,
    "start_time": "2022-03-31T10:31:48.917Z"
   },
   {
    "duration": 17,
    "start_time": "2022-03-31T10:34:34.975Z"
   },
   {
    "duration": 15,
    "start_time": "2022-03-31T10:35:28.637Z"
   },
   {
    "duration": 15,
    "start_time": "2022-03-31T10:35:54.203Z"
   },
   {
    "duration": 16,
    "start_time": "2022-03-31T10:36:10.502Z"
   },
   {
    "duration": 15,
    "start_time": "2022-03-31T10:36:23.854Z"
   },
   {
    "duration": 21,
    "start_time": "2022-03-31T10:37:24.718Z"
   },
   {
    "duration": 20,
    "start_time": "2022-03-31T10:37:32.401Z"
   },
   {
    "duration": 18,
    "start_time": "2022-03-31T10:38:54.857Z"
   },
   {
    "duration": 16,
    "start_time": "2022-03-31T10:41:04.001Z"
   },
   {
    "duration": 18,
    "start_time": "2022-03-31T10:41:12.826Z"
   },
   {
    "duration": 20,
    "start_time": "2022-03-31T10:41:17.537Z"
   },
   {
    "duration": 15,
    "start_time": "2022-03-31T10:41:21.667Z"
   },
   {
    "duration": 15,
    "start_time": "2022-03-31T10:41:43.553Z"
   },
   {
    "duration": 16,
    "start_time": "2022-03-31T10:41:48.777Z"
   },
   {
    "duration": 21,
    "start_time": "2022-03-31T10:42:14.000Z"
   },
   {
    "duration": 18,
    "start_time": "2022-03-31T10:45:33.011Z"
   },
   {
    "duration": 15,
    "start_time": "2022-03-31T10:45:40.737Z"
   },
   {
    "duration": 129,
    "start_time": "2022-03-31T10:46:10.475Z"
   },
   {
    "duration": 5,
    "start_time": "2022-03-31T10:46:26.771Z"
   },
   {
    "duration": 6,
    "start_time": "2022-03-31T10:46:48.532Z"
   },
   {
    "duration": 6,
    "start_time": "2022-03-31T10:46:53.617Z"
   },
   {
    "duration": 6,
    "start_time": "2022-03-31T10:47:17.393Z"
   },
   {
    "duration": 6,
    "start_time": "2022-03-31T10:48:17.727Z"
   },
   {
    "duration": 7,
    "start_time": "2022-03-31T10:48:36.587Z"
   },
   {
    "duration": 6,
    "start_time": "2022-03-31T10:48:43.230Z"
   },
   {
    "duration": 8,
    "start_time": "2022-03-31T10:48:47.311Z"
   },
   {
    "duration": 28,
    "start_time": "2022-03-31T11:02:20.003Z"
   },
   {
    "duration": 129,
    "start_time": "2022-03-31T11:03:02.062Z"
   },
   {
    "duration": 18,
    "start_time": "2022-03-31T11:03:49.195Z"
   },
   {
    "duration": 16,
    "start_time": "2022-03-31T11:03:57.361Z"
   },
   {
    "duration": 20,
    "start_time": "2022-03-31T11:04:00.262Z"
   },
   {
    "duration": 21,
    "start_time": "2022-03-31T11:04:08.185Z"
   },
   {
    "duration": 19,
    "start_time": "2022-03-31T11:04:12.911Z"
   },
   {
    "duration": 16,
    "start_time": "2022-03-31T11:05:45.235Z"
   },
   {
    "duration": 16,
    "start_time": "2022-03-31T11:05:58.590Z"
   },
   {
    "duration": 40,
    "start_time": "2022-03-31T11:09:16.441Z"
   },
   {
    "duration": 24,
    "start_time": "2022-03-31T11:09:34.188Z"
   },
   {
    "duration": 23,
    "start_time": "2022-03-31T11:09:38.909Z"
   },
   {
    "duration": 16,
    "start_time": "2022-03-31T11:09:47.445Z"
   },
   {
    "duration": 15,
    "start_time": "2022-03-31T11:14:44.160Z"
   },
   {
    "duration": 29,
    "start_time": "2022-03-31T11:47:42.093Z"
   },
   {
    "duration": 1628,
    "start_time": "2022-03-31T11:51:26.467Z"
   },
   {
    "duration": 4,
    "start_time": "2022-03-31T11:51:51.796Z"
   },
   {
    "duration": 471,
    "start_time": "2022-03-31T11:51:51.803Z"
   },
   {
    "duration": 61,
    "start_time": "2022-03-31T11:51:52.276Z"
   },
   {
    "duration": 247,
    "start_time": "2022-03-31T11:51:52.340Z"
   },
   {
    "duration": 88,
    "start_time": "2022-03-31T11:51:52.591Z"
   },
   {
    "duration": 12,
    "start_time": "2022-03-31T11:51:52.682Z"
   },
   {
    "duration": 189,
    "start_time": "2022-03-31T11:51:52.696Z"
   },
   {
    "duration": 41,
    "start_time": "2022-03-31T11:51:52.888Z"
   },
   {
    "duration": 41,
    "start_time": "2022-03-31T11:51:52.931Z"
   },
   {
    "duration": 141,
    "start_time": "2022-03-31T11:51:52.975Z"
   },
   {
    "duration": 13,
    "start_time": "2022-03-31T11:51:53.118Z"
   },
   {
    "duration": 6,
    "start_time": "2022-03-31T11:51:53.134Z"
   },
   {
    "duration": 17,
    "start_time": "2022-03-31T11:51:53.168Z"
   },
   {
    "duration": 29,
    "start_time": "2022-03-31T11:51:53.190Z"
   },
   {
    "duration": 1931,
    "start_time": "2022-03-31T11:51:53.222Z"
   },
   {
    "duration": 0,
    "start_time": "2022-03-31T11:51:55.156Z"
   },
   {
    "duration": 0,
    "start_time": "2022-03-31T11:51:55.159Z"
   },
   {
    "duration": 1,
    "start_time": "2022-03-31T11:51:55.161Z"
   },
   {
    "duration": 0,
    "start_time": "2022-03-31T11:51:55.164Z"
   },
   {
    "duration": 0,
    "start_time": "2022-03-31T11:51:55.166Z"
   },
   {
    "duration": 0,
    "start_time": "2022-03-31T11:51:55.168Z"
   },
   {
    "duration": 0,
    "start_time": "2022-03-31T11:51:55.171Z"
   },
   {
    "duration": 0,
    "start_time": "2022-03-31T11:51:55.172Z"
   },
   {
    "duration": 0,
    "start_time": "2022-03-31T11:51:55.174Z"
   },
   {
    "duration": 0,
    "start_time": "2022-03-31T11:51:55.177Z"
   },
   {
    "duration": 0,
    "start_time": "2022-03-31T11:51:55.179Z"
   },
   {
    "duration": 0,
    "start_time": "2022-03-31T11:51:55.181Z"
   },
   {
    "duration": 0,
    "start_time": "2022-03-31T11:51:55.183Z"
   },
   {
    "duration": 0,
    "start_time": "2022-03-31T11:51:55.186Z"
   },
   {
    "duration": 0,
    "start_time": "2022-03-31T11:51:55.188Z"
   },
   {
    "duration": 7,
    "start_time": "2022-03-31T11:52:25.836Z"
   },
   {
    "duration": 11,
    "start_time": "2022-03-31T11:53:01.514Z"
   },
   {
    "duration": 12,
    "start_time": "2022-03-31T11:53:07.191Z"
   },
   {
    "duration": 7,
    "start_time": "2022-03-31T11:53:15.823Z"
   },
   {
    "duration": 12,
    "start_time": "2022-03-31T11:53:58.691Z"
   },
   {
    "duration": 6,
    "start_time": "2022-03-31T11:54:05.509Z"
   },
   {
    "duration": 6,
    "start_time": "2022-03-31T11:56:22.580Z"
   },
   {
    "duration": 22,
    "start_time": "2022-03-31T11:56:35.992Z"
   },
   {
    "duration": 4,
    "start_time": "2022-03-31T11:56:41.009Z"
   },
   {
    "duration": 448,
    "start_time": "2022-03-31T11:56:41.015Z"
   },
   {
    "duration": 62,
    "start_time": "2022-03-31T11:56:41.465Z"
   },
   {
    "duration": 210,
    "start_time": "2022-03-31T11:56:41.529Z"
   },
   {
    "duration": 61,
    "start_time": "2022-03-31T11:56:41.742Z"
   },
   {
    "duration": 12,
    "start_time": "2022-03-31T11:56:41.805Z"
   },
   {
    "duration": 178,
    "start_time": "2022-03-31T11:56:41.819Z"
   },
   {
    "duration": 39,
    "start_time": "2022-03-31T11:56:41.999Z"
   },
   {
    "duration": 30,
    "start_time": "2022-03-31T11:56:42.040Z"
   },
   {
    "duration": 111,
    "start_time": "2022-03-31T11:56:42.072Z"
   },
   {
    "duration": 12,
    "start_time": "2022-03-31T11:56:42.186Z"
   },
   {
    "duration": 6,
    "start_time": "2022-03-31T11:56:42.200Z"
   },
   {
    "duration": 58,
    "start_time": "2022-03-31T11:56:42.210Z"
   },
   {
    "duration": 26,
    "start_time": "2022-03-31T11:56:42.270Z"
   },
   {
    "duration": 6,
    "start_time": "2022-03-31T11:56:42.299Z"
   },
   {
    "duration": 73,
    "start_time": "2022-03-31T11:56:42.307Z"
   },
   {
    "duration": 25,
    "start_time": "2022-03-31T11:56:42.383Z"
   },
   {
    "duration": 180,
    "start_time": "2022-03-31T11:56:42.410Z"
   },
   {
    "duration": 124,
    "start_time": "2022-03-31T11:56:42.592Z"
   },
   {
    "duration": 15,
    "start_time": "2022-03-31T11:56:42.718Z"
   },
   {
    "duration": 41,
    "start_time": "2022-03-31T11:56:42.735Z"
   },
   {
    "duration": 5,
    "start_time": "2022-03-31T11:56:42.778Z"
   },
   {
    "duration": 225,
    "start_time": "2022-03-31T11:56:42.785Z"
   },
   {
    "duration": 23,
    "start_time": "2022-03-31T11:56:43.012Z"
   },
   {
    "duration": 800,
    "start_time": "2022-03-31T11:56:43.037Z"
   },
   {
    "duration": 77,
    "start_time": "2022-03-31T11:56:43.840Z"
   },
   {
    "duration": 14,
    "start_time": "2022-03-31T11:56:43.919Z"
   },
   {
    "duration": 221,
    "start_time": "2022-03-31T11:56:43.935Z"
   },
   {
    "duration": 0,
    "start_time": "2022-03-31T11:56:44.159Z"
   },
   {
    "duration": 0,
    "start_time": "2022-03-31T11:56:44.161Z"
   },
   {
    "duration": 15,
    "start_time": "2022-03-31T12:28:58.251Z"
   },
   {
    "duration": 4,
    "start_time": "2022-03-31T12:29:58.432Z"
   },
   {
    "duration": 468,
    "start_time": "2022-03-31T12:29:58.439Z"
   },
   {
    "duration": 65,
    "start_time": "2022-03-31T12:29:58.909Z"
   },
   {
    "duration": 213,
    "start_time": "2022-03-31T12:29:58.977Z"
   },
   {
    "duration": 82,
    "start_time": "2022-03-31T12:29:59.194Z"
   },
   {
    "duration": 15,
    "start_time": "2022-03-31T12:29:59.279Z"
   },
   {
    "duration": 201,
    "start_time": "2022-03-31T12:29:59.297Z"
   },
   {
    "duration": 85,
    "start_time": "2022-03-31T12:29:59.502Z"
   },
   {
    "duration": 15,
    "start_time": "2022-03-31T12:29:59.590Z"
   },
   {
    "duration": 148,
    "start_time": "2022-03-31T12:29:59.607Z"
   },
   {
    "duration": 20,
    "start_time": "2022-03-31T12:29:59.757Z"
   },
   {
    "duration": 7,
    "start_time": "2022-03-31T12:29:59.780Z"
   },
   {
    "duration": 18,
    "start_time": "2022-03-31T12:29:59.789Z"
   },
   {
    "duration": 71,
    "start_time": "2022-03-31T12:29:59.812Z"
   },
   {
    "duration": 7,
    "start_time": "2022-03-31T12:29:59.885Z"
   },
   {
    "duration": 77,
    "start_time": "2022-03-31T12:29:59.894Z"
   },
   {
    "duration": 28,
    "start_time": "2022-03-31T12:29:59.974Z"
   },
   {
    "duration": 260,
    "start_time": "2022-03-31T12:30:00.005Z"
   },
   {
    "duration": 68,
    "start_time": "2022-03-31T12:30:00.268Z"
   },
   {
    "duration": 38,
    "start_time": "2022-03-31T12:30:00.339Z"
   },
   {
    "duration": 28,
    "start_time": "2022-03-31T12:30:00.380Z"
   },
   {
    "duration": 13,
    "start_time": "2022-03-31T12:30:00.411Z"
   },
   {
    "duration": 390,
    "start_time": "2022-03-31T12:30:00.427Z"
   },
   {
    "duration": 25,
    "start_time": "2022-03-31T12:30:00.820Z"
   },
   {
    "duration": 818,
    "start_time": "2022-03-31T12:30:00.868Z"
   },
   {
    "duration": 103,
    "start_time": "2022-03-31T12:30:01.688Z"
   },
   {
    "duration": 15,
    "start_time": "2022-03-31T12:30:01.794Z"
   },
   {
    "duration": 31,
    "start_time": "2022-03-31T12:30:01.811Z"
   },
   {
    "duration": 28,
    "start_time": "2022-03-31T12:30:01.845Z"
   },
   {
    "duration": 32,
    "start_time": "2022-03-31T12:30:01.875Z"
   },
   {
    "duration": 13,
    "start_time": "2022-03-31T12:34:02.025Z"
   },
   {
    "duration": 25,
    "start_time": "2022-03-31T12:34:10.397Z"
   },
   {
    "duration": 50,
    "start_time": "2022-03-31T12:34:39.647Z"
   },
   {
    "duration": 42,
    "start_time": "2022-03-31T12:35:12.624Z"
   },
   {
    "duration": 44,
    "start_time": "2022-03-31T12:35:43.035Z"
   },
   {
    "duration": 133,
    "start_time": "2022-03-31T12:36:21.489Z"
   },
   {
    "duration": 11,
    "start_time": "2022-03-31T12:36:39.564Z"
   },
   {
    "duration": 2481,
    "start_time": "2022-03-31T12:36:58.749Z"
   },
   {
    "duration": 108,
    "start_time": "2022-03-31T12:37:32.879Z"
   },
   {
    "duration": 124,
    "start_time": "2022-03-31T12:37:40.502Z"
   },
   {
    "duration": 9,
    "start_time": "2022-03-31T12:37:59.825Z"
   },
   {
    "duration": 9,
    "start_time": "2022-03-31T12:38:23.386Z"
   },
   {
    "duration": 16,
    "start_time": "2022-03-31T13:01:42.686Z"
   },
   {
    "duration": 27,
    "start_time": "2022-03-31T14:24:15.546Z"
   },
   {
    "duration": 27,
    "start_time": "2022-03-31T14:24:19.846Z"
   },
   {
    "duration": 22,
    "start_time": "2022-03-31T14:34:20.717Z"
   },
   {
    "duration": 21,
    "start_time": "2022-03-31T14:34:45.059Z"
   },
   {
    "duration": 8,
    "start_time": "2022-03-31T14:35:26.808Z"
   },
   {
    "duration": 80,
    "start_time": "2022-03-31T14:38:47.939Z"
   },
   {
    "duration": 127,
    "start_time": "2022-03-31T14:39:05.411Z"
   },
   {
    "duration": 29,
    "start_time": "2022-03-31T14:41:19.762Z"
   },
   {
    "duration": 4,
    "start_time": "2022-03-31T14:46:38.777Z"
   },
   {
    "duration": 469,
    "start_time": "2022-03-31T14:46:38.784Z"
   },
   {
    "duration": 105,
    "start_time": "2022-03-31T14:46:39.256Z"
   },
   {
    "duration": 298,
    "start_time": "2022-03-31T14:46:39.370Z"
   },
   {
    "duration": 107,
    "start_time": "2022-03-31T14:46:39.671Z"
   },
   {
    "duration": 18,
    "start_time": "2022-03-31T14:46:39.781Z"
   },
   {
    "duration": 230,
    "start_time": "2022-03-31T14:46:39.802Z"
   },
   {
    "duration": 73,
    "start_time": "2022-03-31T14:46:40.035Z"
   },
   {
    "duration": 14,
    "start_time": "2022-03-31T14:46:40.111Z"
   },
   {
    "duration": 124,
    "start_time": "2022-03-31T14:46:40.132Z"
   },
   {
    "duration": 12,
    "start_time": "2022-03-31T14:46:40.266Z"
   },
   {
    "duration": 5,
    "start_time": "2022-03-31T14:46:40.281Z"
   },
   {
    "duration": 17,
    "start_time": "2022-03-31T14:46:40.289Z"
   },
   {
    "duration": 69,
    "start_time": "2022-03-31T14:46:40.308Z"
   },
   {
    "duration": 8,
    "start_time": "2022-03-31T14:46:40.379Z"
   },
   {
    "duration": 35,
    "start_time": "2022-03-31T14:46:40.390Z"
   },
   {
    "duration": 57,
    "start_time": "2022-03-31T14:46:40.427Z"
   },
   {
    "duration": 173,
    "start_time": "2022-03-31T14:46:40.487Z"
   },
   {
    "duration": 118,
    "start_time": "2022-03-31T14:46:40.662Z"
   },
   {
    "duration": 14,
    "start_time": "2022-03-31T14:46:40.783Z"
   },
   {
    "duration": 16,
    "start_time": "2022-03-31T14:46:40.799Z"
   },
   {
    "duration": 6,
    "start_time": "2022-03-31T14:46:40.817Z"
   },
   {
    "duration": 221,
    "start_time": "2022-03-31T14:46:40.825Z"
   },
   {
    "duration": 29,
    "start_time": "2022-03-31T14:46:41.049Z"
   },
   {
    "duration": 8,
    "start_time": "2022-03-31T14:46:41.080Z"
   },
   {
    "duration": 791,
    "start_time": "2022-03-31T14:46:41.090Z"
   },
   {
    "duration": 107,
    "start_time": "2022-03-31T14:46:41.883Z"
   },
   {
    "duration": 14,
    "start_time": "2022-03-31T14:46:41.995Z"
   },
   {
    "duration": 15,
    "start_time": "2022-03-31T14:46:42.012Z"
   },
   {
    "duration": 41,
    "start_time": "2022-03-31T14:46:42.030Z"
   },
   {
    "duration": 21,
    "start_time": "2022-03-31T14:46:42.074Z"
   },
   {
    "duration": 4,
    "start_time": "2022-03-31T14:52:45.793Z"
   },
   {
    "duration": 461,
    "start_time": "2022-03-31T14:52:45.801Z"
   },
   {
    "duration": 64,
    "start_time": "2022-03-31T14:52:46.264Z"
   },
   {
    "duration": 216,
    "start_time": "2022-03-31T14:52:46.330Z"
   },
   {
    "duration": 67,
    "start_time": "2022-03-31T14:52:46.549Z"
   },
   {
    "duration": 13,
    "start_time": "2022-03-31T14:52:46.618Z"
   },
   {
    "duration": 178,
    "start_time": "2022-03-31T14:52:46.633Z"
   },
   {
    "duration": 54,
    "start_time": "2022-03-31T14:52:46.813Z"
   },
   {
    "duration": 11,
    "start_time": "2022-03-31T14:52:46.870Z"
   },
   {
    "duration": 114,
    "start_time": "2022-03-31T14:52:46.883Z"
   },
   {
    "duration": 11,
    "start_time": "2022-03-31T14:52:47.000Z"
   },
   {
    "duration": 8,
    "start_time": "2022-03-31T14:52:47.014Z"
   },
   {
    "duration": 18,
    "start_time": "2022-03-31T14:52:47.024Z"
   },
   {
    "duration": 27,
    "start_time": "2022-03-31T14:52:47.071Z"
   },
   {
    "duration": 7,
    "start_time": "2022-03-31T14:52:47.101Z"
   },
   {
    "duration": 66,
    "start_time": "2022-03-31T14:52:47.110Z"
   },
   {
    "duration": 26,
    "start_time": "2022-03-31T14:52:47.178Z"
   },
   {
    "duration": 182,
    "start_time": "2022-03-31T14:52:47.207Z"
   },
   {
    "duration": 42,
    "start_time": "2022-03-31T14:52:47.391Z"
   },
   {
    "duration": 34,
    "start_time": "2022-03-31T14:52:47.435Z"
   },
   {
    "duration": 16,
    "start_time": "2022-03-31T14:52:47.472Z"
   },
   {
    "duration": 6,
    "start_time": "2022-03-31T14:52:47.490Z"
   },
   {
    "duration": 221,
    "start_time": "2022-03-31T14:52:47.499Z"
   },
   {
    "duration": 21,
    "start_time": "2022-03-31T14:52:47.723Z"
   },
   {
    "duration": 25,
    "start_time": "2022-03-31T14:52:47.747Z"
   },
   {
    "duration": 816,
    "start_time": "2022-03-31T14:52:47.774Z"
   },
   {
    "duration": 108,
    "start_time": "2022-03-31T14:52:48.592Z"
   },
   {
    "duration": 14,
    "start_time": "2022-03-31T14:52:48.703Z"
   },
   {
    "duration": 14,
    "start_time": "2022-03-31T14:52:48.720Z"
   },
   {
    "duration": 8,
    "start_time": "2022-03-31T14:52:48.768Z"
   },
   {
    "duration": 15,
    "start_time": "2022-03-31T14:52:48.779Z"
   },
   {
    "duration": 1025,
    "start_time": "2022-04-11T14:02:27.249Z"
   },
   {
    "duration": 2277,
    "start_time": "2022-04-11T14:02:28.276Z"
   },
   {
    "duration": 57,
    "start_time": "2022-04-11T14:02:30.555Z"
   },
   {
    "duration": 167,
    "start_time": "2022-04-11T14:02:30.614Z"
   },
   {
    "duration": 43,
    "start_time": "2022-04-11T14:02:30.783Z"
   },
   {
    "duration": 8,
    "start_time": "2022-04-11T14:02:30.828Z"
   },
   {
    "duration": 109,
    "start_time": "2022-04-11T14:02:30.838Z"
   },
   {
    "duration": 36,
    "start_time": "2022-04-11T14:02:30.949Z"
   },
   {
    "duration": 7,
    "start_time": "2022-04-11T14:02:30.986Z"
   },
   {
    "duration": 87,
    "start_time": "2022-04-11T14:02:30.996Z"
   },
   {
    "duration": 8,
    "start_time": "2022-04-11T14:02:31.084Z"
   },
   {
    "duration": 18,
    "start_time": "2022-04-11T14:02:31.093Z"
   },
   {
    "duration": 21,
    "start_time": "2022-04-11T14:02:31.112Z"
   },
   {
    "duration": 20,
    "start_time": "2022-04-11T14:02:31.135Z"
   },
   {
    "duration": 4,
    "start_time": "2022-04-11T14:02:31.157Z"
   },
   {
    "duration": 33,
    "start_time": "2022-04-11T14:02:31.163Z"
   },
   {
    "duration": 16,
    "start_time": "2022-04-11T14:02:31.198Z"
   },
   {
    "duration": 134,
    "start_time": "2022-04-11T14:02:31.216Z"
   },
   {
    "duration": 31,
    "start_time": "2022-04-11T14:02:31.351Z"
   },
   {
    "duration": 9,
    "start_time": "2022-04-11T14:02:31.384Z"
   },
   {
    "duration": 18,
    "start_time": "2022-04-11T14:02:31.395Z"
   },
   {
    "duration": 10,
    "start_time": "2022-04-11T14:02:31.414Z"
   },
   {
    "duration": 120,
    "start_time": "2022-04-11T14:02:31.426Z"
   },
   {
    "duration": 13,
    "start_time": "2022-04-11T14:02:31.547Z"
   },
   {
    "duration": 5,
    "start_time": "2022-04-11T14:02:31.561Z"
   },
   {
    "duration": 921,
    "start_time": "2022-04-11T14:02:31.581Z"
   },
   {
    "duration": 52,
    "start_time": "2022-04-11T14:02:32.504Z"
   },
   {
    "duration": 27,
    "start_time": "2022-04-11T14:02:32.559Z"
   },
   {
    "duration": 17,
    "start_time": "2022-04-11T14:02:32.588Z"
   },
   {
    "duration": 5,
    "start_time": "2022-04-11T14:02:32.607Z"
   },
   {
    "duration": 15,
    "start_time": "2022-04-11T14:02:32.614Z"
   },
   {
    "duration": 23,
    "start_time": "2022-04-11T14:04:18.001Z"
   },
   {
    "duration": 12,
    "start_time": "2022-04-11T14:04:41.017Z"
   },
   {
    "duration": 18,
    "start_time": "2022-04-11T14:05:23.599Z"
   },
   {
    "duration": 24,
    "start_time": "2022-04-11T14:13:11.697Z"
   },
   {
    "duration": 45,
    "start_time": "2022-04-11T14:13:41.326Z"
   },
   {
    "duration": 1812,
    "start_time": "2022-04-11T19:41:30.762Z"
   },
   {
    "duration": 994,
    "start_time": "2022-04-11T19:41:32.577Z"
   },
   {
    "duration": 278,
    "start_time": "2022-04-11T19:41:33.574Z"
   },
   {
    "duration": 434,
    "start_time": "2022-04-11T19:41:33.854Z"
   },
   {
    "duration": 107,
    "start_time": "2022-04-11T19:41:34.344Z"
   },
   {
    "duration": 13,
    "start_time": "2022-04-11T19:41:34.453Z"
   },
   {
    "duration": 476,
    "start_time": "2022-04-11T19:41:34.468Z"
   },
   {
    "duration": 113,
    "start_time": "2022-04-11T19:41:34.947Z"
   },
   {
    "duration": 15,
    "start_time": "2022-04-11T19:41:35.063Z"
   },
   {
    "duration": 311,
    "start_time": "2022-04-11T19:41:35.144Z"
   },
   {
    "duration": 12,
    "start_time": "2022-04-11T19:41:35.458Z"
   },
   {
    "duration": 73,
    "start_time": "2022-04-11T19:41:35.473Z"
   },
   {
    "duration": 95,
    "start_time": "2022-04-11T19:41:35.549Z"
   },
   {
    "duration": 99,
    "start_time": "2022-04-11T19:41:35.649Z"
   },
   {
    "duration": 10,
    "start_time": "2022-04-11T19:41:35.751Z"
   },
   {
    "duration": 181,
    "start_time": "2022-04-11T19:41:35.764Z"
   },
   {
    "duration": 28,
    "start_time": "2022-04-11T19:41:35.947Z"
   },
   {
    "duration": 386,
    "start_time": "2022-04-11T19:41:35.977Z"
   },
   {
    "duration": 177,
    "start_time": "2022-04-11T19:41:36.366Z"
   },
   {
    "duration": 23,
    "start_time": "2022-04-11T19:41:36.546Z"
   },
   {
    "duration": 16,
    "start_time": "2022-04-11T19:41:36.572Z"
   },
   {
    "duration": 8,
    "start_time": "2022-04-11T19:41:36.643Z"
   },
   {
    "duration": 428,
    "start_time": "2022-04-11T19:41:36.653Z"
   },
   {
    "duration": 73,
    "start_time": "2022-04-11T19:41:37.084Z"
   },
   {
    "duration": 7,
    "start_time": "2022-04-11T19:41:37.160Z"
   },
   {
    "duration": 3385,
    "start_time": "2022-04-11T19:41:37.169Z"
   },
   {
    "duration": 314,
    "start_time": "2022-04-11T19:41:40.557Z"
   },
   {
    "duration": 281,
    "start_time": "2022-04-11T19:41:40.875Z"
   },
   {
    "duration": 88,
    "start_time": "2022-04-11T19:41:41.160Z"
   },
   {
    "duration": 21,
    "start_time": "2022-04-11T19:41:41.251Z"
   },
   {
    "duration": 8,
    "start_time": "2022-04-11T19:41:41.345Z"
   },
   {
    "duration": 93,
    "start_time": "2022-04-11T19:41:41.359Z"
   },
   {
    "duration": 544,
    "start_time": "2022-04-11T19:46:37.815Z"
   },
   {
    "duration": 231,
    "start_time": "2022-04-11T19:47:48.964Z"
   },
   {
    "duration": 463,
    "start_time": "2022-04-11T19:49:19.203Z"
   },
   {
    "duration": 656,
    "start_time": "2022-04-11T19:49:28.132Z"
   },
   {
    "duration": 853,
    "start_time": "2022-04-11T19:49:32.819Z"
   },
   {
    "duration": 5,
    "start_time": "2022-04-11T19:49:39.571Z"
   },
   {
    "duration": 1609,
    "start_time": "2022-04-11T19:49:39.585Z"
   },
   {
    "duration": 255,
    "start_time": "2022-04-11T19:49:41.198Z"
   },
   {
    "duration": 791,
    "start_time": "2022-04-11T19:49:41.459Z"
   },
   {
    "duration": 692,
    "start_time": "2022-04-11T19:49:42.255Z"
   },
   {
    "duration": 198,
    "start_time": "2022-04-11T19:49:42.950Z"
   },
   {
    "duration": 703,
    "start_time": "2022-04-11T19:49:43.151Z"
   },
   {
    "duration": 18,
    "start_time": "2022-04-11T19:49:43.857Z"
   },
   {
    "duration": 480,
    "start_time": "2022-04-11T19:49:43.878Z"
   },
   {
    "duration": 114,
    "start_time": "2022-04-11T19:49:44.361Z"
   },
   {
    "duration": 71,
    "start_time": "2022-04-11T19:49:44.481Z"
   },
   {
    "duration": 318,
    "start_time": "2022-04-11T19:49:44.555Z"
   },
   {
    "duration": 70,
    "start_time": "2022-04-11T19:49:44.876Z"
   },
   {
    "duration": 19,
    "start_time": "2022-04-11T19:49:44.949Z"
   },
   {
    "duration": 83,
    "start_time": "2022-04-11T19:49:44.972Z"
   },
   {
    "duration": 97,
    "start_time": "2022-04-11T19:49:45.058Z"
   },
   {
    "duration": 7,
    "start_time": "2022-04-11T19:49:45.158Z"
   },
   {
    "duration": 115,
    "start_time": "2022-04-11T19:49:45.168Z"
   },
   {
    "duration": 88,
    "start_time": "2022-04-11T19:49:45.285Z"
   },
   {
    "duration": 3099,
    "start_time": "2022-04-11T19:49:45.379Z"
   },
   {
    "duration": 100,
    "start_time": "2022-04-11T19:49:48.481Z"
   },
   {
    "duration": 75,
    "start_time": "2022-04-11T19:49:48.584Z"
   },
   {
    "duration": 93,
    "start_time": "2022-04-11T19:49:48.663Z"
   },
   {
    "duration": 10,
    "start_time": "2022-04-11T19:49:48.758Z"
   },
   {
    "duration": 397,
    "start_time": "2022-04-11T19:49:48.771Z"
   },
   {
    "duration": 81,
    "start_time": "2022-04-11T19:49:49.171Z"
   },
   {
    "duration": 20,
    "start_time": "2022-04-11T19:49:49.255Z"
   },
   {
    "duration": 1707,
    "start_time": "2022-04-11T19:49:49.279Z"
   },
   {
    "duration": 198,
    "start_time": "2022-04-11T19:49:51.049Z"
   },
   {
    "duration": 119,
    "start_time": "2022-04-11T19:49:51.250Z"
   },
   {
    "duration": 74,
    "start_time": "2022-04-11T19:49:51.373Z"
   },
   {
    "duration": 19,
    "start_time": "2022-04-11T19:49:51.450Z"
   },
   {
    "duration": 73,
    "start_time": "2022-04-11T19:49:51.472Z"
   },
   {
    "duration": 28,
    "start_time": "2022-04-11T19:49:51.548Z"
   },
   {
    "duration": 211,
    "start_time": "2022-04-11T19:52:02.843Z"
   },
   {
    "duration": 403,
    "start_time": "2022-04-11T19:53:46.776Z"
   },
   {
    "duration": 5953,
    "start_time": "2022-04-11T19:54:10.758Z"
   },
   {
    "duration": 10,
    "start_time": "2022-04-11T19:54:20.908Z"
   },
   {
    "duration": 1212,
    "start_time": "2022-04-11T19:54:20.942Z"
   },
   {
    "duration": 102,
    "start_time": "2022-04-11T19:54:22.157Z"
   },
   {
    "duration": 392,
    "start_time": "2022-04-11T19:54:22.262Z"
   },
   {
    "duration": 421,
    "start_time": "2022-04-11T19:54:22.657Z"
   },
   {
    "duration": 182,
    "start_time": "2022-04-11T19:54:23.082Z"
   },
   {
    "duration": 975,
    "start_time": "2022-04-11T19:54:23.268Z"
   },
   {
    "duration": 16,
    "start_time": "2022-04-11T19:54:24.248Z"
   },
   {
    "duration": 305,
    "start_time": "2022-04-11T19:54:24.267Z"
   },
   {
    "duration": 43,
    "start_time": "2022-04-11T19:54:24.576Z"
   },
   {
    "duration": 273,
    "start_time": "2022-04-11T19:54:24.621Z"
   },
   {
    "duration": 14,
    "start_time": "2022-04-11T19:54:24.897Z"
   },
   {
    "duration": 258,
    "start_time": "2022-04-11T19:54:24.913Z"
   },
   {
    "duration": 15,
    "start_time": "2022-04-11T19:54:25.174Z"
   },
   {
    "duration": 51,
    "start_time": "2022-04-11T19:54:25.192Z"
   },
   {
    "duration": 22,
    "start_time": "2022-04-11T19:54:25.248Z"
   },
   {
    "duration": 28,
    "start_time": "2022-04-11T19:54:25.273Z"
   },
   {
    "duration": 46,
    "start_time": "2022-04-11T19:54:25.304Z"
   },
   {
    "duration": 42,
    "start_time": "2022-04-11T19:54:25.352Z"
   },
   {
    "duration": 55,
    "start_time": "2022-04-11T19:54:25.396Z"
   },
   {
    "duration": 239,
    "start_time": "2022-04-11T19:54:25.454Z"
   },
   {
    "duration": 76,
    "start_time": "2022-04-11T19:54:25.696Z"
   },
   {
    "duration": 21,
    "start_time": "2022-04-11T19:54:25.774Z"
   },
   {
    "duration": 49,
    "start_time": "2022-04-11T19:54:25.798Z"
   },
   {
    "duration": 8,
    "start_time": "2022-04-11T19:54:25.850Z"
   },
   {
    "duration": 330,
    "start_time": "2022-04-11T19:54:25.861Z"
   },
   {
    "duration": 26,
    "start_time": "2022-04-11T19:54:26.193Z"
   },
   {
    "duration": 27,
    "start_time": "2022-04-11T19:54:26.225Z"
   },
   {
    "duration": 1114,
    "start_time": "2022-04-11T19:54:26.255Z"
   },
   {
    "duration": 108,
    "start_time": "2022-04-11T19:54:27.372Z"
   },
   {
    "duration": 80,
    "start_time": "2022-04-11T19:54:27.483Z"
   },
   {
    "duration": 16,
    "start_time": "2022-04-11T19:54:27.566Z"
   },
   {
    "duration": 20,
    "start_time": "2022-04-11T19:54:27.585Z"
   },
   {
    "duration": 14,
    "start_time": "2022-04-11T19:54:27.608Z"
   },
   {
    "duration": 17,
    "start_time": "2022-04-11T19:54:27.644Z"
   },
   {
    "duration": 14,
    "start_time": "2022-04-11T19:56:32.032Z"
   },
   {
    "duration": 241,
    "start_time": "2022-04-11T19:58:36.207Z"
   },
   {
    "duration": 4,
    "start_time": "2022-04-11T20:02:13.014Z"
   },
   {
    "duration": 730,
    "start_time": "2022-04-11T20:02:13.022Z"
   },
   {
    "duration": 97,
    "start_time": "2022-04-11T20:02:13.754Z"
   },
   {
    "duration": 369,
    "start_time": "2022-04-11T20:02:13.855Z"
   },
   {
    "duration": 228,
    "start_time": "2022-04-11T20:02:14.228Z"
   },
   {
    "duration": 60,
    "start_time": "2022-04-11T20:02:14.459Z"
   },
   {
    "duration": 375,
    "start_time": "2022-04-11T20:02:14.522Z"
   },
   {
    "duration": 20,
    "start_time": "2022-04-11T20:02:14.900Z"
   },
   {
    "duration": 200,
    "start_time": "2022-04-11T20:02:14.923Z"
   },
   {
    "duration": 48,
    "start_time": "2022-04-11T20:02:15.126Z"
   },
   {
    "duration": 13,
    "start_time": "2022-04-11T20:02:15.177Z"
   },
   {
    "duration": 162,
    "start_time": "2022-04-11T20:02:15.193Z"
   },
   {
    "duration": 14,
    "start_time": "2022-04-11T20:02:15.359Z"
   },
   {
    "duration": 8,
    "start_time": "2022-04-11T20:02:15.377Z"
   },
   {
    "duration": 18,
    "start_time": "2022-04-11T20:02:15.387Z"
   },
   {
    "duration": 67,
    "start_time": "2022-04-11T20:02:15.408Z"
   },
   {
    "duration": 7,
    "start_time": "2022-04-11T20:02:15.477Z"
   },
   {
    "duration": 67,
    "start_time": "2022-04-11T20:02:15.486Z"
   },
   {
    "duration": 31,
    "start_time": "2022-04-11T20:02:15.557Z"
   },
   {
    "duration": 230,
    "start_time": "2022-04-11T20:02:15.591Z"
   },
   {
    "duration": 166,
    "start_time": "2022-04-11T20:02:15.824Z"
   },
   {
    "duration": 15,
    "start_time": "2022-04-11T20:02:15.993Z"
   },
   {
    "duration": 46,
    "start_time": "2022-04-11T20:02:16.012Z"
   },
   {
    "duration": 7,
    "start_time": "2022-04-11T20:02:16.061Z"
   },
   {
    "duration": 230,
    "start_time": "2022-04-11T20:02:16.071Z"
   },
   {
    "duration": 20,
    "start_time": "2022-04-11T20:02:16.304Z"
   },
   {
    "duration": 26,
    "start_time": "2022-04-11T20:02:16.327Z"
   },
   {
    "duration": 938,
    "start_time": "2022-04-11T20:02:16.360Z"
   },
   {
    "duration": 147,
    "start_time": "2022-04-11T20:02:17.300Z"
   },
   {
    "duration": 81,
    "start_time": "2022-04-11T20:02:17.450Z"
   },
   {
    "duration": 19,
    "start_time": "2022-04-11T20:02:17.544Z"
   },
   {
    "duration": 28,
    "start_time": "2022-04-11T20:02:17.566Z"
   },
   {
    "duration": 6,
    "start_time": "2022-04-11T20:02:17.597Z"
   },
   {
    "duration": 54,
    "start_time": "2022-04-11T20:02:17.606Z"
   },
   {
    "duration": 5,
    "start_time": "2022-04-11T20:04:53.242Z"
   },
   {
    "duration": 547,
    "start_time": "2022-04-11T20:04:53.250Z"
   },
   {
    "duration": 100,
    "start_time": "2022-04-11T20:04:53.801Z"
   },
   {
    "duration": 393,
    "start_time": "2022-04-11T20:04:53.905Z"
   },
   {
    "duration": 244,
    "start_time": "2022-04-11T20:04:54.301Z"
   },
   {
    "duration": 62,
    "start_time": "2022-04-11T20:04:54.547Z"
   },
   {
    "duration": 268,
    "start_time": "2022-04-11T20:04:54.612Z"
   },
   {
    "duration": 13,
    "start_time": "2022-04-11T20:04:54.883Z"
   },
   {
    "duration": 200,
    "start_time": "2022-04-11T20:04:54.899Z"
   },
   {
    "duration": 26,
    "start_time": "2022-04-11T20:04:55.103Z"
   },
   {
    "duration": 17,
    "start_time": "2022-04-11T20:04:55.144Z"
   },
   {
    "duration": 124,
    "start_time": "2022-04-11T20:04:55.164Z"
   },
   {
    "duration": 13,
    "start_time": "2022-04-11T20:04:55.292Z"
   },
   {
    "duration": 15,
    "start_time": "2022-04-11T20:04:55.308Z"
   },
   {
    "duration": 35,
    "start_time": "2022-04-11T20:04:55.325Z"
   },
   {
    "duration": 30,
    "start_time": "2022-04-11T20:04:55.363Z"
   },
   {
    "duration": 12,
    "start_time": "2022-04-11T20:04:55.395Z"
   },
   {
    "duration": 61,
    "start_time": "2022-04-11T20:04:55.410Z"
   },
   {
    "duration": 28,
    "start_time": "2022-04-11T20:04:55.474Z"
   },
   {
    "duration": 217,
    "start_time": "2022-04-11T20:04:55.505Z"
   },
   {
    "duration": 55,
    "start_time": "2022-04-11T20:04:55.724Z"
   },
   {
    "duration": 15,
    "start_time": "2022-04-11T20:04:55.782Z"
   },
   {
    "duration": 43,
    "start_time": "2022-04-11T20:04:55.800Z"
   },
   {
    "duration": 6,
    "start_time": "2022-04-11T20:04:55.846Z"
   },
   {
    "duration": 205,
    "start_time": "2022-04-11T20:04:55.854Z"
   },
   {
    "duration": 36,
    "start_time": "2022-04-11T20:04:56.061Z"
   },
   {
    "duration": 47,
    "start_time": "2022-04-11T20:04:56.099Z"
   },
   {
    "duration": 9,
    "start_time": "2022-04-11T20:04:56.151Z"
   },
   {
    "duration": 966,
    "start_time": "2022-04-11T20:04:56.163Z"
   },
   {
    "duration": 94,
    "start_time": "2022-04-11T20:04:57.131Z"
   },
   {
    "duration": 59,
    "start_time": "2022-04-11T20:04:57.243Z"
   },
   {
    "duration": 40,
    "start_time": "2022-04-11T20:04:57.305Z"
   },
   {
    "duration": 22,
    "start_time": "2022-04-11T20:04:57.348Z"
   },
   {
    "duration": 73,
    "start_time": "2022-04-11T20:04:57.373Z"
   },
   {
    "duration": 24,
    "start_time": "2022-04-11T20:04:57.449Z"
   },
   {
    "duration": 4,
    "start_time": "2022-04-11T20:11:53.285Z"
   },
   {
    "duration": 746,
    "start_time": "2022-04-11T20:11:53.292Z"
   },
   {
    "duration": 64,
    "start_time": "2022-04-11T20:11:54.040Z"
   },
   {
    "duration": 387,
    "start_time": "2022-04-11T20:11:54.107Z"
   },
   {
    "duration": 229,
    "start_time": "2022-04-11T20:11:54.496Z"
   },
   {
    "duration": 71,
    "start_time": "2022-04-11T20:11:54.728Z"
   },
   {
    "duration": 261,
    "start_time": "2022-04-11T20:11:54.801Z"
   },
   {
    "duration": 19,
    "start_time": "2022-04-11T20:11:55.065Z"
   },
   {
    "duration": 240,
    "start_time": "2022-04-11T20:11:55.087Z"
   },
   {
    "duration": 43,
    "start_time": "2022-04-11T20:11:55.332Z"
   },
   {
    "duration": 11,
    "start_time": "2022-04-11T20:11:55.378Z"
   },
   {
    "duration": 134,
    "start_time": "2022-04-11T20:11:55.391Z"
   },
   {
    "duration": 22,
    "start_time": "2022-04-11T20:11:55.527Z"
   },
   {
    "duration": 7,
    "start_time": "2022-04-11T20:11:55.552Z"
   },
   {
    "duration": 18,
    "start_time": "2022-04-11T20:11:55.562Z"
   },
   {
    "duration": 61,
    "start_time": "2022-04-11T20:11:55.582Z"
   },
   {
    "duration": 8,
    "start_time": "2022-04-11T20:11:55.646Z"
   },
   {
    "duration": 37,
    "start_time": "2022-04-11T20:11:55.656Z"
   },
   {
    "duration": 54,
    "start_time": "2022-04-11T20:11:55.696Z"
   },
   {
    "duration": 192,
    "start_time": "2022-04-11T20:11:55.753Z"
   },
   {
    "duration": 44,
    "start_time": "2022-04-11T20:11:55.948Z"
   },
   {
    "duration": 15,
    "start_time": "2022-04-11T20:11:55.994Z"
   },
   {
    "duration": 51,
    "start_time": "2022-04-11T20:11:56.012Z"
   },
   {
    "duration": 6,
    "start_time": "2022-04-11T20:11:56.066Z"
   },
   {
    "duration": 206,
    "start_time": "2022-04-11T20:11:56.074Z"
   },
   {
    "duration": 25,
    "start_time": "2022-04-11T20:11:56.283Z"
   },
   {
    "duration": 7,
    "start_time": "2022-04-11T20:11:56.310Z"
   },
   {
    "duration": 747,
    "start_time": "2022-04-11T20:11:56.346Z"
   },
   {
    "duration": 150,
    "start_time": "2022-04-11T20:11:57.095Z"
   },
   {
    "duration": 59,
    "start_time": "2022-04-11T20:11:57.248Z"
   },
   {
    "duration": 34,
    "start_time": "2022-04-11T20:11:57.310Z"
   },
   {
    "duration": 19,
    "start_time": "2022-04-11T20:11:57.347Z"
   },
   {
    "duration": 11,
    "start_time": "2022-04-11T20:11:57.368Z"
   },
   {
    "duration": 23,
    "start_time": "2022-04-11T20:11:57.382Z"
   },
   {
    "duration": 3,
    "start_time": "2022-04-11T20:49:34.290Z"
   },
   {
    "duration": 516,
    "start_time": "2022-04-11T20:49:34.296Z"
   },
   {
    "duration": 96,
    "start_time": "2022-04-11T20:49:34.815Z"
   },
   {
    "duration": 269,
    "start_time": "2022-04-11T20:49:34.915Z"
   },
   {
    "duration": 247,
    "start_time": "2022-04-11T20:49:35.187Z"
   },
   {
    "duration": 85,
    "start_time": "2022-04-11T20:49:35.443Z"
   },
   {
    "duration": 356,
    "start_time": "2022-04-11T20:49:35.542Z"
   },
   {
    "duration": 15,
    "start_time": "2022-04-11T20:49:35.901Z"
   },
   {
    "duration": 201,
    "start_time": "2022-04-11T20:49:35.919Z"
   },
   {
    "duration": 36,
    "start_time": "2022-04-11T20:49:36.123Z"
   },
   {
    "duration": 11,
    "start_time": "2022-04-11T20:49:36.163Z"
   },
   {
    "duration": 156,
    "start_time": "2022-04-11T20:49:36.176Z"
   },
   {
    "duration": 15,
    "start_time": "2022-04-11T20:49:36.342Z"
   },
   {
    "duration": 17,
    "start_time": "2022-04-11T20:49:36.359Z"
   },
   {
    "duration": 26,
    "start_time": "2022-04-11T20:49:36.379Z"
   },
   {
    "duration": 38,
    "start_time": "2022-04-11T20:49:36.408Z"
   },
   {
    "duration": 7,
    "start_time": "2022-04-11T20:49:36.449Z"
   },
   {
    "duration": 75,
    "start_time": "2022-04-11T20:49:36.458Z"
   },
   {
    "duration": 27,
    "start_time": "2022-04-11T20:49:36.536Z"
   },
   {
    "duration": 209,
    "start_time": "2022-04-11T20:49:36.565Z"
   },
   {
    "duration": 45,
    "start_time": "2022-04-11T20:49:36.777Z"
   },
   {
    "duration": 30,
    "start_time": "2022-04-11T20:49:36.825Z"
   },
   {
    "duration": 17,
    "start_time": "2022-04-11T20:49:36.858Z"
   },
   {
    "duration": 6,
    "start_time": "2022-04-11T20:49:36.878Z"
   },
   {
    "duration": 219,
    "start_time": "2022-04-11T20:49:36.886Z"
   },
   {
    "duration": 20,
    "start_time": "2022-04-11T20:49:37.107Z"
   },
   {
    "duration": 10,
    "start_time": "2022-04-11T20:49:37.142Z"
   },
   {
    "duration": 864,
    "start_time": "2022-04-11T20:49:37.155Z"
   },
   {
    "duration": 100,
    "start_time": "2022-04-11T20:49:38.026Z"
   },
   {
    "duration": 63,
    "start_time": "2022-04-11T20:49:38.143Z"
   },
   {
    "duration": 36,
    "start_time": "2022-04-11T20:49:38.209Z"
   },
   {
    "duration": 18,
    "start_time": "2022-04-11T20:49:38.248Z"
   },
   {
    "duration": 19,
    "start_time": "2022-04-11T20:49:38.268Z"
   },
   {
    "duration": 31,
    "start_time": "2022-04-11T20:49:38.289Z"
   },
   {
    "duration": 767,
    "start_time": "2022-08-15T19:53:34.692Z"
   },
   {
    "duration": 1464,
    "start_time": "2022-08-15T19:53:35.461Z"
   },
   {
    "duration": 53,
    "start_time": "2022-08-15T19:53:36.927Z"
   },
   {
    "duration": 513,
    "start_time": "2022-08-15T19:53:36.982Z"
   },
   {
    "duration": 149,
    "start_time": "2022-08-15T19:53:37.497Z"
   },
   {
    "duration": 46,
    "start_time": "2022-08-15T19:53:37.648Z"
   },
   {
    "duration": 150,
    "start_time": "2022-08-15T19:53:37.696Z"
   },
   {
    "duration": 8,
    "start_time": "2022-08-15T19:53:37.848Z"
   },
   {
    "duration": 100,
    "start_time": "2022-08-15T19:53:37.857Z"
   },
   {
    "duration": 18,
    "start_time": "2022-08-15T19:53:37.959Z"
   },
   {
    "duration": 6,
    "start_time": "2022-08-15T19:53:37.978Z"
   },
   {
    "duration": 76,
    "start_time": "2022-08-15T19:53:37.986Z"
   },
   {
    "duration": 8,
    "start_time": "2022-08-15T19:53:38.064Z"
   },
   {
    "duration": 3,
    "start_time": "2022-08-15T19:53:38.075Z"
   },
   {
    "duration": 12,
    "start_time": "2022-08-15T19:53:38.080Z"
   },
   {
    "duration": 15,
    "start_time": "2022-08-15T19:53:38.094Z"
   },
   {
    "duration": 4,
    "start_time": "2022-08-15T19:53:38.110Z"
   },
   {
    "duration": 23,
    "start_time": "2022-08-15T19:53:38.138Z"
   },
   {
    "duration": 17,
    "start_time": "2022-08-15T19:53:38.162Z"
   },
   {
    "duration": 152,
    "start_time": "2022-08-15T19:53:38.181Z"
   },
   {
    "duration": 29,
    "start_time": "2022-08-15T19:53:38.334Z"
   },
   {
    "duration": 8,
    "start_time": "2022-08-15T19:53:38.365Z"
   },
   {
    "duration": 11,
    "start_time": "2022-08-15T19:53:38.374Z"
   },
   {
    "duration": 4,
    "start_time": "2022-08-15T19:53:38.386Z"
   },
   {
    "duration": 125,
    "start_time": "2022-08-15T19:53:38.391Z"
   },
   {
    "duration": 13,
    "start_time": "2022-08-15T19:53:38.517Z"
   },
   {
    "duration": 5,
    "start_time": "2022-08-15T19:53:38.538Z"
   },
   {
    "duration": 472,
    "start_time": "2022-08-15T19:53:38.544Z"
   },
   {
    "duration": 75,
    "start_time": "2022-08-15T19:53:39.018Z"
   },
   {
    "duration": 10,
    "start_time": "2022-08-15T19:53:39.095Z"
   },
   {
    "duration": 34,
    "start_time": "2022-08-15T19:53:39.107Z"
   },
   {
    "duration": 4,
    "start_time": "2022-08-15T19:53:39.142Z"
   },
   {
    "duration": 9,
    "start_time": "2022-08-15T19:53:39.148Z"
   }
  ],
  "kernelspec": {
   "display_name": "Python 3 (ipykernel)",
   "language": "python",
   "name": "python3"
  },
  "language_info": {
   "codemirror_mode": {
    "name": "ipython",
    "version": 3
   },
   "file_extension": ".py",
   "mimetype": "text/x-python",
   "name": "python",
   "nbconvert_exporter": "python",
   "pygments_lexer": "ipython3",
   "version": "3.9.5"
  },
  "toc": {
   "base_numbering": 1,
   "nav_menu": {},
   "number_sections": false,
   "sideBar": true,
   "skip_h1_title": false,
   "title_cell": "Содержание",
   "title_sidebar": "Contents",
   "toc_cell": true,
   "toc_position": {},
   "toc_section_display": true,
   "toc_window_display": true
  }
 },
 "nbformat": 4,
 "nbformat_minor": 5
}
