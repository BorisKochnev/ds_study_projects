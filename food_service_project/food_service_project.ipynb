{
 "cells": [
  {
   "cell_type": "markdown",
   "metadata": {},
   "source": [
    "# Проект \"Исследование общественного питания в Москве\""
   ]
  },
  {
   "cell_type": "markdown",
   "metadata": {},
   "source": [
    "<strong> Описание проекта </strong>\n",
    "\n",
    "Инвесторы попросили проанализировать рынок заведений питания Москвы и выявить самые перспективные места для размещения небольшого кафе, а также дать рекомендации о направлении заведения и количестве посадочных мест"
   ]
  },
  {
   "cell_type": "markdown",
   "metadata": {},
   "source": [
    "<strong> Цель проекта </strong>\n",
    "\n",
    "Подготовить исследование рынка на основе открытых данных о заведениях общественного питания в Москве"
   ]
  },
  {
   "cell_type": "markdown",
   "metadata": {
    "toc": true
   },
   "source": [
    "<h1>Содержание<span class=\"tocSkip\"></span></h1>\n",
    "<div class=\"toc\"><ul class=\"toc-item\"><li><span><a href=\"#Загрузка-данных-и-подготовка-данных-к-анализу\" data-toc-modified-id=\"Загрузка-данных-и-подготовка-данных-к-анализу-1\"><span class=\"toc-item-num\">1&nbsp;&nbsp;</span>Загрузка данных и подготовка данных к анализу</a></span></li><li><span><a href=\"#Исследование-соотношения-видов-объектов-общественного-питания-по-количеству\" data-toc-modified-id=\"Исследование-соотношения-видов-объектов-общественного-питания-по-количеству-2\"><span class=\"toc-item-num\">2&nbsp;&nbsp;</span>Исследование соотношения видов объектов общественного питания по количеству</a></span></li><li><span><a href=\"#Исследование-соотношения-сетевых-и-несетевых-заведений-по-количеству\" data-toc-modified-id=\"Исследование-соотношения-сетевых-и-несетевых-заведений-по-количеству-3\"><span class=\"toc-item-num\">3&nbsp;&nbsp;</span>Исследование соотношения сетевых и несетевых заведений по количеству</a></span></li><li><span><a href=\"#Для-какого-вида-объекта-общественного-питания-характерно-сетевое-распространение?\" data-toc-modified-id=\"Для-какого-вида-объекта-общественного-питания-характерно-сетевое-распространение?-4\"><span class=\"toc-item-num\">4&nbsp;&nbsp;</span>Для какого вида объекта общественного питания характерно сетевое распространение?</a></span></li><li><span><a href=\"#Что-характерно-для-сетевых-заведений:-много-заведений-с-небольшим-числом-посадочных-мест-в-каждом-или-мало-заведений-с-большим-количеством-посадочных-мест?\" data-toc-modified-id=\"Что-характерно-для-сетевых-заведений:-много-заведений-с-небольшим-числом-посадочных-мест-в-каждом-или-мало-заведений-с-большим-количеством-посадочных-мест?-5\"><span class=\"toc-item-num\">5&nbsp;&nbsp;</span>Что характерно для сетевых заведений: много заведений с небольшим числом посадочных мест в каждом или мало заведений с большим количеством посадочных мест?</a></span></li><li><span><a href=\"#Описание-среднего-количества-посадочных-мест-для-каждого-вида-объекта-общественного-питания.-Какой-вид-предоставляет-в-среднем-самое-большое-количество-посадочных-мест?\" data-toc-modified-id=\"Описание-среднего-количества-посадочных-мест-для-каждого-вида-объекта-общественного-питания.-Какой-вид-предоставляет-в-среднем-самое-большое-количество-посадочных-мест?-6\"><span class=\"toc-item-num\">6&nbsp;&nbsp;</span>Описание среднего количества посадочных мест для каждого вида объекта общественного питания. Какой вид предоставляет в среднем самое большое количество посадочных мест?</a></span></li><li><span><a href=\"#Выделение-информации-об-улице-в-отдельный-столбец\" data-toc-modified-id=\"Выделение-информации-об-улице-в-отдельный-столбец-7\"><span class=\"toc-item-num\">7&nbsp;&nbsp;</span>Выделение информации об улице в отдельный столбец</a></span></li><li><span><a href=\"#Топ-10-улиц-по-количеству-объектов-общественного-питания.-В-каких-районах-Москвы-находятся-эти-улицы?\" data-toc-modified-id=\"Топ-10-улиц-по-количеству-объектов-общественного-питания.-В-каких-районах-Москвы-находятся-эти-улицы?-8\"><span class=\"toc-item-num\">8&nbsp;&nbsp;</span>Топ-10 улиц по количеству объектов общественного питания. В каких районах Москвы находятся эти улицы?</a></span></li><li><span><a href=\"#Подсчёт-количества-улиц-с-одним-объектом-общественного-питания.-В-каких-районах-Москвы-находятся-эти-улицы?\" data-toc-modified-id=\"Подсчёт-количества-улиц-с-одним-объектом-общественного-питания.-В-каких-районах-Москвы-находятся-эти-улицы?-9\"><span class=\"toc-item-num\">9&nbsp;&nbsp;</span>Подсчёт количества улиц с одним объектом общественного питания. В каких районах Москвы находятся эти улицы?</a></span></li><li><span><a href=\"#Выводы-по-проекту-и-презентация\" data-toc-modified-id=\"Выводы-по-проекту-и-презентация-10\"><span class=\"toc-item-num\">10&nbsp;&nbsp;</span>Выводы по проекту и презентация</a></span></li></ul></div>"
   ]
  },
  {
   "cell_type": "markdown",
   "metadata": {},
   "source": [
    "## Загрузка данных и подготовка данных к анализу"
   ]
  },
  {
   "cell_type": "code",
   "execution_count": 1,
   "metadata": {},
   "outputs": [],
   "source": [
    "import pandas as pd\n",
    "import numpy as np\n",
    "import seaborn as sns\n",
    "from matplotlib import pyplot as plt\n",
    "import warnings\n",
    "from io import BytesIO\n",
    "import requests"
   ]
  },
  {
   "cell_type": "code",
   "execution_count": 2,
   "metadata": {
    "scrolled": false
   },
   "outputs": [],
   "source": [
    "spreadsheet_id = '1qUybHGufVBdlLX9GALhS-jo95gtuQIZyFq-iMhH2aLY'\n",
    "file_name = 'https://docs.google.com/spreadsheets/d/{}/export?format=csv'.format(spreadsheet_id)\n",
    "r = requests.get(file_name)\n",
    "moscow_streets = pd.read_csv(BytesIO(r.content))\n",
    "moscow_streets.columns = ['street', 'areaid', 'okrug', 'area']"
   ]
  },
  {
   "cell_type": "markdown",
   "metadata": {},
   "source": [
    "Итак, вспомогательная таблица состоит из 4 столбцов:\n",
    "* `street` — название улицы;\n",
    "* `areaid` — id района;\n",
    "* `okrug` — название округа;\n",
    "* `area` — название района;"
   ]
  },
  {
   "cell_type": "markdown",
   "metadata": {},
   "source": [
    "Улица может принадлежать сразу к нескольким районам или административным округам. Для удобства можно сгруппировать эту информацию в ячейках:"
   ]
  },
  {
   "cell_type": "code",
   "execution_count": 3,
   "metadata": {},
   "outputs": [],
   "source": [
    "moscow_streets = (\n",
    "    moscow_streets\n",
    "    .groupby('street', as_index=False)\n",
    "    .agg({'okrug' : lambda x: ', '.join(np.unique(list(x)))\n",
    "        , 'area' : lambda x: ', '.join(np.unique(list(x)))\n",
    "         })\n",
    ")"
   ]
  },
  {
   "cell_type": "code",
   "execution_count": 4,
   "metadata": {},
   "outputs": [
    {
     "data": {
      "text/html": [
       "<div>\n",
       "<style scoped>\n",
       "    .dataframe tbody tr th:only-of-type {\n",
       "        vertical-align: middle;\n",
       "    }\n",
       "\n",
       "    .dataframe tbody tr th {\n",
       "        vertical-align: top;\n",
       "    }\n",
       "\n",
       "    .dataframe thead th {\n",
       "        text-align: right;\n",
       "    }\n",
       "</style>\n",
       "<table border=\"1\" class=\"dataframe\">\n",
       "  <thead>\n",
       "    <tr style=\"text-align: right;\">\n",
       "      <th></th>\n",
       "      <th>street</th>\n",
       "      <th>okrug</th>\n",
       "      <th>area</th>\n",
       "    </tr>\n",
       "  </thead>\n",
       "  <tbody>\n",
       "    <tr>\n",
       "      <th>0</th>\n",
       "      <td>1-й Автозаводский проезд</td>\n",
       "      <td>ЮАО</td>\n",
       "      <td>Даниловский район</td>\n",
       "    </tr>\n",
       "    <tr>\n",
       "      <th>1</th>\n",
       "      <td>1-й Амбулаторный проезд</td>\n",
       "      <td>САО</td>\n",
       "      <td>Район Аэропорт</td>\n",
       "    </tr>\n",
       "    <tr>\n",
       "      <th>2</th>\n",
       "      <td>1-й Архивный переулок</td>\n",
       "      <td>ЦАО</td>\n",
       "      <td>Район Хамовники</td>\n",
       "    </tr>\n",
       "    <tr>\n",
       "      <th>3</th>\n",
       "      <td>1-й Бабьегородский переулок</td>\n",
       "      <td>ЦАО</td>\n",
       "      <td>Район Якиманка</td>\n",
       "    </tr>\n",
       "    <tr>\n",
       "      <th>4</th>\n",
       "      <td>1-й Балтийский переулок</td>\n",
       "      <td>САО</td>\n",
       "      <td>Район Аэропорт</td>\n",
       "    </tr>\n",
       "    <tr>\n",
       "      <th>5</th>\n",
       "      <td>1-й Басманный переулок</td>\n",
       "      <td>ЦАО</td>\n",
       "      <td>Басманный район, Красносельский район</td>\n",
       "    </tr>\n",
       "    <tr>\n",
       "      <th>6</th>\n",
       "      <td>1-й Белокаменный проезд</td>\n",
       "      <td>ВАО</td>\n",
       "      <td>Район Богородское</td>\n",
       "    </tr>\n",
       "    <tr>\n",
       "      <th>7</th>\n",
       "      <td>1-й Богучарский переулок</td>\n",
       "      <td>ЮЗАО</td>\n",
       "      <td>Район Южное Бутово</td>\n",
       "    </tr>\n",
       "    <tr>\n",
       "      <th>8</th>\n",
       "      <td>1-й Ботанический проезд</td>\n",
       "      <td>СВАО</td>\n",
       "      <td>Район Свиблово</td>\n",
       "    </tr>\n",
       "    <tr>\n",
       "      <th>9</th>\n",
       "      <td>1-й Боткинский проезд</td>\n",
       "      <td>САО</td>\n",
       "      <td>Район Беговой</td>\n",
       "    </tr>\n",
       "  </tbody>\n",
       "</table>\n",
       "</div>"
      ],
      "text/plain": [
       "                        street okrug                                   area\n",
       "0     1-й Автозаводский проезд   ЮАО                      Даниловский район\n",
       "1      1-й Амбулаторный проезд   САО                         Район Аэропорт\n",
       "2        1-й Архивный переулок   ЦАО                        Район Хамовники\n",
       "3  1-й Бабьегородский переулок   ЦАО                         Район Якиманка\n",
       "4      1-й Балтийский переулок   САО                         Район Аэропорт\n",
       "5       1-й Басманный переулок   ЦАО  Басманный район, Красносельский район\n",
       "6      1-й Белокаменный проезд   ВАО                      Район Богородское\n",
       "7     1-й Богучарский переулок  ЮЗАО                     Район Южное Бутово\n",
       "8      1-й Ботанический проезд  СВАО                         Район Свиблово\n",
       "9        1-й Боткинский проезд   САО                          Район Беговой"
      ]
     },
     "execution_count": 4,
     "metadata": {},
     "output_type": "execute_result"
    }
   ],
   "source": [
    "moscow_streets.head(10)"
   ]
  },
  {
   "cell_type": "code",
   "execution_count": 5,
   "metadata": {},
   "outputs": [],
   "source": [
    "moscow_streets['number_of_areas'] = moscow_streets['area'].apply(lambda x: x.count(',') + 1)"
   ]
  },
  {
   "cell_type": "code",
   "execution_count": 6,
   "metadata": {},
   "outputs": [
    {
     "data": {
      "text/html": [
       "<div>\n",
       "<style scoped>\n",
       "    .dataframe tbody tr th:only-of-type {\n",
       "        vertical-align: middle;\n",
       "    }\n",
       "\n",
       "    .dataframe tbody tr th {\n",
       "        vertical-align: top;\n",
       "    }\n",
       "\n",
       "    .dataframe thead th {\n",
       "        text-align: right;\n",
       "    }\n",
       "</style>\n",
       "<table border=\"1\" class=\"dataframe\">\n",
       "  <thead>\n",
       "    <tr style=\"text-align: right;\">\n",
       "      <th></th>\n",
       "      <th>street</th>\n",
       "      <th>okrug</th>\n",
       "      <th>area</th>\n",
       "      <th>number_of_areas</th>\n",
       "    </tr>\n",
       "  </thead>\n",
       "  <tbody>\n",
       "    <tr>\n",
       "      <th>0</th>\n",
       "      <td>1-й Автозаводский проезд</td>\n",
       "      <td>ЮАО</td>\n",
       "      <td>Даниловский район</td>\n",
       "      <td>1</td>\n",
       "    </tr>\n",
       "    <tr>\n",
       "      <th>1</th>\n",
       "      <td>1-й Амбулаторный проезд</td>\n",
       "      <td>САО</td>\n",
       "      <td>Район Аэропорт</td>\n",
       "      <td>1</td>\n",
       "    </tr>\n",
       "    <tr>\n",
       "      <th>2</th>\n",
       "      <td>1-й Архивный переулок</td>\n",
       "      <td>ЦАО</td>\n",
       "      <td>Район Хамовники</td>\n",
       "      <td>1</td>\n",
       "    </tr>\n",
       "    <tr>\n",
       "      <th>3</th>\n",
       "      <td>1-й Бабьегородский переулок</td>\n",
       "      <td>ЦАО</td>\n",
       "      <td>Район Якиманка</td>\n",
       "      <td>1</td>\n",
       "    </tr>\n",
       "    <tr>\n",
       "      <th>4</th>\n",
       "      <td>1-й Балтийский переулок</td>\n",
       "      <td>САО</td>\n",
       "      <td>Район Аэропорт</td>\n",
       "      <td>1</td>\n",
       "    </tr>\n",
       "    <tr>\n",
       "      <th>5</th>\n",
       "      <td>1-й Басманный переулок</td>\n",
       "      <td>ЦАО</td>\n",
       "      <td>Басманный район, Красносельский район</td>\n",
       "      <td>2</td>\n",
       "    </tr>\n",
       "    <tr>\n",
       "      <th>6</th>\n",
       "      <td>1-й Белокаменный проезд</td>\n",
       "      <td>ВАО</td>\n",
       "      <td>Район Богородское</td>\n",
       "      <td>1</td>\n",
       "    </tr>\n",
       "    <tr>\n",
       "      <th>7</th>\n",
       "      <td>1-й Богучарский переулок</td>\n",
       "      <td>ЮЗАО</td>\n",
       "      <td>Район Южное Бутово</td>\n",
       "      <td>1</td>\n",
       "    </tr>\n",
       "    <tr>\n",
       "      <th>8</th>\n",
       "      <td>1-й Ботанический проезд</td>\n",
       "      <td>СВАО</td>\n",
       "      <td>Район Свиблово</td>\n",
       "      <td>1</td>\n",
       "    </tr>\n",
       "    <tr>\n",
       "      <th>9</th>\n",
       "      <td>1-й Боткинский проезд</td>\n",
       "      <td>САО</td>\n",
       "      <td>Район Беговой</td>\n",
       "      <td>1</td>\n",
       "    </tr>\n",
       "  </tbody>\n",
       "</table>\n",
       "</div>"
      ],
      "text/plain": [
       "                        street okrug                                   area  \\\n",
       "0     1-й Автозаводский проезд   ЮАО                      Даниловский район   \n",
       "1      1-й Амбулаторный проезд   САО                         Район Аэропорт   \n",
       "2        1-й Архивный переулок   ЦАО                        Район Хамовники   \n",
       "3  1-й Бабьегородский переулок   ЦАО                         Район Якиманка   \n",
       "4      1-й Балтийский переулок   САО                         Район Аэропорт   \n",
       "5       1-й Басманный переулок   ЦАО  Басманный район, Красносельский район   \n",
       "6      1-й Белокаменный проезд   ВАО                      Район Богородское   \n",
       "7     1-й Богучарский переулок  ЮЗАО                     Район Южное Бутово   \n",
       "8      1-й Ботанический проезд  СВАО                         Район Свиблово   \n",
       "9        1-й Боткинский проезд   САО                          Район Беговой   \n",
       "\n",
       "   number_of_areas  \n",
       "0                1  \n",
       "1                1  \n",
       "2                1  \n",
       "3                1  \n",
       "4                1  \n",
       "5                2  \n",
       "6                1  \n",
       "7                1  \n",
       "8                1  \n",
       "9                1  "
      ]
     },
     "execution_count": 6,
     "metadata": {},
     "output_type": "execute_result"
    }
   ],
   "source": [
    "moscow_streets.head(10)"
   ]
  },
  {
   "cell_type": "markdown",
   "metadata": {},
   "source": [
    "Изучим основной датасет:"
   ]
  },
  {
   "cell_type": "code",
   "execution_count": 7,
   "metadata": {},
   "outputs": [
    {
     "name": "stdout",
     "output_type": "stream",
     "text": [
      "<class 'pandas.core.frame.DataFrame'>\n",
      "RangeIndex: 15366 entries, 0 to 15365\n",
      "Data columns (total 6 columns):\n",
      " #   Column       Non-Null Count  Dtype \n",
      "---  ------       --------------  ----- \n",
      " 0   id           15366 non-null  int64 \n",
      " 1   object_name  15366 non-null  object\n",
      " 2   chain        15366 non-null  object\n",
      " 3   object_type  15366 non-null  object\n",
      " 4   address      15366 non-null  object\n",
      " 5   number       15366 non-null  int64 \n",
      "dtypes: int64(2), object(4)\n",
      "memory usage: 720.4+ KB\n"
     ]
    }
   ],
   "source": [
    "rest_data = pd.read_csv('/datasets/rest_data.csv')\n",
    "rest_data.info()"
   ]
  },
  {
   "cell_type": "markdown",
   "metadata": {},
   "source": [
    "Итак, таблица состоит из 6 столбцов:\n",
    "* `id` — идентификатор объекта;\n",
    "* `object_name` — название объекта общественного питания;\n",
    "* `chain` — сетевой ресторан;\n",
    "* `object_type` — тип объекта общественного питания;\n",
    "* `address` — адрес;\n",
    "* `number` — количество посадочных мест"
   ]
  },
  {
   "cell_type": "markdown",
   "metadata": {},
   "source": [
    "`object_type` содержит тип заведения, проверим уникальные значения:"
   ]
  },
  {
   "cell_type": "markdown",
   "metadata": {},
   "source": [
    "Чтобы упростить работы с графиками, можно сократить некоторые названия:"
   ]
  },
  {
   "cell_type": "code",
   "execution_count": 8,
   "metadata": {
    "scrolled": true
   },
   "outputs": [],
   "source": [
    "rest_data['object_type'] = (rest_data['object_type']\n",
    "                            .replace(\n",
    "                                [\"предприятие быстрого обслуживания\", \"магазин (отдел кулинарии)\"]\n",
    "                              , [\"ПБО\", 'кулинария']\n",
    "                            )\n",
    "                           )"
   ]
  },
  {
   "cell_type": "code",
   "execution_count": 9,
   "metadata": {},
   "outputs": [
    {
     "data": {
      "text/plain": [
       "Series([], Name: object_type, dtype: object)"
      ]
     },
     "execution_count": 9,
     "metadata": {},
     "output_type": "execute_result"
    }
   ],
   "source": [
    "rest_data.query('object_type == \"предприятие быстрого обслуживания\"')['object_type']"
   ]
  },
  {
   "cell_type": "markdown",
   "metadata": {},
   "source": [
    "Проверим данные на наличие дубликатов:"
   ]
  },
  {
   "cell_type": "code",
   "execution_count": 10,
   "metadata": {},
   "outputs": [
    {
     "name": "stdout",
     "output_type": "stream",
     "text": [
      "<class 'pandas.core.frame.DataFrame'>\n",
      "Int64Index: 15366 entries, 0 to 15365\n",
      "Data columns (total 6 columns):\n",
      " #   Column       Non-Null Count  Dtype \n",
      "---  ------       --------------  ----- \n",
      " 0   id           15366 non-null  int64 \n",
      " 1   object_name  15366 non-null  object\n",
      " 2   chain        15366 non-null  object\n",
      " 3   object_type  15366 non-null  object\n",
      " 4   address      15366 non-null  object\n",
      " 5   number       15366 non-null  int64 \n",
      "dtypes: int64(2), object(4)\n",
      "memory usage: 840.3+ KB\n"
     ]
    }
   ],
   "source": [
    "rest_data.drop_duplicates(subset=['id', 'object_name', 'address'], inplace=True)\n",
    "rest_data.info()"
   ]
  },
  {
   "cell_type": "code",
   "execution_count": 11,
   "metadata": {},
   "outputs": [
    {
     "name": "stdout",
     "output_type": "stream",
     "text": [
      "<class 'pandas.core.frame.DataFrame'>\n",
      "Int64Index: 15195 entries, 0 to 15364\n",
      "Data columns (total 6 columns):\n",
      " #   Column       Non-Null Count  Dtype \n",
      "---  ------       --------------  ----- \n",
      " 0   id           15195 non-null  int64 \n",
      " 1   object_name  15195 non-null  object\n",
      " 2   chain        15195 non-null  object\n",
      " 3   object_type  15195 non-null  object\n",
      " 4   address      15195 non-null  object\n",
      " 5   number       15195 non-null  int64 \n",
      "dtypes: int64(2), object(4)\n",
      "memory usage: 831.0+ KB\n"
     ]
    }
   ],
   "source": [
    "rest_data.drop_duplicates(subset=['object_name', 'object_type', 'address'], inplace=True)\n",
    "rest_data.info()"
   ]
  },
  {
   "cell_type": "markdown",
   "metadata": {},
   "source": [
    "Удален 171 дубликат"
   ]
  },
  {
   "cell_type": "markdown",
   "metadata": {},
   "source": [
    "Также стоит изучить распределение посадочных мест на предмет аномалий:"
   ]
  },
  {
   "cell_type": "code",
   "execution_count": 12,
   "metadata": {},
   "outputs": [
    {
     "data": {
      "image/png": "[encoded data removed]",
      "text/plain": [
       "<Figure size 432x288 with 1 Axes>"
      ]
     },
     "metadata": {
      "needs_background": "light"
     },
     "output_type": "display_data"
    }
   ],
   "source": [
    "rest_data['number'].hist()\n",
    "None"
   ]
  },
  {
   "cell_type": "markdown",
   "metadata": {},
   "source": [
    "В данных есть заведения с очень большим количеством посадочных мест, технически такое возможно, например, для банкетных залов или столовых. Тем не мене, почти все данные находятся в диапазоне до 500 посадочных мест. Стоит изучить этот диапазон подробнее:"
   ]
  },
  {
   "cell_type": "code",
   "execution_count": 13,
   "metadata": {
    "scrolled": true
   },
   "outputs": [
    {
     "data": {
      "image/png": "[encoded data removed]",
      "text/plain": [
       "<Figure size 432x288 with 1 Axes>"
      ]
     },
     "metadata": {
      "needs_background": "light"
     },
     "output_type": "display_data"
    }
   ],
   "source": [
    "rest_data.query('number < 500')['number'].hist()\n",
    "None"
   ]
  },
  {
   "cell_type": "markdown",
   "metadata": {},
   "source": [
    "Наблюдается коцентрация значений в диапазоне до 50 мест. Можно дополнительно укрупнить интервал, чтобы убедиться, что в данных нет явных аномалий"
   ]
  },
  {
   "cell_type": "code",
   "execution_count": 14,
   "metadata": {
    "scrolled": true
   },
   "outputs": [
    {
     "data": {
      "image/png": "[encoded data removed]",
      "text/plain": [
       "<Figure size 432x288 with 1 Axes>"
      ]
     },
     "metadata": {
      "needs_background": "light"
     },
     "output_type": "display_data"
    }
   ],
   "source": [
    "rest_data['number'].hist(bins=range(101));"
   ]
  },
  {
   "cell_type": "markdown",
   "metadata": {},
   "source": [
    "По результатам предобработки:\n",
    "* пропущенных значений не найдено\n",
    "* явных дубликатов не найдено\n",
    "* выбиваются рестораны без мест\n",
    "* в распределении по посадочным местам явных ошибок и технических аномалий не найдено"
   ]
  },
  {
   "cell_type": "markdown",
   "metadata": {},
   "source": [
    "## Исследование соотношения видов объектов общественного питания по количеству"
   ]
  },
  {
   "cell_type": "code",
   "execution_count": 15,
   "metadata": {
    "scrolled": false
   },
   "outputs": [
    {
     "data": {
      "image/png": "[encoded data removed]",
      "text/plain": [
       "<Figure size 1080x360 with 1 Axes>"
      ]
     },
     "metadata": {
      "needs_background": "light"
     },
     "output_type": "display_data"
    }
   ],
   "source": [
    "venues_number_by_type = (rest_data\n",
    "                         .groupby('object_type', as_index=False)\n",
    "                         .agg({'id' : 'nunique'})\n",
    "                         .sort_values(by='id', ascending=False)\n",
    "                        )\n",
    "\n",
    "plt.figure(figsize=(15,5))\n",
    "\n",
    "sns.set_palette(\"pastel\")\n",
    "\n",
    "ax = sns.barplot(x='object_type', y='id', data=venues_number_by_type)\n",
    "\n",
    "ax.set_xlabel('Тип заведения')\n",
    "ax.set_ylabel('Количество заведений')\n",
    "ax.set_title('Количество заведений по типу')\n",
    "None"
   ]
  },
  {
   "cell_type": "markdown",
   "metadata": {},
   "source": [
    "Итак, кафе является самым частым заведением общественного питания. Кафе опережают столовые, находящиеся на 2-м месте более, чем в два раза. Реже всего встречаются отделы кулинарии в магазинах"
   ]
  },
  {
   "cell_type": "markdown",
   "metadata": {},
   "source": [
    "## Исследование соотношения сетевых и несетевых заведений по количеству"
   ]
  },
  {
   "cell_type": "code",
   "execution_count": 16,
   "metadata": {},
   "outputs": [
    {
     "data": {
      "image/png": "[encoded data removed]",
      "text/plain": [
       "<Figure size 360x360 with 1 Axes>"
      ]
     },
     "metadata": {},
     "output_type": "display_data"
    }
   ],
   "source": [
    "plt.figure(figsize=(5,5))\n",
    "\n",
    "pie_table = rest_data.groupby('chain', as_index=False).agg({'id' : 'nunique'})\n",
    "\n",
    "\n",
    "colors = sns.color_palette(\"pastel\")\n",
    "\n",
    "plt.pie(pie_table['id'], labels=pie_table['chain'], colors = colors, autopct='%.0f%%')\n",
    "\n",
    "plt.title('Структура заведений по принадлежности к сети')\n",
    "plt.legend()\n",
    "\n",
    "\n",
    "None"
   ]
  },
  {
   "cell_type": "markdown",
   "metadata": {},
   "source": [
    "Из всех 15 366 заведений к сетевым относятся лишь 19%"
   ]
  },
  {
   "cell_type": "markdown",
   "metadata": {},
   "source": [
    "## Для какого вида объекта общественного питания характерно сетевое распространение?"
   ]
  },
  {
   "cell_type": "code",
   "execution_count": 17,
   "metadata": {},
   "outputs": [
    {
     "data": {
      "image/png": "[encoded data removed]",
      "text/plain": [
       "<Figure size 1080x360 with 1 Axes>"
      ]
     },
     "metadata": {
      "needs_background": "light"
     },
     "output_type": "display_data"
    }
   ],
   "source": [
    "types_of_venues_by_chain = (rest_data\n",
    "                            .groupby(['object_type', 'chain'], as_index=False)\n",
    "                            .agg({'id' : 'nunique'})\n",
    "                            .sort_values(by='id', ascending=False)\n",
    "                           )\n",
    "plt.figure(figsize=(15,5))\n",
    "\n",
    "ax = sns.barplot(x='object_type', y='id', data=types_of_venues_by_chain, hue='chain')\n",
    "ax.set_xlabel('Тип заведения')\n",
    "ax.set_ylabel('Количество заведений')\n",
    "ax.set_title('Количество заведений по типу')\n",
    "ax.legend(title='Является ли заведение сетевым')\n",
    "None"
   ]
  },
  {
   "cell_type": "markdown",
   "metadata": {},
   "source": [
    "По графику можно увидеть, что больше всего сетевых заведений наблюдается у кафе, предприятий быстрого обслуживания и ресторанов. Для большей репрезентативности стоит показать долю сетевых заведений в общем количестве заведений конкретного типа"
   ]
  },
  {
   "cell_type": "code",
   "execution_count": 18,
   "metadata": {},
   "outputs": [
    {
     "data": {
      "image/png": "[encoded data removed]",
      "text/plain": [
       "<Figure size 720x720 with 1 Axes>"
      ]
     },
     "metadata": {
      "needs_background": "light"
     },
     "output_type": "display_data"
    }
   ],
   "source": [
    "chain_share = rest_data.pivot_table(index='object_type', columns='chain', values='id', aggfunc='nunique').reset_index()\n",
    "chain_share['chain_share'] = chain_share['да'] / (chain_share['да'] + chain_share['нет'])\n",
    "\n",
    "plt.figure(figsize=(10,10))\n",
    "\n",
    "ax = sns.barplot(x='chain_share', y='object_type', data=chain_share.sort_values(by='chain_share', ascending=False))\n",
    "ax.set_xlabel('Доля сетевых заведений')\n",
    "ax.set_ylabel('Тип заведения')\n",
    "ax.set_title('Доля сетевых заведений по типу заведения')\n",
    "None"
   ]
  },
  {
   "cell_type": "markdown",
   "metadata": {},
   "source": [
    "Сетевое распространение наиболее характерно для предприятий быстрого обслуживания, магазинов и ресторанов. Реже всего встречаются сетевые столовые. При этом даже у предприятий быстрого обслуживания сетевых заведений меньше половины"
   ]
  },
  {
   "cell_type": "markdown",
   "metadata": {},
   "source": [
    "## Что характерно для сетевых заведений: много заведений с небольшим числом посадочных мест в каждом или мало заведений с большим количеством посадочных мест?"
   ]
  },
  {
   "cell_type": "code",
   "execution_count": 19,
   "metadata": {
    "scrolled": false
   },
   "outputs": [
    {
     "data": {
      "text/plain": [
       "<Figure size 1080x1080 with 0 Axes>"
      ]
     },
     "metadata": {},
     "output_type": "display_data"
    },
    {
     "data": {
      "image/png": "[encoded data removed]",
      "text/plain": [
       "<Figure size 720x720 with 3 Axes>"
      ]
     },
     "metadata": {
      "needs_background": "light"
     },
     "output_type": "display_data"
    }
   ],
   "source": [
    "warnings.filterwarnings(\"ignore\")\n",
    "\n",
    "chain_table = (rest_data\n",
    "               .query('chain == \"да\"')\n",
    "               .groupby('object_name')\n",
    "               .agg({'id' : 'nunique', 'number' : 'mean', 'object_type' : 'first'})\n",
    "               .sort_values(by='id', ascending=False)\n",
    "              )\n",
    "\n",
    "chain_table.columns = ['количество_торговых_точек', 'среднее_количество_мест_в_заведении_сети', 'тип_заведения']\n",
    "plt.figure(figsize=(15, 15))\n",
    "ax = sns.jointplot(\n",
    "    x='среднее_количество_мест_в_заведении_сети'\n",
    "  , y='количество_торговых_точек'\n",
    "  , data=chain_table\n",
    "  , height=10\n",
    "  , alpha=.5\n",
    ")\n",
    "\n",
    "None"
   ]
  },
  {
   "cell_type": "markdown",
   "metadata": {},
   "source": [
    "<strong>По графику распределения можно сделать следующие выводы:</strong>\n",
    "\n",
    "* с увеличением количества мест количество заведений в рамках одной сети снижается\n",
    "* наблюдается концентрация сетей с небольшим количеством заведений (до 10) c количеством посадочных мест до 100 \n",
    "* встречается 4 заведения с количеством заведений более 100: два ресторана, предприятие быстрого обслуживания и магазин с отделом кулинарии\n",
    "* у всех заведений с количеством филиалов более 50 количество посадочных мест не превышает 100. В основном такие заведения имеют не более 50 посадочных мест\n",
    "* чаще всего в сетях с количеством посадочных мест более 200 встречается 1 филиал в городе\n",
    "\n",
    "\n",
    "Стоит подробнее рассмотреть распределение сетей с небольшим количеством заведений:"
   ]
  },
  {
   "cell_type": "code",
   "execution_count": 20,
   "metadata": {
    "scrolled": false
   },
   "outputs": [
    {
     "data": {
      "text/plain": [
       "<Figure size 1080x1080 with 0 Axes>"
      ]
     },
     "metadata": {},
     "output_type": "display_data"
    },
    {
     "data": {
      "image/png": "[encoded data removed]",
      "text/plain": [
       "<Figure size 720x720 with 3 Axes>"
      ]
     },
     "metadata": {
      "needs_background": "light"
     },
     "output_type": "display_data"
    }
   ],
   "source": [
    "plt.figure(figsize=(15, 15))\n",
    "ax = sns.jointplot(\n",
    "    x='среднее_количество_мест_в_заведении_сети'\n",
    "  , y='количество_торговых_точек'\n",
    "  , data=chain_table.query('количество_торговых_точек < 20')\n",
    "  , height=10\n",
    "  , alpha=.5\n",
    ")\n",
    "None"
   ]
  },
  {
   "cell_type": "markdown",
   "metadata": {},
   "source": [
    "<strong>По графику распределения сетей с количеством заведений до 20 можно сделать следующие выводы:</strong>\n",
    "\n",
    "* при наличии одного заведения в Москве сеть может иметь любое количество мест\n",
    "* больше всего сетей встречаются с количеством посадочных мест до 100 и количеством заведений до 7 включительно"
   ]
  },
  {
   "cell_type": "markdown",
   "metadata": {},
   "source": [
    "<strong>Для более точного ответа на вопрос можно категоризировать места пол количеству сетей и среднему количеству мест:</strong>\n",
    "\n",
    "* 25% верхних значений получат категорию \"выше среднего\"\n",
    "* 25% нижних значений получат категорию \"ниже среднего\"\n",
    "* остальные значения помечаем как нормальные"
   ]
  },
  {
   "cell_type": "code",
   "execution_count": 21,
   "metadata": {},
   "outputs": [],
   "source": [
    "def categorizer(row, column):\n",
    "    if row[column] >= np.quantile(chain_table[chain_table['тип_заведения'] == row['тип_заведения']][column], 0.75):\n",
    "        return 'выше среднего'\n",
    "    if row[column] <= np.quantile(chain_table[chain_table['тип_заведения'] == row['тип_заведения']][column], 0.25):\n",
    "        return 'ниже среднего'\n",
    "    else:\n",
    "        return 'норма'"
   ]
  },
  {
   "cell_type": "code",
   "execution_count": 22,
   "metadata": {
    "scrolled": true
   },
   "outputs": [
    {
     "data": {
      "image/png": "[encoded data removed]",
      "text/plain": [
       "<Figure size 1080x360 with 1 Axes>"
      ]
     },
     "metadata": {
      "needs_background": "light"
     },
     "output_type": "display_data"
    }
   ],
   "source": [
    "chain_table['размер_сети'] = chain_table.apply(lambda x: categorizer(x, 'количество_торговых_точек'), axis=1)\n",
    "chain_table['категория_посадочных_мест'] = chain_table.apply(lambda x: categorizer(x, 'среднее_количество_мест_в_заведении_сети'), axis=1)\n",
    "\n",
    "plt.figure(figsize=(15,5))\n",
    "\n",
    "ax = sns.barplot(\n",
    "    x='размер_сети'\n",
    "  , y='количество_торговых_точек'\n",
    "  , data=chain_table\n",
    "    .groupby(['размер_сети', 'категория_посадочных_мест'], as_index=False)\n",
    "    .agg({'количество_торговых_точек' : 'count'}), hue='категория_посадочных_мест')\n",
    "\n",
    "\n",
    "ax.set_xlabel('Размер сети')\n",
    "ax.set_ylabel('Количество сетей')\n",
    "ax.set_title('Распределение сетей в зависимости от количества точек и посадочных мест')\n",
    "ax.legend(title='категория посадочных мест')\n",
    "None"
   ]
  },
  {
   "cell_type": "markdown",
   "metadata": {},
   "source": [
    "В категорию `норма` по размеру сети вошло небольшое количество сетей. Это связано с тем, что сети с единственным филиалом - очень частый случай, который входит как в 1-й квартиль, так и в медианное значение.\n",
    "\n",
    "По графику можно увидеть, что в больших сетях большое количество посадочных мест встречается чуть чаще, чем маленькое количество посадочных мест, однако разница между этими группами не такая большая - в основном в таких сетях количество мест находится в рамках нормы\n",
    "\n",
    "Что касается маленьких сетей, в них почти с равной вероятностью может быть как большое, так и маленькое количество мест. Можно сказать, что технически мало заведений с большим количеством посадочных мест наиболее характерно для Москвы, нежели много заведений с небольшим количеством посадочных мест. Однако это связано, в первую очередь, с тем, что маленькие сети встречаются чаще, чем большие. Вне зависимости от размера сети, в ней с равной вероятностью может быть как много мест, так и мало мест"
   ]
  },
  {
   "cell_type": "markdown",
   "metadata": {},
   "source": [
    "<strong>Финальные выводы по блоку:</strong>\n",
    "\n",
    "* в основном сетевые заведения сосредоточены в рамках небольшого количества филиалов (до 7 включительно). При этом количество посадочных мест до 100 встречается крайне часто, до 150 реже и очень редко - более 200. Все сети с количеством посадочных мест более 200 не имеют более 2 филиалов в городе"
   ]
  },
  {
   "cell_type": "markdown",
   "metadata": {},
   "source": [
    "## Описание среднего количества посадочных мест для каждого вида объекта общественного питания. Какой вид предоставляет в среднем самое большое количество посадочных мест?"
   ]
  },
  {
   "cell_type": "code",
   "execution_count": 23,
   "metadata": {},
   "outputs": [
    {
     "data": {
      "image/png": "[encoded data removed]",
      "text/plain": [
       "<Figure size 1080x360 with 1 Axes>"
      ]
     },
     "metadata": {
      "needs_background": "light"
     },
     "output_type": "display_data"
    }
   ],
   "source": [
    "plt.figure(figsize=(15,5))\n",
    "\n",
    "seats_by_object_type = (rest_data\n",
    "                        .groupby('object_type', as_index=False)\n",
    "                        .agg({'number' : 'mean'})\n",
    "                        .sort_values(by='number', ascending=False)\n",
    "                       )\n",
    "\n",
    "ax = sns.barplot(x='object_type', y='number', data=seats_by_object_type)\n",
    "\n",
    "ax.set_xlabel('Тип заведения')\n",
    "ax.set_ylabel('Среднее количество посадочных мест')\n",
    "ax.set_title('Среднее количество посадочных мест по типу заведения')\n",
    "None"
   ]
  },
  {
   "cell_type": "markdown",
   "metadata": {},
   "source": [
    "Наибольшее количество посадочных мест наблюдается в столовых, на втором месте рестораны. Меньше всего посадочных мест в закусочных и отделах кулинарии"
   ]
  },
  {
   "cell_type": "markdown",
   "metadata": {},
   "source": [
    "Стоит понять, отличается ли ситуация в зависимости от принадлежности заведения к сети:"
   ]
  },
  {
   "cell_type": "code",
   "execution_count": 24,
   "metadata": {
    "scrolled": false
   },
   "outputs": [
    {
     "data": {
      "image/png": "[encoded data removed]",
      "text/plain": [
       "<Figure size 1080x360 with 1 Axes>"
      ]
     },
     "metadata": {
      "needs_background": "light"
     },
     "output_type": "display_data"
    }
   ],
   "source": [
    "plt.figure(figsize=(15,5))\n",
    "\n",
    "seats_by_object_type = (rest_data\n",
    "                        .groupby(['object_type', 'chain'], as_index=False)\n",
    "                        .agg({'number' : 'mean'})\n",
    "                        .sort_values(by='number', ascending=False)\n",
    "                       )\n",
    "\n",
    "ax = sns.barplot(x='object_type', y='number', hue='chain', data=seats_by_object_type)\n",
    "\n",
    "ax.set_xlabel('Тип заведения')\n",
    "ax.set_ylabel('Среднее количество посадочных мест')\n",
    "ax.legend(title='Является ли заведение сетевым')\n",
    "ax.set_title('Среднее количество посадочных мест по типу заведения')\n",
    "None"
   ]
  },
  {
   "cell_type": "markdown",
   "metadata": {},
   "source": [
    "Для всех типов заведений за исключением столовых и буфетов принадлежность к сети повышает среднее количество посадочных мест. Наиболее явно это заметно для предприятий быстрого обслуживания"
   ]
  },
  {
   "cell_type": "markdown",
   "metadata": {},
   "source": [
    "## Выделение информации об улице в отдельный столбец"
   ]
  },
  {
   "cell_type": "markdown",
   "metadata": {},
   "source": [
    "Для того, чтобы выделить название улицы в отдельный столбец, \"отрежем\" хвост, который описывает конкретный номер дома, владения, домовладения или корпуса (в некоторых случаях дом могут называть корпусом). После это можно убрать название города. Оставшаяся часть - это и есть название дорожного объекта"
   ]
  },
  {
   "cell_type": "code",
   "execution_count": 25,
   "metadata": {},
   "outputs": [],
   "source": [
    "rest_data['street'] = (rest_data['address']\n",
    "                       .apply(\n",
    "                           lambda x: \n",
    "                           x.split(', дом ')[0]\n",
    "                           .split(', владение ')[0]\n",
    "                           .split(', домовладение ')[0]\n",
    "                           .split(', корпус ')[0]\n",
    "                           .split('город Москва, ')[-1]\n",
    "                             )\n",
    "                      )\n"
   ]
  },
  {
   "cell_type": "code",
   "execution_count": 26,
   "metadata": {},
   "outputs": [
    {
     "data": {
      "text/html": [
       "<div>\n",
       "<style scoped>\n",
       "    .dataframe tbody tr th:only-of-type {\n",
       "        vertical-align: middle;\n",
       "    }\n",
       "\n",
       "    .dataframe tbody tr th {\n",
       "        vertical-align: top;\n",
       "    }\n",
       "\n",
       "    .dataframe thead th {\n",
       "        text-align: right;\n",
       "    }\n",
       "</style>\n",
       "<table border=\"1\" class=\"dataframe\">\n",
       "  <thead>\n",
       "    <tr style=\"text-align: right;\">\n",
       "      <th></th>\n",
       "      <th>id</th>\n",
       "    </tr>\n",
       "    <tr>\n",
       "      <th>street</th>\n",
       "      <th></th>\n",
       "    </tr>\n",
       "  </thead>\n",
       "  <tbody>\n",
       "    <tr>\n",
       "      <th>проспект Мира</th>\n",
       "      <td>197</td>\n",
       "    </tr>\n",
       "    <tr>\n",
       "      <th>Профсоюзная улица</th>\n",
       "      <td>181</td>\n",
       "    </tr>\n",
       "    <tr>\n",
       "      <th>Ленинградский проспект</th>\n",
       "      <td>172</td>\n",
       "    </tr>\n",
       "    <tr>\n",
       "      <th>Пресненская набережная</th>\n",
       "      <td>165</td>\n",
       "    </tr>\n",
       "    <tr>\n",
       "      <th>Варшавское шоссе</th>\n",
       "      <td>161</td>\n",
       "    </tr>\n",
       "    <tr>\n",
       "      <th>Ленинский проспект</th>\n",
       "      <td>148</td>\n",
       "    </tr>\n",
       "    <tr>\n",
       "      <th>город Зеленоград</th>\n",
       "      <td>128</td>\n",
       "    </tr>\n",
       "    <tr>\n",
       "      <th>проспект Вернадского</th>\n",
       "      <td>127</td>\n",
       "    </tr>\n",
       "    <tr>\n",
       "      <th>Кутузовский проспект</th>\n",
       "      <td>114</td>\n",
       "    </tr>\n",
       "    <tr>\n",
       "      <th>Каширское шоссе</th>\n",
       "      <td>110</td>\n",
       "    </tr>\n",
       "  </tbody>\n",
       "</table>\n",
       "</div>"
      ],
      "text/plain": [
       "                         id\n",
       "street                     \n",
       "проспект Мира           197\n",
       "Профсоюзная улица       181\n",
       "Ленинградский проспект  172\n",
       "Пресненская набережная  165\n",
       "Варшавское шоссе        161\n",
       "Ленинский проспект      148\n",
       "город Зеленоград        128\n",
       "проспект Вернадского    127\n",
       "Кутузовский проспект    114\n",
       "Каширское шоссе         110"
      ]
     },
     "execution_count": 26,
     "metadata": {},
     "output_type": "execute_result"
    }
   ],
   "source": [
    "venues_by_street = (rest_data\n",
    "                    .groupby('street')\n",
    "                    .agg({'id' : 'nunique'})\n",
    "                    .sort_values(by='id', ascending=False)\n",
    "                   )\n",
    "\n",
    "venues_by_street.head(10)"
   ]
  },
  {
   "cell_type": "markdown",
   "metadata": {},
   "source": [
    "<strong>По таблице можно сделать следующие выводы:</strong>\n",
    "* В топ самых популярных улиц попали большие магистрали. Это связано с их большой протяжённостью. К большим магистралям можно отнести шоссе и проспекты. Для большей репрезентативности данных желательно сравнивать шоссе и проспекты отдельно от улиц, бульваров и переулков. Для этого во вспомогательной таблице есть данные о том, во сколько районов входит конкретная улица\n",
    "* В топ самых популярных улиц попал город Зеленоград. Сравнение города и дорожного объекта некорректно"
   ]
  },
  {
   "cell_type": "markdown",
   "metadata": {},
   "source": [
    "<strong>Для начала назначим каждой улице категорию:</strong>"
   ]
  },
  {
   "cell_type": "code",
   "execution_count": 27,
   "metadata": {},
   "outputs": [],
   "source": [
    "def street_categorizer(row):\n",
    "    if 'проспект' in row.lower() or 'шоссе' in row.lower():\n",
    "        return True\n",
    "    else: \n",
    "        return False\n",
    "    \n",
    "rest_data['is_highway'] = rest_data['address'].apply(street_categorizer)"
   ]
  },
  {
   "cell_type": "markdown",
   "metadata": {},
   "source": [
    "<strong>Затем изучим адреса Зеленограда:</strong>"
   ]
  },
  {
   "cell_type": "code",
   "execution_count": 28,
   "metadata": {
    "scrolled": false
   },
   "outputs": [
    {
     "data": {
      "text/html": [
       "<div>\n",
       "<style scoped>\n",
       "    .dataframe tbody tr th:only-of-type {\n",
       "        vertical-align: middle;\n",
       "    }\n",
       "\n",
       "    .dataframe tbody tr th {\n",
       "        vertical-align: top;\n",
       "    }\n",
       "\n",
       "    .dataframe thead th {\n",
       "        text-align: right;\n",
       "    }\n",
       "</style>\n",
       "<table border=\"1\" class=\"dataframe\">\n",
       "  <thead>\n",
       "    <tr style=\"text-align: right;\">\n",
       "      <th></th>\n",
       "      <th>id</th>\n",
       "      <th>object_name</th>\n",
       "      <th>chain</th>\n",
       "      <th>object_type</th>\n",
       "      <th>address</th>\n",
       "      <th>number</th>\n",
       "      <th>street</th>\n",
       "      <th>is_highway</th>\n",
       "    </tr>\n",
       "  </thead>\n",
       "  <tbody>\n",
       "    <tr>\n",
       "      <th>1405</th>\n",
       "      <td>20199</td>\n",
       "      <td>ЭТО</td>\n",
       "      <td>нет</td>\n",
       "      <td>кафе</td>\n",
       "      <td>город Москва, город Зеленоград, корпус 401</td>\n",
       "      <td>35</td>\n",
       "      <td>город Зеленоград</td>\n",
       "      <td>False</td>\n",
       "    </tr>\n",
       "    <tr>\n",
       "      <th>1406</th>\n",
       "      <td>68113</td>\n",
       "      <td>Френдс</td>\n",
       "      <td>нет</td>\n",
       "      <td>кафе</td>\n",
       "      <td>город Москва, город Зеленоград, корпус 435</td>\n",
       "      <td>34</td>\n",
       "      <td>город Зеленоград</td>\n",
       "      <td>False</td>\n",
       "    </tr>\n",
       "    <tr>\n",
       "      <th>1407</th>\n",
       "      <td>20105</td>\n",
       "      <td>Кафе «Граф Монте-Кристо»</td>\n",
       "      <td>нет</td>\n",
       "      <td>кафе</td>\n",
       "      <td>город Москва, город Зеленоград, корпус 436</td>\n",
       "      <td>40</td>\n",
       "      <td>город Зеленоград</td>\n",
       "      <td>False</td>\n",
       "    </tr>\n",
       "    <tr>\n",
       "      <th>1408</th>\n",
       "      <td>22982</td>\n",
       "      <td>Альфорно</td>\n",
       "      <td>нет</td>\n",
       "      <td>кафе</td>\n",
       "      <td>город Москва, город Зеленоград, корпус 438</td>\n",
       "      <td>49</td>\n",
       "      <td>город Зеленоград</td>\n",
       "      <td>False</td>\n",
       "    </tr>\n",
       "    <tr>\n",
       "      <th>1410</th>\n",
       "      <td>150537</td>\n",
       "      <td>Кафе «Вечный зов»</td>\n",
       "      <td>нет</td>\n",
       "      <td>кафе</td>\n",
       "      <td>город Москва, город Зеленоград, корпус 834А</td>\n",
       "      <td>30</td>\n",
       "      <td>город Зеленоград</td>\n",
       "      <td>False</td>\n",
       "    </tr>\n",
       "    <tr>\n",
       "      <th>...</th>\n",
       "      <td>...</td>\n",
       "      <td>...</td>\n",
       "      <td>...</td>\n",
       "      <td>...</td>\n",
       "      <td>...</td>\n",
       "      <td>...</td>\n",
       "      <td>...</td>\n",
       "      <td>...</td>\n",
       "    </tr>\n",
       "    <tr>\n",
       "      <th>14468</th>\n",
       "      <td>205933</td>\n",
       "      <td>Кафе «Империя бургеров»</td>\n",
       "      <td>нет</td>\n",
       "      <td>кафе</td>\n",
       "      <td>город Москва, город Зеленоград, корпус 1106Е</td>\n",
       "      <td>24</td>\n",
       "      <td>город Зеленоград</td>\n",
       "      <td>False</td>\n",
       "    </tr>\n",
       "    <tr>\n",
       "      <th>14470</th>\n",
       "      <td>220595</td>\n",
       "      <td>Пекарня № 1</td>\n",
       "      <td>нет</td>\n",
       "      <td>кафетерий</td>\n",
       "      <td>город Москва, город Зеленоград, корпус 1627</td>\n",
       "      <td>6</td>\n",
       "      <td>город Зеленоград</td>\n",
       "      <td>False</td>\n",
       "    </tr>\n",
       "    <tr>\n",
       "      <th>14473</th>\n",
       "      <td>220978</td>\n",
       "      <td>Бар суши TAKAI</td>\n",
       "      <td>нет</td>\n",
       "      <td>кафе</td>\n",
       "      <td>город Москва, город Зеленоград, корпус 1602А</td>\n",
       "      <td>28</td>\n",
       "      <td>город Зеленоград</td>\n",
       "      <td>False</td>\n",
       "    </tr>\n",
       "    <tr>\n",
       "      <th>14478</th>\n",
       "      <td>211676</td>\n",
       "      <td>Никольский</td>\n",
       "      <td>нет</td>\n",
       "      <td>ресторан</td>\n",
       "      <td>город Москва, город Зеленоград, корпус 532</td>\n",
       "      <td>120</td>\n",
       "      <td>город Зеленоград</td>\n",
       "      <td>False</td>\n",
       "    </tr>\n",
       "    <tr>\n",
       "      <th>15184</th>\n",
       "      <td>220587</td>\n",
       "      <td>Пицца Паоло</td>\n",
       "      <td>да</td>\n",
       "      <td>кафетерий</td>\n",
       "      <td>город Москва, город Зеленоград, корпус 1627</td>\n",
       "      <td>0</td>\n",
       "      <td>город Зеленоград</td>\n",
       "      <td>False</td>\n",
       "    </tr>\n",
       "  </tbody>\n",
       "</table>\n",
       "<p>128 rows × 8 columns</p>\n",
       "</div>"
      ],
      "text/plain": [
       "           id               object_name chain object_type  \\\n",
       "1405    20199                       ЭТО   нет        кафе   \n",
       "1406    68113                    Френдс   нет        кафе   \n",
       "1407    20105  Кафе «Граф Монте-Кристо»   нет        кафе   \n",
       "1408    22982                  Альфорно   нет        кафе   \n",
       "1410   150537         Кафе «Вечный зов»   нет        кафе   \n",
       "...       ...                       ...   ...         ...   \n",
       "14468  205933   Кафе «Империя бургеров»   нет        кафе   \n",
       "14470  220595               Пекарня № 1   нет   кафетерий   \n",
       "14473  220978            Бар суши TAKAI   нет        кафе   \n",
       "14478  211676                Никольский   нет    ресторан   \n",
       "15184  220587               Пицца Паоло    да   кафетерий   \n",
       "\n",
       "                                            address  number            street  \\\n",
       "1405     город Москва, город Зеленоград, корпус 401      35  город Зеленоград   \n",
       "1406     город Москва, город Зеленоград, корпус 435      34  город Зеленоград   \n",
       "1407     город Москва, город Зеленоград, корпус 436      40  город Зеленоград   \n",
       "1408     город Москва, город Зеленоград, корпус 438      49  город Зеленоград   \n",
       "1410    город Москва, город Зеленоград, корпус 834А      30  город Зеленоград   \n",
       "...                                             ...     ...               ...   \n",
       "14468  город Москва, город Зеленоград, корпус 1106Е      24  город Зеленоград   \n",
       "14470   город Москва, город Зеленоград, корпус 1627       6  город Зеленоград   \n",
       "14473  город Москва, город Зеленоград, корпус 1602А      28  город Зеленоград   \n",
       "14478    город Москва, город Зеленоград, корпус 532     120  город Зеленоград   \n",
       "15184   город Москва, город Зеленоград, корпус 1627       0  город Зеленоград   \n",
       "\n",
       "       is_highway  \n",
       "1405        False  \n",
       "1406        False  \n",
       "1407        False  \n",
       "1408        False  \n",
       "1410        False  \n",
       "...           ...  \n",
       "14468       False  \n",
       "14470       False  \n",
       "14473       False  \n",
       "14478       False  \n",
       "15184       False  \n",
       "\n",
       "[128 rows x 8 columns]"
      ]
     },
     "execution_count": 28,
     "metadata": {},
     "output_type": "execute_result"
    }
   ],
   "source": [
    "rest_data.query('street == \"город Зеленоград\"')"
   ]
  },
  {
   "cell_type": "markdown",
   "metadata": {},
   "source": [
    "Город Зеленоград попал в топ, так как он записан в качестве улицы - через запятую после названия города следует корпус. Сравнение дорожного объекта с городом некорректно, поэтому лучшее решение - исключить Зеленоград из данных"
   ]
  },
  {
   "cell_type": "code",
   "execution_count": 29,
   "metadata": {
    "scrolled": true
   },
   "outputs": [],
   "source": [
    "rest_data_filtered = rest_data.query('street != \"город Зеленоград\"')"
   ]
  },
  {
   "cell_type": "markdown",
   "metadata": {},
   "source": [
    "Дополним информацию об улице данными о районах:"
   ]
  },
  {
   "cell_type": "code",
   "execution_count": 30,
   "metadata": {},
   "outputs": [],
   "source": [
    "rest_data_filtered = rest_data_filtered.merge(moscow_streets, on='street', how='left')"
   ]
  },
  {
   "cell_type": "code",
   "execution_count": 31,
   "metadata": {
    "scrolled": true
   },
   "outputs": [
    {
     "name": "stdout",
     "output_type": "stream",
     "text": [
      "<class 'pandas.core.frame.DataFrame'>\n",
      "Int64Index: 15067 entries, 0 to 15066\n",
      "Data columns (total 11 columns):\n",
      " #   Column           Non-Null Count  Dtype  \n",
      "---  ------           --------------  -----  \n",
      " 0   id               15067 non-null  int64  \n",
      " 1   object_name      15067 non-null  object \n",
      " 2   chain            15067 non-null  object \n",
      " 3   object_type      15067 non-null  object \n",
      " 4   address          15067 non-null  object \n",
      " 5   number           15067 non-null  int64  \n",
      " 6   street           15067 non-null  object \n",
      " 7   is_highway       15067 non-null  bool   \n",
      " 8   okrug            14232 non-null  object \n",
      " 9   area             14232 non-null  object \n",
      " 10  number_of_areas  14232 non-null  float64\n",
      "dtypes: bool(1), float64(1), int64(2), object(7)\n",
      "memory usage: 1.3+ MB\n"
     ]
    }
   ],
   "source": [
    "rest_data_filtered.info()"
   ]
  },
  {
   "cell_type": "markdown",
   "metadata": {},
   "source": [
    "Почти у всех улиц появился округ и район. Остальным улицам можно назначить `unknown` по районам и округам и `1` в столбец `number_of_areas`"
   ]
  },
  {
   "cell_type": "code",
   "execution_count": 32,
   "metadata": {},
   "outputs": [],
   "source": [
    "rest_data_filtered[['okrug', 'area']] = rest_data_filtered[['okrug', 'area']].fillna('unknown')\n",
    "rest_data_filtered['number_of_areas'] = rest_data_filtered['number_of_areas'].fillna(1)"
   ]
  },
  {
   "cell_type": "markdown",
   "metadata": {},
   "source": [
    "## Топ-10 улиц по количеству объектов общественного питания. В каких районах Москвы находятся эти улицы?"
   ]
  },
  {
   "cell_type": "markdown",
   "metadata": {},
   "source": [
    "Для начала создадим агрегированную таблицу, к которой будем обращаться при создании графиков"
   ]
  },
  {
   "cell_type": "code",
   "execution_count": 33,
   "metadata": {
    "scrolled": true
   },
   "outputs": [
    {
     "data": {
      "text/html": [
       "<div>\n",
       "<style scoped>\n",
       "    .dataframe tbody tr th:only-of-type {\n",
       "        vertical-align: middle;\n",
       "    }\n",
       "\n",
       "    .dataframe tbody tr th {\n",
       "        vertical-align: top;\n",
       "    }\n",
       "\n",
       "    .dataframe thead th {\n",
       "        text-align: right;\n",
       "    }\n",
       "</style>\n",
       "<table border=\"1\" class=\"dataframe\">\n",
       "  <thead>\n",
       "    <tr style=\"text-align: right;\">\n",
       "      <th></th>\n",
       "      <th>street</th>\n",
       "      <th>is_highway</th>\n",
       "      <th>number_of_venues</th>\n",
       "      <th>okrug</th>\n",
       "      <th>area</th>\n",
       "      <th>number_of_areas</th>\n",
       "    </tr>\n",
       "  </thead>\n",
       "  <tbody>\n",
       "    <tr>\n",
       "      <th>1588</th>\n",
       "      <td>проспект Мира</td>\n",
       "      <td>True</td>\n",
       "      <td>197</td>\n",
       "      <td>СВАО, ЦАО</td>\n",
       "      <td>Алексеевский район, Мещанский район, Останкинс...</td>\n",
       "      <td>7.0</td>\n",
       "    </tr>\n",
       "    <tr>\n",
       "      <th>996</th>\n",
       "      <td>Профсоюзная улица</td>\n",
       "      <td>False</td>\n",
       "      <td>181</td>\n",
       "      <td>ЮЗАО</td>\n",
       "      <td>Академический район, Обручевский район, Район ...</td>\n",
       "      <td>6.0</td>\n",
       "    </tr>\n",
       "    <tr>\n",
       "      <th>683</th>\n",
       "      <td>Ленинградский проспект</td>\n",
       "      <td>True</td>\n",
       "      <td>172</td>\n",
       "      <td>САО</td>\n",
       "      <td>Район Аэропорт, Район Беговой, Район Сокол, Хо...</td>\n",
       "      <td>4.0</td>\n",
       "    </tr>\n",
       "    <tr>\n",
       "      <th>981</th>\n",
       "      <td>Пресненская набережная</td>\n",
       "      <td>False</td>\n",
       "      <td>165</td>\n",
       "      <td>ЦАО</td>\n",
       "      <td>Пресненский район</td>\n",
       "      <td>1.0</td>\n",
       "    </tr>\n",
       "    <tr>\n",
       "      <th>406</th>\n",
       "      <td>Варшавское шоссе</td>\n",
       "      <td>True</td>\n",
       "      <td>161</td>\n",
       "      <td>ЮАО, ЮЗАО</td>\n",
       "      <td>Донской район, Нагорный район, Район Нагатино-...</td>\n",
       "      <td>8.0</td>\n",
       "    </tr>\n",
       "    <tr>\n",
       "      <th>686</th>\n",
       "      <td>Ленинский проспект</td>\n",
       "      <td>True</td>\n",
       "      <td>148</td>\n",
       "      <td>ЗАО, ЦАО, ЮАО, ЮЗАО</td>\n",
       "      <td>Донской район, Ломоносовский район, Обручевски...</td>\n",
       "      <td>8.0</td>\n",
       "    </tr>\n",
       "    <tr>\n",
       "      <th>1585</th>\n",
       "      <td>проспект Вернадского</td>\n",
       "      <td>True</td>\n",
       "      <td>127</td>\n",
       "      <td>ЗАО, ЮЗАО</td>\n",
       "      <td>Ломоносовский район, Район Гагаринский, Район ...</td>\n",
       "      <td>5.0</td>\n",
       "    </tr>\n",
       "    <tr>\n",
       "      <th>674</th>\n",
       "      <td>Кутузовский проспект</td>\n",
       "      <td>True</td>\n",
       "      <td>114</td>\n",
       "      <td>ЗАО</td>\n",
       "      <td>Район Дорогомилово, Район Фили-Давыдково</td>\n",
       "      <td>2.0</td>\n",
       "    </tr>\n",
       "    <tr>\n",
       "      <th>600</th>\n",
       "      <td>Каширское шоссе</td>\n",
       "      <td>True</td>\n",
       "      <td>110</td>\n",
       "      <td>ЮАО</td>\n",
       "      <td>Район Москворечье-Сабурово, Район Нагатино-Сад...</td>\n",
       "      <td>4.0</td>\n",
       "    </tr>\n",
       "    <tr>\n",
       "      <th>605</th>\n",
       "      <td>Кировоградская улица</td>\n",
       "      <td>False</td>\n",
       "      <td>107</td>\n",
       "      <td>ЮАО</td>\n",
       "      <td>Район Чертаново Северное, Район Чертаново Цент...</td>\n",
       "      <td>3.0</td>\n",
       "    </tr>\n",
       "  </tbody>\n",
       "</table>\n",
       "</div>"
      ],
      "text/plain": [
       "                      street  is_highway  number_of_venues  \\\n",
       "1588           проспект Мира        True               197   \n",
       "996        Профсоюзная улица       False               181   \n",
       "683   Ленинградский проспект        True               172   \n",
       "981   Пресненская набережная       False               165   \n",
       "406         Варшавское шоссе        True               161   \n",
       "686       Ленинский проспект        True               148   \n",
       "1585    проспект Вернадского        True               127   \n",
       "674     Кутузовский проспект        True               114   \n",
       "600          Каширское шоссе        True               110   \n",
       "605     Кировоградская улица       False               107   \n",
       "\n",
       "                    okrug                                               area  \\\n",
       "1588            СВАО, ЦАО  Алексеевский район, Мещанский район, Останкинс...   \n",
       "996                  ЮЗАО  Академический район, Обручевский район, Район ...   \n",
       "683                   САО  Район Аэропорт, Район Беговой, Район Сокол, Хо...   \n",
       "981                   ЦАО                                  Пресненский район   \n",
       "406             ЮАО, ЮЗАО  Донской район, Нагорный район, Район Нагатино-...   \n",
       "686   ЗАО, ЦАО, ЮАО, ЮЗАО  Донской район, Ломоносовский район, Обручевски...   \n",
       "1585            ЗАО, ЮЗАО  Ломоносовский район, Район Гагаринский, Район ...   \n",
       "674                   ЗАО           Район Дорогомилово, Район Фили-Давыдково   \n",
       "600                   ЮАО  Район Москворечье-Сабурово, Район Нагатино-Сад...   \n",
       "605                   ЮАО  Район Чертаново Северное, Район Чертаново Цент...   \n",
       "\n",
       "      number_of_areas  \n",
       "1588              7.0  \n",
       "996               6.0  \n",
       "683               4.0  \n",
       "981               1.0  \n",
       "406               8.0  \n",
       "686               8.0  \n",
       "1585              5.0  \n",
       "674               2.0  \n",
       "600               4.0  \n",
       "605               3.0  "
      ]
     },
     "execution_count": 33,
     "metadata": {},
     "output_type": "execute_result"
    }
   ],
   "source": [
    "venues_by_street = (rest_data_filtered\n",
    "                    .groupby(['street', 'is_highway'], as_index=False)\n",
    "                    .agg({'id' : 'nunique', 'okrug' : 'first', 'area' : 'first', 'number_of_areas' : 'first'})\n",
    "                    .sort_values(by='id', ascending=False)\n",
    "                   )\n",
    "\n",
    "venues_by_street.columns = ['street', 'is_highway', 'number_of_venues', 'okrug', 'area', 'number_of_areas']\n",
    "\n",
    "venues_by_street.head(10)"
   ]
  },
  {
   "cell_type": "markdown",
   "metadata": {},
   "source": [
    "<strong>Рейтинг по всем дорожным объектам:</strong>"
   ]
  },
  {
   "cell_type": "code",
   "execution_count": 34,
   "metadata": {},
   "outputs": [
    {
     "data": {
      "image/png": "[encoded data removed]",
      "text/plain": [
       "<Figure size 1080x360 with 1 Axes>"
      ]
     },
     "metadata": {
      "needs_background": "light"
     },
     "output_type": "display_data"
    }
   ],
   "source": [
    "plt.figure(figsize=(15,5))\n",
    "plt.xticks(rotation=90)\n",
    "\n",
    "ax = sns.barplot(x='street', y='number_of_venues', data=venues_by_street.head(10))\n",
    "\n",
    "ax.set_xlabel('Название дорожного объекта')\n",
    "ax.set_ylabel('Количество заведений')\n",
    "ax.set_title('ТОП-10 дорожных объектов по количеству заведений')\n",
    "None"
   ]
  },
  {
   "cell_type": "markdown",
   "metadata": {},
   "source": [
    "<strong>Рейтинг по большим дорожным объектам:</strong>"
   ]
  },
  {
   "cell_type": "markdown",
   "metadata": {},
   "source": [
    "Большими дорожными объектами считаем те, которые входят в более чем 1 район Москвы"
   ]
  },
  {
   "cell_type": "code",
   "execution_count": 35,
   "metadata": {},
   "outputs": [
    {
     "data": {
      "image/png": "[encoded data removed]",
      "text/plain": [
       "<Figure size 1080x360 with 1 Axes>"
      ]
     },
     "metadata": {
      "needs_background": "light"
     },
     "output_type": "display_data"
    }
   ],
   "source": [
    "plt.figure(figsize=(15,5))\n",
    "plt.xticks(rotation=90)\n",
    "\n",
    "ax = sns.barplot(\n",
    "    x='street'\n",
    "  , y='number_of_venues'\n",
    "  , data=venues_by_street[(venues_by_street['number_of_areas'] > 1)|(venues_by_street['is_highway'] == True)].head(10))\n",
    "\n",
    "ax.set_xlabel('Название дорожного объекта')\n",
    "ax.set_ylabel('Количество заведений')\n",
    "ax.set_title('ТОП-10 дорожных объектов, находящихся в более, чем одном районе')\n",
    "None"
   ]
  },
  {
   "cell_type": "markdown",
   "metadata": {},
   "source": [
    "<strong>Рейтинг по объектам, исключая большие магистрали и длинные улицы:</strong>"
   ]
  },
  {
   "cell_type": "markdown",
   "metadata": {},
   "source": [
    "Исключаем из списка проспекты, шоссе, а также улицы, которые входят в более чем 1 район Москвы"
   ]
  },
  {
   "cell_type": "code",
   "execution_count": 36,
   "metadata": {},
   "outputs": [
    {
     "data": {
      "image/png": "[encoded data removed]",
      "text/plain": [
       "<Figure size 1080x360 with 1 Axes>"
      ]
     },
     "metadata": {
      "needs_background": "light"
     },
     "output_type": "display_data"
    }
   ],
   "source": [
    "plt.figure(figsize=(15,5))\n",
    "plt.xticks(rotation=90)\n",
    "\n",
    "ax = sns.barplot(\n",
    "    x='street'\n",
    "  , y='number_of_venues'\n",
    "  , data=venues_by_street[(venues_by_street['number_of_areas'] == 1)&(venues_by_street['is_highway'] == False)].head(10))\n",
    "\n",
    "ax.set_xlabel('Название дорожного объекта')\n",
    "ax.set_ylabel('Количество заведений')\n",
    "ax.set_title('ТОП-10 улиц по количеству заведений')\n",
    "None"
   ]
  },
  {
   "cell_type": "code",
   "execution_count": 37,
   "metadata": {},
   "outputs": [
    {
     "data": {
      "image/png": "[encoded data removed]",
      "text/plain": [
       "<Figure size 1080x360 with 1 Axes>"
      ]
     },
     "metadata": {
      "needs_background": "light"
     },
     "output_type": "display_data"
    }
   ],
   "source": [
    "plt.figure(figsize=(15,5))\n",
    "\n",
    "top_streets = (venues_by_street\n",
    "                        .query('number_of_areas == 1')\n",
    "                        .sort_values(by='number_of_venues', ascending=False)\n",
    "                        .head(10)\n",
    "                       )\n",
    "ax = sns.barplot(\n",
    "    x='okrug'\n",
    "  , y='street'\n",
    "  , data=(top_streets\n",
    "          .groupby('okrug', as_index=False)\n",
    "          .agg({'street' : 'count'})\n",
    "          .sort_values(by='street', ascending=False)\n",
    "         )\n",
    ")\n",
    "ax.set_xlabel('Название округа')\n",
    "ax.set_ylabel('Количество улиц')\n",
    "ax.set_title('К каким округам относятся ТОП-10 популярных улиц')\n",
    "None"
   ]
  },
  {
   "cell_type": "code",
   "execution_count": 38,
   "metadata": {},
   "outputs": [
    {
     "data": {
      "image/png": "[encoded data removed]",
      "text/plain": [
       "<Figure size 1080x360 with 1 Axes>"
      ]
     },
     "metadata": {
      "needs_background": "light"
     },
     "output_type": "display_data"
    }
   ],
   "source": [
    "plt.figure(figsize=(15,5))\n",
    "plt.xticks(rotation=90)\n",
    "\n",
    "ax = sns.barplot(\n",
    "    x='area'\n",
    "  , y='street'\n",
    "  , data=(top_streets\n",
    "          .groupby('area', as_index=False)\n",
    "          .agg({'street' : 'count'})\n",
    "          .sort_values(by='street', ascending=False)\n",
    "         )\n",
    ")\n",
    "ax.set_xlabel('Название района')\n",
    "ax.set_ylabel('Количество улиц')\n",
    "ax.set_title('К каким районам относятся ТОП-10 популярных улиц')\n",
    "None"
   ]
  },
  {
   "cell_type": "markdown",
   "metadata": {},
   "source": [
    "<strong>Выводы по блоку:</strong>\n",
    "* Если исключить длинные улицы, проспекты и шоссе, то 6 из 10 популярных улиц будут находиться в ЦАО. ТОП-10 популярных улиц распределены по районам равномерно, есть только два района, в которые вошли более одной популярной улицы из ТОП-10: Даниловский район и район Арбат "
   ]
  },
  {
   "cell_type": "markdown",
   "metadata": {},
   "source": [
    "## Подсчёт количества улиц с одним объектом общественного питания. В каких районах Москвы находятся эти улицы?"
   ]
  },
  {
   "cell_type": "code",
   "execution_count": 39,
   "metadata": {},
   "outputs": [
    {
     "name": "stdout",
     "output_type": "stream",
     "text": [
      "628\n"
     ]
    },
    {
     "data": {
      "text/plain": [
       "0.30844793713163066"
      ]
     },
     "execution_count": 39,
     "metadata": {},
     "output_type": "execute_result"
    }
   ],
   "source": [
    "print(venues_by_street.query('number_of_venues == 1')['street'].count())\n",
    "venues_by_street.query('number_of_venues == 1')['street'].count() / venues_by_street['street'].count()"
   ]
  },
  {
   "cell_type": "markdown",
   "metadata": {},
   "source": [
    "Наблюдается 628 дорожных объектов, на которых находится всего 1 заведение общественного питания. Это 31% от всех дорожных объектов Москвы с хотя бы одним заведением общественного питания"
   ]
  },
  {
   "cell_type": "markdown",
   "metadata": {},
   "source": [
    "Создадим отфильтрованную таблицу, к которой будем обращаться для построения графиков. Таблица будет включать только те улицы, в которых есть только одно заведение, при этом в этих улицах корректно определен район и округ, и улица входит только в один район Москвы"
   ]
  },
  {
   "cell_type": "code",
   "execution_count": 40,
   "metadata": {},
   "outputs": [],
   "source": [
    "low_competition_streets = (venues_by_street\n",
    "    [(venues_by_street['number_of_venues'] == 1)&(venues_by_street['number_of_areas'] == 1)&(venues_by_street['area'] != 'unknown')]\n",
    ")"
   ]
  },
  {
   "cell_type": "code",
   "execution_count": 41,
   "metadata": {
    "scrolled": true
   },
   "outputs": [
    {
     "data": {
      "image/png": "[encoded data removed]",
      "text/plain": [
       "<Figure size 1080x360 with 1 Axes>"
      ]
     },
     "metadata": {
      "needs_background": "light"
     },
     "output_type": "display_data"
    }
   ],
   "source": [
    "plt.figure(figsize=(15,5))\n",
    "\n",
    "ax = sns.barplot(\n",
    "    x='okrug'\n",
    "  , y='street'\n",
    "  , data = (low_competition_streets\n",
    "            .groupby('okrug', as_index=False)\n",
    "            .agg({'street' : 'count'})\n",
    "            .sort_values(by='street', ascending=False)\n",
    "          )\n",
    ")\n",
    "ax.set_xlabel('Название округа')\n",
    "ax.set_ylabel('Количество улиц с одним заведением')\n",
    "ax.set_title('ТОП округов по количеству улиц с 1 заведением')\n",
    "None"
   ]
  },
  {
   "cell_type": "markdown",
   "metadata": {},
   "source": [
    "Среди административных округов лидирует ЦАО. В этот же административный округ входят 6 из 10 самых популярных улиц по количеству заведений. То есть в этом округе можно вероятнее найти улицу с оптимальным соотношением конкуренции и проходимостью"
   ]
  },
  {
   "cell_type": "markdown",
   "metadata": {},
   "source": [
    "Информация по району даст более точные представления о потенциально интересных местах размещения нового заведения:"
   ]
  },
  {
   "cell_type": "code",
   "execution_count": 42,
   "metadata": {},
   "outputs": [
    {
     "data": {
      "image/png": "[encoded data removed]",
      "text/plain": [
       "<Figure size 1080x360 with 1 Axes>"
      ]
     },
     "metadata": {
      "needs_background": "light"
     },
     "output_type": "display_data"
    }
   ],
   "source": [
    "plt.figure(figsize=(15,5))\n",
    "plt.xticks(rotation=90)\n",
    "\n",
    "ax = sns.barplot(\n",
    "    x='area'\n",
    "  , y='street'\n",
    "  , data = (low_competition_streets\n",
    "            .groupby(['area', 'okrug'], as_index=False)\n",
    "            .agg({'street' : 'count'})\n",
    "            .sort_values(by='street', ascending=False)\n",
    "            .head(10)\n",
    "          )\n",
    ")\n",
    "ax.set_xlabel('Название района')\n",
    "ax.set_ylabel('Количество улиц с одним заведением')\n",
    "ax.set_title('ТОП районов по количеству улиц с низкой конкуренцией')\n",
    "None"
   ]
  },
  {
   "cell_type": "markdown",
   "metadata": {},
   "source": [
    "Таганский район лидирует. Примечательно, что районы Пресненский, Басманный, Тверской и Замоскворечье уже фигурировали в другом ТОПе - в эти районы входят одни из 10 самых популярных улиц"
   ]
  },
  {
   "cell_type": "markdown",
   "metadata": {},
   "source": [
    "<strong>Финальные выводы по блоку</strong>\n",
    "\n",
    "* Улицы с 1 заведением составляют 31% от общего количества улиц\n",
    "* Больше всего таких улиц в ЦАО\n",
    "* В районах Пресненский, Басманный, Тверской и Замоскворечье находятся не только одни из самых популярных улиц. Эти районы также входят в ТОП-10 по количеству улиц с одним заведением"
   ]
  },
  {
   "cell_type": "markdown",
   "metadata": {},
   "source": [
    "## Выводы по проекту и презентация"
   ]
  },
  {
   "cell_type": "markdown",
   "metadata": {},
   "source": [
    "В результате исследования было выявлено:\n",
    "\n",
    "<strong>По типу заведения:</strong>\n",
    "* Среди заведений общественного питания чаще всего встречаются кафе. Реже всего - закусочные и отделы кулинарии в магазине\n",
    "* Из всех заведений общественного питания к сетевым относятся 21%. Для предприятий быстрого обслуживания сетевое распространение характернее всего - сетевые заведения составляют около 40% от всех предприятий быстрого обслуживания. Почти нет сетевых заведений среди столовых. При этом в абсолютном количестве среди сетевых заведений больше всего кафе\n",
    "\n",
    "<strong>По количеству посадочных мест:</strong>\n",
    "* Большинство сетей имеют не более 7 заведений и не более 100 посадочных мест в среднем. Сети с более чем 200 местами владеют не более чем 2 точками в Москве. Небольшие сети с большим количеством посадочных мест, как и большие сети с небольшим количеством посадочных мест, встречаются редко\n",
    "* Для сетевых кафе с количеством филиалов более 5 среднее количество посадочных мест редко превышает 50\n",
    "* Больше всего посадочных мест наблюдается в столовых и ресторанах, меньше всего - в закусочных и отделах кулинарии\n",
    "* У маленькой сети, ровно как и у большой сети, с равной вероятностью может быть как количество мест выше среднего, так и количество мест ниже среднего\n",
    "\n",
    "<strong>По расположению:</strong>\n",
    "* Если исключить из списка шоссе, проспекты и улицы, входящие в несколько районов, то 6 из 10 самых популярных улиц находятся в ЦАО\n",
    "* 10 самых популярных улиц распределяются по разным районам равномерно. Выделяются два района: Даниловский и район Арбат. В этих районах есть 2 улицы из топа\n",
    "* В Москве найдено 628 улиц с всего одним заведением. Таких улиц больше всего в ЦАО. Среди районов по таким улицам лидирует Таганский. Районы Пресненский, Басманный, Тверской и Замоскворечье фигурирует сразу в двух топах: в них есть самые популярные улицы из топ-10, а также они одни из лидеров по количеству улиц с всего одним заведением\n",
    "\n",
    "<strong>Рекомендации по проекту стартапа:</strong>\n",
    "\n",
    "* Кафе как тип заведения является самым популярным, рекомендуем ориентироваться именно на такой формат\n",
    "* Среднее количество посадочных мест в кафе - 40, рекомендуем ориентироваться на это количество мест\n",
    "* Сетевое распространение характерно для 23% всех заведений кафе. Кафе с количеством филиалов более 7 - редкость, стоит учитывать эту информацию при подсчёте потенциальной прибыли проекта, если предусмотрена экспансия\n",
    "* При выборе места рекомендуем обратить внимание на район Пресненский, Басманный, Тверской и Замоскворечье: здесь есть как популярные улицы, так и достаточное количество улиц с низкой конкуренцией"
   ]
  }
 ],
 "metadata": {
  "ExecuteTimeLog": [
   {
    "duration": 1634,
    "start_time": "2022-05-31T13:07:37.202Z"
   },
   {
    "duration": 2,
    "start_time": "2022-05-31T13:08:16.205Z"
   },
   {
    "duration": 263,
    "start_time": "2022-05-31T13:08:16.209Z"
   },
   {
    "duration": 29,
    "start_time": "2022-05-31T13:09:13.404Z"
   },
   {
    "duration": 25,
    "start_time": "2022-05-31T13:09:26.172Z"
   },
   {
    "duration": 32,
    "start_time": "2022-05-31T13:09:44.916Z"
   },
   {
    "duration": 25,
    "start_time": "2022-05-31T13:10:08.054Z"
   },
   {
    "duration": 11,
    "start_time": "2022-05-31T13:10:26.058Z"
   },
   {
    "duration": 111,
    "start_time": "2022-05-31T13:15:14.000Z"
   },
   {
    "duration": 14,
    "start_time": "2022-05-31T13:15:40.177Z"
   },
   {
    "duration": 13,
    "start_time": "2022-05-31T13:17:16.830Z"
   },
   {
    "duration": 9,
    "start_time": "2022-05-31T13:17:33.539Z"
   },
   {
    "duration": 5,
    "start_time": "2022-05-31T13:18:01.189Z"
   },
   {
    "duration": 1783,
    "start_time": "2022-05-31T13:18:17.010Z"
   },
   {
    "duration": 1601,
    "start_time": "2022-05-31T13:19:07.547Z"
   },
   {
    "duration": 10,
    "start_time": "2022-05-31T13:21:01.699Z"
   },
   {
    "duration": 9,
    "start_time": "2022-05-31T13:22:26.227Z"
   },
   {
    "duration": 8,
    "start_time": "2022-05-31T13:22:30.393Z"
   },
   {
    "duration": 0,
    "start_time": "2022-05-31T13:22:30.403Z"
   },
   {
    "duration": 0,
    "start_time": "2022-05-31T13:22:30.404Z"
   },
   {
    "duration": 0,
    "start_time": "2022-05-31T13:22:30.405Z"
   },
   {
    "duration": 0,
    "start_time": "2022-05-31T13:22:30.406Z"
   },
   {
    "duration": 3,
    "start_time": "2022-05-31T13:22:40.247Z"
   },
   {
    "duration": 83,
    "start_time": "2022-05-31T13:22:40.251Z"
   },
   {
    "duration": 25,
    "start_time": "2022-05-31T13:22:40.336Z"
   },
   {
    "duration": 9,
    "start_time": "2022-05-31T13:22:40.363Z"
   },
   {
    "duration": 15,
    "start_time": "2022-05-31T13:22:40.374Z"
   },
   {
    "duration": 1583,
    "start_time": "2022-05-31T13:23:03.783Z"
   },
   {
    "duration": 1616,
    "start_time": "2022-05-31T13:23:09.563Z"
   },
   {
    "duration": 18,
    "start_time": "2022-05-31T13:24:47.272Z"
   },
   {
    "duration": 12,
    "start_time": "2022-05-31T13:25:09.074Z"
   },
   {
    "duration": 11,
    "start_time": "2022-05-31T13:25:19.131Z"
   },
   {
    "duration": 12,
    "start_time": "2022-05-31T13:27:03.414Z"
   },
   {
    "duration": 1483,
    "start_time": "2022-05-31T13:29:04.936Z"
   },
   {
    "duration": 1449,
    "start_time": "2022-05-31T13:29:33.761Z"
   },
   {
    "duration": 1489,
    "start_time": "2022-05-31T13:31:00.000Z"
   },
   {
    "duration": 1496,
    "start_time": "2022-05-31T13:31:39.266Z"
   },
   {
    "duration": 1512,
    "start_time": "2022-05-31T13:31:46.364Z"
   },
   {
    "duration": 1448,
    "start_time": "2022-05-31T13:31:53.371Z"
   },
   {
    "duration": 1521,
    "start_time": "2022-05-31T13:47:11.182Z"
   },
   {
    "duration": 1468,
    "start_time": "2022-05-31T13:50:12.716Z"
   },
   {
    "duration": 1506,
    "start_time": "2022-05-31T13:50:21.482Z"
   },
   {
    "duration": 1532,
    "start_time": "2022-05-31T13:50:51.185Z"
   },
   {
    "duration": 126,
    "start_time": "2022-05-31T13:52:46.949Z"
   },
   {
    "duration": 1468,
    "start_time": "2022-05-31T13:52:53.760Z"
   },
   {
    "duration": 1565,
    "start_time": "2022-05-31T13:57:04.358Z"
   },
   {
    "duration": 1458,
    "start_time": "2022-05-31T13:57:20.328Z"
   },
   {
    "duration": 1537,
    "start_time": "2022-05-31T13:57:31.672Z"
   },
   {
    "duration": 1474,
    "start_time": "2022-05-31T13:58:20.278Z"
   },
   {
    "duration": 1464,
    "start_time": "2022-05-31T13:58:37.473Z"
   },
   {
    "duration": 599,
    "start_time": "2022-05-31T14:00:56.841Z"
   },
   {
    "duration": 133,
    "start_time": "2022-05-31T14:01:11.324Z"
   },
   {
    "duration": 132,
    "start_time": "2022-05-31T14:03:05.665Z"
   },
   {
    "duration": 137,
    "start_time": "2022-05-31T14:03:20.285Z"
   },
   {
    "duration": 376,
    "start_time": "2022-05-31T14:05:02.349Z"
   },
   {
    "duration": 9,
    "start_time": "2022-05-31T14:06:10.644Z"
   },
   {
    "duration": 210,
    "start_time": "2022-05-31T14:06:58.331Z"
   },
   {
    "duration": 216,
    "start_time": "2022-05-31T14:07:07.731Z"
   },
   {
    "duration": 32,
    "start_time": "2022-05-31T14:08:30.829Z"
   },
   {
    "duration": 510,
    "start_time": "2022-05-31T14:08:36.067Z"
   },
   {
    "duration": 553,
    "start_time": "2022-05-31T14:09:57.454Z"
   },
   {
    "duration": 516,
    "start_time": "2022-05-31T14:10:09.767Z"
   },
   {
    "duration": 509,
    "start_time": "2022-05-31T14:10:17.540Z"
   },
   {
    "duration": 643,
    "start_time": "2022-05-31T14:10:43.346Z"
   },
   {
    "duration": 518,
    "start_time": "2022-05-31T14:10:54.031Z"
   },
   {
    "duration": 531,
    "start_time": "2022-05-31T14:11:05.953Z"
   },
   {
    "duration": 309,
    "start_time": "2022-05-31T14:25:30.164Z"
   },
   {
    "duration": 186,
    "start_time": "2022-05-31T14:31:00.239Z"
   },
   {
    "duration": 27,
    "start_time": "2022-05-31T14:31:08.413Z"
   },
   {
    "duration": 23,
    "start_time": "2022-05-31T14:31:11.794Z"
   },
   {
    "duration": 22,
    "start_time": "2022-05-31T14:31:22.047Z"
   },
   {
    "duration": 231,
    "start_time": "2022-05-31T14:31:28.521Z"
   },
   {
    "duration": 258,
    "start_time": "2022-05-31T14:31:43.351Z"
   },
   {
    "duration": 172,
    "start_time": "2022-05-31T14:31:59.088Z"
   },
   {
    "duration": 167,
    "start_time": "2022-05-31T14:32:04.169Z"
   },
   {
    "duration": 213,
    "start_time": "2022-05-31T14:33:24.945Z"
   },
   {
    "duration": 193,
    "start_time": "2022-05-31T14:37:16.016Z"
   },
   {
    "duration": 38,
    "start_time": "2022-05-31T14:39:55.064Z"
   },
   {
    "duration": 24,
    "start_time": "2022-05-31T14:40:33.389Z"
   },
   {
    "duration": 187,
    "start_time": "2022-05-31T14:40:44.929Z"
   },
   {
    "duration": 290,
    "start_time": "2022-05-31T14:41:26.269Z"
   },
   {
    "duration": 233,
    "start_time": "2022-05-31T14:42:00.231Z"
   },
   {
    "duration": 12,
    "start_time": "2022-05-31T14:43:12.317Z"
   },
   {
    "duration": 6,
    "start_time": "2022-05-31T14:43:24.404Z"
   },
   {
    "duration": 12,
    "start_time": "2022-05-31T14:46:11.548Z"
   },
   {
    "duration": 31,
    "start_time": "2022-05-31T15:05:34.154Z"
   },
   {
    "duration": 17,
    "start_time": "2022-05-31T15:05:47.103Z"
   },
   {
    "duration": 24,
    "start_time": "2022-05-31T15:07:04.980Z"
   },
   {
    "duration": 5,
    "start_time": "2022-05-31T15:08:22.342Z"
   },
   {
    "duration": 1679,
    "start_time": "2022-05-31T15:10:28.444Z"
   },
   {
    "duration": 1549,
    "start_time": "2022-05-31T15:10:51.204Z"
   },
   {
    "duration": 1691,
    "start_time": "2022-05-31T15:11:22.180Z"
   },
   {
    "duration": 1750,
    "start_time": "2022-05-31T15:32:15.310Z"
   },
   {
    "duration": 1729,
    "start_time": "2022-05-31T15:36:39.224Z"
   },
   {
    "duration": 1831,
    "start_time": "2022-05-31T15:36:47.008Z"
   },
   {
    "duration": 1777,
    "start_time": "2022-05-31T15:37:06.657Z"
   },
   {
    "duration": 1455,
    "start_time": "2022-05-31T15:37:16.248Z"
   },
   {
    "duration": 1667,
    "start_time": "2022-05-31T15:37:46.951Z"
   },
   {
    "duration": 1691,
    "start_time": "2022-05-31T15:37:59.944Z"
   },
   {
    "duration": 467,
    "start_time": "2022-05-31T15:42:53.477Z"
   },
   {
    "duration": 3,
    "start_time": "2022-05-31T15:44:12.328Z"
   },
   {
    "duration": 9,
    "start_time": "2022-05-31T16:02:23.885Z"
   },
   {
    "duration": 10,
    "start_time": "2022-05-31T16:08:41.740Z"
   },
   {
    "duration": 13,
    "start_time": "2022-05-31T16:09:21.580Z"
   },
   {
    "duration": 4,
    "start_time": "2022-05-31T16:09:48.976Z"
   },
   {
    "duration": 11,
    "start_time": "2022-05-31T16:10:01.049Z"
   },
   {
    "duration": 3,
    "start_time": "2022-05-31T16:10:18.741Z"
   },
   {
    "duration": 4,
    "start_time": "2022-05-31T16:10:22.748Z"
   },
   {
    "duration": 526,
    "start_time": "2022-05-31T16:11:24.530Z"
   },
   {
    "duration": 18,
    "start_time": "2022-05-31T16:11:37.673Z"
   },
   {
    "duration": 30,
    "start_time": "2022-05-31T16:11:47.410Z"
   },
   {
    "duration": 21,
    "start_time": "2022-05-31T16:12:02.915Z"
   },
   {
    "duration": 26,
    "start_time": "2022-05-31T16:15:54.711Z"
   },
   {
    "duration": 24,
    "start_time": "2022-05-31T16:16:02.430Z"
   },
   {
    "duration": 25,
    "start_time": "2022-05-31T16:17:00.776Z"
   },
   {
    "duration": 29,
    "start_time": "2022-05-31T16:19:44.572Z"
   },
   {
    "duration": 93,
    "start_time": "2022-05-31T16:21:32.819Z"
   },
   {
    "duration": 88,
    "start_time": "2022-05-31T16:22:18.955Z"
   },
   {
    "duration": 24,
    "start_time": "2022-05-31T16:24:09.161Z"
   },
   {
    "duration": 122,
    "start_time": "2022-05-31T16:24:58.442Z"
   },
   {
    "duration": 37,
    "start_time": "2022-06-01T07:26:40.876Z"
   },
   {
    "duration": 34,
    "start_time": "2022-06-01T07:27:52.980Z"
   },
   {
    "duration": 32,
    "start_time": "2022-06-01T07:29:06.477Z"
   },
   {
    "duration": 11,
    "start_time": "2022-06-01T07:29:19.319Z"
   },
   {
    "duration": 22,
    "start_time": "2022-06-01T07:30:13.825Z"
   },
   {
    "duration": 35,
    "start_time": "2022-06-01T07:30:40.837Z"
   },
   {
    "duration": 25,
    "start_time": "2022-06-01T07:31:07.399Z"
   },
   {
    "duration": 20,
    "start_time": "2022-06-01T07:33:11.949Z"
   },
   {
    "duration": 20,
    "start_time": "2022-06-01T07:34:51.437Z"
   },
   {
    "duration": 22,
    "start_time": "2022-06-01T07:36:58.364Z"
   },
   {
    "duration": 28,
    "start_time": "2022-06-01T07:38:47.257Z"
   },
   {
    "duration": 50,
    "start_time": "2022-06-01T07:41:02.143Z"
   },
   {
    "duration": 16,
    "start_time": "2022-06-01T07:58:57.958Z"
   },
   {
    "duration": 403,
    "start_time": "2022-06-01T07:59:07.141Z"
   },
   {
    "duration": 24,
    "start_time": "2022-06-01T08:15:41.823Z"
   },
   {
    "duration": 29,
    "start_time": "2022-06-01T08:17:39.995Z"
   },
   {
    "duration": 185,
    "start_time": "2022-06-01T08:20:54.953Z"
   },
   {
    "duration": 29,
    "start_time": "2022-06-01T08:21:57.925Z"
   },
   {
    "duration": 36,
    "start_time": "2022-06-01T08:24:00.318Z"
   },
   {
    "duration": 602,
    "start_time": "2022-06-01T08:25:21.111Z"
   },
   {
    "duration": 0,
    "start_time": "2022-06-01T08:25:21.715Z"
   },
   {
    "duration": 0,
    "start_time": "2022-06-01T08:25:21.716Z"
   },
   {
    "duration": 0,
    "start_time": "2022-06-01T08:25:21.717Z"
   },
   {
    "duration": 0,
    "start_time": "2022-06-01T08:25:21.719Z"
   },
   {
    "duration": 0,
    "start_time": "2022-06-01T08:25:21.720Z"
   },
   {
    "duration": 0,
    "start_time": "2022-06-01T08:25:21.721Z"
   },
   {
    "duration": 0,
    "start_time": "2022-06-01T08:25:21.723Z"
   },
   {
    "duration": 0,
    "start_time": "2022-06-01T08:25:21.724Z"
   },
   {
    "duration": 0,
    "start_time": "2022-06-01T08:25:21.725Z"
   },
   {
    "duration": 0,
    "start_time": "2022-06-01T08:25:21.726Z"
   },
   {
    "duration": 0,
    "start_time": "2022-06-01T08:25:21.727Z"
   },
   {
    "duration": 0,
    "start_time": "2022-06-01T08:25:21.729Z"
   },
   {
    "duration": 147,
    "start_time": "2022-06-01T08:27:14.593Z"
   },
   {
    "duration": 3,
    "start_time": "2022-06-01T08:27:28.488Z"
   },
   {
    "duration": 265,
    "start_time": "2022-06-01T08:27:28.492Z"
   },
   {
    "duration": 27,
    "start_time": "2022-06-01T08:27:28.759Z"
   },
   {
    "duration": 377,
    "start_time": "2022-06-01T08:27:28.788Z"
   },
   {
    "duration": 226,
    "start_time": "2022-06-01T08:27:29.168Z"
   },
   {
    "duration": 535,
    "start_time": "2022-06-01T08:27:29.396Z"
   },
   {
    "duration": 253,
    "start_time": "2022-06-01T08:27:29.933Z"
   },
   {
    "duration": 1641,
    "start_time": "2022-06-01T08:27:30.188Z"
   },
   {
    "duration": 516,
    "start_time": "2022-06-01T08:27:31.830Z"
   },
   {
    "duration": 22,
    "start_time": "2022-06-01T08:27:32.348Z"
   },
   {
    "duration": 10,
    "start_time": "2022-06-01T08:27:32.372Z"
   },
   {
    "duration": 0,
    "start_time": "2022-06-01T08:27:32.384Z"
   },
   {
    "duration": 0,
    "start_time": "2022-06-01T08:27:32.385Z"
   },
   {
    "duration": 180,
    "start_time": "2022-06-01T08:27:45.156Z"
   },
   {
    "duration": 208,
    "start_time": "2022-06-01T08:28:48.875Z"
   },
   {
    "duration": 148,
    "start_time": "2022-06-01T08:29:15.932Z"
   },
   {
    "duration": 27,
    "start_time": "2022-06-01T08:29:31.022Z"
   },
   {
    "duration": 27,
    "start_time": "2022-06-01T08:29:45.898Z"
   },
   {
    "duration": 117,
    "start_time": "2022-06-01T08:33:17.713Z"
   },
   {
    "duration": 144,
    "start_time": "2022-06-01T08:33:37.953Z"
   },
   {
    "duration": 111,
    "start_time": "2022-06-01T08:34:17.386Z"
   },
   {
    "duration": 28,
    "start_time": "2022-06-01T08:34:33.382Z"
   },
   {
    "duration": 31,
    "start_time": "2022-06-01T08:35:53.267Z"
   },
   {
    "duration": 34,
    "start_time": "2022-06-01T08:36:26.427Z"
   },
   {
    "duration": 32,
    "start_time": "2022-06-01T08:36:42.665Z"
   },
   {
    "duration": 27,
    "start_time": "2022-06-01T08:40:19.828Z"
   },
   {
    "duration": 32,
    "start_time": "2022-06-01T08:40:31.167Z"
   },
   {
    "duration": 40,
    "start_time": "2022-06-01T08:41:18.311Z"
   },
   {
    "duration": 7,
    "start_time": "2022-06-01T08:41:22.420Z"
   },
   {
    "duration": 7,
    "start_time": "2022-06-01T08:41:36.148Z"
   },
   {
    "duration": 52,
    "start_time": "2022-06-01T08:43:06.066Z"
   },
   {
    "duration": 7,
    "start_time": "2022-06-01T08:43:10.364Z"
   },
   {
    "duration": 6,
    "start_time": "2022-06-01T08:43:40.609Z"
   },
   {
    "duration": 29,
    "start_time": "2022-06-01T09:57:15.521Z"
   },
   {
    "duration": 18,
    "start_time": "2022-06-01T09:58:02.028Z"
   },
   {
    "duration": 4,
    "start_time": "2022-06-01T10:09:36.607Z"
   },
   {
    "duration": 26,
    "start_time": "2022-06-01T10:10:31.044Z"
   },
   {
    "duration": 213,
    "start_time": "2022-06-01T10:10:37.022Z"
   },
   {
    "duration": 142,
    "start_time": "2022-06-01T10:10:43.687Z"
   },
   {
    "duration": 152,
    "start_time": "2022-06-01T10:16:37.570Z"
   },
   {
    "duration": 172,
    "start_time": "2022-06-01T10:16:52.140Z"
   },
   {
    "duration": 11,
    "start_time": "2022-06-01T10:17:39.173Z"
   },
   {
    "duration": 4,
    "start_time": "2022-06-01T10:17:50.345Z"
   },
   {
    "duration": 17,
    "start_time": "2022-06-01T10:17:57.858Z"
   },
   {
    "duration": 5,
    "start_time": "2022-06-01T10:18:00.212Z"
   },
   {
    "duration": 5,
    "start_time": "2022-06-01T10:18:18.972Z"
   },
   {
    "duration": 3,
    "start_time": "2022-06-01T10:18:21.813Z"
   },
   {
    "duration": 4,
    "start_time": "2022-06-01T10:18:24.003Z"
   },
   {
    "duration": 4,
    "start_time": "2022-06-01T10:18:25.907Z"
   },
   {
    "duration": 4,
    "start_time": "2022-06-01T10:18:27.633Z"
   },
   {
    "duration": 5,
    "start_time": "2022-06-01T10:18:29.568Z"
   },
   {
    "duration": 24,
    "start_time": "2022-06-01T10:18:59.424Z"
   },
   {
    "duration": 25,
    "start_time": "2022-06-01T10:19:07.981Z"
   },
   {
    "duration": 38,
    "start_time": "2022-06-01T10:19:26.136Z"
   },
   {
    "duration": 26,
    "start_time": "2022-06-01T10:19:31.187Z"
   },
   {
    "duration": 41,
    "start_time": "2022-06-01T10:19:39.244Z"
   },
   {
    "duration": 48,
    "start_time": "2022-06-01T10:20:14.930Z"
   },
   {
    "duration": 21,
    "start_time": "2022-06-01T10:20:23.976Z"
   },
   {
    "duration": 24,
    "start_time": "2022-06-01T10:20:27.604Z"
   },
   {
    "duration": 29,
    "start_time": "2022-06-01T10:20:50.836Z"
   },
   {
    "duration": 27,
    "start_time": "2022-06-01T10:22:07.797Z"
   },
   {
    "duration": 30,
    "start_time": "2022-06-01T10:22:21.337Z"
   },
   {
    "duration": 4,
    "start_time": "2022-06-01T10:23:40.045Z"
   },
   {
    "duration": 3,
    "start_time": "2022-06-01T10:23:45.787Z"
   },
   {
    "duration": 472,
    "start_time": "2022-06-01T10:25:19.480Z"
   },
   {
    "duration": 9,
    "start_time": "2022-06-01T10:25:30.543Z"
   },
   {
    "duration": 20,
    "start_time": "2022-06-01T10:25:39.066Z"
   },
   {
    "duration": 77,
    "start_time": "2022-06-01T10:29:58.118Z"
   },
   {
    "duration": 46,
    "start_time": "2022-06-01T10:30:08.977Z"
   },
   {
    "duration": 30,
    "start_time": "2022-06-01T10:30:33.368Z"
   },
   {
    "duration": 47,
    "start_time": "2022-06-01T10:31:04.343Z"
   },
   {
    "duration": 10,
    "start_time": "2022-06-01T10:31:23.550Z"
   },
   {
    "duration": 15,
    "start_time": "2022-06-01T10:31:32.190Z"
   },
   {
    "duration": 97,
    "start_time": "2022-06-01T10:32:15.940Z"
   },
   {
    "duration": 16,
    "start_time": "2022-06-01T10:32:58.915Z"
   },
   {
    "duration": 33,
    "start_time": "2022-06-01T10:34:23.927Z"
   },
   {
    "duration": 16,
    "start_time": "2022-06-01T10:34:34.496Z"
   },
   {
    "duration": 12,
    "start_time": "2022-06-01T10:35:28.184Z"
   },
   {
    "duration": 14,
    "start_time": "2022-06-01T10:35:36.580Z"
   },
   {
    "duration": 8,
    "start_time": "2022-06-01T10:35:45.475Z"
   },
   {
    "duration": 30,
    "start_time": "2022-06-01T10:35:50.748Z"
   },
   {
    "duration": 21,
    "start_time": "2022-06-01T10:37:48.908Z"
   },
   {
    "duration": 466,
    "start_time": "2022-06-01T10:38:07.040Z"
   },
   {
    "duration": 20,
    "start_time": "2022-06-01T11:16:34.596Z"
   },
   {
    "duration": 30,
    "start_time": "2022-06-01T11:16:44.943Z"
   },
   {
    "duration": 21,
    "start_time": "2022-06-01T11:17:28.427Z"
   },
   {
    "duration": 25,
    "start_time": "2022-06-01T11:18:05.139Z"
   },
   {
    "duration": 24,
    "start_time": "2022-06-01T11:18:10.792Z"
   },
   {
    "duration": 43,
    "start_time": "2022-06-01T11:20:46.031Z"
   },
   {
    "duration": 36,
    "start_time": "2022-06-01T11:20:52.310Z"
   },
   {
    "duration": 19,
    "start_time": "2022-06-01T11:21:24.618Z"
   },
   {
    "duration": 23,
    "start_time": "2022-06-01T11:22:57.164Z"
   },
   {
    "duration": 15,
    "start_time": "2022-06-01T11:25:29.597Z"
   },
   {
    "duration": 19,
    "start_time": "2022-06-01T11:25:46.395Z"
   },
   {
    "duration": 20,
    "start_time": "2022-06-01T11:26:23.450Z"
   },
   {
    "duration": 20,
    "start_time": "2022-06-01T11:26:29.423Z"
   },
   {
    "duration": 30,
    "start_time": "2022-06-01T11:26:46.137Z"
   },
   {
    "duration": 33,
    "start_time": "2022-06-01T11:26:54.607Z"
   },
   {
    "duration": 25,
    "start_time": "2022-06-01T11:27:42.830Z"
   },
   {
    "duration": 26,
    "start_time": "2022-06-01T11:28:31.508Z"
   },
   {
    "duration": 7,
    "start_time": "2022-06-01T11:30:46.866Z"
   },
   {
    "duration": 35,
    "start_time": "2022-06-01T11:30:48.541Z"
   },
   {
    "duration": 24,
    "start_time": "2022-06-01T11:32:27.508Z"
   },
   {
    "duration": 23,
    "start_time": "2022-06-01T11:32:39.286Z"
   },
   {
    "duration": 142,
    "start_time": "2022-06-01T11:33:42.964Z"
   },
   {
    "duration": 227,
    "start_time": "2022-06-01T11:33:50.395Z"
   },
   {
    "duration": 214,
    "start_time": "2022-06-01T11:34:54.600Z"
   },
   {
    "duration": 180,
    "start_time": "2022-06-01T11:34:58.691Z"
   },
   {
    "duration": 216,
    "start_time": "2022-06-01T11:35:10.516Z"
   },
   {
    "duration": 220,
    "start_time": "2022-06-01T11:35:50.973Z"
   },
   {
    "duration": 231,
    "start_time": "2022-06-01T11:36:20.712Z"
   },
   {
    "duration": 227,
    "start_time": "2022-06-01T11:37:48.562Z"
   },
   {
    "duration": 306,
    "start_time": "2022-06-01T11:38:15.197Z"
   },
   {
    "duration": 223,
    "start_time": "2022-06-01T11:38:32.174Z"
   },
   {
    "duration": 256,
    "start_time": "2022-06-01T11:39:42.421Z"
   },
   {
    "duration": 221,
    "start_time": "2022-06-01T11:40:02.967Z"
   },
   {
    "duration": 467,
    "start_time": "2022-06-01T11:41:07.642Z"
   },
   {
    "duration": 244,
    "start_time": "2022-06-01T11:41:37.485Z"
   },
   {
    "duration": 256,
    "start_time": "2022-06-01T11:42:49.920Z"
   },
   {
    "duration": 226,
    "start_time": "2022-06-01T11:42:56.325Z"
   },
   {
    "duration": 265,
    "start_time": "2022-06-01T11:43:00.893Z"
   },
   {
    "duration": 1473,
    "start_time": "2022-06-01T11:48:11.302Z"
   },
   {
    "duration": 424,
    "start_time": "2022-06-01T11:50:33.517Z"
   },
   {
    "duration": 731,
    "start_time": "2022-06-01T11:51:01.984Z"
   },
   {
    "duration": 692,
    "start_time": "2022-06-01T11:51:08.113Z"
   },
   {
    "duration": 623,
    "start_time": "2022-06-01T11:51:36.076Z"
   },
   {
    "duration": 23,
    "start_time": "2022-06-01T12:09:15.647Z"
   },
   {
    "duration": 18,
    "start_time": "2022-06-01T12:09:19.416Z"
   },
   {
    "duration": 21,
    "start_time": "2022-06-01T12:09:29.870Z"
   },
   {
    "duration": 2,
    "start_time": "2022-06-01T12:09:37.640Z"
   },
   {
    "duration": 179,
    "start_time": "2022-06-01T12:09:37.644Z"
   },
   {
    "duration": 29,
    "start_time": "2022-06-01T12:09:37.826Z"
   },
   {
    "duration": 411,
    "start_time": "2022-06-01T12:09:37.857Z"
   },
   {
    "duration": 221,
    "start_time": "2022-06-01T12:09:38.271Z"
   },
   {
    "duration": 530,
    "start_time": "2022-06-01T12:09:38.494Z"
   },
   {
    "duration": 244,
    "start_time": "2022-06-01T12:09:39.027Z"
   },
   {
    "duration": 612,
    "start_time": "2022-06-01T12:09:39.273Z"
   },
   {
    "duration": 496,
    "start_time": "2022-06-01T12:09:39.887Z"
   },
   {
    "duration": 23,
    "start_time": "2022-06-01T12:09:40.385Z"
   },
   {
    "duration": 38,
    "start_time": "2022-06-01T12:09:40.411Z"
   },
   {
    "duration": 12,
    "start_time": "2022-06-01T12:09:40.450Z"
   },
   {
    "duration": 31,
    "start_time": "2022-06-01T12:09:40.463Z"
   },
   {
    "duration": 244,
    "start_time": "2022-06-01T12:09:40.496Z"
   },
   {
    "duration": 248,
    "start_time": "2022-06-01T12:09:40.742Z"
   },
   {
    "duration": 533,
    "start_time": "2022-06-01T12:09:40.992Z"
   },
   {
    "duration": 245,
    "start_time": "2022-06-01T12:09:41.526Z"
   },
   {
    "duration": 16,
    "start_time": "2022-06-01T12:10:58.248Z"
   },
   {
    "duration": 19,
    "start_time": "2022-06-01T12:11:19.628Z"
   },
   {
    "duration": 17,
    "start_time": "2022-06-01T12:11:55.582Z"
   },
   {
    "duration": 11,
    "start_time": "2022-06-01T12:13:23.401Z"
   },
   {
    "duration": 23,
    "start_time": "2022-06-01T12:13:43.279Z"
   },
   {
    "duration": 18,
    "start_time": "2022-06-01T12:14:26.467Z"
   },
   {
    "duration": 12,
    "start_time": "2022-06-01T12:28:05.253Z"
   },
   {
    "duration": 29,
    "start_time": "2022-06-01T12:49:12.877Z"
   },
   {
    "duration": 143,
    "start_time": "2022-06-01T12:49:29.972Z"
   },
   {
    "duration": 10,
    "start_time": "2022-06-01T12:50:01.211Z"
   },
   {
    "duration": 3,
    "start_time": "2022-06-01T12:50:06.517Z"
   },
   {
    "duration": 70,
    "start_time": "2022-06-01T12:50:06.529Z"
   },
   {
    "duration": 27,
    "start_time": "2022-06-01T12:50:06.601Z"
   },
   {
    "duration": 391,
    "start_time": "2022-06-01T12:50:06.630Z"
   },
   {
    "duration": 213,
    "start_time": "2022-06-01T12:50:07.023Z"
   },
   {
    "duration": 517,
    "start_time": "2022-06-01T12:50:07.239Z"
   },
   {
    "duration": 240,
    "start_time": "2022-06-01T12:50:07.759Z"
   },
   {
    "duration": 710,
    "start_time": "2022-06-01T12:50:08.001Z"
   },
   {
    "duration": 484,
    "start_time": "2022-06-01T12:50:08.713Z"
   },
   {
    "duration": 20,
    "start_time": "2022-06-01T12:50:09.199Z"
   },
   {
    "duration": 35,
    "start_time": "2022-06-01T12:50:09.221Z"
   },
   {
    "duration": 20,
    "start_time": "2022-06-01T12:50:09.257Z"
   },
   {
    "duration": 8,
    "start_time": "2022-06-01T12:50:09.279Z"
   },
   {
    "duration": 12,
    "start_time": "2022-06-01T12:50:09.288Z"
   },
   {
    "duration": 25,
    "start_time": "2022-06-01T12:50:09.303Z"
   },
   {
    "duration": 0,
    "start_time": "2022-06-01T12:50:09.330Z"
   },
   {
    "duration": 0,
    "start_time": "2022-06-01T12:50:09.331Z"
   },
   {
    "duration": 0,
    "start_time": "2022-06-01T12:50:09.332Z"
   },
   {
    "duration": 0,
    "start_time": "2022-06-01T12:50:09.353Z"
   },
   {
    "duration": 9,
    "start_time": "2022-06-01T12:50:43.338Z"
   },
   {
    "duration": 3,
    "start_time": "2022-06-01T12:50:53.709Z"
   },
   {
    "duration": 77,
    "start_time": "2022-06-01T12:50:53.714Z"
   },
   {
    "duration": 29,
    "start_time": "2022-06-01T12:50:53.793Z"
   },
   {
    "duration": 398,
    "start_time": "2022-06-01T12:50:53.824Z"
   },
   {
    "duration": 221,
    "start_time": "2022-06-01T12:50:54.225Z"
   },
   {
    "duration": 545,
    "start_time": "2022-06-01T12:50:54.451Z"
   },
   {
    "duration": 283,
    "start_time": "2022-06-01T12:50:54.998Z"
   },
   {
    "duration": 625,
    "start_time": "2022-06-01T12:50:55.283Z"
   },
   {
    "duration": 497,
    "start_time": "2022-06-01T12:50:55.910Z"
   },
   {
    "duration": 19,
    "start_time": "2022-06-01T12:50:56.409Z"
   },
   {
    "duration": 35,
    "start_time": "2022-06-01T12:50:56.429Z"
   },
   {
    "duration": 20,
    "start_time": "2022-06-01T12:50:56.466Z"
   },
   {
    "duration": 10,
    "start_time": "2022-06-01T12:50:56.487Z"
   },
   {
    "duration": 14,
    "start_time": "2022-06-01T12:50:56.500Z"
   },
   {
    "duration": 32,
    "start_time": "2022-06-01T12:50:56.553Z"
   },
   {
    "duration": 0,
    "start_time": "2022-06-01T12:50:56.587Z"
   },
   {
    "duration": 0,
    "start_time": "2022-06-01T12:50:56.589Z"
   },
   {
    "duration": 0,
    "start_time": "2022-06-01T12:50:56.591Z"
   },
   {
    "duration": 0,
    "start_time": "2022-06-01T12:50:56.592Z"
   },
   {
    "duration": 21,
    "start_time": "2022-06-01T12:51:55.802Z"
   },
   {
    "duration": 9,
    "start_time": "2022-06-01T12:52:22.300Z"
   },
   {
    "duration": 8,
    "start_time": "2022-06-01T12:55:22.098Z"
   },
   {
    "duration": 11,
    "start_time": "2022-06-01T12:56:42.565Z"
   },
   {
    "duration": 4,
    "start_time": "2022-06-01T12:56:50.433Z"
   },
   {
    "duration": 97,
    "start_time": "2022-06-01T12:56:50.439Z"
   },
   {
    "duration": 28,
    "start_time": "2022-06-01T12:56:50.538Z"
   },
   {
    "duration": 379,
    "start_time": "2022-06-01T12:56:50.567Z"
   },
   {
    "duration": 236,
    "start_time": "2022-06-01T12:56:50.948Z"
   },
   {
    "duration": 777,
    "start_time": "2022-06-01T12:56:51.186Z"
   },
   {
    "duration": 259,
    "start_time": "2022-06-01T12:56:51.965Z"
   },
   {
    "duration": 686,
    "start_time": "2022-06-01T12:56:52.226Z"
   },
   {
    "duration": 505,
    "start_time": "2022-06-01T12:56:52.914Z"
   },
   {
    "duration": 30,
    "start_time": "2022-06-01T12:56:53.422Z"
   },
   {
    "duration": 32,
    "start_time": "2022-06-01T12:56:53.455Z"
   },
   {
    "duration": 8,
    "start_time": "2022-06-01T12:56:53.489Z"
   },
   {
    "duration": 39,
    "start_time": "2022-06-01T12:56:53.499Z"
   },
   {
    "duration": 18,
    "start_time": "2022-06-01T12:56:53.540Z"
   },
   {
    "duration": 32,
    "start_time": "2022-06-01T12:56:53.560Z"
   },
   {
    "duration": 0,
    "start_time": "2022-06-01T12:56:53.594Z"
   },
   {
    "duration": 0,
    "start_time": "2022-06-01T12:56:53.596Z"
   },
   {
    "duration": 0,
    "start_time": "2022-06-01T12:56:53.597Z"
   },
   {
    "duration": 0,
    "start_time": "2022-06-01T12:56:53.599Z"
   },
   {
    "duration": 16,
    "start_time": "2022-06-01T12:57:20.029Z"
   },
   {
    "duration": 20,
    "start_time": "2022-06-01T12:57:39.842Z"
   },
   {
    "duration": 10,
    "start_time": "2022-06-01T12:57:46.626Z"
   },
   {
    "duration": 13,
    "start_time": "2022-06-01T12:58:15.659Z"
   },
   {
    "duration": 15,
    "start_time": "2022-06-01T12:58:22.487Z"
   },
   {
    "duration": 10,
    "start_time": "2022-06-01T12:58:35.649Z"
   },
   {
    "duration": 24,
    "start_time": "2022-06-01T13:01:23.268Z"
   },
   {
    "duration": 268,
    "start_time": "2022-06-01T13:02:32.998Z"
   },
   {
    "duration": 260,
    "start_time": "2022-06-01T13:02:39.338Z"
   },
   {
    "duration": 83,
    "start_time": "2022-06-01T13:03:03.780Z"
   },
   {
    "duration": 515,
    "start_time": "2022-06-01T13:03:13.115Z"
   },
   {
    "duration": 659,
    "start_time": "2022-06-01T13:03:37.077Z"
   },
   {
    "duration": 30,
    "start_time": "2022-06-01T13:03:53.712Z"
   },
   {
    "duration": 245,
    "start_time": "2022-06-01T13:04:12.294Z"
   },
   {
    "duration": 254,
    "start_time": "2022-06-01T13:05:25.255Z"
   },
   {
    "duration": 231,
    "start_time": "2022-06-01T13:05:59.204Z"
   },
   {
    "duration": 235,
    "start_time": "2022-06-01T13:06:30.804Z"
   },
   {
    "duration": 271,
    "start_time": "2022-06-01T13:09:14.326Z"
   },
   {
    "duration": 237,
    "start_time": "2022-06-01T13:10:14.601Z"
   },
   {
    "duration": 17,
    "start_time": "2022-06-01T13:10:27.954Z"
   },
   {
    "duration": 145,
    "start_time": "2022-06-01T13:10:48.665Z"
   },
   {
    "duration": 177,
    "start_time": "2022-06-01T13:10:57.986Z"
   },
   {
    "duration": 421,
    "start_time": "2022-06-01T13:11:05.205Z"
   },
   {
    "duration": 404,
    "start_time": "2022-06-01T13:11:20.643Z"
   },
   {
    "duration": 154,
    "start_time": "2022-06-01T13:12:29.056Z"
   },
   {
    "duration": 159,
    "start_time": "2022-06-01T13:13:22.814Z"
   },
   {
    "duration": 177,
    "start_time": "2022-06-01T13:15:29.904Z"
   },
   {
    "duration": 460,
    "start_time": "2022-06-01T13:18:36.872Z"
   },
   {
    "duration": 130,
    "start_time": "2022-06-01T13:23:02.275Z"
   },
   {
    "duration": 3,
    "start_time": "2022-06-01T13:26:32.229Z"
   },
   {
    "duration": 89,
    "start_time": "2022-06-01T13:26:32.234Z"
   },
   {
    "duration": 53,
    "start_time": "2022-06-01T13:26:32.326Z"
   },
   {
    "duration": 585,
    "start_time": "2022-06-01T13:26:32.380Z"
   },
   {
    "duration": 219,
    "start_time": "2022-06-01T13:26:32.966Z"
   },
   {
    "duration": 540,
    "start_time": "2022-06-01T13:26:33.187Z"
   },
   {
    "duration": 267,
    "start_time": "2022-06-01T13:26:33.728Z"
   },
   {
    "duration": 594,
    "start_time": "2022-06-01T13:26:33.996Z"
   },
   {
    "duration": 0,
    "start_time": "2022-06-01T13:29:54.558Z"
   },
   {
    "duration": 0,
    "start_time": "2022-06-01T13:29:54.559Z"
   },
   {
    "duration": 0,
    "start_time": "2022-06-01T13:29:54.561Z"
   },
   {
    "duration": 0,
    "start_time": "2022-06-01T13:29:54.562Z"
   },
   {
    "duration": 0,
    "start_time": "2022-06-01T13:29:54.564Z"
   },
   {
    "duration": 0,
    "start_time": "2022-06-01T13:29:54.565Z"
   },
   {
    "duration": 0,
    "start_time": "2022-06-01T13:29:54.567Z"
   },
   {
    "duration": 0,
    "start_time": "2022-06-01T13:29:54.568Z"
   },
   {
    "duration": 1,
    "start_time": "2022-06-01T13:29:54.569Z"
   },
   {
    "duration": 0,
    "start_time": "2022-06-01T13:29:54.572Z"
   },
   {
    "duration": 0,
    "start_time": "2022-06-01T13:29:54.572Z"
   },
   {
    "duration": 0,
    "start_time": "2022-06-01T13:29:54.574Z"
   },
   {
    "duration": 0,
    "start_time": "2022-06-01T13:29:54.575Z"
   },
   {
    "duration": 0,
    "start_time": "2022-06-01T13:29:54.576Z"
   },
   {
    "duration": 0,
    "start_time": "2022-06-01T13:29:54.577Z"
   },
   {
    "duration": 0,
    "start_time": "2022-06-01T13:29:54.578Z"
   },
   {
    "duration": 0,
    "start_time": "2022-06-01T13:29:54.579Z"
   },
   {
    "duration": 0,
    "start_time": "2022-06-01T13:29:54.580Z"
   },
   {
    "duration": 3,
    "start_time": "2022-06-01T13:31:46.473Z"
   },
   {
    "duration": 76,
    "start_time": "2022-06-01T13:31:46.478Z"
   },
   {
    "duration": 26,
    "start_time": "2022-06-01T13:31:46.556Z"
   },
   {
    "duration": 385,
    "start_time": "2022-06-01T13:31:46.584Z"
   },
   {
    "duration": 311,
    "start_time": "2022-06-01T13:31:46.972Z"
   },
   {
    "duration": 541,
    "start_time": "2022-06-01T13:31:47.285Z"
   },
   {
    "duration": 256,
    "start_time": "2022-06-01T13:31:47.827Z"
   },
   {
    "duration": 610,
    "start_time": "2022-06-01T13:31:48.085Z"
   },
   {
    "duration": 198682,
    "start_time": "2022-06-01T13:31:48.696Z"
   },
   {
    "duration": 20,
    "start_time": "2022-06-01T13:35:07.380Z"
   },
   {
    "duration": 27,
    "start_time": "2022-06-01T13:35:07.402Z"
   },
   {
    "duration": 23,
    "start_time": "2022-06-01T13:35:07.431Z"
   },
   {
    "duration": 25,
    "start_time": "2022-06-01T13:35:07.456Z"
   },
   {
    "duration": 10,
    "start_time": "2022-06-01T13:35:07.484Z"
   },
   {
    "duration": 275,
    "start_time": "2022-06-01T13:35:07.496Z"
   },
   {
    "duration": 556,
    "start_time": "2022-06-01T13:35:07.773Z"
   },
   {
    "duration": 0,
    "start_time": "2022-06-01T13:35:08.331Z"
   },
   {
    "duration": 0,
    "start_time": "2022-06-01T13:35:08.333Z"
   },
   {
    "duration": 245,
    "start_time": "2022-06-01T13:36:33.745Z"
   },
   {
    "duration": 250,
    "start_time": "2022-06-01T13:36:35.984Z"
   },
   {
    "duration": 127,
    "start_time": "2022-06-01T13:38:55.589Z"
   },
   {
    "duration": 492,
    "start_time": "2022-06-01T13:39:01.826Z"
   },
   {
    "duration": 465,
    "start_time": "2022-06-01T13:40:18.604Z"
   },
   {
    "duration": 138,
    "start_time": "2022-06-01T13:42:18.074Z"
   },
   {
    "duration": 138,
    "start_time": "2022-06-01T13:42:30.175Z"
   },
   {
    "duration": 138,
    "start_time": "2022-06-01T13:43:14.157Z"
   },
   {
    "duration": 137,
    "start_time": "2022-06-01T13:43:38.027Z"
   },
   {
    "duration": 206,
    "start_time": "2022-06-01T13:43:48.693Z"
   },
   {
    "duration": 214,
    "start_time": "2022-06-01T13:48:44.845Z"
   },
   {
    "duration": 235,
    "start_time": "2022-06-01T13:50:18.599Z"
   },
   {
    "duration": 231,
    "start_time": "2022-06-01T13:50:24.712Z"
   },
   {
    "duration": 17,
    "start_time": "2022-06-01T13:50:54.511Z"
   },
   {
    "duration": 229,
    "start_time": "2022-06-01T13:50:56.672Z"
   },
   {
    "duration": 282,
    "start_time": "2022-06-01T13:51:45.283Z"
   },
   {
    "duration": 182,
    "start_time": "2022-06-01T13:52:21.842Z"
   },
   {
    "duration": 264,
    "start_time": "2022-06-01T13:52:30.147Z"
   },
   {
    "duration": 251,
    "start_time": "2022-06-01T13:53:53.184Z"
   },
   {
    "duration": 231,
    "start_time": "2022-06-01T13:53:56.570Z"
   },
   {
    "duration": 239,
    "start_time": "2022-06-01T13:53:59.691Z"
   },
   {
    "duration": 8,
    "start_time": "2022-06-01T13:54:23.404Z"
   },
   {
    "duration": 4,
    "start_time": "2022-06-01T13:54:41.465Z"
   },
   {
    "duration": 10,
    "start_time": "2022-06-01T13:54:58.566Z"
   },
   {
    "duration": 11,
    "start_time": "2022-06-01T13:55:04.526Z"
   },
   {
    "duration": 8,
    "start_time": "2022-06-01T13:57:07.997Z"
   },
   {
    "duration": 20,
    "start_time": "2022-06-01T13:57:12.031Z"
   },
   {
    "duration": 7,
    "start_time": "2022-06-01T13:57:15.865Z"
   },
   {
    "duration": 18,
    "start_time": "2022-06-01T13:57:18.809Z"
   },
   {
    "duration": 227,
    "start_time": "2022-06-01T13:57:20.508Z"
   },
   {
    "duration": 129,
    "start_time": "2022-06-01T13:57:33.408Z"
   },
   {
    "duration": 150,
    "start_time": "2022-06-01T13:57:55.893Z"
   },
   {
    "duration": 147,
    "start_time": "2022-06-01T13:58:23.808Z"
   },
   {
    "duration": 3,
    "start_time": "2022-06-01T13:58:39.352Z"
   },
   {
    "duration": 84,
    "start_time": "2022-06-01T13:58:39.357Z"
   },
   {
    "duration": 27,
    "start_time": "2022-06-01T13:58:39.444Z"
   },
   {
    "duration": 371,
    "start_time": "2022-06-01T13:58:39.473Z"
   },
   {
    "duration": 210,
    "start_time": "2022-06-01T13:58:39.846Z"
   },
   {
    "duration": 523,
    "start_time": "2022-06-01T13:58:40.058Z"
   },
   {
    "duration": 230,
    "start_time": "2022-06-01T13:58:40.583Z"
   },
   {
    "duration": 570,
    "start_time": "2022-06-01T13:58:40.815Z"
   },
   {
    "duration": 218,
    "start_time": "2022-06-01T13:58:41.387Z"
   },
   {
    "duration": 19,
    "start_time": "2022-06-01T13:58:41.607Z"
   },
   {
    "duration": 37,
    "start_time": "2022-06-01T13:58:41.627Z"
   },
   {
    "duration": 8,
    "start_time": "2022-06-01T13:58:41.665Z"
   },
   {
    "duration": 33,
    "start_time": "2022-06-01T13:58:41.674Z"
   },
   {
    "duration": 8,
    "start_time": "2022-06-01T13:58:41.708Z"
   },
   {
    "duration": 21,
    "start_time": "2022-06-01T13:58:41.717Z"
   },
   {
    "duration": 0,
    "start_time": "2022-06-01T13:58:41.753Z"
   },
   {
    "duration": 0,
    "start_time": "2022-06-01T13:58:41.753Z"
   },
   {
    "duration": 0,
    "start_time": "2022-06-01T13:58:41.755Z"
   },
   {
    "duration": 0,
    "start_time": "2022-06-01T13:58:41.756Z"
   },
   {
    "duration": 15,
    "start_time": "2022-06-01T13:58:56.650Z"
   },
   {
    "duration": 218,
    "start_time": "2022-06-01T13:59:01.498Z"
   },
   {
    "duration": 156,
    "start_time": "2022-06-01T13:59:04.128Z"
   },
   {
    "duration": 248,
    "start_time": "2022-06-01T13:59:19.725Z"
   },
   {
    "duration": 14,
    "start_time": "2022-06-01T13:59:44.869Z"
   },
   {
    "duration": 238,
    "start_time": "2022-06-01T13:59:50.878Z"
   },
   {
    "duration": 235,
    "start_time": "2022-06-01T13:59:54.032Z"
   },
   {
    "duration": 216,
    "start_time": "2022-06-01T14:00:18.210Z"
   },
   {
    "duration": 222,
    "start_time": "2022-06-01T14:00:30.224Z"
   },
   {
    "duration": 11,
    "start_time": "2022-06-01T14:00:40.135Z"
   },
   {
    "duration": 8,
    "start_time": "2022-06-01T14:01:14.485Z"
   },
   {
    "duration": 9,
    "start_time": "2022-06-01T14:01:22.399Z"
   },
   {
    "duration": 14,
    "start_time": "2022-06-01T14:01:34.582Z"
   },
   {
    "duration": 8,
    "start_time": "2022-06-01T14:01:50.498Z"
   },
   {
    "duration": 10,
    "start_time": "2022-06-01T14:02:58.541Z"
   },
   {
    "duration": 213,
    "start_time": "2022-06-01T14:39:22.621Z"
   },
   {
    "duration": 365,
    "start_time": "2022-06-01T14:39:37.095Z"
   },
   {
    "duration": 222,
    "start_time": "2022-06-01T14:39:50.465Z"
   },
   {
    "duration": 198,
    "start_time": "2022-06-01T14:40:37.619Z"
   },
   {
    "duration": 214,
    "start_time": "2022-06-01T14:42:48.414Z"
   },
   {
    "duration": 214,
    "start_time": "2022-06-01T14:42:57.701Z"
   },
   {
    "duration": 12,
    "start_time": "2022-06-01T14:43:29.447Z"
   },
   {
    "duration": 201,
    "start_time": "2022-06-01T14:43:36.586Z"
   },
   {
    "duration": 207,
    "start_time": "2022-06-01T14:44:40.379Z"
   },
   {
    "duration": 206,
    "start_time": "2022-06-01T14:44:55.876Z"
   },
   {
    "duration": 226,
    "start_time": "2022-06-01T14:45:46.022Z"
   },
   {
    "duration": 212,
    "start_time": "2022-06-01T14:46:04.635Z"
   },
   {
    "duration": 212,
    "start_time": "2022-06-01T14:46:18.676Z"
   },
   {
    "duration": 133,
    "start_time": "2022-06-01T14:47:28.465Z"
   },
   {
    "duration": 205,
    "start_time": "2022-06-01T14:47:46.547Z"
   },
   {
    "duration": 218,
    "start_time": "2022-06-01T14:48:07.564Z"
   },
   {
    "duration": 208,
    "start_time": "2022-06-01T14:48:21.041Z"
   },
   {
    "duration": 203,
    "start_time": "2022-06-01T14:48:27.362Z"
   },
   {
    "duration": 220,
    "start_time": "2022-06-01T14:48:32.015Z"
   },
   {
    "duration": 197,
    "start_time": "2022-06-01T14:48:35.929Z"
   },
   {
    "duration": 197,
    "start_time": "2022-06-01T14:48:43.811Z"
   },
   {
    "duration": 517,
    "start_time": "2022-06-01T14:48:47.785Z"
   },
   {
    "duration": 264,
    "start_time": "2022-06-01T14:48:52.351Z"
   },
   {
    "duration": 642,
    "start_time": "2022-06-01T14:48:54.920Z"
   },
   {
    "duration": 204,
    "start_time": "2022-06-01T14:48:58.537Z"
   },
   {
    "duration": 19,
    "start_time": "2022-06-01T14:49:01.613Z"
   },
   {
    "duration": 17,
    "start_time": "2022-06-01T14:49:03.845Z"
   },
   {
    "duration": 8,
    "start_time": "2022-06-01T14:49:07.140Z"
   },
   {
    "duration": 20,
    "start_time": "2022-06-01T14:49:09.336Z"
   },
   {
    "duration": 15,
    "start_time": "2022-06-01T14:49:12.742Z"
   },
   {
    "duration": 232,
    "start_time": "2022-06-01T14:49:15.595Z"
   },
   {
    "duration": 210,
    "start_time": "2022-06-01T14:49:47.226Z"
   },
   {
    "duration": 210,
    "start_time": "2022-06-01T14:49:53.656Z"
   },
   {
    "duration": 3,
    "start_time": "2022-06-01T14:50:01.852Z"
   },
   {
    "duration": 96,
    "start_time": "2022-06-01T14:50:01.857Z"
   },
   {
    "duration": 29,
    "start_time": "2022-06-01T14:50:01.955Z"
   },
   {
    "duration": 267,
    "start_time": "2022-06-01T14:50:01.985Z"
   },
   {
    "duration": 228,
    "start_time": "2022-06-01T14:50:02.254Z"
   },
   {
    "duration": 535,
    "start_time": "2022-06-01T14:50:02.484Z"
   },
   {
    "duration": 242,
    "start_time": "2022-06-01T14:50:03.020Z"
   },
   {
    "duration": 588,
    "start_time": "2022-06-01T14:50:03.264Z"
   },
   {
    "duration": 207,
    "start_time": "2022-06-01T14:50:03.854Z"
   },
   {
    "duration": 19,
    "start_time": "2022-06-01T14:50:04.063Z"
   },
   {
    "duration": 26,
    "start_time": "2022-06-01T14:50:04.085Z"
   },
   {
    "duration": 11,
    "start_time": "2022-06-01T14:50:04.112Z"
   },
   {
    "duration": 39,
    "start_time": "2022-06-01T14:50:04.125Z"
   },
   {
    "duration": 9,
    "start_time": "2022-06-01T14:50:04.166Z"
   },
   {
    "duration": 29,
    "start_time": "2022-06-01T14:50:04.177Z"
   },
   {
    "duration": 224,
    "start_time": "2022-06-01T14:50:04.209Z"
   },
   {
    "duration": 247,
    "start_time": "2022-06-01T14:50:04.435Z"
   },
   {
    "duration": 287,
    "start_time": "2022-06-01T14:50:04.683Z"
   },
   {
    "duration": 12,
    "start_time": "2022-06-01T14:50:04.972Z"
   },
   {
    "duration": 207,
    "start_time": "2022-06-01T14:50:36.442Z"
   },
   {
    "duration": 3,
    "start_time": "2022-06-01T14:50:41.477Z"
   },
   {
    "duration": 74,
    "start_time": "2022-06-01T14:50:41.483Z"
   },
   {
    "duration": 25,
    "start_time": "2022-06-01T14:50:41.559Z"
   },
   {
    "duration": 218,
    "start_time": "2022-06-01T14:50:41.585Z"
   },
   {
    "duration": 209,
    "start_time": "2022-06-01T14:50:41.805Z"
   },
   {
    "duration": 528,
    "start_time": "2022-06-01T14:50:42.016Z"
   },
   {
    "duration": 250,
    "start_time": "2022-06-01T14:50:42.546Z"
   },
   {
    "duration": 612,
    "start_time": "2022-06-01T14:50:42.798Z"
   },
   {
    "duration": 228,
    "start_time": "2022-06-01T14:50:43.412Z"
   },
   {
    "duration": 31,
    "start_time": "2022-06-01T14:50:43.643Z"
   },
   {
    "duration": 36,
    "start_time": "2022-06-01T14:50:43.676Z"
   },
   {
    "duration": 9,
    "start_time": "2022-06-01T14:50:43.714Z"
   },
   {
    "duration": 29,
    "start_time": "2022-06-01T14:50:43.726Z"
   },
   {
    "duration": 8,
    "start_time": "2022-06-01T14:50:43.756Z"
   },
   {
    "duration": 20,
    "start_time": "2022-06-01T14:50:43.766Z"
   },
   {
    "duration": 234,
    "start_time": "2022-06-01T14:50:43.788Z"
   },
   {
    "duration": 237,
    "start_time": "2022-06-01T14:50:44.024Z"
   },
   {
    "duration": 235,
    "start_time": "2022-06-01T14:50:44.263Z"
   },
   {
    "duration": 8,
    "start_time": "2022-06-01T14:50:44.500Z"
   },
   {
    "duration": 200,
    "start_time": "2022-06-01T14:52:03.410Z"
   },
   {
    "duration": 3,
    "start_time": "2022-06-01T14:52:08.786Z"
   },
   {
    "duration": 79,
    "start_time": "2022-06-01T14:52:08.791Z"
   },
   {
    "duration": 27,
    "start_time": "2022-06-01T14:52:08.872Z"
   },
   {
    "duration": 219,
    "start_time": "2022-06-01T14:52:08.901Z"
   },
   {
    "duration": 221,
    "start_time": "2022-06-01T14:52:09.123Z"
   },
   {
    "duration": 519,
    "start_time": "2022-06-01T14:52:09.346Z"
   },
   {
    "duration": 246,
    "start_time": "2022-06-01T14:52:09.866Z"
   },
   {
    "duration": 610,
    "start_time": "2022-06-01T14:52:10.114Z"
   },
   {
    "duration": 216,
    "start_time": "2022-06-01T14:52:10.725Z"
   },
   {
    "duration": 26,
    "start_time": "2022-06-01T14:52:10.942Z"
   },
   {
    "duration": 25,
    "start_time": "2022-06-01T14:52:10.970Z"
   },
   {
    "duration": 8,
    "start_time": "2022-06-01T14:52:10.997Z"
   },
   {
    "duration": 26,
    "start_time": "2022-06-01T14:52:11.006Z"
   },
   {
    "duration": 22,
    "start_time": "2022-06-01T14:52:11.035Z"
   },
   {
    "duration": 24,
    "start_time": "2022-06-01T14:52:11.058Z"
   },
   {
    "duration": 232,
    "start_time": "2022-06-01T14:52:11.084Z"
   },
   {
    "duration": 233,
    "start_time": "2022-06-01T14:52:11.317Z"
   },
   {
    "duration": 233,
    "start_time": "2022-06-01T14:52:11.552Z"
   },
   {
    "duration": 7,
    "start_time": "2022-06-01T14:52:11.786Z"
   },
   {
    "duration": 210,
    "start_time": "2022-06-01T14:52:57.490Z"
   },
   {
    "duration": 222,
    "start_time": "2022-06-01T14:59:16.592Z"
   },
   {
    "duration": 228,
    "start_time": "2022-06-01T14:59:25.953Z"
   },
   {
    "duration": 115,
    "start_time": "2022-06-01T14:59:49.292Z"
   },
   {
    "duration": 115,
    "start_time": "2022-06-01T14:59:54.004Z"
   },
   {
    "duration": 14,
    "start_time": "2022-06-01T15:00:07.760Z"
   },
   {
    "duration": 114,
    "start_time": "2022-06-01T15:01:20.465Z"
   },
   {
    "duration": 84,
    "start_time": "2022-06-01T15:01:26.697Z"
   },
   {
    "duration": 72,
    "start_time": "2022-06-01T15:01:34.908Z"
   },
   {
    "duration": 84,
    "start_time": "2022-06-01T15:02:47.951Z"
   },
   {
    "duration": 85,
    "start_time": "2022-06-01T15:03:00.254Z"
   },
   {
    "duration": 18,
    "start_time": "2022-06-01T15:03:31.952Z"
   },
   {
    "duration": 83,
    "start_time": "2022-06-01T15:05:17.292Z"
   },
   {
    "duration": 73,
    "start_time": "2022-06-01T15:05:33.856Z"
   },
   {
    "duration": 87,
    "start_time": "2022-06-01T15:05:54.877Z"
   },
   {
    "duration": 85,
    "start_time": "2022-06-01T15:06:28.470Z"
   },
   {
    "duration": 155,
    "start_time": "2022-06-01T15:07:09.770Z"
   },
   {
    "duration": 188,
    "start_time": "2022-06-01T15:11:03.246Z"
   },
   {
    "duration": 176,
    "start_time": "2022-06-01T15:11:16.453Z"
   },
   {
    "duration": 193,
    "start_time": "2022-06-01T15:17:30.038Z"
   },
   {
    "duration": 212,
    "start_time": "2022-06-01T15:18:08.548Z"
   },
   {
    "duration": 209,
    "start_time": "2022-06-01T15:18:43.223Z"
   },
   {
    "duration": 234,
    "start_time": "2022-06-01T15:18:50.287Z"
   },
   {
    "duration": 485,
    "start_time": "2022-06-01T15:27:46.225Z"
   },
   {
    "duration": 577,
    "start_time": "2022-06-01T15:27:58.490Z"
   },
   {
    "duration": 739,
    "start_time": "2022-06-01T15:28:46.186Z"
   },
   {
    "duration": 567,
    "start_time": "2022-06-01T15:29:08.195Z"
   },
   {
    "duration": 577,
    "start_time": "2022-06-01T15:29:19.945Z"
   },
   {
    "duration": 18,
    "start_time": "2022-06-01T15:37:29.476Z"
   },
   {
    "duration": 19,
    "start_time": "2022-06-01T15:37:39.892Z"
   },
   {
    "duration": 165,
    "start_time": "2022-06-01T15:38:22.118Z"
   },
   {
    "duration": 285,
    "start_time": "2022-06-01T15:38:51.548Z"
   },
   {
    "duration": 262,
    "start_time": "2022-06-01T15:39:02.622Z"
   },
   {
    "duration": 21,
    "start_time": "2022-06-01T15:57:24.215Z"
   },
   {
    "duration": 228,
    "start_time": "2022-06-01T15:57:40.362Z"
   },
   {
    "duration": 100,
    "start_time": "2022-06-01T16:04:27.340Z"
   },
   {
    "duration": 628,
    "start_time": "2022-06-01T16:04:59.031Z"
   },
   {
    "duration": 2,
    "start_time": "2022-06-01T16:06:00.315Z"
   },
   {
    "duration": 630,
    "start_time": "2022-06-01T16:06:08.291Z"
   },
   {
    "duration": 38,
    "start_time": "2022-06-01T16:06:48.358Z"
   },
   {
    "duration": 761,
    "start_time": "2022-06-01T16:07:49.419Z"
   },
   {
    "duration": 28,
    "start_time": "2022-06-01T16:08:44.739Z"
   },
   {
    "duration": 774,
    "start_time": "2022-06-01T16:08:51.312Z"
   },
   {
    "duration": 730,
    "start_time": "2022-06-01T16:08:58.126Z"
   },
   {
    "duration": 795,
    "start_time": "2022-06-01T16:09:05.247Z"
   },
   {
    "duration": 746,
    "start_time": "2022-06-01T16:09:11.184Z"
   },
   {
    "duration": 735,
    "start_time": "2022-06-01T16:09:18.808Z"
   },
   {
    "duration": 1017,
    "start_time": "2022-06-01T16:10:14.550Z"
   },
   {
    "duration": 449,
    "start_time": "2022-06-01T16:10:37.616Z"
   },
   {
    "duration": 875,
    "start_time": "2022-06-01T16:10:51.468Z"
   },
   {
    "duration": 229,
    "start_time": "2022-06-01T16:13:57.510Z"
   },
   {
    "duration": 2364,
    "start_time": "2022-06-01T16:15:49.963Z"
   },
   {
    "duration": 1337,
    "start_time": "2022-06-02T07:35:06.825Z"
   },
   {
    "duration": 247,
    "start_time": "2022-06-02T07:35:08.164Z"
   },
   {
    "duration": 24,
    "start_time": "2022-06-02T07:35:08.413Z"
   },
   {
    "duration": 195,
    "start_time": "2022-06-02T07:35:08.439Z"
   },
   {
    "duration": 118,
    "start_time": "2022-06-02T07:35:08.636Z"
   },
   {
    "duration": 0,
    "start_time": "2022-06-02T07:35:08.756Z"
   },
   {
    "duration": 0,
    "start_time": "2022-06-02T07:35:08.757Z"
   },
   {
    "duration": 0,
    "start_time": "2022-06-02T07:35:08.759Z"
   },
   {
    "duration": 0,
    "start_time": "2022-06-02T07:35:08.760Z"
   },
   {
    "duration": 0,
    "start_time": "2022-06-02T07:35:08.761Z"
   },
   {
    "duration": 0,
    "start_time": "2022-06-02T07:35:08.763Z"
   },
   {
    "duration": 0,
    "start_time": "2022-06-02T07:35:08.764Z"
   },
   {
    "duration": 0,
    "start_time": "2022-06-02T07:35:08.765Z"
   },
   {
    "duration": 0,
    "start_time": "2022-06-02T07:35:08.767Z"
   },
   {
    "duration": 0,
    "start_time": "2022-06-02T07:35:08.768Z"
   },
   {
    "duration": 0,
    "start_time": "2022-06-02T07:35:08.769Z"
   },
   {
    "duration": 1,
    "start_time": "2022-06-02T07:35:08.770Z"
   },
   {
    "duration": 1,
    "start_time": "2022-06-02T07:35:08.771Z"
   },
   {
    "duration": 0,
    "start_time": "2022-06-02T07:35:08.773Z"
   },
   {
    "duration": 0,
    "start_time": "2022-06-02T07:35:08.774Z"
   },
   {
    "duration": 17,
    "start_time": "2022-06-02T07:35:38.482Z"
   },
   {
    "duration": 225,
    "start_time": "2022-06-02T07:36:07.948Z"
   },
   {
    "duration": 3,
    "start_time": "2022-06-02T07:36:16.065Z"
   },
   {
    "duration": 80,
    "start_time": "2022-06-02T07:36:16.070Z"
   },
   {
    "duration": 23,
    "start_time": "2022-06-02T07:36:16.151Z"
   },
   {
    "duration": 198,
    "start_time": "2022-06-02T07:36:16.176Z"
   },
   {
    "duration": 163,
    "start_time": "2022-06-02T07:36:16.375Z"
   },
   {
    "duration": 251,
    "start_time": "2022-06-02T07:36:16.539Z"
   },
   {
    "duration": 440,
    "start_time": "2022-06-02T07:36:16.792Z"
   },
   {
    "duration": 829,
    "start_time": "2022-06-02T07:36:17.233Z"
   },
   {
    "duration": 1252,
    "start_time": "2022-06-02T07:36:18.065Z"
   },
   {
    "duration": 188,
    "start_time": "2022-06-02T07:36:19.319Z"
   },
   {
    "duration": 17,
    "start_time": "2022-06-02T07:36:19.508Z"
   },
   {
    "duration": 27,
    "start_time": "2022-06-02T07:36:19.527Z"
   },
   {
    "duration": 7,
    "start_time": "2022-06-02T07:36:19.556Z"
   },
   {
    "duration": 22,
    "start_time": "2022-06-02T07:36:19.564Z"
   },
   {
    "duration": 6,
    "start_time": "2022-06-02T07:36:19.587Z"
   },
   {
    "duration": 19,
    "start_time": "2022-06-02T07:36:19.594Z"
   },
   {
    "duration": 221,
    "start_time": "2022-06-02T07:36:19.614Z"
   },
   {
    "duration": 205,
    "start_time": "2022-06-02T07:36:19.836Z"
   },
   {
    "duration": 204,
    "start_time": "2022-06-02T07:36:20.042Z"
   },
   {
    "duration": 11,
    "start_time": "2022-06-02T07:36:20.247Z"
   },
   {
    "duration": 1446,
    "start_time": "2022-06-02T07:36:44.681Z"
   },
   {
    "duration": 241,
    "start_time": "2022-06-02T07:39:07.785Z"
   },
   {
    "duration": 773,
    "start_time": "2022-06-02T07:39:14.394Z"
   },
   {
    "duration": 27,
    "start_time": "2022-06-02T07:39:39.504Z"
   },
   {
    "duration": 973,
    "start_time": "2022-06-02T07:40:01.836Z"
   },
   {
    "duration": 29,
    "start_time": "2022-06-02T07:40:23.360Z"
   },
   {
    "duration": 775,
    "start_time": "2022-06-02T07:44:22.061Z"
   },
   {
    "duration": 247,
    "start_time": "2022-06-02T07:44:36.290Z"
   },
   {
    "duration": 722,
    "start_time": "2022-06-02T07:44:46.814Z"
   },
   {
    "duration": 833,
    "start_time": "2022-06-02T07:44:52.606Z"
   },
   {
    "duration": 742,
    "start_time": "2022-06-02T07:45:11.024Z"
   },
   {
    "duration": 689,
    "start_time": "2022-06-02T07:45:17.979Z"
   },
   {
    "duration": 728,
    "start_time": "2022-06-02T07:46:55.985Z"
   },
   {
    "duration": 906,
    "start_time": "2022-06-02T07:59:25.229Z"
   },
   {
    "duration": 707,
    "start_time": "2022-06-02T08:05:32.085Z"
   },
   {
    "duration": 684,
    "start_time": "2022-06-02T08:42:44.915Z"
   },
   {
    "duration": 728,
    "start_time": "2022-06-02T08:42:53.129Z"
   },
   {
    "duration": 1514,
    "start_time": "2022-06-02T08:47:19.174Z"
   },
   {
    "duration": 38,
    "start_time": "2022-06-02T08:47:59.099Z"
   },
   {
    "duration": 19,
    "start_time": "2022-06-02T08:48:04.457Z"
   },
   {
    "duration": 53,
    "start_time": "2022-06-02T08:54:32.011Z"
   },
   {
    "duration": 15,
    "start_time": "2022-06-02T09:22:53.037Z"
   },
   {
    "duration": 14,
    "start_time": "2022-06-02T09:23:12.375Z"
   },
   {
    "duration": 9,
    "start_time": "2022-06-02T09:23:53.282Z"
   },
   {
    "duration": 7,
    "start_time": "2022-06-02T09:24:02.581Z"
   },
   {
    "duration": 11,
    "start_time": "2022-06-02T09:24:11.781Z"
   },
   {
    "duration": 12,
    "start_time": "2022-06-02T09:24:31.635Z"
   },
   {
    "duration": 7,
    "start_time": "2022-06-02T09:26:04.506Z"
   },
   {
    "duration": 8,
    "start_time": "2022-06-02T09:26:16.761Z"
   },
   {
    "duration": 9,
    "start_time": "2022-06-02T09:26:42.188Z"
   },
   {
    "duration": 9,
    "start_time": "2022-06-02T09:28:40.184Z"
   },
   {
    "duration": 9,
    "start_time": "2022-06-02T09:49:23.991Z"
   },
   {
    "duration": 150,
    "start_time": "2022-06-02T09:55:37.345Z"
   },
   {
    "duration": 151,
    "start_time": "2022-06-02T09:55:49.720Z"
   },
   {
    "duration": 208,
    "start_time": "2022-06-02T09:56:11.354Z"
   },
   {
    "duration": 135,
    "start_time": "2022-06-02T09:56:21.879Z"
   },
   {
    "duration": 37,
    "start_time": "2022-06-02T09:56:55.882Z"
   },
   {
    "duration": 139,
    "start_time": "2022-06-02T09:57:10.867Z"
   },
   {
    "duration": 125,
    "start_time": "2022-06-02T09:57:52.481Z"
   },
   {
    "duration": 42,
    "start_time": "2022-06-02T09:58:57.091Z"
   },
   {
    "duration": 126,
    "start_time": "2022-06-02T09:59:33.569Z"
   },
   {
    "duration": 142,
    "start_time": "2022-06-02T10:00:00.576Z"
   },
   {
    "duration": 318,
    "start_time": "2022-06-02T10:00:17.290Z"
   },
   {
    "duration": 197,
    "start_time": "2022-06-02T12:07:34.802Z"
   },
   {
    "duration": 10,
    "start_time": "2022-06-02T12:08:29.523Z"
   },
   {
    "duration": 11,
    "start_time": "2022-06-02T12:08:38.758Z"
   },
   {
    "duration": 441,
    "start_time": "2022-06-02T12:08:57.135Z"
   },
   {
    "duration": 174,
    "start_time": "2022-06-02T12:09:12.391Z"
   },
   {
    "duration": 197,
    "start_time": "2022-06-02T12:09:53.988Z"
   },
   {
    "duration": 206,
    "start_time": "2022-06-02T12:14:20.408Z"
   },
   {
    "duration": 272,
    "start_time": "2022-06-02T12:15:41.485Z"
   },
   {
    "duration": 258,
    "start_time": "2022-06-02T12:22:06.593Z"
   },
   {
    "duration": 277,
    "start_time": "2022-06-02T12:23:07.977Z"
   },
   {
    "duration": 145,
    "start_time": "2022-06-02T12:23:37.069Z"
   },
   {
    "duration": 159,
    "start_time": "2022-06-02T12:23:50.785Z"
   },
   {
    "duration": 343,
    "start_time": "2022-06-02T12:24:07.957Z"
   },
   {
    "duration": 178,
    "start_time": "2022-06-02T12:24:19.388Z"
   },
   {
    "duration": 200,
    "start_time": "2022-06-02T13:05:08.696Z"
   },
   {
    "duration": 196,
    "start_time": "2022-06-02T13:05:15.064Z"
   },
   {
    "duration": 208,
    "start_time": "2022-06-02T13:11:24.427Z"
   },
   {
    "duration": 203,
    "start_time": "2022-06-02T13:11:43.711Z"
   },
   {
    "duration": 195,
    "start_time": "2022-06-02T13:28:05.613Z"
   },
   {
    "duration": 596,
    "start_time": "2022-06-02T13:32:39.628Z"
   },
   {
    "duration": 1051,
    "start_time": "2022-06-02T13:33:20.541Z"
   },
   {
    "duration": 586,
    "start_time": "2022-06-02T13:40:15.759Z"
   },
   {
    "duration": 199,
    "start_time": "2022-06-02T14:52:22.437Z"
   },
   {
    "duration": 747,
    "start_time": "2022-06-02T14:57:18.351Z"
   },
   {
    "duration": 146,
    "start_time": "2022-06-02T15:16:33.525Z"
   },
   {
    "duration": 134,
    "start_time": "2022-06-02T15:16:40.107Z"
   },
   {
    "duration": 193,
    "start_time": "2022-06-02T15:51:55.791Z"
   },
   {
    "duration": 186,
    "start_time": "2022-06-02T15:52:32.536Z"
   },
   {
    "duration": 193,
    "start_time": "2022-06-02T15:52:53.023Z"
   },
   {
    "duration": 317,
    "start_time": "2022-06-02T15:53:54.519Z"
   },
   {
    "duration": 188,
    "start_time": "2022-06-02T15:54:29.860Z"
   },
   {
    "duration": 114,
    "start_time": "2022-06-02T15:54:49.281Z"
   },
   {
    "duration": 245,
    "start_time": "2022-06-02T15:54:56.045Z"
   },
   {
    "duration": 554,
    "start_time": "2022-06-02T15:55:55.535Z"
   },
   {
    "duration": 244,
    "start_time": "2022-06-02T15:57:11.630Z"
   },
   {
    "duration": 251,
    "start_time": "2022-06-02T15:57:54.956Z"
   },
   {
    "duration": 54,
    "start_time": "2022-06-03T07:44:28.606Z"
   },
   {
    "duration": 1232,
    "start_time": "2022-06-03T07:44:39.428Z"
   },
   {
    "duration": 241,
    "start_time": "2022-06-03T07:44:40.662Z"
   },
   {
    "duration": 23,
    "start_time": "2022-06-03T07:44:40.905Z"
   },
   {
    "duration": 206,
    "start_time": "2022-06-03T07:44:40.930Z"
   },
   {
    "duration": 228,
    "start_time": "2022-06-03T07:44:41.138Z"
   },
   {
    "duration": 265,
    "start_time": "2022-06-03T07:44:41.368Z"
   },
   {
    "duration": 217,
    "start_time": "2022-06-03T07:44:41.635Z"
   },
   {
    "duration": 854,
    "start_time": "2022-06-03T07:44:41.853Z"
   },
   {
    "duration": 793,
    "start_time": "2022-06-03T07:44:42.709Z"
   },
   {
    "duration": 201,
    "start_time": "2022-06-03T07:44:43.504Z"
   },
   {
    "duration": 285,
    "start_time": "2022-06-03T07:44:43.707Z"
   },
   {
    "duration": 18,
    "start_time": "2022-06-03T07:44:43.994Z"
   },
   {
    "duration": 28,
    "start_time": "2022-06-03T07:44:44.014Z"
   },
   {
    "duration": 20,
    "start_time": "2022-06-03T07:44:44.044Z"
   },
   {
    "duration": 27,
    "start_time": "2022-06-03T07:44:44.065Z"
   },
   {
    "duration": 5,
    "start_time": "2022-06-03T07:44:44.094Z"
   },
   {
    "duration": 27,
    "start_time": "2022-06-03T07:44:44.101Z"
   },
   {
    "duration": 237,
    "start_time": "2022-06-03T07:44:44.130Z"
   },
   {
    "duration": 220,
    "start_time": "2022-06-03T07:44:44.369Z"
   },
   {
    "duration": 309,
    "start_time": "2022-06-03T07:44:44.592Z"
   },
   {
    "duration": 20,
    "start_time": "2022-06-03T07:44:44.903Z"
   },
   {
    "duration": 13,
    "start_time": "2022-06-03T07:44:44.925Z"
   },
   {
    "duration": 208,
    "start_time": "2022-06-03T07:44:44.940Z"
   },
   {
    "duration": 182,
    "start_time": "2022-06-03T07:44:45.150Z"
   },
   {
    "duration": 215,
    "start_time": "2022-06-03T07:44:55.211Z"
   },
   {
    "duration": 201,
    "start_time": "2022-06-03T07:47:40.203Z"
   },
   {
    "duration": 242,
    "start_time": "2022-06-03T07:47:45.393Z"
   },
   {
    "duration": 244,
    "start_time": "2022-06-03T08:18:56.209Z"
   },
   {
    "duration": 4,
    "start_time": "2022-06-03T09:51:02.655Z"
   },
   {
    "duration": 96,
    "start_time": "2022-06-03T09:51:02.661Z"
   },
   {
    "duration": 24,
    "start_time": "2022-06-03T09:51:02.758Z"
   },
   {
    "duration": 198,
    "start_time": "2022-06-03T09:51:02.784Z"
   },
   {
    "duration": 152,
    "start_time": "2022-06-03T09:51:02.984Z"
   },
   {
    "duration": 268,
    "start_time": "2022-06-03T09:51:03.138Z"
   },
   {
    "duration": 224,
    "start_time": "2022-06-03T09:51:03.408Z"
   },
   {
    "duration": 879,
    "start_time": "2022-06-03T09:51:03.633Z"
   },
   {
    "duration": 734,
    "start_time": "2022-06-03T09:51:04.515Z"
   },
   {
    "duration": 209,
    "start_time": "2022-06-03T09:51:05.251Z"
   },
   {
    "duration": 280,
    "start_time": "2022-06-03T09:51:05.461Z"
   },
   {
    "duration": 18,
    "start_time": "2022-06-03T09:51:05.743Z"
   },
   {
    "duration": 40,
    "start_time": "2022-06-03T09:51:05.763Z"
   },
   {
    "duration": 38,
    "start_time": "2022-06-03T09:51:05.805Z"
   },
   {
    "duration": 36,
    "start_time": "2022-06-03T09:51:05.844Z"
   },
   {
    "duration": 8,
    "start_time": "2022-06-03T09:51:05.881Z"
   },
   {
    "duration": 39,
    "start_time": "2022-06-03T09:51:05.890Z"
   },
   {
    "duration": 232,
    "start_time": "2022-06-03T09:51:05.931Z"
   },
   {
    "duration": 228,
    "start_time": "2022-06-03T09:51:06.165Z"
   },
   {
    "duration": 224,
    "start_time": "2022-06-03T09:51:06.395Z"
   },
   {
    "duration": 11,
    "start_time": "2022-06-03T09:51:06.620Z"
   },
   {
    "duration": 20,
    "start_time": "2022-06-03T09:51:06.632Z"
   },
   {
    "duration": 211,
    "start_time": "2022-06-03T09:51:06.653Z"
   },
   {
    "duration": 187,
    "start_time": "2022-06-03T09:51:06.867Z"
   },
   {
    "duration": 261,
    "start_time": "2022-06-03T09:54:07.400Z"
   },
   {
    "duration": 156,
    "start_time": "2022-06-03T09:55:20.569Z"
   },
   {
    "duration": 132,
    "start_time": "2022-06-03T09:55:29.223Z"
   },
   {
    "duration": 162,
    "start_time": "2022-06-03T09:55:39.604Z"
   },
   {
    "duration": 138,
    "start_time": "2022-06-03T09:55:43.396Z"
   },
   {
    "duration": 120,
    "start_time": "2022-06-03T09:58:16.589Z"
   },
   {
    "duration": 83,
    "start_time": "2022-06-03T09:58:46.744Z"
   },
   {
    "duration": 248,
    "start_time": "2022-06-03T09:58:56.388Z"
   },
   {
    "duration": 115,
    "start_time": "2022-06-03T09:59:08.307Z"
   },
   {
    "duration": 3,
    "start_time": "2022-06-03T10:01:06.269Z"
   },
   {
    "duration": 101,
    "start_time": "2022-06-03T10:01:06.274Z"
   },
   {
    "duration": 25,
    "start_time": "2022-06-03T10:01:06.377Z"
   },
   {
    "duration": 144,
    "start_time": "2022-06-03T10:01:06.403Z"
   },
   {
    "duration": 121,
    "start_time": "2022-06-03T10:01:06.549Z"
   },
   {
    "duration": 223,
    "start_time": "2022-06-03T10:01:06.672Z"
   },
   {
    "duration": 240,
    "start_time": "2022-06-03T10:01:06.897Z"
   },
   {
    "duration": 169,
    "start_time": "2022-06-03T10:01:07.139Z"
   },
   {
    "duration": 291,
    "start_time": "2022-06-03T10:01:07.310Z"
   },
   {
    "duration": 231,
    "start_time": "2022-06-03T10:01:07.603Z"
   },
   {
    "duration": 818,
    "start_time": "2022-06-03T10:01:07.836Z"
   },
   {
    "duration": 783,
    "start_time": "2022-06-03T10:01:08.655Z"
   },
   {
    "duration": 215,
    "start_time": "2022-06-03T10:01:09.440Z"
   },
   {
    "duration": 290,
    "start_time": "2022-06-03T10:01:09.659Z"
   },
   {
    "duration": 24,
    "start_time": "2022-06-03T10:01:09.951Z"
   },
   {
    "duration": 41,
    "start_time": "2022-06-03T10:01:09.977Z"
   },
   {
    "duration": 33,
    "start_time": "2022-06-03T10:01:10.019Z"
   },
   {
    "duration": 27,
    "start_time": "2022-06-03T10:01:10.054Z"
   },
   {
    "duration": 9,
    "start_time": "2022-06-03T10:01:10.082Z"
   },
   {
    "duration": 17,
    "start_time": "2022-06-03T10:01:10.093Z"
   },
   {
    "duration": 340,
    "start_time": "2022-06-03T10:01:10.111Z"
   },
   {
    "duration": 222,
    "start_time": "2022-06-03T10:01:10.453Z"
   },
   {
    "duration": 223,
    "start_time": "2022-06-03T10:01:10.677Z"
   },
   {
    "duration": 11,
    "start_time": "2022-06-03T10:01:10.901Z"
   },
   {
    "duration": 19,
    "start_time": "2022-06-03T10:01:10.913Z"
   },
   {
    "duration": 214,
    "start_time": "2022-06-03T10:01:10.934Z"
   },
   {
    "duration": 206,
    "start_time": "2022-06-03T10:01:11.150Z"
   },
   {
    "duration": 196,
    "start_time": "2022-06-03T10:03:28.118Z"
   },
   {
    "duration": 132,
    "start_time": "2022-06-03T10:03:47.214Z"
   },
   {
    "duration": 4,
    "start_time": "2022-06-03T10:04:18.622Z"
   },
   {
    "duration": 88,
    "start_time": "2022-06-03T10:04:18.628Z"
   },
   {
    "duration": 29,
    "start_time": "2022-06-03T10:04:18.718Z"
   },
   {
    "duration": 241,
    "start_time": "2022-06-03T10:04:18.750Z"
   },
   {
    "duration": 168,
    "start_time": "2022-06-03T10:04:18.993Z"
   },
   {
    "duration": 173,
    "start_time": "2022-06-03T10:04:19.164Z"
   },
   {
    "duration": 256,
    "start_time": "2022-06-03T10:04:19.339Z"
   },
   {
    "duration": 275,
    "start_time": "2022-06-03T10:04:19.598Z"
   },
   {
    "duration": 296,
    "start_time": "2022-06-03T10:04:19.876Z"
   },
   {
    "duration": 266,
    "start_time": "2022-06-03T10:04:20.174Z"
   },
   {
    "duration": 844,
    "start_time": "2022-06-03T10:04:20.443Z"
   },
   {
    "duration": 962,
    "start_time": "2022-06-03T10:04:21.289Z"
   },
   {
    "duration": 300,
    "start_time": "2022-06-03T10:04:22.254Z"
   },
   {
    "duration": 408,
    "start_time": "2022-06-03T10:04:22.556Z"
   },
   {
    "duration": 19,
    "start_time": "2022-06-03T10:04:22.965Z"
   },
   {
    "duration": 21,
    "start_time": "2022-06-03T10:04:22.986Z"
   },
   {
    "duration": 33,
    "start_time": "2022-06-03T10:04:23.009Z"
   },
   {
    "duration": 29,
    "start_time": "2022-06-03T10:04:23.043Z"
   },
   {
    "duration": 11,
    "start_time": "2022-06-03T10:04:23.074Z"
   },
   {
    "duration": 36,
    "start_time": "2022-06-03T10:04:23.087Z"
   },
   {
    "duration": 261,
    "start_time": "2022-06-03T10:04:23.125Z"
   },
   {
    "duration": 237,
    "start_time": "2022-06-03T10:04:23.388Z"
   },
   {
    "duration": 344,
    "start_time": "2022-06-03T10:04:23.627Z"
   },
   {
    "duration": 14,
    "start_time": "2022-06-03T10:04:23.975Z"
   },
   {
    "duration": 19,
    "start_time": "2022-06-03T10:04:23.991Z"
   },
   {
    "duration": 214,
    "start_time": "2022-06-03T10:04:24.023Z"
   },
   {
    "duration": 236,
    "start_time": "2022-06-03T10:04:24.239Z"
   },
   {
    "duration": 4,
    "start_time": "2022-06-03T10:18:33.383Z"
   },
   {
    "duration": 95,
    "start_time": "2022-06-03T10:18:33.389Z"
   },
   {
    "duration": 26,
    "start_time": "2022-06-03T10:18:33.485Z"
   },
   {
    "duration": 155,
    "start_time": "2022-06-03T10:18:33.513Z"
   },
   {
    "duration": 135,
    "start_time": "2022-06-03T10:18:33.671Z"
   },
   {
    "duration": 133,
    "start_time": "2022-06-03T10:18:33.808Z"
   },
   {
    "duration": 230,
    "start_time": "2022-06-03T10:18:33.944Z"
   },
   {
    "duration": 167,
    "start_time": "2022-06-03T10:18:34.177Z"
   },
   {
    "duration": 309,
    "start_time": "2022-06-03T10:18:34.346Z"
   },
   {
    "duration": 234,
    "start_time": "2022-06-03T10:18:34.657Z"
   },
   {
    "duration": 880,
    "start_time": "2022-06-03T10:18:34.893Z"
   },
   {
    "duration": 822,
    "start_time": "2022-06-03T10:18:35.775Z"
   },
   {
    "duration": 267,
    "start_time": "2022-06-03T10:18:36.600Z"
   },
   {
    "duration": 302,
    "start_time": "2022-06-03T10:18:36.870Z"
   },
   {
    "duration": 21,
    "start_time": "2022-06-03T10:18:37.175Z"
   },
   {
    "duration": 38,
    "start_time": "2022-06-03T10:18:37.198Z"
   },
   {
    "duration": 22,
    "start_time": "2022-06-03T10:18:37.239Z"
   },
   {
    "duration": 21,
    "start_time": "2022-06-03T10:18:37.263Z"
   },
   {
    "duration": 9,
    "start_time": "2022-06-03T10:18:37.286Z"
   },
   {
    "duration": 39,
    "start_time": "2022-06-03T10:18:37.297Z"
   },
   {
    "duration": 265,
    "start_time": "2022-06-03T10:18:37.343Z"
   },
   {
    "duration": 241,
    "start_time": "2022-06-03T10:18:37.610Z"
   },
   {
    "duration": 254,
    "start_time": "2022-06-03T10:18:37.853Z"
   },
   {
    "duration": 26,
    "start_time": "2022-06-03T10:18:38.109Z"
   },
   {
    "duration": 33,
    "start_time": "2022-06-03T10:18:38.136Z"
   },
   {
    "duration": 212,
    "start_time": "2022-06-03T10:18:38.171Z"
   },
   {
    "duration": 187,
    "start_time": "2022-06-03T10:18:38.384Z"
   },
   {
    "duration": 1090,
    "start_time": "2022-06-03T13:01:11.051Z"
   },
   {
    "duration": 81,
    "start_time": "2022-06-03T13:01:12.143Z"
   },
   {
    "duration": 24,
    "start_time": "2022-06-03T13:01:12.226Z"
   },
   {
    "duration": 145,
    "start_time": "2022-06-03T13:01:12.251Z"
   },
   {
    "duration": 191,
    "start_time": "2022-06-03T13:01:12.398Z"
   },
   {
    "duration": 139,
    "start_time": "2022-06-03T13:01:12.591Z"
   },
   {
    "duration": 4,
    "start_time": "2022-06-03T13:01:41.353Z"
   },
   {
    "duration": 5,
    "start_time": "2022-06-03T13:01:59.551Z"
   },
   {
    "duration": 4,
    "start_time": "2022-06-03T13:02:15.932Z"
   },
   {
    "duration": 170,
    "start_time": "2022-06-03T13:02:31.432Z"
   },
   {
    "duration": 182,
    "start_time": "2022-06-03T13:02:51.904Z"
   },
   {
    "duration": 187,
    "start_time": "2022-06-03T13:03:14.180Z"
   },
   {
    "duration": 192,
    "start_time": "2022-06-03T13:03:23.430Z"
   },
   {
    "duration": 170,
    "start_time": "2022-06-03T13:03:34.825Z"
   },
   {
    "duration": 1361,
    "start_time": "2022-06-03T13:03:49.812Z"
   },
   {
    "duration": 257,
    "start_time": "2022-06-03T13:03:53.981Z"
   },
   {
    "duration": 45,
    "start_time": "2022-06-03T13:07:00.699Z"
   },
   {
    "duration": 3,
    "start_time": "2022-06-03T13:22:02.871Z"
   },
   {
    "duration": 84,
    "start_time": "2022-06-03T13:22:02.875Z"
   },
   {
    "duration": 24,
    "start_time": "2022-06-03T13:22:02.961Z"
   },
   {
    "duration": 281,
    "start_time": "2022-06-03T13:22:02.987Z"
   },
   {
    "duration": 127,
    "start_time": "2022-06-03T13:22:03.270Z"
   },
   {
    "duration": 132,
    "start_time": "2022-06-03T13:22:03.399Z"
   },
   {
    "duration": 251,
    "start_time": "2022-06-03T13:22:03.532Z"
   },
   {
    "duration": 215,
    "start_time": "2022-06-03T13:22:03.785Z"
   },
   {
    "duration": 167,
    "start_time": "2022-06-03T13:22:04.002Z"
   },
   {
    "duration": 278,
    "start_time": "2022-06-03T13:22:04.170Z"
   },
   {
    "duration": 246,
    "start_time": "2022-06-03T13:22:04.451Z"
   },
   {
    "duration": 896,
    "start_time": "2022-06-03T13:22:04.699Z"
   },
   {
    "duration": 906,
    "start_time": "2022-06-03T13:22:05.596Z"
   },
   {
    "duration": 230,
    "start_time": "2022-06-03T13:22:06.503Z"
   },
   {
    "duration": 291,
    "start_time": "2022-06-03T13:22:06.735Z"
   },
   {
    "duration": 33,
    "start_time": "2022-06-03T13:22:07.027Z"
   },
   {
    "duration": 9,
    "start_time": "2022-06-03T13:22:28.699Z"
   },
   {
    "duration": 8,
    "start_time": "2022-06-03T13:22:33.136Z"
   },
   {
    "duration": 8,
    "start_time": "2022-06-03T13:22:39.565Z"
   },
   {
    "duration": 10,
    "start_time": "2022-06-03T13:22:43.426Z"
   },
   {
    "duration": 9,
    "start_time": "2022-06-03T13:22:46.532Z"
   },
   {
    "duration": 9,
    "start_time": "2022-06-03T13:22:48.831Z"
   },
   {
    "duration": 10,
    "start_time": "2022-06-03T13:22:51.088Z"
   },
   {
    "duration": 24,
    "start_time": "2022-06-03T13:22:59.970Z"
   },
   {
    "duration": 15,
    "start_time": "2022-06-03T13:23:31.180Z"
   },
   {
    "duration": 10,
    "start_time": "2022-06-03T13:23:52.794Z"
   },
   {
    "duration": 16,
    "start_time": "2022-06-03T13:24:09.642Z"
   },
   {
    "duration": 13,
    "start_time": "2022-06-03T13:24:18.827Z"
   },
   {
    "duration": 246,
    "start_time": "2022-06-03T13:44:49.016Z"
   },
   {
    "duration": 298,
    "start_time": "2022-06-03T13:44:55.125Z"
   },
   {
    "duration": 1163,
    "start_time": "2022-06-03T13:45:12.610Z"
   },
   {
    "duration": 77,
    "start_time": "2022-06-03T13:45:13.775Z"
   },
   {
    "duration": 27,
    "start_time": "2022-06-03T13:45:13.854Z"
   },
   {
    "duration": 175,
    "start_time": "2022-06-03T13:45:13.884Z"
   },
   {
    "duration": 206,
    "start_time": "2022-06-03T13:45:14.061Z"
   },
   {
    "duration": 140,
    "start_time": "2022-06-03T13:45:14.275Z"
   },
   {
    "duration": 255,
    "start_time": "2022-06-03T13:45:14.416Z"
   },
   {
    "duration": 224,
    "start_time": "2022-06-03T13:45:14.673Z"
   },
   {
    "duration": 175,
    "start_time": "2022-06-03T13:45:14.899Z"
   },
   {
    "duration": 340,
    "start_time": "2022-06-03T13:45:15.078Z"
   },
   {
    "duration": 298,
    "start_time": "2022-06-03T13:45:15.421Z"
   },
   {
    "duration": 890,
    "start_time": "2022-06-03T13:45:15.721Z"
   },
   {
    "duration": 854,
    "start_time": "2022-06-03T13:45:16.613Z"
   },
   {
    "duration": 218,
    "start_time": "2022-06-03T13:45:17.469Z"
   },
   {
    "duration": 290,
    "start_time": "2022-06-03T13:45:17.689Z"
   },
   {
    "duration": 19,
    "start_time": "2022-06-03T13:45:17.980Z"
   },
   {
    "duration": 24,
    "start_time": "2022-06-03T13:45:18.000Z"
   },
   {
    "duration": 29,
    "start_time": "2022-06-03T13:45:18.025Z"
   },
   {
    "duration": 19,
    "start_time": "2022-06-03T13:45:18.055Z"
   },
   {
    "duration": 22,
    "start_time": "2022-06-03T13:45:18.075Z"
   },
   {
    "duration": 7,
    "start_time": "2022-06-03T13:45:18.099Z"
   },
   {
    "duration": 18,
    "start_time": "2022-06-03T13:45:18.108Z"
   },
   {
    "duration": 262,
    "start_time": "2022-06-03T13:45:18.128Z"
   },
   {
    "duration": 240,
    "start_time": "2022-06-03T13:45:18.391Z"
   },
   {
    "duration": 229,
    "start_time": "2022-06-03T13:45:18.633Z"
   },
   {
    "duration": 11,
    "start_time": "2022-06-03T13:45:18.863Z"
   },
   {
    "duration": 12,
    "start_time": "2022-06-03T13:45:18.875Z"
   },
   {
    "duration": 227,
    "start_time": "2022-06-03T13:45:18.890Z"
   },
   {
    "duration": 189,
    "start_time": "2022-06-03T13:45:19.119Z"
   },
   {
    "duration": 67,
    "start_time": "2022-06-03T14:54:21.465Z"
   },
   {
    "duration": 1495,
    "start_time": "2022-06-03T14:54:24.870Z"
   },
   {
    "duration": 132,
    "start_time": "2022-06-03T14:54:26.368Z"
   },
   {
    "duration": 39,
    "start_time": "2022-06-03T14:54:26.502Z"
   },
   {
    "duration": 88,
    "start_time": "2022-06-03T14:54:26.543Z"
   },
   {
    "duration": 0,
    "start_time": "2022-06-03T14:54:26.633Z"
   },
   {
    "duration": 0,
    "start_time": "2022-06-03T14:54:26.634Z"
   },
   {
    "duration": 0,
    "start_time": "2022-06-03T14:54:26.635Z"
   },
   {
    "duration": 0,
    "start_time": "2022-06-03T14:54:26.637Z"
   },
   {
    "duration": 0,
    "start_time": "2022-06-03T14:54:26.638Z"
   },
   {
    "duration": 0,
    "start_time": "2022-06-03T14:54:26.639Z"
   },
   {
    "duration": 0,
    "start_time": "2022-06-03T14:54:26.640Z"
   },
   {
    "duration": 0,
    "start_time": "2022-06-03T14:54:26.642Z"
   },
   {
    "duration": 0,
    "start_time": "2022-06-03T14:54:26.643Z"
   },
   {
    "duration": 0,
    "start_time": "2022-06-03T14:54:26.644Z"
   },
   {
    "duration": 0,
    "start_time": "2022-06-03T14:54:26.646Z"
   },
   {
    "duration": 0,
    "start_time": "2022-06-03T14:54:26.647Z"
   },
   {
    "duration": 0,
    "start_time": "2022-06-03T14:54:26.648Z"
   },
   {
    "duration": 0,
    "start_time": "2022-06-03T14:54:26.649Z"
   },
   {
    "duration": 0,
    "start_time": "2022-06-03T14:54:26.651Z"
   },
   {
    "duration": 0,
    "start_time": "2022-06-03T14:54:26.690Z"
   },
   {
    "duration": 0,
    "start_time": "2022-06-03T14:54:26.691Z"
   },
   {
    "duration": 0,
    "start_time": "2022-06-03T14:54:26.692Z"
   },
   {
    "duration": 0,
    "start_time": "2022-06-03T14:54:26.693Z"
   },
   {
    "duration": 0,
    "start_time": "2022-06-03T14:54:26.694Z"
   },
   {
    "duration": 0,
    "start_time": "2022-06-03T14:54:26.695Z"
   },
   {
    "duration": 0,
    "start_time": "2022-06-03T14:54:26.696Z"
   },
   {
    "duration": 0,
    "start_time": "2022-06-03T14:54:26.698Z"
   },
   {
    "duration": 0,
    "start_time": "2022-06-03T14:54:26.698Z"
   },
   {
    "duration": 0,
    "start_time": "2022-06-03T14:54:26.699Z"
   },
   {
    "duration": 0,
    "start_time": "2022-06-03T14:54:26.700Z"
   },
   {
    "duration": 11,
    "start_time": "2022-06-03T14:54:58.570Z"
   },
   {
    "duration": 3,
    "start_time": "2022-06-03T14:55:02.877Z"
   },
   {
    "duration": 85,
    "start_time": "2022-06-03T14:55:02.881Z"
   },
   {
    "duration": 29,
    "start_time": "2022-06-03T14:55:02.968Z"
   },
   {
    "duration": 25,
    "start_time": "2022-06-03T14:55:02.999Z"
   },
   {
    "duration": 191,
    "start_time": "2022-06-03T14:55:03.026Z"
   },
   {
    "duration": 201,
    "start_time": "2022-06-03T14:55:03.219Z"
   },
   {
    "duration": 150,
    "start_time": "2022-06-03T14:55:03.422Z"
   },
   {
    "duration": 280,
    "start_time": "2022-06-03T14:55:03.574Z"
   },
   {
    "duration": 240,
    "start_time": "2022-06-03T14:55:03.857Z"
   },
   {
    "duration": 179,
    "start_time": "2022-06-03T14:55:04.099Z"
   },
   {
    "duration": 312,
    "start_time": "2022-06-03T14:55:04.290Z"
   },
   {
    "duration": 291,
    "start_time": "2022-06-03T14:55:04.604Z"
   },
   {
    "duration": 935,
    "start_time": "2022-06-03T14:55:04.897Z"
   },
   {
    "duration": 946,
    "start_time": "2022-06-03T14:55:05.835Z"
   },
   {
    "duration": 246,
    "start_time": "2022-06-03T14:55:06.783Z"
   },
   {
    "duration": 334,
    "start_time": "2022-06-03T14:55:07.031Z"
   },
   {
    "duration": 29,
    "start_time": "2022-06-03T14:55:07.367Z"
   },
   {
    "duration": 23,
    "start_time": "2022-06-03T14:55:07.398Z"
   },
   {
    "duration": 18,
    "start_time": "2022-06-03T14:55:07.423Z"
   },
   {
    "duration": 47,
    "start_time": "2022-06-03T14:55:07.443Z"
   },
   {
    "duration": 20,
    "start_time": "2022-06-03T14:55:07.492Z"
   },
   {
    "duration": 7,
    "start_time": "2022-06-03T14:55:07.515Z"
   },
   {
    "duration": 17,
    "start_time": "2022-06-03T14:55:07.523Z"
   },
   {
    "duration": 272,
    "start_time": "2022-06-03T14:55:07.544Z"
   },
   {
    "duration": 268,
    "start_time": "2022-06-03T14:55:07.818Z"
   },
   {
    "duration": 299,
    "start_time": "2022-06-03T14:55:08.090Z"
   },
   {
    "duration": 13,
    "start_time": "2022-06-03T14:55:08.391Z"
   },
   {
    "duration": 25,
    "start_time": "2022-06-03T14:55:08.407Z"
   },
   {
    "duration": 269,
    "start_time": "2022-06-03T14:55:08.434Z"
   },
   {
    "duration": 211,
    "start_time": "2022-06-03T14:55:08.705Z"
   },
   {
    "duration": 23,
    "start_time": "2022-06-03T14:57:00.690Z"
   },
   {
    "duration": 3,
    "start_time": "2022-06-03T14:57:34.824Z"
   },
   {
    "duration": 85,
    "start_time": "2022-06-03T14:57:34.829Z"
   },
   {
    "duration": 28,
    "start_time": "2022-06-03T14:57:34.916Z"
   },
   {
    "duration": 26,
    "start_time": "2022-06-03T14:57:34.946Z"
   },
   {
    "duration": 155,
    "start_time": "2022-06-03T14:57:34.989Z"
   },
   {
    "duration": 146,
    "start_time": "2022-06-03T14:57:35.146Z"
   },
   {
    "duration": 142,
    "start_time": "2022-06-03T14:57:35.293Z"
   },
   {
    "duration": 372,
    "start_time": "2022-06-03T14:57:35.437Z"
   },
   {
    "duration": 232,
    "start_time": "2022-06-03T14:57:35.812Z"
   },
   {
    "duration": 189,
    "start_time": "2022-06-03T14:57:36.046Z"
   },
   {
    "duration": 319,
    "start_time": "2022-06-03T14:57:36.237Z"
   },
   {
    "duration": 250,
    "start_time": "2022-06-03T14:57:36.558Z"
   },
   {
    "duration": 855,
    "start_time": "2022-06-03T14:57:36.810Z"
   },
   {
    "duration": 966,
    "start_time": "2022-06-03T14:57:37.666Z"
   },
   {
    "duration": 244,
    "start_time": "2022-06-03T14:57:38.634Z"
   },
   {
    "duration": 426,
    "start_time": "2022-06-03T14:57:38.880Z"
   },
   {
    "duration": 20,
    "start_time": "2022-06-03T14:57:39.308Z"
   },
   {
    "duration": 18,
    "start_time": "2022-06-03T14:57:39.330Z"
   },
   {
    "duration": 17,
    "start_time": "2022-06-03T14:57:39.349Z"
   },
   {
    "duration": 49,
    "start_time": "2022-06-03T14:57:39.368Z"
   },
   {
    "duration": 19,
    "start_time": "2022-06-03T14:57:39.419Z"
   },
   {
    "duration": 11,
    "start_time": "2022-06-03T14:57:39.439Z"
   },
   {
    "duration": 39,
    "start_time": "2022-06-03T14:57:39.451Z"
   },
   {
    "duration": 264,
    "start_time": "2022-06-03T14:57:39.493Z"
   },
   {
    "duration": 261,
    "start_time": "2022-06-03T14:57:39.759Z"
   },
   {
    "duration": 263,
    "start_time": "2022-06-03T14:57:40.022Z"
   },
   {
    "duration": 12,
    "start_time": "2022-06-03T14:57:40.290Z"
   },
   {
    "duration": 23,
    "start_time": "2022-06-03T14:57:40.304Z"
   },
   {
    "duration": 239,
    "start_time": "2022-06-03T14:57:40.329Z"
   },
   {
    "duration": 203,
    "start_time": "2022-06-03T14:57:40.570Z"
   },
   {
    "duration": 24,
    "start_time": "2022-06-03T14:58:02.113Z"
   },
   {
    "duration": 23,
    "start_time": "2022-06-03T14:58:09.665Z"
   },
   {
    "duration": 40,
    "start_time": "2022-06-03T15:04:26.548Z"
   },
   {
    "duration": 41,
    "start_time": "2022-06-03T15:06:26.409Z"
   },
   {
    "duration": 48,
    "start_time": "2022-06-03T15:06:46.209Z"
   },
   {
    "duration": 5,
    "start_time": "2022-06-03T15:07:38.895Z"
   },
   {
    "duration": 54,
    "start_time": "2022-06-03T15:07:53.465Z"
   },
   {
    "duration": 44,
    "start_time": "2022-06-03T15:09:54.892Z"
   },
   {
    "duration": 43,
    "start_time": "2022-06-03T15:10:06.608Z"
   },
   {
    "duration": 55,
    "start_time": "2022-06-03T15:10:44.610Z"
   },
   {
    "duration": 55,
    "start_time": "2022-06-03T15:11:10.296Z"
   },
   {
    "duration": 51,
    "start_time": "2022-06-03T15:11:58.872Z"
   },
   {
    "duration": 57,
    "start_time": "2022-06-03T15:13:35.580Z"
   },
   {
    "duration": 35,
    "start_time": "2022-06-03T15:15:00.832Z"
   },
   {
    "duration": 27,
    "start_time": "2022-06-03T15:18:24.408Z"
   },
   {
    "duration": 8,
    "start_time": "2022-06-03T15:21:33.575Z"
   },
   {
    "duration": 10,
    "start_time": "2022-06-03T15:21:46.523Z"
   },
   {
    "duration": 5,
    "start_time": "2022-06-03T15:21:53.780Z"
   },
   {
    "duration": 3,
    "start_time": "2022-06-03T15:28:09.338Z"
   },
   {
    "duration": 105,
    "start_time": "2022-06-03T15:28:09.343Z"
   },
   {
    "duration": 27,
    "start_time": "2022-06-03T15:28:09.450Z"
   },
   {
    "duration": 34,
    "start_time": "2022-06-03T15:28:09.479Z"
   },
   {
    "duration": 189,
    "start_time": "2022-06-03T15:28:09.516Z"
   },
   {
    "duration": 166,
    "start_time": "2022-06-03T15:28:09.708Z"
   },
   {
    "duration": 162,
    "start_time": "2022-06-03T15:28:09.876Z"
   },
   {
    "duration": 306,
    "start_time": "2022-06-03T15:28:10.041Z"
   },
   {
    "duration": 384,
    "start_time": "2022-06-03T15:28:10.349Z"
   },
   {
    "duration": 197,
    "start_time": "2022-06-03T15:28:10.735Z"
   },
   {
    "duration": 338,
    "start_time": "2022-06-03T15:28:10.934Z"
   },
   {
    "duration": 290,
    "start_time": "2022-06-03T15:28:11.274Z"
   },
   {
    "duration": 988,
    "start_time": "2022-06-03T15:28:11.568Z"
   },
   {
    "duration": 984,
    "start_time": "2022-06-03T15:28:12.558Z"
   },
   {
    "duration": 287,
    "start_time": "2022-06-03T15:28:13.544Z"
   },
   {
    "duration": 353,
    "start_time": "2022-06-03T15:28:13.833Z"
   },
   {
    "duration": 27,
    "start_time": "2022-06-03T15:28:14.189Z"
   },
   {
    "duration": 30,
    "start_time": "2022-06-03T15:28:14.218Z"
   },
   {
    "duration": 19,
    "start_time": "2022-06-03T15:28:14.250Z"
   },
   {
    "duration": 46,
    "start_time": "2022-06-03T15:28:14.270Z"
   },
   {
    "duration": 23,
    "start_time": "2022-06-03T15:28:14.318Z"
   },
   {
    "duration": 9,
    "start_time": "2022-06-03T15:28:14.343Z"
   },
   {
    "duration": 47,
    "start_time": "2022-06-03T15:28:14.353Z"
   },
   {
    "duration": 300,
    "start_time": "2022-06-03T15:28:14.402Z"
   },
   {
    "duration": 414,
    "start_time": "2022-06-03T15:28:14.704Z"
   },
   {
    "duration": 281,
    "start_time": "2022-06-03T15:28:15.120Z"
   },
   {
    "duration": 12,
    "start_time": "2022-06-03T15:28:15.403Z"
   },
   {
    "duration": 18,
    "start_time": "2022-06-03T15:28:15.417Z"
   },
   {
    "duration": 283,
    "start_time": "2022-06-03T15:28:15.437Z"
   },
   {
    "duration": 233,
    "start_time": "2022-06-03T15:28:15.722Z"
   },
   {
    "duration": 10,
    "start_time": "2022-06-03T15:30:35.142Z"
   },
   {
    "duration": 11,
    "start_time": "2022-06-03T15:30:50.351Z"
   },
   {
    "duration": 43,
    "start_time": "2022-06-03T15:31:17.659Z"
   },
   {
    "duration": 27,
    "start_time": "2022-06-03T15:33:04.608Z"
   },
   {
    "duration": 13,
    "start_time": "2022-06-03T15:33:19.462Z"
   },
   {
    "duration": 21,
    "start_time": "2022-06-03T15:36:46.939Z"
   },
   {
    "duration": 17,
    "start_time": "2022-06-03T15:37:31.508Z"
   },
   {
    "duration": 4,
    "start_time": "2022-06-03T15:37:40.069Z"
   },
   {
    "duration": 87,
    "start_time": "2022-06-03T15:37:40.075Z"
   },
   {
    "duration": 27,
    "start_time": "2022-06-03T15:37:40.164Z"
   },
   {
    "duration": 9,
    "start_time": "2022-06-03T15:37:40.193Z"
   },
   {
    "duration": 31,
    "start_time": "2022-06-03T15:37:40.204Z"
   },
   {
    "duration": 23,
    "start_time": "2022-06-03T15:37:40.237Z"
   },
   {
    "duration": 194,
    "start_time": "2022-06-03T15:37:40.262Z"
   },
   {
    "duration": 137,
    "start_time": "2022-06-03T15:37:40.458Z"
   },
   {
    "duration": 142,
    "start_time": "2022-06-03T15:37:40.597Z"
   },
   {
    "duration": 283,
    "start_time": "2022-06-03T15:37:40.741Z"
   },
   {
    "duration": 252,
    "start_time": "2022-06-03T15:37:41.026Z"
   },
   {
    "duration": 195,
    "start_time": "2022-06-03T15:37:41.280Z"
   },
   {
    "duration": 394,
    "start_time": "2022-06-03T15:37:41.476Z"
   },
   {
    "duration": 256,
    "start_time": "2022-06-03T15:37:41.873Z"
   },
   {
    "duration": 870,
    "start_time": "2022-06-03T15:37:42.131Z"
   },
   {
    "duration": 895,
    "start_time": "2022-06-03T15:37:43.003Z"
   },
   {
    "duration": 261,
    "start_time": "2022-06-03T15:37:43.900Z"
   },
   {
    "duration": 373,
    "start_time": "2022-06-03T15:37:44.163Z"
   },
   {
    "duration": 21,
    "start_time": "2022-06-03T15:37:44.538Z"
   },
   {
    "duration": 30,
    "start_time": "2022-06-03T15:37:44.561Z"
   },
   {
    "duration": 18,
    "start_time": "2022-06-03T15:37:44.593Z"
   },
   {
    "duration": 22,
    "start_time": "2022-06-03T15:37:44.612Z"
   },
   {
    "duration": 22,
    "start_time": "2022-06-03T15:37:44.636Z"
   },
   {
    "duration": 34,
    "start_time": "2022-06-03T15:37:44.660Z"
   },
   {
    "duration": 19,
    "start_time": "2022-06-03T15:37:44.696Z"
   },
   {
    "duration": 291,
    "start_time": "2022-06-03T15:37:44.717Z"
   },
   {
    "duration": 309,
    "start_time": "2022-06-03T15:37:45.011Z"
   },
   {
    "duration": 303,
    "start_time": "2022-06-03T15:37:45.323Z"
   },
   {
    "duration": 15,
    "start_time": "2022-06-03T15:37:45.628Z"
   },
   {
    "duration": 15,
    "start_time": "2022-06-03T15:37:45.645Z"
   },
   {
    "duration": 352,
    "start_time": "2022-06-03T15:37:45.663Z"
   },
   {
    "duration": 213,
    "start_time": "2022-06-03T15:37:46.018Z"
   },
   {
    "duration": 10,
    "start_time": "2022-06-03T15:38:08.453Z"
   },
   {
    "duration": 3,
    "start_time": "2022-06-03T15:38:11.973Z"
   },
   {
    "duration": 117,
    "start_time": "2022-06-03T15:38:11.979Z"
   },
   {
    "duration": 8,
    "start_time": "2022-06-03T15:38:12.098Z"
   },
   {
    "duration": 26,
    "start_time": "2022-06-03T15:38:12.108Z"
   },
   {
    "duration": 58,
    "start_time": "2022-06-03T15:38:12.137Z"
   },
   {
    "duration": 38,
    "start_time": "2022-06-03T15:38:12.197Z"
   },
   {
    "duration": 227,
    "start_time": "2022-06-03T15:38:12.237Z"
   },
   {
    "duration": 189,
    "start_time": "2022-06-03T15:38:12.467Z"
   },
   {
    "duration": 174,
    "start_time": "2022-06-03T15:38:12.658Z"
   },
   {
    "duration": 405,
    "start_time": "2022-06-03T15:38:12.834Z"
   },
   {
    "duration": 299,
    "start_time": "2022-06-03T15:38:13.243Z"
   },
   {
    "duration": 235,
    "start_time": "2022-06-03T15:38:13.544Z"
   },
   {
    "duration": 433,
    "start_time": "2022-06-03T15:38:13.782Z"
   },
   {
    "duration": 283,
    "start_time": "2022-06-03T15:38:14.217Z"
   },
   {
    "duration": 1419,
    "start_time": "2022-06-03T15:38:14.502Z"
   },
   {
    "duration": 995,
    "start_time": "2022-06-03T15:38:15.923Z"
   },
   {
    "duration": 260,
    "start_time": "2022-06-03T15:38:16.920Z"
   },
   {
    "duration": 350,
    "start_time": "2022-06-03T15:38:17.183Z"
   },
   {
    "duration": 21,
    "start_time": "2022-06-03T15:38:17.535Z"
   },
   {
    "duration": 35,
    "start_time": "2022-06-03T15:38:17.558Z"
   },
   {
    "duration": 25,
    "start_time": "2022-06-03T15:38:17.594Z"
   },
   {
    "duration": 30,
    "start_time": "2022-06-03T15:38:17.621Z"
   },
   {
    "duration": 42,
    "start_time": "2022-06-03T15:38:17.653Z"
   },
   {
    "duration": 10,
    "start_time": "2022-06-03T15:38:17.697Z"
   },
   {
    "duration": 17,
    "start_time": "2022-06-03T15:38:17.709Z"
   },
   {
    "duration": 283,
    "start_time": "2022-06-03T15:38:17.728Z"
   },
   {
    "duration": 273,
    "start_time": "2022-06-03T15:38:18.013Z"
   },
   {
    "duration": 352,
    "start_time": "2022-06-03T15:38:18.292Z"
   },
   {
    "duration": 13,
    "start_time": "2022-06-03T15:38:18.649Z"
   },
   {
    "duration": 31,
    "start_time": "2022-06-03T15:38:18.664Z"
   },
   {
    "duration": 252,
    "start_time": "2022-06-03T15:38:18.697Z"
   },
   {
    "duration": 206,
    "start_time": "2022-06-03T15:38:18.950Z"
   },
   {
    "duration": 137,
    "start_time": "2022-06-03T15:38:52.734Z"
   },
   {
    "duration": 22,
    "start_time": "2022-06-03T15:39:11.187Z"
   },
   {
    "duration": 9,
    "start_time": "2022-06-03T15:40:30.005Z"
   },
   {
    "duration": 4,
    "start_time": "2022-06-03T15:40:34.866Z"
   },
   {
    "duration": 97,
    "start_time": "2022-06-03T15:40:34.872Z"
   },
   {
    "duration": 6,
    "start_time": "2022-06-03T15:40:34.971Z"
   },
   {
    "duration": 13,
    "start_time": "2022-06-03T15:40:34.979Z"
   },
   {
    "duration": 28,
    "start_time": "2022-06-03T15:40:34.994Z"
   },
   {
    "duration": 25,
    "start_time": "2022-06-03T15:40:35.024Z"
   },
   {
    "duration": 191,
    "start_time": "2022-06-03T15:40:35.051Z"
   },
   {
    "duration": 146,
    "start_time": "2022-06-03T15:40:35.244Z"
   },
   {
    "duration": 187,
    "start_time": "2022-06-03T15:40:35.392Z"
   },
   {
    "duration": 312,
    "start_time": "2022-06-03T15:40:35.581Z"
   },
   {
    "duration": 229,
    "start_time": "2022-06-03T15:40:35.894Z"
   },
   {
    "duration": 183,
    "start_time": "2022-06-03T15:40:36.126Z"
   },
   {
    "duration": 317,
    "start_time": "2022-06-03T15:40:36.312Z"
   },
   {
    "duration": 259,
    "start_time": "2022-06-03T15:40:36.631Z"
   },
   {
    "duration": 890,
    "start_time": "2022-06-03T15:40:36.892Z"
   },
   {
    "duration": 1114,
    "start_time": "2022-06-03T15:40:37.789Z"
   },
   {
    "duration": 241,
    "start_time": "2022-06-03T15:40:38.905Z"
   },
   {
    "duration": 377,
    "start_time": "2022-06-03T15:40:39.148Z"
   },
   {
    "duration": 21,
    "start_time": "2022-06-03T15:40:39.527Z"
   },
   {
    "duration": 20,
    "start_time": "2022-06-03T15:40:39.550Z"
   },
   {
    "duration": 18,
    "start_time": "2022-06-03T15:40:39.589Z"
   },
   {
    "duration": 21,
    "start_time": "2022-06-03T15:40:39.609Z"
   },
   {
    "duration": 26,
    "start_time": "2022-06-03T15:40:39.632Z"
   },
   {
    "duration": 31,
    "start_time": "2022-06-03T15:40:39.660Z"
   },
   {
    "duration": 15,
    "start_time": "2022-06-03T15:40:39.693Z"
   },
   {
    "duration": 283,
    "start_time": "2022-06-03T15:40:39.710Z"
   },
   {
    "duration": 277,
    "start_time": "2022-06-03T15:40:39.995Z"
   },
   {
    "duration": 266,
    "start_time": "2022-06-03T15:40:40.274Z"
   },
   {
    "duration": 12,
    "start_time": "2022-06-03T15:40:40.542Z"
   },
   {
    "duration": 35,
    "start_time": "2022-06-03T15:40:40.556Z"
   },
   {
    "duration": 250,
    "start_time": "2022-06-03T15:40:40.593Z"
   },
   {
    "duration": 219,
    "start_time": "2022-06-03T15:40:40.845Z"
   },
   {
    "duration": 8,
    "start_time": "2022-06-03T15:43:00.827Z"
   },
   {
    "duration": 7,
    "start_time": "2022-06-03T15:43:04.301Z"
   },
   {
    "duration": 130,
    "start_time": "2022-06-03T15:43:04.314Z"
   },
   {
    "duration": 8,
    "start_time": "2022-06-03T15:43:04.446Z"
   },
   {
    "duration": 20,
    "start_time": "2022-06-03T15:43:04.456Z"
   },
   {
    "duration": 50,
    "start_time": "2022-06-03T15:43:04.479Z"
   },
   {
    "duration": 42,
    "start_time": "2022-06-03T15:43:04.532Z"
   },
   {
    "duration": 211,
    "start_time": "2022-06-03T15:43:04.590Z"
   },
   {
    "duration": 180,
    "start_time": "2022-06-03T15:43:04.804Z"
   },
   {
    "duration": 281,
    "start_time": "2022-06-03T15:43:04.986Z"
   },
   {
    "duration": 364,
    "start_time": "2022-06-03T15:43:05.269Z"
   },
   {
    "duration": 286,
    "start_time": "2022-06-03T15:43:05.639Z"
   },
   {
    "duration": 269,
    "start_time": "2022-06-03T15:43:05.930Z"
   },
   {
    "duration": 447,
    "start_time": "2022-06-03T15:43:06.202Z"
   },
   {
    "duration": 326,
    "start_time": "2022-06-03T15:43:06.652Z"
   },
   {
    "duration": 1078,
    "start_time": "2022-06-03T15:43:06.981Z"
   },
   {
    "duration": 1080,
    "start_time": "2022-06-03T15:43:08.061Z"
   },
   {
    "duration": 444,
    "start_time": "2022-06-03T15:43:09.143Z"
   },
   {
    "duration": 348,
    "start_time": "2022-06-03T15:43:09.596Z"
   },
   {
    "duration": 28,
    "start_time": "2022-06-03T15:43:09.946Z"
   },
   {
    "duration": 34,
    "start_time": "2022-06-03T15:43:09.976Z"
   },
   {
    "duration": 46,
    "start_time": "2022-06-03T15:43:10.012Z"
   },
   {
    "duration": 32,
    "start_time": "2022-06-03T15:43:10.060Z"
   },
   {
    "duration": 37,
    "start_time": "2022-06-03T15:43:10.093Z"
   },
   {
    "duration": 16,
    "start_time": "2022-06-03T15:43:10.132Z"
   },
   {
    "duration": 17,
    "start_time": "2022-06-03T15:43:10.150Z"
   },
   {
    "duration": 359,
    "start_time": "2022-06-03T15:43:10.168Z"
   },
   {
    "duration": 315,
    "start_time": "2022-06-03T15:43:10.530Z"
   },
   {
    "duration": 312,
    "start_time": "2022-06-03T15:43:10.847Z"
   },
   {
    "duration": 28,
    "start_time": "2022-06-03T15:43:11.163Z"
   },
   {
    "duration": 18,
    "start_time": "2022-06-03T15:43:11.193Z"
   },
   {
    "duration": 357,
    "start_time": "2022-06-03T15:43:11.213Z"
   },
   {
    "duration": 365,
    "start_time": "2022-06-03T15:43:11.573Z"
   },
   {
    "duration": 258,
    "start_time": "2022-06-03T15:43:32.446Z"
   },
   {
    "duration": 358,
    "start_time": "2022-06-03T15:43:44.717Z"
   },
   {
    "duration": 263,
    "start_time": "2022-06-03T15:43:55.106Z"
   },
   {
    "duration": 259,
    "start_time": "2022-06-03T15:44:16.507Z"
   },
   {
    "duration": 450,
    "start_time": "2022-06-03T15:44:23.507Z"
   },
   {
    "duration": 15,
    "start_time": "2022-06-03T15:59:02.945Z"
   },
   {
    "duration": 11,
    "start_time": "2022-06-03T16:00:20.077Z"
   },
   {
    "duration": 10,
    "start_time": "2022-06-03T16:00:27.045Z"
   },
   {
    "duration": 5,
    "start_time": "2022-06-03T16:05:42.147Z"
   },
   {
    "duration": 4,
    "start_time": "2022-06-03T16:05:48.649Z"
   },
   {
    "duration": 7,
    "start_time": "2022-06-03T16:06:03.606Z"
   },
   {
    "duration": 5,
    "start_time": "2022-06-03T16:06:09.182Z"
   },
   {
    "duration": 6,
    "start_time": "2022-06-03T16:06:16.031Z"
   },
   {
    "duration": 7,
    "start_time": "2022-06-03T16:06:25.153Z"
   },
   {
    "duration": 8,
    "start_time": "2022-06-03T16:06:33.922Z"
   },
   {
    "duration": 8,
    "start_time": "2022-06-03T16:06:43.821Z"
   },
   {
    "duration": 423,
    "start_time": "2022-06-03T16:11:40.509Z"
   },
   {
    "duration": 12499,
    "start_time": "2022-06-03T16:13:49.046Z"
   },
   {
    "duration": 54,
    "start_time": "2022-06-03T21:21:20.260Z"
   },
   {
    "duration": 1419,
    "start_time": "2022-06-03T21:21:28.748Z"
   },
   {
    "duration": 339,
    "start_time": "2022-06-03T21:21:30.169Z"
   },
   {
    "duration": 5,
    "start_time": "2022-06-03T21:21:30.510Z"
   },
   {
    "duration": 55,
    "start_time": "2022-06-03T21:21:30.517Z"
   },
   {
    "duration": 38,
    "start_time": "2022-06-03T21:21:30.574Z"
   },
   {
    "duration": 28,
    "start_time": "2022-06-03T21:21:30.614Z"
   },
   {
    "duration": 183,
    "start_time": "2022-06-03T21:21:30.647Z"
   },
   {
    "duration": 234,
    "start_time": "2022-06-03T21:21:30.833Z"
   },
   {
    "duration": 137,
    "start_time": "2022-06-03T21:21:31.069Z"
   },
   {
    "duration": 258,
    "start_time": "2022-06-03T21:21:31.208Z"
   },
   {
    "duration": 196,
    "start_time": "2022-06-03T21:21:31.468Z"
   },
   {
    "duration": 168,
    "start_time": "2022-06-03T21:21:31.665Z"
   },
   {
    "duration": 261,
    "start_time": "2022-06-03T21:21:31.846Z"
   },
   {
    "duration": 209,
    "start_time": "2022-06-03T21:21:32.111Z"
   },
   {
    "duration": 877,
    "start_time": "2022-06-03T21:21:32.327Z"
   },
   {
    "duration": 942,
    "start_time": "2022-06-03T21:21:33.206Z"
   },
   {
    "duration": 10714,
    "start_time": "2022-06-03T21:21:34.150Z"
   },
   {
    "duration": 14,
    "start_time": "2022-06-03T21:21:44.866Z"
   },
   {
    "duration": 200,
    "start_time": "2022-06-03T21:21:44.882Z"
   },
   {
    "duration": 255,
    "start_time": "2022-06-03T21:21:45.083Z"
   },
   {
    "duration": 20,
    "start_time": "2022-06-03T21:21:45.342Z"
   },
   {
    "duration": 19,
    "start_time": "2022-06-03T21:21:45.364Z"
   },
   {
    "duration": 14,
    "start_time": "2022-06-03T21:21:45.384Z"
   },
   {
    "duration": 45,
    "start_time": "2022-06-03T21:21:45.399Z"
   },
   {
    "duration": 28,
    "start_time": "2022-06-03T21:21:45.446Z"
   },
   {
    "duration": 6,
    "start_time": "2022-06-03T21:21:45.475Z"
   },
   {
    "duration": 16,
    "start_time": "2022-06-03T21:21:45.483Z"
   },
   {
    "duration": 226,
    "start_time": "2022-06-03T21:21:45.500Z"
   },
   {
    "duration": 234,
    "start_time": "2022-06-03T21:21:45.732Z"
   },
   {
    "duration": 234,
    "start_time": "2022-06-03T21:21:45.967Z"
   },
   {
    "duration": 9,
    "start_time": "2022-06-03T21:21:46.203Z"
   },
   {
    "duration": 14,
    "start_time": "2022-06-03T21:21:46.223Z"
   },
   {
    "duration": 211,
    "start_time": "2022-06-03T21:21:46.239Z"
   },
   {
    "duration": 182,
    "start_time": "2022-06-03T21:21:46.452Z"
   },
   {
    "duration": 23,
    "start_time": "2022-06-03T21:22:16.286Z"
   },
   {
    "duration": 3,
    "start_time": "2022-06-03T21:23:47.648Z"
   },
   {
    "duration": 84,
    "start_time": "2022-06-03T21:23:47.653Z"
   },
   {
    "duration": 11,
    "start_time": "2022-06-03T21:23:47.740Z"
   },
   {
    "duration": 14,
    "start_time": "2022-06-03T21:23:47.753Z"
   },
   {
    "duration": 23,
    "start_time": "2022-06-03T21:23:47.769Z"
   },
   {
    "duration": 35,
    "start_time": "2022-06-03T21:23:47.794Z"
   },
   {
    "duration": 138,
    "start_time": "2022-06-03T21:23:47.831Z"
   },
   {
    "duration": 136,
    "start_time": "2022-06-03T21:23:47.971Z"
   },
   {
    "duration": 125,
    "start_time": "2022-06-03T21:23:48.108Z"
   },
   {
    "duration": 366,
    "start_time": "2022-06-03T21:23:48.235Z"
   },
   {
    "duration": 182,
    "start_time": "2022-06-03T21:23:48.604Z"
   },
   {
    "duration": 167,
    "start_time": "2022-06-03T21:23:48.788Z"
   },
   {
    "duration": 243,
    "start_time": "2022-06-03T21:23:48.956Z"
   },
   {
    "duration": 248,
    "start_time": "2022-06-03T21:23:49.201Z"
   },
   {
    "duration": 790,
    "start_time": "2022-06-03T21:23:49.451Z"
   },
   {
    "duration": 779,
    "start_time": "2022-06-03T21:23:50.243Z"
   },
   {
    "duration": 10911,
    "start_time": "2022-06-03T21:23:51.029Z"
   },
   {
    "duration": 16,
    "start_time": "2022-06-03T21:24:01.943Z"
   },
   {
    "duration": 226,
    "start_time": "2022-06-03T21:24:01.962Z"
   },
   {
    "duration": 380,
    "start_time": "2022-06-03T21:24:02.190Z"
   },
   {
    "duration": 19,
    "start_time": "2022-06-03T21:24:02.572Z"
   },
   {
    "duration": 39,
    "start_time": "2022-06-03T21:24:02.594Z"
   },
   {
    "duration": 26,
    "start_time": "2022-06-03T21:24:02.643Z"
   },
   {
    "duration": 25,
    "start_time": "2022-06-03T21:24:02.672Z"
   },
   {
    "duration": 42,
    "start_time": "2022-06-03T21:24:02.699Z"
   },
   {
    "duration": 21,
    "start_time": "2022-06-03T21:24:02.746Z"
   },
   {
    "duration": 23,
    "start_time": "2022-06-03T21:24:02.769Z"
   },
   {
    "duration": 256,
    "start_time": "2022-06-03T21:24:02.794Z"
   },
   {
    "duration": 227,
    "start_time": "2022-06-03T21:24:03.053Z"
   },
   {
    "duration": 222,
    "start_time": "2022-06-03T21:24:03.281Z"
   },
   {
    "duration": 20,
    "start_time": "2022-06-03T21:24:03.505Z"
   },
   {
    "duration": 14,
    "start_time": "2022-06-03T21:24:03.526Z"
   },
   {
    "duration": 220,
    "start_time": "2022-06-03T21:24:03.541Z"
   },
   {
    "duration": 191,
    "start_time": "2022-06-03T21:24:03.763Z"
   },
   {
    "duration": 587,
    "start_time": "2022-06-03T21:26:45.131Z"
   },
   {
    "duration": 592,
    "start_time": "2022-06-03T21:26:58.020Z"
   },
   {
    "duration": 609,
    "start_time": "2022-06-03T21:28:25.296Z"
   },
   {
    "duration": 751,
    "start_time": "2022-06-03T21:30:37.230Z"
   },
   {
    "duration": 767,
    "start_time": "2022-06-03T21:32:20.468Z"
   },
   {
    "duration": 744,
    "start_time": "2022-06-03T21:32:40.622Z"
   },
   {
    "duration": 1492,
    "start_time": "2022-06-03T21:42:23.214Z"
   },
   {
    "duration": 1546,
    "start_time": "2022-06-03T21:42:47.454Z"
   },
   {
    "duration": 646,
    "start_time": "2022-06-03T21:43:43.547Z"
   },
   {
    "duration": 769,
    "start_time": "2022-06-03T21:44:09.996Z"
   },
   {
    "duration": 45,
    "start_time": "2022-06-03T21:48:55.500Z"
   },
   {
    "duration": 3424,
    "start_time": "2022-06-03T21:49:21.789Z"
   },
   {
    "duration": 313,
    "start_time": "2022-06-03T21:49:26.449Z"
   },
   {
    "duration": 11,
    "start_time": "2022-06-03T22:14:01.408Z"
   },
   {
    "duration": 14,
    "start_time": "2022-06-03T22:15:42.052Z"
   },
   {
    "duration": 18,
    "start_time": "2022-06-03T22:18:22.868Z"
   },
   {
    "duration": 3,
    "start_time": "2022-06-03T22:18:43.560Z"
   },
   {
    "duration": 12,
    "start_time": "2022-06-03T22:18:46.051Z"
   },
   {
    "duration": 42,
    "start_time": "2022-06-03T22:19:10.420Z"
   },
   {
    "duration": 9,
    "start_time": "2022-06-03T22:32:54.748Z"
   },
   {
    "duration": 12,
    "start_time": "2022-06-03T22:33:08.144Z"
   },
   {
    "duration": 212,
    "start_time": "2022-06-03T22:36:17.243Z"
   },
   {
    "duration": 10,
    "start_time": "2022-06-03T22:36:38.976Z"
   },
   {
    "duration": 41,
    "start_time": "2022-06-03T22:36:57.509Z"
   },
   {
    "duration": 11,
    "start_time": "2022-06-03T22:37:29.211Z"
   },
   {
    "duration": 4,
    "start_time": "2022-06-03T22:40:51.543Z"
   },
   {
    "duration": 15,
    "start_time": "2022-06-03T22:41:07.648Z"
   },
   {
    "duration": 4,
    "start_time": "2022-06-03T22:41:22.877Z"
   },
   {
    "duration": 22,
    "start_time": "2022-06-03T22:41:34.641Z"
   },
   {
    "duration": 4,
    "start_time": "2022-06-03T22:42:22.143Z"
   },
   {
    "duration": 37,
    "start_time": "2022-06-03T22:42:26.312Z"
   },
   {
    "duration": 25,
    "start_time": "2022-06-03T22:43:10.856Z"
   },
   {
    "duration": 4,
    "start_time": "2022-06-03T22:43:47.077Z"
   },
   {
    "duration": 497,
    "start_time": "2022-06-03T22:43:49.947Z"
   },
   {
    "duration": 43,
    "start_time": "2022-06-03T22:44:15.408Z"
   },
   {
    "duration": 18,
    "start_time": "2022-06-03T22:44:42.620Z"
   },
   {
    "duration": 542,
    "start_time": "2022-06-03T22:44:58.818Z"
   },
   {
    "duration": 1117,
    "start_time": "2022-06-03T22:46:54.351Z"
   },
   {
    "duration": 13,
    "start_time": "2022-06-03T22:47:12.850Z"
   },
   {
    "duration": 423,
    "start_time": "2022-06-03T22:47:26.739Z"
   },
   {
    "duration": 11,
    "start_time": "2022-06-03T22:47:36.675Z"
   },
   {
    "duration": 55,
    "start_time": "2022-06-03T22:49:53.436Z"
   },
   {
    "duration": 19,
    "start_time": "2022-06-03T22:51:58.231Z"
   },
   {
    "duration": 480,
    "start_time": "2022-06-03T22:52:10.816Z"
   },
   {
    "duration": 59,
    "start_time": "2022-06-03T22:52:58.469Z"
   },
   {
    "duration": 508,
    "start_time": "2022-06-03T22:53:13.886Z"
   },
   {
    "duration": 12,
    "start_time": "2022-06-03T22:54:06.209Z"
   },
   {
    "duration": 416,
    "start_time": "2022-06-03T22:54:13.780Z"
   },
   {
    "duration": 28,
    "start_time": "2022-06-03T22:55:21.521Z"
   },
   {
    "duration": 434,
    "start_time": "2022-06-03T22:55:34.716Z"
   },
   {
    "duration": 205,
    "start_time": "2022-06-03T22:56:25.994Z"
   },
   {
    "duration": 202,
    "start_time": "2022-06-03T22:56:39.467Z"
   },
   {
    "duration": 20,
    "start_time": "2022-06-03T22:57:59.188Z"
   },
   {
    "duration": 13,
    "start_time": "2022-06-03T22:58:11.746Z"
   },
   {
    "duration": 208,
    "start_time": "2022-06-03T22:58:15.104Z"
   },
   {
    "duration": 391,
    "start_time": "2022-06-03T23:00:04.518Z"
   },
   {
    "duration": 3,
    "start_time": "2022-06-03T23:00:10.502Z"
   },
   {
    "duration": 96,
    "start_time": "2022-06-03T23:00:10.507Z"
   },
   {
    "duration": 6,
    "start_time": "2022-06-03T23:00:10.605Z"
   },
   {
    "duration": 10,
    "start_time": "2022-06-03T23:00:10.612Z"
   },
   {
    "duration": 36,
    "start_time": "2022-06-03T23:00:10.631Z"
   },
   {
    "duration": 21,
    "start_time": "2022-06-03T23:00:10.669Z"
   },
   {
    "duration": 157,
    "start_time": "2022-06-03T23:00:10.692Z"
   },
   {
    "duration": 118,
    "start_time": "2022-06-03T23:00:10.852Z"
   },
   {
    "duration": 132,
    "start_time": "2022-06-03T23:00:10.972Z"
   },
   {
    "duration": 246,
    "start_time": "2022-06-03T23:00:11.106Z"
   },
   {
    "duration": 196,
    "start_time": "2022-06-03T23:00:11.355Z"
   },
   {
    "duration": 142,
    "start_time": "2022-06-03T23:00:11.554Z"
   },
   {
    "duration": 252,
    "start_time": "2022-06-03T23:00:11.697Z"
   },
   {
    "duration": 213,
    "start_time": "2022-06-03T23:00:11.953Z"
   },
   {
    "duration": 1589,
    "start_time": "2022-06-03T23:00:12.167Z"
   },
   {
    "duration": 648,
    "start_time": "2022-06-03T23:00:13.757Z"
   },
   {
    "duration": 18,
    "start_time": "2022-06-03T23:00:14.406Z"
   },
   {
    "duration": 400,
    "start_time": "2022-06-03T23:00:14.426Z"
   },
   {
    "duration": 346,
    "start_time": "2022-06-03T23:00:14.828Z"
   },
   {
    "duration": 266,
    "start_time": "2022-06-03T23:00:15.176Z"
   },
   {
    "duration": 20,
    "start_time": "2022-06-03T23:00:15.443Z"
   },
   {
    "duration": 13,
    "start_time": "2022-06-03T23:00:15.464Z"
   },
   {
    "duration": 15,
    "start_time": "2022-06-03T23:00:15.479Z"
   },
   {
    "duration": 53,
    "start_time": "2022-06-03T23:00:15.495Z"
   },
   {
    "duration": 21,
    "start_time": "2022-06-03T23:00:15.550Z"
   },
   {
    "duration": 8,
    "start_time": "2022-06-03T23:00:15.572Z"
   },
   {
    "duration": 14,
    "start_time": "2022-06-03T23:00:15.581Z"
   },
   {
    "duration": 254,
    "start_time": "2022-06-03T23:00:15.596Z"
   },
   {
    "duration": 238,
    "start_time": "2022-06-03T23:00:15.853Z"
   },
   {
    "duration": 229,
    "start_time": "2022-06-03T23:00:16.093Z"
   },
   {
    "duration": 20,
    "start_time": "2022-06-03T23:00:16.323Z"
   },
   {
    "duration": 18,
    "start_time": "2022-06-03T23:00:16.344Z"
   },
   {
    "duration": 202,
    "start_time": "2022-06-03T23:00:16.364Z"
   },
   {
    "duration": 201,
    "start_time": "2022-06-03T23:00:16.568Z"
   },
   {
    "duration": 387,
    "start_time": "2022-06-03T23:00:40.909Z"
   },
   {
    "duration": 438,
    "start_time": "2022-06-03T23:02:59.281Z"
   },
   {
    "duration": 377,
    "start_time": "2022-06-03T23:05:53.258Z"
   },
   {
    "duration": 13,
    "start_time": "2022-06-03T23:08:39.088Z"
   },
   {
    "duration": 379,
    "start_time": "2022-06-03T23:08:43.389Z"
   },
   {
    "duration": 417,
    "start_time": "2022-06-03T23:10:09.043Z"
   },
   {
    "duration": 395,
    "start_time": "2022-06-03T23:10:25.461Z"
   },
   {
    "duration": 421,
    "start_time": "2022-06-03T23:10:52.576Z"
   },
   {
    "duration": 376,
    "start_time": "2022-06-03T23:11:27.360Z"
   },
   {
    "duration": 403,
    "start_time": "2022-06-03T23:15:35.739Z"
   },
   {
    "duration": 515,
    "start_time": "2022-06-03T23:15:41.830Z"
   },
   {
    "duration": 568,
    "start_time": "2022-06-03T23:15:53.208Z"
   },
   {
    "duration": 8,
    "start_time": "2022-06-03T23:17:54.256Z"
   },
   {
    "duration": 6,
    "start_time": "2022-06-03T23:17:59.572Z"
   },
   {
    "duration": 3,
    "start_time": "2022-06-03T23:18:19.906Z"
   },
   {
    "duration": 418,
    "start_time": "2022-06-03T23:22:06.051Z"
   },
   {
    "duration": 412,
    "start_time": "2022-06-03T23:22:48.977Z"
   },
   {
    "duration": 393,
    "start_time": "2022-06-03T23:23:38.286Z"
   },
   {
    "duration": 580,
    "start_time": "2022-06-03T23:24:07.767Z"
   },
   {
    "duration": 563,
    "start_time": "2022-06-03T23:24:12.782Z"
   },
   {
    "duration": 711,
    "start_time": "2022-06-03T23:30:36.035Z"
   },
   {
    "duration": 605,
    "start_time": "2022-06-03T23:37:40.536Z"
   },
   {
    "duration": 332,
    "start_time": "2022-06-03T23:50:44.255Z"
   },
   {
    "duration": 817,
    "start_time": "2022-06-03T23:51:19.534Z"
   },
   {
    "duration": 3,
    "start_time": "2022-06-04T00:01:52.946Z"
   },
   {
    "duration": 34,
    "start_time": "2022-06-04T00:01:57.503Z"
   },
   {
    "duration": 3,
    "start_time": "2022-06-04T00:02:34.144Z"
   },
   {
    "duration": 382,
    "start_time": "2022-06-04T00:02:39.111Z"
   },
   {
    "duration": 7,
    "start_time": "2022-06-04T07:48:49.669Z"
   },
   {
    "duration": 76,
    "start_time": "2022-06-04T07:48:51.814Z"
   },
   {
    "duration": 1434,
    "start_time": "2022-06-04T07:48:57.316Z"
   },
   {
    "duration": 1181,
    "start_time": "2022-06-04T07:48:58.752Z"
   },
   {
    "duration": 135,
    "start_time": "2022-06-04T07:48:59.938Z"
   },
   {
    "duration": 5,
    "start_time": "2022-06-04T07:49:00.074Z"
   },
   {
    "duration": 26,
    "start_time": "2022-06-04T07:49:00.081Z"
   },
   {
    "duration": 47,
    "start_time": "2022-06-04T07:49:00.108Z"
   },
   {
    "duration": 21,
    "start_time": "2022-06-04T07:49:00.157Z"
   },
   {
    "duration": 232,
    "start_time": "2022-06-04T07:49:00.180Z"
   },
   {
    "duration": 133,
    "start_time": "2022-06-04T07:49:00.413Z"
   },
   {
    "duration": 164,
    "start_time": "2022-06-04T07:49:00.548Z"
   },
   {
    "duration": 255,
    "start_time": "2022-06-04T07:49:00.714Z"
   },
   {
    "duration": 200,
    "start_time": "2022-06-04T07:49:00.970Z"
   },
   {
    "duration": 152,
    "start_time": "2022-06-04T07:49:01.172Z"
   },
   {
    "duration": 246,
    "start_time": "2022-06-04T07:49:01.329Z"
   },
   {
    "duration": 226,
    "start_time": "2022-06-04T07:49:01.577Z"
   },
   {
    "duration": 1609,
    "start_time": "2022-06-04T07:49:01.806Z"
   },
   {
    "duration": 657,
    "start_time": "2022-06-04T07:49:03.416Z"
   },
   {
    "duration": 3,
    "start_time": "2022-06-04T07:49:04.075Z"
   },
   {
    "duration": 439,
    "start_time": "2022-06-04T07:49:04.079Z"
   },
   {
    "duration": 329,
    "start_time": "2022-06-04T07:49:04.521Z"
   },
   {
    "duration": 192,
    "start_time": "2022-06-04T07:49:04.852Z"
   },
   {
    "duration": 250,
    "start_time": "2022-06-04T07:49:05.046Z"
   },
   {
    "duration": 16,
    "start_time": "2022-06-04T07:49:05.298Z"
   },
   {
    "duration": 28,
    "start_time": "2022-06-04T07:49:05.316Z"
   },
   {
    "duration": 22,
    "start_time": "2022-06-04T07:49:05.345Z"
   },
   {
    "duration": 21,
    "start_time": "2022-06-04T07:49:05.368Z"
   },
   {
    "duration": 25,
    "start_time": "2022-06-04T07:49:05.390Z"
   },
   {
    "duration": 31,
    "start_time": "2022-06-04T07:49:05.417Z"
   },
   {
    "duration": 19,
    "start_time": "2022-06-04T07:49:05.449Z"
   },
   {
    "duration": 237,
    "start_time": "2022-06-04T07:49:05.469Z"
   },
   {
    "duration": 252,
    "start_time": "2022-06-04T07:49:05.708Z"
   },
   {
    "duration": 242,
    "start_time": "2022-06-04T07:49:05.962Z"
   },
   {
    "duration": 11,
    "start_time": "2022-06-04T07:49:06.206Z"
   },
   {
    "duration": 16,
    "start_time": "2022-06-04T07:49:06.229Z"
   },
   {
    "duration": 218,
    "start_time": "2022-06-04T07:49:06.246Z"
   },
   {
    "duration": 199,
    "start_time": "2022-06-04T07:49:06.466Z"
   },
   {
    "duration": 20,
    "start_time": "2022-06-04T07:52:04.022Z"
   },
   {
    "duration": 243,
    "start_time": "2022-06-04T07:53:10.031Z"
   },
   {
    "duration": 1494,
    "start_time": "2022-06-04T07:53:25.196Z"
   },
   {
    "duration": 1512,
    "start_time": "2022-06-04T07:53:37.919Z"
   },
   {
    "duration": 1581,
    "start_time": "2022-06-04T07:53:47.239Z"
   },
   {
    "duration": 15,
    "start_time": "2022-06-04T07:54:05.458Z"
   },
   {
    "duration": 139,
    "start_time": "2022-06-04T07:55:18.048Z"
   },
   {
    "duration": 59,
    "start_time": "2022-06-04T07:58:50.703Z"
   },
   {
    "duration": 33,
    "start_time": "2022-06-04T08:00:08.844Z"
   },
   {
    "duration": 1831,
    "start_time": "2022-06-04T08:00:53.012Z"
   },
   {
    "duration": 165,
    "start_time": "2022-06-04T08:01:17.995Z"
   },
   {
    "duration": 1564,
    "start_time": "2022-06-04T08:01:28.252Z"
   },
   {
    "duration": 15,
    "start_time": "2022-06-04T08:01:37.152Z"
   },
   {
    "duration": 52,
    "start_time": "2022-06-04T08:03:09.803Z"
   },
   {
    "duration": 70,
    "start_time": "2022-06-04T08:03:55.803Z"
   },
   {
    "duration": 40,
    "start_time": "2022-06-04T08:05:14.569Z"
   },
   {
    "duration": 11,
    "start_time": "2022-06-04T08:05:45.807Z"
   },
   {
    "duration": 1220,
    "start_time": "2022-06-04T08:05:56.107Z"
   },
   {
    "duration": 3,
    "start_time": "2022-06-04T08:06:20.715Z"
   },
   {
    "duration": 3,
    "start_time": "2022-06-04T08:11:20.716Z"
   },
   {
    "duration": 2601,
    "start_time": "2022-06-04T08:11:27.119Z"
   },
   {
    "duration": 5,
    "start_time": "2022-06-04T08:19:43.599Z"
   },
   {
    "duration": 6,
    "start_time": "2022-06-04T08:20:06.755Z"
   },
   {
    "duration": 3352,
    "start_time": "2022-06-04T08:20:36.824Z"
   },
   {
    "duration": 2576,
    "start_time": "2022-06-04T08:20:56.914Z"
   },
   {
    "duration": 2992,
    "start_time": "2022-06-04T08:21:31.635Z"
   },
   {
    "duration": 2798,
    "start_time": "2022-06-04T08:21:42.512Z"
   },
   {
    "duration": 2590,
    "start_time": "2022-06-04T08:22:12.560Z"
   },
   {
    "duration": 4,
    "start_time": "2022-06-04T08:28:06.618Z"
   },
   {
    "duration": 2688,
    "start_time": "2022-06-04T08:28:09.199Z"
   },
   {
    "duration": 76,
    "start_time": "2022-06-04T08:30:14.720Z"
   },
   {
    "duration": 4,
    "start_time": "2022-06-04T08:30:26.311Z"
   },
   {
    "duration": 2576,
    "start_time": "2022-06-04T08:30:31.591Z"
   },
   {
    "duration": 22,
    "start_time": "2022-06-04T08:31:55.123Z"
   },
   {
    "duration": 4,
    "start_time": "2022-06-04T08:38:00.718Z"
   },
   {
    "duration": 2227,
    "start_time": "2022-06-04T08:38:34.315Z"
   },
   {
    "duration": 34,
    "start_time": "2022-06-04T19:23:06.754Z"
   },
   {
    "duration": 887,
    "start_time": "2022-06-04T19:24:49.759Z"
   },
   {
    "duration": 19,
    "start_time": "2022-06-04T19:25:33.621Z"
   },
   {
    "duration": 9,
    "start_time": "2022-06-04T19:25:39.061Z"
   },
   {
    "duration": 981,
    "start_time": "2022-06-04T19:28:05.607Z"
   },
   {
    "duration": 863,
    "start_time": "2022-06-04T19:28:38.456Z"
   },
   {
    "duration": 569,
    "start_time": "2022-06-04T19:29:09.824Z"
   },
   {
    "duration": 597,
    "start_time": "2022-06-04T19:29:32.009Z"
   },
   {
    "duration": 840,
    "start_time": "2022-06-04T19:30:05.343Z"
   },
   {
    "duration": 16,
    "start_time": "2022-06-04T19:30:23.230Z"
   },
   {
    "duration": 17,
    "start_time": "2022-06-04T19:30:39.547Z"
   },
   {
    "duration": 62,
    "start_time": "2022-06-04T19:30:46.913Z"
   },
   {
    "duration": 7,
    "start_time": "2022-06-04T19:31:51.280Z"
   },
   {
    "duration": 32,
    "start_time": "2022-06-04T19:31:53.657Z"
   },
   {
    "duration": 78,
    "start_time": "2022-06-04T19:32:05.584Z"
   },
   {
    "duration": 3,
    "start_time": "2022-06-04T19:32:16.998Z"
   },
   {
    "duration": 907,
    "start_time": "2022-06-04T19:32:17.003Z"
   },
   {
    "duration": 130,
    "start_time": "2022-06-04T19:32:17.912Z"
   },
   {
    "duration": 6,
    "start_time": "2022-06-04T19:32:18.044Z"
   },
   {
    "duration": 12,
    "start_time": "2022-06-04T19:32:18.052Z"
   },
   {
    "duration": 38,
    "start_time": "2022-06-04T19:32:18.066Z"
   },
   {
    "duration": 41,
    "start_time": "2022-06-04T19:32:18.106Z"
   },
   {
    "duration": 140,
    "start_time": "2022-06-04T19:32:18.149Z"
   },
   {
    "duration": 128,
    "start_time": "2022-06-04T19:32:18.291Z"
   },
   {
    "duration": 129,
    "start_time": "2022-06-04T19:32:18.420Z"
   },
   {
    "duration": 346,
    "start_time": "2022-06-04T19:32:18.551Z"
   },
   {
    "duration": 199,
    "start_time": "2022-06-04T19:32:18.898Z"
   },
   {
    "duration": 170,
    "start_time": "2022-06-04T19:32:19.099Z"
   },
   {
    "duration": 247,
    "start_time": "2022-06-04T19:32:19.271Z"
   },
   {
    "duration": 215,
    "start_time": "2022-06-04T19:32:19.520Z"
   },
   {
    "duration": 1658,
    "start_time": "2022-06-04T19:32:19.736Z"
   },
   {
    "duration": 682,
    "start_time": "2022-06-04T19:32:21.396Z"
   },
   {
    "duration": 3,
    "start_time": "2022-06-04T19:32:22.080Z"
   },
   {
    "duration": 2108,
    "start_time": "2022-06-04T19:32:22.085Z"
   },
   {
    "duration": 219,
    "start_time": "2022-06-04T19:32:24.194Z"
   },
   {
    "duration": 341,
    "start_time": "2022-06-04T19:32:24.416Z"
   },
   {
    "duration": 17,
    "start_time": "2022-06-04T19:32:24.758Z"
   },
   {
    "duration": 28,
    "start_time": "2022-06-04T19:32:24.777Z"
   },
   {
    "duration": 35,
    "start_time": "2022-06-04T19:32:24.808Z"
   },
   {
    "duration": 19,
    "start_time": "2022-06-04T19:32:24.845Z"
   },
   {
    "duration": 24,
    "start_time": "2022-06-04T19:32:24.866Z"
   },
   {
    "duration": 10,
    "start_time": "2022-06-04T19:32:24.892Z"
   },
   {
    "duration": 48,
    "start_time": "2022-06-04T19:32:24.904Z"
   },
   {
    "duration": 15,
    "start_time": "2022-06-04T19:32:24.954Z"
   },
   {
    "duration": 411,
    "start_time": "2022-06-04T19:32:24.971Z"
   },
   {
    "duration": 230,
    "start_time": "2022-06-04T19:32:25.383Z"
   },
   {
    "duration": 220,
    "start_time": "2022-06-04T19:32:25.614Z"
   },
   {
    "duration": 14,
    "start_time": "2022-06-04T19:32:25.842Z"
   },
   {
    "duration": 28,
    "start_time": "2022-06-04T19:32:25.857Z"
   },
   {
    "duration": 193,
    "start_time": "2022-06-04T19:32:25.886Z"
   },
   {
    "duration": 196,
    "start_time": "2022-06-04T19:32:26.081Z"
   },
   {
    "duration": 521,
    "start_time": "2022-06-04T19:33:42.383Z"
   },
   {
    "duration": 111,
    "start_time": "2022-06-04T19:33:59.299Z"
   },
   {
    "duration": 1326,
    "start_time": "2022-06-04T19:34:06.600Z"
   },
   {
    "duration": 1235,
    "start_time": "2022-06-04T19:34:42.829Z"
   },
   {
    "duration": 935,
    "start_time": "2022-06-04T19:34:44.066Z"
   },
   {
    "duration": 142,
    "start_time": "2022-06-04T19:34:45.003Z"
   },
   {
    "duration": 7,
    "start_time": "2022-06-04T19:34:45.147Z"
   },
   {
    "duration": 17,
    "start_time": "2022-06-04T19:34:45.156Z"
   },
   {
    "duration": 27,
    "start_time": "2022-06-04T19:34:45.175Z"
   },
   {
    "duration": 49,
    "start_time": "2022-06-04T19:34:45.204Z"
   },
   {
    "duration": 233,
    "start_time": "2022-06-04T19:34:45.255Z"
   },
   {
    "duration": 137,
    "start_time": "2022-06-04T19:34:45.489Z"
   },
   {
    "duration": 137,
    "start_time": "2022-06-04T19:34:45.629Z"
   },
   {
    "duration": 274,
    "start_time": "2022-06-04T19:34:45.768Z"
   },
   {
    "duration": 245,
    "start_time": "2022-06-04T19:34:46.045Z"
   },
   {
    "duration": 179,
    "start_time": "2022-06-04T19:34:46.293Z"
   },
   {
    "duration": 285,
    "start_time": "2022-06-04T19:34:46.475Z"
   },
   {
    "duration": 222,
    "start_time": "2022-06-04T19:34:46.761Z"
   },
   {
    "duration": 1566,
    "start_time": "2022-06-04T19:34:46.984Z"
   },
   {
    "duration": 697,
    "start_time": "2022-06-04T19:34:48.551Z"
   },
   {
    "duration": 4,
    "start_time": "2022-06-04T19:34:49.250Z"
   },
   {
    "duration": 2418,
    "start_time": "2022-06-04T19:34:49.256Z"
   },
   {
    "duration": 201,
    "start_time": "2022-06-04T19:34:51.675Z"
   },
   {
    "duration": 275,
    "start_time": "2022-06-04T19:34:51.878Z"
   },
   {
    "duration": 19,
    "start_time": "2022-06-04T19:34:52.154Z"
   },
   {
    "duration": 22,
    "start_time": "2022-06-04T19:34:52.175Z"
   },
   {
    "duration": 46,
    "start_time": "2022-06-04T19:34:52.198Z"
   },
   {
    "duration": 31,
    "start_time": "2022-06-04T19:34:52.248Z"
   },
   {
    "duration": 26,
    "start_time": "2022-06-04T19:34:52.281Z"
   },
   {
    "duration": 14,
    "start_time": "2022-06-04T19:34:52.309Z"
   },
   {
    "duration": 37,
    "start_time": "2022-06-04T19:34:52.325Z"
   },
   {
    "duration": 16,
    "start_time": "2022-06-04T19:34:52.364Z"
   },
   {
    "duration": 253,
    "start_time": "2022-06-04T19:34:52.382Z"
   },
   {
    "duration": 246,
    "start_time": "2022-06-04T19:34:52.641Z"
   },
   {
    "duration": 259,
    "start_time": "2022-06-04T19:34:52.889Z"
   },
   {
    "duration": 14,
    "start_time": "2022-06-04T19:34:53.150Z"
   },
   {
    "duration": 16,
    "start_time": "2022-06-04T19:34:53.166Z"
   },
   {
    "duration": 226,
    "start_time": "2022-06-04T19:34:53.184Z"
   },
   {
    "duration": 201,
    "start_time": "2022-06-04T19:34:53.412Z"
   },
   {
    "duration": 84,
    "start_time": "2022-06-04T19:35:22.182Z"
   },
   {
    "duration": 3,
    "start_time": "2022-06-04T19:35:36.295Z"
   },
   {
    "duration": 996,
    "start_time": "2022-06-04T19:35:36.301Z"
   },
   {
    "duration": 93,
    "start_time": "2022-06-04T19:35:37.299Z"
   },
   {
    "duration": 5,
    "start_time": "2022-06-04T19:35:37.394Z"
   },
   {
    "duration": 9,
    "start_time": "2022-06-04T19:35:37.402Z"
   },
   {
    "duration": 49,
    "start_time": "2022-06-04T19:35:37.413Z"
   },
   {
    "duration": 24,
    "start_time": "2022-06-04T19:35:37.464Z"
   },
   {
    "duration": 176,
    "start_time": "2022-06-04T19:35:37.490Z"
   },
   {
    "duration": 142,
    "start_time": "2022-06-04T19:35:37.668Z"
   },
   {
    "duration": 149,
    "start_time": "2022-06-04T19:35:37.812Z"
   },
   {
    "duration": 438,
    "start_time": "2022-06-04T19:35:37.963Z"
   },
   {
    "duration": 205,
    "start_time": "2022-06-04T19:35:38.402Z"
   },
   {
    "duration": 165,
    "start_time": "2022-06-04T19:35:38.609Z"
   },
   {
    "duration": 302,
    "start_time": "2022-06-04T19:35:38.776Z"
   },
   {
    "duration": 221,
    "start_time": "2022-06-04T19:35:39.079Z"
   },
   {
    "duration": 1618,
    "start_time": "2022-06-04T19:35:39.302Z"
   },
   {
    "duration": 708,
    "start_time": "2022-06-04T19:35:40.928Z"
   },
   {
    "duration": 5,
    "start_time": "2022-06-04T19:35:41.645Z"
   },
   {
    "duration": 2365,
    "start_time": "2022-06-04T19:35:41.652Z"
   },
   {
    "duration": 233,
    "start_time": "2022-06-04T19:35:44.019Z"
   },
   {
    "duration": 331,
    "start_time": "2022-06-04T19:35:44.253Z"
   },
   {
    "duration": 42,
    "start_time": "2022-06-04T19:35:44.587Z"
   },
   {
    "duration": 39,
    "start_time": "2022-06-04T19:35:44.631Z"
   },
   {
    "duration": 29,
    "start_time": "2022-06-04T19:35:44.673Z"
   },
   {
    "duration": 54,
    "start_time": "2022-06-04T19:35:44.704Z"
   },
   {
    "duration": 36,
    "start_time": "2022-06-04T19:35:44.760Z"
   },
   {
    "duration": 19,
    "start_time": "2022-06-04T19:35:44.799Z"
   },
   {
    "duration": 52,
    "start_time": "2022-06-04T19:35:44.821Z"
   },
   {
    "duration": 45,
    "start_time": "2022-06-04T19:35:44.875Z"
   },
   {
    "duration": 434,
    "start_time": "2022-06-04T19:35:44.923Z"
   },
   {
    "duration": 254,
    "start_time": "2022-06-04T19:35:45.359Z"
   },
   {
    "duration": 268,
    "start_time": "2022-06-04T19:35:45.615Z"
   },
   {
    "duration": 14,
    "start_time": "2022-06-04T19:35:45.885Z"
   },
   {
    "duration": 42,
    "start_time": "2022-06-04T19:35:45.901Z"
   },
   {
    "duration": 229,
    "start_time": "2022-06-04T19:35:45.947Z"
   },
   {
    "duration": 278,
    "start_time": "2022-06-04T19:35:46.178Z"
   },
   {
    "duration": 7,
    "start_time": "2022-06-04T19:40:18.294Z"
   },
   {
    "duration": 21,
    "start_time": "2022-06-04T19:40:36.296Z"
   },
   {
    "duration": 33,
    "start_time": "2022-06-04T19:42:31.315Z"
   },
   {
    "duration": 26,
    "start_time": "2022-06-04T19:42:51.308Z"
   },
   {
    "duration": 23,
    "start_time": "2022-06-04T19:43:11.398Z"
   },
   {
    "duration": 29,
    "start_time": "2022-06-04T19:43:47.790Z"
   },
   {
    "duration": 11,
    "start_time": "2022-06-04T19:44:02.191Z"
   },
   {
    "duration": 28,
    "start_time": "2022-06-04T19:44:59.210Z"
   },
   {
    "duration": 226,
    "start_time": "2022-06-04T19:45:42.545Z"
   },
   {
    "duration": 140,
    "start_time": "2022-06-04T19:46:18.015Z"
   },
   {
    "duration": 52,
    "start_time": "2022-06-04T19:46:47.390Z"
   },
   {
    "duration": 2,
    "start_time": "2022-06-04T19:50:15.382Z"
   },
   {
    "duration": 1073,
    "start_time": "2022-06-04T19:50:15.387Z"
   },
   {
    "duration": 93,
    "start_time": "2022-06-04T19:50:16.461Z"
   },
   {
    "duration": 6,
    "start_time": "2022-06-04T19:50:16.556Z"
   },
   {
    "duration": 11,
    "start_time": "2022-06-04T19:50:16.564Z"
   },
   {
    "duration": 61,
    "start_time": "2022-06-04T19:50:16.577Z"
   },
   {
    "duration": 24,
    "start_time": "2022-06-04T19:50:16.643Z"
   },
   {
    "duration": 143,
    "start_time": "2022-06-04T19:50:16.668Z"
   },
   {
    "duration": 123,
    "start_time": "2022-06-04T19:50:16.812Z"
   },
   {
    "duration": 126,
    "start_time": "2022-06-04T19:50:16.936Z"
   },
   {
    "duration": 350,
    "start_time": "2022-06-04T19:50:17.064Z"
   },
   {
    "duration": 189,
    "start_time": "2022-06-04T19:50:17.415Z"
   },
   {
    "duration": 176,
    "start_time": "2022-06-04T19:50:17.606Z"
   },
   {
    "duration": 290,
    "start_time": "2022-06-04T19:50:17.786Z"
   },
   {
    "duration": 243,
    "start_time": "2022-06-04T19:50:18.078Z"
   },
   {
    "duration": 1576,
    "start_time": "2022-06-04T19:50:18.323Z"
   },
   {
    "duration": 658,
    "start_time": "2022-06-04T19:50:19.900Z"
   },
   {
    "duration": 3,
    "start_time": "2022-06-04T19:50:20.560Z"
   },
   {
    "duration": 2278,
    "start_time": "2022-06-04T19:50:20.565Z"
   },
   {
    "duration": 201,
    "start_time": "2022-06-04T19:50:22.844Z"
   },
   {
    "duration": 267,
    "start_time": "2022-06-04T19:50:23.047Z"
   },
   {
    "duration": 30,
    "start_time": "2022-06-04T19:50:23.316Z"
   },
   {
    "duration": 19,
    "start_time": "2022-06-04T19:50:23.347Z"
   },
   {
    "duration": 17,
    "start_time": "2022-06-04T19:50:23.368Z"
   },
   {
    "duration": 53,
    "start_time": "2022-06-04T19:50:23.387Z"
   },
   {
    "duration": 19,
    "start_time": "2022-06-04T19:50:23.442Z"
   },
   {
    "duration": 12,
    "start_time": "2022-06-04T19:50:23.462Z"
   },
   {
    "duration": 13,
    "start_time": "2022-06-04T19:50:23.476Z"
   },
   {
    "duration": 0,
    "start_time": "2022-06-04T19:50:23.491Z"
   },
   {
    "duration": 0,
    "start_time": "2022-06-04T19:50:23.492Z"
   },
   {
    "duration": 0,
    "start_time": "2022-06-04T19:50:23.493Z"
   },
   {
    "duration": 0,
    "start_time": "2022-06-04T19:50:23.495Z"
   },
   {
    "duration": 0,
    "start_time": "2022-06-04T19:50:23.496Z"
   },
   {
    "duration": 0,
    "start_time": "2022-06-04T19:50:23.497Z"
   },
   {
    "duration": 0,
    "start_time": "2022-06-04T19:50:23.498Z"
   },
   {
    "duration": 0,
    "start_time": "2022-06-04T19:50:23.499Z"
   },
   {
    "duration": 3,
    "start_time": "2022-06-04T19:51:10.392Z"
   },
   {
    "duration": 960,
    "start_time": "2022-06-04T19:51:10.398Z"
   },
   {
    "duration": 89,
    "start_time": "2022-06-04T19:51:11.359Z"
   },
   {
    "duration": 7,
    "start_time": "2022-06-04T19:51:11.450Z"
   },
   {
    "duration": 8,
    "start_time": "2022-06-04T19:51:11.459Z"
   },
   {
    "duration": 28,
    "start_time": "2022-06-04T19:51:11.468Z"
   },
   {
    "duration": 47,
    "start_time": "2022-06-04T19:51:11.498Z"
   },
   {
    "duration": 149,
    "start_time": "2022-06-04T19:51:11.547Z"
   },
   {
    "duration": 298,
    "start_time": "2022-06-04T19:51:11.698Z"
   },
   {
    "duration": 150,
    "start_time": "2022-06-04T19:51:11.998Z"
   },
   {
    "duration": 277,
    "start_time": "2022-06-04T19:51:12.150Z"
   },
   {
    "duration": 265,
    "start_time": "2022-06-04T19:51:12.429Z"
   },
   {
    "duration": 204,
    "start_time": "2022-06-04T19:51:12.696Z"
   },
   {
    "duration": 305,
    "start_time": "2022-06-04T19:51:12.904Z"
   },
   {
    "duration": 238,
    "start_time": "2022-06-04T19:51:13.211Z"
   },
   {
    "duration": 2133,
    "start_time": "2022-06-04T19:51:13.451Z"
   },
   {
    "duration": 651,
    "start_time": "2022-06-04T19:51:15.586Z"
   },
   {
    "duration": 4,
    "start_time": "2022-06-04T19:51:16.239Z"
   },
   {
    "duration": 2173,
    "start_time": "2022-06-04T19:51:16.245Z"
   },
   {
    "duration": 346,
    "start_time": "2022-06-04T19:51:18.420Z"
   },
   {
    "duration": 272,
    "start_time": "2022-06-04T19:51:18.768Z"
   },
   {
    "duration": 19,
    "start_time": "2022-06-04T19:51:19.045Z"
   },
   {
    "duration": 20,
    "start_time": "2022-06-04T19:51:19.066Z"
   },
   {
    "duration": 17,
    "start_time": "2022-06-04T19:51:19.087Z"
   },
   {
    "duration": 45,
    "start_time": "2022-06-04T19:51:19.106Z"
   },
   {
    "duration": 18,
    "start_time": "2022-06-04T19:51:19.152Z"
   },
   {
    "duration": 12,
    "start_time": "2022-06-04T19:51:19.171Z"
   },
   {
    "duration": 27,
    "start_time": "2022-06-04T19:51:19.184Z"
   },
   {
    "duration": 250,
    "start_time": "2022-06-04T19:51:19.213Z"
   },
   {
    "duration": 238,
    "start_time": "2022-06-04T19:51:19.465Z"
   },
   {
    "duration": 268,
    "start_time": "2022-06-04T19:51:19.705Z"
   },
   {
    "duration": 11,
    "start_time": "2022-06-04T19:51:19.974Z"
   },
   {
    "duration": 11,
    "start_time": "2022-06-04T19:51:19.986Z"
   },
   {
    "duration": 246,
    "start_time": "2022-06-04T19:51:19.999Z"
   },
   {
    "duration": 198,
    "start_time": "2022-06-04T19:51:20.247Z"
   },
   {
    "duration": 1195,
    "start_time": "2022-06-04T20:00:06.464Z"
   },
   {
    "duration": 998,
    "start_time": "2022-06-04T20:00:38.444Z"
   },
   {
    "duration": 858,
    "start_time": "2022-06-04T20:02:43.461Z"
   },
   {
    "duration": 945,
    "start_time": "2022-06-04T20:02:50.405Z"
   },
   {
    "duration": 1165,
    "start_time": "2022-06-04T20:10:12.824Z"
   },
   {
    "duration": 1155,
    "start_time": "2022-06-04T20:20:40.243Z"
   },
   {
    "duration": 1130,
    "start_time": "2022-06-04T20:25:56.693Z"
   },
   {
    "duration": 835,
    "start_time": "2022-06-04T20:26:13.621Z"
   },
   {
    "duration": 10,
    "start_time": "2022-06-04T20:27:00.031Z"
   },
   {
    "duration": 12,
    "start_time": "2022-06-04T20:27:11.290Z"
   },
   {
    "duration": 10,
    "start_time": "2022-06-04T20:27:20.519Z"
   },
   {
    "duration": 14,
    "start_time": "2022-06-04T20:28:58.693Z"
   },
   {
    "duration": 12,
    "start_time": "2022-06-04T20:29:16.451Z"
   },
   {
    "duration": 134,
    "start_time": "2022-06-04T20:30:11.116Z"
   },
   {
    "duration": 26,
    "start_time": "2022-06-04T20:30:42.009Z"
   },
   {
    "duration": 20,
    "start_time": "2022-06-04T20:30:56.603Z"
   },
   {
    "duration": 22,
    "start_time": "2022-06-04T20:31:15.550Z"
   },
   {
    "duration": 18,
    "start_time": "2022-06-04T20:31:27.602Z"
   },
   {
    "duration": 148,
    "start_time": "2022-06-04T20:31:37.208Z"
   },
   {
    "duration": 41,
    "start_time": "2022-06-04T20:39:33.595Z"
   },
   {
    "duration": 1123,
    "start_time": "2022-06-04T20:39:50.177Z"
   },
   {
    "duration": 40,
    "start_time": "2022-06-04T20:39:53.687Z"
   },
   {
    "duration": 38,
    "start_time": "2022-06-04T20:40:20.855Z"
   },
   {
    "duration": 82,
    "start_time": "2022-06-04T20:41:41.882Z"
   },
   {
    "duration": 78,
    "start_time": "2022-06-04T20:42:25.860Z"
   },
   {
    "duration": 77,
    "start_time": "2022-06-04T20:43:53.703Z"
   },
   {
    "duration": 109,
    "start_time": "2022-06-04T20:47:12.077Z"
   },
   {
    "duration": 88,
    "start_time": "2022-06-04T20:47:35.715Z"
   },
   {
    "duration": 178,
    "start_time": "2022-06-04T20:47:47.910Z"
   },
   {
    "duration": 100,
    "start_time": "2022-06-04T20:50:11.865Z"
   },
   {
    "duration": 97,
    "start_time": "2022-06-04T20:54:04.197Z"
   },
   {
    "duration": 103,
    "start_time": "2022-06-04T20:59:41.307Z"
   },
   {
    "duration": 5,
    "start_time": "2022-06-04T21:00:01.125Z"
   },
   {
    "duration": 1126,
    "start_time": "2022-06-04T21:00:01.132Z"
   },
   {
    "duration": 59,
    "start_time": "2022-06-04T21:00:02.261Z"
   },
   {
    "duration": 0,
    "start_time": "2022-06-04T21:00:02.323Z"
   },
   {
    "duration": 0,
    "start_time": "2022-06-04T21:00:02.325Z"
   },
   {
    "duration": 0,
    "start_time": "2022-06-04T21:00:02.326Z"
   },
   {
    "duration": 0,
    "start_time": "2022-06-04T21:00:02.327Z"
   },
   {
    "duration": 0,
    "start_time": "2022-06-04T21:00:02.328Z"
   },
   {
    "duration": 0,
    "start_time": "2022-06-04T21:00:02.329Z"
   },
   {
    "duration": 0,
    "start_time": "2022-06-04T21:00:02.330Z"
   },
   {
    "duration": 0,
    "start_time": "2022-06-04T21:00:02.331Z"
   },
   {
    "duration": 0,
    "start_time": "2022-06-04T21:00:02.332Z"
   },
   {
    "duration": 0,
    "start_time": "2022-06-04T21:00:02.333Z"
   },
   {
    "duration": 0,
    "start_time": "2022-06-04T21:00:02.334Z"
   },
   {
    "duration": 0,
    "start_time": "2022-06-04T21:00:02.335Z"
   },
   {
    "duration": 0,
    "start_time": "2022-06-04T21:00:02.336Z"
   },
   {
    "duration": 0,
    "start_time": "2022-06-04T21:00:02.337Z"
   },
   {
    "duration": 0,
    "start_time": "2022-06-04T21:00:02.338Z"
   },
   {
    "duration": 0,
    "start_time": "2022-06-04T21:00:02.339Z"
   },
   {
    "duration": 0,
    "start_time": "2022-06-04T21:00:02.340Z"
   },
   {
    "duration": 0,
    "start_time": "2022-06-04T21:00:02.341Z"
   },
   {
    "duration": 0,
    "start_time": "2022-06-04T21:00:02.342Z"
   },
   {
    "duration": 0,
    "start_time": "2022-06-04T21:00:02.343Z"
   },
   {
    "duration": 0,
    "start_time": "2022-06-04T21:00:02.344Z"
   },
   {
    "duration": 0,
    "start_time": "2022-06-04T21:00:02.345Z"
   },
   {
    "duration": 0,
    "start_time": "2022-06-04T21:00:02.346Z"
   },
   {
    "duration": 0,
    "start_time": "2022-06-04T21:00:02.347Z"
   },
   {
    "duration": 0,
    "start_time": "2022-06-04T21:00:02.348Z"
   },
   {
    "duration": 0,
    "start_time": "2022-06-04T21:00:02.349Z"
   },
   {
    "duration": 0,
    "start_time": "2022-06-04T21:00:02.350Z"
   },
   {
    "duration": 0,
    "start_time": "2022-06-04T21:00:02.351Z"
   },
   {
    "duration": 0,
    "start_time": "2022-06-04T21:00:02.352Z"
   },
   {
    "duration": 0,
    "start_time": "2022-06-04T21:00:02.353Z"
   },
   {
    "duration": 0,
    "start_time": "2022-06-04T21:00:02.354Z"
   },
   {
    "duration": 0,
    "start_time": "2022-06-04T21:00:02.355Z"
   },
   {
    "duration": 0,
    "start_time": "2022-06-04T21:00:02.356Z"
   },
   {
    "duration": 0,
    "start_time": "2022-06-04T21:00:02.356Z"
   },
   {
    "duration": 0,
    "start_time": "2022-06-04T21:00:02.357Z"
   },
   {
    "duration": 100,
    "start_time": "2022-06-04T21:00:24.699Z"
   },
   {
    "duration": 9,
    "start_time": "2022-06-04T21:01:43.814Z"
   },
   {
    "duration": 89,
    "start_time": "2022-06-04T21:02:04.193Z"
   },
   {
    "duration": 89,
    "start_time": "2022-06-04T21:02:19.891Z"
   },
   {
    "duration": 79,
    "start_time": "2022-06-04T21:03:42.123Z"
   },
   {
    "duration": 33,
    "start_time": "2022-06-04T21:04:03.998Z"
   },
   {
    "duration": 100,
    "start_time": "2022-06-04T21:05:17.609Z"
   },
   {
    "duration": 28,
    "start_time": "2022-06-04T21:06:17.059Z"
   },
   {
    "duration": 36,
    "start_time": "2022-06-04T21:06:37.546Z"
   },
   {
    "duration": 23,
    "start_time": "2022-06-04T21:10:46.742Z"
   },
   {
    "duration": 26,
    "start_time": "2022-06-04T21:10:52.359Z"
   },
   {
    "duration": 33,
    "start_time": "2022-06-04T21:12:48.147Z"
   },
   {
    "duration": 73,
    "start_time": "2022-06-04T21:14:47.886Z"
   },
   {
    "duration": 14,
    "start_time": "2022-06-04T21:15:30.145Z"
   },
   {
    "duration": 1340,
    "start_time": "2022-06-04T21:15:46.186Z"
   },
   {
    "duration": 137,
    "start_time": "2022-06-04T21:15:49.585Z"
   },
   {
    "duration": 9,
    "start_time": "2022-06-04T21:15:57.533Z"
   },
   {
    "duration": 11,
    "start_time": "2022-06-04T21:16:04.384Z"
   },
   {
    "duration": 77,
    "start_time": "2022-06-04T21:17:07.786Z"
   },
   {
    "duration": 8,
    "start_time": "2022-06-04T21:17:12.347Z"
   },
   {
    "duration": 1170,
    "start_time": "2022-06-04T21:17:24.523Z"
   },
   {
    "duration": 73,
    "start_time": "2022-06-04T21:17:27.036Z"
   },
   {
    "duration": 8,
    "start_time": "2022-06-04T21:17:30.657Z"
   },
   {
    "duration": 9,
    "start_time": "2022-06-04T21:17:47.997Z"
   },
   {
    "duration": 1701,
    "start_time": "2022-06-04T21:23:09.693Z"
   },
   {
    "duration": 1251,
    "start_time": "2022-06-04T21:24:30.107Z"
   },
   {
    "duration": 1197,
    "start_time": "2022-06-04T21:24:43.726Z"
   },
   {
    "duration": 1240,
    "start_time": "2022-06-04T21:26:47.292Z"
   },
   {
    "duration": 1259,
    "start_time": "2022-06-04T21:27:19.792Z"
   },
   {
    "duration": 1168,
    "start_time": "2022-06-04T21:29:30.001Z"
   },
   {
    "duration": 1319,
    "start_time": "2022-06-04T21:33:43.247Z"
   },
   {
    "duration": 1371,
    "start_time": "2022-06-04T21:37:02.223Z"
   },
   {
    "duration": 12,
    "start_time": "2022-06-04T21:37:42.723Z"
   },
   {
    "duration": 13,
    "start_time": "2022-06-04T21:38:27.417Z"
   },
   {
    "duration": 18,
    "start_time": "2022-06-04T21:38:37.102Z"
   },
   {
    "duration": 9,
    "start_time": "2022-06-04T21:39:52.412Z"
   },
   {
    "duration": 18,
    "start_time": "2022-06-04T21:43:15.822Z"
   },
   {
    "duration": 10,
    "start_time": "2022-06-04T21:43:28.641Z"
   },
   {
    "duration": 14,
    "start_time": "2022-06-04T21:43:36.097Z"
   },
   {
    "duration": 13,
    "start_time": "2022-06-04T21:43:53.953Z"
   },
   {
    "duration": 17,
    "start_time": "2022-06-04T21:44:57.945Z"
   },
   {
    "duration": 367,
    "start_time": "2022-06-04T21:46:23.264Z"
   },
   {
    "duration": 26,
    "start_time": "2022-06-04T21:47:29.732Z"
   },
   {
    "duration": 39,
    "start_time": "2022-06-04T21:49:37.386Z"
   },
   {
    "duration": 143,
    "start_time": "2022-06-04T21:50:23.883Z"
   },
   {
    "duration": 29,
    "start_time": "2022-06-04T21:52:25.117Z"
   },
   {
    "duration": 7,
    "start_time": "2022-06-04T21:53:13.320Z"
   },
   {
    "duration": 10,
    "start_time": "2022-06-04T21:53:55.704Z"
   },
   {
    "duration": 652,
    "start_time": "2022-06-04T21:55:45.148Z"
   },
   {
    "duration": 11,
    "start_time": "2022-06-04T21:56:09.134Z"
   },
   {
    "duration": 113,
    "start_time": "2022-06-04T21:57:15.800Z"
   },
   {
    "duration": 15,
    "start_time": "2022-06-04T21:57:25.231Z"
   },
   {
    "duration": 13,
    "start_time": "2022-06-04T21:59:11.705Z"
   },
   {
    "duration": 10,
    "start_time": "2022-06-04T22:03:32.493Z"
   },
   {
    "duration": 117,
    "start_time": "2022-06-04T22:05:19.612Z"
   },
   {
    "duration": 3,
    "start_time": "2022-06-04T22:06:20.321Z"
   },
   {
    "duration": 1283,
    "start_time": "2022-06-04T22:06:20.326Z"
   },
   {
    "duration": 171,
    "start_time": "2022-06-04T22:06:21.611Z"
   },
   {
    "duration": 12,
    "start_time": "2022-06-04T22:06:21.783Z"
   },
   {
    "duration": 85,
    "start_time": "2022-06-04T22:06:21.797Z"
   },
   {
    "duration": 6,
    "start_time": "2022-06-04T22:06:21.883Z"
   },
   {
    "duration": 8,
    "start_time": "2022-06-04T22:06:21.891Z"
   },
   {
    "duration": 34,
    "start_time": "2022-06-04T22:06:21.900Z"
   },
   {
    "duration": 21,
    "start_time": "2022-06-04T22:06:21.936Z"
   },
   {
    "duration": 146,
    "start_time": "2022-06-04T22:06:21.959Z"
   },
   {
    "duration": 193,
    "start_time": "2022-06-04T22:06:22.108Z"
   },
   {
    "duration": 115,
    "start_time": "2022-06-04T22:06:22.303Z"
   },
   {
    "duration": 227,
    "start_time": "2022-06-04T22:06:22.421Z"
   },
   {
    "duration": 166,
    "start_time": "2022-06-04T22:06:22.650Z"
   },
   {
    "duration": 142,
    "start_time": "2022-06-04T22:06:22.817Z"
   },
   {
    "duration": 231,
    "start_time": "2022-06-04T22:06:22.960Z"
   },
   {
    "duration": 199,
    "start_time": "2022-06-04T22:06:23.192Z"
   },
   {
    "duration": 1406,
    "start_time": "2022-06-04T22:06:23.392Z"
   },
   {
    "duration": 597,
    "start_time": "2022-06-04T22:06:24.799Z"
   },
   {
    "duration": 3,
    "start_time": "2022-06-04T22:06:25.398Z"
   },
   {
    "duration": 1919,
    "start_time": "2022-06-04T22:06:25.402Z"
   },
   {
    "duration": 305,
    "start_time": "2022-06-04T22:06:27.329Z"
   },
   {
    "duration": 236,
    "start_time": "2022-06-04T22:06:27.635Z"
   },
   {
    "duration": 17,
    "start_time": "2022-06-04T22:06:27.873Z"
   },
   {
    "duration": 16,
    "start_time": "2022-06-04T22:06:27.892Z"
   },
   {
    "duration": 25,
    "start_time": "2022-06-04T22:06:27.910Z"
   },
   {
    "duration": 18,
    "start_time": "2022-06-04T22:06:27.937Z"
   },
   {
    "duration": 19,
    "start_time": "2022-06-04T22:06:27.957Z"
   },
   {
    "duration": 7,
    "start_time": "2022-06-04T22:06:27.979Z"
   },
   {
    "duration": 20,
    "start_time": "2022-06-04T22:06:27.988Z"
   },
   {
    "duration": 40,
    "start_time": "2022-06-04T22:06:28.009Z"
   },
   {
    "duration": 217,
    "start_time": "2022-06-04T22:06:28.051Z"
   },
   {
    "duration": 214,
    "start_time": "2022-06-04T22:06:28.269Z"
   },
   {
    "duration": 217,
    "start_time": "2022-06-04T22:06:28.485Z"
   },
   {
    "duration": 10,
    "start_time": "2022-06-04T22:06:28.703Z"
   },
   {
    "duration": 21,
    "start_time": "2022-06-04T22:06:28.715Z"
   },
   {
    "duration": 183,
    "start_time": "2022-06-04T22:06:28.737Z"
   },
   {
    "duration": 161,
    "start_time": "2022-06-04T22:06:28.921Z"
   },
   {
    "duration": 14,
    "start_time": "2022-06-04T22:06:48.579Z"
   },
   {
    "duration": 11,
    "start_time": "2022-06-04T22:06:52.600Z"
   },
   {
    "duration": 3,
    "start_time": "2022-06-04T22:07:51.851Z"
   },
   {
    "duration": 1121,
    "start_time": "2022-06-04T22:07:51.856Z"
   },
   {
    "duration": 157,
    "start_time": "2022-06-04T22:07:52.979Z"
   },
   {
    "duration": 6,
    "start_time": "2022-06-04T22:07:53.137Z"
   },
   {
    "duration": 75,
    "start_time": "2022-06-04T22:07:53.145Z"
   },
   {
    "duration": 4,
    "start_time": "2022-06-04T22:07:53.222Z"
   },
   {
    "duration": 19,
    "start_time": "2022-06-04T22:07:53.228Z"
   },
   {
    "duration": 23,
    "start_time": "2022-06-04T22:07:53.249Z"
   },
   {
    "duration": 18,
    "start_time": "2022-06-04T22:07:53.274Z"
   },
   {
    "duration": 129,
    "start_time": "2022-06-04T22:07:53.294Z"
   },
   {
    "duration": 105,
    "start_time": "2022-06-04T22:07:53.428Z"
   },
   {
    "duration": 124,
    "start_time": "2022-06-04T22:07:53.535Z"
   },
   {
    "duration": 327,
    "start_time": "2022-06-04T22:07:53.661Z"
   },
   {
    "duration": 165,
    "start_time": "2022-06-04T22:07:53.990Z"
   },
   {
    "duration": 134,
    "start_time": "2022-06-04T22:07:54.156Z"
   },
   {
    "duration": 251,
    "start_time": "2022-06-04T22:07:54.292Z"
   },
   {
    "duration": 204,
    "start_time": "2022-06-04T22:07:54.544Z"
   },
   {
    "duration": 1370,
    "start_time": "2022-06-04T22:07:54.749Z"
   },
   {
    "duration": 581,
    "start_time": "2022-06-04T22:07:56.121Z"
   },
   {
    "duration": 4,
    "start_time": "2022-06-04T22:07:56.703Z"
   },
   {
    "duration": 1950,
    "start_time": "2022-06-04T22:07:56.708Z"
   },
   {
    "duration": 180,
    "start_time": "2022-06-04T22:07:58.659Z"
   },
   {
    "duration": 235,
    "start_time": "2022-06-04T22:07:58.841Z"
   },
   {
    "duration": 19,
    "start_time": "2022-06-04T22:07:59.077Z"
   },
   {
    "duration": 16,
    "start_time": "2022-06-04T22:07:59.097Z"
   },
   {
    "duration": 25,
    "start_time": "2022-06-04T22:07:59.114Z"
   },
   {
    "duration": 17,
    "start_time": "2022-06-04T22:07:59.141Z"
   },
   {
    "duration": 19,
    "start_time": "2022-06-04T22:07:59.160Z"
   },
   {
    "duration": 7,
    "start_time": "2022-06-04T22:07:59.182Z"
   },
   {
    "duration": 12,
    "start_time": "2022-06-04T22:07:59.191Z"
   },
   {
    "duration": 45,
    "start_time": "2022-06-04T22:07:59.204Z"
   },
   {
    "duration": 215,
    "start_time": "2022-06-04T22:07:59.251Z"
   },
   {
    "duration": 345,
    "start_time": "2022-06-04T22:07:59.467Z"
   },
   {
    "duration": 197,
    "start_time": "2022-06-04T22:07:59.813Z"
   },
   {
    "duration": 18,
    "start_time": "2022-06-04T22:08:00.011Z"
   },
   {
    "duration": 14,
    "start_time": "2022-06-04T22:08:00.030Z"
   },
   {
    "duration": 198,
    "start_time": "2022-06-04T22:08:00.045Z"
   },
   {
    "duration": 182,
    "start_time": "2022-06-04T22:08:00.245Z"
   },
   {
    "duration": 167,
    "start_time": "2022-06-04T22:08:46.017Z"
   },
   {
    "duration": 27,
    "start_time": "2022-06-04T22:08:55.081Z"
   },
   {
    "duration": 16,
    "start_time": "2022-06-04T22:17:23.918Z"
   },
   {
    "duration": 11,
    "start_time": "2022-06-04T22:21:45.121Z"
   },
   {
    "duration": 15,
    "start_time": "2022-06-04T22:22:04.505Z"
   },
   {
    "duration": 26,
    "start_time": "2022-06-04T22:22:17.359Z"
   },
   {
    "duration": 224,
    "start_time": "2022-06-04T22:25:49.925Z"
   },
   {
    "duration": 243,
    "start_time": "2022-06-04T22:26:24.346Z"
   },
   {
    "duration": 167,
    "start_time": "2022-06-04T22:31:16.361Z"
   },
   {
    "duration": 13,
    "start_time": "2022-06-04T22:32:32.353Z"
   },
   {
    "duration": 28,
    "start_time": "2022-06-04T22:33:51.788Z"
   },
   {
    "duration": 162,
    "start_time": "2022-06-04T22:34:07.317Z"
   },
   {
    "duration": 123,
    "start_time": "2022-06-04T22:35:03.913Z"
   },
   {
    "duration": 161,
    "start_time": "2022-06-04T22:35:11.304Z"
   },
   {
    "duration": 212,
    "start_time": "2022-06-04T22:36:11.522Z"
   },
   {
    "duration": 163,
    "start_time": "2022-06-04T22:38:49.021Z"
   },
   {
    "duration": 40,
    "start_time": "2022-06-04T22:45:45.918Z"
   },
   {
    "duration": 244,
    "start_time": "2022-06-04T22:45:54.335Z"
   },
   {
    "duration": 259,
    "start_time": "2022-06-04T22:46:16.052Z"
   },
   {
    "duration": 261,
    "start_time": "2022-06-04T22:48:35.051Z"
   },
   {
    "duration": 182,
    "start_time": "2022-06-04T22:51:08.195Z"
   },
   {
    "duration": 174,
    "start_time": "2022-06-04T22:55:11.785Z"
   },
   {
    "duration": 162,
    "start_time": "2022-06-04T22:57:23.582Z"
   },
   {
    "duration": 53,
    "start_time": "2022-06-05T08:56:26.822Z"
   },
   {
    "duration": 1361,
    "start_time": "2022-06-05T08:56:31.787Z"
   },
   {
    "duration": 1075,
    "start_time": "2022-06-05T08:56:33.150Z"
   },
   {
    "duration": 163,
    "start_time": "2022-06-05T08:56:34.227Z"
   },
   {
    "duration": 6,
    "start_time": "2022-06-05T08:56:34.391Z"
   },
   {
    "duration": 267,
    "start_time": "2022-06-05T08:56:34.399Z"
   },
   {
    "duration": 5,
    "start_time": "2022-06-05T08:56:34.667Z"
   },
   {
    "duration": 11,
    "start_time": "2022-06-05T08:56:34.674Z"
   },
   {
    "duration": 23,
    "start_time": "2022-06-05T08:56:34.687Z"
   },
   {
    "duration": 20,
    "start_time": "2022-06-05T08:56:34.712Z"
   },
   {
    "duration": 204,
    "start_time": "2022-06-05T08:56:34.752Z"
   },
   {
    "duration": 121,
    "start_time": "2022-06-05T08:56:34.959Z"
   },
   {
    "duration": 134,
    "start_time": "2022-06-05T08:56:35.082Z"
   },
   {
    "duration": 294,
    "start_time": "2022-06-05T08:56:35.218Z"
   },
   {
    "duration": 182,
    "start_time": "2022-06-05T08:56:35.515Z"
   },
   {
    "duration": 148,
    "start_time": "2022-06-05T08:56:35.698Z"
   },
   {
    "duration": 235,
    "start_time": "2022-06-05T08:56:35.852Z"
   },
   {
    "duration": 214,
    "start_time": "2022-06-05T08:56:36.088Z"
   },
   {
    "duration": 1395,
    "start_time": "2022-06-05T08:56:36.304Z"
   },
   {
    "duration": 647,
    "start_time": "2022-06-05T08:56:37.700Z"
   },
   {
    "duration": 4,
    "start_time": "2022-06-05T08:56:38.349Z"
   },
   {
    "duration": 2149,
    "start_time": "2022-06-05T08:56:38.354Z"
   },
   {
    "duration": 171,
    "start_time": "2022-06-05T08:56:40.505Z"
   },
   {
    "duration": 241,
    "start_time": "2022-06-05T08:56:40.677Z"
   },
   {
    "duration": 17,
    "start_time": "2022-06-05T08:56:40.919Z"
   },
   {
    "duration": 25,
    "start_time": "2022-06-05T08:56:40.938Z"
   },
   {
    "duration": 14,
    "start_time": "2022-06-05T08:56:40.965Z"
   },
   {
    "duration": 17,
    "start_time": "2022-06-05T08:56:40.981Z"
   },
   {
    "duration": 34,
    "start_time": "2022-06-05T08:56:41.000Z"
   },
   {
    "duration": 17,
    "start_time": "2022-06-05T08:56:41.035Z"
   },
   {
    "duration": 13,
    "start_time": "2022-06-05T08:56:41.054Z"
   },
   {
    "duration": 21,
    "start_time": "2022-06-05T08:56:41.069Z"
   },
   {
    "duration": 18,
    "start_time": "2022-06-05T08:56:41.092Z"
   },
   {
    "duration": 40,
    "start_time": "2022-06-05T08:56:41.112Z"
   },
   {
    "duration": 229,
    "start_time": "2022-06-05T08:56:41.154Z"
   },
   {
    "duration": 212,
    "start_time": "2022-06-05T08:56:41.385Z"
   },
   {
    "duration": 222,
    "start_time": "2022-06-05T08:56:41.598Z"
   },
   {
    "duration": 169,
    "start_time": "2022-06-05T08:56:41.821Z"
   },
   {
    "duration": 222,
    "start_time": "2022-06-05T08:56:41.992Z"
   },
   {
    "duration": 10,
    "start_time": "2022-06-05T08:56:42.216Z"
   },
   {
    "duration": 202,
    "start_time": "2022-06-05T08:56:42.227Z"
   },
   {
    "duration": 240,
    "start_time": "2022-06-05T08:56:42.433Z"
   },
   {
    "duration": 208,
    "start_time": "2022-06-05T08:56:42.675Z"
   },
   {
    "duration": 272,
    "start_time": "2022-06-05T08:56:42.885Z"
   },
   {
    "duration": 183,
    "start_time": "2022-06-05T08:58:28.547Z"
   },
   {
    "duration": 162,
    "start_time": "2022-06-05T08:59:05.181Z"
   },
   {
    "duration": 212,
    "start_time": "2022-06-05T09:00:38.229Z"
   },
   {
    "duration": 164,
    "start_time": "2022-06-05T09:01:57.099Z"
   },
   {
    "duration": 10,
    "start_time": "2022-06-05T09:02:39.101Z"
   },
   {
    "duration": 11,
    "start_time": "2022-06-05T09:03:24.616Z"
   },
   {
    "duration": 27,
    "start_time": "2022-06-05T09:04:26.525Z"
   },
   {
    "duration": 19,
    "start_time": "2022-06-05T09:04:52.537Z"
   },
   {
    "duration": 11,
    "start_time": "2022-06-05T09:06:10.604Z"
   },
   {
    "duration": 12,
    "start_time": "2022-06-05T09:06:53.816Z"
   },
   {
    "duration": 137,
    "start_time": "2022-06-05T09:09:31.112Z"
   },
   {
    "duration": 139,
    "start_time": "2022-06-05T09:10:13.683Z"
   },
   {
    "duration": 144,
    "start_time": "2022-06-05T09:10:23.948Z"
   },
   {
    "duration": 160,
    "start_time": "2022-06-05T09:11:52.420Z"
   },
   {
    "duration": 154,
    "start_time": "2022-06-05T09:13:35.391Z"
   },
   {
    "duration": 133,
    "start_time": "2022-06-05T09:14:26.900Z"
   },
   {
    "duration": 137,
    "start_time": "2022-06-05T09:15:57.125Z"
   },
   {
    "duration": 190,
    "start_time": "2022-06-05T09:16:47.812Z"
   },
   {
    "duration": 283,
    "start_time": "2022-06-05T09:17:10.395Z"
   },
   {
    "duration": 197,
    "start_time": "2022-06-05T09:28:06.984Z"
   },
   {
    "duration": 175,
    "start_time": "2022-06-05T09:33:45.722Z"
   },
   {
    "duration": 15,
    "start_time": "2022-06-05T09:40:32.142Z"
   },
   {
    "duration": 24,
    "start_time": "2022-06-05T09:45:23.575Z"
   },
   {
    "duration": 26,
    "start_time": "2022-06-05T09:45:52.137Z"
   },
   {
    "duration": 22,
    "start_time": "2022-06-05T09:45:59.958Z"
   },
   {
    "duration": 19,
    "start_time": "2022-06-05T09:46:50.125Z"
   },
   {
    "duration": 50,
    "start_time": "2022-06-05T09:48:30.273Z"
   },
   {
    "duration": 90,
    "start_time": "2022-06-05T09:49:39.235Z"
   },
   {
    "duration": 338,
    "start_time": "2022-06-05T09:50:08.831Z"
   },
   {
    "duration": 21,
    "start_time": "2022-06-05T09:50:44.337Z"
   },
   {
    "duration": 636,
    "start_time": "2022-06-05T09:51:36.448Z"
   },
   {
    "duration": 93,
    "start_time": "2022-06-05T09:52:08.106Z"
   },
   {
    "duration": 55,
    "start_time": "2022-06-05T09:53:25.474Z"
   },
   {
    "duration": 45,
    "start_time": "2022-06-05T09:53:46.412Z"
   },
   {
    "duration": 36,
    "start_time": "2022-06-05T09:54:08.531Z"
   },
   {
    "duration": 25,
    "start_time": "2022-06-05T09:55:10.230Z"
   },
   {
    "duration": 36,
    "start_time": "2022-06-05T09:55:19.442Z"
   },
   {
    "duration": 19,
    "start_time": "2022-06-05T09:55:50.219Z"
   },
   {
    "duration": 20,
    "start_time": "2022-06-05T09:58:12.256Z"
   },
   {
    "duration": 18,
    "start_time": "2022-06-05T09:58:34.386Z"
   },
   {
    "duration": 24,
    "start_time": "2022-06-05T09:59:11.090Z"
   },
   {
    "duration": 21,
    "start_time": "2022-06-05T09:59:22.831Z"
   },
   {
    "duration": 26,
    "start_time": "2022-06-05T10:00:25.284Z"
   },
   {
    "duration": 36,
    "start_time": "2022-06-05T10:00:53.773Z"
   },
   {
    "duration": 21,
    "start_time": "2022-06-05T10:01:37.682Z"
   },
   {
    "duration": 23,
    "start_time": "2022-06-05T10:04:27.677Z"
   },
   {
    "duration": 18,
    "start_time": "2022-06-05T10:06:08.186Z"
   },
   {
    "duration": 22,
    "start_time": "2022-06-05T10:10:54.404Z"
   },
   {
    "duration": 2027,
    "start_time": "2022-06-05T10:11:01.389Z"
   },
   {
    "duration": 190,
    "start_time": "2022-06-05T10:11:31.874Z"
   },
   {
    "duration": 13,
    "start_time": "2022-06-05T10:12:36.729Z"
   },
   {
    "duration": 187,
    "start_time": "2022-06-05T10:12:45.887Z"
   },
   {
    "duration": 294,
    "start_time": "2022-06-05T10:13:02.117Z"
   },
   {
    "duration": 13,
    "start_time": "2022-06-05T10:15:47.972Z"
   },
   {
    "duration": 200,
    "start_time": "2022-06-05T10:16:43.336Z"
   },
   {
    "duration": 216,
    "start_time": "2022-06-05T10:16:58.225Z"
   },
   {
    "duration": 129,
    "start_time": "2022-06-05T10:22:07.677Z"
   },
   {
    "duration": 191,
    "start_time": "2022-06-05T10:22:20.793Z"
   },
   {
    "duration": 133,
    "start_time": "2022-06-05T10:22:50.014Z"
   },
   {
    "duration": 207,
    "start_time": "2022-06-05T10:23:17.347Z"
   },
   {
    "duration": 176,
    "start_time": "2022-06-05T10:36:12.943Z"
   },
   {
    "duration": 224,
    "start_time": "2022-06-05T10:37:47.751Z"
   },
   {
    "duration": 5,
    "start_time": "2022-06-05T10:42:48.152Z"
   },
   {
    "duration": 7,
    "start_time": "2022-06-05T10:42:54.495Z"
   },
   {
    "duration": 5,
    "start_time": "2022-06-05T10:43:15.392Z"
   },
   {
    "duration": 24,
    "start_time": "2022-06-05T10:43:25.356Z"
   },
   {
    "duration": 42,
    "start_time": "2022-06-05T10:44:30.007Z"
   },
   {
    "duration": 34,
    "start_time": "2022-06-05T10:44:37.679Z"
   },
   {
    "duration": 12,
    "start_time": "2022-06-05T10:44:47.778Z"
   },
   {
    "duration": 11,
    "start_time": "2022-06-05T10:45:20.981Z"
   },
   {
    "duration": 130,
    "start_time": "2022-06-05T10:45:58.139Z"
   },
   {
    "duration": 188,
    "start_time": "2022-06-05T10:46:32.598Z"
   },
   {
    "duration": 270,
    "start_time": "2022-06-05T10:47:27.546Z"
   },
   {
    "duration": 177,
    "start_time": "2022-06-05T10:48:28.682Z"
   },
   {
    "duration": 6,
    "start_time": "2022-06-05T10:48:48.959Z"
   },
   {
    "duration": 131,
    "start_time": "2022-06-05T10:49:20.794Z"
   },
   {
    "duration": 1963,
    "start_time": "2022-06-05T10:49:28.577Z"
   },
   {
    "duration": 198,
    "start_time": "2022-06-05T10:49:43.515Z"
   },
   {
    "duration": 128,
    "start_time": "2022-06-05T10:50:44.975Z"
   },
   {
    "duration": 217,
    "start_time": "2022-06-05T10:50:59.712Z"
   },
   {
    "duration": 305,
    "start_time": "2022-06-05T10:52:09.131Z"
   },
   {
    "duration": 3,
    "start_time": "2022-06-05T10:56:19.079Z"
   },
   {
    "duration": 1092,
    "start_time": "2022-06-05T10:56:19.084Z"
   },
   {
    "duration": 170,
    "start_time": "2022-06-05T10:56:20.178Z"
   },
   {
    "duration": 6,
    "start_time": "2022-06-05T10:56:20.352Z"
   },
   {
    "duration": 84,
    "start_time": "2022-06-05T10:56:20.360Z"
   },
   {
    "duration": 4,
    "start_time": "2022-06-05T10:56:20.446Z"
   },
   {
    "duration": 18,
    "start_time": "2022-06-05T10:56:20.452Z"
   },
   {
    "duration": 24,
    "start_time": "2022-06-05T10:56:20.471Z"
   },
   {
    "duration": 22,
    "start_time": "2022-06-05T10:56:20.497Z"
   },
   {
    "duration": 144,
    "start_time": "2022-06-05T10:56:20.521Z"
   },
   {
    "duration": 128,
    "start_time": "2022-06-05T10:56:20.667Z"
   },
   {
    "duration": 114,
    "start_time": "2022-06-05T10:56:20.797Z"
   },
   {
    "duration": 232,
    "start_time": "2022-06-05T10:56:20.913Z"
   },
   {
    "duration": 181,
    "start_time": "2022-06-05T10:56:21.151Z"
   },
   {
    "duration": 152,
    "start_time": "2022-06-05T10:56:21.334Z"
   },
   {
    "duration": 240,
    "start_time": "2022-06-05T10:56:21.488Z"
   },
   {
    "duration": 207,
    "start_time": "2022-06-05T10:56:21.730Z"
   },
   {
    "duration": 1465,
    "start_time": "2022-06-05T10:56:21.939Z"
   },
   {
    "duration": 614,
    "start_time": "2022-06-05T10:56:23.406Z"
   },
   {
    "duration": 4,
    "start_time": "2022-06-05T10:56:24.021Z"
   },
   {
    "duration": 2288,
    "start_time": "2022-06-05T10:56:24.026Z"
   },
   {
    "duration": 193,
    "start_time": "2022-06-05T10:56:26.316Z"
   },
   {
    "duration": 283,
    "start_time": "2022-06-05T10:56:26.511Z"
   },
   {
    "duration": 20,
    "start_time": "2022-06-05T10:56:26.795Z"
   },
   {
    "duration": 18,
    "start_time": "2022-06-05T10:56:26.816Z"
   },
   {
    "duration": 30,
    "start_time": "2022-06-05T10:56:26.835Z"
   },
   {
    "duration": 19,
    "start_time": "2022-06-05T10:56:26.867Z"
   },
   {
    "duration": 24,
    "start_time": "2022-06-05T10:56:26.887Z"
   },
   {
    "duration": 8,
    "start_time": "2022-06-05T10:56:26.912Z"
   },
   {
    "duration": 36,
    "start_time": "2022-06-05T10:56:26.922Z"
   },
   {
    "duration": 14,
    "start_time": "2022-06-05T10:56:26.960Z"
   },
   {
    "duration": 9,
    "start_time": "2022-06-05T10:56:26.976Z"
   },
   {
    "duration": 27,
    "start_time": "2022-06-05T10:56:26.987Z"
   },
   {
    "duration": 253,
    "start_time": "2022-06-05T10:56:27.016Z"
   },
   {
    "duration": 238,
    "start_time": "2022-06-05T10:56:27.271Z"
   },
   {
    "duration": 233,
    "start_time": "2022-06-05T10:56:27.511Z"
   },
   {
    "duration": 160,
    "start_time": "2022-06-05T10:56:27.746Z"
   },
   {
    "duration": 227,
    "start_time": "2022-06-05T10:56:27.908Z"
   },
   {
    "duration": 20,
    "start_time": "2022-06-05T10:56:28.136Z"
   },
   {
    "duration": 9,
    "start_time": "2022-06-05T10:56:28.158Z"
   },
   {
    "duration": 208,
    "start_time": "2022-06-05T10:56:28.170Z"
   },
   {
    "duration": 240,
    "start_time": "2022-06-05T10:56:28.380Z"
   },
   {
    "duration": 25,
    "start_time": "2022-06-05T11:02:26.431Z"
   },
   {
    "duration": 182,
    "start_time": "2022-06-05T11:09:13.811Z"
   },
   {
    "duration": 323,
    "start_time": "2022-06-05T12:52:21.747Z"
   },
   {
    "duration": 227,
    "start_time": "2022-06-05T12:52:53.345Z"
   },
   {
    "duration": 3,
    "start_time": "2022-06-05T13:22:15.488Z"
   },
   {
    "duration": 1065,
    "start_time": "2022-06-05T13:22:15.494Z"
   },
   {
    "duration": 176,
    "start_time": "2022-06-05T13:22:16.560Z"
   },
   {
    "duration": 5,
    "start_time": "2022-06-05T13:22:16.738Z"
   },
   {
    "duration": 76,
    "start_time": "2022-06-05T13:22:16.744Z"
   },
   {
    "duration": 6,
    "start_time": "2022-06-05T13:22:16.821Z"
   },
   {
    "duration": 10,
    "start_time": "2022-06-05T13:22:16.828Z"
   },
   {
    "duration": 24,
    "start_time": "2022-06-05T13:22:16.839Z"
   },
   {
    "duration": 20,
    "start_time": "2022-06-05T13:22:16.865Z"
   },
   {
    "duration": 137,
    "start_time": "2022-06-05T13:22:16.887Z"
   },
   {
    "duration": 121,
    "start_time": "2022-06-05T13:22:17.026Z"
   },
   {
    "duration": 120,
    "start_time": "2022-06-05T13:22:17.151Z"
   },
   {
    "duration": 259,
    "start_time": "2022-06-05T13:22:17.273Z"
   },
   {
    "duration": 217,
    "start_time": "2022-06-05T13:22:17.535Z"
   },
   {
    "duration": 164,
    "start_time": "2022-06-05T13:22:17.754Z"
   },
   {
    "duration": 270,
    "start_time": "2022-06-05T13:22:17.920Z"
   },
   {
    "duration": 248,
    "start_time": "2022-06-05T13:22:18.192Z"
   },
   {
    "duration": 1573,
    "start_time": "2022-06-05T13:22:18.441Z"
   },
   {
    "duration": 794,
    "start_time": "2022-06-05T13:22:20.016Z"
   },
   {
    "duration": 3,
    "start_time": "2022-06-05T13:22:20.812Z"
   },
   {
    "duration": 2181,
    "start_time": "2022-06-05T13:22:20.817Z"
   },
   {
    "duration": 195,
    "start_time": "2022-06-05T13:22:23.000Z"
   },
   {
    "duration": 244,
    "start_time": "2022-06-05T13:22:23.197Z"
   },
   {
    "duration": 30,
    "start_time": "2022-06-05T13:22:23.445Z"
   },
   {
    "duration": 13,
    "start_time": "2022-06-05T13:22:23.477Z"
   },
   {
    "duration": 19,
    "start_time": "2022-06-05T13:22:23.491Z"
   },
   {
    "duration": 18,
    "start_time": "2022-06-05T13:22:23.512Z"
   },
   {
    "duration": 37,
    "start_time": "2022-06-05T13:22:23.532Z"
   },
   {
    "duration": 9,
    "start_time": "2022-06-05T13:22:23.574Z"
   },
   {
    "duration": 15,
    "start_time": "2022-06-05T13:22:23.585Z"
   },
   {
    "duration": 16,
    "start_time": "2022-06-05T13:22:23.602Z"
   },
   {
    "duration": 36,
    "start_time": "2022-06-05T13:22:23.620Z"
   },
   {
    "duration": 34,
    "start_time": "2022-06-05T13:22:23.658Z"
   },
   {
    "duration": 233,
    "start_time": "2022-06-05T13:22:23.693Z"
   },
   {
    "duration": 247,
    "start_time": "2022-06-05T13:22:23.928Z"
   },
   {
    "duration": 228,
    "start_time": "2022-06-05T13:22:24.177Z"
   },
   {
    "duration": 134,
    "start_time": "2022-06-05T13:22:24.407Z"
   },
   {
    "duration": 212,
    "start_time": "2022-06-05T13:22:24.551Z"
   },
   {
    "duration": 10,
    "start_time": "2022-06-05T13:22:24.764Z"
   },
   {
    "duration": 5,
    "start_time": "2022-06-05T13:22:24.776Z"
   },
   {
    "duration": 195,
    "start_time": "2022-06-05T13:22:24.783Z"
   },
   {
    "duration": 221,
    "start_time": "2022-06-05T13:22:24.979Z"
   },
   {
    "duration": 1571,
    "start_time": "2022-08-14T14:33:12.961Z"
   },
   {
    "duration": 1286,
    "start_time": "2022-08-14T14:33:14.535Z"
   },
   {
    "duration": 196,
    "start_time": "2022-08-14T14:33:15.823Z"
   },
   {
    "duration": 7,
    "start_time": "2022-08-14T14:33:16.021Z"
   },
   {
    "duration": 152,
    "start_time": "2022-08-14T14:33:16.029Z"
   },
   {
    "duration": 6,
    "start_time": "2022-08-14T14:33:16.183Z"
   },
   {
    "duration": 14,
    "start_time": "2022-08-14T14:33:16.191Z"
   },
   {
    "duration": 28,
    "start_time": "2022-08-14T14:33:16.207Z"
   },
   {
    "duration": 25,
    "start_time": "2022-08-14T14:33:16.236Z"
   },
   {
    "duration": 185,
    "start_time": "2022-08-14T14:33:16.264Z"
   },
   {
    "duration": 133,
    "start_time": "2022-08-14T14:33:16.451Z"
   },
   {
    "duration": 134,
    "start_time": "2022-08-14T14:33:16.591Z"
   },
   {
    "duration": 283,
    "start_time": "2022-08-14T14:33:16.726Z"
   },
   {
    "duration": 210,
    "start_time": "2022-08-14T14:33:17.011Z"
   },
   {
    "duration": 187,
    "start_time": "2022-08-14T14:33:17.222Z"
   },
   {
    "duration": 284,
    "start_time": "2022-08-14T14:33:17.411Z"
   },
   {
    "duration": 367,
    "start_time": "2022-08-14T14:33:17.697Z"
   },
   {
    "duration": 1755,
    "start_time": "2022-08-14T14:33:18.066Z"
   },
   {
    "duration": 925,
    "start_time": "2022-08-14T14:33:19.823Z"
   },
   {
    "duration": 4,
    "start_time": "2022-08-14T14:33:20.751Z"
   },
   {
    "duration": 2403,
    "start_time": "2022-08-14T14:33:20.758Z"
   },
   {
    "duration": 211,
    "start_time": "2022-08-14T14:33:23.164Z"
   },
   {
    "duration": 288,
    "start_time": "2022-08-14T14:33:23.378Z"
   },
   {
    "duration": 27,
    "start_time": "2022-08-14T14:33:23.668Z"
   },
   {
    "duration": 21,
    "start_time": "2022-08-14T14:33:23.697Z"
   },
   {
    "duration": 18,
    "start_time": "2022-08-14T14:33:23.720Z"
   },
   {
    "duration": 22,
    "start_time": "2022-08-14T14:33:23.740Z"
   },
   {
    "duration": 44,
    "start_time": "2022-08-14T14:33:23.766Z"
   },
   {
    "duration": 8,
    "start_time": "2022-08-14T14:33:23.812Z"
   },
   {
    "duration": 29,
    "start_time": "2022-08-14T14:33:23.822Z"
   },
   {
    "duration": 18,
    "start_time": "2022-08-14T14:33:23.853Z"
   },
   {
    "duration": 30,
    "start_time": "2022-08-14T14:33:23.873Z"
   },
   {
    "duration": 48,
    "start_time": "2022-08-14T14:33:23.906Z"
   },
   {
    "duration": 273,
    "start_time": "2022-08-14T14:33:23.957Z"
   },
   {
    "duration": 280,
    "start_time": "2022-08-14T14:33:24.232Z"
   },
   {
    "duration": 272,
    "start_time": "2022-08-14T14:33:24.515Z"
   },
   {
    "duration": 173,
    "start_time": "2022-08-14T14:33:24.792Z"
   },
   {
    "duration": 244,
    "start_time": "2022-08-14T14:33:24.967Z"
   },
   {
    "duration": 13,
    "start_time": "2022-08-14T14:33:25.212Z"
   },
   {
    "duration": 14,
    "start_time": "2022-08-14T14:33:25.227Z"
   },
   {
    "duration": 394,
    "start_time": "2022-08-14T14:33:25.243Z"
   },
   {
    "duration": 239,
    "start_time": "2022-08-14T14:33:25.639Z"
   },
   {
    "duration": 75,
    "start_time": "2022-08-14T14:41:08.944Z"
   },
   {
    "duration": 31,
    "start_time": "2022-08-14T14:41:37.451Z"
   },
   {
    "duration": 28,
    "start_time": "2022-08-14T14:41:48.028Z"
   },
   {
    "duration": 1260,
    "start_time": "2022-08-14T17:42:16.789Z"
   },
   {
    "duration": 1217,
    "start_time": "2022-08-14T17:42:18.051Z"
   },
   {
    "duration": 179,
    "start_time": "2022-08-14T17:42:19.270Z"
   },
   {
    "duration": 14,
    "start_time": "2022-08-14T17:42:19.451Z"
   },
   {
    "duration": 10,
    "start_time": "2022-08-14T17:42:19.467Z"
   },
   {
    "duration": 267,
    "start_time": "2022-08-14T17:42:19.478Z"
   },
   {
    "duration": 4,
    "start_time": "2022-08-14T17:42:19.747Z"
   },
   {
    "duration": 60,
    "start_time": "2022-08-14T17:42:19.753Z"
   },
   {
    "duration": 27,
    "start_time": "2022-08-14T17:42:19.814Z"
   },
   {
    "duration": 19,
    "start_time": "2022-08-14T17:42:19.844Z"
   },
   {
    "duration": 144,
    "start_time": "2022-08-14T17:42:19.865Z"
   },
   {
    "duration": 123,
    "start_time": "2022-08-14T17:42:20.011Z"
   },
   {
    "duration": 231,
    "start_time": "2022-08-14T17:42:20.137Z"
   },
   {
    "duration": 191,
    "start_time": "2022-08-14T17:42:20.370Z"
   },
   {
    "duration": 149,
    "start_time": "2022-08-14T17:42:20.563Z"
   },
   {
    "duration": 232,
    "start_time": "2022-08-14T17:42:20.713Z"
   },
   {
    "duration": 202,
    "start_time": "2022-08-14T17:42:20.947Z"
   },
   {
    "duration": 1443,
    "start_time": "2022-08-14T17:42:21.156Z"
   },
   {
    "duration": 709,
    "start_time": "2022-08-14T17:42:22.600Z"
   },
   {
    "duration": 4,
    "start_time": "2022-08-14T17:42:23.311Z"
   },
   {
    "duration": 2044,
    "start_time": "2022-08-14T17:42:23.316Z"
   },
   {
    "duration": 177,
    "start_time": "2022-08-14T17:42:25.363Z"
   },
   {
    "duration": 266,
    "start_time": "2022-08-14T17:42:25.542Z"
   },
   {
    "duration": 26,
    "start_time": "2022-08-14T17:42:25.810Z"
   },
   {
    "duration": 30,
    "start_time": "2022-08-14T17:42:25.838Z"
   },
   {
    "duration": 19,
    "start_time": "2022-08-14T17:42:25.870Z"
   },
   {
    "duration": 32,
    "start_time": "2022-08-14T17:42:25.890Z"
   },
   {
    "duration": 6,
    "start_time": "2022-08-14T17:42:25.926Z"
   },
   {
    "duration": 33,
    "start_time": "2022-08-14T17:42:25.934Z"
   },
   {
    "duration": 15,
    "start_time": "2022-08-14T17:42:25.969Z"
   },
   {
    "duration": 11,
    "start_time": "2022-08-14T17:42:25.985Z"
   },
   {
    "duration": 26,
    "start_time": "2022-08-14T17:42:25.998Z"
   },
   {
    "duration": 242,
    "start_time": "2022-08-14T17:42:26.025Z"
   },
   {
    "duration": 223,
    "start_time": "2022-08-14T17:42:26.270Z"
   },
   {
    "duration": 213,
    "start_time": "2022-08-14T17:42:26.495Z"
   },
   {
    "duration": 150,
    "start_time": "2022-08-14T17:42:26.710Z"
   },
   {
    "duration": 200,
    "start_time": "2022-08-14T17:42:26.861Z"
   },
   {
    "duration": 10,
    "start_time": "2022-08-14T17:42:27.063Z"
   },
   {
    "duration": 8,
    "start_time": "2022-08-14T17:42:27.075Z"
   },
   {
    "duration": 197,
    "start_time": "2022-08-14T17:42:27.085Z"
   },
   {
    "duration": 221,
    "start_time": "2022-08-14T17:42:27.284Z"
   },
   {
    "duration": 9,
    "start_time": "2022-08-14T17:43:03.596Z"
   },
   {
    "duration": 8,
    "start_time": "2022-08-14T17:43:11.158Z"
   },
   {
    "duration": 9,
    "start_time": "2022-08-14T17:43:17.903Z"
   },
   {
    "duration": 1118,
    "start_time": "2022-08-14T17:43:26.591Z"
   },
   {
    "duration": 1081,
    "start_time": "2022-08-14T17:43:27.711Z"
   },
   {
    "duration": 151,
    "start_time": "2022-08-14T17:43:28.793Z"
   },
   {
    "duration": 13,
    "start_time": "2022-08-14T17:43:28.946Z"
   },
   {
    "duration": 6,
    "start_time": "2022-08-14T17:43:28.961Z"
   },
   {
    "duration": 9,
    "start_time": "2022-08-14T17:43:28.969Z"
   },
   {
    "duration": 75,
    "start_time": "2022-08-14T17:43:28.979Z"
   },
   {
    "duration": 5,
    "start_time": "2022-08-14T17:43:29.055Z"
   },
   {
    "duration": 18,
    "start_time": "2022-08-14T17:43:29.062Z"
   },
   {
    "duration": 23,
    "start_time": "2022-08-14T17:43:29.082Z"
   },
   {
    "duration": 19,
    "start_time": "2022-08-14T17:43:29.107Z"
   },
   {
    "duration": 155,
    "start_time": "2022-08-14T17:43:29.127Z"
   },
   {
    "duration": 117,
    "start_time": "2022-08-14T17:43:29.284Z"
   },
   {
    "duration": 232,
    "start_time": "2022-08-14T17:43:29.403Z"
   },
   {
    "duration": 184,
    "start_time": "2022-08-14T17:43:29.637Z"
   },
   {
    "duration": 147,
    "start_time": "2022-08-14T17:43:29.823Z"
   },
   {
    "duration": 242,
    "start_time": "2022-08-14T17:43:29.972Z"
   },
   {
    "duration": 208,
    "start_time": "2022-08-14T17:43:30.216Z"
   },
   {
    "duration": 1434,
    "start_time": "2022-08-14T17:43:30.426Z"
   },
   {
    "duration": 726,
    "start_time": "2022-08-14T17:43:31.862Z"
   },
   {
    "duration": 4,
    "start_time": "2022-08-14T17:43:32.589Z"
   },
   {
    "duration": 1899,
    "start_time": "2022-08-14T17:43:32.595Z"
   },
   {
    "duration": 182,
    "start_time": "2022-08-14T17:43:34.496Z"
   },
   {
    "duration": 244,
    "start_time": "2022-08-14T17:43:34.680Z"
   },
   {
    "duration": 18,
    "start_time": "2022-08-14T17:43:34.926Z"
   },
   {
    "duration": 37,
    "start_time": "2022-08-14T17:43:34.946Z"
   },
   {
    "duration": 20,
    "start_time": "2022-08-14T17:43:34.984Z"
   },
   {
    "duration": 23,
    "start_time": "2022-08-14T17:43:35.007Z"
   },
   {
    "duration": 7,
    "start_time": "2022-08-14T17:43:35.032Z"
   },
   {
    "duration": 22,
    "start_time": "2022-08-14T17:43:35.041Z"
   },
   {
    "duration": 15,
    "start_time": "2022-08-14T17:43:35.065Z"
   },
   {
    "duration": 10,
    "start_time": "2022-08-14T17:43:35.082Z"
   },
   {
    "duration": 26,
    "start_time": "2022-08-14T17:43:35.094Z"
   },
   {
    "duration": 341,
    "start_time": "2022-08-14T17:43:35.122Z"
   },
   {
    "duration": 255,
    "start_time": "2022-08-14T17:43:35.466Z"
   },
   {
    "duration": 253,
    "start_time": "2022-08-14T17:43:35.722Z"
   },
   {
    "duration": 154,
    "start_time": "2022-08-14T17:43:35.976Z"
   },
   {
    "duration": 236,
    "start_time": "2022-08-14T17:43:36.132Z"
   },
   {
    "duration": 12,
    "start_time": "2022-08-14T17:43:36.370Z"
   },
   {
    "duration": 15,
    "start_time": "2022-08-14T17:43:36.384Z"
   },
   {
    "duration": 204,
    "start_time": "2022-08-14T17:43:36.401Z"
   },
   {
    "duration": 223,
    "start_time": "2022-08-14T17:43:36.607Z"
   }
  ],
  "kernelspec": {
   "display_name": "Python 3 (ipykernel)",
   "language": "python",
   "name": "python3"
  },
  "language_info": {
   "codemirror_mode": {
    "name": "ipython",
    "version": 3
   },
   "file_extension": ".py",
   "mimetype": "text/x-python",
   "name": "python",
   "nbconvert_exporter": "python",
   "pygments_lexer": "ipython3",
   "version": "3.9.5"
  },
  "toc": {
   "base_numbering": 1,
   "nav_menu": {},
   "number_sections": true,
   "sideBar": true,
   "skip_h1_title": true,
   "title_cell": "Содержание",
   "title_sidebar": "Contents",
   "toc_cell": true,
   "toc_position": {},
   "toc_section_display": true,
   "toc_window_display": true
  }
 },
 "nbformat": 4,
 "nbformat_minor": 2
}
