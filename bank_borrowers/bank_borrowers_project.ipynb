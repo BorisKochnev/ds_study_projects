{
 "cells": [
  {
   "cell_type": "markdown",
   "id": "e89e3b5a",
   "metadata": {},
   "source": [
    "# Исследование надежности заемщиков"
   ]
  },
  {
   "cell_type": "markdown",
   "id": "1c062800",
   "metadata": {},
   "source": [
    "<strong>Описание проекта</strong>:\n",
    "перед построением модели кредитного скоринга коллеги попросили исследовать датасет надежности заёмщиков. Исследование должно ответить на вопрос, какие показатели влияют на на погашение кредита в установленный срок"
   ]
  },
  {
   "cell_type": "markdown",
   "id": "3a4970ba",
   "metadata": {},
   "source": [
    "<strong>Цель проекта:</strong> Выяснить, как семейное положение и наличие детей влияет на погашение кредита в срок. Выявить инсайты, полезные для отдела кредитного скоринга."
   ]
  },
  {
   "cell_type": "markdown",
   "id": "083b45e9",
   "metadata": {
    "toc": true
   },
   "source": [
    "<h1>Содержание<span class=\"tocSkip\"></span></h1>\n",
    "<div class=\"toc\"><ul class=\"toc-item\"><li><span><a href=\"#Шаг-1.-Обзор-данных\" data-toc-modified-id=\"Шаг-1.-Обзор-данных-1\"><span class=\"toc-item-num\">1&nbsp;&nbsp;</span>Шаг 1. Обзор данных</a></span></li><li><span><a href=\"#Шаг-2.-Предобработка-данных\" data-toc-modified-id=\"Шаг-2.-Предобработка-данных-2\"><span class=\"toc-item-num\">2&nbsp;&nbsp;</span>Шаг 2. Предобработка данных</a></span><ul class=\"toc-item\"><li><span><a href=\"#Шаг-2.1-Проверка-данных-на-аномалии-и-исправления\" data-toc-modified-id=\"Шаг-2.1-Проверка-данных-на-аномалии-и-исправления-2.1\"><span class=\"toc-item-num\">2.1&nbsp;&nbsp;</span>Шаг 2.1 Проверка данных на аномалии и исправления</a></span></li><li><span><a href=\"#Шаг-2.2-Заполнение-пропусков\" data-toc-modified-id=\"Шаг-2.2-Заполнение-пропусков-2.2\"><span class=\"toc-item-num\">2.2&nbsp;&nbsp;</span>Шаг 2.2 Заполнение пропусков</a></span></li><li><span><a href=\"#Шаг-2.3.-Изменение-типов-данных\" data-toc-modified-id=\"Шаг-2.3.-Изменение-типов-данных-2.3\"><span class=\"toc-item-num\">2.3&nbsp;&nbsp;</span>Шаг 2.3. Изменение типов данных</a></span></li><li><span><a href=\"#Шаг-2.4.-Удаление-дубликатов\" data-toc-modified-id=\"Шаг-2.4.-Удаление-дубликатов-2.4\"><span class=\"toc-item-num\">2.4&nbsp;&nbsp;</span>Шаг 2.4. Удаление дубликатов</a></span></li><li><span><a href=\"#Шаг-2.5.-Формирование-дополнительных-датафреймов-словарей,-декомпозиция-исходного-датафрейма\" data-toc-modified-id=\"Шаг-2.5.-Формирование-дополнительных-датафреймов-словарей,-декомпозиция-исходного-датафрейма-2.5\"><span class=\"toc-item-num\">2.5&nbsp;&nbsp;</span>Шаг 2.5. Формирование дополнительных датафреймов словарей, декомпозиция исходного датафрейма</a></span></li><li><span><a href=\"#Шаг-2.6.-Категоризация-дохода\" data-toc-modified-id=\"Шаг-2.6.-Категоризация-дохода-2.6\"><span class=\"toc-item-num\">2.6&nbsp;&nbsp;</span>Шаг 2.6. Категоризация дохода</a></span></li><li><span><a href=\"#Шаг-2.7.-Категоризация-целей-кредита\" data-toc-modified-id=\"Шаг-2.7.-Категоризация-целей-кредита-2.7\"><span class=\"toc-item-num\">2.7&nbsp;&nbsp;</span>Шаг 2.7. Категоризация целей кредита</a></span></li></ul></li><li><span><a href=\"#Шаг-3.-Анализ-данных\" data-toc-modified-id=\"Шаг-3.-Анализ-данных-3\"><span class=\"toc-item-num\">3&nbsp;&nbsp;</span>Шаг 3. Анализ данных</a></span><ul class=\"toc-item\"><li><span><a href=\"#Вопрос-1:-Есть-ли-зависимость-между-количеством-детей-и-возвратом-кредита-в-срок?\" data-toc-modified-id=\"Вопрос-1:-Есть-ли-зависимость-между-количеством-детей-и-возвратом-кредита-в-срок?-3.1\"><span class=\"toc-item-num\">3.1&nbsp;&nbsp;</span>Вопрос 1: Есть ли зависимость между количеством детей и возвратом кредита в срок?</a></span></li><li><span><a href=\"#Вопрос-2:-Есть-ли-зависимость-между-семейным-положением-и-возвратом-кредита-в-срок?\" data-toc-modified-id=\"Вопрос-2:-Есть-ли-зависимость-между-семейным-положением-и-возвратом-кредита-в-срок?-3.2\"><span class=\"toc-item-num\">3.2&nbsp;&nbsp;</span>Вопрос 2: Есть ли зависимость между семейным положением и возвратом кредита в срок?</a></span></li><li><span><a href=\"#Вопрос-3:-Есть-ли-зависимость-между-уровнем-дохода-и-возвратом-кредита-в-срок?\" data-toc-modified-id=\"Вопрос-3:-Есть-ли-зависимость-между-уровнем-дохода-и-возвратом-кредита-в-срок?-3.3\"><span class=\"toc-item-num\">3.3&nbsp;&nbsp;</span>Вопрос 3: Есть ли зависимость между уровнем дохода и возвратом кредита в срок?</a></span></li><li><span><a href=\"#Вопрос-4:-Как-разные-цели-кредита-влияют-на-его-возврат-в-срок?\" data-toc-modified-id=\"Вопрос-4:-Как-разные-цели-кредита-влияют-на-его-возврат-в-срок?-3.4\"><span class=\"toc-item-num\">3.4&nbsp;&nbsp;</span>Вопрос 4: Как разные цели кредита влияют на его возврат в срок?</a></span></li></ul></li><li><span><a href=\"#Шаг-4.-Общий-вывод\" data-toc-modified-id=\"Шаг-4.-Общий-вывод-4\"><span class=\"toc-item-num\">4&nbsp;&nbsp;</span>Шаг 4. Общий вывод</a></span></li></ul></div>"
   ]
  },
  {
   "cell_type": "markdown",
   "id": "aa6c67c2",
   "metadata": {},
   "source": [
    "### Шаг 1. Обзор данных"
   ]
  },
  {
   "cell_type": "code",
   "execution_count": 1,
   "id": "f78eb393",
   "metadata": {
    "scrolled": true
   },
   "outputs": [],
   "source": [
    "import pandas as pd\n",
    "import warnings\n",
    "import math"
   ]
  },
  {
   "cell_type": "code",
   "execution_count": 2,
   "id": "ecff2f4e",
   "metadata": {
    "scrolled": false
   },
   "outputs": [
    {
     "name": "stdout",
     "output_type": "stream",
     "text": [
      "<class 'pandas.core.frame.DataFrame'>\n",
      "RangeIndex: 21525 entries, 0 to 21524\n",
      "Data columns (total 12 columns):\n",
      " #   Column            Non-Null Count  Dtype  \n",
      "---  ------            --------------  -----  \n",
      " 0   children          21525 non-null  int64  \n",
      " 1   days_employed     19351 non-null  float64\n",
      " 2   dob_years         21525 non-null  int64  \n",
      " 3   education         21525 non-null  object \n",
      " 4   education_id      21525 non-null  int64  \n",
      " 5   family_status     21525 non-null  object \n",
      " 6   family_status_id  21525 non-null  int64  \n",
      " 7   gender            21525 non-null  object \n",
      " 8   income_type       21525 non-null  object \n",
      " 9   debt              21525 non-null  int64  \n",
      " 10  total_income      19351 non-null  float64\n",
      " 11  purpose           21525 non-null  object \n",
      "dtypes: float64(2), int64(5), object(5)\n",
      "memory usage: 2.0+ MB\n"
     ]
    }
   ],
   "source": [
    "df = pd.read_csv('/datasets/data.csv')\n",
    "df.info()"
   ]
  },
  {
   "cell_type": "markdown",
   "id": "52e67575",
   "metadata": {},
   "source": [
    "Итак, в таблице 12 столбцов:\n",
    "* `children` - количество детей в семье\n",
    "* `days_employed` - общий трудовой стаж в днях\n",
    "* `dob_years` - возраст клиента в годах\n",
    "* `education` - уровень образования клиента\n",
    "* `education_id` - id уровня образования\n",
    "* `family_status` - семейный статус\n",
    "* `family_status_id` - id семейного статуса\n",
    "* `gender` - пол\n",
    "* `income_type` - тип занятости\n",
    "* `debt` - наличие задолженности по кредиту\n",
    "* `total_income` - совокупный доход\n",
    "* `purpose` - цель кредита\n",
    "\n",
    "В данных есть неточности:\n",
    "* В колонках `days_employed` и `total_income` есть пропущенные значения null\n",
    "* В `days_employed` вещественный формат числа, хотя ожидается целочисленный\n",
    "* Количество значения null в столбцах `days_employed` и `total_income` совпадает\n",
    "\n",
    "Проверим гипотезу о том, что для всех пользователей с неизвестным стажем работы также неизвестен и доход"
   ]
  },
  {
   "cell_type": "code",
   "execution_count": 3,
   "id": "4b2c4e30",
   "metadata": {},
   "outputs": [
    {
     "data": {
      "text/plain": [
       "(2174, 12)"
      ]
     },
     "execution_count": 3,
     "metadata": {},
     "output_type": "execute_result"
    }
   ],
   "source": [
    "null_strings = df[(df['days_employed'].isna())&(df['total_income'].isna())]\n",
    "null_strings.shape"
   ]
  },
  {
   "cell_type": "markdown",
   "id": "56256d14",
   "metadata": {},
   "source": [
    "Гипотеза подтвердилась: для всех пользователей с неизвестным стажем работы также неизвестны значения дохода"
   ]
  },
  {
   "cell_type": "markdown",
   "id": "ab28cc19",
   "metadata": {},
   "source": [
    "### Шаг 2. Предобработка данных"
   ]
  },
  {
   "cell_type": "markdown",
   "id": "acd771ee",
   "metadata": {},
   "source": [
    "#### Шаг 2.1 Проверка данных на аномалии и исправления"
   ]
  },
  {
   "cell_type": "markdown",
   "id": "60f28a62",
   "metadata": {},
   "source": [
    "Для того, чтобы оценить аномалии в данных, найдем максимальные и минимальные значения количественных переменных. Для этого создадим функцию, к которой вернемся для перепровеки данных после замены аномалий"
   ]
  },
  {
   "cell_type": "code",
   "execution_count": 4,
   "id": "31d9c4aa",
   "metadata": {
    "scrolled": false
   },
   "outputs": [
    {
     "data": {
      "text/html": [
       "<div>\n",
       "<style scoped>\n",
       "    .dataframe tbody tr th:only-of-type {\n",
       "        vertical-align: middle;\n",
       "    }\n",
       "\n",
       "    .dataframe tbody tr th {\n",
       "        vertical-align: top;\n",
       "    }\n",
       "\n",
       "    .dataframe thead th {\n",
       "        text-align: right;\n",
       "    }\n",
       "</style>\n",
       "<table border=\"1\" class=\"dataframe\">\n",
       "  <thead>\n",
       "    <tr style=\"text-align: right;\">\n",
       "      <th></th>\n",
       "      <th>children</th>\n",
       "      <th>days_employed</th>\n",
       "      <th>dob_years</th>\n",
       "      <th>debt</th>\n",
       "      <th>total_income</th>\n",
       "    </tr>\n",
       "  </thead>\n",
       "  <tbody>\n",
       "    <tr>\n",
       "      <th>min</th>\n",
       "      <td>-1</td>\n",
       "      <td>-18388</td>\n",
       "      <td>0</td>\n",
       "      <td>0</td>\n",
       "      <td>20667</td>\n",
       "    </tr>\n",
       "    <tr>\n",
       "      <th>max</th>\n",
       "      <td>20</td>\n",
       "      <td>401755</td>\n",
       "      <td>75</td>\n",
       "      <td>1</td>\n",
       "      <td>2265604</td>\n",
       "    </tr>\n",
       "  </tbody>\n",
       "</table>\n",
       "</div>"
      ],
      "text/plain": [
       "     children  days_employed  dob_years  debt  total_income\n",
       "min        -1         -18388          0     0         20667\n",
       "max        20         401755         75     1       2265604"
      ]
     },
     "execution_count": 4,
     "metadata": {},
     "output_type": "execute_result"
    }
   ],
   "source": [
    "df[['children', 'days_employed', 'dob_years', 'debt', 'total_income']].describe().loc[['min', 'max']].astype('int')"
   ]
  },
  {
   "cell_type": "markdown",
   "id": "4272bb97",
   "metadata": {},
   "source": [
    "В данных можно заметить следующие ошибки:\n",
    "* в столбце `children` есть строки или строка с отрицательным количеством детей\n",
    "* в столбце `children` есть строки или строка с подозрительным большим количеством детей\n",
    "* в столбце `days_employed` есть строки или строка с отрицательным количеством дней трудового стажа\n",
    "* в столбце `days_employed` есть строки или строка с аномально высоким количеством дней трудового стажа\n",
    "* в столбце `dob_years` есть строки или строка с возрастом 0"
   ]
  },
  {
   "cell_type": "markdown",
   "id": "50612ac4",
   "metadata": {},
   "source": [
    "Начнем со столбца `children`. Для того, чтобы оценить масштаб ошибки, проверим, какие значения в столбце `children` встречаются чаще всего"
   ]
  },
  {
   "cell_type": "code",
   "execution_count": 5,
   "id": "8aea4377",
   "metadata": {
    "scrolled": false
   },
   "outputs": [
    {
     "data": {
      "text/plain": [
       " 0     14149\n",
       " 1      4818\n",
       " 2      2055\n",
       " 3       330\n",
       " 20       76\n",
       "-1        47\n",
       " 4        41\n",
       " 5         9\n",
       "Name: children, dtype: int64"
      ]
     },
     "execution_count": 5,
     "metadata": {},
     "output_type": "execute_result"
    }
   ],
   "source": [
    "df['children'].value_counts()"
   ]
  },
  {
   "cell_type": "markdown",
   "id": "49aaf3b9",
   "metadata": {},
   "source": [
    "В сгруппированных значениях можно увидеть, что:\n",
    "* Клиентов с отрицательным количеством детей не так много\n",
    "* Клиенты с 20-ю детьми выбиваются из общей статистики. В теории они могут встречаться в жизни, однако их должно быть существенно меньше, чем клиентов с 4-мя или 5-ю детьми\n",
    "\n",
    "Можно сделать предположение, что значения `-1` - это данные, введенные с дефисом, а `20` детей - это лишний `ноль`, подразумевающий `2` ребенка в семье. Для подтверждения гипотезы можно сравнить медианный возраст клиентов с `одним` ребенком с медианным возрастом клиентов, указавших значение `-1`\n",
    "\n",
    "Затем аналогичное повторить со второй ошибкой"
   ]
  },
  {
   "cell_type": "markdown",
   "id": "f46e3c7c",
   "metadata": {},
   "source": [
    "Перед проверкой гипотезы нужно разобраться с некорректным возрастом, чтобы тот не повлиял на выводы. Посчитаем уникальные  с возрастом:"
   ]
  },
  {
   "cell_type": "code",
   "execution_count": 6,
   "id": "e84dae02",
   "metadata": {},
   "outputs": [
    {
     "data": {
      "text/plain": [
       "array([42, 36, 33, 32, 53, 27, 43, 50, 35, 41, 40, 65, 54, 56, 26, 48, 24,\n",
       "       21, 57, 67, 28, 63, 62, 47, 34, 68, 25, 31, 30, 20, 49, 37, 45, 61,\n",
       "       64, 44, 52, 46, 23, 38, 39, 51,  0, 59, 29, 60, 55, 58, 71, 22, 73,\n",
       "       66, 69, 19, 72, 70, 74, 75])"
      ]
     },
     "execution_count": 6,
     "metadata": {},
     "output_type": "execute_result"
    }
   ],
   "source": [
    "df['dob_years'].unique()"
   ]
  },
  {
   "cell_type": "markdown",
   "id": "b51f7bee",
   "metadata": {},
   "source": [
    "На лицо техническая ошибка. Возможно, данные null были заменены на 0. Дополнительно стоит посчитать, сколько нулевых значений есть в фрейме:"
   ]
  },
  {
   "cell_type": "code",
   "execution_count": 7,
   "id": "38e50a49",
   "metadata": {},
   "outputs": [
    {
     "data": {
      "text/plain": [
       "101"
      ]
     },
     "execution_count": 7,
     "metadata": {},
     "output_type": "execute_result"
    }
   ],
   "source": [
    "df[df['dob_years'] == 0]['dob_years'].count()"
   ]
  },
  {
   "cell_type": "markdown",
   "id": "9350a7e7",
   "metadata": {},
   "source": [
    "В целом, немного, поэтому мы можем просто заменить такие значения на средние или медианные. В данном случае воспользуемся медианой и не забудем сохранить целочисленный формат"
   ]
  },
  {
   "cell_type": "code",
   "execution_count": 8,
   "id": "5581f691",
   "metadata": {
    "scrolled": true
   },
   "outputs": [],
   "source": [
    "years_median = df.loc[df['dob_years'] != 0, 'dob_years'].median()\n",
    "df.loc[df['dob_years'] == 0, 'dob_years'] = years_median.astype('int')"
   ]
  },
  {
   "cell_type": "markdown",
   "id": "468f87b0",
   "metadata": {},
   "source": [
    "После того, как в столбце `dob_years` не осталось ошибок, можем перейти к проверке гипотезы о человеческом факторе ошибок в столбце `children`. Для этого создадим функцию, которая возвращает медианный возраст клиента в зависимости от количества детей в семье.\n",
    "\n",
    "Затем можно передать все уникальные значения столбца `children` созданной функции через цикл. Так мы сможем понять медианный возраст клиентов в зависимости от того, сколько детей в семье они указали"
   ]
  },
  {
   "cell_type": "code",
   "execution_count": 9,
   "id": "5a9cd411",
   "metadata": {},
   "outputs": [
    {
     "data": {
      "text/html": [
       "<div>\n",
       "<style scoped>\n",
       "    .dataframe tbody tr th:only-of-type {\n",
       "        vertical-align: middle;\n",
       "    }\n",
       "\n",
       "    .dataframe tbody tr th {\n",
       "        vertical-align: top;\n",
       "    }\n",
       "\n",
       "    .dataframe thead th {\n",
       "        text-align: right;\n",
       "    }\n",
       "</style>\n",
       "<table border=\"1\" class=\"dataframe\">\n",
       "  <thead>\n",
       "    <tr style=\"text-align: right;\">\n",
       "      <th></th>\n",
       "      <th>0</th>\n",
       "    </tr>\n",
       "  </thead>\n",
       "  <tbody>\n",
       "    <tr>\n",
       "      <th>1</th>\n",
       "      <td>38</td>\n",
       "    </tr>\n",
       "    <tr>\n",
       "      <th>0</th>\n",
       "      <td>48</td>\n",
       "    </tr>\n",
       "    <tr>\n",
       "      <th>3</th>\n",
       "      <td>36</td>\n",
       "    </tr>\n",
       "    <tr>\n",
       "      <th>2</th>\n",
       "      <td>35</td>\n",
       "    </tr>\n",
       "    <tr>\n",
       "      <th>-1</th>\n",
       "      <td>41</td>\n",
       "    </tr>\n",
       "    <tr>\n",
       "      <th>4</th>\n",
       "      <td>35</td>\n",
       "    </tr>\n",
       "    <tr>\n",
       "      <th>20</th>\n",
       "      <td>42</td>\n",
       "    </tr>\n",
       "    <tr>\n",
       "      <th>5</th>\n",
       "      <td>36</td>\n",
       "    </tr>\n",
       "  </tbody>\n",
       "</table>\n",
       "</div>"
      ],
      "text/plain": [
       "      0\n",
       " 1   38\n",
       " 0   48\n",
       " 3   36\n",
       " 2   35\n",
       "-1   41\n",
       " 4   35\n",
       " 20  42\n",
       " 5   36"
      ]
     },
     "execution_count": 9,
     "metadata": {},
     "output_type": "execute_result"
    }
   ],
   "source": [
    "def parent_age(children):\n",
    "    return df[(df['children'] == children)]['dob_years'].median().astype('int')\n",
    "\n",
    "children_variety_list = df['children'].unique()\n",
    "age_list = []\n",
    "\n",
    "for number in children_variety_list:\n",
    "    age_list.append(parent_age(number))\n",
    "pd.DataFrame(age_list, index=children_variety_list)"
   ]
  },
  {
   "cell_type": "markdown",
   "id": "208c77c6",
   "metadata": {},
   "source": [
    "Зависимость среднего возраста от наличия детей не раскрыла полной картины, но дала несколько подсказок:\n",
    "* Средний возраст клиентов без детей - `48` лет. Это может означать, что банк просил указывать только несовершеннолетних детей\n",
    "* Медианные возрасты тех, кто указал значения `-1` и `20`, близки друг к другу: `41` и `42` года соответственно\n",
    "* Зависимость количества детей и возраста клиента не явная, но обратная. Прослеживается лишь зависимость возраста и факта наличия/отсутствия детей\n",
    "* Медианные возрасты тех, кто указал `1` ребенка и тех, кто указал `-1` ребенка, не различаются существенно\n",
    "* Медианные возрасты тех, кто указал `2` детей и тех, кто указал `20` детей, существенно различаются\n",
    "\n",
    "Однозначно гипотезу подтвердить не удалось. Ошибочных данных в столбце совсем немного, и вероятно, для клиентов, указавших значения `-1` и `20`, стоит заменить количество детей на медианное значение"
   ]
  },
  {
   "cell_type": "code",
   "execution_count": 10,
   "id": "5971801d",
   "metadata": {},
   "outputs": [],
   "source": [
    "children_median = df.loc[(df['children'] !=-1)&(df['children'] !=20), 'children'].median().astype('int')\n",
    "df.loc[(df['children'] == -1)|(df['children'] == 20), 'children'] = children_median"
   ]
  },
  {
   "cell_type": "markdown",
   "id": "e8b1d552",
   "metadata": {},
   "source": [
    "В столбце `days_employed` также замечены аномалии. Отрицательного трудового стажа не может быть в принципе, а максимальное значение выглядит подозрительно большим:"
   ]
  },
  {
   "cell_type": "code",
   "execution_count": 11,
   "id": "c032a25b",
   "metadata": {},
   "outputs": [
    {
     "data": {
      "text/plain": [
       "'самый долгий трудовой стаж в фрейме: 1099 лет'"
      ]
     },
     "execution_count": 11,
     "metadata": {},
     "output_type": "execute_result"
    }
   ],
   "source": [
    "days_per_year = 365.242196\n",
    "years_employed_max = (df['days_employed'].max() / days_per_year).astype('int')\n",
    "f'самый долгий трудовой стаж в фрейме: {years_employed_max} лет'"
   ]
  },
  {
   "cell_type": "code",
   "execution_count": 12,
   "id": "dad8a21f",
   "metadata": {},
   "outputs": [
    {
     "data": {
      "text/plain": [
       "'отрицательных значений в трудовом стаже: 15906, это 82% от всех значений'"
      ]
     },
     "execution_count": 12,
     "metadata": {},
     "output_type": "execute_result"
    }
   ],
   "source": [
    "days_employed_count = df['days_employed'].count()\n",
    "days_employed_count_error = df[df['days_employed'] < 0]['days_employed'].count()\n",
    "error_share = days_employed_count_error / days_employed_count\n",
    "f'отрицательных значений в трудовом стаже: {days_employed_count_error}, это {error_share:.0%} от всех значений'"
   ]
  },
  {
   "cell_type": "markdown",
   "id": "92195098",
   "metadata": {},
   "source": [
    "Такие значения точно исказят статистику. Пока единственное объяснение искажениям - запись отрицательного числа вместо положительного. Для более подробного изучения отрицательных значений стоит перевести их в более привычный формат - стаж в годах"
   ]
  },
  {
   "cell_type": "code",
   "execution_count": 13,
   "id": "d60aafe9",
   "metadata": {},
   "outputs": [
    {
     "data": {
      "text/html": [
       "<div>\n",
       "<style scoped>\n",
       "    .dataframe tbody tr th:only-of-type {\n",
       "        vertical-align: middle;\n",
       "    }\n",
       "\n",
       "    .dataframe tbody tr th {\n",
       "        vertical-align: top;\n",
       "    }\n",
       "\n",
       "    .dataframe thead th {\n",
       "        text-align: right;\n",
       "    }\n",
       "</style>\n",
       "<table border=\"1\" class=\"dataframe\">\n",
       "  <thead>\n",
       "    <tr style=\"text-align: right;\">\n",
       "      <th></th>\n",
       "      <th>days_employed</th>\n",
       "    </tr>\n",
       "  </thead>\n",
       "  <tbody>\n",
       "    <tr>\n",
       "      <th>-1</th>\n",
       "      <td>2025</td>\n",
       "    </tr>\n",
       "    <tr>\n",
       "      <th>-2</th>\n",
       "      <td>1883</td>\n",
       "    </tr>\n",
       "    <tr>\n",
       "      <th>0</th>\n",
       "      <td>1827</td>\n",
       "    </tr>\n",
       "    <tr>\n",
       "      <th>-3</th>\n",
       "      <td>1559</td>\n",
       "    </tr>\n",
       "    <tr>\n",
       "      <th>-4</th>\n",
       "      <td>1347</td>\n",
       "    </tr>\n",
       "    <tr>\n",
       "      <th>-5</th>\n",
       "      <td>1026</td>\n",
       "    </tr>\n",
       "    <tr>\n",
       "      <th>-6</th>\n",
       "      <td>966</td>\n",
       "    </tr>\n",
       "    <tr>\n",
       "      <th>-7</th>\n",
       "      <td>809</td>\n",
       "    </tr>\n",
       "    <tr>\n",
       "      <th>-8</th>\n",
       "      <td>747</td>\n",
       "    </tr>\n",
       "    <tr>\n",
       "      <th>-9</th>\n",
       "      <td>571</td>\n",
       "    </tr>\n",
       "  </tbody>\n",
       "</table>\n",
       "</div>"
      ],
      "text/plain": [
       "    days_employed\n",
       "-1           2025\n",
       "-2           1883\n",
       " 0           1827\n",
       "-3           1559\n",
       "-4           1347\n",
       "-5           1026\n",
       "-6            966\n",
       "-7            809\n",
       "-8            747\n",
       "-9            571"
      ]
     },
     "execution_count": 13,
     "metadata": {},
     "output_type": "execute_result"
    }
   ],
   "source": [
    "years_employed_error = (df[df['days_employed'] < 0]['days_employed'] / days_per_year).astype('int')\n",
    "pd.DataFrame(data=years_employed_error.value_counts().head(10))"
   ]
  },
  {
   "cell_type": "markdown",
   "id": "536b04fd",
   "metadata": {},
   "source": [
    "Если отбросить \"минус\", данные выглядят правдоподобно:\n",
    "* Чаще всего клиенты имеют 1-2 полных года стажа работы\n",
    "* Реже всего встречаются клиенты со стажем более 30 лет\n",
    "\n",
    "Исправим эту ошибку и уберем минус из отрицательных значений:"
   ]
  },
  {
   "cell_type": "code",
   "execution_count": 14,
   "id": "4cc5eb0e",
   "metadata": {},
   "outputs": [],
   "source": [
    "df['days_employed'] = abs(df['days_employed'])"
   ]
  },
  {
   "cell_type": "markdown",
   "id": "492e6ab7",
   "metadata": {},
   "source": [
    "Теперь стоит проработать аномально высокие значения столбца `days_employed`. Для этого отфильтруем данные только по тем пользователям, стаж которых выше максимального возраста за вычетом нетрудоспособных лет (предположим, что человек может работать с 14-летнего возраста). После фильтрации изучим полученные значения"
   ]
  },
  {
   "cell_type": "code",
   "execution_count": 15,
   "id": "897866b8",
   "metadata": {
    "scrolled": true
   },
   "outputs": [
    {
     "data": {
      "text/html": [
       "<div>\n",
       "<style scoped>\n",
       "    .dataframe tbody tr th:only-of-type {\n",
       "        vertical-align: middle;\n",
       "    }\n",
       "\n",
       "    .dataframe tbody tr th {\n",
       "        vertical-align: top;\n",
       "    }\n",
       "\n",
       "    .dataframe thead th {\n",
       "        text-align: right;\n",
       "    }\n",
       "</style>\n",
       "<table border=\"1\" class=\"dataframe\">\n",
       "  <thead>\n",
       "    <tr style=\"text-align: right;\">\n",
       "      <th></th>\n",
       "      <th>children</th>\n",
       "      <th>days_employed</th>\n",
       "      <th>dob_years</th>\n",
       "      <th>education</th>\n",
       "      <th>education_id</th>\n",
       "      <th>family_status</th>\n",
       "      <th>family_status_id</th>\n",
       "      <th>gender</th>\n",
       "      <th>income_type</th>\n",
       "      <th>debt</th>\n",
       "      <th>total_income</th>\n",
       "      <th>purpose</th>\n",
       "    </tr>\n",
       "  </thead>\n",
       "  <tbody>\n",
       "    <tr>\n",
       "      <th>6954</th>\n",
       "      <td>0</td>\n",
       "      <td>401755.400475</td>\n",
       "      <td>56</td>\n",
       "      <td>среднее</td>\n",
       "      <td>1</td>\n",
       "      <td>вдовец / вдова</td>\n",
       "      <td>2</td>\n",
       "      <td>F</td>\n",
       "      <td>пенсионер</td>\n",
       "      <td>0</td>\n",
       "      <td>176278.441171</td>\n",
       "      <td>ремонт жилью</td>\n",
       "    </tr>\n",
       "    <tr>\n",
       "      <th>10006</th>\n",
       "      <td>0</td>\n",
       "      <td>401715.811749</td>\n",
       "      <td>69</td>\n",
       "      <td>высшее</td>\n",
       "      <td>0</td>\n",
       "      <td>Не женат / не замужем</td>\n",
       "      <td>4</td>\n",
       "      <td>F</td>\n",
       "      <td>пенсионер</td>\n",
       "      <td>0</td>\n",
       "      <td>57390.256908</td>\n",
       "      <td>получение образования</td>\n",
       "    </tr>\n",
       "    <tr>\n",
       "      <th>7664</th>\n",
       "      <td>1</td>\n",
       "      <td>401675.093434</td>\n",
       "      <td>61</td>\n",
       "      <td>среднее</td>\n",
       "      <td>1</td>\n",
       "      <td>женат / замужем</td>\n",
       "      <td>0</td>\n",
       "      <td>F</td>\n",
       "      <td>пенсионер</td>\n",
       "      <td>0</td>\n",
       "      <td>126214.519212</td>\n",
       "      <td>операции с жильем</td>\n",
       "    </tr>\n",
       "    <tr>\n",
       "      <th>2156</th>\n",
       "      <td>0</td>\n",
       "      <td>401674.466633</td>\n",
       "      <td>60</td>\n",
       "      <td>среднее</td>\n",
       "      <td>1</td>\n",
       "      <td>женат / замужем</td>\n",
       "      <td>0</td>\n",
       "      <td>M</td>\n",
       "      <td>пенсионер</td>\n",
       "      <td>0</td>\n",
       "      <td>325395.724541</td>\n",
       "      <td>автомобили</td>\n",
       "    </tr>\n",
       "    <tr>\n",
       "      <th>7794</th>\n",
       "      <td>0</td>\n",
       "      <td>401663.850046</td>\n",
       "      <td>61</td>\n",
       "      <td>среднее</td>\n",
       "      <td>1</td>\n",
       "      <td>гражданский брак</td>\n",
       "      <td>1</td>\n",
       "      <td>F</td>\n",
       "      <td>пенсионер</td>\n",
       "      <td>0</td>\n",
       "      <td>48286.441362</td>\n",
       "      <td>свадьба</td>\n",
       "    </tr>\n",
       "    <tr>\n",
       "      <th>4697</th>\n",
       "      <td>0</td>\n",
       "      <td>401635.032697</td>\n",
       "      <td>56</td>\n",
       "      <td>среднее</td>\n",
       "      <td>1</td>\n",
       "      <td>женат / замужем</td>\n",
       "      <td>0</td>\n",
       "      <td>F</td>\n",
       "      <td>пенсионер</td>\n",
       "      <td>0</td>\n",
       "      <td>48242.322502</td>\n",
       "      <td>покупка недвижимости</td>\n",
       "    </tr>\n",
       "    <tr>\n",
       "      <th>13420</th>\n",
       "      <td>0</td>\n",
       "      <td>401619.633298</td>\n",
       "      <td>63</td>\n",
       "      <td>Среднее</td>\n",
       "      <td>1</td>\n",
       "      <td>гражданский брак</td>\n",
       "      <td>1</td>\n",
       "      <td>F</td>\n",
       "      <td>пенсионер</td>\n",
       "      <td>0</td>\n",
       "      <td>51449.788325</td>\n",
       "      <td>сыграть свадьбу</td>\n",
       "    </tr>\n",
       "    <tr>\n",
       "      <th>17823</th>\n",
       "      <td>0</td>\n",
       "      <td>401614.475622</td>\n",
       "      <td>59</td>\n",
       "      <td>среднее</td>\n",
       "      <td>1</td>\n",
       "      <td>женат / замужем</td>\n",
       "      <td>0</td>\n",
       "      <td>F</td>\n",
       "      <td>пенсионер</td>\n",
       "      <td>0</td>\n",
       "      <td>152769.694536</td>\n",
       "      <td>покупка жилья для сдачи</td>\n",
       "    </tr>\n",
       "    <tr>\n",
       "      <th>10991</th>\n",
       "      <td>0</td>\n",
       "      <td>401591.828457</td>\n",
       "      <td>56</td>\n",
       "      <td>среднее</td>\n",
       "      <td>1</td>\n",
       "      <td>в разводе</td>\n",
       "      <td>3</td>\n",
       "      <td>F</td>\n",
       "      <td>пенсионер</td>\n",
       "      <td>0</td>\n",
       "      <td>39513.517543</td>\n",
       "      <td>получение дополнительного образования</td>\n",
       "    </tr>\n",
       "    <tr>\n",
       "      <th>8369</th>\n",
       "      <td>0</td>\n",
       "      <td>401590.452231</td>\n",
       "      <td>58</td>\n",
       "      <td>среднее</td>\n",
       "      <td>1</td>\n",
       "      <td>женат / замужем</td>\n",
       "      <td>0</td>\n",
       "      <td>F</td>\n",
       "      <td>пенсионер</td>\n",
       "      <td>0</td>\n",
       "      <td>175306.312902</td>\n",
       "      <td>образование</td>\n",
       "    </tr>\n",
       "    <tr>\n",
       "      <th>1184</th>\n",
       "      <td>0</td>\n",
       "      <td>401575.196728</td>\n",
       "      <td>55</td>\n",
       "      <td>среднее</td>\n",
       "      <td>1</td>\n",
       "      <td>гражданский брак</td>\n",
       "      <td>1</td>\n",
       "      <td>M</td>\n",
       "      <td>пенсионер</td>\n",
       "      <td>0</td>\n",
       "      <td>29749.813177</td>\n",
       "      <td>на проведение свадьбы</td>\n",
       "    </tr>\n",
       "    <tr>\n",
       "      <th>4949</th>\n",
       "      <td>0</td>\n",
       "      <td>401573.905288</td>\n",
       "      <td>54</td>\n",
       "      <td>среднее</td>\n",
       "      <td>1</td>\n",
       "      <td>женат / замужем</td>\n",
       "      <td>0</td>\n",
       "      <td>F</td>\n",
       "      <td>пенсионер</td>\n",
       "      <td>0</td>\n",
       "      <td>52927.428675</td>\n",
       "      <td>покупка коммерческой недвижимости</td>\n",
       "    </tr>\n",
       "    <tr>\n",
       "      <th>15192</th>\n",
       "      <td>0</td>\n",
       "      <td>401556.753550</td>\n",
       "      <td>68</td>\n",
       "      <td>Высшее</td>\n",
       "      <td>0</td>\n",
       "      <td>гражданский брак</td>\n",
       "      <td>1</td>\n",
       "      <td>F</td>\n",
       "      <td>пенсионер</td>\n",
       "      <td>0</td>\n",
       "      <td>231820.611741</td>\n",
       "      <td>свадьба</td>\n",
       "    </tr>\n",
       "    <tr>\n",
       "      <th>5716</th>\n",
       "      <td>0</td>\n",
       "      <td>401524.259153</td>\n",
       "      <td>57</td>\n",
       "      <td>среднее</td>\n",
       "      <td>1</td>\n",
       "      <td>вдовец / вдова</td>\n",
       "      <td>2</td>\n",
       "      <td>F</td>\n",
       "      <td>пенсионер</td>\n",
       "      <td>0</td>\n",
       "      <td>143342.778458</td>\n",
       "      <td>приобретение автомобиля</td>\n",
       "    </tr>\n",
       "    <tr>\n",
       "      <th>10484</th>\n",
       "      <td>0</td>\n",
       "      <td>401517.276388</td>\n",
       "      <td>68</td>\n",
       "      <td>среднее</td>\n",
       "      <td>1</td>\n",
       "      <td>женат / замужем</td>\n",
       "      <td>0</td>\n",
       "      <td>F</td>\n",
       "      <td>пенсионер</td>\n",
       "      <td>0</td>\n",
       "      <td>304295.888626</td>\n",
       "      <td>операции с жильем</td>\n",
       "    </tr>\n",
       "    <tr>\n",
       "      <th>16237</th>\n",
       "      <td>0</td>\n",
       "      <td>401486.706746</td>\n",
       "      <td>64</td>\n",
       "      <td>СРЕДНЕЕ</td>\n",
       "      <td>1</td>\n",
       "      <td>женат / замужем</td>\n",
       "      <td>0</td>\n",
       "      <td>F</td>\n",
       "      <td>пенсионер</td>\n",
       "      <td>0</td>\n",
       "      <td>69467.029954</td>\n",
       "      <td>покупка жилья для сдачи</td>\n",
       "    </tr>\n",
       "    <tr>\n",
       "      <th>15599</th>\n",
       "      <td>0</td>\n",
       "      <td>401458.877781</td>\n",
       "      <td>61</td>\n",
       "      <td>среднее</td>\n",
       "      <td>1</td>\n",
       "      <td>гражданский брак</td>\n",
       "      <td>1</td>\n",
       "      <td>F</td>\n",
       "      <td>пенсионер</td>\n",
       "      <td>0</td>\n",
       "      <td>206302.653137</td>\n",
       "      <td>покупка жилой недвижимости</td>\n",
       "    </tr>\n",
       "    <tr>\n",
       "      <th>701</th>\n",
       "      <td>0</td>\n",
       "      <td>401446.446720</td>\n",
       "      <td>56</td>\n",
       "      <td>высшее</td>\n",
       "      <td>0</td>\n",
       "      <td>женат / замужем</td>\n",
       "      <td>0</td>\n",
       "      <td>F</td>\n",
       "      <td>пенсионер</td>\n",
       "      <td>0</td>\n",
       "      <td>207240.041495</td>\n",
       "      <td>покупка жилья для сдачи</td>\n",
       "    </tr>\n",
       "    <tr>\n",
       "      <th>14356</th>\n",
       "      <td>0</td>\n",
       "      <td>401440.834336</td>\n",
       "      <td>62</td>\n",
       "      <td>начальное</td>\n",
       "      <td>3</td>\n",
       "      <td>женат / замужем</td>\n",
       "      <td>0</td>\n",
       "      <td>F</td>\n",
       "      <td>пенсионер</td>\n",
       "      <td>1</td>\n",
       "      <td>284301.643893</td>\n",
       "      <td>автомобиль</td>\n",
       "    </tr>\n",
       "    <tr>\n",
       "      <th>5762</th>\n",
       "      <td>0</td>\n",
       "      <td>401381.736156</td>\n",
       "      <td>52</td>\n",
       "      <td>среднее</td>\n",
       "      <td>1</td>\n",
       "      <td>женат / замужем</td>\n",
       "      <td>0</td>\n",
       "      <td>F</td>\n",
       "      <td>пенсионер</td>\n",
       "      <td>0</td>\n",
       "      <td>44999.213386</td>\n",
       "      <td>строительство жилой недвижимости</td>\n",
       "    </tr>\n",
       "  </tbody>\n",
       "</table>\n",
       "</div>"
      ],
      "text/plain": [
       "       children  days_employed  dob_years  education  education_id  \\\n",
       "6954          0  401755.400475         56    среднее             1   \n",
       "10006         0  401715.811749         69     высшее             0   \n",
       "7664          1  401675.093434         61    среднее             1   \n",
       "2156          0  401674.466633         60    среднее             1   \n",
       "7794          0  401663.850046         61    среднее             1   \n",
       "4697          0  401635.032697         56    среднее             1   \n",
       "13420         0  401619.633298         63    Среднее             1   \n",
       "17823         0  401614.475622         59    среднее             1   \n",
       "10991         0  401591.828457         56    среднее             1   \n",
       "8369          0  401590.452231         58    среднее             1   \n",
       "1184          0  401575.196728         55    среднее             1   \n",
       "4949          0  401573.905288         54    среднее             1   \n",
       "15192         0  401556.753550         68     Высшее             0   \n",
       "5716          0  401524.259153         57    среднее             1   \n",
       "10484         0  401517.276388         68    среднее             1   \n",
       "16237         0  401486.706746         64    СРЕДНЕЕ             1   \n",
       "15599         0  401458.877781         61    среднее             1   \n",
       "701           0  401446.446720         56     высшее             0   \n",
       "14356         0  401440.834336         62  начальное             3   \n",
       "5762          0  401381.736156         52    среднее             1   \n",
       "\n",
       "               family_status  family_status_id gender income_type  debt  \\\n",
       "6954          вдовец / вдова                 2      F   пенсионер     0   \n",
       "10006  Не женат / не замужем                 4      F   пенсионер     0   \n",
       "7664         женат / замужем                 0      F   пенсионер     0   \n",
       "2156         женат / замужем                 0      M   пенсионер     0   \n",
       "7794        гражданский брак                 1      F   пенсионер     0   \n",
       "4697         женат / замужем                 0      F   пенсионер     0   \n",
       "13420       гражданский брак                 1      F   пенсионер     0   \n",
       "17823        женат / замужем                 0      F   пенсионер     0   \n",
       "10991              в разводе                 3      F   пенсионер     0   \n",
       "8369         женат / замужем                 0      F   пенсионер     0   \n",
       "1184        гражданский брак                 1      M   пенсионер     0   \n",
       "4949         женат / замужем                 0      F   пенсионер     0   \n",
       "15192       гражданский брак                 1      F   пенсионер     0   \n",
       "5716          вдовец / вдова                 2      F   пенсионер     0   \n",
       "10484        женат / замужем                 0      F   пенсионер     0   \n",
       "16237        женат / замужем                 0      F   пенсионер     0   \n",
       "15599       гражданский брак                 1      F   пенсионер     0   \n",
       "701          женат / замужем                 0      F   пенсионер     0   \n",
       "14356        женат / замужем                 0      F   пенсионер     1   \n",
       "5762         женат / замужем                 0      F   пенсионер     0   \n",
       "\n",
       "        total_income                                purpose  \n",
       "6954   176278.441171                           ремонт жилью  \n",
       "10006   57390.256908                  получение образования  \n",
       "7664   126214.519212                      операции с жильем  \n",
       "2156   325395.724541                             автомобили  \n",
       "7794    48286.441362                                свадьба  \n",
       "4697    48242.322502                   покупка недвижимости  \n",
       "13420   51449.788325                        сыграть свадьбу  \n",
       "17823  152769.694536                покупка жилья для сдачи  \n",
       "10991   39513.517543  получение дополнительного образования  \n",
       "8369   175306.312902                            образование  \n",
       "1184    29749.813177                  на проведение свадьбы  \n",
       "4949    52927.428675      покупка коммерческой недвижимости  \n",
       "15192  231820.611741                                свадьба  \n",
       "5716   143342.778458                приобретение автомобиля  \n",
       "10484  304295.888626                      операции с жильем  \n",
       "16237   69467.029954                покупка жилья для сдачи  \n",
       "15599  206302.653137             покупка жилой недвижимости  \n",
       "701    207240.041495                покупка жилья для сдачи  \n",
       "14356  284301.643893                             автомобиль  \n",
       "5762    44999.213386       строительство жилой недвижимости  "
      ]
     },
     "execution_count": 15,
     "metadata": {},
     "output_type": "execute_result"
    }
   ],
   "source": [
    "anomaly_employees = df[df['days_employed'] > (df['dob_years'] * days_per_year - 14)]\n",
    "anomaly_employees.sort_values(by='days_employed', ascending=False).head(20)\n"
   ]
  },
  {
   "cell_type": "markdown",
   "id": "bdc16abd",
   "metadata": {},
   "source": [
    "Данные дают следующее представление об аномалии:\n",
    "* Столбец `days_employed` выглядит как представление данных в другом формате. \n",
    "* В выборке все клиенты с аномально высоким стажем работы - пенсионеры (столбец `income_type`)\n",
    "\n",
    "Можно предположить, что такая аномалия связана с типом доходов: пенсионеры не работают, а получают пенсию, поэтому `days_employed` содержит другую информацию. Для начала стоит посчитать, действительно ли проблема с аномально высокими значениями стажа работы касается только пенсионеров"
   ]
  },
  {
   "cell_type": "code",
   "execution_count": 16,
   "id": "1fd33927",
   "metadata": {
    "scrolled": true
   },
   "outputs": [
    {
     "data": {
      "text/plain": [
       "пенсионер      3443\n",
       "безработный       2\n",
       "Name: income_type, dtype: int64"
      ]
     },
     "execution_count": 16,
     "metadata": {},
     "output_type": "execute_result"
    }
   ],
   "source": [
    "anomaly_employees['income_type'].value_counts()"
   ]
  },
  {
   "cell_type": "markdown",
   "id": "57f5c1ec",
   "metadata": {},
   "source": [
    "Да, проблема действительно касается только пенсионеров (и двух безработных клиентов). Здесь нужно учесть логику работы с пенсионерами и безработными:\n",
    "* предусмотрено, что стаж влияет на платежеспособность клиента\n",
    "* стаж пенсионера не может влиять на его платежеспособность. Платежеспособность пенсионера обеспечена не работой, а пенсионными выплатами и иными источниками дохода\n",
    "* стаж безработного также не влияет на его платежеспособность. Платежеспособность безработного обеспечена иными источниками дохода\n",
    "\n",
    "Для удобного использования данных в последующих блоках мы можем заменить все значения для пенсионеров и безработных на медианное значение. Однако при ответе на вопрос, влияет ли стаж работы на выплату, пенсионеры и безработные должны быть исключены из выборки"
   ]
  },
  {
   "cell_type": "code",
   "execution_count": 17,
   "id": "b1b99859",
   "metadata": {},
   "outputs": [],
   "source": [
    "days_employed_median = df[(df['income_type'] != 'пенсионер')&(df['income_type'] != 'безработный')]['days_employed'].median()\n",
    "kaka = df.loc[(df['income_type'] == 'пенсионер')|(df['income_type'] == 'безработный'), 'days_employed'] = days_employed_median"
   ]
  },
  {
   "cell_type": "markdown",
   "id": "db9cdc63",
   "metadata": {},
   "source": [
    "После всех преобразований проверим размах числовых значений в исходном фрейме:"
   ]
  },
  {
   "cell_type": "code",
   "execution_count": 18,
   "id": "f2edadfc",
   "metadata": {},
   "outputs": [
    {
     "data": {
      "text/html": [
       "<div>\n",
       "<style scoped>\n",
       "    .dataframe tbody tr th:only-of-type {\n",
       "        vertical-align: middle;\n",
       "    }\n",
       "\n",
       "    .dataframe tbody tr th {\n",
       "        vertical-align: top;\n",
       "    }\n",
       "\n",
       "    .dataframe thead th {\n",
       "        text-align: right;\n",
       "    }\n",
       "</style>\n",
       "<table border=\"1\" class=\"dataframe\">\n",
       "  <thead>\n",
       "    <tr style=\"text-align: right;\">\n",
       "      <th></th>\n",
       "      <th>children</th>\n",
       "      <th>days_employed</th>\n",
       "      <th>dob_years</th>\n",
       "      <th>debt</th>\n",
       "      <th>total_income</th>\n",
       "    </tr>\n",
       "  </thead>\n",
       "  <tbody>\n",
       "    <tr>\n",
       "      <th>min</th>\n",
       "      <td>0</td>\n",
       "      <td>24</td>\n",
       "      <td>19</td>\n",
       "      <td>0</td>\n",
       "      <td>20667</td>\n",
       "    </tr>\n",
       "    <tr>\n",
       "      <th>max</th>\n",
       "      <td>5</td>\n",
       "      <td>18388</td>\n",
       "      <td>75</td>\n",
       "      <td>1</td>\n",
       "      <td>2265604</td>\n",
       "    </tr>\n",
       "  </tbody>\n",
       "</table>\n",
       "</div>"
      ],
      "text/plain": [
       "     children  days_employed  dob_years  debt  total_income\n",
       "min         0             24         19     0         20667\n",
       "max         5          18388         75     1       2265604"
      ]
     },
     "execution_count": 18,
     "metadata": {},
     "output_type": "execute_result"
    }
   ],
   "source": [
    "df[['children', 'days_employed', 'dob_years', 'debt', 'total_income']].describe().loc[['min', 'max']].astype('int')"
   ]
  },
  {
   "cell_type": "markdown",
   "id": "e5fac9a9",
   "metadata": {},
   "source": [
    "Все аномалии устранены, можно переходить к заполнению пропусков"
   ]
  },
  {
   "cell_type": "code",
   "execution_count": 19,
   "id": "4afc595a",
   "metadata": {},
   "outputs": [
    {
     "data": {
      "text/plain": [
       "18388.949900568383"
      ]
     },
     "execution_count": 19,
     "metadata": {},
     "output_type": "execute_result"
    }
   ],
   "source": [
    "df.days_employed.max()"
   ]
  },
  {
   "cell_type": "markdown",
   "id": "b075646e",
   "metadata": {},
   "source": [
    "#### Шаг 2.2 Заполнение пропусков"
   ]
  },
  {
   "cell_type": "markdown",
   "id": "599fa530",
   "metadata": {
    "scrolled": true
   },
   "source": [
    "Заменим оставшиеся пустые строки медианным значением:"
   ]
  },
  {
   "cell_type": "code",
   "execution_count": 20,
   "id": "8106c22f",
   "metadata": {
    "scrolled": false
   },
   "outputs": [
    {
     "name": "stdout",
     "output_type": "stream",
     "text": [
      "<class 'pandas.core.frame.DataFrame'>\n",
      "RangeIndex: 21525 entries, 0 to 21524\n",
      "Data columns (total 12 columns):\n",
      " #   Column            Non-Null Count  Dtype  \n",
      "---  ------            --------------  -----  \n",
      " 0   children          21525 non-null  int64  \n",
      " 1   days_employed     21525 non-null  float64\n",
      " 2   dob_years         21525 non-null  int64  \n",
      " 3   education         21525 non-null  object \n",
      " 4   education_id      21525 non-null  int64  \n",
      " 5   family_status     21525 non-null  object \n",
      " 6   family_status_id  21525 non-null  int64  \n",
      " 7   gender            21525 non-null  object \n",
      " 8   income_type       21525 non-null  object \n",
      " 9   debt              21525 non-null  int64  \n",
      " 10  total_income      21525 non-null  float64\n",
      " 11  purpose           21525 non-null  object \n",
      "dtypes: float64(2), int64(5), object(5)\n",
      "memory usage: 2.0+ MB\n"
     ]
    }
   ],
   "source": [
    "df['total_income'] = df['total_income'].fillna(df['total_income'].median())\n",
    "df['days_employed'] = df['days_employed'].fillna(df['days_employed'].median())\n",
    "df.info()"
   ]
  },
  {
   "cell_type": "markdown",
   "id": "064a05b0",
   "metadata": {},
   "source": [
    "Для заполнения пропусков была использована функция `.median()`, которая считает медианное значение по столбцу. В отличие от функции среднего значения `.mean()`, медианные значения не будут искажать данные в случае наличия  неравномерного распределения между значениями"
   ]
  },
  {
   "cell_type": "markdown",
   "id": "a8ccc384",
   "metadata": {},
   "source": [
    "#### Шаг 2.3. Изменение типов данных"
   ]
  },
  {
   "cell_type": "markdown",
   "id": "04cef25d",
   "metadata": {},
   "source": [
    "Для дальнейшей работы с таблицей стоит заменить типы данных для следующих столбцов:\n",
    "* `days_employed` - с float64 на int64\n",
    "* `total_income` - с float64 на int64"
   ]
  },
  {
   "cell_type": "code",
   "execution_count": 21,
   "id": "c4473863",
   "metadata": {
    "scrolled": true
   },
   "outputs": [],
   "source": [
    "df['days_employed'] = df['total_income'].astype('int')\n",
    "df['total_income'] = df['total_income'].astype('int')"
   ]
  },
  {
   "cell_type": "markdown",
   "id": "2baa833e",
   "metadata": {},
   "source": [
    "#### Шаг 2.4. Удаление дубликатов"
   ]
  },
  {
   "cell_type": "markdown",
   "id": "54748fd4",
   "metadata": {},
   "source": [
    "Проверим, есть ли в таблице явные дубликаты:"
   ]
  },
  {
   "cell_type": "code",
   "execution_count": 22,
   "id": "60070992",
   "metadata": {},
   "outputs": [
    {
     "data": {
      "text/plain": [
       "54"
      ]
     },
     "execution_count": 22,
     "metadata": {},
     "output_type": "execute_result"
    }
   ],
   "source": [
    "df.duplicated().sum()"
   ]
  },
  {
   "cell_type": "markdown",
   "id": "12470557",
   "metadata": {},
   "source": [
    "Лучше начать удаление от дубликатов с проверки значений столцбов типа `object` на наличие неявных дублей:"
   ]
  },
  {
   "cell_type": "code",
   "execution_count": 23,
   "id": "fefb87dd",
   "metadata": {},
   "outputs": [
    {
     "data": {
      "text/plain": [
       "{'education': [array(['высшее', 'среднее', 'Среднее', 'СРЕДНЕЕ', 'ВЫСШЕЕ',\n",
       "         'неоконченное высшее', 'начальное', 'Высшее',\n",
       "         'НЕОКОНЧЕННОЕ ВЫСШЕЕ', 'Неоконченное высшее', 'НАЧАЛЬНОЕ',\n",
       "         'Начальное', 'Ученая степень', 'УЧЕНАЯ СТЕПЕНЬ', 'ученая степень'],\n",
       "        dtype=object)],\n",
       " 'family_status': [array(['женат / замужем', 'гражданский брак', 'вдовец / вдова',\n",
       "         'в разводе', 'Не женат / не замужем'], dtype=object)],\n",
       " 'gender': [array(['F', 'M', 'XNA'], dtype=object)],\n",
       " 'income_type': [array(['сотрудник', 'пенсионер', 'компаньон', 'госслужащий',\n",
       "         'безработный', 'предприниматель', 'студент', 'в декрете'],\n",
       "        dtype=object)],\n",
       " 'purpose': [array(['покупка жилья', 'приобретение автомобиля',\n",
       "         'дополнительное образование', 'сыграть свадьбу',\n",
       "         'операции с жильем', 'образование', 'на проведение свадьбы',\n",
       "         'покупка жилья для семьи', 'покупка недвижимости',\n",
       "         'покупка коммерческой недвижимости', 'покупка жилой недвижимости',\n",
       "         'строительство собственной недвижимости', 'недвижимость',\n",
       "         'строительство недвижимости', 'на покупку подержанного автомобиля',\n",
       "         'на покупку своего автомобиля',\n",
       "         'операции с коммерческой недвижимостью',\n",
       "         'строительство жилой недвижимости', 'жилье',\n",
       "         'операции со своей недвижимостью', 'автомобили',\n",
       "         'заняться образованием', 'сделка с подержанным автомобилем',\n",
       "         'получение образования', 'автомобиль', 'свадьба',\n",
       "         'получение дополнительного образования', 'покупка своего жилья',\n",
       "         'операции с недвижимостью', 'получение высшего образования',\n",
       "         'свой автомобиль', 'сделка с автомобилем',\n",
       "         'профильное образование', 'высшее образование',\n",
       "         'покупка жилья для сдачи', 'на покупку автомобиля', 'ремонт жилью',\n",
       "         'заняться высшим образованием'], dtype=object)]}"
      ]
     },
     "execution_count": 23,
     "metadata": {},
     "output_type": "execute_result"
    }
   ],
   "source": [
    "object_columns = ['education', 'family_status', 'gender', 'income_type', 'purpose']\n",
    "values_object_columns = {'education' : []\n",
    "                 , 'family_status' : []\n",
    "                 , 'gender' : []\n",
    "                 , 'income_type' : []\n",
    "                 , 'purpose' : []\n",
    "                 }\n",
    "\n",
    "for column in object_columns:\n",
    "    values_object_columns[column].append(df[column].unique())\n",
    "\n",
    "values_object_columns    "
   ]
  },
  {
   "cell_type": "markdown",
   "id": "e15d04fd",
   "metadata": {},
   "source": [
    "Итак:\n",
    "* в столбце `education` необходимо перевести все строки в единый регистр;\n",
    "* столбец `family_status` в порядке. Дополнительно можно перевести все строки в единый регистр;\n",
    "* столбец `income_type` в порядке;\n",
    "* в столбце `gender` есть значение `XNA`. Для более понятного представления данных можно заменить эти значения на `UNKNOWN`;\n",
    "* Столбец `purpose` содержит очень много одинаковых значений, сформулированных по-разному. В следующих пунктах стоит категоризитровать цели кредита\n",
    "\n",
    "Перед удалением дубликатов разберемся со столбцами `education`,`family_status`, `gender`:"
   ]
  },
  {
   "cell_type": "code",
   "execution_count": 24,
   "id": "47de0ecb",
   "metadata": {},
   "outputs": [],
   "source": [
    "df['education'] = df['education'].str.lower()\n",
    "df['family_status'] = df['family_status'].str.lower()\n",
    "df.loc[df['gender'] == 'XNA', 'gender'] = 'UNKNOWN'"
   ]
  },
  {
   "cell_type": "markdown",
   "id": "f3e1f48c",
   "metadata": {},
   "source": [
    "Посчитаем, стало ли дубликатов больше:"
   ]
  },
  {
   "cell_type": "code",
   "execution_count": 25,
   "id": "3a8d6129",
   "metadata": {},
   "outputs": [
    {
     "data": {
      "text/plain": [
       "71"
      ]
     },
     "execution_count": 25,
     "metadata": {},
     "output_type": "execute_result"
    }
   ],
   "source": [
    "df.duplicated().sum()"
   ]
  },
  {
   "cell_type": "markdown",
   "id": "2b978033",
   "metadata": {},
   "source": [
    "Количество дубликатов увеличилось. Возможно, новые дубли появились из-за регистра в столбце `education`. Удалим явные дубликаты:"
   ]
  },
  {
   "cell_type": "code",
   "execution_count": 26,
   "id": "6f77df57",
   "metadata": {},
   "outputs": [],
   "source": [
    "df = df.drop_duplicates().reset_index(drop=True)"
   ]
  },
  {
   "cell_type": "markdown",
   "id": "c0821a45",
   "metadata": {},
   "source": [
    "Значений стало меньше, дубликаты удалены. В данных присутствовали и явные, и неявные дубликаты"
   ]
  },
  {
   "cell_type": "markdown",
   "id": "423a034f",
   "metadata": {},
   "source": [
    "#### Шаг 2.5. Формирование дополнительных датафреймов словарей, декомпозиция исходного датафрейма"
   ]
  },
  {
   "cell_type": "markdown",
   "id": "4a2417da",
   "metadata": {},
   "source": [
    "Для того, чтобы упростить работы с таблицей и сделать рабочий файл легче, стоит создать словари для определения семейного статуса и уровня образования:"
   ]
  },
  {
   "cell_type": "code",
   "execution_count": 27,
   "id": "b8b038e1",
   "metadata": {
    "scrolled": true
   },
   "outputs": [],
   "source": [
    "education_dict = df[['education_id', 'education']].drop_duplicates().reset_index(drop=True)\n",
    "family_status_dict = df[['family_status_id', 'family_status']].drop_duplicates().reset_index(drop=True)"
   ]
  },
  {
   "cell_type": "markdown",
   "id": "67cd8612",
   "metadata": {},
   "source": [
    "После создания таких словарей можно удалить столбцы 'education' и 'family_status' из исходной таблицы:"
   ]
  },
  {
   "cell_type": "code",
   "execution_count": 28,
   "id": "7267612a",
   "metadata": {},
   "outputs": [],
   "source": [
    "df = df.drop(df.columns[[3, 5]], axis=1)"
   ]
  },
  {
   "cell_type": "markdown",
   "id": "c968e9aa",
   "metadata": {},
   "source": [
    "#### Шаг 2.6. Категоризация дохода"
   ]
  },
  {
   "cell_type": "markdown",
   "id": "684fc8a1",
   "metadata": {},
   "source": [
    "Чтобы категоризировать доход, воспользуемся заданными диапазонами:\n",
    "* 0–30000 — `E`\n",
    "* 30001–50000 — `D`\n",
    "* 50001–200000 — `C`\n",
    "* 200001–1000000 — `B`\n",
    "* 1000001 и выше — `A`"
   ]
  },
  {
   "cell_type": "code",
   "execution_count": 29,
   "id": "7b0247e1",
   "metadata": {},
   "outputs": [
    {
     "data": {
      "text/html": [
       "<div>\n",
       "<style scoped>\n",
       "    .dataframe tbody tr th:only-of-type {\n",
       "        vertical-align: middle;\n",
       "    }\n",
       "\n",
       "    .dataframe tbody tr th {\n",
       "        vertical-align: top;\n",
       "    }\n",
       "\n",
       "    .dataframe thead th {\n",
       "        text-align: right;\n",
       "    }\n",
       "</style>\n",
       "<table border=\"1\" class=\"dataframe\">\n",
       "  <thead>\n",
       "    <tr style=\"text-align: right;\">\n",
       "      <th></th>\n",
       "      <th>children</th>\n",
       "      <th>days_employed</th>\n",
       "      <th>dob_years</th>\n",
       "      <th>education_id</th>\n",
       "      <th>family_status_id</th>\n",
       "      <th>gender</th>\n",
       "      <th>income_type</th>\n",
       "      <th>debt</th>\n",
       "      <th>total_income</th>\n",
       "      <th>purpose</th>\n",
       "      <th>total_income_category</th>\n",
       "    </tr>\n",
       "  </thead>\n",
       "  <tbody>\n",
       "    <tr>\n",
       "      <th>0</th>\n",
       "      <td>1</td>\n",
       "      <td>253875</td>\n",
       "      <td>42</td>\n",
       "      <td>0</td>\n",
       "      <td>0</td>\n",
       "      <td>F</td>\n",
       "      <td>сотрудник</td>\n",
       "      <td>0</td>\n",
       "      <td>253875</td>\n",
       "      <td>покупка жилья</td>\n",
       "      <td>B</td>\n",
       "    </tr>\n",
       "    <tr>\n",
       "      <th>1</th>\n",
       "      <td>1</td>\n",
       "      <td>112080</td>\n",
       "      <td>36</td>\n",
       "      <td>1</td>\n",
       "      <td>0</td>\n",
       "      <td>F</td>\n",
       "      <td>сотрудник</td>\n",
       "      <td>0</td>\n",
       "      <td>112080</td>\n",
       "      <td>приобретение автомобиля</td>\n",
       "      <td>C</td>\n",
       "    </tr>\n",
       "    <tr>\n",
       "      <th>2</th>\n",
       "      <td>0</td>\n",
       "      <td>145885</td>\n",
       "      <td>33</td>\n",
       "      <td>1</td>\n",
       "      <td>0</td>\n",
       "      <td>M</td>\n",
       "      <td>сотрудник</td>\n",
       "      <td>0</td>\n",
       "      <td>145885</td>\n",
       "      <td>покупка жилья</td>\n",
       "      <td>C</td>\n",
       "    </tr>\n",
       "    <tr>\n",
       "      <th>3</th>\n",
       "      <td>3</td>\n",
       "      <td>267628</td>\n",
       "      <td>32</td>\n",
       "      <td>1</td>\n",
       "      <td>0</td>\n",
       "      <td>M</td>\n",
       "      <td>сотрудник</td>\n",
       "      <td>0</td>\n",
       "      <td>267628</td>\n",
       "      <td>дополнительное образование</td>\n",
       "      <td>B</td>\n",
       "    </tr>\n",
       "    <tr>\n",
       "      <th>4</th>\n",
       "      <td>0</td>\n",
       "      <td>158616</td>\n",
       "      <td>53</td>\n",
       "      <td>1</td>\n",
       "      <td>1</td>\n",
       "      <td>F</td>\n",
       "      <td>пенсионер</td>\n",
       "      <td>0</td>\n",
       "      <td>158616</td>\n",
       "      <td>сыграть свадьбу</td>\n",
       "      <td>C</td>\n",
       "    </tr>\n",
       "  </tbody>\n",
       "</table>\n",
       "</div>"
      ],
      "text/plain": [
       "   children  days_employed  dob_years  education_id  family_status_id gender  \\\n",
       "0         1         253875         42             0                 0      F   \n",
       "1         1         112080         36             1                 0      F   \n",
       "2         0         145885         33             1                 0      M   \n",
       "3         3         267628         32             1                 0      M   \n",
       "4         0         158616         53             1                 1      F   \n",
       "\n",
       "  income_type  debt  total_income                     purpose  \\\n",
       "0   сотрудник     0        253875               покупка жилья   \n",
       "1   сотрудник     0        112080     приобретение автомобиля   \n",
       "2   сотрудник     0        145885               покупка жилья   \n",
       "3   сотрудник     0        267628  дополнительное образование   \n",
       "4   пенсионер     0        158616             сыграть свадьбу   \n",
       "\n",
       "  total_income_category  \n",
       "0                     B  \n",
       "1                     C  \n",
       "2                     C  \n",
       "3                     B  \n",
       "4                     C  "
      ]
     },
     "execution_count": 29,
     "metadata": {},
     "output_type": "execute_result"
    }
   ],
   "source": [
    "def income_category_qualifier(row):\n",
    "    if row['total_income'] <= 30000:\n",
    "        return 'E'\n",
    "    if row['total_income'] <= 50000:\n",
    "        return 'D'\n",
    "    if row['total_income'] <= 200000:\n",
    "        return 'C'\n",
    "    if row['total_income'] <= 1000000:\n",
    "        return 'B'\n",
    "    return 'A'\n",
    "\n",
    "df['total_income_category'] = df.apply(income_category_qualifier, axis=1)\n",
    "df.head()"
   ]
  },
  {
   "cell_type": "markdown",
   "id": "01a2e468",
   "metadata": {},
   "source": [
    "#### Шаг 2.7. Категоризация целей кредита"
   ]
  },
  {
   "cell_type": "markdown",
   "id": "b5981a76",
   "metadata": {},
   "source": [
    "Далее перейдём к столбцу `purpose`. Задача - назначить всем ячейкам из этого столбца одно из значений:  \n",
    "* операции с автомобилем;\n",
    "* операции с недвижимостью;\n",
    "* проведение свадьбы;\n",
    "* получение образования;\n",
    "\n",
    "Для начала стоит подобрать правильные условия для категоризации цели кредита:"
   ]
  },
  {
   "cell_type": "code",
   "execution_count": 30,
   "id": "9add9a2f",
   "metadata": {},
   "outputs": [
    {
     "data": {
      "text/plain": [
       "{'операции с автомобилем': ['приобретение автомобиля',\n",
       "  'на покупку подержанного автомобиля',\n",
       "  'на покупку своего автомобиля',\n",
       "  'автомобили',\n",
       "  'сделка с подержанным автомобилем',\n",
       "  'автомобиль',\n",
       "  'свой автомобиль',\n",
       "  'сделка с автомобилем',\n",
       "  'на покупку автомобиля'],\n",
       " 'операции с недвижимостью': ['покупка жилья',\n",
       "  'операции с жильем',\n",
       "  'покупка жилья для семьи',\n",
       "  'покупка недвижимости',\n",
       "  'покупка коммерческой недвижимости',\n",
       "  'покупка жилой недвижимости',\n",
       "  'строительство собственной недвижимости',\n",
       "  'недвижимость',\n",
       "  'строительство недвижимости',\n",
       "  'операции с коммерческой недвижимостью',\n",
       "  'строительство жилой недвижимости',\n",
       "  'жилье',\n",
       "  'операции со своей недвижимостью',\n",
       "  'покупка своего жилья',\n",
       "  'операции с недвижимостью',\n",
       "  'покупка жилья для сдачи',\n",
       "  'ремонт жилью'],\n",
       " 'проведение свадьбы': ['сыграть свадьбу', 'на проведение свадьбы', 'свадьба'],\n",
       " 'получение образования': ['дополнительное образование',\n",
       "  'образование',\n",
       "  'заняться образованием',\n",
       "  'получение образования',\n",
       "  'получение дополнительного образования',\n",
       "  'получение высшего образования',\n",
       "  'профильное образование',\n",
       "  'высшее образование',\n",
       "  'заняться высшим образованием'],\n",
       " 'другие операции': []}"
      ]
     },
     "execution_count": 30,
     "metadata": {},
     "output_type": "execute_result"
    }
   ],
   "source": [
    "unique_purposes = df['purpose'].unique()\n",
    "error_purposes = {'операции с автомобилем' : []\n",
    "                , 'операции с недвижимостью' : []\n",
    "                , 'проведение свадьбы' : []\n",
    "                , 'получение образования' : []\n",
    "                , 'другие операции' : []\n",
    "                 }\n",
    "\n",
    "for value in unique_purposes:\n",
    "    if 'образовани' in value:\n",
    "        error_purposes['получение образования'].append(value)\n",
    "    elif 'авто' in value:\n",
    "        error_purposes['операции с автомобилем'].append(value)\n",
    "    elif 'свадьб' in value:\n",
    "        error_purposes['проведение свадьбы'].append(value)\n",
    "    elif ('недвиж' in value) or ('жил' in value): \n",
    "        error_purposes['операции с недвижимостью'].append(value)\n",
    "    else:\n",
    "        error_purposes['другие операции'].append(value)\n",
    "        \n",
    "error_purposes"
   ]
  },
  {
   "cell_type": "markdown",
   "id": "30422aba",
   "metadata": {},
   "source": [
    "Условия корректно описывают данные, поэтому можно переходить к написанию и применению функции:"
   ]
  },
  {
   "cell_type": "code",
   "execution_count": 31,
   "id": "8e5b37ef",
   "metadata": {},
   "outputs": [
    {
     "data": {
      "text/html": [
       "<div>\n",
       "<style scoped>\n",
       "    .dataframe tbody tr th:only-of-type {\n",
       "        vertical-align: middle;\n",
       "    }\n",
       "\n",
       "    .dataframe tbody tr th {\n",
       "        vertical-align: top;\n",
       "    }\n",
       "\n",
       "    .dataframe thead th {\n",
       "        text-align: right;\n",
       "    }\n",
       "</style>\n",
       "<table border=\"1\" class=\"dataframe\">\n",
       "  <thead>\n",
       "    <tr style=\"text-align: right;\">\n",
       "      <th></th>\n",
       "      <th>children</th>\n",
       "      <th>days_employed</th>\n",
       "      <th>dob_years</th>\n",
       "      <th>education_id</th>\n",
       "      <th>family_status_id</th>\n",
       "      <th>gender</th>\n",
       "      <th>income_type</th>\n",
       "      <th>debt</th>\n",
       "      <th>total_income</th>\n",
       "      <th>purpose</th>\n",
       "      <th>total_income_category</th>\n",
       "      <th>purpose_category</th>\n",
       "    </tr>\n",
       "  </thead>\n",
       "  <tbody>\n",
       "    <tr>\n",
       "      <th>0</th>\n",
       "      <td>1</td>\n",
       "      <td>253875</td>\n",
       "      <td>42</td>\n",
       "      <td>0</td>\n",
       "      <td>0</td>\n",
       "      <td>F</td>\n",
       "      <td>сотрудник</td>\n",
       "      <td>0</td>\n",
       "      <td>253875</td>\n",
       "      <td>покупка жилья</td>\n",
       "      <td>B</td>\n",
       "      <td>операции с недвижимостью</td>\n",
       "    </tr>\n",
       "    <tr>\n",
       "      <th>1</th>\n",
       "      <td>1</td>\n",
       "      <td>112080</td>\n",
       "      <td>36</td>\n",
       "      <td>1</td>\n",
       "      <td>0</td>\n",
       "      <td>F</td>\n",
       "      <td>сотрудник</td>\n",
       "      <td>0</td>\n",
       "      <td>112080</td>\n",
       "      <td>приобретение автомобиля</td>\n",
       "      <td>C</td>\n",
       "      <td>операции с автомобилем</td>\n",
       "    </tr>\n",
       "    <tr>\n",
       "      <th>2</th>\n",
       "      <td>0</td>\n",
       "      <td>145885</td>\n",
       "      <td>33</td>\n",
       "      <td>1</td>\n",
       "      <td>0</td>\n",
       "      <td>M</td>\n",
       "      <td>сотрудник</td>\n",
       "      <td>0</td>\n",
       "      <td>145885</td>\n",
       "      <td>покупка жилья</td>\n",
       "      <td>C</td>\n",
       "      <td>операции с недвижимостью</td>\n",
       "    </tr>\n",
       "    <tr>\n",
       "      <th>3</th>\n",
       "      <td>3</td>\n",
       "      <td>267628</td>\n",
       "      <td>32</td>\n",
       "      <td>1</td>\n",
       "      <td>0</td>\n",
       "      <td>M</td>\n",
       "      <td>сотрудник</td>\n",
       "      <td>0</td>\n",
       "      <td>267628</td>\n",
       "      <td>дополнительное образование</td>\n",
       "      <td>B</td>\n",
       "      <td>получение образования</td>\n",
       "    </tr>\n",
       "    <tr>\n",
       "      <th>4</th>\n",
       "      <td>0</td>\n",
       "      <td>158616</td>\n",
       "      <td>53</td>\n",
       "      <td>1</td>\n",
       "      <td>1</td>\n",
       "      <td>F</td>\n",
       "      <td>пенсионер</td>\n",
       "      <td>0</td>\n",
       "      <td>158616</td>\n",
       "      <td>сыграть свадьбу</td>\n",
       "      <td>C</td>\n",
       "      <td>проведение свадьбы</td>\n",
       "    </tr>\n",
       "  </tbody>\n",
       "</table>\n",
       "</div>"
      ],
      "text/plain": [
       "   children  days_employed  dob_years  education_id  family_status_id gender  \\\n",
       "0         1         253875         42             0                 0      F   \n",
       "1         1         112080         36             1                 0      F   \n",
       "2         0         145885         33             1                 0      M   \n",
       "3         3         267628         32             1                 0      M   \n",
       "4         0         158616         53             1                 1      F   \n",
       "\n",
       "  income_type  debt  total_income                     purpose  \\\n",
       "0   сотрудник     0        253875               покупка жилья   \n",
       "1   сотрудник     0        112080     приобретение автомобиля   \n",
       "2   сотрудник     0        145885               покупка жилья   \n",
       "3   сотрудник     0        267628  дополнительное образование   \n",
       "4   пенсионер     0        158616             сыграть свадьбу   \n",
       "\n",
       "  total_income_category          purpose_category  \n",
       "0                     B  операции с недвижимостью  \n",
       "1                     C    операции с автомобилем  \n",
       "2                     C  операции с недвижимостью  \n",
       "3                     B     получение образования  \n",
       "4                     C        проведение свадьбы  "
      ]
     },
     "execution_count": 31,
     "metadata": {},
     "output_type": "execute_result"
    }
   ],
   "source": [
    "def purpose_qualifier(raw):\n",
    "    if 'образовани' in raw['purpose']:\n",
    "        return 'получение образования'\n",
    "    if 'авто' in raw['purpose']:\n",
    "        return 'операции с автомобилем'\n",
    "    if 'свадьб' in raw['purpose']:\n",
    "        return 'проведение свадьбы'\n",
    "    if ('недвиж' in raw['purpose']) or ('жил' in raw['purpose']): \n",
    "        return 'операции с недвижимостью'\n",
    "    return 'другие операции'\n",
    "\n",
    "df['purpose_category'] = df.apply(purpose_qualifier, axis=1)\n",
    "df.head()"
   ]
  },
  {
   "cell_type": "markdown",
   "id": "2b0faee8",
   "metadata": {},
   "source": [
    "### Шаг 3. Анализ данных"
   ]
  },
  {
   "cell_type": "markdown",
   "id": "b7cd026f",
   "metadata": {},
   "source": [
    "#### Вопрос 1: Есть ли зависимость между количеством детей и возвратом кредита в срок?"
   ]
  },
  {
   "cell_type": "code",
   "execution_count": 32,
   "id": "b40d047e",
   "metadata": {},
   "outputs": [
    {
     "data": {
      "text/html": [
       "<div>\n",
       "<style scoped>\n",
       "    .dataframe tbody tr th:only-of-type {\n",
       "        vertical-align: middle;\n",
       "    }\n",
       "\n",
       "    .dataframe tbody tr th {\n",
       "        vertical-align: top;\n",
       "    }\n",
       "\n",
       "    .dataframe thead tr th {\n",
       "        text-align: left;\n",
       "    }\n",
       "\n",
       "    .dataframe thead tr:last-of-type th {\n",
       "        text-align: right;\n",
       "    }\n",
       "</style>\n",
       "<table border=\"1\" class=\"dataframe\">\n",
       "  <thead>\n",
       "    <tr>\n",
       "      <th></th>\n",
       "      <th colspan=\"2\" halign=\"left\">debt</th>\n",
       "      <th>debtors_share</th>\n",
       "    </tr>\n",
       "    <tr>\n",
       "      <th></th>\n",
       "      <th>count</th>\n",
       "      <th>sum</th>\n",
       "      <th></th>\n",
       "    </tr>\n",
       "    <tr>\n",
       "      <th>children</th>\n",
       "      <th></th>\n",
       "      <th></th>\n",
       "      <th></th>\n",
       "    </tr>\n",
       "  </thead>\n",
       "  <tbody>\n",
       "    <tr>\n",
       "      <th>0</th>\n",
       "      <td>14214</td>\n",
       "      <td>1072</td>\n",
       "      <td>0.075419</td>\n",
       "    </tr>\n",
       "    <tr>\n",
       "      <th>1</th>\n",
       "      <td>4808</td>\n",
       "      <td>444</td>\n",
       "      <td>0.092346</td>\n",
       "    </tr>\n",
       "    <tr>\n",
       "      <th>2</th>\n",
       "      <td>2052</td>\n",
       "      <td>194</td>\n",
       "      <td>0.094542</td>\n",
       "    </tr>\n",
       "    <tr>\n",
       "      <th>3</th>\n",
       "      <td>330</td>\n",
       "      <td>27</td>\n",
       "      <td>0.081818</td>\n",
       "    </tr>\n",
       "    <tr>\n",
       "      <th>4</th>\n",
       "      <td>41</td>\n",
       "      <td>4</td>\n",
       "      <td>0.097561</td>\n",
       "    </tr>\n",
       "    <tr>\n",
       "      <th>5</th>\n",
       "      <td>9</td>\n",
       "      <td>0</td>\n",
       "      <td>0.000000</td>\n",
       "    </tr>\n",
       "  </tbody>\n",
       "</table>\n",
       "</div>"
      ],
      "text/plain": [
       "           debt       debtors_share\n",
       "          count   sum              \n",
       "children                           \n",
       "0         14214  1072      0.075419\n",
       "1          4808   444      0.092346\n",
       "2          2052   194      0.094542\n",
       "3           330    27      0.081818\n",
       "4            41     4      0.097561\n",
       "5             9     0      0.000000"
      ]
     },
     "execution_count": 32,
     "metadata": {},
     "output_type": "execute_result"
    }
   ],
   "source": [
    "children_grouped = df.groupby('children').agg({'debt': ['count', 'sum']})\n",
    "children_grouped['debtors_share'] = children_grouped['debt']['sum'] / children_grouped['debt']['count']\n",
    "children_grouped"
   ]
  },
  {
   "cell_type": "markdown",
   "id": "9d509f47",
   "metadata": {},
   "source": [
    "По данным можно увидеть, что:\n",
    "* Отсутствие детей, скорее, положительно влияет на надежность заёмщика\n",
    "* Надежность клиентов с одним и двумя детьми находится примерно на одном уровне\n",
    "* Клиенты с 3-мя детьми, скорее, более надежны, чем клиенты с одним или двумя детьми\n",
    "* Данных по клиентам с 4-мя и 5-ю детьми слишком мало, поэтому делать выводов по ним не представляется возможным"
   ]
  },
  {
   "cell_type": "markdown",
   "id": "babea3d9",
   "metadata": {},
   "source": [
    "#### Вопрос 2: Есть ли зависимость между семейным положением и возвратом кредита в срок?"
   ]
  },
  {
   "cell_type": "code",
   "execution_count": 33,
   "id": "060e6925",
   "metadata": {
    "scrolled": true
   },
   "outputs": [
    {
     "data": {
      "text/html": [
       "<div>\n",
       "<style scoped>\n",
       "    .dataframe tbody tr th:only-of-type {\n",
       "        vertical-align: middle;\n",
       "    }\n",
       "\n",
       "    .dataframe tbody tr th {\n",
       "        vertical-align: top;\n",
       "    }\n",
       "\n",
       "    .dataframe thead th {\n",
       "        text-align: right;\n",
       "    }\n",
       "</style>\n",
       "<table border=\"1\" class=\"dataframe\">\n",
       "  <thead>\n",
       "    <tr style=\"text-align: right;\">\n",
       "      <th></th>\n",
       "      <th>family_status_id</th>\n",
       "      <th>(debt, count)</th>\n",
       "      <th>(debt, sum)</th>\n",
       "      <th>(debtors_share, )</th>\n",
       "      <th>family_status</th>\n",
       "    </tr>\n",
       "  </thead>\n",
       "  <tbody>\n",
       "    <tr>\n",
       "      <th>0</th>\n",
       "      <td>0</td>\n",
       "      <td>12339</td>\n",
       "      <td>931</td>\n",
       "      <td>0.075452</td>\n",
       "      <td>женат / замужем</td>\n",
       "    </tr>\n",
       "    <tr>\n",
       "      <th>1</th>\n",
       "      <td>1</td>\n",
       "      <td>4151</td>\n",
       "      <td>388</td>\n",
       "      <td>0.093471</td>\n",
       "      <td>гражданский брак</td>\n",
       "    </tr>\n",
       "    <tr>\n",
       "      <th>2</th>\n",
       "      <td>2</td>\n",
       "      <td>959</td>\n",
       "      <td>63</td>\n",
       "      <td>0.065693</td>\n",
       "      <td>вдовец / вдова</td>\n",
       "    </tr>\n",
       "    <tr>\n",
       "      <th>3</th>\n",
       "      <td>3</td>\n",
       "      <td>1195</td>\n",
       "      <td>85</td>\n",
       "      <td>0.071130</td>\n",
       "      <td>в разводе</td>\n",
       "    </tr>\n",
       "    <tr>\n",
       "      <th>4</th>\n",
       "      <td>4</td>\n",
       "      <td>2810</td>\n",
       "      <td>274</td>\n",
       "      <td>0.097509</td>\n",
       "      <td>не женат / не замужем</td>\n",
       "    </tr>\n",
       "  </tbody>\n",
       "</table>\n",
       "</div>"
      ],
      "text/plain": [
       "   family_status_id  (debt, count)  (debt, sum)  (debtors_share, )  \\\n",
       "0                 0          12339          931           0.075452   \n",
       "1                 1           4151          388           0.093471   \n",
       "2                 2            959           63           0.065693   \n",
       "3                 3           1195           85           0.071130   \n",
       "4                 4           2810          274           0.097509   \n",
       "\n",
       "           family_status  \n",
       "0        женат / замужем  \n",
       "1       гражданский брак  \n",
       "2         вдовец / вдова  \n",
       "3              в разводе  \n",
       "4  не женат / не замужем  "
      ]
     },
     "execution_count": 33,
     "metadata": {},
     "output_type": "execute_result"
    }
   ],
   "source": [
    "warnings.simplefilter(\"ignore\")\n",
    "family_status_grouped = df.groupby('family_status_id').agg({'debt': ['count', 'sum']})\n",
    "family_status_grouped['debtors_share'] = family_status_grouped['debt']['sum'] / family_status_grouped['debt']['count']\n",
    "family_status_grouped = family_status_grouped.merge(family_status_dict, on='family_status_id', how='left')\n",
    "family_status_grouped\n"
   ]
  },
  {
   "cell_type": "markdown",
   "id": "2fe4c825",
   "metadata": {},
   "source": [
    "По данным можно увидеть, что:\n",
    "* наличие официального брака повышает надежность заёмщика\n",
    "* самые надежные заёмщики - вдовцы, вдовы и клиенты в разводе\n",
    "* самые ненадежные заёмщики - это лица без супруга/супруги или находящиеся гражданском браке "
   ]
  },
  {
   "cell_type": "markdown",
   "id": "a420ede7",
   "metadata": {},
   "source": [
    "#### Вопрос 3: Есть ли зависимость между уровнем дохода и возвратом кредита в срок?"
   ]
  },
  {
   "cell_type": "code",
   "execution_count": 34,
   "id": "c0ed3d62",
   "metadata": {},
   "outputs": [
    {
     "data": {
      "text/html": [
       "<div>\n",
       "<style scoped>\n",
       "    .dataframe tbody tr th:only-of-type {\n",
       "        vertical-align: middle;\n",
       "    }\n",
       "\n",
       "    .dataframe tbody tr th {\n",
       "        vertical-align: top;\n",
       "    }\n",
       "\n",
       "    .dataframe thead tr th {\n",
       "        text-align: left;\n",
       "    }\n",
       "\n",
       "    .dataframe thead tr:last-of-type th {\n",
       "        text-align: right;\n",
       "    }\n",
       "</style>\n",
       "<table border=\"1\" class=\"dataframe\">\n",
       "  <thead>\n",
       "    <tr>\n",
       "      <th></th>\n",
       "      <th colspan=\"2\" halign=\"left\">debt</th>\n",
       "      <th>debtors_share</th>\n",
       "    </tr>\n",
       "    <tr>\n",
       "      <th></th>\n",
       "      <th>count</th>\n",
       "      <th>sum</th>\n",
       "      <th></th>\n",
       "    </tr>\n",
       "    <tr>\n",
       "      <th>total_income_category</th>\n",
       "      <th></th>\n",
       "      <th></th>\n",
       "      <th></th>\n",
       "    </tr>\n",
       "  </thead>\n",
       "  <tbody>\n",
       "    <tr>\n",
       "      <th>A</th>\n",
       "      <td>25</td>\n",
       "      <td>2</td>\n",
       "      <td>0.080000</td>\n",
       "    </tr>\n",
       "    <tr>\n",
       "      <th>B</th>\n",
       "      <td>5041</td>\n",
       "      <td>356</td>\n",
       "      <td>0.070621</td>\n",
       "    </tr>\n",
       "    <tr>\n",
       "      <th>C</th>\n",
       "      <td>16016</td>\n",
       "      <td>1360</td>\n",
       "      <td>0.084915</td>\n",
       "    </tr>\n",
       "    <tr>\n",
       "      <th>D</th>\n",
       "      <td>350</td>\n",
       "      <td>21</td>\n",
       "      <td>0.060000</td>\n",
       "    </tr>\n",
       "    <tr>\n",
       "      <th>E</th>\n",
       "      <td>22</td>\n",
       "      <td>2</td>\n",
       "      <td>0.090909</td>\n",
       "    </tr>\n",
       "  </tbody>\n",
       "</table>\n",
       "</div>"
      ],
      "text/plain": [
       "                        debt       debtors_share\n",
       "                       count   sum              \n",
       "total_income_category                           \n",
       "A                         25     2      0.080000\n",
       "B                       5041   356      0.070621\n",
       "C                      16016  1360      0.084915\n",
       "D                        350    21      0.060000\n",
       "E                         22     2      0.090909"
      ]
     },
     "execution_count": 34,
     "metadata": {},
     "output_type": "execute_result"
    }
   ],
   "source": [
    "income_category_grouped = df.groupby('total_income_category').agg({'debt': ['count', 'sum']})\n",
    "income_category_grouped['debtors_share'] = income_category_grouped['debt']['sum'] / income_category_grouped['debt']['count']\n",
    "income_category_grouped"
   ]
  },
  {
   "cell_type": "markdown",
   "id": "eb76ef00",
   "metadata": {},
   "source": [
    "По данным можно увидеть, что:\n",
    "* Для анализа категорий A и E данных недостаточно\n",
    "* Между доходом и надежностью заёмщика не выявлено явной зависимости "
   ]
  },
  {
   "cell_type": "markdown",
   "id": "61a160af",
   "metadata": {},
   "source": [
    "#### Вопрос 4: Как разные цели кредита влияют на его возврат в срок?"
   ]
  },
  {
   "cell_type": "code",
   "execution_count": 35,
   "id": "ac7bc17e",
   "metadata": {},
   "outputs": [
    {
     "data": {
      "text/html": [
       "<div>\n",
       "<style scoped>\n",
       "    .dataframe tbody tr th:only-of-type {\n",
       "        vertical-align: middle;\n",
       "    }\n",
       "\n",
       "    .dataframe tbody tr th {\n",
       "        vertical-align: top;\n",
       "    }\n",
       "\n",
       "    .dataframe thead tr th {\n",
       "        text-align: left;\n",
       "    }\n",
       "\n",
       "    .dataframe thead tr:last-of-type th {\n",
       "        text-align: right;\n",
       "    }\n",
       "</style>\n",
       "<table border=\"1\" class=\"dataframe\">\n",
       "  <thead>\n",
       "    <tr>\n",
       "      <th></th>\n",
       "      <th>count</th>\n",
       "      <th>sum</th>\n",
       "      <th>mean</th>\n",
       "    </tr>\n",
       "    <tr>\n",
       "      <th></th>\n",
       "      <th>debt</th>\n",
       "      <th>debt</th>\n",
       "      <th>debt</th>\n",
       "    </tr>\n",
       "    <tr>\n",
       "      <th>purpose_category</th>\n",
       "      <th></th>\n",
       "      <th></th>\n",
       "      <th></th>\n",
       "    </tr>\n",
       "  </thead>\n",
       "  <tbody>\n",
       "    <tr>\n",
       "      <th>операции с автомобилем</th>\n",
       "      <td>4306</td>\n",
       "      <td>403</td>\n",
       "      <td>0.093590</td>\n",
       "    </tr>\n",
       "    <tr>\n",
       "      <th>операции с недвижимостью</th>\n",
       "      <td>10811</td>\n",
       "      <td>782</td>\n",
       "      <td>0.072334</td>\n",
       "    </tr>\n",
       "    <tr>\n",
       "      <th>получение образования</th>\n",
       "      <td>4013</td>\n",
       "      <td>370</td>\n",
       "      <td>0.092200</td>\n",
       "    </tr>\n",
       "    <tr>\n",
       "      <th>проведение свадьбы</th>\n",
       "      <td>2324</td>\n",
       "      <td>186</td>\n",
       "      <td>0.080034</td>\n",
       "    </tr>\n",
       "  </tbody>\n",
       "</table>\n",
       "</div>"
      ],
      "text/plain": [
       "                          count  sum      mean\n",
       "                           debt debt      debt\n",
       "purpose_category                              \n",
       "операции с автомобилем     4306  403  0.093590\n",
       "операции с недвижимостью  10811  782  0.072334\n",
       "получение образования      4013  370  0.092200\n",
       "проведение свадьбы         2324  186  0.080034"
      ]
     },
     "execution_count": 35,
     "metadata": {},
     "output_type": "execute_result"
    }
   ],
   "source": [
    "df.pivot_table(index='purpose_category', values='debt', aggfunc=['count', 'sum', 'mean'])"
   ]
  },
  {
   "cell_type": "markdown",
   "id": "bcf2bf63",
   "metadata": {},
   "source": [
    "По данным можно увидеть, что:\n",
    "* Самые надежные сделки - операции с недвижимостью\n",
    "* Самые рискованные сделки - операции с автомобилем и получение образования"
   ]
  },
  {
   "cell_type": "markdown",
   "id": "be73d078",
   "metadata": {},
   "source": [
    "### Шаг 4. Общий вывод"
   ]
  },
  {
   "cell_type": "markdown",
   "id": "6a5bf532",
   "metadata": {},
   "source": [
    "В результате анализа были выявлены некоторые полезные данные для бизнеса:\n",
    "* Клиенты без детей более надежны, чем клиенты с детьми\n",
    "* Наличие официального брака повышает надежность заёмщика. Статус вдовы, вдовца или разведенного/разведенной ещё больше повышают надежность заёмщика\n",
    "* Операции с недвижимостью - самые надежные. Операции с автомобилем и образованием - самые ненадежные\n",
    "\n",
    "Некоторые гипотезы были опровергнуты:\n",
    "* Между доходом и надежностью заёмщика не выявлено прямой взаимосвязи\n",
    "\n",
    "По данным можно составить портрет надежного заёмщика: находится или ранее находился в официальном браке, не имеет детей, цель кредита - операция с недвижимостью\n",
    "\n",
    "Портрет заёмщика с наибольшей вероятностью просрочки выглядит так: не состоит в официальном браке, в семье есть ребенок, цель кредита - операция с автомобилем"
   ]
  }
 ],
 "metadata": {
  "ExecuteTimeLog": [
   {
    "duration": 885,
    "start_time": "2022-02-24T20:31:16.087Z"
   },
   {
    "duration": 18,
    "start_time": "2022-02-24T20:34:36.972Z"
   },
   {
    "duration": 7124,
    "start_time": "2022-02-24T20:36:14.924Z"
   },
   {
    "duration": 21,
    "start_time": "2022-02-24T20:36:27.938Z"
   },
   {
    "duration": 334,
    "start_time": "2022-02-24T20:38:30.587Z"
   },
   {
    "duration": 17,
    "start_time": "2022-02-24T20:38:41.214Z"
   },
   {
    "duration": 7,
    "start_time": "2022-02-24T20:38:51.949Z"
   },
   {
    "duration": 8,
    "start_time": "2022-02-24T20:41:10.227Z"
   },
   {
    "duration": 7,
    "start_time": "2022-02-24T20:41:36.928Z"
   },
   {
    "duration": 7,
    "start_time": "2022-02-24T20:42:07.699Z"
   },
   {
    "duration": 6,
    "start_time": "2022-02-24T20:43:35.394Z"
   },
   {
    "duration": 291,
    "start_time": "2022-02-24T20:45:35.995Z"
   },
   {
    "duration": 29,
    "start_time": "2022-02-24T20:46:37.284Z"
   },
   {
    "duration": 19,
    "start_time": "2022-02-24T20:48:42.650Z"
   },
   {
    "duration": 26,
    "start_time": "2022-02-24T20:52:03.289Z"
   },
   {
    "duration": 107,
    "start_time": "2022-02-24T20:52:15.142Z"
   },
   {
    "duration": 610,
    "start_time": "2022-02-24T20:52:25.625Z"
   },
   {
    "duration": 17,
    "start_time": "2022-02-24T20:53:20.935Z"
   },
   {
    "duration": 71,
    "start_time": "2022-02-24T22:13:46.104Z"
   },
   {
    "duration": 18,
    "start_time": "2022-02-24T22:13:50.193Z"
   },
   {
    "duration": 20,
    "start_time": "2022-02-24T22:13:52.522Z"
   },
   {
    "duration": 130,
    "start_time": "2022-02-24T22:14:37.046Z"
   },
   {
    "duration": 20,
    "start_time": "2022-02-24T22:14:48.488Z"
   },
   {
    "duration": 88,
    "start_time": "2022-02-24T22:15:03.584Z"
   },
   {
    "duration": 20,
    "start_time": "2022-02-24T22:15:48.078Z"
   },
   {
    "duration": 18,
    "start_time": "2022-02-24T22:16:20.306Z"
   },
   {
    "duration": 291,
    "start_time": "2022-02-24T22:19:15.310Z"
   },
   {
    "duration": 19,
    "start_time": "2022-02-24T22:19:27.318Z"
   },
   {
    "duration": 296,
    "start_time": "2022-02-24T22:20:44.374Z"
   },
   {
    "duration": 18,
    "start_time": "2022-02-24T22:20:59.534Z"
   },
   {
    "duration": 19,
    "start_time": "2022-02-24T22:21:25.046Z"
   },
   {
    "duration": 19,
    "start_time": "2022-02-24T22:21:34.706Z"
   },
   {
    "duration": 286,
    "start_time": "2022-02-24T22:21:48.338Z"
   },
   {
    "duration": 20,
    "start_time": "2022-02-24T22:22:01.162Z"
   },
   {
    "duration": 18,
    "start_time": "2022-02-24T22:22:30.372Z"
   },
   {
    "duration": 17,
    "start_time": "2022-02-24T22:22:42.210Z"
   },
   {
    "duration": 18,
    "start_time": "2022-02-24T22:26:49.016Z"
   },
   {
    "duration": 17,
    "start_time": "2022-02-24T22:26:54.252Z"
   },
   {
    "duration": 68,
    "start_time": "2022-02-24T22:27:10.656Z"
   },
   {
    "duration": 18,
    "start_time": "2022-02-24T22:27:13.448Z"
   },
   {
    "duration": 18,
    "start_time": "2022-02-24T22:27:16.224Z"
   },
   {
    "duration": 19,
    "start_time": "2022-02-24T22:27:21.572Z"
   },
   {
    "duration": 18,
    "start_time": "2022-02-24T22:27:54.961Z"
   },
   {
    "duration": 19,
    "start_time": "2022-02-24T22:28:14.437Z"
   },
   {
    "duration": 17,
    "start_time": "2022-02-24T22:28:23.025Z"
   },
   {
    "duration": 17,
    "start_time": "2022-02-24T22:28:41.487Z"
   },
   {
    "duration": 18,
    "start_time": "2022-02-24T22:28:52.510Z"
   },
   {
    "duration": 324,
    "start_time": "2022-02-24T22:29:27.735Z"
   },
   {
    "duration": 123,
    "start_time": "2022-02-24T22:33:24.266Z"
   },
   {
    "duration": 98,
    "start_time": "2022-02-24T22:33:47.120Z"
   },
   {
    "duration": 20,
    "start_time": "2022-02-24T22:34:22.278Z"
   },
   {
    "duration": 9,
    "start_time": "2022-02-24T22:39:57.464Z"
   },
   {
    "duration": 90,
    "start_time": "2022-02-25T19:21:50.088Z"
   },
   {
    "duration": 362,
    "start_time": "2022-02-25T19:22:07.400Z"
   },
   {
    "duration": 676,
    "start_time": "2022-02-25T19:22:15.624Z"
   },
   {
    "duration": 15,
    "start_time": "2022-02-25T19:22:18.387Z"
   },
   {
    "duration": 13,
    "start_time": "2022-02-25T19:22:21.664Z"
   },
   {
    "duration": 293,
    "start_time": "2022-02-25T19:23:35.012Z"
   },
   {
    "duration": 14,
    "start_time": "2022-02-25T19:23:44.541Z"
   },
   {
    "duration": 13,
    "start_time": "2022-02-25T19:25:18.736Z"
   },
   {
    "duration": 87,
    "start_time": "2022-02-25T19:53:10.082Z"
   },
   {
    "duration": 13,
    "start_time": "2022-02-25T19:53:16.537Z"
   },
   {
    "duration": 14,
    "start_time": "2022-02-25T19:53:35.968Z"
   },
   {
    "duration": 15,
    "start_time": "2022-02-25T19:54:20.731Z"
   },
   {
    "duration": 13,
    "start_time": "2022-02-25T19:54:55.990Z"
   },
   {
    "duration": 107,
    "start_time": "2022-02-25T20:29:06.139Z"
   },
   {
    "duration": 296,
    "start_time": "2022-02-25T20:54:05.516Z"
   },
   {
    "duration": 6,
    "start_time": "2022-02-25T20:54:34.653Z"
   },
   {
    "duration": 80,
    "start_time": "2022-02-25T20:56:43.743Z"
   },
   {
    "duration": 10,
    "start_time": "2022-02-25T20:57:09.659Z"
   },
   {
    "duration": 9,
    "start_time": "2022-02-25T20:57:19.914Z"
   },
   {
    "duration": 280,
    "start_time": "2022-02-25T20:57:50.579Z"
   },
   {
    "duration": 13,
    "start_time": "2022-02-25T20:58:35.229Z"
   },
   {
    "duration": 126,
    "start_time": "2022-02-25T20:59:28.213Z"
   },
   {
    "duration": 18,
    "start_time": "2022-02-25T21:01:17.205Z"
   },
   {
    "duration": 10,
    "start_time": "2022-02-25T21:01:42.868Z"
   },
   {
    "duration": 13,
    "start_time": "2022-02-25T21:02:30.626Z"
   },
   {
    "duration": 278,
    "start_time": "2022-02-25T21:04:12.618Z"
   },
   {
    "duration": 11,
    "start_time": "2022-02-25T21:04:33.407Z"
   },
   {
    "duration": 20,
    "start_time": "2022-02-25T21:05:45.094Z"
   },
   {
    "duration": 19,
    "start_time": "2022-02-25T21:05:59.701Z"
   },
   {
    "duration": 15,
    "start_time": "2022-02-25T21:09:12.959Z"
   },
   {
    "duration": 11,
    "start_time": "2022-02-25T21:09:25.842Z"
   },
   {
    "duration": 9,
    "start_time": "2022-02-25T21:13:47.461Z"
   },
   {
    "duration": 12,
    "start_time": "2022-02-25T21:13:56.006Z"
   },
   {
    "duration": 245,
    "start_time": "2022-02-25T21:17:49.131Z"
   },
   {
    "duration": 8,
    "start_time": "2022-02-25T21:19:26.581Z"
   },
   {
    "duration": 98,
    "start_time": "2022-02-25T21:25:47.791Z"
   },
   {
    "duration": 87,
    "start_time": "2022-02-25T21:26:33.611Z"
   },
   {
    "duration": 110,
    "start_time": "2022-02-25T21:28:38.551Z"
   },
   {
    "duration": 6,
    "start_time": "2022-02-25T21:28:48.814Z"
   },
   {
    "duration": 15,
    "start_time": "2022-02-25T21:29:05.630Z"
   },
   {
    "duration": 13,
    "start_time": "2022-02-25T21:31:08.629Z"
   },
   {
    "duration": 302,
    "start_time": "2022-02-25T21:32:07.604Z"
   },
   {
    "duration": 11,
    "start_time": "2022-02-25T21:32:35.120Z"
   },
   {
    "duration": 284,
    "start_time": "2022-02-25T21:33:20.683Z"
   },
   {
    "duration": 13,
    "start_time": "2022-02-25T21:36:24.875Z"
   },
   {
    "duration": 93,
    "start_time": "2022-02-25T21:45:13.081Z"
   },
   {
    "duration": 81,
    "start_time": "2022-02-25T21:45:24.299Z"
   },
   {
    "duration": 240,
    "start_time": "2022-02-25T21:45:36.070Z"
   },
   {
    "duration": 267,
    "start_time": "2022-02-25T21:45:50.131Z"
   },
   {
    "duration": 246,
    "start_time": "2022-02-25T21:45:55.861Z"
   },
   {
    "duration": 25,
    "start_time": "2022-02-25T21:46:31.755Z"
   },
   {
    "duration": 17,
    "start_time": "2022-02-25T21:47:13.958Z"
   },
   {
    "duration": 19,
    "start_time": "2022-02-25T21:48:34.191Z"
   },
   {
    "duration": 20,
    "start_time": "2022-02-25T21:49:21.081Z"
   },
   {
    "duration": 54,
    "start_time": "2022-02-25T22:03:19.145Z"
   },
   {
    "duration": 13,
    "start_time": "2022-02-25T22:03:30.219Z"
   },
   {
    "duration": 14,
    "start_time": "2022-02-25T22:05:21.275Z"
   },
   {
    "duration": 1002,
    "start_time": "2022-02-25T22:08:24.912Z"
   },
   {
    "duration": 259,
    "start_time": "2022-02-25T22:10:32.098Z"
   },
   {
    "duration": 254,
    "start_time": "2022-02-25T22:11:46.006Z"
   },
   {
    "duration": 17,
    "start_time": "2022-02-25T22:12:17.722Z"
   },
   {
    "duration": 13,
    "start_time": "2022-02-25T22:12:25.869Z"
   },
   {
    "duration": 258,
    "start_time": "2022-02-25T22:13:01.061Z"
   },
   {
    "duration": 283,
    "start_time": "2022-02-25T22:16:36.177Z"
   },
   {
    "duration": 258,
    "start_time": "2022-02-25T22:16:42.441Z"
   },
   {
    "duration": 14,
    "start_time": "2022-02-25T22:16:57.086Z"
   },
   {
    "duration": 92,
    "start_time": "2022-02-25T22:18:05.461Z"
   },
   {
    "duration": 260,
    "start_time": "2022-02-25T22:18:14.991Z"
   },
   {
    "duration": 4,
    "start_time": "2022-02-25T22:18:29.167Z"
   },
   {
    "duration": 456,
    "start_time": "2022-02-25T22:19:34.338Z"
   },
   {
    "duration": 5,
    "start_time": "2022-02-25T22:19:42.896Z"
   },
   {
    "duration": 5,
    "start_time": "2022-02-25T22:19:46.266Z"
   },
   {
    "duration": 14,
    "start_time": "2022-02-25T22:19:53.075Z"
   },
   {
    "duration": 14,
    "start_time": "2022-02-25T22:21:16.409Z"
   },
   {
    "duration": 15,
    "start_time": "2022-02-25T22:21:23.114Z"
   },
   {
    "duration": 56,
    "start_time": "2022-02-25T22:21:29.419Z"
   },
   {
    "duration": 16,
    "start_time": "2022-02-25T22:21:40.432Z"
   },
   {
    "duration": 20,
    "start_time": "2022-02-25T22:22:27.738Z"
   },
   {
    "duration": 13,
    "start_time": "2022-02-25T22:22:59.542Z"
   },
   {
    "duration": 280,
    "start_time": "2022-02-25T22:23:34.550Z"
   },
   {
    "duration": 14,
    "start_time": "2022-02-25T22:23:44.123Z"
   },
   {
    "duration": 1708,
    "start_time": "2022-02-26T12:35:03.773Z"
   },
   {
    "duration": 2203,
    "start_time": "2022-02-26T12:35:11.031Z"
   },
   {
    "duration": 26,
    "start_time": "2022-02-26T12:35:16.353Z"
   },
   {
    "duration": -71,
    "start_time": "2022-02-26T12:45:29.500Z"
   },
   {
    "duration": 6,
    "start_time": "2022-02-26T12:45:35.072Z"
   },
   {
    "duration": 39,
    "start_time": "2022-02-26T12:46:50.890Z"
   },
   {
    "duration": 25,
    "start_time": "2022-02-26T12:48:16.385Z"
   },
   {
    "duration": 8,
    "start_time": "2022-02-26T12:49:31.539Z"
   },
   {
    "duration": 8,
    "start_time": "2022-02-26T12:49:42.149Z"
   },
   {
    "duration": 8,
    "start_time": "2022-02-26T12:49:51.446Z"
   },
   {
    "duration": 36,
    "start_time": "2022-02-26T12:51:01.056Z"
   },
   {
    "duration": 288,
    "start_time": "2022-02-26T13:01:33.183Z"
   },
   {
    "duration": 291,
    "start_time": "2022-02-26T13:01:42.828Z"
   },
   {
    "duration": 7,
    "start_time": "2022-02-26T13:02:04.816Z"
   },
   {
    "duration": 15,
    "start_time": "2022-02-26T13:15:55.589Z"
   },
   {
    "duration": 12,
    "start_time": "2022-02-26T13:16:13.747Z"
   },
   {
    "duration": 31,
    "start_time": "2022-02-26T13:16:36.199Z"
   },
   {
    "duration": 40,
    "start_time": "2022-02-26T13:16:59.631Z"
   },
   {
    "duration": 37,
    "start_time": "2022-02-26T13:17:30.528Z"
   },
   {
    "duration": 26,
    "start_time": "2022-02-26T13:25:51.598Z"
   },
   {
    "duration": 10,
    "start_time": "2022-02-26T13:41:15.129Z"
   },
   {
    "duration": 6,
    "start_time": "2022-02-26T13:42:00.990Z"
   },
   {
    "duration": 6,
    "start_time": "2022-02-26T13:46:37.589Z"
   },
   {
    "duration": 10,
    "start_time": "2022-02-26T13:46:54.018Z"
   },
   {
    "duration": 7,
    "start_time": "2022-02-26T13:47:22.189Z"
   },
   {
    "duration": 8,
    "start_time": "2022-02-26T13:47:35.073Z"
   },
   {
    "duration": 86,
    "start_time": "2022-02-26T13:50:31.178Z"
   },
   {
    "duration": 409,
    "start_time": "2022-02-26T13:53:22.473Z"
   },
   {
    "duration": 85,
    "start_time": "2022-02-26T13:53:59.671Z"
   },
   {
    "duration": 1918,
    "start_time": "2022-02-26T13:54:51.173Z"
   },
   {
    "duration": 278,
    "start_time": "2022-02-26T13:56:22.857Z"
   },
   {
    "duration": 338,
    "start_time": "2022-02-26T13:56:29.771Z"
   },
   {
    "duration": 1941,
    "start_time": "2022-02-26T13:56:46.038Z"
   },
   {
    "duration": 9,
    "start_time": "2022-02-26T13:58:16.125Z"
   },
   {
    "duration": 10,
    "start_time": "2022-02-26T13:58:37.498Z"
   },
   {
    "duration": 15,
    "start_time": "2022-02-26T13:59:31.524Z"
   },
   {
    "duration": 14,
    "start_time": "2022-02-26T14:00:03.914Z"
   },
   {
    "duration": 23,
    "start_time": "2022-02-26T14:00:52.505Z"
   },
   {
    "duration": 24,
    "start_time": "2022-02-26T14:02:06.317Z"
   },
   {
    "duration": 89,
    "start_time": "2022-02-26T14:02:45.446Z"
   },
   {
    "duration": 18,
    "start_time": "2022-02-26T14:02:49.546Z"
   },
   {
    "duration": 9,
    "start_time": "2022-02-26T14:02:54.375Z"
   },
   {
    "duration": 6,
    "start_time": "2022-02-26T14:02:57.883Z"
   },
   {
    "duration": 9,
    "start_time": "2022-02-26T14:03:03.634Z"
   },
   {
    "duration": 25,
    "start_time": "2022-02-26T14:03:07.545Z"
   },
   {
    "duration": 12,
    "start_time": "2022-02-26T14:12:18.045Z"
   },
   {
    "duration": 9,
    "start_time": "2022-02-26T14:12:44.920Z"
   },
   {
    "duration": 10,
    "start_time": "2022-02-26T14:12:57.080Z"
   },
   {
    "duration": 10,
    "start_time": "2022-02-26T14:13:23.208Z"
   },
   {
    "duration": 11,
    "start_time": "2022-02-26T14:13:43.087Z"
   },
   {
    "duration": 12,
    "start_time": "2022-02-26T14:13:47.075Z"
   },
   {
    "duration": 98,
    "start_time": "2022-02-26T14:21:02.671Z"
   },
   {
    "duration": 18,
    "start_time": "2022-02-26T14:21:41.424Z"
   },
   {
    "duration": 11,
    "start_time": "2022-02-26T14:21:50.295Z"
   },
   {
    "duration": 12,
    "start_time": "2022-02-26T14:22:09.546Z"
   },
   {
    "duration": 9,
    "start_time": "2022-02-26T14:22:22.045Z"
   },
   {
    "duration": 8,
    "start_time": "2022-02-26T14:22:25.258Z"
   },
   {
    "duration": 8,
    "start_time": "2022-02-26T14:22:28.801Z"
   },
   {
    "duration": 10,
    "start_time": "2022-02-26T14:22:33.113Z"
   },
   {
    "duration": 9,
    "start_time": "2022-02-26T14:22:37.245Z"
   },
   {
    "duration": 8,
    "start_time": "2022-02-26T14:22:42.764Z"
   },
   {
    "duration": 10,
    "start_time": "2022-02-26T14:22:46.689Z"
   },
   {
    "duration": 283,
    "start_time": "2022-02-26T14:23:56.026Z"
   },
   {
    "duration": 6,
    "start_time": "2022-02-26T14:24:43.052Z"
   },
   {
    "duration": 26,
    "start_time": "2022-02-26T14:28:33.345Z"
   },
   {
    "duration": 330,
    "start_time": "2022-02-26T14:30:27.832Z"
   },
   {
    "duration": 25,
    "start_time": "2022-02-26T14:30:48.646Z"
   },
   {
    "duration": 344,
    "start_time": "2022-02-26T14:37:18.917Z"
   },
   {
    "duration": 25,
    "start_time": "2022-02-26T14:37:41.579Z"
   },
   {
    "duration": 90,
    "start_time": "2022-02-26T14:59:38.126Z"
   },
   {
    "duration": 103,
    "start_time": "2022-02-26T14:59:51.291Z"
   },
   {
    "duration": 13,
    "start_time": "2022-02-26T15:00:00.506Z"
   },
   {
    "duration": 10,
    "start_time": "2022-02-26T15:01:14.545Z"
   },
   {
    "duration": 10,
    "start_time": "2022-02-26T15:02:05.208Z"
   },
   {
    "duration": 16,
    "start_time": "2022-02-26T15:02:58.794Z"
   },
   {
    "duration": 17,
    "start_time": "2022-02-26T15:05:49.046Z"
   },
   {
    "duration": 16,
    "start_time": "2022-02-26T15:06:07.245Z"
   },
   {
    "duration": 75,
    "start_time": "2022-02-26T15:06:23.878Z"
   },
   {
    "duration": 17,
    "start_time": "2022-02-26T15:06:27.083Z"
   },
   {
    "duration": 7,
    "start_time": "2022-02-26T15:06:31.021Z"
   },
   {
    "duration": 6,
    "start_time": "2022-02-26T15:06:36.524Z"
   },
   {
    "duration": 8,
    "start_time": "2022-02-26T15:06:43.398Z"
   },
   {
    "duration": 22,
    "start_time": "2022-02-26T15:06:54.943Z"
   },
   {
    "duration": 26,
    "start_time": "2022-02-26T15:06:58.497Z"
   },
   {
    "duration": 22,
    "start_time": "2022-02-26T15:07:01.933Z"
   },
   {
    "duration": 17,
    "start_time": "2022-02-26T15:07:43.600Z"
   },
   {
    "duration": 15,
    "start_time": "2022-02-26T15:08:58.559Z"
   },
   {
    "duration": 308,
    "start_time": "2022-02-26T15:15:17.910Z"
   },
   {
    "duration": 6,
    "start_time": "2022-02-26T15:16:05.782Z"
   },
   {
    "duration": 7,
    "start_time": "2022-02-26T15:17:55.251Z"
   },
   {
    "duration": 11,
    "start_time": "2022-02-26T15:18:50.053Z"
   },
   {
    "duration": 7,
    "start_time": "2022-02-26T15:32:22.480Z"
   },
   {
    "duration": 291,
    "start_time": "2022-02-26T15:34:19.339Z"
   },
   {
    "duration": 322,
    "start_time": "2022-02-26T15:34:38.764Z"
   },
   {
    "duration": 10,
    "start_time": "2022-02-26T15:35:25.423Z"
   },
   {
    "duration": 15,
    "start_time": "2022-02-26T15:36:50.892Z"
   },
   {
    "duration": 16,
    "start_time": "2022-02-26T15:37:50.284Z"
   },
   {
    "duration": 14,
    "start_time": "2022-02-26T15:37:55.226Z"
   },
   {
    "duration": 8,
    "start_time": "2022-02-26T15:39:58.227Z"
   },
   {
    "duration": 9,
    "start_time": "2022-02-26T15:40:13.798Z"
   },
   {
    "duration": 9,
    "start_time": "2022-02-26T15:41:41.703Z"
   },
   {
    "duration": 11,
    "start_time": "2022-02-26T15:44:20.031Z"
   },
   {
    "duration": 305,
    "start_time": "2022-02-26T15:45:27.412Z"
   },
   {
    "duration": 291,
    "start_time": "2022-02-26T15:46:01.760Z"
   },
   {
    "duration": 10,
    "start_time": "2022-02-26T15:46:12.103Z"
   },
   {
    "duration": 5,
    "start_time": "2022-02-26T15:52:55.203Z"
   },
   {
    "duration": 10,
    "start_time": "2022-02-26T15:55:50.174Z"
   },
   {
    "duration": 9,
    "start_time": "2022-02-26T15:58:32.286Z"
   },
   {
    "duration": 11,
    "start_time": "2022-02-26T15:58:49.332Z"
   },
   {
    "duration": 11,
    "start_time": "2022-02-26T15:59:20.483Z"
   },
   {
    "duration": 12,
    "start_time": "2022-02-26T15:59:46.669Z"
   },
   {
    "duration": 12,
    "start_time": "2022-02-26T16:00:30.693Z"
   },
   {
    "duration": 12,
    "start_time": "2022-02-26T16:01:05.794Z"
   },
   {
    "duration": 8,
    "start_time": "2022-02-26T17:13:10.242Z"
   },
   {
    "duration": 12,
    "start_time": "2022-02-26T17:13:15.500Z"
   },
   {
    "duration": 14,
    "start_time": "2022-02-26T17:13:22.563Z"
   },
   {
    "duration": 14,
    "start_time": "2022-02-26T17:18:00.659Z"
   },
   {
    "duration": 10,
    "start_time": "2022-02-26T17:18:35.838Z"
   },
   {
    "duration": 279,
    "start_time": "2022-02-26T17:25:08.703Z"
   },
   {
    "duration": 3579,
    "start_time": "2022-02-26T17:25:16.822Z"
   },
   {
    "duration": 3636,
    "start_time": "2022-02-26T17:25:21.617Z"
   },
   {
    "duration": 6,
    "start_time": "2022-02-26T17:25:31.973Z"
   },
   {
    "duration": 6,
    "start_time": "2022-02-26T17:25:50.933Z"
   },
   {
    "duration": 4,
    "start_time": "2022-02-26T17:27:02.059Z"
   },
   {
    "duration": 23,
    "start_time": "2022-02-26T17:28:12.402Z"
   },
   {
    "duration": 7,
    "start_time": "2022-02-26T17:29:04.407Z"
   },
   {
    "duration": 12,
    "start_time": "2022-02-26T17:30:07.188Z"
   },
   {
    "duration": 297,
    "start_time": "2022-02-26T17:31:40.757Z"
   },
   {
    "duration": 25,
    "start_time": "2022-02-26T17:31:45.695Z"
   },
   {
    "duration": 39,
    "start_time": "2022-02-26T17:33:43.334Z"
   },
   {
    "duration": 29,
    "start_time": "2022-02-26T17:33:51.140Z"
   },
   {
    "duration": 32,
    "start_time": "2022-02-26T17:50:51.628Z"
   },
   {
    "duration": 30,
    "start_time": "2022-02-26T17:54:00.181Z"
   },
   {
    "duration": 14,
    "start_time": "2022-02-26T17:54:39.265Z"
   },
   {
    "duration": 27,
    "start_time": "2022-02-26T17:54:53.469Z"
   },
   {
    "duration": 8,
    "start_time": "2022-02-26T18:13:06.842Z"
   },
   {
    "duration": 60,
    "start_time": "2022-02-26T18:36:16.766Z"
   },
   {
    "duration": 89,
    "start_time": "2022-02-26T18:36:24.889Z"
   },
   {
    "duration": 17,
    "start_time": "2022-02-26T18:36:28.413Z"
   },
   {
    "duration": 77,
    "start_time": "2022-02-26T18:37:01.940Z"
   },
   {
    "duration": 20,
    "start_time": "2022-02-26T18:37:02.020Z"
   },
   {
    "duration": 7,
    "start_time": "2022-02-26T18:37:02.043Z"
   },
   {
    "duration": 7,
    "start_time": "2022-02-26T18:37:02.053Z"
   },
   {
    "duration": 9,
    "start_time": "2022-02-26T18:37:02.062Z"
   },
   {
    "duration": 12,
    "start_time": "2022-02-26T18:37:02.073Z"
   },
   {
    "duration": 61,
    "start_time": "2022-02-26T18:37:02.088Z"
   },
   {
    "duration": 11,
    "start_time": "2022-02-26T18:37:02.151Z"
   },
   {
    "duration": 6,
    "start_time": "2022-02-26T18:37:02.166Z"
   },
   {
    "duration": 12,
    "start_time": "2022-02-26T18:37:02.174Z"
   },
   {
    "duration": 46,
    "start_time": "2022-02-26T18:37:02.188Z"
   },
   {
    "duration": 27,
    "start_time": "2022-02-26T18:37:02.236Z"
   },
   {
    "duration": 7,
    "start_time": "2022-02-26T18:37:02.266Z"
   },
   {
    "duration": 7,
    "start_time": "2022-02-26T18:37:02.276Z"
   },
   {
    "duration": 55,
    "start_time": "2022-02-26T18:37:02.285Z"
   },
   {
    "duration": 18,
    "start_time": "2022-02-26T18:37:02.343Z"
   },
   {
    "duration": 30,
    "start_time": "2022-02-26T18:37:02.363Z"
   },
   {
    "duration": 10,
    "start_time": "2022-02-26T19:51:36.104Z"
   },
   {
    "duration": 11,
    "start_time": "2022-02-26T20:01:00.695Z"
   },
   {
    "duration": 11,
    "start_time": "2022-02-26T20:01:35.496Z"
   },
   {
    "duration": 7,
    "start_time": "2022-02-26T20:02:40.565Z"
   },
   {
    "duration": 11,
    "start_time": "2022-02-26T20:03:05.486Z"
   },
   {
    "duration": 11,
    "start_time": "2022-02-26T20:03:37.136Z"
   },
   {
    "duration": 70,
    "start_time": "2022-02-26T20:03:58.151Z"
   },
   {
    "duration": 24,
    "start_time": "2022-02-26T20:04:01.773Z"
   },
   {
    "duration": 11,
    "start_time": "2022-02-26T20:06:42.473Z"
   },
   {
    "duration": 8,
    "start_time": "2022-02-26T20:10:13.086Z"
   },
   {
    "duration": 8,
    "start_time": "2022-02-26T20:35:17.784Z"
   },
   {
    "duration": 7,
    "start_time": "2022-02-26T20:35:37.967Z"
   },
   {
    "duration": 45,
    "start_time": "2022-02-26T20:39:38.780Z"
   },
   {
    "duration": 24264,
    "start_time": "2022-02-26T20:40:14.880Z"
   },
   {
    "duration": 20,
    "start_time": "2022-02-26T20:41:19.752Z"
   },
   {
    "duration": 17,
    "start_time": "2022-02-26T20:41:32.367Z"
   },
   {
    "duration": 24,
    "start_time": "2022-02-26T20:41:48.273Z"
   },
   {
    "duration": 112,
    "start_time": "2022-02-26T20:42:37.794Z"
   },
   {
    "duration": 88,
    "start_time": "2022-02-26T20:42:47.569Z"
   },
   {
    "duration": 1135,
    "start_time": "2022-02-26T20:43:13.479Z"
   },
   {
    "duration": 1367,
    "start_time": "2022-02-26T20:45:06.712Z"
   },
   {
    "duration": 26,
    "start_time": "2022-02-26T21:29:36.857Z"
   },
   {
    "duration": 287,
    "start_time": "2022-02-26T21:38:40.830Z"
   },
   {
    "duration": 6,
    "start_time": "2022-02-26T21:39:38.212Z"
   },
   {
    "duration": 12,
    "start_time": "2022-02-26T21:39:55.518Z"
   },
   {
    "duration": 71,
    "start_time": "2022-02-26T21:40:45.393Z"
   },
   {
    "duration": 9,
    "start_time": "2022-02-26T21:40:52.525Z"
   },
   {
    "duration": 18,
    "start_time": "2022-02-26T21:40:54.274Z"
   },
   {
    "duration": 10,
    "start_time": "2022-02-26T21:40:56.690Z"
   },
   {
    "duration": 6,
    "start_time": "2022-02-26T21:40:59.157Z"
   },
   {
    "duration": 7,
    "start_time": "2022-02-26T21:41:00.487Z"
   },
   {
    "duration": 9,
    "start_time": "2022-02-26T21:41:02.292Z"
   },
   {
    "duration": 26,
    "start_time": "2022-02-26T21:41:05.442Z"
   },
   {
    "duration": 11,
    "start_time": "2022-02-26T21:41:12.018Z"
   },
   {
    "duration": 7,
    "start_time": "2022-02-26T21:41:14.469Z"
   },
   {
    "duration": 10,
    "start_time": "2022-02-26T21:41:15.012Z"
   },
   {
    "duration": 12,
    "start_time": "2022-02-26T21:41:17.836Z"
   },
   {
    "duration": 11,
    "start_time": "2022-02-26T21:41:56.006Z"
   },
   {
    "duration": 11,
    "start_time": "2022-02-26T21:42:04.020Z"
   },
   {
    "duration": 278,
    "start_time": "2022-02-26T21:56:39.183Z"
   },
   {
    "duration": 273,
    "start_time": "2022-02-26T21:56:52.412Z"
   },
   {
    "duration": 296,
    "start_time": "2022-02-26T21:57:08.583Z"
   },
   {
    "duration": 9,
    "start_time": "2022-02-26T21:59:18.502Z"
   },
   {
    "duration": 6,
    "start_time": "2022-02-26T21:59:39.475Z"
   },
   {
    "duration": 17,
    "start_time": "2022-02-26T21:59:43.120Z"
   },
   {
    "duration": 84,
    "start_time": "2022-02-26T22:01:13.935Z"
   },
   {
    "duration": 10,
    "start_time": "2022-02-26T22:01:17.944Z"
   },
   {
    "duration": 6,
    "start_time": "2022-02-26T22:01:19.745Z"
   },
   {
    "duration": 17,
    "start_time": "2022-02-26T22:01:22.149Z"
   },
   {
    "duration": 13,
    "start_time": "2022-02-26T22:01:26.891Z"
   },
   {
    "duration": 13,
    "start_time": "2022-02-26T22:01:38.990Z"
   },
   {
    "duration": 17,
    "start_time": "2022-02-26T22:07:44.351Z"
   },
   {
    "duration": 75,
    "start_time": "2022-02-26T22:10:05.976Z"
   },
   {
    "duration": 74,
    "start_time": "2022-02-26T22:12:08.495Z"
   },
   {
    "duration": 32,
    "start_time": "2022-02-26T22:20:51.421Z"
   },
   {
    "duration": 12,
    "start_time": "2022-02-26T22:21:38.446Z"
   },
   {
    "duration": 33,
    "start_time": "2022-02-26T22:22:20.110Z"
   },
   {
    "duration": 611,
    "start_time": "2022-02-27T08:24:57.037Z"
   },
   {
    "duration": 14,
    "start_time": "2022-02-27T08:25:25.397Z"
   },
   {
    "duration": 24,
    "start_time": "2022-02-27T08:27:57.986Z"
   },
   {
    "duration": 7,
    "start_time": "2022-02-27T08:28:37.337Z"
   },
   {
    "duration": 9,
    "start_time": "2022-02-27T08:28:54.954Z"
   },
   {
    "duration": 8,
    "start_time": "2022-02-27T08:29:13.608Z"
   },
   {
    "duration": 6,
    "start_time": "2022-02-27T08:30:43.587Z"
   },
   {
    "duration": 351,
    "start_time": "2022-02-27T08:41:58.879Z"
   },
   {
    "duration": 7,
    "start_time": "2022-02-27T08:42:02.335Z"
   },
   {
    "duration": 59,
    "start_time": "2022-02-27T09:40:05.466Z"
   },
   {
    "duration": 8,
    "start_time": "2022-02-27T09:40:05.528Z"
   },
   {
    "duration": 41,
    "start_time": "2022-02-27T09:40:05.539Z"
   },
   {
    "duration": 5,
    "start_time": "2022-02-27T09:40:05.583Z"
   },
   {
    "duration": 10,
    "start_time": "2022-02-27T09:40:05.590Z"
   },
   {
    "duration": 13,
    "start_time": "2022-02-27T09:40:05.602Z"
   },
   {
    "duration": 12,
    "start_time": "2022-02-27T09:40:05.617Z"
   },
   {
    "duration": 46,
    "start_time": "2022-02-27T09:40:05.633Z"
   },
   {
    "duration": 14,
    "start_time": "2022-02-27T09:40:05.682Z"
   },
   {
    "duration": 7,
    "start_time": "2022-02-27T09:40:05.698Z"
   },
   {
    "duration": 10,
    "start_time": "2022-02-27T09:40:05.707Z"
   },
   {
    "duration": 12,
    "start_time": "2022-02-27T09:40:05.719Z"
   },
   {
    "duration": 4,
    "start_time": "2022-02-27T09:40:05.734Z"
   },
   {
    "duration": 35,
    "start_time": "2022-02-27T09:40:05.778Z"
   },
   {
    "duration": 9,
    "start_time": "2022-02-27T09:40:05.815Z"
   },
   {
    "duration": 88,
    "start_time": "2022-02-27T09:40:05.826Z"
   },
   {
    "duration": 103,
    "start_time": "2022-02-27T09:40:05.814Z"
   },
   {
    "duration": 103,
    "start_time": "2022-02-27T09:40:05.816Z"
   },
   {
    "duration": 103,
    "start_time": "2022-02-27T09:40:05.818Z"
   },
   {
    "duration": 103,
    "start_time": "2022-02-27T09:40:05.820Z"
   },
   {
    "duration": 102,
    "start_time": "2022-02-27T09:40:05.822Z"
   },
   {
    "duration": 159,
    "start_time": "2022-02-27T09:40:31.439Z"
   },
   {
    "duration": 10,
    "start_time": "2022-02-27T09:42:39.364Z"
   },
   {
    "duration": 286,
    "start_time": "2022-02-27T09:43:23.956Z"
   },
   {
    "duration": 19,
    "start_time": "2022-02-27T09:44:28.890Z"
   },
   {
    "duration": 24,
    "start_time": "2022-02-27T09:44:48.038Z"
   },
   {
    "duration": 24,
    "start_time": "2022-02-27T09:45:02.604Z"
   },
   {
    "duration": 282,
    "start_time": "2022-02-27T09:45:32.881Z"
   },
   {
    "duration": 20,
    "start_time": "2022-02-27T09:45:43.270Z"
   },
   {
    "duration": 22,
    "start_time": "2022-02-27T09:45:51.032Z"
   },
   {
    "duration": 278,
    "start_time": "2022-02-27T09:46:55.721Z"
   },
   {
    "duration": 14,
    "start_time": "2022-02-27T09:47:33.655Z"
   },
   {
    "duration": 14,
    "start_time": "2022-02-27T09:48:10.491Z"
   },
   {
    "duration": 16,
    "start_time": "2022-02-27T09:51:15.830Z"
   },
   {
    "duration": 357,
    "start_time": "2022-02-27T09:53:42.033Z"
   },
   {
    "duration": 264,
    "start_time": "2022-02-27T09:54:03.226Z"
   },
   {
    "duration": 11,
    "start_time": "2022-02-27T09:55:29.798Z"
   },
   {
    "duration": 12,
    "start_time": "2022-02-27T09:56:38.394Z"
   },
   {
    "duration": 99,
    "start_time": "2022-02-27T10:02:07.820Z"
   },
   {
    "duration": 11,
    "start_time": "2022-02-27T10:02:41.300Z"
   },
   {
    "duration": 9,
    "start_time": "2022-02-27T10:02:59.261Z"
   },
   {
    "duration": 11,
    "start_time": "2022-02-27T10:06:10.257Z"
   },
   {
    "duration": 14,
    "start_time": "2022-02-27T10:07:10.134Z"
   },
   {
    "duration": -71,
    "start_time": "2022-02-27T10:08:05.981Z"
   },
   {
    "duration": 15,
    "start_time": "2022-02-27T10:08:10.006Z"
   },
   {
    "duration": 12,
    "start_time": "2022-02-27T10:08:46.041Z"
   },
   {
    "duration": 64,
    "start_time": "2022-02-27T10:09:01.882Z"
   },
   {
    "duration": 8,
    "start_time": "2022-02-27T10:09:01.949Z"
   },
   {
    "duration": 13,
    "start_time": "2022-02-27T10:09:01.977Z"
   },
   {
    "duration": 26,
    "start_time": "2022-02-27T10:09:01.993Z"
   },
   {
    "duration": 24,
    "start_time": "2022-02-27T10:09:02.021Z"
   },
   {
    "duration": 10,
    "start_time": "2022-02-27T10:09:02.047Z"
   },
   {
    "duration": 20,
    "start_time": "2022-02-27T10:09:02.058Z"
   },
   {
    "duration": 23,
    "start_time": "2022-02-27T10:09:02.080Z"
   },
   {
    "duration": 10,
    "start_time": "2022-02-27T10:09:02.106Z"
   },
   {
    "duration": 9,
    "start_time": "2022-02-27T10:09:02.118Z"
   },
   {
    "duration": 8,
    "start_time": "2022-02-27T10:09:02.129Z"
   },
   {
    "duration": 27,
    "start_time": "2022-02-27T10:09:02.138Z"
   },
   {
    "duration": 6,
    "start_time": "2022-02-27T10:09:02.167Z"
   },
   {
    "duration": 25,
    "start_time": "2022-02-27T10:09:02.177Z"
   },
   {
    "duration": 5,
    "start_time": "2022-02-27T10:09:02.204Z"
   },
   {
    "duration": 18,
    "start_time": "2022-02-27T10:09:02.211Z"
   },
   {
    "duration": 9,
    "start_time": "2022-02-27T10:09:02.231Z"
   },
   {
    "duration": 11,
    "start_time": "2022-02-27T10:09:14.880Z"
   },
   {
    "duration": 268,
    "start_time": "2022-02-27T10:31:22.497Z"
   },
   {
    "duration": 14,
    "start_time": "2022-02-27T10:31:37.641Z"
   },
   {
    "duration": 14,
    "start_time": "2022-02-27T10:31:43.965Z"
   },
   {
    "duration": 4,
    "start_time": "2022-02-27T10:32:01.467Z"
   },
   {
    "duration": 274,
    "start_time": "2022-02-27T10:50:05.850Z"
   },
   {
    "duration": 13,
    "start_time": "2022-02-27T10:50:29.156Z"
   },
   {
    "duration": 12,
    "start_time": "2022-02-27T10:53:36.566Z"
   },
   {
    "duration": 12,
    "start_time": "2022-02-27T10:53:46.350Z"
   },
   {
    "duration": 269,
    "start_time": "2022-02-27T11:04:34.000Z"
   },
   {
    "duration": 13,
    "start_time": "2022-02-27T11:05:14.919Z"
   },
   {
    "duration": 6632,
    "start_time": "2022-02-27T11:05:43.337Z"
   },
   {
    "duration": 14,
    "start_time": "2022-02-27T11:07:24.002Z"
   },
   {
    "duration": 14,
    "start_time": "2022-02-27T11:07:28.147Z"
   },
   {
    "duration": 1893,
    "start_time": "2022-02-27T11:08:51.364Z"
   },
   {
    "duration": 30,
    "start_time": "2022-02-27T11:09:14.450Z"
   },
   {
    "duration": 42,
    "start_time": "2022-02-27T11:09:46.139Z"
   },
   {
    "duration": 42,
    "start_time": "2022-02-27T11:10:32.332Z"
   },
   {
    "duration": 42,
    "start_time": "2022-02-27T11:10:51.018Z"
   },
   {
    "duration": 62,
    "start_time": "2022-02-27T11:11:01.533Z"
   },
   {
    "duration": 7,
    "start_time": "2022-02-27T11:11:01.598Z"
   },
   {
    "duration": 20,
    "start_time": "2022-02-27T11:11:01.608Z"
   },
   {
    "duration": 8,
    "start_time": "2022-02-27T11:11:01.630Z"
   },
   {
    "duration": 5,
    "start_time": "2022-02-27T11:11:01.640Z"
   },
   {
    "duration": 34,
    "start_time": "2022-02-27T11:11:01.647Z"
   },
   {
    "duration": 9,
    "start_time": "2022-02-27T11:11:01.684Z"
   },
   {
    "duration": 20,
    "start_time": "2022-02-27T11:11:01.695Z"
   },
   {
    "duration": 9,
    "start_time": "2022-02-27T11:11:01.719Z"
   },
   {
    "duration": 5,
    "start_time": "2022-02-27T11:11:01.730Z"
   },
   {
    "duration": 7,
    "start_time": "2022-02-27T11:11:01.778Z"
   },
   {
    "duration": 10,
    "start_time": "2022-02-27T11:11:01.787Z"
   },
   {
    "duration": 3,
    "start_time": "2022-02-27T11:11:01.798Z"
   },
   {
    "duration": 24,
    "start_time": "2022-02-27T11:11:01.803Z"
   },
   {
    "duration": 6,
    "start_time": "2022-02-27T11:11:01.829Z"
   },
   {
    "duration": 50,
    "start_time": "2022-02-27T11:11:01.836Z"
   },
   {
    "duration": 9,
    "start_time": "2022-02-27T11:11:01.888Z"
   },
   {
    "duration": 17,
    "start_time": "2022-02-27T11:11:01.899Z"
   },
   {
    "duration": 4,
    "start_time": "2022-02-27T11:11:01.918Z"
   },
   {
    "duration": 15,
    "start_time": "2022-02-27T11:11:01.924Z"
   },
   {
    "duration": 73,
    "start_time": "2022-02-27T11:11:01.940Z"
   },
   {
    "duration": 26,
    "start_time": "2022-02-27T11:11:53.525Z"
   },
   {
    "duration": 4,
    "start_time": "2022-02-27T11:30:13.556Z"
   },
   {
    "duration": 4,
    "start_time": "2022-02-27T11:30:18.306Z"
   },
   {
    "duration": 88,
    "start_time": "2022-02-27T11:37:32.873Z"
   },
   {
    "duration": 320,
    "start_time": "2022-02-27T11:39:38.374Z"
   },
   {
    "duration": 390,
    "start_time": "2022-02-27T11:40:02.826Z"
   },
   {
    "duration": 4,
    "start_time": "2022-02-27T11:40:32.077Z"
   },
   {
    "duration": 3,
    "start_time": "2022-02-27T11:40:35.614Z"
   },
   {
    "duration": 3,
    "start_time": "2022-02-27T11:41:14.095Z"
   },
   {
    "duration": 5,
    "start_time": "2022-02-27T11:41:20.424Z"
   },
   {
    "duration": 6,
    "start_time": "2022-02-27T11:41:41.747Z"
   },
   {
    "duration": 6,
    "start_time": "2022-02-27T11:43:23.501Z"
   },
   {
    "duration": 267,
    "start_time": "2022-02-27T11:44:07.084Z"
   },
   {
    "duration": 10,
    "start_time": "2022-02-27T11:44:16.112Z"
   },
   {
    "duration": 441,
    "start_time": "2022-02-27T11:44:28.975Z"
   },
   {
    "duration": 9,
    "start_time": "2022-02-27T11:45:04.825Z"
   },
   {
    "duration": 8,
    "start_time": "2022-02-27T11:45:30.975Z"
   },
   {
    "duration": 8,
    "start_time": "2022-02-27T11:51:04.954Z"
   },
   {
    "duration": 8,
    "start_time": "2022-02-27T11:51:12.030Z"
   },
   {
    "duration": 85,
    "start_time": "2022-02-27T11:55:43.804Z"
   },
   {
    "duration": 12,
    "start_time": "2022-02-27T11:56:01.518Z"
   },
   {
    "duration": 9,
    "start_time": "2022-02-27T11:56:11.711Z"
   },
   {
    "duration": 8,
    "start_time": "2022-02-27T11:56:59.371Z"
   },
   {
    "duration": 27,
    "start_time": "2022-02-27T12:05:03.011Z"
   },
   {
    "duration": 34,
    "start_time": "2022-02-27T12:05:48.382Z"
   },
   {
    "duration": 367,
    "start_time": "2022-02-27T12:06:04.133Z"
   },
   {
    "duration": 25,
    "start_time": "2022-02-27T12:07:19.103Z"
   },
   {
    "duration": 87,
    "start_time": "2022-02-27T12:11:18.851Z"
   },
   {
    "duration": 17,
    "start_time": "2022-02-27T12:11:37.701Z"
   },
   {
    "duration": 18,
    "start_time": "2022-02-27T12:11:51.086Z"
   },
   {
    "duration": 67,
    "start_time": "2022-02-27T12:12:11.179Z"
   },
   {
    "duration": 6,
    "start_time": "2022-02-27T12:12:11.248Z"
   },
   {
    "duration": 12,
    "start_time": "2022-02-27T12:12:11.256Z"
   },
   {
    "duration": 8,
    "start_time": "2022-02-27T12:12:11.270Z"
   },
   {
    "duration": 20,
    "start_time": "2022-02-27T12:12:11.279Z"
   },
   {
    "duration": 7,
    "start_time": "2022-02-27T12:12:11.300Z"
   },
   {
    "duration": 9,
    "start_time": "2022-02-27T12:12:11.309Z"
   },
   {
    "duration": 17,
    "start_time": "2022-02-27T12:12:11.320Z"
   },
   {
    "duration": 8,
    "start_time": "2022-02-27T12:12:11.339Z"
   },
   {
    "duration": 5,
    "start_time": "2022-02-27T12:12:11.348Z"
   },
   {
    "duration": 26,
    "start_time": "2022-02-27T12:12:11.354Z"
   },
   {
    "duration": 9,
    "start_time": "2022-02-27T12:12:11.382Z"
   },
   {
    "duration": 4,
    "start_time": "2022-02-27T12:12:11.393Z"
   },
   {
    "duration": 24,
    "start_time": "2022-02-27T12:12:11.399Z"
   },
   {
    "duration": 7,
    "start_time": "2022-02-27T12:12:11.425Z"
   },
   {
    "duration": 53,
    "start_time": "2022-02-27T12:12:11.434Z"
   },
   {
    "duration": 12,
    "start_time": "2022-02-27T12:12:11.488Z"
   },
   {
    "duration": 15,
    "start_time": "2022-02-27T12:12:11.502Z"
   },
   {
    "duration": 5,
    "start_time": "2022-02-27T12:12:11.519Z"
   },
   {
    "duration": 17,
    "start_time": "2022-02-27T12:12:14.584Z"
   },
   {
    "duration": 17,
    "start_time": "2022-02-27T12:12:25.009Z"
   },
   {
    "duration": 18,
    "start_time": "2022-02-27T12:12:31.030Z"
   },
   {
    "duration": 25,
    "start_time": "2022-02-27T12:13:27.043Z"
   },
   {
    "duration": 16,
    "start_time": "2022-02-27T12:13:46.308Z"
   },
   {
    "duration": 23,
    "start_time": "2022-02-27T12:14:25.731Z"
   },
   {
    "duration": 17,
    "start_time": "2022-02-27T12:15:36.603Z"
   },
   {
    "duration": 20,
    "start_time": "2022-02-27T12:15:43.928Z"
   },
   {
    "duration": 6,
    "start_time": "2022-02-27T12:30:07.610Z"
   },
   {
    "duration": 12,
    "start_time": "2022-02-27T12:30:17.650Z"
   },
   {
    "duration": 57,
    "start_time": "2022-02-27T12:30:35.201Z"
   },
   {
    "duration": 7,
    "start_time": "2022-02-27T12:30:35.260Z"
   },
   {
    "duration": 12,
    "start_time": "2022-02-27T12:30:35.269Z"
   },
   {
    "duration": 7,
    "start_time": "2022-02-27T12:30:35.283Z"
   },
   {
    "duration": 5,
    "start_time": "2022-02-27T12:30:35.291Z"
   },
   {
    "duration": 6,
    "start_time": "2022-02-27T12:30:35.298Z"
   },
   {
    "duration": 14,
    "start_time": "2022-02-27T12:30:35.306Z"
   },
   {
    "duration": 20,
    "start_time": "2022-02-27T12:30:35.322Z"
   },
   {
    "duration": 34,
    "start_time": "2022-02-27T12:30:35.345Z"
   },
   {
    "duration": 5,
    "start_time": "2022-02-27T12:30:35.382Z"
   },
   {
    "duration": 9,
    "start_time": "2022-02-27T12:30:35.389Z"
   },
   {
    "duration": 11,
    "start_time": "2022-02-27T12:30:35.400Z"
   },
   {
    "duration": 8,
    "start_time": "2022-02-27T12:30:35.413Z"
   },
   {
    "duration": 26,
    "start_time": "2022-02-27T12:30:35.422Z"
   },
   {
    "duration": 28,
    "start_time": "2022-02-27T12:30:35.450Z"
   },
   {
    "duration": 14,
    "start_time": "2022-02-27T12:30:35.480Z"
   },
   {
    "duration": 9,
    "start_time": "2022-02-27T12:30:35.496Z"
   },
   {
    "duration": 14,
    "start_time": "2022-02-27T12:30:35.507Z"
   },
   {
    "duration": 4,
    "start_time": "2022-02-27T12:30:35.523Z"
   },
   {
    "duration": 49,
    "start_time": "2022-02-27T12:30:35.529Z"
   },
   {
    "duration": 12,
    "start_time": "2022-02-27T12:30:35.580Z"
   },
   {
    "duration": 27,
    "start_time": "2022-02-27T12:30:35.594Z"
   },
   {
    "duration": 20,
    "start_time": "2022-02-27T12:30:35.623Z"
   },
   {
    "duration": 42,
    "start_time": "2022-02-27T12:30:35.645Z"
   },
   {
    "duration": 12,
    "start_time": "2022-02-27T12:30:35.689Z"
   },
   {
    "duration": 9,
    "start_time": "2022-02-27T12:30:35.703Z"
   },
   {
    "duration": 12,
    "start_time": "2022-02-27T12:31:02.849Z"
   },
   {
    "duration": 324,
    "start_time": "2022-02-27T12:32:58.531Z"
   },
   {
    "duration": 18,
    "start_time": "2022-02-27T12:33:51.756Z"
   },
   {
    "duration": 17,
    "start_time": "2022-02-27T12:35:21.850Z"
   },
   {
    "duration": 14,
    "start_time": "2022-02-27T12:37:14.568Z"
   },
   {
    "duration": 113,
    "start_time": "2022-02-27T12:42:27.655Z"
   },
   {
    "duration": 12,
    "start_time": "2022-02-27T12:42:42.228Z"
   },
   {
    "duration": 57,
    "start_time": "2022-02-27T12:44:25.890Z"
   },
   {
    "duration": 6,
    "start_time": "2022-02-27T12:44:25.949Z"
   },
   {
    "duration": 21,
    "start_time": "2022-02-27T12:44:25.957Z"
   },
   {
    "duration": 5,
    "start_time": "2022-02-27T12:44:25.979Z"
   },
   {
    "duration": 9,
    "start_time": "2022-02-27T12:44:25.986Z"
   },
   {
    "duration": 8,
    "start_time": "2022-02-27T12:44:25.997Z"
   },
   {
    "duration": 10,
    "start_time": "2022-02-27T12:44:26.006Z"
   },
   {
    "duration": 19,
    "start_time": "2022-02-27T12:44:26.019Z"
   },
   {
    "duration": 38,
    "start_time": "2022-02-27T12:44:26.041Z"
   },
   {
    "duration": 4,
    "start_time": "2022-02-27T12:44:26.081Z"
   },
   {
    "duration": 15,
    "start_time": "2022-02-27T12:44:26.087Z"
   },
   {
    "duration": 10,
    "start_time": "2022-02-27T12:44:26.104Z"
   },
   {
    "duration": 4,
    "start_time": "2022-02-27T12:44:26.115Z"
   },
   {
    "duration": 27,
    "start_time": "2022-02-27T12:44:26.120Z"
   },
   {
    "duration": 5,
    "start_time": "2022-02-27T12:44:26.149Z"
   },
   {
    "duration": 14,
    "start_time": "2022-02-27T12:44:26.178Z"
   },
   {
    "duration": 12,
    "start_time": "2022-02-27T12:44:26.194Z"
   },
   {
    "duration": 18,
    "start_time": "2022-02-27T12:44:26.208Z"
   },
   {
    "duration": 5,
    "start_time": "2022-02-27T12:44:26.228Z"
   },
   {
    "duration": 47,
    "start_time": "2022-02-27T12:44:26.235Z"
   },
   {
    "duration": 12,
    "start_time": "2022-02-27T12:44:26.284Z"
   },
   {
    "duration": 28,
    "start_time": "2022-02-27T12:44:26.298Z"
   },
   {
    "duration": 20,
    "start_time": "2022-02-27T12:44:26.329Z"
   },
   {
    "duration": 42,
    "start_time": "2022-02-27T12:44:26.351Z"
   },
   {
    "duration": 13,
    "start_time": "2022-02-27T12:44:26.395Z"
   },
   {
    "duration": 11,
    "start_time": "2022-02-27T12:44:26.410Z"
   },
   {
    "duration": 13,
    "start_time": "2022-02-27T12:44:26.423Z"
   },
   {
    "duration": 272,
    "start_time": "2022-02-27T12:45:14.200Z"
   },
   {
    "duration": 12,
    "start_time": "2022-02-27T12:46:20.438Z"
   },
   {
    "duration": 11,
    "start_time": "2022-02-27T12:46:23.654Z"
   },
   {
    "duration": 13,
    "start_time": "2022-02-27T12:47:02.293Z"
   },
   {
    "duration": 60,
    "start_time": "2022-02-27T12:47:21.660Z"
   },
   {
    "duration": 6,
    "start_time": "2022-02-27T12:47:21.722Z"
   },
   {
    "duration": 13,
    "start_time": "2022-02-27T12:47:21.730Z"
   },
   {
    "duration": 33,
    "start_time": "2022-02-27T12:47:21.745Z"
   },
   {
    "duration": 8,
    "start_time": "2022-02-27T12:47:21.780Z"
   },
   {
    "duration": 9,
    "start_time": "2022-02-27T12:47:21.791Z"
   },
   {
    "duration": 11,
    "start_time": "2022-02-27T12:47:21.802Z"
   },
   {
    "duration": 19,
    "start_time": "2022-02-27T12:47:21.816Z"
   },
   {
    "duration": 10,
    "start_time": "2022-02-27T12:47:21.837Z"
   },
   {
    "duration": 34,
    "start_time": "2022-02-27T12:47:21.848Z"
   },
   {
    "duration": 10,
    "start_time": "2022-02-27T12:47:21.884Z"
   },
   {
    "duration": 11,
    "start_time": "2022-02-27T12:47:21.896Z"
   },
   {
    "duration": 3,
    "start_time": "2022-02-27T12:47:21.909Z"
   },
   {
    "duration": 24,
    "start_time": "2022-02-27T12:47:21.914Z"
   },
   {
    "duration": 40,
    "start_time": "2022-02-27T12:47:21.940Z"
   },
   {
    "duration": 16,
    "start_time": "2022-02-27T12:47:21.982Z"
   },
   {
    "duration": 9,
    "start_time": "2022-02-27T12:47:22.000Z"
   },
   {
    "duration": 14,
    "start_time": "2022-02-27T12:47:22.011Z"
   },
   {
    "duration": 4,
    "start_time": "2022-02-27T12:47:22.027Z"
   },
   {
    "duration": 47,
    "start_time": "2022-02-27T12:47:22.033Z"
   },
   {
    "duration": 11,
    "start_time": "2022-02-27T12:47:22.082Z"
   },
   {
    "duration": 28,
    "start_time": "2022-02-27T12:47:22.095Z"
   },
   {
    "duration": 20,
    "start_time": "2022-02-27T12:47:22.126Z"
   },
   {
    "duration": 44,
    "start_time": "2022-02-27T12:47:22.148Z"
   },
   {
    "duration": 13,
    "start_time": "2022-02-27T12:47:22.194Z"
   },
   {
    "duration": 12,
    "start_time": "2022-02-27T12:47:22.209Z"
   },
   {
    "duration": 8,
    "start_time": "2022-02-27T12:47:22.223Z"
   },
   {
    "duration": 63,
    "start_time": "2022-02-27T12:47:46.018Z"
   },
   {
    "duration": 6,
    "start_time": "2022-02-27T12:47:46.082Z"
   },
   {
    "duration": 13,
    "start_time": "2022-02-27T12:47:46.090Z"
   },
   {
    "duration": 5,
    "start_time": "2022-02-27T12:47:46.105Z"
   },
   {
    "duration": 6,
    "start_time": "2022-02-27T12:47:46.112Z"
   },
   {
    "duration": 8,
    "start_time": "2022-02-27T12:47:46.121Z"
   },
   {
    "duration": 9,
    "start_time": "2022-02-27T12:47:46.131Z"
   },
   {
    "duration": 56,
    "start_time": "2022-02-27T12:47:46.142Z"
   },
   {
    "duration": 9,
    "start_time": "2022-02-27T12:47:46.202Z"
   },
   {
    "duration": 5,
    "start_time": "2022-02-27T12:47:46.215Z"
   },
   {
    "duration": 8,
    "start_time": "2022-02-27T12:47:46.223Z"
   },
   {
    "duration": 51,
    "start_time": "2022-02-27T12:47:46.233Z"
   },
   {
    "duration": 4,
    "start_time": "2022-02-27T12:47:46.287Z"
   },
   {
    "duration": 23,
    "start_time": "2022-02-27T12:47:46.292Z"
   },
   {
    "duration": 6,
    "start_time": "2022-02-27T12:47:46.316Z"
   },
   {
    "duration": 16,
    "start_time": "2022-02-27T12:47:46.324Z"
   },
   {
    "duration": 43,
    "start_time": "2022-02-27T12:47:46.342Z"
   },
   {
    "duration": 15,
    "start_time": "2022-02-27T12:47:46.386Z"
   },
   {
    "duration": 5,
    "start_time": "2022-02-27T12:47:46.402Z"
   },
   {
    "duration": 25,
    "start_time": "2022-02-27T12:47:46.408Z"
   },
   {
    "duration": 11,
    "start_time": "2022-02-27T12:47:46.434Z"
   },
   {
    "duration": 50,
    "start_time": "2022-02-27T12:47:46.447Z"
   },
   {
    "duration": 20,
    "start_time": "2022-02-27T12:47:46.499Z"
   },
   {
    "duration": 17,
    "start_time": "2022-02-27T12:47:46.520Z"
   },
   {
    "duration": 13,
    "start_time": "2022-02-27T12:47:46.539Z"
   },
   {
    "duration": 11,
    "start_time": "2022-02-27T12:47:46.578Z"
   },
   {
    "duration": 8,
    "start_time": "2022-02-27T12:47:46.593Z"
   },
   {
    "duration": 12,
    "start_time": "2022-02-27T12:48:18.144Z"
   },
   {
    "duration": 5,
    "start_time": "2022-02-27T12:55:56.817Z"
   },
   {
    "duration": 83,
    "start_time": "2022-02-27T13:07:43.536Z"
   },
   {
    "duration": 89,
    "start_time": "2022-02-27T13:07:58.948Z"
   },
   {
    "duration": 82,
    "start_time": "2022-02-27T13:08:57.461Z"
   },
   {
    "duration": 89,
    "start_time": "2022-02-27T13:09:11.270Z"
   },
   {
    "duration": 91,
    "start_time": "2022-02-27T13:09:50.915Z"
   },
   {
    "duration": 266,
    "start_time": "2022-02-27T13:10:17.144Z"
   },
   {
    "duration": 508,
    "start_time": "2022-02-27T13:12:17.364Z"
   },
   {
    "duration": 10,
    "start_time": "2022-02-27T13:14:45.277Z"
   },
   {
    "duration": 521,
    "start_time": "2022-02-27T13:18:25.289Z"
   },
   {
    "duration": 777,
    "start_time": "2022-02-27T13:24:44.515Z"
   },
   {
    "duration": 509,
    "start_time": "2022-02-27T13:24:53.488Z"
   },
   {
    "duration": 598,
    "start_time": "2022-02-27T13:32:07.218Z"
   },
   {
    "duration": 5,
    "start_time": "2022-02-27T13:32:20.507Z"
   },
   {
    "duration": 6,
    "start_time": "2022-02-27T13:32:29.721Z"
   },
   {
    "duration": 11,
    "start_time": "2022-02-27T13:35:48.248Z"
   },
   {
    "duration": 8,
    "start_time": "2022-02-27T13:36:09.826Z"
   },
   {
    "duration": 9,
    "start_time": "2022-02-27T13:36:36.339Z"
   },
   {
    "duration": 19,
    "start_time": "2022-02-27T13:39:31.388Z"
   },
   {
    "duration": 7,
    "start_time": "2022-02-27T13:39:56.271Z"
   },
   {
    "duration": 6,
    "start_time": "2022-02-27T13:43:48.111Z"
   },
   {
    "duration": 8,
    "start_time": "2022-02-27T13:44:02.645Z"
   },
   {
    "duration": 8,
    "start_time": "2022-02-27T13:45:35.738Z"
   },
   {
    "duration": 257,
    "start_time": "2022-02-27T13:53:03.316Z"
   },
   {
    "duration": 258,
    "start_time": "2022-02-27T13:53:16.522Z"
   },
   {
    "duration": 278,
    "start_time": "2022-02-27T13:53:45.989Z"
   },
   {
    "duration": 280,
    "start_time": "2022-02-27T14:06:27.803Z"
   },
   {
    "duration": 8,
    "start_time": "2022-02-27T14:14:28.589Z"
   },
   {
    "duration": 946,
    "start_time": "2022-02-27T14:21:41.504Z"
   },
   {
    "duration": 261,
    "start_time": "2022-02-27T14:22:04.358Z"
   },
   {
    "duration": 12,
    "start_time": "2022-02-27T14:22:16.917Z"
   },
   {
    "duration": 15,
    "start_time": "2022-02-27T14:23:54.065Z"
   },
   {
    "duration": 21,
    "start_time": "2022-02-27T14:29:50.144Z"
   },
   {
    "duration": 22,
    "start_time": "2022-02-27T14:31:57.124Z"
   },
   {
    "duration": 19,
    "start_time": "2022-02-27T14:32:24.995Z"
   },
   {
    "duration": 283,
    "start_time": "2022-02-27T14:33:10.073Z"
   },
   {
    "duration": 293,
    "start_time": "2022-02-27T14:33:45.135Z"
   },
   {
    "duration": 286,
    "start_time": "2022-02-27T14:33:58.144Z"
   },
   {
    "duration": 61,
    "start_time": "2022-02-27T14:34:37.057Z"
   },
   {
    "duration": 6,
    "start_time": "2022-02-27T14:34:37.120Z"
   },
   {
    "duration": 11,
    "start_time": "2022-02-27T14:34:37.128Z"
   },
   {
    "duration": 6,
    "start_time": "2022-02-27T14:34:37.141Z"
   },
   {
    "duration": 32,
    "start_time": "2022-02-27T14:34:37.148Z"
   },
   {
    "duration": 7,
    "start_time": "2022-02-27T14:34:37.182Z"
   },
   {
    "duration": 8,
    "start_time": "2022-02-27T14:34:37.190Z"
   },
   {
    "duration": 20,
    "start_time": "2022-02-27T14:34:37.199Z"
   },
   {
    "duration": 9,
    "start_time": "2022-02-27T14:34:37.221Z"
   },
   {
    "duration": 48,
    "start_time": "2022-02-27T14:34:37.232Z"
   },
   {
    "duration": 10,
    "start_time": "2022-02-27T14:34:37.282Z"
   },
   {
    "duration": 9,
    "start_time": "2022-02-27T14:34:37.294Z"
   },
   {
    "duration": 3,
    "start_time": "2022-02-27T14:34:37.304Z"
   },
   {
    "duration": 26,
    "start_time": "2022-02-27T14:34:37.309Z"
   },
   {
    "duration": 41,
    "start_time": "2022-02-27T14:34:37.337Z"
   },
   {
    "duration": 18,
    "start_time": "2022-02-27T14:34:37.380Z"
   },
   {
    "duration": 9,
    "start_time": "2022-02-27T14:34:37.400Z"
   },
   {
    "duration": 15,
    "start_time": "2022-02-27T14:34:37.410Z"
   },
   {
    "duration": 4,
    "start_time": "2022-02-27T14:34:37.427Z"
   },
   {
    "duration": 59,
    "start_time": "2022-02-27T14:34:37.432Z"
   },
   {
    "duration": 15,
    "start_time": "2022-02-27T14:34:37.492Z"
   },
   {
    "duration": 27,
    "start_time": "2022-02-27T14:34:37.509Z"
   },
   {
    "duration": 45,
    "start_time": "2022-02-27T14:34:37.538Z"
   },
   {
    "duration": 17,
    "start_time": "2022-02-27T14:34:37.585Z"
   },
   {
    "duration": 13,
    "start_time": "2022-02-27T14:34:37.603Z"
   },
   {
    "duration": 5,
    "start_time": "2022-02-27T14:34:37.618Z"
   },
   {
    "duration": 555,
    "start_time": "2022-02-27T14:34:37.626Z"
   },
   {
    "duration": 9,
    "start_time": "2022-02-27T14:34:38.183Z"
   },
   {
    "duration": 546,
    "start_time": "2022-02-27T14:34:38.193Z"
   },
   {
    "duration": 16,
    "start_time": "2022-02-27T14:34:38.741Z"
   },
   {
    "duration": 30,
    "start_time": "2022-02-27T14:34:38.758Z"
   },
   {
    "duration": 20,
    "start_time": "2022-02-27T14:35:06.952Z"
   },
   {
    "duration": 629,
    "start_time": "2022-02-27T14:35:47.959Z"
   },
   {
    "duration": 20,
    "start_time": "2022-02-27T14:37:58.086Z"
   },
   {
    "duration": 15,
    "start_time": "2022-02-27T14:39:19.815Z"
   },
   {
    "duration": 16,
    "start_time": "2022-02-27T14:42:06.904Z"
   },
   {
    "duration": 18,
    "start_time": "2022-02-27T14:44:40.376Z"
   },
   {
    "duration": 5,
    "start_time": "2022-02-27T14:55:51.127Z"
   },
   {
    "duration": 60,
    "start_time": "2022-02-27T15:09:14.170Z"
   },
   {
    "duration": 15,
    "start_time": "2022-02-27T15:12:23.318Z"
   },
   {
    "duration": 60,
    "start_time": "2022-02-27T15:12:50.066Z"
   },
   {
    "duration": 7,
    "start_time": "2022-02-27T15:12:50.127Z"
   },
   {
    "duration": 47,
    "start_time": "2022-02-27T15:12:50.136Z"
   },
   {
    "duration": 6,
    "start_time": "2022-02-27T15:12:50.185Z"
   },
   {
    "duration": 12,
    "start_time": "2022-02-27T15:12:50.193Z"
   },
   {
    "duration": 8,
    "start_time": "2022-02-27T15:12:50.207Z"
   },
   {
    "duration": 10,
    "start_time": "2022-02-27T15:12:50.218Z"
   },
   {
    "duration": 64,
    "start_time": "2022-02-27T15:12:50.230Z"
   },
   {
    "duration": 11,
    "start_time": "2022-02-27T15:12:50.298Z"
   },
   {
    "duration": 6,
    "start_time": "2022-02-27T15:12:50.311Z"
   },
   {
    "duration": 12,
    "start_time": "2022-02-27T15:12:50.318Z"
   },
   {
    "duration": 9,
    "start_time": "2022-02-27T15:12:50.332Z"
   },
   {
    "duration": 38,
    "start_time": "2022-02-27T15:12:50.343Z"
   },
   {
    "duration": 32,
    "start_time": "2022-02-27T15:12:50.384Z"
   },
   {
    "duration": 5,
    "start_time": "2022-02-27T15:12:50.418Z"
   },
   {
    "duration": 18,
    "start_time": "2022-02-27T15:12:50.425Z"
   },
   {
    "duration": 39,
    "start_time": "2022-02-27T15:12:50.445Z"
   },
   {
    "duration": 14,
    "start_time": "2022-02-27T15:12:50.486Z"
   },
   {
    "duration": 5,
    "start_time": "2022-02-27T15:12:50.501Z"
   },
   {
    "duration": 18,
    "start_time": "2022-02-27T15:12:50.507Z"
   },
   {
    "duration": 50,
    "start_time": "2022-02-27T15:12:50.527Z"
   },
   {
    "duration": 24,
    "start_time": "2022-02-27T15:12:50.579Z"
   },
   {
    "duration": 28,
    "start_time": "2022-02-27T15:12:50.605Z"
   },
   {
    "duration": 18,
    "start_time": "2022-02-27T15:12:50.635Z"
   },
   {
    "duration": 14,
    "start_time": "2022-02-27T15:12:50.678Z"
   },
   {
    "duration": 6,
    "start_time": "2022-02-27T15:12:50.694Z"
   },
   {
    "duration": 568,
    "start_time": "2022-02-27T15:12:50.704Z"
   },
   {
    "duration": 13,
    "start_time": "2022-02-27T15:12:51.274Z"
   },
   {
    "duration": 541,
    "start_time": "2022-02-27T15:12:51.289Z"
   },
   {
    "duration": 17,
    "start_time": "2022-02-27T15:12:51.832Z"
   },
   {
    "duration": 39,
    "start_time": "2022-02-27T15:12:51.850Z"
   },
   {
    "duration": 16,
    "start_time": "2022-02-27T15:12:51.890Z"
   },
   {
    "duration": 15,
    "start_time": "2022-02-27T15:12:51.908Z"
   },
   {
    "duration": 780,
    "start_time": "2022-03-07T15:17:46.374Z"
   },
   {
    "duration": 15,
    "start_time": "2022-03-07T15:17:47.157Z"
   },
   {
    "duration": 17,
    "start_time": "2022-03-07T15:17:47.175Z"
   },
   {
    "duration": 8,
    "start_time": "2022-03-07T15:17:47.195Z"
   },
   {
    "duration": 6,
    "start_time": "2022-03-07T15:17:47.234Z"
   },
   {
    "duration": 8,
    "start_time": "2022-03-07T15:17:47.243Z"
   },
   {
    "duration": 10,
    "start_time": "2022-03-07T15:17:47.253Z"
   },
   {
    "duration": 69,
    "start_time": "2022-03-07T15:17:47.265Z"
   },
   {
    "duration": 11,
    "start_time": "2022-03-07T15:17:47.337Z"
   },
   {
    "duration": 6,
    "start_time": "2022-03-07T15:17:47.351Z"
   },
   {
    "duration": 11,
    "start_time": "2022-03-07T15:17:47.359Z"
   },
   {
    "duration": 17,
    "start_time": "2022-03-07T15:17:47.372Z"
   },
   {
    "duration": 43,
    "start_time": "2022-03-07T15:17:47.391Z"
   },
   {
    "duration": 31,
    "start_time": "2022-03-07T15:17:47.436Z"
   },
   {
    "duration": 7,
    "start_time": "2022-03-07T15:17:47.470Z"
   },
   {
    "duration": 20,
    "start_time": "2022-03-07T15:17:47.480Z"
   },
   {
    "duration": 14,
    "start_time": "2022-03-07T15:17:47.533Z"
   },
   {
    "duration": 18,
    "start_time": "2022-03-07T15:17:47.549Z"
   },
   {
    "duration": 6,
    "start_time": "2022-03-07T15:17:47.569Z"
   },
   {
    "duration": 57,
    "start_time": "2022-03-07T15:17:47.577Z"
   },
   {
    "duration": 16,
    "start_time": "2022-03-07T15:17:47.636Z"
   },
   {
    "duration": 35,
    "start_time": "2022-03-07T15:17:47.655Z"
   },
   {
    "duration": 55,
    "start_time": "2022-03-07T15:17:47.692Z"
   },
   {
    "duration": 23,
    "start_time": "2022-03-07T15:17:47.749Z"
   },
   {
    "duration": 17,
    "start_time": "2022-03-07T15:17:47.774Z"
   },
   {
    "duration": 8,
    "start_time": "2022-03-07T15:17:47.793Z"
   },
   {
    "duration": 863,
    "start_time": "2022-03-07T15:17:47.833Z"
   },
   {
    "duration": 11,
    "start_time": "2022-03-07T15:17:48.699Z"
   },
   {
    "duration": 880,
    "start_time": "2022-03-07T15:17:48.712Z"
   },
   {
    "duration": 40,
    "start_time": "2022-03-07T15:17:49.594Z"
   },
   {
    "duration": 28,
    "start_time": "2022-03-07T15:17:49.637Z"
   },
   {
    "duration": 22,
    "start_time": "2022-03-07T15:17:49.667Z"
   },
   {
    "duration": 61,
    "start_time": "2022-03-07T15:17:49.692Z"
   },
   {
    "duration": 45,
    "start_time": "2022-03-07T15:19:10.548Z"
   },
   {
    "duration": 6,
    "start_time": "2022-03-07T15:19:23.536Z"
   },
   {
    "duration": 424,
    "start_time": "2022-03-07T15:20:38.296Z"
   },
   {
    "duration": 48,
    "start_time": "2022-03-07T15:20:43.630Z"
   },
   {
    "duration": 863,
    "start_time": "2022-03-07T15:21:03.148Z"
   },
   {
    "duration": 17,
    "start_time": "2022-03-07T15:21:04.014Z"
   },
   {
    "duration": 19,
    "start_time": "2022-03-07T15:21:04.034Z"
   },
   {
    "duration": 8,
    "start_time": "2022-03-07T15:21:04.056Z"
   },
   {
    "duration": 6,
    "start_time": "2022-03-07T15:21:04.067Z"
   },
   {
    "duration": 11,
    "start_time": "2022-03-07T15:21:04.075Z"
   },
   {
    "duration": 49,
    "start_time": "2022-03-07T15:21:04.089Z"
   },
   {
    "duration": 32,
    "start_time": "2022-03-07T15:21:04.141Z"
   },
   {
    "duration": 11,
    "start_time": "2022-03-07T15:21:04.176Z"
   },
   {
    "duration": 7,
    "start_time": "2022-03-07T15:21:04.190Z"
   },
   {
    "duration": 42,
    "start_time": "2022-03-07T15:21:04.201Z"
   },
   {
    "duration": 18,
    "start_time": "2022-03-07T15:21:04.246Z"
   },
   {
    "duration": 4,
    "start_time": "2022-03-07T15:21:04.266Z"
   },
   {
    "duration": 68,
    "start_time": "2022-03-07T15:21:04.272Z"
   },
   {
    "duration": 9,
    "start_time": "2022-03-07T15:21:04.342Z"
   },
   {
    "duration": 23,
    "start_time": "2022-03-07T15:21:04.354Z"
   },
   {
    "duration": 88,
    "start_time": "2022-03-07T15:21:04.380Z"
   },
   {
    "duration": 14,
    "start_time": "2022-03-07T15:21:04.471Z"
   },
   {
    "duration": 5,
    "start_time": "2022-03-07T15:21:04.488Z"
   },
   {
    "duration": 43,
    "start_time": "2022-03-07T15:21:04.495Z"
   },
   {
    "duration": 6,
    "start_time": "2022-03-07T15:21:04.540Z"
   },
   {
    "duration": 27,
    "start_time": "2022-03-07T15:21:04.548Z"
   },
   {
    "duration": 16,
    "start_time": "2022-03-07T15:21:04.577Z"
   },
   {
    "duration": 69,
    "start_time": "2022-03-07T15:21:04.595Z"
   },
   {
    "duration": 32,
    "start_time": "2022-03-07T15:21:04.666Z"
   },
   {
    "duration": 52,
    "start_time": "2022-03-07T15:21:04.701Z"
   },
   {
    "duration": 15,
    "start_time": "2022-03-07T15:21:04.758Z"
   },
   {
    "duration": 6,
    "start_time": "2022-03-07T15:21:04.775Z"
   },
   {
    "duration": 1002,
    "start_time": "2022-03-07T15:21:04.784Z"
   },
   {
    "duration": 14,
    "start_time": "2022-03-07T15:21:05.789Z"
   },
   {
    "duration": 892,
    "start_time": "2022-03-07T15:21:05.805Z"
   },
   {
    "duration": 42,
    "start_time": "2022-03-07T15:21:06.700Z"
   },
   {
    "duration": 29,
    "start_time": "2022-03-07T15:21:06.744Z"
   },
   {
    "duration": 22,
    "start_time": "2022-03-07T15:21:06.776Z"
   },
   {
    "duration": 49,
    "start_time": "2022-03-07T15:21:06.800Z"
   },
   {
    "duration": 10,
    "start_time": "2022-03-07T15:22:30.738Z"
   },
   {
    "duration": 10,
    "start_time": "2022-03-07T15:22:44.719Z"
   },
   {
    "duration": 711,
    "start_time": "2022-03-08T19:04:47.677Z"
   },
   {
    "duration": 12,
    "start_time": "2022-03-08T19:04:48.389Z"
   },
   {
    "duration": 14,
    "start_time": "2022-03-08T19:04:48.403Z"
   },
   {
    "duration": 6,
    "start_time": "2022-03-08T19:04:48.418Z"
   },
   {
    "duration": 7,
    "start_time": "2022-03-08T19:04:48.425Z"
   },
   {
    "duration": 7,
    "start_time": "2022-03-08T19:04:48.433Z"
   },
   {
    "duration": 38,
    "start_time": "2022-03-08T19:04:48.442Z"
   },
   {
    "duration": 19,
    "start_time": "2022-03-08T19:04:48.482Z"
   },
   {
    "duration": 10,
    "start_time": "2022-03-08T19:04:48.503Z"
   },
   {
    "duration": 6,
    "start_time": "2022-03-08T19:04:48.515Z"
   },
   {
    "duration": 10,
    "start_time": "2022-03-08T19:04:48.523Z"
   },
   {
    "duration": 11,
    "start_time": "2022-03-08T19:04:48.535Z"
   },
   {
    "duration": 31,
    "start_time": "2022-03-08T19:04:48.547Z"
   },
   {
    "duration": 26,
    "start_time": "2022-03-08T19:04:48.580Z"
   },
   {
    "duration": 8,
    "start_time": "2022-03-08T19:04:48.608Z"
   },
   {
    "duration": 18,
    "start_time": "2022-03-08T19:04:48.618Z"
   },
   {
    "duration": 9,
    "start_time": "2022-03-08T19:04:48.638Z"
   },
   {
    "duration": 4,
    "start_time": "2022-03-08T19:04:48.678Z"
   },
   {
    "duration": 19,
    "start_time": "2022-03-08T19:04:48.684Z"
   },
   {
    "duration": 4,
    "start_time": "2022-03-08T19:04:48.705Z"
   },
   {
    "duration": 18,
    "start_time": "2022-03-08T19:04:48.711Z"
   },
   {
    "duration": 12,
    "start_time": "2022-03-08T19:04:48.730Z"
   },
   {
    "duration": 59,
    "start_time": "2022-03-08T19:04:48.744Z"
   },
   {
    "duration": 22,
    "start_time": "2022-03-08T19:04:48.805Z"
   },
   {
    "duration": 17,
    "start_time": "2022-03-08T19:04:48.828Z"
   },
   {
    "duration": 39,
    "start_time": "2022-03-08T19:04:48.847Z"
   },
   {
    "duration": 5,
    "start_time": "2022-03-08T19:04:48.890Z"
   },
   {
    "duration": 540,
    "start_time": "2022-03-08T19:04:48.897Z"
   },
   {
    "duration": 9,
    "start_time": "2022-03-08T19:04:49.438Z"
   },
   {
    "duration": 537,
    "start_time": "2022-03-08T19:04:49.448Z"
   },
   {
    "duration": 22,
    "start_time": "2022-03-08T19:04:49.987Z"
   },
   {
    "duration": 17,
    "start_time": "2022-03-08T19:04:50.011Z"
   },
   {
    "duration": 54,
    "start_time": "2022-03-08T19:04:50.031Z"
   },
   {
    "duration": 16,
    "start_time": "2022-03-08T19:04:50.087Z"
   },
   {
    "duration": 14,
    "start_time": "2022-03-08T19:05:00.449Z"
   },
   {
    "duration": 17,
    "start_time": "2022-03-08T19:05:07.875Z"
   },
   {
    "duration": 15,
    "start_time": "2022-03-08T19:05:12.209Z"
   },
   {
    "duration": 18,
    "start_time": "2022-03-08T19:05:17.892Z"
   },
   {
    "duration": 23,
    "start_time": "2022-03-08T19:05:39.705Z"
   },
   {
    "duration": 17,
    "start_time": "2022-03-08T19:12:42.971Z"
   },
   {
    "duration": 16,
    "start_time": "2022-03-08T19:13:17.847Z"
   },
   {
    "duration": 15,
    "start_time": "2022-03-08T19:13:25.190Z"
   },
   {
    "duration": 15,
    "start_time": "2022-03-08T19:23:26.234Z"
   },
   {
    "duration": 14,
    "start_time": "2022-03-08T19:23:31.305Z"
   },
   {
    "duration": 24,
    "start_time": "2022-03-08T19:24:16.387Z"
   },
   {
    "duration": 26,
    "start_time": "2022-03-08T19:24:37.182Z"
   },
   {
    "duration": 31,
    "start_time": "2022-03-08T19:24:53.914Z"
   },
   {
    "duration": 84,
    "start_time": "2022-03-08T19:43:19.395Z"
   },
   {
    "duration": 85,
    "start_time": "2022-03-08T19:43:26.020Z"
   },
   {
    "duration": 86,
    "start_time": "2022-03-08T19:43:32.183Z"
   },
   {
    "duration": 7051,
    "start_time": "2022-03-08T19:43:38.622Z"
   },
   {
    "duration": 34,
    "start_time": "2022-03-08T19:44:04.230Z"
   },
   {
    "duration": 275,
    "start_time": "2022-03-08T19:44:19.430Z"
   },
   {
    "duration": 32,
    "start_time": "2022-03-08T19:46:18.670Z"
   },
   {
    "duration": 28,
    "start_time": "2022-03-08T19:46:35.758Z"
   },
   {
    "duration": 25,
    "start_time": "2022-03-08T19:46:57.801Z"
   },
   {
    "duration": 26,
    "start_time": "2022-03-08T19:47:44.680Z"
   },
   {
    "duration": 74,
    "start_time": "2022-03-08T19:47:58.729Z"
   },
   {
    "duration": 6,
    "start_time": "2022-03-08T19:47:58.805Z"
   },
   {
    "duration": 29,
    "start_time": "2022-03-08T19:47:58.814Z"
   },
   {
    "duration": 6,
    "start_time": "2022-03-08T19:47:58.845Z"
   },
   {
    "duration": 30,
    "start_time": "2022-03-08T19:47:58.852Z"
   },
   {
    "duration": 7,
    "start_time": "2022-03-08T19:47:58.884Z"
   },
   {
    "duration": 10,
    "start_time": "2022-03-08T19:47:58.892Z"
   },
   {
    "duration": 20,
    "start_time": "2022-03-08T19:47:58.903Z"
   },
   {
    "duration": 54,
    "start_time": "2022-03-08T19:47:58.926Z"
   },
   {
    "duration": 5,
    "start_time": "2022-03-08T19:47:58.982Z"
   },
   {
    "duration": 9,
    "start_time": "2022-03-08T19:47:58.989Z"
   },
   {
    "duration": 8,
    "start_time": "2022-03-08T19:47:59.000Z"
   },
   {
    "duration": 3,
    "start_time": "2022-03-08T19:47:59.010Z"
   },
   {
    "duration": 63,
    "start_time": "2022-03-08T19:47:59.015Z"
   },
   {
    "duration": 6,
    "start_time": "2022-03-08T19:47:59.080Z"
   },
   {
    "duration": 19,
    "start_time": "2022-03-08T19:47:59.087Z"
   },
   {
    "duration": 26,
    "start_time": "2022-03-08T19:47:59.107Z"
   },
   {
    "duration": 4,
    "start_time": "2022-03-08T19:47:59.135Z"
   },
   {
    "duration": 42,
    "start_time": "2022-03-08T19:47:59.141Z"
   },
   {
    "duration": 4,
    "start_time": "2022-03-08T19:47:59.185Z"
   },
   {
    "duration": 18,
    "start_time": "2022-03-08T19:47:59.190Z"
   },
   {
    "duration": 11,
    "start_time": "2022-03-08T19:47:59.210Z"
   },
   {
    "duration": 60,
    "start_time": "2022-03-08T19:47:59.222Z"
   },
   {
    "duration": 20,
    "start_time": "2022-03-08T19:47:59.284Z"
   },
   {
    "duration": 18,
    "start_time": "2022-03-08T19:47:59.306Z"
   },
   {
    "duration": 13,
    "start_time": "2022-03-08T19:47:59.326Z"
   },
   {
    "duration": 7,
    "start_time": "2022-03-08T19:47:59.343Z"
   },
   {
    "duration": 579,
    "start_time": "2022-03-08T19:47:59.378Z"
   },
   {
    "duration": 21,
    "start_time": "2022-03-08T19:47:59.959Z"
   },
   {
    "duration": 537,
    "start_time": "2022-03-08T19:47:59.982Z"
   },
   {
    "duration": 20,
    "start_time": "2022-03-08T19:48:00.521Z"
   },
   {
    "duration": 38,
    "start_time": "2022-03-08T19:48:00.543Z"
   },
   {
    "duration": 16,
    "start_time": "2022-03-08T19:48:00.582Z"
   },
   {
    "duration": 33,
    "start_time": "2022-03-08T19:48:00.600Z"
   },
   {
    "duration": 86,
    "start_time": "2022-03-08T19:49:54.149Z"
   },
   {
    "duration": 63,
    "start_time": "2022-03-08T19:50:02.340Z"
   },
   {
    "duration": 2,
    "start_time": "2022-03-08T19:50:23.502Z"
   },
   {
    "duration": 58,
    "start_time": "2022-03-08T19:50:29.997Z"
   },
   {
    "duration": 17,
    "start_time": "2022-03-08T20:04:53.824Z"
   },
   {
    "duration": 747,
    "start_time": "2022-03-09T16:17:32.294Z"
   },
   {
    "duration": 75,
    "start_time": "2022-03-09T16:17:33.044Z"
   },
   {
    "duration": 16,
    "start_time": "2022-03-09T16:17:33.123Z"
   },
   {
    "duration": 62,
    "start_time": "2022-03-09T16:17:33.142Z"
   },
   {
    "duration": 9,
    "start_time": "2022-03-09T16:17:33.207Z"
   },
   {
    "duration": 11,
    "start_time": "2022-03-09T16:17:33.219Z"
   },
   {
    "duration": 41,
    "start_time": "2022-03-09T16:17:33.248Z"
   },
   {
    "duration": 32,
    "start_time": "2022-03-09T16:17:33.293Z"
   },
   {
    "duration": 12,
    "start_time": "2022-03-09T16:17:33.328Z"
   },
   {
    "duration": 44,
    "start_time": "2022-03-09T16:17:33.343Z"
   },
   {
    "duration": 12,
    "start_time": "2022-03-09T16:17:33.389Z"
   },
   {
    "duration": 14,
    "start_time": "2022-03-09T16:17:33.404Z"
   },
   {
    "duration": 4,
    "start_time": "2022-03-09T16:17:33.421Z"
   },
   {
    "duration": 71,
    "start_time": "2022-03-09T16:17:33.427Z"
   },
   {
    "duration": 8,
    "start_time": "2022-03-09T16:17:33.501Z"
   },
   {
    "duration": 21,
    "start_time": "2022-03-09T16:17:33.511Z"
   },
   {
    "duration": 65,
    "start_time": "2022-03-09T16:17:33.534Z"
   },
   {
    "duration": 7,
    "start_time": "2022-03-09T16:17:33.602Z"
   },
   {
    "duration": 20,
    "start_time": "2022-03-09T16:17:33.612Z"
   },
   {
    "duration": 47,
    "start_time": "2022-03-09T16:17:33.635Z"
   },
   {
    "duration": 23,
    "start_time": "2022-03-09T16:17:33.684Z"
   },
   {
    "duration": 15,
    "start_time": "2022-03-09T16:17:33.711Z"
   },
   {
    "duration": 59,
    "start_time": "2022-03-09T16:17:33.729Z"
   },
   {
    "duration": 36,
    "start_time": "2022-03-09T16:17:33.791Z"
   },
   {
    "duration": 52,
    "start_time": "2022-03-09T16:17:33.830Z"
   },
   {
    "duration": 18,
    "start_time": "2022-03-09T16:17:33.885Z"
   },
   {
    "duration": 8,
    "start_time": "2022-03-09T16:17:33.905Z"
   },
   {
    "duration": 845,
    "start_time": "2022-03-09T16:17:33.915Z"
   },
   {
    "duration": 22,
    "start_time": "2022-03-09T16:17:34.762Z"
   },
   {
    "duration": 1343,
    "start_time": "2022-03-09T16:17:34.787Z"
   },
   {
    "duration": 29,
    "start_time": "2022-03-09T16:17:36.133Z"
   },
   {
    "duration": 38,
    "start_time": "2022-03-09T16:17:36.183Z"
   },
   {
    "duration": 30,
    "start_time": "2022-03-09T16:17:36.224Z"
   },
   {
    "duration": 91,
    "start_time": "2022-03-09T16:17:36.256Z"
   },
   {
    "duration": 43,
    "start_time": "2022-08-14T18:20:34.089Z"
   },
   {
    "duration": 402,
    "start_time": "2022-08-14T18:20:40.533Z"
   },
   {
    "duration": 312,
    "start_time": "2022-08-14T18:20:40.937Z"
   },
   {
    "duration": 10,
    "start_time": "2022-08-14T18:20:41.251Z"
   },
   {
    "duration": 36,
    "start_time": "2022-08-14T18:20:41.263Z"
   },
   {
    "duration": 5,
    "start_time": "2022-08-14T18:20:41.300Z"
   },
   {
    "duration": 11,
    "start_time": "2022-08-14T18:20:41.306Z"
   },
   {
    "duration": 7,
    "start_time": "2022-08-14T18:20:41.318Z"
   },
   {
    "duration": 7,
    "start_time": "2022-08-14T18:20:41.326Z"
   },
   {
    "duration": 25,
    "start_time": "2022-08-14T18:20:41.335Z"
   },
   {
    "duration": 5,
    "start_time": "2022-08-14T18:20:41.362Z"
   },
   {
    "duration": 7,
    "start_time": "2022-08-14T18:20:41.369Z"
   },
   {
    "duration": 7,
    "start_time": "2022-08-14T18:20:41.378Z"
   },
   {
    "duration": 32,
    "start_time": "2022-08-14T18:20:41.386Z"
   },
   {
    "duration": 0,
    "start_time": "2022-08-14T18:20:41.420Z"
   },
   {
    "duration": 0,
    "start_time": "2022-08-14T18:20:41.421Z"
   },
   {
    "duration": 0,
    "start_time": "2022-08-14T18:20:41.423Z"
   },
   {
    "duration": 0,
    "start_time": "2022-08-14T18:20:41.424Z"
   },
   {
    "duration": 0,
    "start_time": "2022-08-14T18:20:41.425Z"
   },
   {
    "duration": 0,
    "start_time": "2022-08-14T18:20:41.426Z"
   },
   {
    "duration": 0,
    "start_time": "2022-08-14T18:20:41.427Z"
   },
   {
    "duration": 0,
    "start_time": "2022-08-14T18:20:41.428Z"
   },
   {
    "duration": 0,
    "start_time": "2022-08-14T18:20:41.429Z"
   },
   {
    "duration": 0,
    "start_time": "2022-08-14T18:20:41.457Z"
   },
   {
    "duration": 0,
    "start_time": "2022-08-14T18:20:41.458Z"
   },
   {
    "duration": 0,
    "start_time": "2022-08-14T18:20:41.459Z"
   },
   {
    "duration": 0,
    "start_time": "2022-08-14T18:20:41.460Z"
   },
   {
    "duration": 0,
    "start_time": "2022-08-14T18:20:41.461Z"
   },
   {
    "duration": 0,
    "start_time": "2022-08-14T18:20:41.462Z"
   },
   {
    "duration": 0,
    "start_time": "2022-08-14T18:20:41.463Z"
   },
   {
    "duration": 0,
    "start_time": "2022-08-14T18:20:41.464Z"
   },
   {
    "duration": 0,
    "start_time": "2022-08-14T18:20:41.465Z"
   },
   {
    "duration": 0,
    "start_time": "2022-08-14T18:20:41.466Z"
   },
   {
    "duration": 0,
    "start_time": "2022-08-14T18:20:41.467Z"
   },
   {
    "duration": 0,
    "start_time": "2022-08-14T18:20:41.468Z"
   },
   {
    "duration": 0,
    "start_time": "2022-08-14T18:20:41.469Z"
   },
   {
    "duration": 12,
    "start_time": "2022-08-14T18:21:01.272Z"
   },
   {
    "duration": 11,
    "start_time": "2022-08-14T18:21:05.527Z"
   },
   {
    "duration": 11,
    "start_time": "2022-08-14T18:21:27.649Z"
   },
   {
    "duration": 14,
    "start_time": "2022-08-14T18:32:53.589Z"
   },
   {
    "duration": 359,
    "start_time": "2022-08-14T18:45:28.104Z"
   },
   {
    "duration": 94,
    "start_time": "2022-08-14T18:45:28.465Z"
   },
   {
    "duration": 9,
    "start_time": "2022-08-14T18:45:28.561Z"
   },
   {
    "duration": 28,
    "start_time": "2022-08-14T18:45:28.572Z"
   },
   {
    "duration": 5,
    "start_time": "2022-08-14T18:45:28.601Z"
   },
   {
    "duration": 10,
    "start_time": "2022-08-14T18:45:28.608Z"
   },
   {
    "duration": 6,
    "start_time": "2022-08-14T18:45:28.619Z"
   },
   {
    "duration": 30,
    "start_time": "2022-08-14T18:45:28.627Z"
   },
   {
    "duration": 16,
    "start_time": "2022-08-14T18:45:28.658Z"
   },
   {
    "duration": 6,
    "start_time": "2022-08-14T18:45:28.676Z"
   },
   {
    "duration": 4,
    "start_time": "2022-08-14T18:45:28.683Z"
   },
   {
    "duration": 6,
    "start_time": "2022-08-14T18:45:28.689Z"
   },
   {
    "duration": 8,
    "start_time": "2022-08-14T18:45:28.697Z"
   },
   {
    "duration": 2,
    "start_time": "2022-08-14T18:45:28.707Z"
   },
   {
    "duration": 53,
    "start_time": "2022-08-14T18:45:28.711Z"
   },
   {
    "duration": 5,
    "start_time": "2022-08-14T18:45:28.766Z"
   },
   {
    "duration": 11,
    "start_time": "2022-08-14T18:45:28.773Z"
   },
   {
    "duration": 23,
    "start_time": "2022-08-14T18:45:28.786Z"
   },
   {
    "duration": 4,
    "start_time": "2022-08-14T18:45:28.810Z"
   },
   {
    "duration": 45,
    "start_time": "2022-08-14T18:45:28.816Z"
   },
   {
    "duration": 4,
    "start_time": "2022-08-14T18:45:28.863Z"
   },
   {
    "duration": 22,
    "start_time": "2022-08-14T18:45:28.869Z"
   },
   {
    "duration": 13,
    "start_time": "2022-08-14T18:45:28.892Z"
   },
   {
    "duration": 22,
    "start_time": "2022-08-14T18:45:28.906Z"
   },
   {
    "duration": 41,
    "start_time": "2022-08-14T18:45:28.929Z"
   },
   {
    "duration": 19,
    "start_time": "2022-08-14T18:45:28.972Z"
   },
   {
    "duration": 12,
    "start_time": "2022-08-14T18:45:28.993Z"
   },
   {
    "duration": 4,
    "start_time": "2022-08-14T18:45:29.008Z"
   },
   {
    "duration": 292,
    "start_time": "2022-08-14T18:45:29.014Z"
   },
   {
    "duration": 11,
    "start_time": "2022-08-14T18:45:29.308Z"
   },
   {
    "duration": 285,
    "start_time": "2022-08-14T18:45:29.321Z"
   },
   {
    "duration": 14,
    "start_time": "2022-08-14T18:45:29.607Z"
   },
   {
    "duration": 16,
    "start_time": "2022-08-14T18:45:29.623Z"
   },
   {
    "duration": 26,
    "start_time": "2022-08-14T18:45:29.640Z"
   },
   {
    "duration": 29,
    "start_time": "2022-08-14T18:45:29.667Z"
   }
  ],
  "kernelspec": {
   "display_name": "Python 3 (ipykernel)",
   "language": "python",
   "name": "python3"
  },
  "language_info": {
   "codemirror_mode": {
    "name": "ipython",
    "version": 3
   },
   "file_extension": ".py",
   "mimetype": "text/x-python",
   "name": "python",
   "nbconvert_exporter": "python",
   "pygments_lexer": "ipython3",
   "version": "3.9.5"
  },
  "toc": {
   "base_numbering": 1,
   "nav_menu": {},
   "number_sections": true,
   "sideBar": true,
   "skip_h1_title": true,
   "title_cell": "Содержание",
   "title_sidebar": "Contents",
   "toc_cell": true,
   "toc_position": {},
   "toc_section_display": true,
   "toc_window_display": true
  }
 },
 "nbformat": 4,
 "nbformat_minor": 5
}
