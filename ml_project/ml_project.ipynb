{
 "cells": [
  {
   "cell_type": "markdown",
   "metadata": {},
   "source": [
    "# Проект \"Анализ сети фитнес-центров\""
   ]
  },
  {
   "cell_type": "markdown",
   "metadata": {
    "toc": true
   },
   "source": [
    "<h1>Содержание<span class=\"tocSkip\"></span></h1>\n",
    "<div class=\"toc\"><ul class=\"toc-item\"><li><span><a href=\"#Загрузка-данных\" data-toc-modified-id=\"Загрузка-данных-1\"><span class=\"toc-item-num\">1&nbsp;&nbsp;</span>Загрузка данных</a></span></li><li><span><a href=\"#Исследовательский-анализ-данных-(EDA)\" data-toc-modified-id=\"Исследовательский-анализ-данных-(EDA)-2\"><span class=\"toc-item-num\">2&nbsp;&nbsp;</span>Исследовательский анализ данных (EDA)</a></span><ul class=\"toc-item\"><li><span><a href=\"#Изучение-данных:-отсутствующие-признаки,-средние-значения-и-стандартные-отклонения\" data-toc-modified-id=\"Изучение-данных:-отсутствующие-признаки,-средние-значения-и-стандартные-отклонения-2.1\"><span class=\"toc-item-num\">2.1&nbsp;&nbsp;</span>Изучение данных: отсутствующие признаки, средние значения и стандартные отклонения</a></span></li><li><span><a href=\"#Изучение-данных-в-разбивке-по-двум-группам\" data-toc-modified-id=\"Изучение-данных-в-разбивке-по-двум-группам-2.2\"><span class=\"toc-item-num\">2.2&nbsp;&nbsp;</span>Изучение данных в разбивке по двум группам</a></span></li><li><span><a href=\"#Столбчатые-гистограммы-и-распределения-признаков-в-разбивке-по-двум-группам\" data-toc-modified-id=\"Столбчатые-гистограммы-и-распределения-признаков-в-разбивке-по-двум-группам-2.3\"><span class=\"toc-item-num\">2.3&nbsp;&nbsp;</span>Столбчатые гистограммы и распределения признаков в разбивке по двум группам</a></span></li><li><span><a href=\"#Матрица-корреляций\" data-toc-modified-id=\"Матрица-корреляций-2.4\"><span class=\"toc-item-num\">2.4&nbsp;&nbsp;</span>Матрица корреляций</a></span></li></ul></li><li><span><a href=\"#Модель-прогнозирования-оттока-клиентов\" data-toc-modified-id=\"Модель-прогнозирования-оттока-клиентов-3\"><span class=\"toc-item-num\">3&nbsp;&nbsp;</span>Модель прогнозирования оттока клиентов</a></span><ul class=\"toc-item\"><li><span><a href=\"#Разделение-данных-на-обучающую-и-валидационную-выборку\" data-toc-modified-id=\"Разделение-данных-на-обучающую-и-валидационную-выборку-3.1\"><span class=\"toc-item-num\">3.1&nbsp;&nbsp;</span>Разделение данных на обучающую и валидационную выборку</a></span></li><li><span><a href=\"#Обучение-модели-логистической-регрессией\" data-toc-modified-id=\"Обучение-модели-логистической-регрессией-3.2\"><span class=\"toc-item-num\">3.2&nbsp;&nbsp;</span>Обучение модели логистической регрессией</a></span></li><li><span><a href=\"#Обучение-модели-случайным-лесом\" data-toc-modified-id=\"Обучение-модели-случайным-лесом-3.3\"><span class=\"toc-item-num\">3.3&nbsp;&nbsp;</span>Обучение модели случайным лесом</a></span></li><li><span><a href=\"#Оценка-метрик-accuracy,-precision-и-recall-для-обеих-моделей-на-валидационной-выборке\" data-toc-modified-id=\"Оценка-метрик-accuracy,-precision-и-recall-для-обеих-моделей-на-валидационной-выборке-3.4\"><span class=\"toc-item-num\">3.4&nbsp;&nbsp;</span>Оценка метрик accuracy, precision и recall для обеих моделей на валидационной выборке</a></span></li></ul></li><li><span><a href=\"#Кластеризация-клиентов\" data-toc-modified-id=\"Кластеризация-клиентов-4\"><span class=\"toc-item-num\">4&nbsp;&nbsp;</span>Кластеризация клиентов</a></span><ul class=\"toc-item\"><li><span><a href=\"#Стандартизация-данных\" data-toc-modified-id=\"Стандартизация-данных-4.1\"><span class=\"toc-item-num\">4.1&nbsp;&nbsp;</span>Стандартизация данных</a></span></li><li><span><a href=\"#Матрица-расстояний-на-стандартизованной-матрице-признаков-и-дендрограмма.-Выделение-кластеров\" data-toc-modified-id=\"Матрица-расстояний-на-стандартизованной-матрице-признаков-и-дендрограмма.-Выделение-кластеров-4.2\"><span class=\"toc-item-num\">4.2&nbsp;&nbsp;</span>Матрица расстояний на стандартизованной матрице признаков и дендрограмма. Выделение кластеров</a></span></li><li><span><a href=\"#Обучение-модели-кластеризации-на-основании-алгоритма-K-Means\" data-toc-modified-id=\"Обучение-модели-кластеризации-на-основании-алгоритма-K-Means-4.3\"><span class=\"toc-item-num\">4.3&nbsp;&nbsp;</span>Обучение модели кластеризации на основании алгоритма K-Means</a></span></li><li><span><a href=\"#Оценка-средних-значений-признаков-для-кластеров\" data-toc-modified-id=\"Оценка-средних-значений-признаков-для-кластеров-4.4\"><span class=\"toc-item-num\">4.4&nbsp;&nbsp;</span>Оценка средних значений признаков для кластеров</a></span></li><li><span><a href=\"#Распределения-признаков-для-кластеров\" data-toc-modified-id=\"Распределения-признаков-для-кластеров-4.5\"><span class=\"toc-item-num\">4.5&nbsp;&nbsp;</span>Распределения признаков для кластеров</a></span></li><li><span><a href=\"#Доля-оттока-для-каждого-кластера\" data-toc-modified-id=\"Доля-оттока-для-каждого-кластера-4.6\"><span class=\"toc-item-num\">4.6&nbsp;&nbsp;</span>Доля оттока для каждого кластера</a></span></li></ul></li><li><span><a href=\"#Выводы-и-базовые-рекомендации-по-работе-с-клиентами\" data-toc-modified-id=\"Выводы-и-базовые-рекомендации-по-работе-с-клиентами-5\"><span class=\"toc-item-num\">5&nbsp;&nbsp;</span>Выводы и базовые рекомендации по работе с клиентами</a></span></li></ul></div>"
   ]
  },
  {
   "cell_type": "markdown",
   "metadata": {},
   "source": [
    "<strong> Описание проекта: </strong> cеть фитнес-центров хочет снизить уровень оттока клиентов"
   ]
  },
  {
   "cell_type": "markdown",
   "metadata": {},
   "source": [
    "<strong> Задача проекта: </strong> провести анализ и подготовить план действий по удержанию клиентов, а именно: \n",
    "* научиться прогнозировать вероятность оттока на следующий месяц для каждого клиента\n",
    "* сформировать портреты клиентов\n",
    "* выделить признаки, наиболее сильно влияющие на отток\n",
    "* сформулировать основные выводы и разработать рекомендации по повышению качества работы с клиентами"
   ]
  },
  {
   "cell_type": "markdown",
   "metadata": {},
   "source": [
    "## Загрузка данных"
   ]
  },
  {
   "cell_type": "code",
   "execution_count": 74,
   "metadata": {},
   "outputs": [],
   "source": [
    "import pandas as pd\n",
    "import matplotlib.pyplot as plt\n",
    "import seaborn as sns\n",
    "\n",
    "from sklearn.model_selection import train_test_split\n",
    "from sklearn.linear_model import LogisticRegression\n",
    "from sklearn.ensemble import RandomForestClassifier\n",
    "from sklearn.metrics import accuracy_score, precision_score, recall_score, f1_score\n",
    "from sklearn.preprocessing import StandardScaler\n",
    "from scipy.cluster.hierarchy import dendrogram, linkage\n",
    "from sklearn.cluster import KMeans\n",
    "\n",
    "import warnings"
   ]
  },
  {
   "cell_type": "code",
   "execution_count": 75,
   "metadata": {},
   "outputs": [
    {
     "name": "stdout",
     "output_type": "stream",
     "text": [
      "<class 'pandas.core.frame.DataFrame'>\n",
      "RangeIndex: 4000 entries, 0 to 3999\n",
      "Data columns (total 14 columns):\n",
      " #   Column                             Non-Null Count  Dtype  \n",
      "---  ------                             --------------  -----  \n",
      " 0   gender                             4000 non-null   int64  \n",
      " 1   Near_Location                      4000 non-null   int64  \n",
      " 2   Partner                            4000 non-null   int64  \n",
      " 3   Promo_friends                      4000 non-null   int64  \n",
      " 4   Phone                              4000 non-null   int64  \n",
      " 5   Contract_period                    4000 non-null   int64  \n",
      " 6   Group_visits                       4000 non-null   int64  \n",
      " 7   Age                                4000 non-null   int64  \n",
      " 8   Avg_additional_charges_total       4000 non-null   float64\n",
      " 9   Month_to_end_contract              4000 non-null   float64\n",
      " 10  Lifetime                           4000 non-null   int64  \n",
      " 11  Avg_class_frequency_total          4000 non-null   float64\n",
      " 12  Avg_class_frequency_current_month  4000 non-null   float64\n",
      " 13  Churn                              4000 non-null   int64  \n",
      "dtypes: float64(4), int64(10)\n",
      "memory usage: 437.6 KB\n"
     ]
    }
   ],
   "source": [
    "data = pd.read_csv('/datasets/gym_churn.csv')\n",
    "data.info()"
   ]
  },
  {
   "cell_type": "markdown",
   "metadata": {},
   "source": [
    "Итак, данные состоят из 14 столбцов:\n",
    "* `gender` — пол\n",
    "* `Near_Location` — проживание или работа в районе, где находится фитнес-центр\n",
    "* `Partner` — сотрудник компании-партнёра клуба (сотрудничество с компаниями, чьи сотрудники могут получать скидки на абонемент — в таком случае фитнес-центр хранит информацию о работодателе клиента)\n",
    "* `Promo_friends` — факт первоначальной записи в рамках акции «приведи друга» (использовал промо-код от знакомого при оплате первого абонемента)\n",
    "* `Phone` — наличие контактного телефона\n",
    "* `Age` — возраст\n",
    "* `Lifetime` — время с момента первого обращения в фитнес-центр (в месяцах)\n",
    "* `Contract_period` — длительность текущего действующего абонемента (месяц, 6 месяцев, год)\n",
    "* `Month_to_end_contract` — срок до окончания текущего действующего абонемента (в месяцах)\n",
    "* `Group_visits` — факт посещения групповых занятий\n",
    "* `Avg_class_frequency_total` — средняя частота посещений в неделю за все время с начала действия абонемента\n",
    "* `Avg_class_frequency_current_month` — средняя частота посещений в неделю за предыдущий месяц\n",
    "* `Avg_additional_charges_total` — суммарная выручка от других услуг фитнес-центра: кафе, спорттовары, косметический и массажный салон\n",
    "* `Churn` — факт оттока в текущем месяце"
   ]
  },
  {
   "cell_type": "markdown",
   "metadata": {},
   "source": [
    "<strong>Первичные выводы:</strong>\n",
    "* На первый взгляд в данных нет пропущенных значений\n",
    "* Все числа относятся к целочисленному или вещественному формату\n",
    "* Для удобства работы с данными заменим названия столбцов на полностью строчные"
   ]
  },
  {
   "cell_type": "code",
   "execution_count": 76,
   "metadata": {},
   "outputs": [],
   "source": [
    "data.columns = data.columns.str.lower()"
   ]
  },
  {
   "cell_type": "markdown",
   "metadata": {},
   "source": [
    "## Исследовательский анализ данных (EDA)"
   ]
  },
  {
   "cell_type": "markdown",
   "metadata": {},
   "source": [
    "### Изучение данных: отсутствующие признаки, средние значения и стандартные отклонения"
   ]
  },
  {
   "cell_type": "code",
   "execution_count": 77,
   "metadata": {},
   "outputs": [
    {
     "data": {
      "text/html": [
       "<div>\n",
       "<style scoped>\n",
       "    .dataframe tbody tr th:only-of-type {\n",
       "        vertical-align: middle;\n",
       "    }\n",
       "\n",
       "    .dataframe tbody tr th {\n",
       "        vertical-align: top;\n",
       "    }\n",
       "\n",
       "    .dataframe thead th {\n",
       "        text-align: right;\n",
       "    }\n",
       "</style>\n",
       "<table border=\"1\" class=\"dataframe\">\n",
       "  <thead>\n",
       "    <tr style=\"text-align: right;\">\n",
       "      <th></th>\n",
       "      <th>gender</th>\n",
       "      <th>near_location</th>\n",
       "      <th>partner</th>\n",
       "      <th>promo_friends</th>\n",
       "      <th>phone</th>\n",
       "      <th>contract_period</th>\n",
       "      <th>group_visits</th>\n",
       "      <th>age</th>\n",
       "      <th>avg_additional_charges_total</th>\n",
       "      <th>month_to_end_contract</th>\n",
       "      <th>lifetime</th>\n",
       "      <th>avg_class_frequency_total</th>\n",
       "      <th>avg_class_frequency_current_month</th>\n",
       "      <th>churn</th>\n",
       "    </tr>\n",
       "  </thead>\n",
       "  <tbody>\n",
       "    <tr>\n",
       "      <th>count</th>\n",
       "      <td>4000.000000</td>\n",
       "      <td>4000.000000</td>\n",
       "      <td>4000.000000</td>\n",
       "      <td>4000.000000</td>\n",
       "      <td>4000.000000</td>\n",
       "      <td>4000.000000</td>\n",
       "      <td>4000.000000</td>\n",
       "      <td>4000.000000</td>\n",
       "      <td>4000.000000</td>\n",
       "      <td>4000.000000</td>\n",
       "      <td>4000.000000</td>\n",
       "      <td>4000.000000</td>\n",
       "      <td>4000.000000</td>\n",
       "      <td>4000.000000</td>\n",
       "    </tr>\n",
       "    <tr>\n",
       "      <th>mean</th>\n",
       "      <td>0.510250</td>\n",
       "      <td>0.845250</td>\n",
       "      <td>0.486750</td>\n",
       "      <td>0.308500</td>\n",
       "      <td>0.903500</td>\n",
       "      <td>4.681250</td>\n",
       "      <td>0.412250</td>\n",
       "      <td>29.184250</td>\n",
       "      <td>146.943728</td>\n",
       "      <td>4.322750</td>\n",
       "      <td>3.724750</td>\n",
       "      <td>1.879020</td>\n",
       "      <td>1.767052</td>\n",
       "      <td>0.265250</td>\n",
       "    </tr>\n",
       "    <tr>\n",
       "      <th>std</th>\n",
       "      <td>0.499957</td>\n",
       "      <td>0.361711</td>\n",
       "      <td>0.499887</td>\n",
       "      <td>0.461932</td>\n",
       "      <td>0.295313</td>\n",
       "      <td>4.549706</td>\n",
       "      <td>0.492301</td>\n",
       "      <td>3.258367</td>\n",
       "      <td>96.355602</td>\n",
       "      <td>4.191297</td>\n",
       "      <td>3.749267</td>\n",
       "      <td>0.972245</td>\n",
       "      <td>1.052906</td>\n",
       "      <td>0.441521</td>\n",
       "    </tr>\n",
       "    <tr>\n",
       "      <th>min</th>\n",
       "      <td>0.000000</td>\n",
       "      <td>0.000000</td>\n",
       "      <td>0.000000</td>\n",
       "      <td>0.000000</td>\n",
       "      <td>0.000000</td>\n",
       "      <td>1.000000</td>\n",
       "      <td>0.000000</td>\n",
       "      <td>18.000000</td>\n",
       "      <td>0.148205</td>\n",
       "      <td>1.000000</td>\n",
       "      <td>0.000000</td>\n",
       "      <td>0.000000</td>\n",
       "      <td>0.000000</td>\n",
       "      <td>0.000000</td>\n",
       "    </tr>\n",
       "    <tr>\n",
       "      <th>25%</th>\n",
       "      <td>0.000000</td>\n",
       "      <td>1.000000</td>\n",
       "      <td>0.000000</td>\n",
       "      <td>0.000000</td>\n",
       "      <td>1.000000</td>\n",
       "      <td>1.000000</td>\n",
       "      <td>0.000000</td>\n",
       "      <td>27.000000</td>\n",
       "      <td>68.868830</td>\n",
       "      <td>1.000000</td>\n",
       "      <td>1.000000</td>\n",
       "      <td>1.180875</td>\n",
       "      <td>0.963003</td>\n",
       "      <td>0.000000</td>\n",
       "    </tr>\n",
       "    <tr>\n",
       "      <th>50%</th>\n",
       "      <td>1.000000</td>\n",
       "      <td>1.000000</td>\n",
       "      <td>0.000000</td>\n",
       "      <td>0.000000</td>\n",
       "      <td>1.000000</td>\n",
       "      <td>1.000000</td>\n",
       "      <td>0.000000</td>\n",
       "      <td>29.000000</td>\n",
       "      <td>136.220159</td>\n",
       "      <td>1.000000</td>\n",
       "      <td>3.000000</td>\n",
       "      <td>1.832768</td>\n",
       "      <td>1.719574</td>\n",
       "      <td>0.000000</td>\n",
       "    </tr>\n",
       "    <tr>\n",
       "      <th>75%</th>\n",
       "      <td>1.000000</td>\n",
       "      <td>1.000000</td>\n",
       "      <td>1.000000</td>\n",
       "      <td>1.000000</td>\n",
       "      <td>1.000000</td>\n",
       "      <td>6.000000</td>\n",
       "      <td>1.000000</td>\n",
       "      <td>31.000000</td>\n",
       "      <td>210.949625</td>\n",
       "      <td>6.000000</td>\n",
       "      <td>5.000000</td>\n",
       "      <td>2.536078</td>\n",
       "      <td>2.510336</td>\n",
       "      <td>1.000000</td>\n",
       "    </tr>\n",
       "    <tr>\n",
       "      <th>max</th>\n",
       "      <td>1.000000</td>\n",
       "      <td>1.000000</td>\n",
       "      <td>1.000000</td>\n",
       "      <td>1.000000</td>\n",
       "      <td>1.000000</td>\n",
       "      <td>12.000000</td>\n",
       "      <td>1.000000</td>\n",
       "      <td>41.000000</td>\n",
       "      <td>552.590740</td>\n",
       "      <td>12.000000</td>\n",
       "      <td>31.000000</td>\n",
       "      <td>6.023668</td>\n",
       "      <td>6.146783</td>\n",
       "      <td>1.000000</td>\n",
       "    </tr>\n",
       "  </tbody>\n",
       "</table>\n",
       "</div>"
      ],
      "text/plain": [
       "            gender  near_location      partner  promo_friends        phone  \\\n",
       "count  4000.000000    4000.000000  4000.000000    4000.000000  4000.000000   \n",
       "mean      0.510250       0.845250     0.486750       0.308500     0.903500   \n",
       "std       0.499957       0.361711     0.499887       0.461932     0.295313   \n",
       "min       0.000000       0.000000     0.000000       0.000000     0.000000   \n",
       "25%       0.000000       1.000000     0.000000       0.000000     1.000000   \n",
       "50%       1.000000       1.000000     0.000000       0.000000     1.000000   \n",
       "75%       1.000000       1.000000     1.000000       1.000000     1.000000   \n",
       "max       1.000000       1.000000     1.000000       1.000000     1.000000   \n",
       "\n",
       "       contract_period  group_visits          age  \\\n",
       "count      4000.000000   4000.000000  4000.000000   \n",
       "mean          4.681250      0.412250    29.184250   \n",
       "std           4.549706      0.492301     3.258367   \n",
       "min           1.000000      0.000000    18.000000   \n",
       "25%           1.000000      0.000000    27.000000   \n",
       "50%           1.000000      0.000000    29.000000   \n",
       "75%           6.000000      1.000000    31.000000   \n",
       "max          12.000000      1.000000    41.000000   \n",
       "\n",
       "       avg_additional_charges_total  month_to_end_contract     lifetime  \\\n",
       "count                   4000.000000            4000.000000  4000.000000   \n",
       "mean                     146.943728               4.322750     3.724750   \n",
       "std                       96.355602               4.191297     3.749267   \n",
       "min                        0.148205               1.000000     0.000000   \n",
       "25%                       68.868830               1.000000     1.000000   \n",
       "50%                      136.220159               1.000000     3.000000   \n",
       "75%                      210.949625               6.000000     5.000000   \n",
       "max                      552.590740              12.000000    31.000000   \n",
       "\n",
       "       avg_class_frequency_total  avg_class_frequency_current_month  \\\n",
       "count                4000.000000                        4000.000000   \n",
       "mean                    1.879020                           1.767052   \n",
       "std                     0.972245                           1.052906   \n",
       "min                     0.000000                           0.000000   \n",
       "25%                     1.180875                           0.963003   \n",
       "50%                     1.832768                           1.719574   \n",
       "75%                     2.536078                           2.510336   \n",
       "max                     6.023668                           6.146783   \n",
       "\n",
       "             churn  \n",
       "count  4000.000000  \n",
       "mean      0.265250  \n",
       "std       0.441521  \n",
       "min       0.000000  \n",
       "25%       0.000000  \n",
       "50%       0.000000  \n",
       "75%       1.000000  \n",
       "max       1.000000  "
      ]
     },
     "execution_count": 77,
     "metadata": {},
     "output_type": "execute_result"
    }
   ],
   "source": [
    "data.describe()"
   ]
  },
  {
   "cell_type": "markdown",
   "metadata": {},
   "source": [
    "В данных есть бинарные признаки, по средним значениям которых уже можно сделать несколько выводов:\n",
    "* `churn` - отток составил 27% от всех клиентов\n",
    "* `gender` - мужчины и женщины распределены равномерно\n",
    "* `near_location` - подавляющее большинство живет или работает рядом с фитнес-центром (85%)\n",
    "* `partner` - почти половина клиентов состоит из сотрудников компаний-партнеров\n",
    "* `promo_friends` - почти половина клиентов оформила абонемент по акции\n",
    "* `phone` - контактный телефон указали 90% клиентов\n",
    "* `group_visits` - 41% пользователей посещает групповые занятия \n",
    "\n",
    "По небинарным признакам можно сделать следующие выводы:\n",
    "* `contract_period` - по медиане можно сказать, что чаще всего клиенты оформляют абонемент на 1 месяц\n",
    "* `age` - среди клиентов медианный возраст - 29 лет\n",
    "* `avg_additional_charges_total` - все клиенты пользовались сторонними услугами фитнес-клуба. При этом можно увидеть достаточно равномерное распределение выручки по квартилям и медиане. Не выявлено аномально платящих пользователей и по максимальному значению\n",
    "* `month_to_end_contract` - по медиане можно сказать, что чаще всего срок абонемента клиентов истекает через 1 месяц\n",
    "* `Lifetime` - в средний lifetime клиентов в датасете - почти 4 месяца\n",
    "* `avg_class_frequency_total` средняя активность клиентов в последнем месяце выше, чем активность клиентов за весь период `avg_class_frequency_current_month`. Возможно, новые клиенты увеличивают активность последнего месяца\n",
    "\n",
    "По стандартной ошибке каких-то значимых выводов сделать нельзя - данные достаточно равномерно распределены по всем признакам"
   ]
  },
  {
   "cell_type": "markdown",
   "metadata": {},
   "source": [
    "### Изучение данных в разбивке по двум группам"
   ]
  },
  {
   "cell_type": "code",
   "execution_count": 78,
   "metadata": {},
   "outputs": [
    {
     "data": {
      "text/html": [
       "<div>\n",
       "<style scoped>\n",
       "    .dataframe tbody tr th:only-of-type {\n",
       "        vertical-align: middle;\n",
       "    }\n",
       "\n",
       "    .dataframe tbody tr th {\n",
       "        vertical-align: top;\n",
       "    }\n",
       "\n",
       "    .dataframe thead th {\n",
       "        text-align: right;\n",
       "    }\n",
       "</style>\n",
       "<table border=\"1\" class=\"dataframe\">\n",
       "  <thead>\n",
       "    <tr style=\"text-align: right;\">\n",
       "      <th></th>\n",
       "      <th>gender</th>\n",
       "      <th>near_location</th>\n",
       "      <th>partner</th>\n",
       "      <th>promo_friends</th>\n",
       "      <th>phone</th>\n",
       "      <th>contract_period</th>\n",
       "      <th>group_visits</th>\n",
       "      <th>age</th>\n",
       "      <th>avg_additional_charges_total</th>\n",
       "      <th>month_to_end_contract</th>\n",
       "      <th>lifetime</th>\n",
       "      <th>avg_class_frequency_total</th>\n",
       "      <th>avg_class_frequency_current_month</th>\n",
       "    </tr>\n",
       "    <tr>\n",
       "      <th>churn</th>\n",
       "      <th></th>\n",
       "      <th></th>\n",
       "      <th></th>\n",
       "      <th></th>\n",
       "      <th></th>\n",
       "      <th></th>\n",
       "      <th></th>\n",
       "      <th></th>\n",
       "      <th></th>\n",
       "      <th></th>\n",
       "      <th></th>\n",
       "      <th></th>\n",
       "      <th></th>\n",
       "    </tr>\n",
       "  </thead>\n",
       "  <tbody>\n",
       "    <tr>\n",
       "      <th>0</th>\n",
       "      <td>0.510037</td>\n",
       "      <td>0.873086</td>\n",
       "      <td>0.534195</td>\n",
       "      <td>0.353522</td>\n",
       "      <td>0.903709</td>\n",
       "      <td>5.747193</td>\n",
       "      <td>0.464103</td>\n",
       "      <td>29.976523</td>\n",
       "      <td>158.445715</td>\n",
       "      <td>5.283089</td>\n",
       "      <td>4.711807</td>\n",
       "      <td>2.024876</td>\n",
       "      <td>2.027882</td>\n",
       "    </tr>\n",
       "    <tr>\n",
       "      <th>1</th>\n",
       "      <td>0.510839</td>\n",
       "      <td>0.768143</td>\n",
       "      <td>0.355325</td>\n",
       "      <td>0.183789</td>\n",
       "      <td>0.902922</td>\n",
       "      <td>1.728558</td>\n",
       "      <td>0.268615</td>\n",
       "      <td>26.989632</td>\n",
       "      <td>115.082899</td>\n",
       "      <td>1.662582</td>\n",
       "      <td>0.990575</td>\n",
       "      <td>1.474995</td>\n",
       "      <td>1.044546</td>\n",
       "    </tr>\n",
       "  </tbody>\n",
       "</table>\n",
       "</div>"
      ],
      "text/plain": [
       "         gender  near_location   partner  promo_friends     phone  \\\n",
       "churn                                                               \n",
       "0      0.510037       0.873086  0.534195       0.353522  0.903709   \n",
       "1      0.510839       0.768143  0.355325       0.183789  0.902922   \n",
       "\n",
       "       contract_period  group_visits        age  avg_additional_charges_total  \\\n",
       "churn                                                                           \n",
       "0             5.747193      0.464103  29.976523                    158.445715   \n",
       "1             1.728558      0.268615  26.989632                    115.082899   \n",
       "\n",
       "       month_to_end_contract  lifetime  avg_class_frequency_total  \\\n",
       "churn                                                               \n",
       "0                   5.283089  4.711807                   2.024876   \n",
       "1                   1.662582  0.990575                   1.474995   \n",
       "\n",
       "       avg_class_frequency_current_month  \n",
       "churn                                     \n",
       "0                               2.027882  \n",
       "1                               1.044546  "
      ]
     },
     "execution_count": 78,
     "metadata": {},
     "output_type": "execute_result"
    }
   ],
   "source": [
    "data.groupby('churn').mean()"
   ]
  },
  {
   "cell_type": "markdown",
   "metadata": {},
   "source": [
    "По данным можно увидеть, что многие характеристики у двух групп существенно различаются. Примечательно, что показатели активных клиентов выше, чем у группы с фактом оттока. Для большей наглядности построим дополнительный график:"
   ]
  },
  {
   "cell_type": "code",
   "execution_count": 79,
   "metadata": {},
   "outputs": [
    {
     "data": {
      "image/png": "[encoded data removed]",
      "text/plain": [
       "<Figure size 720x360 with 1 Axes>"
      ]
     },
     "metadata": {
      "needs_background": "light"
     },
     "output_type": "display_data"
    }
   ],
   "source": [
    "mean_by_churn = data.groupby('churn').mean().T\n",
    "\n",
    "mean_by_churn['difference'] = (mean_by_churn[0] / mean_by_churn[1] - 1) * 100\n",
    "\n",
    "(mean_by_churn['difference']\n",
    " .sort_values(ascending=False)\n",
    " .plot(kind='bar', figsize=(10,5), title='На сколько % показатели активных клиентов превосходят клиентов с оттоком по разным параметрам')\n",
    ")\n",
    "None"
   ]
  },
  {
   "cell_type": "markdown",
   "metadata": {},
   "source": [
    "<strong>Вывод:</strong>\n",
    "\n",
    "По сравнительному графику можно выделить основные параметры, которые, скорее всего, оказывают наиболее существенное влияние на факт оттока: средний срок жизни, срок абонемента и количество месяцев до конца контракта\n",
    "\n",
    "Меньше всего на факт оттока влияет наличие указанного телефона и возраст"
   ]
  },
  {
   "cell_type": "markdown",
   "metadata": {},
   "source": [
    "### Столбчатые гистограммы и распределения признаков в разбивке по двум группам"
   ]
  },
  {
   "cell_type": "code",
   "execution_count": 80,
   "metadata": {},
   "outputs": [
    {
     "data": {
      "image/png": "[encoded data removed]",
      "text/plain": [
       "<Figure size 1080x360 with 2 Axes>"
      ]
     },
     "metadata": {
      "needs_background": "light"
     },
     "output_type": "display_data"
    },
    {
     "data": {
      "image/png": "[encoded data removed]",
      "text/plain": [
       "<Figure size 1080x360 with 2 Axes>"
      ]
     },
     "metadata": {
      "needs_background": "light"
     },
     "output_type": "display_data"
    },
    {
     "data": {
      "image/png": "[encoded data removed]",
      "text/plain": [
       "<Figure size 1080x360 with 2 Axes>"
      ]
     },
     "metadata": {
      "needs_background": "light"
     },
     "output_type": "display_data"
    },
    {
     "data": {
      "image/png": "[encoded data removed]",
      "text/plain": [
       "<Figure size 1080x360 with 2 Axes>"
      ]
     },
     "metadata": {
      "needs_background": "light"
     },
     "output_type": "display_data"
    },
    {
     "data": {
      "image/png": "[encoded data removed]",
      "text/plain": [
       "<Figure size 1080x360 with 2 Axes>"
      ]
     },
     "metadata": {
      "needs_background": "light"
     },
     "output_type": "display_data"
    },
    {
     "data": {
      "image/png": "[encoded data removed]",
      "text/plain": [
       "<Figure size 1080x360 with 2 Axes>"
      ]
     },
     "metadata": {
      "needs_background": "light"
     },
     "output_type": "display_data"
    },
    {
     "data": {
      "image/png": "[encoded data removed]",
      "text/plain": [
       "<Figure size 1080x360 with 2 Axes>"
      ]
     },
     "metadata": {
      "needs_background": "light"
     },
     "output_type": "display_data"
    }
   ],
   "source": [
    "hist_columns = [\n",
    "    'contract_period', \n",
    "    'age', \n",
    "    'avg_additional_charges_total', \n",
    "    'month_to_end_contract',\n",
    "    'lifetime',\n",
    "    'avg_class_frequency_total',\n",
    "    'avg_class_frequency_current_month'\n",
    "]\n",
    "\n",
    "for column in hist_columns:\n",
    "    plt.figure(figsize=(15, 5))\n",
    "    plt.suptitle(column)\n",
    "    if 10 < len(data[column].unique()) < 100:\n",
    "           n_bars = len(data[column].unique())\n",
    "    else:\n",
    "        n_bars = 20             \n",
    "    ax1 = plt.subplot(1, 2, 1)\n",
    "    data.query('churn == 0')[column].hist(bins=n_bars)\n",
    "    plt.xlabel('Churn_negative')\n",
    "    ax2 = plt.subplot(1, 2, 2, sharey=ax1)\n",
    "    data.query('churn == 1')[column].hist(bins=n_bars)\n",
    "    plt.xlabel('Churn_positive')"
   ]
  },
  {
   "cell_type": "markdown",
   "metadata": {},
   "source": [
    "По распределению можно заметить наиболее отличающиеся параметры в двух группах:\n",
    "* Неактивные клиенты чаще оформляли абонемент на 1 месяц\n",
    "* Активность последнего месяца у группы оттока непропорционально ниже по сравнению с активной группой\n",
    "* Среди активной группы гораздо более высокая доля клиентов с более продолжительным сроком жизни "
   ]
  },
  {
   "cell_type": "markdown",
   "metadata": {},
   "source": [
    "Для булевых значений наиболее наглядным будет график по доле пользователей по каждой группе и параметру:"
   ]
  },
  {
   "cell_type": "code",
   "execution_count": 81,
   "metadata": {},
   "outputs": [],
   "source": [
    "bar_columns = [\n",
    "    'churn',\n",
    "    'gender', \n",
    "    'near_location', \n",
    "    'partner', \n",
    "    'promo_friends',\n",
    "    'phone',\n",
    "    'group_visits'\n",
    "]"
   ]
  },
  {
   "cell_type": "code",
   "execution_count": 82,
   "metadata": {},
   "outputs": [
    {
     "data": {
      "image/png": "[encoded data removed]",
      "text/plain": [
       "<Figure size 1080x360 with 1 Axes>"
      ]
     },
     "metadata": {
      "needs_background": "light"
     },
     "output_type": "display_data"
    }
   ],
   "source": [
    "(data[bar_columns]\n",
    " .groupby('churn')\n",
    " .mean()\n",
    " .T\n",
    " .sort_values(by=0, ascending=False)\n",
    " .rename(columns={0 : 'churn_negative', 1 : 'churn_positive'})\n",
    " .plot(kind='bar', figsize=(15,5), title='Доля пользователей с положительным параметром')\n",
    ")\n",
    "None"
   ]
  },
  {
   "cell_type": "markdown",
   "metadata": {},
   "source": [
    "<strong>Вывод:</strong>\n",
    "* Небинарные признаки: наибольшая разница в показателях зафиксирована по характеристикам `contract_period`, `avg_class_frequency_current_month`, `month_to_end_contract` и `lifetime`\n",
    "* Бинарные признаки: можно увидеть, что наибольшая разница наблюдается в параметрах `partner`,  `group_visits` и `promo_friends`\n",
    "\n",
    "В целом, существенная разница наблюдается по большей части показателей"
   ]
  },
  {
   "cell_type": "markdown",
   "metadata": {},
   "source": [
    "### Матрица корреляций"
   ]
  },
  {
   "cell_type": "code",
   "execution_count": 83,
   "metadata": {},
   "outputs": [
    {
     "data": {
      "image/png": "[encoded data removed]",
      "text/plain": [
       "<Figure size 1080x1080 with 2 Axes>"
      ]
     },
     "metadata": {
      "needs_background": "light"
     },
     "output_type": "display_data"
    }
   ],
   "source": [
    "plt.figure(figsize=(15, 15))\n",
    "sns.heatmap(data=data.corr(), annot=True, square=False)\n",
    "None"
   ]
  },
  {
   "cell_type": "markdown",
   "metadata": {},
   "source": [
    "По матрице корреляций можно наблюдать эффект мультиколлинеарности в признаках:\n",
    "* `contract_period` и `month_to_end_contract`\n",
    "* `avg_class_frequency_total` и `acg_class_frequency_current_month`\n",
    "\n",
    "Для того, чтобы избежать мультиколлинеарности, из признаков для моделей будут удалены те признаки, которые оказывают менее существенное влияние на целевую метрику: `month_to_end_contract` и `avg_class_frequency_total`"
   ]
  },
  {
   "cell_type": "markdown",
   "metadata": {},
   "source": [
    "<strong>Общий вывод по исследовательскому анализу данных:</strong>\n",
    "* было выявлено, что доля группы оттока составила 27%\n",
    "* в данных не выявлено явных аномалий\n",
    "* по большей части признаков показатели группы активных пользователей выше, чем по группе оттока\n",
    "* Показатели, которые, скорее всего, больше всего влияют на отток - `contract_period` и `lifetime`\n",
    "* некоторые показатели почти наверняка никак не влияют на отток пользователей, например `phone` и `gender`\n",
    "* Некоторые признаки коррелируют между собой. Для корректной работы модели следует удалить 2 признака из модели"
   ]
  },
  {
   "cell_type": "markdown",
   "metadata": {},
   "source": [
    "## Модель прогнозирования оттока клиентов"
   ]
  },
  {
   "cell_type": "markdown",
   "metadata": {},
   "source": [
    "### Разделение данных на обучающую и валидационную выборку"
   ]
  },
  {
   "cell_type": "markdown",
   "metadata": {},
   "source": [
    "Сначала избавимся от мультиколлинеарности лишних признаков, затем запишем данные в отдельные переменные:"
   ]
  },
  {
   "cell_type": "code",
   "execution_count": 84,
   "metadata": {},
   "outputs": [],
   "source": [
    "x = data.drop(['churn', 'avg_class_frequency_total', 'month_to_end_contract'], axis=1)\n",
    "y = data['churn']\n",
    "x_train, x_test, y_train, y_test = train_test_split(x, y, stratify=y, test_size=.2, random_state=0)"
   ]
  },
  {
   "cell_type": "markdown",
   "metadata": {},
   "source": [
    "### Обучение модели логистической регрессией"
   ]
  },
  {
   "cell_type": "code",
   "execution_count": 85,
   "metadata": {},
   "outputs": [],
   "source": [
    "warnings.simplefilter(\"ignore\")\n",
    "log_model = LogisticRegression(solver='liblinear')\n",
    "log_model.fit(x_train, y_train)\n",
    "None"
   ]
  },
  {
   "cell_type": "markdown",
   "metadata": {},
   "source": [
    "### Обучение модели случайным лесом"
   ]
  },
  {
   "cell_type": "code",
   "execution_count": 86,
   "metadata": {},
   "outputs": [
    {
     "data": {
      "text/plain": [
       "RandomForestClassifier(random_state=0)"
      ]
     },
     "execution_count": 86,
     "metadata": {},
     "output_type": "execute_result"
    }
   ],
   "source": [
    "rf_model = RandomForestClassifier(n_estimators = 100, random_state=0)\n",
    "rf_model.fit(x_train, y_train)"
   ]
  },
  {
   "cell_type": "markdown",
   "metadata": {},
   "source": [
    "### Оценка метрик accuracy, precision и recall для обеих моделей на валидационной выборке"
   ]
  },
  {
   "cell_type": "code",
   "execution_count": 87,
   "metadata": {},
   "outputs": [
    {
     "name": "stdout",
     "output_type": "stream",
     "text": [
      "LogisticRegression(solver='liblinear') :\n",
      "Accuracy: 0.91\n",
      "Precision: 0.85\n",
      "Recall: 0.82\n",
      "RandomForestClassifier(random_state=0) :\n",
      "Accuracy: 0.90\n",
      "Precision: 0.85\n",
      "Recall: 0.77\n"
     ]
    }
   ],
   "source": [
    "models = [log_model, rf_model]\n",
    "\n",
    "for model in models:\n",
    "    print(model, ':')\n",
    "    y_pred = model.predict(x_test)\n",
    "    print('Accuracy: {:.2f}'.format(accuracy_score(y_test, y_pred)))\n",
    "    print('Precision: {:.2f}'.format(precision_score(y_test, y_pred)))\n",
    "    print('Recall: {:.2f}'.format(recall_score(y_test, y_pred)))"
   ]
  },
  {
   "cell_type": "markdown",
   "metadata": {},
   "source": [
    "<strong>Вывод по моделям прогнозирования оттока клиентов</strong>:\n",
    "* Доля правильных ответов схожа для обеих моделей - 90% и 91%. Однако следует помнить, что выборка не сбалансированна, группа оттока составляет всего 27% от общей выборки, поэтому стоит обратить внимание на другие показатели\n",
    "* В данном случае метрика `Recall` является более приоритетной - для модели важно максимизировать долю пользователей, корректно отнесенных к группе оттока, поэтому стоит остановиться на логистической регрессии"
   ]
  },
  {
   "cell_type": "code",
   "execution_count": 88,
   "metadata": {},
   "outputs": [
    {
     "data": {
      "text/html": [
       "<div>\n",
       "<style scoped>\n",
       "    .dataframe tbody tr th:only-of-type {\n",
       "        vertical-align: middle;\n",
       "    }\n",
       "\n",
       "    .dataframe tbody tr th {\n",
       "        vertical-align: top;\n",
       "    }\n",
       "\n",
       "    .dataframe thead th {\n",
       "        text-align: right;\n",
       "    }\n",
       "</style>\n",
       "<table border=\"1\" class=\"dataframe\">\n",
       "  <thead>\n",
       "    <tr style=\"text-align: right;\">\n",
       "      <th></th>\n",
       "      <th>feature</th>\n",
       "      <th>importances</th>\n",
       "    </tr>\n",
       "  </thead>\n",
       "  <tbody>\n",
       "    <tr>\n",
       "      <th>9</th>\n",
       "      <td>lifetime</td>\n",
       "      <td>0.317762</td>\n",
       "    </tr>\n",
       "    <tr>\n",
       "      <th>10</th>\n",
       "      <td>avg_class_frequency_current_month</td>\n",
       "      <td>0.215782</td>\n",
       "    </tr>\n",
       "    <tr>\n",
       "      <th>7</th>\n",
       "      <td>age</td>\n",
       "      <td>0.144186</td>\n",
       "    </tr>\n",
       "    <tr>\n",
       "      <th>8</th>\n",
       "      <td>avg_additional_charges_total</td>\n",
       "      <td>0.122384</td>\n",
       "    </tr>\n",
       "    <tr>\n",
       "      <th>5</th>\n",
       "      <td>contract_period</td>\n",
       "      <td>0.110377</td>\n",
       "    </tr>\n",
       "    <tr>\n",
       "      <th>6</th>\n",
       "      <td>group_visits</td>\n",
       "      <td>0.020768</td>\n",
       "    </tr>\n",
       "    <tr>\n",
       "      <th>2</th>\n",
       "      <td>partner</td>\n",
       "      <td>0.016854</td>\n",
       "    </tr>\n",
       "    <tr>\n",
       "      <th>0</th>\n",
       "      <td>gender</td>\n",
       "      <td>0.016574</td>\n",
       "    </tr>\n",
       "    <tr>\n",
       "      <th>3</th>\n",
       "      <td>promo_friends</td>\n",
       "      <td>0.013606</td>\n",
       "    </tr>\n",
       "    <tr>\n",
       "      <th>1</th>\n",
       "      <td>near_location</td>\n",
       "      <td>0.013045</td>\n",
       "    </tr>\n",
       "    <tr>\n",
       "      <th>4</th>\n",
       "      <td>phone</td>\n",
       "      <td>0.008662</td>\n",
       "    </tr>\n",
       "  </tbody>\n",
       "</table>\n",
       "</div>"
      ],
      "text/plain": [
       "                              feature  importances\n",
       "9                            lifetime     0.317762\n",
       "10  avg_class_frequency_current_month     0.215782\n",
       "7                                 age     0.144186\n",
       "8        avg_additional_charges_total     0.122384\n",
       "5                     contract_period     0.110377\n",
       "6                        group_visits     0.020768\n",
       "2                             partner     0.016854\n",
       "0                              gender     0.016574\n",
       "3                       promo_friends     0.013606\n",
       "1                       near_location     0.013045\n",
       "4                               phone     0.008662"
      ]
     },
     "execution_count": 88,
     "metadata": {},
     "output_type": "execute_result"
    }
   ],
   "source": [
    "pd.DataFrame({'feature' : x.columns, 'importances': rf_model.feature_importances_}).sort_values(by='importances', ascending=False)"
   ]
  },
  {
   "cell_type": "markdown",
   "metadata": {},
   "source": [
    "## Кластеризация клиентов"
   ]
  },
  {
   "cell_type": "markdown",
   "metadata": {},
   "source": [
    "Для кластеризации исключим влияние мультиколлинеарности, чтобы не давать большего веса связанным признакам:"
   ]
  },
  {
   "cell_type": "markdown",
   "metadata": {},
   "source": [
    "### Стандартизация данных"
   ]
  },
  {
   "cell_type": "code",
   "execution_count": 89,
   "metadata": {},
   "outputs": [],
   "source": [
    "sc = StandardScaler()\n",
    "x_sc = sc.fit_transform(x)\n",
    "linked = linkage(x_sc, method = 'ward')"
   ]
  },
  {
   "cell_type": "markdown",
   "metadata": {},
   "source": [
    "### Матрица расстояний на стандартизованной матрице признаков и дендрограмма. Выделение кластеров"
   ]
  },
  {
   "cell_type": "code",
   "execution_count": 90,
   "metadata": {},
   "outputs": [
    {
     "data": {
      "image/png": "[encoded data removed]",
      "text/plain": [
       "<Figure size 1080x720 with 1 Axes>"
      ]
     },
     "metadata": {
      "needs_background": "light"
     },
     "output_type": "display_data"
    }
   ],
   "source": [
    "plt.figure(figsize=(15, 10))  \n",
    "dendrogram(linked, orientation='top')\n",
    "plt.title('Дендрограмма кластеризации клиентов')\n",
    "plt.show()"
   ]
  },
  {
   "cell_type": "markdown",
   "metadata": {},
   "source": [
    "По дендрограмме можно увидеть предложенный вариант из 4 кластеров. При этом кластеры распределены достаточно неравномерно по количеству пользователей в каждой группе. Возможно, в некоторые сегменты попали пользователи, более склонные к оттоку. Наиболее многочисленную группу (фиолетовую) можно разделить на две для более равномерного распределения пользователей по группам. Однако необходимость такого разделения должна быть обусловлена общими признаками\n",
    "\n",
    "Итого предположительное количество кластеров может быть от 4 до 5"
   ]
  },
  {
   "cell_type": "markdown",
   "metadata": {},
   "source": [
    "### Обучение модели кластеризации на основании алгоритма K-Means"
   ]
  },
  {
   "cell_type": "markdown",
   "metadata": {},
   "source": [
    "По условию задание задаём число кластеров, равное 5:"
   ]
  },
  {
   "cell_type": "code",
   "execution_count": 91,
   "metadata": {},
   "outputs": [],
   "source": [
    "km = KMeans(n_clusters=5, random_state=0)\n",
    "labels = km.fit_predict(x_sc)\n",
    "\n",
    "data['cluster'] = labels"
   ]
  },
  {
   "cell_type": "markdown",
   "metadata": {},
   "source": [
    "### Оценка средних значений признаков для кластеров"
   ]
  },
  {
   "cell_type": "code",
   "execution_count": 92,
   "metadata": {},
   "outputs": [
    {
     "data": {
      "text/html": [
       "<div>\n",
       "<style scoped>\n",
       "    .dataframe tbody tr th:only-of-type {\n",
       "        vertical-align: middle;\n",
       "    }\n",
       "\n",
       "    .dataframe tbody tr th {\n",
       "        vertical-align: top;\n",
       "    }\n",
       "\n",
       "    .dataframe thead th {\n",
       "        text-align: right;\n",
       "    }\n",
       "</style>\n",
       "<table border=\"1\" class=\"dataframe\">\n",
       "  <thead>\n",
       "    <tr style=\"text-align: right;\">\n",
       "      <th></th>\n",
       "      <th>gender</th>\n",
       "      <th>near_location</th>\n",
       "      <th>partner</th>\n",
       "      <th>promo_friends</th>\n",
       "      <th>phone</th>\n",
       "      <th>contract_period</th>\n",
       "      <th>group_visits</th>\n",
       "      <th>age</th>\n",
       "      <th>avg_additional_charges_total</th>\n",
       "      <th>month_to_end_contract</th>\n",
       "      <th>lifetime</th>\n",
       "      <th>avg_class_frequency_total</th>\n",
       "      <th>avg_class_frequency_current_month</th>\n",
       "      <th>churn</th>\n",
       "    </tr>\n",
       "    <tr>\n",
       "      <th>cluster</th>\n",
       "      <th></th>\n",
       "      <th></th>\n",
       "      <th></th>\n",
       "      <th></th>\n",
       "      <th></th>\n",
       "      <th></th>\n",
       "      <th></th>\n",
       "      <th></th>\n",
       "      <th></th>\n",
       "      <th></th>\n",
       "      <th></th>\n",
       "      <th></th>\n",
       "      <th></th>\n",
       "      <th></th>\n",
       "    </tr>\n",
       "  </thead>\n",
       "  <tbody>\n",
       "    <tr>\n",
       "      <th>0</th>\n",
       "      <td>0.496447</td>\n",
       "      <td>0.995939</td>\n",
       "      <td>0.892386</td>\n",
       "      <td>1.000000</td>\n",
       "      <td>1.0</td>\n",
       "      <td>6.922843</td>\n",
       "      <td>0.524873</td>\n",
       "      <td>29.606091</td>\n",
       "      <td>153.424651</td>\n",
       "      <td>6.332995</td>\n",
       "      <td>4.283249</td>\n",
       "      <td>1.962217</td>\n",
       "      <td>1.919520</td>\n",
       "      <td>0.119797</td>\n",
       "    </tr>\n",
       "    <tr>\n",
       "      <th>1</th>\n",
       "      <td>0.500000</td>\n",
       "      <td>0.000000</td>\n",
       "      <td>0.489247</td>\n",
       "      <td>0.078853</td>\n",
       "      <td>1.0</td>\n",
       "      <td>2.994624</td>\n",
       "      <td>0.232975</td>\n",
       "      <td>28.679211</td>\n",
       "      <td>137.125763</td>\n",
       "      <td>2.818996</td>\n",
       "      <td>2.974910</td>\n",
       "      <td>1.764122</td>\n",
       "      <td>1.597146</td>\n",
       "      <td>0.403226</td>\n",
       "    </tr>\n",
       "    <tr>\n",
       "      <th>2</th>\n",
       "      <td>0.500940</td>\n",
       "      <td>1.000000</td>\n",
       "      <td>0.217105</td>\n",
       "      <td>0.072368</td>\n",
       "      <td>1.0</td>\n",
       "      <td>2.010338</td>\n",
       "      <td>0.277256</td>\n",
       "      <td>27.583647</td>\n",
       "      <td>119.339956</td>\n",
       "      <td>1.941729</td>\n",
       "      <td>1.922932</td>\n",
       "      <td>1.451098</td>\n",
       "      <td>1.203319</td>\n",
       "      <td>0.563910</td>\n",
       "    </tr>\n",
       "    <tr>\n",
       "      <th>3</th>\n",
       "      <td>0.534260</td>\n",
       "      <td>0.996028</td>\n",
       "      <td>0.379345</td>\n",
       "      <td>0.009930</td>\n",
       "      <td>1.0</td>\n",
       "      <td>6.208540</td>\n",
       "      <td>0.538232</td>\n",
       "      <td>30.699106</td>\n",
       "      <td>176.259567</td>\n",
       "      <td>5.650447</td>\n",
       "      <td>5.415094</td>\n",
       "      <td>2.322960</td>\n",
       "      <td>2.324220</td>\n",
       "      <td>0.014896</td>\n",
       "    </tr>\n",
       "    <tr>\n",
       "      <th>4</th>\n",
       "      <td>0.523316</td>\n",
       "      <td>0.862694</td>\n",
       "      <td>0.471503</td>\n",
       "      <td>0.305699</td>\n",
       "      <td>0.0</td>\n",
       "      <td>4.777202</td>\n",
       "      <td>0.427461</td>\n",
       "      <td>29.297927</td>\n",
       "      <td>144.208179</td>\n",
       "      <td>4.466321</td>\n",
       "      <td>3.940415</td>\n",
       "      <td>1.854211</td>\n",
       "      <td>1.723967</td>\n",
       "      <td>0.266839</td>\n",
       "    </tr>\n",
       "  </tbody>\n",
       "</table>\n",
       "</div>"
      ],
      "text/plain": [
       "           gender  near_location   partner  promo_friends  phone  \\\n",
       "cluster                                                            \n",
       "0        0.496447       0.995939  0.892386       1.000000    1.0   \n",
       "1        0.500000       0.000000  0.489247       0.078853    1.0   \n",
       "2        0.500940       1.000000  0.217105       0.072368    1.0   \n",
       "3        0.534260       0.996028  0.379345       0.009930    1.0   \n",
       "4        0.523316       0.862694  0.471503       0.305699    0.0   \n",
       "\n",
       "         contract_period  group_visits        age  \\\n",
       "cluster                                             \n",
       "0               6.922843      0.524873  29.606091   \n",
       "1               2.994624      0.232975  28.679211   \n",
       "2               2.010338      0.277256  27.583647   \n",
       "3               6.208540      0.538232  30.699106   \n",
       "4               4.777202      0.427461  29.297927   \n",
       "\n",
       "         avg_additional_charges_total  month_to_end_contract  lifetime  \\\n",
       "cluster                                                                  \n",
       "0                          153.424651               6.332995  4.283249   \n",
       "1                          137.125763               2.818996  2.974910   \n",
       "2                          119.339956               1.941729  1.922932   \n",
       "3                          176.259567               5.650447  5.415094   \n",
       "4                          144.208179               4.466321  3.940415   \n",
       "\n",
       "         avg_class_frequency_total  avg_class_frequency_current_month  \\\n",
       "cluster                                                                 \n",
       "0                         1.962217                           1.919520   \n",
       "1                         1.764122                           1.597146   \n",
       "2                         1.451098                           1.203319   \n",
       "3                         2.322960                           2.324220   \n",
       "4                         1.854211                           1.723967   \n",
       "\n",
       "            churn  \n",
       "cluster            \n",
       "0        0.119797  \n",
       "1        0.403226  \n",
       "2        0.563910  \n",
       "3        0.014896  \n",
       "4        0.266839  "
      ]
     },
     "execution_count": 92,
     "metadata": {},
     "output_type": "execute_result"
    }
   ],
   "source": [
    "data.groupby('cluster').mean()"
   ]
  },
  {
   "cell_type": "markdown",
   "metadata": {},
   "source": [
    "По средним значениям можно характерные признаки 2-х групп:\n",
    "* `кластер 2`: редко пользуются скидками для оформления абонемента, короткий срок контракта, реже других посещают групповые занятия, приносят меньше выручки с доп.услуг, короткий срок жизни и короткая средняя частота посещения клуба. Более склонны к оттоку\n",
    "* `кластер 3`: средний срок контракта более полугода, чаще среднего посещают групповые занятия, самый долгий срок жизни и высокая частота посещения клуба. Приносят больше денег с доп. услуг, чем другие клиенты. Почти не склонны к оттоку\n",
    "\n",
    "Похоже, что определение по остальным группам также зависит от таких параметров как выручка, срок контракта и частота посещения. Кажется, что кластеризация распределяет клиентов по группам в основном по уровню их общей активности\n",
    "\n",
    "Есть и весьма неоднозначные наблюдения: в `кластер 1` вошли только те пользователи, которые не живут и не работают рядом с клубом, а в `кластер 4` вошли пользователи, которые не оставили номер телефона. В `кластер 0` попали только те пользователи, которые воспользовались акцией \"приведи друга\". С точки зрения маркетинга такая разбивка может быть полезной: нужно искать иные способы коммуникации с клиентами, номер которых не известен, а также персонализировать коммуникацию с клиентами в зависимости от того, где они живут и какими акциями пользуются"
   ]
  },
  {
   "cell_type": "markdown",
   "metadata": {},
   "source": [
    "### Распределения признаков для кластеров"
   ]
  },
  {
   "cell_type": "code",
   "execution_count": 93,
   "metadata": {},
   "outputs": [
    {
     "data": {
      "image/png": "[encoded data removed]",
      "text/plain": [
       "<Figure size 1440x360 with 5 Axes>"
      ]
     },
     "metadata": {
      "needs_background": "light"
     },
     "output_type": "display_data"
    },
    {
     "data": {
      "image/png": "[encoded data removed]",
      "text/plain": [
       "<Figure size 1440x360 with 5 Axes>"
      ]
     },
     "metadata": {
      "needs_background": "light"
     },
     "output_type": "display_data"
    },
    {
     "data": {
      "image/png": "[encoded data removed]",
      "text/plain": [
       "<Figure size 1440x360 with 5 Axes>"
      ]
     },
     "metadata": {
      "needs_background": "light"
     },
     "output_type": "display_data"
    },
    {
     "data": {
      "image/png": "[encoded data removed]",
      "text/plain": [
       "<Figure size 1440x360 with 5 Axes>"
      ]
     },
     "metadata": {
      "needs_background": "light"
     },
     "output_type": "display_data"
    },
    {
     "data": {
      "image/png": "[encoded data removed]",
      "text/plain": [
       "<Figure size 1440x360 with 5 Axes>"
      ]
     },
     "metadata": {
      "needs_background": "light"
     },
     "output_type": "display_data"
    },
    {
     "data": {
      "image/png": "[encoded data removed]",
      "text/plain": [
       "<Figure size 1440x360 with 5 Axes>"
      ]
     },
     "metadata": {
      "needs_background": "light"
     },
     "output_type": "display_data"
    },
    {
     "data": {
      "image/png": "[encoded data removed]",
      "text/plain": [
       "<Figure size 1440x360 with 5 Axes>"
      ]
     },
     "metadata": {
      "needs_background": "light"
     },
     "output_type": "display_data"
    }
   ],
   "source": [
    "for column in hist_columns:\n",
    "    plt.figure(figsize=(20, 5))\n",
    "    plt.suptitle(column)\n",
    "    if 10 < len(data[column].unique()) < 100:\n",
    "           n_bars = len(data[column].unique())\n",
    "    else:\n",
    "        n_bars = 20\n",
    "    \n",
    "    clusters = sorted(data['cluster'].unique())   \n",
    "    ax1 = plt.subplot(1, len(clusters), 1)\n",
    "    data.query('cluster == @clusters[0]')[column].hist(bins=n_bars)\n",
    "    for cluster in clusters[1:]:\n",
    "        ax2 = plt.subplot(1, len(clusters), cluster + 1, sharey=ax1)\n",
    "        data.query('cluster == @cluster')[column].hist(bins=n_bars)\n",
    "        plt.xlabel(cluster)"
   ]
  },
  {
   "cell_type": "markdown",
   "metadata": {},
   "source": [
    "<strong>Вывод по распределению признаков</strong>:\n",
    "* По распределению выбивается `кластер 2`: небольшой срок жизни, распределение срока контракта в сторону одномесячных абонементов и выбивающийся низкий уровень активности последнего месяца\n",
    "* `Кластер 1` наиболее близок ко второму кластеру по распределению: схожий перевес активности последнего месяца в сторону нулевых значений, перевес одномесячных абонементов\n",
    "* `Кластер 3` представляет наиболее надежных клиентов: больше других тратят на доп.услуги, отличаются равномерным распределением абонементов по сроку\n",
    "\n",
    "В целом, можно сказать, что распределение проранжировано по степени активности взаимодействия клиентов с клубом:\n",
    "\n",
    "* `Кластер 2` - группа с активностью значительно ниже среднего\n",
    "* `Кластер 1` - группа с активностью ниже среднего\n",
    "* `Кластер 4` - группа со средней активностью\n",
    "* `Кластер 0` - группа с активностью выше среднего\n",
    "* `Кластер 3` - группа с активностью значительно выше среднего"
   ]
  },
  {
   "cell_type": "code",
   "execution_count": 94,
   "metadata": {},
   "outputs": [
    {
     "data": {
      "image/png": "[encoded data removed]",
      "text/plain": [
       "<Figure size 1080x360 with 1 Axes>"
      ]
     },
     "metadata": {
      "needs_background": "light"
     },
     "output_type": "display_data"
    }
   ],
   "source": [
    "(data\n",
    " .groupby('cluster')\n",
    " [bar_columns]\n",
    " .mean()\n",
    " .T\n",
    " .sort_values(by=0, ascending=False)\n",
    " .plot(kind='bar', figsize=(15,5), title='Доля пользователей с положительным параметром')\n",
    ")\n",
    "None"
   ]
  },
  {
   "cell_type": "markdown",
   "metadata": {},
   "source": [
    "Изучение бинарных признаков даёт дополнительную информацию для портретов кластеров:\n",
    "\n",
    "<strong>Финальное описание кластеров:</strong>\n",
    "* `Кластер 2` - группа с активностью значительно ниже среднего. <strong>В этой группе клиенты редко работали в компаниях партнерах и не пользовались акцией \"приведи друга\"</strong>\n",
    "* `Кластер 1` - группа с активностью ниже среднего. <strong>Для всей группы фитнес раположен далеко от дома и работы</strong>\n",
    "* `Кластер 4` - группа со средней активностью. <strong>Среди этих клиентов никто не указал номер телефона</strong>\n",
    "* `Кластер 0` - группа с активностью выше среднего. <strong>В этой группе все клиенты пришли по приглашению друзей и чаще являлись сотрудниками компаний-партнеров</strong>\n",
    "* `Кластер 3` - группа с активностью значительно выше среднего"
   ]
  },
  {
   "cell_type": "markdown",
   "metadata": {},
   "source": [
    "### Доля оттока для каждого кластера"
   ]
  },
  {
   "cell_type": "code",
   "execution_count": 95,
   "metadata": {},
   "outputs": [
    {
     "data": {
      "image/png": "[encoded data removed]",
      "text/plain": [
       "<Figure size 720x360 with 1 Axes>"
      ]
     },
     "metadata": {
      "needs_background": "light"
     },
     "output_type": "display_data"
    }
   ],
   "source": [
    "(data\n",
    " .groupby('cluster')['churn']\n",
    " .mean()\n",
    " .sort_values(ascending=False)\n",
    " .plot(kind='bar', figsize=(10,5), title='Доля оттока по кластерам')\n",
    ")\n",
    "None"
   ]
  },
  {
   "cell_type": "markdown",
   "metadata": {},
   "source": [
    "Доля оттока по кластерам подтверждает гипотезу о том, что кластеры распределились общая активность клиентов напрямую влияет на отток. Можно делать финальные выводы"
   ]
  },
  {
   "cell_type": "markdown",
   "metadata": {},
   "source": [
    "## Выводы и базовые рекомендации по работе с клиентами"
   ]
  },
  {
   "cell_type": "markdown",
   "metadata": {},
   "source": [
    "<strong>По первичному исследовательскому анализу данных:</strong>\n",
    "* Импортированы необходимые библиотеки, загружены данные, описаны и скорректированы названия столбцов\n",
    "* В данных не выявлено некорректных форматов и пропущенных значений\n",
    "* Изучены средние значения и распределения признаков в зависимости от статуса оттока пользователя, выявлены ключевые взаимосвязи оттока с признаками. Ключевые признаки: `lifetime` и `contract_period`\n",
    "* По матрице корреляций выявлены признаки, которые коррелируют между собой: `contract_period` и `month_to_end_contract`, `avg_class_frequency_total` и `acg_class_frequency_current_month`\n",
    "\n",
    "<strong>В блоке обучения моделей оттока:</strong>\n",
    "* Для корректной работы моделей из данных удалено два признака, у которых установлена высокая взаимосвязь с другими признаками\n",
    "* Данные разделены на обучающую и валидационную выборку\n",
    "* Обучена модель с помощью алгоритма `Логистическая регрессия`\n",
    "* Обучена модель с помощью алогритма `Случайный лес`\n",
    "* В результате оценок метрик `Accuracy`, `Precision` и `Recall` выбрана модель логистической регрессии\n",
    "\n",
    "<strong>В блоке обучения кластеризации:</strong>\n",
    "* Признаки целевой переменной были стандартизированы\n",
    "* Посчитана матрица расстояния и на ее основе построена дендрограмма. Оценена предложенная кластеризация клиентов. Предложенное количество кластеров - 4\n",
    "* С помощью алгоритма `K-means` данные распределены по 5 кластерам\n",
    "* Оценены средние метрики каждого кластера, выявлены первичные портреты кластеров, выявлена зависимость кластера от общей активности взаимодействия с клубом\n",
    "* Оценено распределение признаков для каждого кластера, подтверждена разница распределений между кластерами по метрикам активности\n",
    "* Сформированы подробные портреты каждого кластера на основании бинарных и небинарных признаков\n",
    "\n",
    "<strong>Рекомендации по работе с клиентами:</strong>\n",
    "\n",
    "Коммуникация с пользователями может быть персонализирована в зависимости от отнесения тому или иному кластеру:\n",
    "* Для аудитории `Кластера 2` (самые неактивные) реактивация возможна за счёт выгодной акции \"Приведи друга\". Такие клиенты редко являются сотрудниками компаний-партнёров, мало кто из представителей кластера пришел по акции с другом. Возможно, таким клиентам попросту скучно ходить в фитнес-клуб в одиночку\n",
    "* Для аудитории `Кластера 1` (активность ниже среднего) предложение о пробном посещении более территориально подходящей точки вашей сети может быть решающим. Очень сложно повлиять на отток тех клиентов, чья дорога до клуба занимает длительное время\n",
    "* Для аудитории `Кластера 4` (средняя активность) предлагаем поощрение за номер телефона. Это упростит коммуникацию с аудиторией. В ином случае стоит находить иные точки взаимодействия (например, e-mail рассылка)\n",
    "* Аудитория `Кластера 0` (активность выше среднего) - Такие пользователи тратят на доп.услуги больше 3-х вышеперечисленных кластеров. Помимо стандартного напоминания обновить абонемент здесь подойдет предложение воспользоваться новыми дополнительными услугами\n",
    "* Аудитория `Кластера 3` - для поддержания высокого срока жизни клиентов можно придумать программу поощрения для \"долгожителей\""
   ]
  }
 ],
 "metadata": {
  "ExecuteTimeLog": [
   {
    "duration": 51,
    "start_time": "2022-07-17T08:42:16.643Z"
   },
   {
    "duration": 1751,
    "start_time": "2022-07-17T08:42:21.155Z"
   },
   {
    "duration": 140,
    "start_time": "2022-07-17T08:42:23.166Z"
   },
   {
    "duration": 39,
    "start_time": "2022-07-17T08:42:58.592Z"
   },
   {
    "duration": 81,
    "start_time": "2022-07-17T08:46:15.744Z"
   },
   {
    "duration": 3,
    "start_time": "2022-07-17T08:51:26.617Z"
   },
   {
    "duration": 12,
    "start_time": "2022-07-17T08:51:40.074Z"
   },
   {
    "duration": 48,
    "start_time": "2022-07-17T08:55:28.846Z"
   },
   {
    "duration": 19,
    "start_time": "2022-07-17T09:09:24.570Z"
   },
   {
    "duration": 74,
    "start_time": "2022-07-17T09:15:21.785Z"
   },
   {
    "duration": 9,
    "start_time": "2022-07-17T09:15:29.722Z"
   },
   {
    "duration": 14,
    "start_time": "2022-07-17T09:15:37.169Z"
   },
   {
    "duration": 564,
    "start_time": "2022-07-17T09:16:14.298Z"
   },
   {
    "duration": 149,
    "start_time": "2022-07-17T09:30:40.707Z"
   },
   {
    "duration": 204,
    "start_time": "2022-07-17T09:31:26.846Z"
   },
   {
    "duration": 77,
    "start_time": "2022-07-17T09:32:45.587Z"
   },
   {
    "duration": 133,
    "start_time": "2022-07-17T09:33:00.634Z"
   },
   {
    "duration": 123,
    "start_time": "2022-07-17T09:33:15.911Z"
   },
   {
    "duration": 18,
    "start_time": "2022-07-17T09:33:32.695Z"
   },
   {
    "duration": 149,
    "start_time": "2022-07-17T09:34:33.500Z"
   },
   {
    "duration": 31,
    "start_time": "2022-07-17T09:34:40.261Z"
   },
   {
    "duration": 29,
    "start_time": "2022-07-17T09:34:46.420Z"
   },
   {
    "duration": 259,
    "start_time": "2022-07-17T09:36:55.002Z"
   },
   {
    "duration": 77,
    "start_time": "2022-07-17T09:37:30.491Z"
   },
   {
    "duration": 82,
    "start_time": "2022-07-17T09:37:49.497Z"
   },
   {
    "duration": 2670,
    "start_time": "2022-07-17T09:38:31.439Z"
   },
   {
    "duration": 2104,
    "start_time": "2022-07-17T09:39:34.782Z"
   },
   {
    "duration": 2153,
    "start_time": "2022-07-17T09:40:04.331Z"
   },
   {
    "duration": 17,
    "start_time": "2022-07-17T09:42:15.311Z"
   },
   {
    "duration": 1999,
    "start_time": "2022-07-17T09:42:48.007Z"
   },
   {
    "duration": 2002,
    "start_time": "2022-07-17T09:42:58.242Z"
   },
   {
    "duration": 38206,
    "start_time": "2022-07-17T09:44:48.287Z"
   },
   {
    "duration": 30571,
    "start_time": "2022-07-17T09:48:42.238Z"
   },
   {
    "duration": 40659,
    "start_time": "2022-07-17T09:50:16.581Z"
   },
   {
    "duration": 40152,
    "start_time": "2022-07-17T10:08:04.903Z"
   },
   {
    "duration": 40811,
    "start_time": "2022-07-17T10:09:42.103Z"
   },
   {
    "duration": 77,
    "start_time": "2022-07-17T10:16:16.902Z"
   },
   {
    "duration": 84,
    "start_time": "2022-07-17T10:17:10.406Z"
   },
   {
    "duration": 118,
    "start_time": "2022-07-17T10:17:19.194Z"
   },
   {
    "duration": 5103,
    "start_time": "2022-07-17T10:17:47.316Z"
   },
   {
    "duration": 2370,
    "start_time": "2022-07-17T10:22:29.827Z"
   },
   {
    "duration": 1721,
    "start_time": "2022-07-17T10:30:54.467Z"
   },
   {
    "duration": 81,
    "start_time": "2022-07-17T10:31:28.792Z"
   },
   {
    "duration": 72,
    "start_time": "2022-07-17T10:31:44.601Z"
   },
   {
    "duration": 51,
    "start_time": "2022-07-17T10:31:50.834Z"
   },
   {
    "duration": 23,
    "start_time": "2022-07-17T10:33:09.270Z"
   },
   {
    "duration": 670,
    "start_time": "2022-07-17T10:33:44.410Z"
   },
   {
    "duration": 14,
    "start_time": "2022-07-17T10:34:34.552Z"
   },
   {
    "duration": 3,
    "start_time": "2022-07-17T10:34:38.860Z"
   },
   {
    "duration": 14,
    "start_time": "2022-07-17T10:34:41.917Z"
   },
   {
    "duration": 3,
    "start_time": "2022-07-17T10:34:50.667Z"
   },
   {
    "duration": 13,
    "start_time": "2022-07-17T10:34:52.581Z"
   },
   {
    "duration": 15,
    "start_time": "2022-07-17T10:35:04.303Z"
   },
   {
    "duration": 221,
    "start_time": "2022-07-17T10:35:21.870Z"
   },
   {
    "duration": 13,
    "start_time": "2022-07-17T10:35:29.792Z"
   },
   {
    "duration": 189,
    "start_time": "2022-07-17T10:35:34.517Z"
   },
   {
    "duration": 2226,
    "start_time": "2022-07-17T10:36:16.817Z"
   },
   {
    "duration": 176,
    "start_time": "2022-07-17T10:36:20.820Z"
   },
   {
    "duration": 171,
    "start_time": "2022-07-17T10:36:32.186Z"
   },
   {
    "duration": 158,
    "start_time": "2022-07-17T10:36:56.918Z"
   },
   {
    "duration": 18,
    "start_time": "2022-07-17T10:39:23.568Z"
   },
   {
    "duration": 6,
    "start_time": "2022-07-17T10:39:51.107Z"
   },
   {
    "duration": 7,
    "start_time": "2022-07-17T10:39:58.478Z"
   },
   {
    "duration": 206,
    "start_time": "2022-07-17T10:40:14.410Z"
   },
   {
    "duration": 13,
    "start_time": "2022-07-17T10:40:24.278Z"
   },
   {
    "duration": 20,
    "start_time": "2022-07-17T10:40:49.896Z"
   },
   {
    "duration": 18,
    "start_time": "2022-07-17T10:42:05.482Z"
   },
   {
    "duration": 13,
    "start_time": "2022-07-17T10:42:15.510Z"
   },
   {
    "duration": 179,
    "start_time": "2022-07-17T10:42:31.670Z"
   },
   {
    "duration": 188,
    "start_time": "2022-07-17T10:42:52.433Z"
   },
   {
    "duration": 219,
    "start_time": "2022-07-17T10:42:56.316Z"
   },
   {
    "duration": 308,
    "start_time": "2022-07-17T10:44:28.357Z"
   },
   {
    "duration": 189,
    "start_time": "2022-07-17T10:44:38.016Z"
   },
   {
    "duration": 198,
    "start_time": "2022-07-17T10:48:12.605Z"
   },
   {
    "duration": 191,
    "start_time": "2022-07-17T10:48:19.585Z"
   },
   {
    "duration": 23,
    "start_time": "2022-07-17T10:49:19.042Z"
   },
   {
    "duration": 16,
    "start_time": "2022-07-17T10:51:27.720Z"
   },
   {
    "duration": 1517,
    "start_time": "2022-07-17T10:52:39.134Z"
   },
   {
    "duration": 1697,
    "start_time": "2022-07-17T10:53:17.023Z"
   },
   {
    "duration": 18,
    "start_time": "2022-07-17T10:59:57.896Z"
   },
   {
    "duration": 23,
    "start_time": "2022-07-17T11:00:12.787Z"
   },
   {
    "duration": 17,
    "start_time": "2022-07-17T11:00:39.311Z"
   },
   {
    "duration": 15,
    "start_time": "2022-07-17T11:02:23.933Z"
   },
   {
    "duration": 13,
    "start_time": "2022-07-17T11:03:05.907Z"
   },
   {
    "duration": 4,
    "start_time": "2022-07-17T11:03:12.649Z"
   },
   {
    "duration": 42,
    "start_time": "2022-07-17T11:03:12.655Z"
   },
   {
    "duration": 3,
    "start_time": "2022-07-17T11:03:12.699Z"
   },
   {
    "duration": 54,
    "start_time": "2022-07-17T11:03:12.704Z"
   },
   {
    "duration": 17,
    "start_time": "2022-07-17T11:03:12.760Z"
   },
   {
    "duration": 2271,
    "start_time": "2022-07-17T11:03:12.779Z"
   },
   {
    "duration": 4,
    "start_time": "2022-07-17T11:03:15.052Z"
   },
   {
    "duration": 225,
    "start_time": "2022-07-17T11:03:15.058Z"
   },
   {
    "duration": 1822,
    "start_time": "2022-07-17T11:03:15.286Z"
   },
   {
    "duration": 14,
    "start_time": "2022-07-17T11:03:17.110Z"
   },
   {
    "duration": 10,
    "start_time": "2022-07-17T11:03:30.887Z"
   },
   {
    "duration": 11,
    "start_time": "2022-07-17T11:06:43.015Z"
   },
   {
    "duration": 4,
    "start_time": "2022-07-17T11:08:06.005Z"
   },
   {
    "duration": 629,
    "start_time": "2022-07-17T11:08:09.812Z"
   },
   {
    "duration": 10,
    "start_time": "2022-07-17T11:09:03.079Z"
   },
   {
    "duration": 4,
    "start_time": "2022-07-17T11:09:10.003Z"
   },
   {
    "duration": 2098,
    "start_time": "2022-07-17T11:09:12.943Z"
   },
   {
    "duration": 7,
    "start_time": "2022-07-17T11:13:59.509Z"
   },
   {
    "duration": 34,
    "start_time": "2022-07-17T11:14:02.438Z"
   },
   {
    "duration": 3,
    "start_time": "2022-07-17T11:53:28.693Z"
   },
   {
    "duration": 47,
    "start_time": "2022-07-17T11:53:28.699Z"
   },
   {
    "duration": 3,
    "start_time": "2022-07-17T11:53:28.748Z"
   },
   {
    "duration": 52,
    "start_time": "2022-07-17T11:53:28.752Z"
   },
   {
    "duration": 35,
    "start_time": "2022-07-17T11:53:28.806Z"
   },
   {
    "duration": 2112,
    "start_time": "2022-07-17T11:53:28.843Z"
   },
   {
    "duration": 3,
    "start_time": "2022-07-17T11:53:30.957Z"
   },
   {
    "duration": 202,
    "start_time": "2022-07-17T11:53:30.962Z"
   },
   {
    "duration": 1711,
    "start_time": "2022-07-17T11:53:31.165Z"
   },
   {
    "duration": 7,
    "start_time": "2022-07-17T11:53:32.878Z"
   },
   {
    "duration": 37,
    "start_time": "2022-07-17T11:53:32.887Z"
   },
   {
    "duration": 18,
    "start_time": "2022-07-17T11:53:32.925Z"
   },
   {
    "duration": 0,
    "start_time": "2022-07-17T11:53:32.945Z"
   },
   {
    "duration": 4,
    "start_time": "2022-07-17T11:55:41.205Z"
   },
   {
    "duration": 3,
    "start_time": "2022-07-17T11:55:46.840Z"
   },
   {
    "duration": 47,
    "start_time": "2022-07-17T11:55:46.845Z"
   },
   {
    "duration": 3,
    "start_time": "2022-07-17T11:55:46.894Z"
   },
   {
    "duration": 54,
    "start_time": "2022-07-17T11:55:46.899Z"
   },
   {
    "duration": 17,
    "start_time": "2022-07-17T11:55:46.955Z"
   },
   {
    "duration": 2263,
    "start_time": "2022-07-17T11:55:46.974Z"
   },
   {
    "duration": 3,
    "start_time": "2022-07-17T11:55:49.239Z"
   },
   {
    "duration": 218,
    "start_time": "2022-07-17T11:55:49.244Z"
   },
   {
    "duration": 1595,
    "start_time": "2022-07-17T11:55:49.464Z"
   },
   {
    "duration": 9,
    "start_time": "2022-07-17T11:55:51.061Z"
   },
   {
    "duration": 35,
    "start_time": "2022-07-17T11:55:51.072Z"
   },
   {
    "duration": 344,
    "start_time": "2022-07-17T11:55:51.108Z"
   },
   {
    "duration": 90,
    "start_time": "2022-07-17T11:55:51.454Z"
   },
   {
    "duration": 4,
    "start_time": "2022-07-17T11:57:01.024Z"
   },
   {
    "duration": 200,
    "start_time": "2022-07-17T11:57:05.161Z"
   },
   {
    "duration": 167,
    "start_time": "2022-07-17T11:57:58.085Z"
   },
   {
    "duration": 186,
    "start_time": "2022-07-17T12:00:35.470Z"
   },
   {
    "duration": 3,
    "start_time": "2022-07-17T12:02:23.384Z"
   },
   {
    "duration": 14,
    "start_time": "2022-07-17T12:07:44.989Z"
   },
   {
    "duration": 10,
    "start_time": "2022-07-17T12:07:51.530Z"
   },
   {
    "duration": 4,
    "start_time": "2022-07-17T12:11:42.976Z"
   },
   {
    "duration": 4,
    "start_time": "2022-07-17T12:11:45.657Z"
   },
   {
    "duration": 59,
    "start_time": "2022-07-17T12:11:45.663Z"
   },
   {
    "duration": 3,
    "start_time": "2022-07-17T12:11:45.724Z"
   },
   {
    "duration": 54,
    "start_time": "2022-07-17T12:11:45.729Z"
   },
   {
    "duration": 17,
    "start_time": "2022-07-17T12:11:45.785Z"
   },
   {
    "duration": 2407,
    "start_time": "2022-07-17T12:11:45.804Z"
   },
   {
    "duration": 3,
    "start_time": "2022-07-17T12:11:48.213Z"
   },
   {
    "duration": 223,
    "start_time": "2022-07-17T12:11:48.218Z"
   },
   {
    "duration": 1622,
    "start_time": "2022-07-17T12:11:48.443Z"
   },
   {
    "duration": 7,
    "start_time": "2022-07-17T12:11:50.067Z"
   },
   {
    "duration": 34,
    "start_time": "2022-07-17T12:11:50.076Z"
   },
   {
    "duration": 365,
    "start_time": "2022-07-17T12:11:50.112Z"
   },
   {
    "duration": 180,
    "start_time": "2022-07-17T12:11:50.479Z"
   },
   {
    "duration": 9,
    "start_time": "2022-07-17T12:11:50.661Z"
   },
   {
    "duration": 13,
    "start_time": "2022-07-17T12:18:53.557Z"
   },
   {
    "duration": 10,
    "start_time": "2022-07-17T12:19:52.398Z"
   },
   {
    "duration": 15,
    "start_time": "2022-07-17T12:20:00.155Z"
   },
   {
    "duration": 11,
    "start_time": "2022-07-17T12:20:12.768Z"
   },
   {
    "duration": 9,
    "start_time": "2022-07-17T12:21:13.707Z"
   },
   {
    "duration": 642,
    "start_time": "2022-07-17T12:31:07.810Z"
   },
   {
    "duration": 128300,
    "start_time": "2022-07-17T12:31:12.126Z"
   },
   {
    "duration": 607,
    "start_time": "2022-07-17T12:36:10.009Z"
   },
   {
    "duration": 12,
    "start_time": "2022-07-17T12:40:25.136Z"
   },
   {
    "duration": 19,
    "start_time": "2022-07-17T12:40:44.198Z"
   },
   {
    "duration": 1483,
    "start_time": "2022-07-17T12:40:47.857Z"
   },
   {
    "duration": 15,
    "start_time": "2022-07-17T12:40:56.227Z"
   },
   {
    "duration": 30,
    "start_time": "2022-07-17T12:41:40.970Z"
   },
   {
    "duration": 4,
    "start_time": "2022-07-17T12:45:27.574Z"
   },
   {
    "duration": 72,
    "start_time": "2022-07-17T12:45:33.403Z"
   },
   {
    "duration": 4,
    "start_time": "2022-07-17T12:45:49.270Z"
   },
   {
    "duration": 96,
    "start_time": "2022-07-17T12:46:06.679Z"
   },
   {
    "duration": 85,
    "start_time": "2022-07-17T12:46:10.076Z"
   },
   {
    "duration": 139,
    "start_time": "2022-07-17T12:46:54.543Z"
   },
   {
    "duration": 3,
    "start_time": "2022-07-17T12:46:58.176Z"
   },
   {
    "duration": 167,
    "start_time": "2022-07-17T12:57:59.081Z"
   },
   {
    "duration": 160,
    "start_time": "2022-07-17T12:58:55.055Z"
   },
   {
    "duration": 135,
    "start_time": "2022-07-17T12:59:22.054Z"
   },
   {
    "duration": 131,
    "start_time": "2022-07-17T12:59:40.572Z"
   },
   {
    "duration": 139,
    "start_time": "2022-07-17T13:00:35.702Z"
   },
   {
    "duration": 4804,
    "start_time": "2022-07-17T13:01:35.327Z"
   },
   {
    "duration": 138,
    "start_time": "2022-07-17T13:02:20.674Z"
   },
   {
    "duration": 15,
    "start_time": "2022-07-17T13:02:55.728Z"
   },
   {
    "duration": 14,
    "start_time": "2022-07-17T13:03:12.456Z"
   },
   {
    "duration": 408,
    "start_time": "2022-07-17T13:03:33.773Z"
   },
   {
    "duration": 5,
    "start_time": "2022-07-17T13:04:48.452Z"
   },
   {
    "duration": 4327,
    "start_time": "2022-07-17T13:05:33.109Z"
   },
   {
    "duration": 4920,
    "start_time": "2022-07-17T13:06:14.191Z"
   },
   {
    "duration": 4859,
    "start_time": "2022-07-17T13:07:40.003Z"
   },
   {
    "duration": 4931,
    "start_time": "2022-07-17T13:07:56.687Z"
   },
   {
    "duration": 473,
    "start_time": "2022-07-17T13:10:56.384Z"
   },
   {
    "duration": 438,
    "start_time": "2022-07-17T13:11:38.299Z"
   },
   {
    "duration": 4859,
    "start_time": "2022-07-17T13:11:43.709Z"
   },
   {
    "duration": 4684,
    "start_time": "2022-07-17T13:12:08.904Z"
   },
   {
    "duration": 5125,
    "start_time": "2022-07-17T13:12:52.870Z"
   },
   {
    "duration": 4795,
    "start_time": "2022-07-17T13:13:07.078Z"
   },
   {
    "duration": 273,
    "start_time": "2022-07-17T13:13:30.371Z"
   },
   {
    "duration": 244,
    "start_time": "2022-07-17T13:13:34.472Z"
   },
   {
    "duration": 5019,
    "start_time": "2022-07-17T13:13:52.058Z"
   },
   {
    "duration": 16,
    "start_time": "2022-07-17T13:19:32.660Z"
   },
   {
    "duration": 20,
    "start_time": "2022-07-17T13:20:13.283Z"
   },
   {
    "duration": 260,
    "start_time": "2022-07-17T13:22:16.645Z"
   },
   {
    "duration": 371,
    "start_time": "2022-07-17T13:26:54.283Z"
   },
   {
    "duration": 13,
    "start_time": "2022-07-17T13:27:22.079Z"
   },
   {
    "duration": 116,
    "start_time": "2022-07-17T13:27:31.461Z"
   },
   {
    "duration": 120,
    "start_time": "2022-07-17T13:28:16.272Z"
   },
   {
    "duration": 142,
    "start_time": "2022-07-17T13:29:04.611Z"
   },
   {
    "duration": 4,
    "start_time": "2022-07-17T15:59:43.524Z"
   },
   {
    "duration": 46,
    "start_time": "2022-07-17T15:59:43.530Z"
   },
   {
    "duration": 3,
    "start_time": "2022-07-17T15:59:43.578Z"
   },
   {
    "duration": 49,
    "start_time": "2022-07-17T15:59:43.583Z"
   },
   {
    "duration": 18,
    "start_time": "2022-07-17T15:59:43.634Z"
   },
   {
    "duration": 9,
    "start_time": "2022-07-17T15:59:43.654Z"
   },
   {
    "duration": 2333,
    "start_time": "2022-07-17T15:59:43.665Z"
   },
   {
    "duration": 3,
    "start_time": "2022-07-17T15:59:46.000Z"
   },
   {
    "duration": 211,
    "start_time": "2022-07-17T15:59:46.005Z"
   },
   {
    "duration": 1608,
    "start_time": "2022-07-17T15:59:46.218Z"
   },
   {
    "duration": 14,
    "start_time": "2022-07-17T15:59:47.828Z"
   },
   {
    "duration": 47,
    "start_time": "2022-07-17T15:59:47.844Z"
   },
   {
    "duration": 368,
    "start_time": "2022-07-17T15:59:47.895Z"
   },
   {
    "duration": 193,
    "start_time": "2022-07-17T15:59:48.265Z"
   },
   {
    "duration": 635,
    "start_time": "2022-07-17T15:59:48.459Z"
   },
   {
    "duration": 7,
    "start_time": "2022-07-17T16:04:04.502Z"
   },
   {
    "duration": 6,
    "start_time": "2022-07-17T16:04:13.580Z"
   },
   {
    "duration": 61,
    "start_time": "2022-07-17T16:04:13.588Z"
   },
   {
    "duration": 5,
    "start_time": "2022-07-17T16:04:13.651Z"
   },
   {
    "duration": 69,
    "start_time": "2022-07-17T16:04:13.658Z"
   },
   {
    "duration": 20,
    "start_time": "2022-07-17T16:04:13.729Z"
   },
   {
    "duration": 25,
    "start_time": "2022-07-17T16:04:13.751Z"
   },
   {
    "duration": 14,
    "start_time": "2022-07-17T16:05:12.089Z"
   },
   {
    "duration": 208,
    "start_time": "2022-07-17T16:06:56.692Z"
   },
   {
    "duration": 511,
    "start_time": "2022-07-17T16:09:47.039Z"
   },
   {
    "duration": 227,
    "start_time": "2022-07-17T16:13:06.786Z"
   },
   {
    "duration": 250,
    "start_time": "2022-07-17T16:14:33.929Z"
   },
   {
    "duration": 2330,
    "start_time": "2022-07-17T16:22:08.131Z"
   },
   {
    "duration": 138,
    "start_time": "2022-07-17T16:35:32.689Z"
   },
   {
    "duration": 9,
    "start_time": "2022-07-17T16:46:33.372Z"
   },
   {
    "duration": 32,
    "start_time": "2022-07-17T16:46:38.488Z"
   },
   {
    "duration": 347,
    "start_time": "2022-07-17T16:46:43.161Z"
   },
   {
    "duration": 43,
    "start_time": "2022-07-17T16:46:46.672Z"
   },
   {
    "duration": 4,
    "start_time": "2022-07-17T18:48:21.191Z"
   },
   {
    "duration": 50,
    "start_time": "2022-07-17T18:48:21.198Z"
   },
   {
    "duration": 3,
    "start_time": "2022-07-17T18:48:21.250Z"
   },
   {
    "duration": 51,
    "start_time": "2022-07-17T18:48:21.255Z"
   },
   {
    "duration": 34,
    "start_time": "2022-07-17T18:48:21.308Z"
   },
   {
    "duration": 227,
    "start_time": "2022-07-17T18:48:21.343Z"
   },
   {
    "duration": 2158,
    "start_time": "2022-07-17T18:48:21.571Z"
   },
   {
    "duration": 9,
    "start_time": "2022-07-17T18:48:23.731Z"
   },
   {
    "duration": 401,
    "start_time": "2022-07-17T18:48:23.742Z"
   },
   {
    "duration": 1580,
    "start_time": "2022-07-17T18:48:24.145Z"
   },
   {
    "duration": 14,
    "start_time": "2022-07-17T18:48:25.727Z"
   },
   {
    "duration": 24,
    "start_time": "2022-07-17T18:48:25.743Z"
   },
   {
    "duration": 322,
    "start_time": "2022-07-17T18:48:25.769Z"
   },
   {
    "duration": 48,
    "start_time": "2022-07-17T18:48:26.094Z"
   },
   {
    "duration": 517,
    "start_time": "2022-07-17T18:48:26.143Z"
   },
   {
    "duration": 118270,
    "start_time": "2022-07-17T18:48:26.665Z"
   },
   {
    "duration": 1711,
    "start_time": "2022-07-17T18:50:24.937Z"
   },
   {
    "duration": 102,
    "start_time": "2022-07-17T18:50:26.650Z"
   },
   {
    "duration": 4710,
    "start_time": "2022-07-17T18:50:26.754Z"
   },
   {
    "duration": 277,
    "start_time": "2022-07-17T18:50:31.467Z"
   },
   {
    "duration": 141,
    "start_time": "2022-07-17T18:50:31.747Z"
   },
   {
    "duration": 4,
    "start_time": "2022-07-17T18:55:40.927Z"
   },
   {
    "duration": 42,
    "start_time": "2022-07-17T18:55:40.933Z"
   },
   {
    "duration": 3,
    "start_time": "2022-07-17T18:55:40.977Z"
   },
   {
    "duration": 52,
    "start_time": "2022-07-17T18:55:40.982Z"
   },
   {
    "duration": 17,
    "start_time": "2022-07-17T18:55:41.036Z"
   },
   {
    "duration": 223,
    "start_time": "2022-07-17T18:55:41.055Z"
   },
   {
    "duration": 2377,
    "start_time": "2022-07-17T18:55:41.280Z"
   },
   {
    "duration": 2,
    "start_time": "2022-07-17T18:55:43.659Z"
   },
   {
    "duration": 204,
    "start_time": "2022-07-17T18:55:43.664Z"
   },
   {
    "duration": 1623,
    "start_time": "2022-07-17T18:55:43.870Z"
   },
   {
    "duration": 7,
    "start_time": "2022-07-17T18:55:45.495Z"
   },
   {
    "duration": 11,
    "start_time": "2022-07-17T18:55:45.504Z"
   },
   {
    "duration": 29,
    "start_time": "2022-07-17T18:55:45.517Z"
   },
   {
    "duration": 332,
    "start_time": "2022-07-17T18:55:45.548Z"
   },
   {
    "duration": 45,
    "start_time": "2022-07-17T18:55:56.654Z"
   },
   {
    "duration": 7,
    "start_time": "2022-07-17T18:56:21.808Z"
   },
   {
    "duration": 10,
    "start_time": "2022-07-17T18:56:23.882Z"
   },
   {
    "duration": 10,
    "start_time": "2022-07-17T18:56:26.115Z"
   },
   {
    "duration": 312,
    "start_time": "2022-07-17T18:56:28.972Z"
   },
   {
    "duration": 36,
    "start_time": "2022-07-17T18:56:36.956Z"
   },
   {
    "duration": 5,
    "start_time": "2022-07-17T18:57:21.821Z"
   },
   {
    "duration": 4,
    "start_time": "2022-07-17T18:57:57.180Z"
   },
   {
    "duration": 5,
    "start_time": "2022-07-17T18:58:06.705Z"
   },
   {
    "duration": 4,
    "start_time": "2022-07-17T18:58:22.118Z"
   },
   {
    "duration": 5,
    "start_time": "2022-07-17T18:58:24.065Z"
   },
   {
    "duration": 4,
    "start_time": "2022-07-17T19:12:02.578Z"
   },
   {
    "duration": 47,
    "start_time": "2022-07-17T19:12:02.584Z"
   },
   {
    "duration": 3,
    "start_time": "2022-07-17T19:12:02.633Z"
   },
   {
    "duration": 57,
    "start_time": "2022-07-17T19:12:02.638Z"
   },
   {
    "duration": 16,
    "start_time": "2022-07-17T19:12:02.697Z"
   },
   {
    "duration": 229,
    "start_time": "2022-07-17T19:12:02.715Z"
   },
   {
    "duration": 2304,
    "start_time": "2022-07-17T19:12:02.946Z"
   },
   {
    "duration": 3,
    "start_time": "2022-07-17T19:12:05.252Z"
   },
   {
    "duration": 218,
    "start_time": "2022-07-17T19:12:05.257Z"
   },
   {
    "duration": 1720,
    "start_time": "2022-07-17T19:12:05.476Z"
   },
   {
    "duration": 7,
    "start_time": "2022-07-17T19:12:07.198Z"
   },
   {
    "duration": 39,
    "start_time": "2022-07-17T19:12:07.207Z"
   },
   {
    "duration": 5,
    "start_time": "2022-07-17T19:12:07.248Z"
   },
   {
    "duration": 349,
    "start_time": "2022-07-17T19:12:07.256Z"
   },
   {
    "duration": 51,
    "start_time": "2022-07-17T19:12:07.607Z"
   },
   {
    "duration": 674,
    "start_time": "2022-07-17T19:12:07.660Z"
   },
   {
    "duration": 1756,
    "start_time": "2022-07-18T14:36:28.851Z"
   },
   {
    "duration": 179,
    "start_time": "2022-07-18T14:36:30.616Z"
   },
   {
    "duration": 3,
    "start_time": "2022-07-18T14:36:30.796Z"
   },
   {
    "duration": 99,
    "start_time": "2022-07-18T14:36:30.801Z"
   },
   {
    "duration": 26,
    "start_time": "2022-07-18T14:36:30.902Z"
   },
   {
    "duration": 284,
    "start_time": "2022-07-18T14:36:30.930Z"
   },
   {
    "duration": 2131,
    "start_time": "2022-07-18T14:36:31.233Z"
   },
   {
    "duration": 3,
    "start_time": "2022-07-18T14:36:33.366Z"
   },
   {
    "duration": 210,
    "start_time": "2022-07-18T14:36:33.371Z"
   },
   {
    "duration": 1658,
    "start_time": "2022-07-18T14:36:33.582Z"
   },
   {
    "duration": 8,
    "start_time": "2022-07-18T14:36:35.242Z"
   },
   {
    "duration": 44,
    "start_time": "2022-07-18T14:36:35.252Z"
   },
   {
    "duration": 470,
    "start_time": "2022-07-18T14:36:35.298Z"
   },
   {
    "duration": 55,
    "start_time": "2022-07-18T14:36:35.771Z"
   },
   {
    "duration": 630,
    "start_time": "2022-07-18T14:36:35.835Z"
   },
   {
    "duration": 111502,
    "start_time": "2022-07-18T14:36:36.466Z"
   },
   {
    "duration": 1136,
    "start_time": "2022-07-18T14:38:27.970Z"
   },
   {
    "duration": 23,
    "start_time": "2022-07-18T14:38:29.108Z"
   },
   {
    "duration": 4272,
    "start_time": "2022-07-18T14:38:29.135Z"
   },
   {
    "duration": 234,
    "start_time": "2022-07-18T14:38:33.415Z"
   },
   {
    "duration": 119,
    "start_time": "2022-07-18T14:38:33.650Z"
   },
   {
    "duration": 4,
    "start_time": "2022-07-18T14:49:14.224Z"
   },
   {
    "duration": 8,
    "start_time": "2022-07-18T15:22:49.521Z"
   },
   {
    "duration": 7,
    "start_time": "2022-07-18T15:23:41.880Z"
   },
   {
    "duration": 4,
    "start_time": "2022-07-18T15:42:59.332Z"
   },
   {
    "duration": 38,
    "start_time": "2022-07-18T15:42:59.338Z"
   },
   {
    "duration": 4,
    "start_time": "2022-07-18T15:42:59.378Z"
   },
   {
    "duration": 51,
    "start_time": "2022-07-18T15:42:59.384Z"
   },
   {
    "duration": 15,
    "start_time": "2022-07-18T15:42:59.436Z"
   },
   {
    "duration": 217,
    "start_time": "2022-07-18T15:42:59.453Z"
   },
   {
    "duration": 2228,
    "start_time": "2022-07-18T15:42:59.672Z"
   },
   {
    "duration": 6,
    "start_time": "2022-07-18T15:43:01.901Z"
   },
   {
    "duration": 188,
    "start_time": "2022-07-18T15:43:01.909Z"
   },
   {
    "duration": 1491,
    "start_time": "2022-07-18T15:43:02.098Z"
   },
   {
    "duration": 15,
    "start_time": "2022-07-18T15:43:03.590Z"
   },
   {
    "duration": 27,
    "start_time": "2022-07-18T15:43:03.606Z"
   },
   {
    "duration": 312,
    "start_time": "2022-07-18T15:43:03.635Z"
   },
   {
    "duration": 34,
    "start_time": "2022-07-18T15:43:03.949Z"
   },
   {
    "duration": 610,
    "start_time": "2022-07-18T15:43:03.985Z"
   },
   {
    "duration": 108394,
    "start_time": "2022-07-18T15:43:04.596Z"
   },
   {
    "duration": 1036,
    "start_time": "2022-07-18T15:44:52.992Z"
   },
   {
    "duration": 90,
    "start_time": "2022-07-18T15:44:54.033Z"
   },
   {
    "duration": 1304,
    "start_time": "2022-07-18T15:44:54.124Z"
   },
   {
    "duration": 232,
    "start_time": "2022-07-18T15:44:55.430Z"
   },
   {
    "duration": 114,
    "start_time": "2022-07-18T15:44:55.664Z"
   },
   {
    "duration": 1207,
    "start_time": "2022-07-18T15:46:28.346Z"
   },
   {
    "duration": 1184,
    "start_time": "2022-07-18T15:47:05.225Z"
   },
   {
    "duration": 25,
    "start_time": "2022-07-18T15:47:08.713Z"
   },
   {
    "duration": 1213,
    "start_time": "2022-07-18T15:47:25.237Z"
   },
   {
    "duration": 130,
    "start_time": "2022-07-18T15:51:24.622Z"
   },
   {
    "duration": 13,
    "start_time": "2022-07-18T15:54:06.078Z"
   },
   {
    "duration": 11,
    "start_time": "2022-07-18T15:54:40.759Z"
   },
   {
    "duration": 13,
    "start_time": "2022-07-18T15:56:06.224Z"
   },
   {
    "duration": 951,
    "start_time": "2022-07-18T15:57:58.794Z"
   },
   {
    "duration": 9,
    "start_time": "2022-07-18T15:58:21.255Z"
   },
   {
    "duration": 3,
    "start_time": "2022-07-18T15:58:32.033Z"
   },
   {
    "duration": 4,
    "start_time": "2022-07-18T15:59:17.793Z"
   },
   {
    "duration": 66,
    "start_time": "2022-07-18T15:59:17.798Z"
   },
   {
    "duration": 3,
    "start_time": "2022-07-18T15:59:17.866Z"
   },
   {
    "duration": 49,
    "start_time": "2022-07-18T15:59:17.871Z"
   },
   {
    "duration": 18,
    "start_time": "2022-07-18T15:59:17.922Z"
   },
   {
    "duration": 196,
    "start_time": "2022-07-18T15:59:17.942Z"
   },
   {
    "duration": 2033,
    "start_time": "2022-07-18T15:59:18.140Z"
   },
   {
    "duration": 2,
    "start_time": "2022-07-18T15:59:20.175Z"
   },
   {
    "duration": 214,
    "start_time": "2022-07-18T15:59:20.179Z"
   },
   {
    "duration": 1487,
    "start_time": "2022-07-18T15:59:20.395Z"
   },
   {
    "duration": 6,
    "start_time": "2022-07-18T15:59:21.884Z"
   },
   {
    "duration": 58,
    "start_time": "2022-07-18T15:59:21.893Z"
   },
   {
    "duration": 297,
    "start_time": "2022-07-18T15:59:21.953Z"
   },
   {
    "duration": 34,
    "start_time": "2022-07-18T15:59:22.251Z"
   },
   {
    "duration": 596,
    "start_time": "2022-07-18T15:59:22.286Z"
   },
   {
    "duration": 3,
    "start_time": "2022-07-18T15:59:22.883Z"
   },
   {
    "duration": 1117,
    "start_time": "2022-07-18T15:59:22.887Z"
   },
   {
    "duration": 93,
    "start_time": "2022-07-18T15:59:24.008Z"
   },
   {
    "duration": 883,
    "start_time": "2022-07-18T15:59:24.104Z"
   },
   {
    "duration": 382,
    "start_time": "2022-07-18T15:59:24.988Z"
   },
   {
    "duration": 118,
    "start_time": "2022-07-18T15:59:25.372Z"
   },
   {
    "duration": 859,
    "start_time": "2022-07-18T16:03:24.365Z"
   },
   {
    "duration": 179,
    "start_time": "2022-07-18T16:03:40.181Z"
   },
   {
    "duration": 18,
    "start_time": "2022-07-18T16:03:57.546Z"
   },
   {
    "duration": 537,
    "start_time": "2022-07-18T16:06:18.645Z"
   },
   {
    "duration": 212,
    "start_time": "2022-07-18T16:07:32.287Z"
   },
   {
    "duration": 1432,
    "start_time": "2022-07-18T16:11:20.520Z"
   },
   {
    "duration": 990,
    "start_time": "2022-07-18T16:11:42.035Z"
   },
   {
    "duration": 706,
    "start_time": "2022-07-18T16:12:49.282Z"
   },
   {
    "duration": 190,
    "start_time": "2022-07-18T16:15:13.086Z"
   },
   {
    "duration": 179,
    "start_time": "2022-07-18T16:17:59.073Z"
   },
   {
    "duration": 3513,
    "start_time": "2022-07-18T16:19:33.177Z"
   },
   {
    "duration": 3355,
    "start_time": "2022-07-18T16:21:33.229Z"
   },
   {
    "duration": 4,
    "start_time": "2022-07-18T16:23:33.492Z"
   },
   {
    "duration": 141,
    "start_time": "2022-07-18T16:24:27.430Z"
   },
   {
    "duration": 142,
    "start_time": "2022-07-18T16:24:50.774Z"
   },
   {
    "duration": 161,
    "start_time": "2022-07-18T16:25:28.351Z"
   },
   {
    "duration": 312,
    "start_time": "2022-07-18T16:25:40.353Z"
   },
   {
    "duration": 3592,
    "start_time": "2022-07-18T16:26:02.568Z"
   },
   {
    "duration": 5,
    "start_time": "2022-07-18T16:26:14.846Z"
   },
   {
    "duration": 4,
    "start_time": "2022-07-18T16:26:20.065Z"
   },
   {
    "duration": 6,
    "start_time": "2022-07-18T16:26:29.041Z"
   },
   {
    "duration": 172,
    "start_time": "2022-07-18T16:28:01.773Z"
   },
   {
    "duration": 1066,
    "start_time": "2022-07-18T16:28:55.996Z"
   },
   {
    "duration": 3552,
    "start_time": "2022-07-18T16:29:17.622Z"
   },
   {
    "duration": 44,
    "start_time": "2022-07-18T19:13:45.048Z"
   },
   {
    "duration": 1482,
    "start_time": "2022-07-18T19:13:48.409Z"
   },
   {
    "duration": 127,
    "start_time": "2022-07-18T19:13:49.893Z"
   },
   {
    "duration": 3,
    "start_time": "2022-07-18T19:13:50.022Z"
   },
   {
    "duration": 51,
    "start_time": "2022-07-18T19:13:50.027Z"
   },
   {
    "duration": 16,
    "start_time": "2022-07-18T19:13:50.079Z"
   },
   {
    "duration": 207,
    "start_time": "2022-07-18T19:13:50.102Z"
   },
   {
    "duration": 1795,
    "start_time": "2022-07-18T19:13:50.311Z"
   },
   {
    "duration": 2,
    "start_time": "2022-07-18T19:13:52.108Z"
   },
   {
    "duration": 168,
    "start_time": "2022-07-18T19:13:52.112Z"
   },
   {
    "duration": 1478,
    "start_time": "2022-07-18T19:13:52.282Z"
   },
   {
    "duration": 6,
    "start_time": "2022-07-18T19:13:53.762Z"
   },
   {
    "duration": 25,
    "start_time": "2022-07-18T19:13:53.769Z"
   },
   {
    "duration": 280,
    "start_time": "2022-07-18T19:13:53.795Z"
   },
   {
    "duration": 49,
    "start_time": "2022-07-18T19:13:54.076Z"
   },
   {
    "duration": 504,
    "start_time": "2022-07-18T19:13:54.126Z"
   },
   {
    "duration": 3,
    "start_time": "2022-07-18T19:13:54.631Z"
   },
   {
    "duration": 967,
    "start_time": "2022-07-18T19:13:54.635Z"
   },
   {
    "duration": 106,
    "start_time": "2022-07-18T19:13:55.604Z"
   },
   {
    "duration": 4,
    "start_time": "2022-07-18T19:13:55.711Z"
   },
   {
    "duration": 2810,
    "start_time": "2022-07-18T19:13:55.717Z"
   },
   {
    "duration": 72,
    "start_time": "2022-07-18T19:13:58.528Z"
   },
   {
    "duration": 0,
    "start_time": "2022-07-18T19:13:58.602Z"
   },
   {
    "duration": 0,
    "start_time": "2022-07-18T19:13:58.603Z"
   },
   {
    "duration": 187,
    "start_time": "2022-07-18T19:18:46.600Z"
   },
   {
    "duration": 2980,
    "start_time": "2022-07-18T19:19:02.681Z"
   },
   {
    "duration": 243,
    "start_time": "2022-07-18T19:20:08.235Z"
   },
   {
    "duration": 22,
    "start_time": "2022-07-18T19:20:29.241Z"
   },
   {
    "duration": 2758,
    "start_time": "2022-07-18T19:20:42.686Z"
   },
   {
    "duration": 3717,
    "start_time": "2022-07-18T19:31:19.592Z"
   },
   {
    "duration": 3,
    "start_time": "2022-07-18T19:31:59.971Z"
   },
   {
    "duration": 4,
    "start_time": "2022-07-18T19:32:14.829Z"
   },
   {
    "duration": 2686,
    "start_time": "2022-07-18T19:34:12.084Z"
   },
   {
    "duration": 257,
    "start_time": "2022-07-18T19:35:59.367Z"
   },
   {
    "duration": 2807,
    "start_time": "2022-07-18T19:37:21.549Z"
   },
   {
    "duration": 2792,
    "start_time": "2022-07-18T19:39:00.992Z"
   },
   {
    "duration": 216,
    "start_time": "2022-07-18T19:39:51.523Z"
   },
   {
    "duration": 112,
    "start_time": "2022-07-18T19:40:12.499Z"
   },
   {
    "duration": 5,
    "start_time": "2022-07-18T19:56:47.663Z"
   },
   {
    "duration": 51,
    "start_time": "2022-07-18T19:56:47.670Z"
   },
   {
    "duration": 3,
    "start_time": "2022-07-18T19:56:47.723Z"
   },
   {
    "duration": 66,
    "start_time": "2022-07-18T19:56:47.728Z"
   },
   {
    "duration": 18,
    "start_time": "2022-07-18T19:56:47.797Z"
   },
   {
    "duration": 217,
    "start_time": "2022-07-18T19:56:47.816Z"
   },
   {
    "duration": 1930,
    "start_time": "2022-07-18T19:56:48.035Z"
   },
   {
    "duration": 2,
    "start_time": "2022-07-18T19:56:49.967Z"
   },
   {
    "duration": 186,
    "start_time": "2022-07-18T19:56:49.971Z"
   },
   {
    "duration": 1479,
    "start_time": "2022-07-18T19:56:50.159Z"
   },
   {
    "duration": 6,
    "start_time": "2022-07-18T19:56:51.640Z"
   },
   {
    "duration": 25,
    "start_time": "2022-07-18T19:56:51.647Z"
   },
   {
    "duration": 320,
    "start_time": "2022-07-18T19:56:51.673Z"
   },
   {
    "duration": 41,
    "start_time": "2022-07-18T19:56:51.996Z"
   },
   {
    "duration": 521,
    "start_time": "2022-07-18T19:56:52.038Z"
   },
   {
    "duration": 2,
    "start_time": "2022-07-18T19:56:52.560Z"
   },
   {
    "duration": 1050,
    "start_time": "2022-07-18T19:56:52.564Z"
   },
   {
    "duration": 98,
    "start_time": "2022-07-18T19:56:53.616Z"
   },
   {
    "duration": 3350,
    "start_time": "2022-07-18T19:56:53.716Z"
   },
   {
    "duration": 221,
    "start_time": "2022-07-18T19:56:57.068Z"
   },
   {
    "duration": 116,
    "start_time": "2022-07-18T19:56:57.291Z"
   },
   {
    "duration": 97993,
    "start_time": "2022-07-18T20:09:24.266Z"
   },
   {
    "duration": 6,
    "start_time": "2022-07-18T20:25:47.315Z"
   },
   {
    "duration": 37,
    "start_time": "2022-07-18T20:25:47.325Z"
   },
   {
    "duration": 2,
    "start_time": "2022-07-18T20:25:47.364Z"
   },
   {
    "duration": 50,
    "start_time": "2022-07-18T20:25:47.368Z"
   },
   {
    "duration": 22,
    "start_time": "2022-07-18T20:25:47.421Z"
   },
   {
    "duration": 276,
    "start_time": "2022-07-18T20:25:47.445Z"
   },
   {
    "duration": 1809,
    "start_time": "2022-07-18T20:25:47.723Z"
   },
   {
    "duration": 3,
    "start_time": "2022-07-18T20:25:49.534Z"
   },
   {
    "duration": 193,
    "start_time": "2022-07-18T20:25:49.539Z"
   },
   {
    "duration": 1585,
    "start_time": "2022-07-18T20:25:49.734Z"
   },
   {
    "duration": 7,
    "start_time": "2022-07-18T20:25:51.322Z"
   },
   {
    "duration": 21,
    "start_time": "2022-07-18T20:25:51.331Z"
   },
   {
    "duration": 327,
    "start_time": "2022-07-18T20:25:51.353Z"
   },
   {
    "duration": 54,
    "start_time": "2022-07-18T20:25:51.682Z"
   },
   {
    "duration": 561,
    "start_time": "2022-07-18T20:25:51.738Z"
   },
   {
    "duration": 103568,
    "start_time": "2022-07-18T20:25:52.301Z"
   },
   {
    "duration": 1232,
    "start_time": "2022-07-18T20:27:35.870Z"
   },
   {
    "duration": 21,
    "start_time": "2022-07-18T20:27:37.104Z"
   },
   {
    "duration": 3654,
    "start_time": "2022-07-18T20:27:37.127Z"
   },
   {
    "duration": 221,
    "start_time": "2022-07-18T20:27:40.783Z"
   },
   {
    "duration": 138,
    "start_time": "2022-07-18T20:27:41.006Z"
   },
   {
    "duration": 808,
    "start_time": "2022-07-18T20:28:03.709Z"
   },
   {
    "duration": 837,
    "start_time": "2022-07-18T20:28:10.977Z"
   },
   {
    "duration": 702,
    "start_time": "2022-07-18T20:28:20.414Z"
   },
   {
    "duration": 186,
    "start_time": "2022-07-18T20:28:21.118Z"
   },
   {
    "duration": 3513,
    "start_time": "2022-07-18T20:28:21.305Z"
   },
   {
    "duration": 221,
    "start_time": "2022-07-18T20:28:24.820Z"
   },
   {
    "duration": 117,
    "start_time": "2022-07-18T20:28:25.043Z"
   },
   {
    "duration": 1548,
    "start_time": "2022-07-19T12:05:10.116Z"
   },
   {
    "duration": 143,
    "start_time": "2022-07-19T12:05:11.666Z"
   },
   {
    "duration": 3,
    "start_time": "2022-07-19T12:05:11.810Z"
   },
   {
    "duration": 45,
    "start_time": "2022-07-19T12:05:11.815Z"
   },
   {
    "duration": 14,
    "start_time": "2022-07-19T12:05:11.861Z"
   },
   {
    "duration": 217,
    "start_time": "2022-07-19T12:05:11.876Z"
   },
   {
    "duration": 1772,
    "start_time": "2022-07-19T12:05:12.094Z"
   },
   {
    "duration": 2,
    "start_time": "2022-07-19T12:05:13.868Z"
   },
   {
    "duration": 164,
    "start_time": "2022-07-19T12:05:13.872Z"
   },
   {
    "duration": 1386,
    "start_time": "2022-07-19T12:05:14.038Z"
   },
   {
    "duration": 6,
    "start_time": "2022-07-19T12:05:15.426Z"
   },
   {
    "duration": 23,
    "start_time": "2022-07-19T12:05:15.433Z"
   },
   {
    "duration": 388,
    "start_time": "2022-07-19T12:05:15.457Z"
   },
   {
    "duration": 35,
    "start_time": "2022-07-19T12:05:15.846Z"
   },
   {
    "duration": 536,
    "start_time": "2022-07-19T12:05:15.882Z"
   },
   {
    "duration": 3,
    "start_time": "2022-07-19T12:05:16.420Z"
   },
   {
    "duration": 977,
    "start_time": "2022-07-19T12:05:16.425Z"
   },
   {
    "duration": 104,
    "start_time": "2022-07-19T12:05:17.404Z"
   },
   {
    "duration": 3733,
    "start_time": "2022-07-19T12:05:17.509Z"
   },
   {
    "duration": 219,
    "start_time": "2022-07-19T12:05:21.243Z"
   },
   {
    "duration": 277,
    "start_time": "2022-07-19T12:05:21.464Z"
   },
   {
    "duration": 4,
    "start_time": "2022-07-19T13:57:26.137Z"
   },
   {
    "duration": 59,
    "start_time": "2022-07-19T13:57:26.143Z"
   },
   {
    "duration": 3,
    "start_time": "2022-07-19T13:57:26.204Z"
   },
   {
    "duration": 47,
    "start_time": "2022-07-19T13:57:26.209Z"
   },
   {
    "duration": 14,
    "start_time": "2022-07-19T13:57:26.259Z"
   },
   {
    "duration": 205,
    "start_time": "2022-07-19T13:57:26.275Z"
   },
   {
    "duration": 1831,
    "start_time": "2022-07-19T13:57:26.481Z"
   },
   {
    "duration": 3,
    "start_time": "2022-07-19T13:57:28.314Z"
   },
   {
    "duration": 282,
    "start_time": "2022-07-19T13:57:28.319Z"
   },
   {
    "duration": 1297,
    "start_time": "2022-07-19T13:57:28.602Z"
   },
   {
    "duration": 7,
    "start_time": "2022-07-19T13:57:29.902Z"
   },
   {
    "duration": 29,
    "start_time": "2022-07-19T13:57:29.911Z"
   },
   {
    "duration": 279,
    "start_time": "2022-07-19T13:57:29.941Z"
   },
   {
    "duration": 34,
    "start_time": "2022-07-19T13:57:30.222Z"
   },
   {
    "duration": 524,
    "start_time": "2022-07-19T13:57:30.258Z"
   },
   {
    "duration": 99819,
    "start_time": "2022-07-19T13:57:30.784Z"
   },
   {
    "duration": 1197,
    "start_time": "2022-07-19T13:59:10.605Z"
   },
   {
    "duration": 102,
    "start_time": "2022-07-19T13:59:11.810Z"
   },
   {
    "duration": 3966,
    "start_time": "2022-07-19T13:59:11.913Z"
   },
   {
    "duration": 215,
    "start_time": "2022-07-19T13:59:15.880Z"
   },
   {
    "duration": 106,
    "start_time": "2022-07-19T13:59:16.097Z"
   },
   {
    "duration": 81,
    "start_time": "2022-07-20T11:27:50.000Z"
   },
   {
    "duration": 60,
    "start_time": "2022-07-20T12:25:16.137Z"
   },
   {
    "duration": 1761,
    "start_time": "2022-07-20T12:25:26.683Z"
   },
   {
    "duration": 91,
    "start_time": "2022-07-20T12:25:28.453Z"
   },
   {
    "duration": 7,
    "start_time": "2022-07-20T12:25:28.548Z"
   },
   {
    "duration": 66,
    "start_time": "2022-07-20T12:25:28.560Z"
   },
   {
    "duration": 15,
    "start_time": "2022-07-20T12:25:28.628Z"
   },
   {
    "duration": 262,
    "start_time": "2022-07-20T12:25:28.645Z"
   },
   {
    "duration": 2367,
    "start_time": "2022-07-20T12:25:28.910Z"
   },
   {
    "duration": 3,
    "start_time": "2022-07-20T12:25:31.279Z"
   },
   {
    "duration": 220,
    "start_time": "2022-07-20T12:25:31.284Z"
   },
   {
    "duration": 1669,
    "start_time": "2022-07-20T12:25:31.507Z"
   },
   {
    "duration": 8,
    "start_time": "2022-07-20T12:25:33.178Z"
   },
   {
    "duration": 42,
    "start_time": "2022-07-20T12:25:33.188Z"
   },
   {
    "duration": 449,
    "start_time": "2022-07-20T12:25:33.232Z"
   },
   {
    "duration": 36,
    "start_time": "2022-07-20T12:25:33.683Z"
   },
   {
    "duration": 4,
    "start_time": "2022-07-20T12:25:33.720Z"
   },
   {
    "duration": 711,
    "start_time": "2022-07-20T12:25:33.725Z"
   },
   {
    "duration": 2,
    "start_time": "2022-07-20T12:25:34.438Z"
   },
   {
    "duration": 831,
    "start_time": "2022-07-20T12:25:34.441Z"
   },
   {
    "duration": 96,
    "start_time": "2022-07-20T12:25:35.275Z"
   },
   {
    "duration": 4773,
    "start_time": "2022-07-20T12:25:35.376Z"
   },
   {
    "duration": 252,
    "start_time": "2022-07-20T12:25:40.154Z"
   },
   {
    "duration": 357,
    "start_time": "2022-07-20T12:25:40.408Z"
   },
   {
    "duration": 12,
    "start_time": "2022-07-20T12:29:06.392Z"
   },
   {
    "duration": 20,
    "start_time": "2022-07-20T12:29:30.301Z"
   },
   {
    "duration": 12,
    "start_time": "2022-07-20T12:29:54.182Z"
   },
   {
    "duration": 7,
    "start_time": "2022-07-20T12:30:27.935Z"
   },
   {
    "duration": 15,
    "start_time": "2022-07-20T12:30:48.864Z"
   },
   {
    "duration": 8,
    "start_time": "2022-07-20T12:30:56.127Z"
   },
   {
    "duration": 14,
    "start_time": "2022-07-20T12:31:21.601Z"
   },
   {
    "duration": 4,
    "start_time": "2022-07-20T12:31:29.808Z"
   },
   {
    "duration": 8,
    "start_time": "2022-07-20T12:31:33.988Z"
   },
   {
    "duration": 5,
    "start_time": "2022-07-20T12:32:07.791Z"
   },
   {
    "duration": 8,
    "start_time": "2022-07-20T12:32:18.401Z"
   },
   {
    "duration": 14,
    "start_time": "2022-07-20T12:32:34.423Z"
   },
   {
    "duration": 18,
    "start_time": "2022-07-20T12:35:38.942Z"
   },
   {
    "duration": 21,
    "start_time": "2022-07-20T12:35:50.459Z"
   },
   {
    "duration": 15,
    "start_time": "2022-07-20T12:36:17.511Z"
   },
   {
    "duration": 4,
    "start_time": "2022-07-20T12:36:56.790Z"
   },
   {
    "duration": 23,
    "start_time": "2022-07-20T12:37:07.840Z"
   },
   {
    "duration": 4,
    "start_time": "2022-07-20T12:37:18.497Z"
   },
   {
    "duration": 5,
    "start_time": "2022-07-20T12:37:21.786Z"
   },
   {
    "duration": 46,
    "start_time": "2022-07-20T12:37:21.794Z"
   },
   {
    "duration": 3,
    "start_time": "2022-07-20T12:37:21.843Z"
   },
   {
    "duration": 92,
    "start_time": "2022-07-20T12:37:21.852Z"
   },
   {
    "duration": 27,
    "start_time": "2022-07-20T12:37:21.947Z"
   },
   {
    "duration": 241,
    "start_time": "2022-07-20T12:37:21.977Z"
   },
   {
    "duration": 2265,
    "start_time": "2022-07-20T12:37:22.220Z"
   },
   {
    "duration": 4,
    "start_time": "2022-07-20T12:37:24.487Z"
   },
   {
    "duration": 349,
    "start_time": "2022-07-20T12:37:24.492Z"
   },
   {
    "duration": 1667,
    "start_time": "2022-07-20T12:37:24.851Z"
   },
   {
    "duration": 8,
    "start_time": "2022-07-20T12:37:26.520Z"
   },
   {
    "duration": 55,
    "start_time": "2022-07-20T12:37:26.530Z"
   },
   {
    "duration": 337,
    "start_time": "2022-07-20T12:37:26.587Z"
   },
   {
    "duration": 55,
    "start_time": "2022-07-20T12:37:26.927Z"
   },
   {
    "duration": 14,
    "start_time": "2022-07-20T12:37:26.983Z"
   },
   {
    "duration": 0,
    "start_time": "2022-07-20T12:37:26.999Z"
   },
   {
    "duration": 0,
    "start_time": "2022-07-20T12:37:27.000Z"
   },
   {
    "duration": 0,
    "start_time": "2022-07-20T12:37:27.001Z"
   },
   {
    "duration": 0,
    "start_time": "2022-07-20T12:37:27.002Z"
   },
   {
    "duration": 0,
    "start_time": "2022-07-20T12:37:27.003Z"
   },
   {
    "duration": 0,
    "start_time": "2022-07-20T12:37:27.005Z"
   },
   {
    "duration": 0,
    "start_time": "2022-07-20T12:37:27.006Z"
   },
   {
    "duration": 4,
    "start_time": "2022-07-20T12:40:13.738Z"
   },
   {
    "duration": 301,
    "start_time": "2022-07-20T12:40:31.837Z"
   },
   {
    "duration": 7,
    "start_time": "2022-07-20T12:40:41.873Z"
   },
   {
    "duration": 4,
    "start_time": "2022-07-20T12:40:48.687Z"
   },
   {
    "duration": 5,
    "start_time": "2022-07-20T12:41:11.268Z"
   },
   {
    "duration": 4,
    "start_time": "2022-07-20T12:41:17.416Z"
   },
   {
    "duration": 9,
    "start_time": "2022-07-20T12:41:32.189Z"
   },
   {
    "duration": 4,
    "start_time": "2022-07-20T12:42:03.309Z"
   },
   {
    "duration": 9,
    "start_time": "2022-07-20T12:42:15.962Z"
   },
   {
    "duration": 4,
    "start_time": "2022-07-20T12:43:22.006Z"
   },
   {
    "duration": 9,
    "start_time": "2022-07-20T12:49:18.893Z"
   },
   {
    "duration": 12,
    "start_time": "2022-07-20T12:49:24.497Z"
   },
   {
    "duration": 17,
    "start_time": "2022-07-20T12:49:28.639Z"
   },
   {
    "duration": 10,
    "start_time": "2022-07-20T12:49:46.136Z"
   },
   {
    "duration": 13,
    "start_time": "2022-07-20T12:49:53.408Z"
   },
   {
    "duration": 19,
    "start_time": "2022-07-20T12:50:58.316Z"
   },
   {
    "duration": 3,
    "start_time": "2022-07-20T12:58:36.771Z"
   },
   {
    "duration": 64,
    "start_time": "2022-07-20T12:58:36.776Z"
   },
   {
    "duration": 3,
    "start_time": "2022-07-20T12:58:36.842Z"
   },
   {
    "duration": 52,
    "start_time": "2022-07-20T12:58:36.846Z"
   },
   {
    "duration": 14,
    "start_time": "2022-07-20T12:58:36.900Z"
   },
   {
    "duration": 204,
    "start_time": "2022-07-20T12:58:36.915Z"
   },
   {
    "duration": 2171,
    "start_time": "2022-07-20T12:58:37.121Z"
   },
   {
    "duration": 3,
    "start_time": "2022-07-20T12:58:39.295Z"
   },
   {
    "duration": 191,
    "start_time": "2022-07-20T12:58:39.299Z"
   },
   {
    "duration": 1442,
    "start_time": "2022-07-20T12:58:39.493Z"
   },
   {
    "duration": 11,
    "start_time": "2022-07-20T12:58:40.937Z"
   },
   {
    "duration": 24,
    "start_time": "2022-07-20T12:58:40.949Z"
   },
   {
    "duration": 305,
    "start_time": "2022-07-20T12:58:40.975Z"
   },
   {
    "duration": 35,
    "start_time": "2022-07-20T12:58:41.283Z"
   },
   {
    "duration": 34,
    "start_time": "2022-07-20T12:58:41.320Z"
   },
   {
    "duration": 585,
    "start_time": "2022-07-20T12:58:41.356Z"
   },
   {
    "duration": 108293,
    "start_time": "2022-07-20T12:58:41.943Z"
   },
   {
    "duration": 1311,
    "start_time": "2022-07-20T13:00:30.239Z"
   },
   {
    "duration": 26,
    "start_time": "2022-07-20T13:00:31.552Z"
   },
   {
    "duration": 4418,
    "start_time": "2022-07-20T13:00:31.580Z"
   },
   {
    "duration": 233,
    "start_time": "2022-07-20T13:00:36.000Z"
   },
   {
    "duration": 136,
    "start_time": "2022-07-20T13:00:36.234Z"
   }
  ],
  "kernelspec": {
   "display_name": "Python 3 (ipykernel)",
   "language": "python",
   "name": "python3"
  },
  "language_info": {
   "codemirror_mode": {
    "name": "ipython",
    "version": 3
   },
   "file_extension": ".py",
   "mimetype": "text/x-python",
   "name": "python",
   "nbconvert_exporter": "python",
   "pygments_lexer": "ipython3",
   "version": "3.9.5"
  },
  "toc": {
   "base_numbering": 1,
   "nav_menu": {},
   "number_sections": true,
   "sideBar": true,
   "skip_h1_title": true,
   "title_cell": "Содержание",
   "title_sidebar": "Contents",
   "toc_cell": true,
   "toc_position": {},
   "toc_section_display": true,
   "toc_window_display": true
  }
 },
 "nbformat": 4,
 "nbformat_minor": 2
}
