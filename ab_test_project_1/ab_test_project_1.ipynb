{
 "cells": [
  {
   "cell_type": "markdown",
   "metadata": {},
   "source": [
    "# Проект \"A/B-тестирование гипотез отдела маркетинга\""
   ]
  },
  {
   "cell_type": "markdown",
   "metadata": {},
   "source": [
    "<strong>Описание проекта:</strong> Вместе с отделом маркетинга вы подготовили список гипотез для увеличения выручки\n",
    "\n",
    "<strong>Задача проекта:</strong> приоритизировать гипотезы, а также проанализировать результаты A/B-теста\n",
    "\n"
   ]
  },
  {
   "cell_type": "markdown",
   "metadata": {
    "toc": true
   },
   "source": [
    "<h1>Содержание<span class=\"tocSkip\"></span></h1>\n",
    "<div class=\"toc\"><ul class=\"toc-item\"><li><span><a href=\"#Приоритизация-гипотез\" data-toc-modified-id=\"Приоритизация-гипотез-1\"><span class=\"toc-item-num\">1&nbsp;&nbsp;</span>Приоритизация гипотез</a></span><ul class=\"toc-item\"><li><span><a href=\"#Импорт-библиотек-и-сохранение-данных-в-переменную\" data-toc-modified-id=\"Импорт-библиотек-и-сохранение-данных-в-переменную-1.1\"><span class=\"toc-item-num\">1.1&nbsp;&nbsp;</span>Импорт библиотек и сохранение данных в переменную</a></span></li><li><span><a href=\"#Применение-фреймворка-ICE-для-приоритизации-гипотез\" data-toc-modified-id=\"Применение-фреймворка-ICE-для-приоритизации-гипотез-1.2\"><span class=\"toc-item-num\">1.2&nbsp;&nbsp;</span>Применение фреймворка ICE для приоритизации гипотез</a></span></li><li><span><a href=\"#Применение-фреймворка-RICE-для-приоритизации-гипотез\" data-toc-modified-id=\"Применение-фреймворка-RICE-для-приоритизации-гипотез-1.3\"><span class=\"toc-item-num\">1.3&nbsp;&nbsp;</span>Применение фреймворка RICE для приоритизации гипотез</a></span></li><li><span><a href=\"#Выводы-по-блоку-&quot;Приоритизация-гипотез&quot;\" data-toc-modified-id=\"Выводы-по-блоку-&quot;Приоритизация-гипотез&quot;-1.4\"><span class=\"toc-item-num\">1.4&nbsp;&nbsp;</span>Выводы по блоку \"Приоритизация гипотез\"</a></span></li></ul></li><li><span><a href=\"#Анализ-A/B-теста\" data-toc-modified-id=\"Анализ-A/B-теста-2\"><span class=\"toc-item-num\">2&nbsp;&nbsp;</span>Анализ A/B-теста</a></span><ul class=\"toc-item\"><li><span><a href=\"#Сохранение-данных-в-переменную-и-первичный-анализ\" data-toc-modified-id=\"Сохранение-данных-в-переменную-и-первичный-анализ-2.1\"><span class=\"toc-item-num\">2.1&nbsp;&nbsp;</span>Сохранение данных в переменную и первичный анализ</a></span></li><li><span><a href=\"#Предобработка-данных\" data-toc-modified-id=\"Предобработка-данных-2.2\"><span class=\"toc-item-num\">2.2&nbsp;&nbsp;</span>Предобработка данных</a></span></li><li><span><a href=\"#График-кумулятивной-выручки-по-группам\" data-toc-modified-id=\"График-кумулятивной-выручки-по-группам-2.3\"><span class=\"toc-item-num\">2.3&nbsp;&nbsp;</span>График кумулятивной выручки по группам</a></span></li><li><span><a href=\"#График-кумулятивного-среднего-чека-по-группам\" data-toc-modified-id=\"График-кумулятивного-среднего-чека-по-группам-2.4\"><span class=\"toc-item-num\">2.4&nbsp;&nbsp;</span>График кумулятивного среднего чека по группам</a></span></li><li><span><a href=\"#График-относительного-изменения-кумулятивного-среднего-чека-группы-B-к-группе-A\" data-toc-modified-id=\"График-относительного-изменения-кумулятивного-среднего-чека-группы-B-к-группе-A-2.5\"><span class=\"toc-item-num\">2.5&nbsp;&nbsp;</span>График относительного изменения кумулятивного среднего чека группы B к группе A</a></span></li><li><span><a href=\"#График-кумулятивной-конверсии-по-группам\" data-toc-modified-id=\"График-кумулятивной-конверсии-по-группам-2.6\"><span class=\"toc-item-num\">2.6&nbsp;&nbsp;</span>График кумулятивной конверсии по группам</a></span></li><li><span><a href=\"#График-относительного-изменения-кумулятивной-конверсии-группы-B-к-группе-A\" data-toc-modified-id=\"График-относительного-изменения-кумулятивной-конверсии-группы-B-к-группе-A-2.7\"><span class=\"toc-item-num\">2.7&nbsp;&nbsp;</span>График относительного изменения кумулятивной конверсии группы B к группе A</a></span></li><li><span><a href=\"#Точечный-график-количества-заказов-по-пользователям\" data-toc-modified-id=\"Точечный-график-количества-заказов-по-пользователям-2.8\"><span class=\"toc-item-num\">2.8&nbsp;&nbsp;</span>Точечный график количества заказов по пользователям</a></span></li><li><span><a href=\"#95-й-и-99-й-перцентили-количества-заказов-на-пользователя.-Определение-границы-для-выявления-аномальных-пользователей\" data-toc-modified-id=\"95-й-и-99-й-перцентили-количества-заказов-на-пользователя.-Определение-границы-для-выявления-аномальных-пользователей-2.9\"><span class=\"toc-item-num\">2.9&nbsp;&nbsp;</span>95-й и 99-й перцентили количества заказов на пользователя. Определение границы для выявления аномальных пользователей</a></span></li><li><span><a href=\"#Точечный-график-стоимостей-заказов\" data-toc-modified-id=\"Точечный-график-стоимостей-заказов-2.10\"><span class=\"toc-item-num\">2.10&nbsp;&nbsp;</span>Точечный график стоимостей заказов</a></span></li><li><span><a href=\"#95-й-и-99-й-перцентили-стоимости-заказов.-Определение-границы-для-выявления-аномальных-заказов\" data-toc-modified-id=\"95-й-и-99-й-перцентили-стоимости-заказов.-Определение-границы-для-выявления-аномальных-заказов-2.11\"><span class=\"toc-item-num\">2.11&nbsp;&nbsp;</span>95-й и 99-й перцентили стоимости заказов. Определение границы для выявления аномальных заказов</a></span></li><li><span><a href=\"#Статистическая-значимость-различий-в-конверсии-между-группами-по-«сырым»-данным\" data-toc-modified-id=\"Статистическая-значимость-различий-в-конверсии-между-группами-по-«сырым»-данным-2.12\"><span class=\"toc-item-num\">2.12&nbsp;&nbsp;</span>Статистическая значимость различий в конверсии между группами по «сырым» данным</a></span></li><li><span><a href=\"#Статистическая-значимость-различий-в-среднем-чеке-заказа-между-группами-по-«сырым»-данным\" data-toc-modified-id=\"Статистическая-значимость-различий-в-среднем-чеке-заказа-между-группами-по-«сырым»-данным-2.13\"><span class=\"toc-item-num\">2.13&nbsp;&nbsp;</span>Статистическая значимость различий в среднем чеке заказа между группами по «сырым» данным</a></span></li><li><span><a href=\"#Статистическая-значимость-различий-в-конверсии-между-группами-по-«очищенным»-данным\" data-toc-modified-id=\"Статистическая-значимость-различий-в-конверсии-между-группами-по-«очищенным»-данным-2.14\"><span class=\"toc-item-num\">2.14&nbsp;&nbsp;</span>Статистическая значимость различий в конверсии между группами по «очищенным» данным</a></span></li><li><span><a href=\"#Статистическая-значимость-различий-в-среднем-чеке-заказа-между-группами-по-«очищенным»-данным\" data-toc-modified-id=\"Статистическая-значимость-различий-в-среднем-чеке-заказа-между-группами-по-«очищенным»-данным-2.15\"><span class=\"toc-item-num\">2.15&nbsp;&nbsp;</span>Статистическая значимость различий в среднем чеке заказа между группами по «очищенным» данным</a></span></li><li><span><a href=\"#Итоги-A/B-теста\" data-toc-modified-id=\"Итоги-A/B-теста-2.16\"><span class=\"toc-item-num\">2.16&nbsp;&nbsp;</span>Итоги A/B-теста</a></span></li></ul></li></ul></div>"
   ]
  },
  {
   "cell_type": "markdown",
   "metadata": {},
   "source": [
    "## Приоритизация гипотез"
   ]
  },
  {
   "cell_type": "markdown",
   "metadata": {},
   "source": [
    "### Импорт библиотек и сохранение данных в переменную"
   ]
  },
  {
   "cell_type": "code",
   "execution_count": 1,
   "metadata": {},
   "outputs": [],
   "source": [
    "import pandas as pd\n",
    "import numpy as np\n",
    "import scipy.stats as stats\n",
    "from matplotlib import pyplot as plt\n",
    "from pandas.plotting import register_matplotlib_converters\n",
    "import warnings"
   ]
  },
  {
   "cell_type": "code",
   "execution_count": 2,
   "metadata": {},
   "outputs": [
    {
     "name": "stdout",
     "output_type": "stream",
     "text": [
      "<class 'pandas.core.frame.DataFrame'>\n",
      "RangeIndex: 9 entries, 0 to 8\n",
      "Data columns (total 5 columns):\n",
      " #   Column      Non-Null Count  Dtype \n",
      "---  ------      --------------  ----- \n",
      " 0   Hypothesis  9 non-null      object\n",
      " 1   Reach       9 non-null      int64 \n",
      " 2   Impact      9 non-null      int64 \n",
      " 3   Confidence  9 non-null      int64 \n",
      " 4   Efforts     9 non-null      int64 \n",
      "dtypes: int64(4), object(1)\n",
      "memory usage: 488.0+ bytes\n"
     ]
    }
   ],
   "source": [
    "hypo = pd.read_csv('/datasets/hypothesis.csv')\n",
    "hypo.info()"
   ]
  },
  {
   "cell_type": "markdown",
   "metadata": {},
   "source": [
    "Итак, датафрейм состоит из 5 столбцов:\n",
    "* `Hypothesis` — краткое описание гипотезы;\n",
    "* `Reach` — охват пользователей по 10-балльной шкале;\n",
    "* `Impact` — влияние на пользователей по 10-балльной шкале;\n",
    "* `Confidence` — уверенность в гипотезе по 10-балльной шкале;\n",
    "* `Efforts` — затраты ресурсов на проверку гипотезы по 10-балльной шкале. Чем больше значение Efforts, тем дороже проверка гипотезы."
   ]
  },
  {
   "cell_type": "markdown",
   "metadata": {},
   "source": [
    "Для более привычной записи можно дополнительно сделать все заголовки строчными:"
   ]
  },
  {
   "cell_type": "code",
   "execution_count": 3,
   "metadata": {},
   "outputs": [],
   "source": [
    "hypo.columns = map(str.lower, hypo.columns)"
   ]
  },
  {
   "cell_type": "markdown",
   "metadata": {},
   "source": [
    "### Применение фреймворка ICE для приоритизации гипотез"
   ]
  },
  {
   "cell_type": "code",
   "execution_count": 4,
   "metadata": {},
   "outputs": [
    {
     "data": {
      "text/html": [
       "<div>\n",
       "<style scoped>\n",
       "    .dataframe tbody tr th:only-of-type {\n",
       "        vertical-align: middle;\n",
       "    }\n",
       "\n",
       "    .dataframe tbody tr th {\n",
       "        vertical-align: top;\n",
       "    }\n",
       "\n",
       "    .dataframe thead th {\n",
       "        text-align: right;\n",
       "    }\n",
       "</style>\n",
       "<table border=\"1\" class=\"dataframe\">\n",
       "  <thead>\n",
       "    <tr style=\"text-align: right;\">\n",
       "      <th></th>\n",
       "      <th>hypothesis</th>\n",
       "      <th>reach</th>\n",
       "      <th>impact</th>\n",
       "      <th>confidence</th>\n",
       "      <th>efforts</th>\n",
       "      <th>ice</th>\n",
       "    </tr>\n",
       "  </thead>\n",
       "  <tbody>\n",
       "    <tr>\n",
       "      <th>8</th>\n",
       "      <td>Запустить акцию, дающую скидку на товар в день...</td>\n",
       "      <td>1</td>\n",
       "      <td>9</td>\n",
       "      <td>9</td>\n",
       "      <td>5</td>\n",
       "      <td>16.200000</td>\n",
       "    </tr>\n",
       "    <tr>\n",
       "      <th>0</th>\n",
       "      <td>Добавить два новых канала привлечения трафика,...</td>\n",
       "      <td>3</td>\n",
       "      <td>10</td>\n",
       "      <td>8</td>\n",
       "      <td>6</td>\n",
       "      <td>13.333333</td>\n",
       "    </tr>\n",
       "    <tr>\n",
       "      <th>7</th>\n",
       "      <td>Добавить форму подписки на все основные страни...</td>\n",
       "      <td>10</td>\n",
       "      <td>7</td>\n",
       "      <td>8</td>\n",
       "      <td>5</td>\n",
       "      <td>11.200000</td>\n",
       "    </tr>\n",
       "    <tr>\n",
       "      <th>6</th>\n",
       "      <td>Показать на главной странице баннеры с актуаль...</td>\n",
       "      <td>5</td>\n",
       "      <td>3</td>\n",
       "      <td>8</td>\n",
       "      <td>3</td>\n",
       "      <td>8.000000</td>\n",
       "    </tr>\n",
       "    <tr>\n",
       "      <th>2</th>\n",
       "      <td>Добавить блоки рекомендаций товаров на сайт ин...</td>\n",
       "      <td>8</td>\n",
       "      <td>3</td>\n",
       "      <td>7</td>\n",
       "      <td>3</td>\n",
       "      <td>7.000000</td>\n",
       "    </tr>\n",
       "    <tr>\n",
       "      <th>1</th>\n",
       "      <td>Запустить собственную службу доставки, что сок...</td>\n",
       "      <td>2</td>\n",
       "      <td>5</td>\n",
       "      <td>4</td>\n",
       "      <td>10</td>\n",
       "      <td>2.000000</td>\n",
       "    </tr>\n",
       "    <tr>\n",
       "      <th>5</th>\n",
       "      <td>Добавить страницу отзывов клиентов о магазине,...</td>\n",
       "      <td>3</td>\n",
       "      <td>2</td>\n",
       "      <td>2</td>\n",
       "      <td>3</td>\n",
       "      <td>1.333333</td>\n",
       "    </tr>\n",
       "    <tr>\n",
       "      <th>3</th>\n",
       "      <td>Изменить структура категорий, что увеличит кон...</td>\n",
       "      <td>8</td>\n",
       "      <td>3</td>\n",
       "      <td>3</td>\n",
       "      <td>8</td>\n",
       "      <td>1.125000</td>\n",
       "    </tr>\n",
       "    <tr>\n",
       "      <th>4</th>\n",
       "      <td>Изменить цвет фона главной страницы, чтобы уве...</td>\n",
       "      <td>3</td>\n",
       "      <td>1</td>\n",
       "      <td>1</td>\n",
       "      <td>1</td>\n",
       "      <td>1.000000</td>\n",
       "    </tr>\n",
       "  </tbody>\n",
       "</table>\n",
       "</div>"
      ],
      "text/plain": [
       "                                          hypothesis  reach  impact  \\\n",
       "8  Запустить акцию, дающую скидку на товар в день...      1       9   \n",
       "0  Добавить два новых канала привлечения трафика,...      3      10   \n",
       "7  Добавить форму подписки на все основные страни...     10       7   \n",
       "6  Показать на главной странице баннеры с актуаль...      5       3   \n",
       "2  Добавить блоки рекомендаций товаров на сайт ин...      8       3   \n",
       "1  Запустить собственную службу доставки, что сок...      2       5   \n",
       "5  Добавить страницу отзывов клиентов о магазине,...      3       2   \n",
       "3  Изменить структура категорий, что увеличит кон...      8       3   \n",
       "4  Изменить цвет фона главной страницы, чтобы уве...      3       1   \n",
       "\n",
       "   confidence  efforts        ice  \n",
       "8           9        5  16.200000  \n",
       "0           8        6  13.333333  \n",
       "7           8        5  11.200000  \n",
       "6           8        3   8.000000  \n",
       "2           7        3   7.000000  \n",
       "1           4       10   2.000000  \n",
       "5           2        3   1.333333  \n",
       "3           3        8   1.125000  \n",
       "4           1        1   1.000000  "
      ]
     },
     "execution_count": 4,
     "metadata": {},
     "output_type": "execute_result"
    }
   ],
   "source": [
    "hypo['ice'] = hypo['impact'] * hypo['confidence'] / hypo['efforts']\n",
    "hypo.sort_values(by='ice', ascending=False)"
   ]
  },
  {
   "cell_type": "markdown",
   "metadata": {},
   "source": [
    "### Применение фреймворка RICE для приоритизации гипотез"
   ]
  },
  {
   "cell_type": "code",
   "execution_count": 5,
   "metadata": {},
   "outputs": [
    {
     "data": {
      "text/html": [
       "<div>\n",
       "<style scoped>\n",
       "    .dataframe tbody tr th:only-of-type {\n",
       "        vertical-align: middle;\n",
       "    }\n",
       "\n",
       "    .dataframe tbody tr th {\n",
       "        vertical-align: top;\n",
       "    }\n",
       "\n",
       "    .dataframe thead th {\n",
       "        text-align: right;\n",
       "    }\n",
       "</style>\n",
       "<table border=\"1\" class=\"dataframe\">\n",
       "  <thead>\n",
       "    <tr style=\"text-align: right;\">\n",
       "      <th></th>\n",
       "      <th>hypothesis</th>\n",
       "      <th>reach</th>\n",
       "      <th>impact</th>\n",
       "      <th>confidence</th>\n",
       "      <th>efforts</th>\n",
       "      <th>ice</th>\n",
       "      <th>rice</th>\n",
       "    </tr>\n",
       "  </thead>\n",
       "  <tbody>\n",
       "    <tr>\n",
       "      <th>7</th>\n",
       "      <td>Добавить форму подписки на все основные страни...</td>\n",
       "      <td>10</td>\n",
       "      <td>7</td>\n",
       "      <td>8</td>\n",
       "      <td>5</td>\n",
       "      <td>11.200000</td>\n",
       "      <td>112.0</td>\n",
       "    </tr>\n",
       "    <tr>\n",
       "      <th>2</th>\n",
       "      <td>Добавить блоки рекомендаций товаров на сайт ин...</td>\n",
       "      <td>8</td>\n",
       "      <td>3</td>\n",
       "      <td>7</td>\n",
       "      <td>3</td>\n",
       "      <td>7.000000</td>\n",
       "      <td>56.0</td>\n",
       "    </tr>\n",
       "    <tr>\n",
       "      <th>0</th>\n",
       "      <td>Добавить два новых канала привлечения трафика,...</td>\n",
       "      <td>3</td>\n",
       "      <td>10</td>\n",
       "      <td>8</td>\n",
       "      <td>6</td>\n",
       "      <td>13.333333</td>\n",
       "      <td>40.0</td>\n",
       "    </tr>\n",
       "    <tr>\n",
       "      <th>6</th>\n",
       "      <td>Показать на главной странице баннеры с актуаль...</td>\n",
       "      <td>5</td>\n",
       "      <td>3</td>\n",
       "      <td>8</td>\n",
       "      <td>3</td>\n",
       "      <td>8.000000</td>\n",
       "      <td>40.0</td>\n",
       "    </tr>\n",
       "    <tr>\n",
       "      <th>8</th>\n",
       "      <td>Запустить акцию, дающую скидку на товар в день...</td>\n",
       "      <td>1</td>\n",
       "      <td>9</td>\n",
       "      <td>9</td>\n",
       "      <td>5</td>\n",
       "      <td>16.200000</td>\n",
       "      <td>16.2</td>\n",
       "    </tr>\n",
       "    <tr>\n",
       "      <th>3</th>\n",
       "      <td>Изменить структура категорий, что увеличит кон...</td>\n",
       "      <td>8</td>\n",
       "      <td>3</td>\n",
       "      <td>3</td>\n",
       "      <td>8</td>\n",
       "      <td>1.125000</td>\n",
       "      <td>9.0</td>\n",
       "    </tr>\n",
       "    <tr>\n",
       "      <th>1</th>\n",
       "      <td>Запустить собственную службу доставки, что сок...</td>\n",
       "      <td>2</td>\n",
       "      <td>5</td>\n",
       "      <td>4</td>\n",
       "      <td>10</td>\n",
       "      <td>2.000000</td>\n",
       "      <td>4.0</td>\n",
       "    </tr>\n",
       "    <tr>\n",
       "      <th>5</th>\n",
       "      <td>Добавить страницу отзывов клиентов о магазине,...</td>\n",
       "      <td>3</td>\n",
       "      <td>2</td>\n",
       "      <td>2</td>\n",
       "      <td>3</td>\n",
       "      <td>1.333333</td>\n",
       "      <td>4.0</td>\n",
       "    </tr>\n",
       "    <tr>\n",
       "      <th>4</th>\n",
       "      <td>Изменить цвет фона главной страницы, чтобы уве...</td>\n",
       "      <td>3</td>\n",
       "      <td>1</td>\n",
       "      <td>1</td>\n",
       "      <td>1</td>\n",
       "      <td>1.000000</td>\n",
       "      <td>3.0</td>\n",
       "    </tr>\n",
       "  </tbody>\n",
       "</table>\n",
       "</div>"
      ],
      "text/plain": [
       "                                          hypothesis  reach  impact  \\\n",
       "7  Добавить форму подписки на все основные страни...     10       7   \n",
       "2  Добавить блоки рекомендаций товаров на сайт ин...      8       3   \n",
       "0  Добавить два новых канала привлечения трафика,...      3      10   \n",
       "6  Показать на главной странице баннеры с актуаль...      5       3   \n",
       "8  Запустить акцию, дающую скидку на товар в день...      1       9   \n",
       "3  Изменить структура категорий, что увеличит кон...      8       3   \n",
       "1  Запустить собственную службу доставки, что сок...      2       5   \n",
       "5  Добавить страницу отзывов клиентов о магазине,...      3       2   \n",
       "4  Изменить цвет фона главной страницы, чтобы уве...      3       1   \n",
       "\n",
       "   confidence  efforts        ice   rice  \n",
       "7           8        5  11.200000  112.0  \n",
       "2           7        3   7.000000   56.0  \n",
       "0           8        6  13.333333   40.0  \n",
       "6           8        3   8.000000   40.0  \n",
       "8           9        5  16.200000   16.2  \n",
       "3           3        8   1.125000    9.0  \n",
       "1           4       10   2.000000    4.0  \n",
       "5           2        3   1.333333    4.0  \n",
       "4           1        1   1.000000    3.0  "
      ]
     },
     "execution_count": 5,
     "metadata": {},
     "output_type": "execute_result"
    }
   ],
   "source": [
    "hypo['rice'] = hypo['reach'] * hypo['impact'] * hypo['confidence'] / hypo['efforts']\n",
    "hypo.sort_values(by='rice', ascending=False)"
   ]
  },
  {
   "cell_type": "code",
   "execution_count": 6,
   "metadata": {},
   "outputs": [
    {
     "data": {
      "image/png": "[encoded data removed]",
      "text/plain": [
       "<Figure size 720x720 with 1 Axes>"
      ]
     },
     "metadata": {
      "needs_background": "light"
     },
     "output_type": "display_data"
    }
   ],
   "source": [
    "y = hypo['ice'] \n",
    "z = hypo['rice'] \n",
    "n = hypo.index \n",
    "\n",
    "fig, ax = plt.subplots()\n",
    "ax.scatter(z, y)\n",
    "\n",
    "for i, txt in enumerate(n):\n",
    "    ax.annotate(txt, (z[i], y[i]))\n",
    "\n",
    "plt.title(\"ICE and RICE гипотезы\") \n",
    "plt.xlabel(\"RICE\") \n",
    "plt.ylabel(\"ICE\")\n",
    "\n",
    "fig.set_figheight(10)\n",
    "fig.set_figwidth(10) \n",
    "plt.show()"
   ]
  },
  {
   "cell_type": "markdown",
   "metadata": {},
   "source": [
    "### Выводы по блоку \"Приоритизация гипотез\""
   ]
  },
  {
   "cell_type": "markdown",
   "metadata": {},
   "source": [
    "* При применении фреймворка `ICE` наиболее приоритетной стала гипотеза `8`. Это связано с тем, что у этой гипотезы наиболее высокие показатели по изменению пользовательского опыта и уверенности в изменении этого опыта\n",
    "* Если применить фреймворк `RICE`, ситуация существенно изменится, и гипотеза `8` окажется на 5 месте. Это связано с низкими показателями охвата, которые не учитываются в фреймворке `ICE`. При использовании фреймворка `RICE` самой приоритетной будет гипотеза `7` - гипотеза с не такими высокими показателями уверенности и воздействия, но с гораздо более высоким охватом аудитории, которую затронет гипотеза"
   ]
  },
  {
   "cell_type": "markdown",
   "metadata": {},
   "source": [
    "## Анализ A/B-теста"
   ]
  },
  {
   "cell_type": "markdown",
   "metadata": {},
   "source": [
    "### Сохранение данных в переменную и первичный анализ"
   ]
  },
  {
   "cell_type": "code",
   "execution_count": 7,
   "metadata": {},
   "outputs": [
    {
     "name": "stdout",
     "output_type": "stream",
     "text": [
      "<class 'pandas.core.frame.DataFrame'>\n",
      "RangeIndex: 1197 entries, 0 to 1196\n",
      "Data columns (total 5 columns):\n",
      " #   Column         Non-Null Count  Dtype \n",
      "---  ------         --------------  ----- \n",
      " 0   transactionId  1197 non-null   int64 \n",
      " 1   visitorId      1197 non-null   int64 \n",
      " 2   date           1197 non-null   object\n",
      " 3   revenue        1197 non-null   int64 \n",
      " 4   group          1197 non-null   object\n",
      "dtypes: int64(3), object(2)\n",
      "memory usage: 46.9+ KB\n",
      "<class 'pandas.core.frame.DataFrame'>\n",
      "RangeIndex: 62 entries, 0 to 61\n",
      "Data columns (total 3 columns):\n",
      " #   Column    Non-Null Count  Dtype \n",
      "---  ------    --------------  ----- \n",
      " 0   date      62 non-null     object\n",
      " 1   group     62 non-null     object\n",
      " 2   visitors  62 non-null     int64 \n",
      "dtypes: int64(1), object(2)\n",
      "memory usage: 1.6+ KB\n"
     ]
    }
   ],
   "source": [
    "orders = pd.read_csv('/datasets/orders.csv')\n",
    "visitors = pd.read_csv('/datasets/visitors.csv')\n",
    "orders.info()\n",
    "visitors.info()"
   ]
  },
  {
   "cell_type": "markdown",
   "metadata": {},
   "source": [
    "Итак, таблица `orders` состоит из 5 столбцов:\n",
    "* `transactionId` — идентификатор заказа;\n",
    "* `visitorId` — идентификатор пользователя, совершившего заказ;\n",
    "* `date` — дата, когда был совершён заказ;\n",
    "* `revenue` — выручка заказа;\n",
    "* `group` — группа A/B-теста, в которую попал заказ;\n",
    "\n",
    "Таблица `visits` состоит из 5 столбцов:\n",
    "* `date` — дата;\n",
    "* `group` — группа A/B-теста;\n",
    "* `visitors` — количество пользователей в указанную дату в указанной группе A/B-теста"
   ]
  },
  {
   "cell_type": "markdown",
   "metadata": {},
   "source": [
    "В таблице нет пропущенных значений, однако данные в столбцах `date` обеих таблиц необходимо перевести формат даты"
   ]
  },
  {
   "cell_type": "markdown",
   "metadata": {},
   "source": [
    "### Предобработка данных"
   ]
  },
  {
   "cell_type": "markdown",
   "metadata": {},
   "source": [
    "Переводим данные в формат даты:"
   ]
  },
  {
   "cell_type": "code",
   "execution_count": 8,
   "metadata": {},
   "outputs": [],
   "source": [
    "orders['date'] = pd.to_datetime(orders['date'], format='%Y-%m-%d')\n",
    "visitors['date'] = pd.to_datetime(visitors['date'], format='%Y-%m-%d')"
   ]
  },
  {
   "cell_type": "markdown",
   "metadata": {},
   "source": [
    "Проверяем данные на наличие дубликатов:"
   ]
  },
  {
   "cell_type": "code",
   "execution_count": 9,
   "metadata": {},
   "outputs": [],
   "source": [
    "orders = orders.drop_duplicates()\n",
    "visitors = visitors.drop_duplicates()"
   ]
  },
  {
   "cell_type": "code",
   "execution_count": 10,
   "metadata": {},
   "outputs": [
    {
     "name": "stdout",
     "output_type": "stream",
     "text": [
      "<class 'pandas.core.frame.DataFrame'>\n",
      "Int64Index: 1197 entries, 0 to 1196\n",
      "Data columns (total 5 columns):\n",
      " #   Column         Non-Null Count  Dtype         \n",
      "---  ------         --------------  -----         \n",
      " 0   transactionId  1197 non-null   int64         \n",
      " 1   visitorId      1197 non-null   int64         \n",
      " 2   date           1197 non-null   datetime64[ns]\n",
      " 3   revenue        1197 non-null   int64         \n",
      " 4   group          1197 non-null   object        \n",
      "dtypes: datetime64[ns](1), int64(3), object(1)\n",
      "memory usage: 56.1+ KB\n",
      "<class 'pandas.core.frame.DataFrame'>\n",
      "Int64Index: 62 entries, 0 to 61\n",
      "Data columns (total 3 columns):\n",
      " #   Column    Non-Null Count  Dtype         \n",
      "---  ------    --------------  -----         \n",
      " 0   date      62 non-null     datetime64[ns]\n",
      " 1   group     62 non-null     object        \n",
      " 2   visitors  62 non-null     int64         \n",
      "dtypes: datetime64[ns](1), int64(1), object(1)\n",
      "memory usage: 1.9+ KB\n"
     ]
    }
   ],
   "source": [
    "orders.info()\n",
    "visitors.info()"
   ]
  },
  {
   "cell_type": "markdown",
   "metadata": {},
   "source": [
    "Проверим, сколько групп будет использовано при проведении A/B теста:"
   ]
  },
  {
   "cell_type": "code",
   "execution_count": 11,
   "metadata": {},
   "outputs": [
    {
     "data": {
      "text/plain": [
       "array(['A', 'B'], dtype=object)"
      ]
     },
     "execution_count": 11,
     "metadata": {},
     "output_type": "execute_result"
    }
   ],
   "source": [
    "visitors['group'].unique()"
   ]
  },
  {
   "cell_type": "markdown",
   "metadata": {},
   "source": [
    "Проверим даты проведения A/B теста:"
   ]
  },
  {
   "cell_type": "code",
   "execution_count": 12,
   "metadata": {},
   "outputs": [
    {
     "name": "stdout",
     "output_type": "stream",
     "text": [
      "Дата начала теста: 2019-08-01 00:00:00\n",
      "Дата конца теста: 2019-08-31 00:00:00\n"
     ]
    }
   ],
   "source": [
    "print('Дата начала теста:', visitors['date'].min())\n",
    "print('Дата конца теста:', visitors['date'].max())"
   ]
  },
  {
   "cell_type": "markdown",
   "metadata": {},
   "source": [
    "Итого по результатам предобработки:\n",
    "* Дубликаты не выявлены\n",
    "* Нужные столбцы переведены в формат даты\n",
    "* Для A/B теста использовались две выборки пользователей\n",
    "* Тест проводился с 1 по 31 августа 2019 года"
   ]
  },
  {
   "cell_type": "markdown",
   "metadata": {},
   "source": [
    "### График кумулятивной выручки по группам"
   ]
  },
  {
   "cell_type": "code",
   "execution_count": 13,
   "metadata": {
    "scrolled": true
   },
   "outputs": [
    {
     "data": {
      "image/png": "[encoded data removed]",
      "text/plain": [
       "<Figure size 1080x360 with 1 Axes>"
      ]
     },
     "metadata": {
      "needs_background": "light"
     },
     "output_type": "display_data"
    }
   ],
   "source": [
    "ordersADaily = (orders\n",
    "                 .query('group == \"A\"')\n",
    "                 .groupby('date', as_index=False)\n",
    "                 .agg({'transactionId' : 'nunique', 'revenue' : 'sum'})                \n",
    "               )\n",
    "\n",
    "ordersADaily.columns = ['date', 'ordersPerDateA', 'revenuePerDateA']\n",
    "\n",
    "ordersBDaily = (orders\n",
    "                 .query('group == \"B\"')\n",
    "                 .groupby('date', as_index=False)\n",
    "                 .agg({'transactionId' : 'nunique', 'revenue' : 'sum'})\n",
    "               )\n",
    "\n",
    "ordersBDaily.columns = ['date', 'ordersPerDateB', 'revenuePerDateB']\n",
    "\n",
    "ordersACumulative = (\n",
    "    ordersADaily\n",
    "    .apply(lambda x: ordersADaily[ordersADaily['date'] <= x['date']]\n",
    "           .agg({'date': 'max', 'ordersPerDateA' : 'sum', 'revenuePerDateA' : 'sum'}),\n",
    "           axis=1\n",
    "          ).sort_values(by='date')\n",
    "                    )\n",
    "\n",
    "ordersBCumulative = (\n",
    "    ordersADaily\n",
    "    .apply(lambda x: ordersBDaily[ordersBDaily['date'] <= x['date']]\n",
    "           .agg({'date': 'max', 'ordersPerDateB' : 'sum', 'revenuePerDateB' : 'sum'}),\n",
    "           axis=1\n",
    "          ).sort_values(by='date')\n",
    "                    )\n",
    "\n",
    "ordersCumulative = ordersACumulative.merge(ordersBCumulative, left_on='date', right_on='date')\n",
    "plt.figure(figsize=(15, 5))\n",
    "plt.plot(ordersCumulative['date'], ordersCumulative['revenuePerDateA'], label='A')\n",
    "plt.plot(ordersCumulative['date'], ordersCumulative['revenuePerDateB'], label='B')\n",
    "plt.legend()\n",
    "plt.xlabel('Дата')\n",
    "plt.ylabel('Кумулятивная выручка')\n",
    "plt.title('Динамика кумулятивной выручки')\n",
    "None"
   ]
  },
  {
   "cell_type": "markdown",
   "metadata": {},
   "source": [
    "Итак: \n",
    "* кумулятивная выручка накапливалась равномерно до 17 августа\n",
    "* после 17 августа выручка от пользователей сегмента `B` начала значительно превышать выручку сегмента `A`"
   ]
  },
  {
   "cell_type": "markdown",
   "metadata": {},
   "source": [
    "### График кумулятивного среднего чека по группам"
   ]
  },
  {
   "cell_type": "code",
   "execution_count": 14,
   "metadata": {
    "scrolled": true
   },
   "outputs": [
    {
     "data": {
      "image/png": "[encoded data removed]",
      "text/plain": [
       "<Figure size 1080x360 with 1 Axes>"
      ]
     },
     "metadata": {
      "needs_background": "light"
     },
     "output_type": "display_data"
    }
   ],
   "source": [
    "ordersCumulative['avgCheckPerDateA'] = ordersCumulative['revenuePerDateA'] / ordersCumulative['ordersPerDateA']\n",
    "ordersCumulative['avgCheckPerDateB'] = ordersCumulative['revenuePerDateB'] / ordersCumulative['ordersPerDateB']\n",
    "\n",
    "plt.figure(figsize=(15, 5))\n",
    "plt.plot(ordersCumulative['date'], ordersCumulative['avgCheckPerDateA'], label='A')\n",
    "plt.plot(ordersCumulative['date'], ordersCumulative['avgCheckPerDateB'], label='B')\n",
    "plt.legend()\n",
    "plt.xlabel('Дата')\n",
    "plt.ylabel('Кумулятивный средний чек')\n",
    "plt.title('Динамика кумулятивного среднего чека')\n",
    "None"
   ]
  },
  {
   "cell_type": "markdown",
   "metadata": {},
   "source": [
    "Итак: \n",
    "* Средний чек сегмента `B` превышал аналогичный показатель сегмента `A` во все дни кроме 1 и 8 августа \n",
    "* После 17 августа средний чек сегмента `B` стал заметно превышать средний чек сегмента `A`. Скорее всего, увеличение выручки напрямую связано со средним чеком\n",
    "* Такое резкое увеличение среднего чека может быть связано с тем, что в группе `B` появились единичные заказы с очень высоким средним чеком"
   ]
  },
  {
   "cell_type": "markdown",
   "metadata": {},
   "source": [
    "### График относительного изменения кумулятивного среднего чека группы B к группе A"
   ]
  },
  {
   "cell_type": "code",
   "execution_count": 15,
   "metadata": {
    "scrolled": true
   },
   "outputs": [
    {
     "data": {
      "image/png": "[encoded data removed]",
      "text/plain": [
       "<Figure size 1080x360 with 1 Axes>"
      ]
     },
     "metadata": {
      "needs_background": "light"
     },
     "output_type": "display_data"
    }
   ],
   "source": [
    "plt.figure(figsize=(15, 5))\n",
    "plt.plot(ordersCumulative['date'], ordersCumulative['avgCheckPerDateB'] / ordersCumulative['avgCheckPerDateA'] - 1, label='B / A') \n",
    "plt.legend()\n",
    "plt.axhline(y=0, color='black', linestyle='--')\n",
    "plt.xlabel('Дата')\n",
    "plt.ylabel('Отношение кумулятивного среднего чека группы B к группе A')\n",
    "plt.title('Динамика отношения кумулятивного среднего чека группы B к группе A')\n",
    "None"
   ]
  },
  {
   "cell_type": "markdown",
   "metadata": {},
   "source": [
    "19 августа средний чек группы `B` превышал средний чек группы `A` на 50%, далее этот показатель снижался. Скорее всего, в группе `B` 19 августа был совершен заказ с очень высоким средним чеком"
   ]
  },
  {
   "cell_type": "markdown",
   "metadata": {},
   "source": [
    "### График кумулятивной конверсии по группам"
   ]
  },
  {
   "cell_type": "code",
   "execution_count": 16,
   "metadata": {},
   "outputs": [
    {
     "data": {
      "image/png": "[encoded data removed]",
      "text/plain": [
       "<Figure size 1080x360 with 1 Axes>"
      ]
     },
     "metadata": {
      "needs_background": "light"
     },
     "output_type": "display_data"
    }
   ],
   "source": [
    "visitorsADaily = visitors.query('group == \"A\"')[['date', 'visitors']]\n",
    "visitorsADaily.columns = ['date', 'visitorsPerDateA']\n",
    "visitorsBDaily = visitors.query('group == \"B\"')[['date', 'visitors']]\n",
    "visitorsBDaily.columns = ['date', 'visitorsPerDateB']\n",
    "visitorsACumulative = (visitorsADaily\n",
    "                       .apply(lambda x: visitorsADaily[visitorsADaily['date'] <= x['date']]\n",
    "                              .agg({'date': 'max', 'visitorsPerDateA' : 'sum'})\n",
    "                              , axis=1\n",
    "                             )\n",
    "                      )\n",
    "visitorsBCumulative = (visitorsBDaily\n",
    "                       .apply(lambda x: visitorsBDaily[visitorsBDaily['date'] <= x['date']]\n",
    "                              .agg({'date': 'max', 'visitorsPerDateB' : 'sum'})\n",
    "                              , axis=1\n",
    "                             )\n",
    "                      )\n",
    "visitorsCumulative = visitorsACumulative.merge(visitorsBCumulative, left_on='date', right_on='date')\n",
    "dataCumulative = ordersCumulative.merge(visitorsCumulative, left_on='date', right_on='date')\n",
    "dataCumulative['conversionA'] = dataCumulative['ordersPerDateA'] / dataCumulative['visitorsPerDateA']\n",
    "dataCumulative['conversionB'] = dataCumulative['ordersPerDateB'] / dataCumulative['visitorsPerDateB']\n",
    "plt.figure(figsize=(15, 5))\n",
    "plt.plot(dataCumulative['date'], dataCumulative['conversionA'], label='A')\n",
    "plt.plot(dataCumulative['date'], dataCumulative['conversionB'], label='B')\n",
    "plt.legend()\n",
    "plt.xlabel('Дата')\n",
    "plt.ylabel('Кумулятивная конверсия')\n",
    "plt.title('Динамика кумулятивной конверсии')\n",
    "None"
   ]
  },
  {
   "cell_type": "markdown",
   "metadata": {},
   "source": [
    "После 5 августа накопительная конверсия группы `B` была стабильно выше конверсии группы `A`. Такая стабильность может указывать на устойчивую разницу конверсий между этими двумя группами"
   ]
  },
  {
   "cell_type": "markdown",
   "metadata": {},
   "source": [
    "### График относительного изменения кумулятивной конверсии группы B к группе A"
   ]
  },
  {
   "cell_type": "code",
   "execution_count": 17,
   "metadata": {},
   "outputs": [
    {
     "data": {
      "image/png": "[encoded data removed]",
      "text/plain": [
       "<Figure size 1080x360 with 1 Axes>"
      ]
     },
     "metadata": {
      "needs_background": "light"
     },
     "output_type": "display_data"
    }
   ],
   "source": [
    "plt.figure(figsize=(15, 5))\n",
    "plt.plot(dataCumulative['date'], dataCumulative['conversionB'] / dataCumulative['conversionA'] - 1, label='B / A') \n",
    "plt.legend()\n",
    "plt.axhline(y=0, color='black', linestyle='--')\n",
    "plt.xlabel('Дата')\n",
    "plt.ylabel('Отношение кумулятивной конверсии группы B к группе A')\n",
    "plt.title('Динамика отношения кумулятивной конверсии группы B к группе A')\n",
    "None"
   ]
  },
  {
   "cell_type": "markdown",
   "metadata": {},
   "source": [
    "После 5 августа накопительная конверсия группы `B` была стабильно выше конверсии группы `A` от 10% до 20% в зависимости от дня"
   ]
  },
  {
   "cell_type": "markdown",
   "metadata": {},
   "source": [
    "### Точечный график количества заказов по пользователям"
   ]
  },
  {
   "cell_type": "code",
   "execution_count": 18,
   "metadata": {},
   "outputs": [
    {
     "data": {
      "image/png": "[encoded data removed]",
      "text/plain": [
       "<Figure size 432x288 with 1 Axes>"
      ]
     },
     "metadata": {
      "needs_background": "light"
     },
     "output_type": "display_data"
    }
   ],
   "source": [
    "ordersByUsers = orders.groupby('visitorId', as_index=False).agg({'transactionId' : 'nunique', 'group' : 'max'})\n",
    "\n",
    "ordersByUsers.columns = ['visitorId', 'orders', 'group']\n",
    "\n",
    "x_values = pd.Series(range(0, len(ordersByUsers)))\n",
    "\n",
    "plt.scatter(x_values, ordersByUsers['orders'])\n",
    "plt.xlabel('Порядковый номер пользователя')\n",
    "plt.ylabel('Количество покупок')\n",
    "plt.title('Распределение количества покупок по пользователям')\n",
    "None"
   ]
  },
  {
   "cell_type": "markdown",
   "metadata": {},
   "source": [
    "Итак:\n",
    "* Больше всего пользователей, которые сделали не более 1 заказа в течение теста\n",
    "* На втором месте находятся пользователи, совершившие 2 заказа\n",
    "* Есть небольшая выборка пользователей, совершившая от 3 до 5 заказов\n",
    "* Реже всего встречаются пользователи, которые совершили более 5 заказов"
   ]
  },
  {
   "cell_type": "markdown",
   "metadata": {},
   "source": [
    "### 95-й и 99-й перцентили количества заказов на пользователя. Определение границы для выявления аномальных пользователей"
   ]
  },
  {
   "cell_type": "code",
   "execution_count": 19,
   "metadata": {},
   "outputs": [
    {
     "data": {
      "text/plain": [
       "array([2., 4.])"
      ]
     },
     "execution_count": 19,
     "metadata": {},
     "output_type": "execute_result"
    }
   ],
   "source": [
    "np.percentile(ordersByUsers['orders'], [95,99])"
   ]
  },
  {
   "cell_type": "markdown",
   "metadata": {},
   "source": [
    "Итак:\n",
    "* Всего 5% пользователей совершили 2 и более заказов\n",
    "* 1% пользователей совершили 4 и более заказов"
   ]
  },
  {
   "cell_type": "markdown",
   "metadata": {},
   "source": [
    "###  Точечный график стоимостей заказов"
   ]
  },
  {
   "cell_type": "code",
   "execution_count": 20,
   "metadata": {},
   "outputs": [
    {
     "data": {
      "image/png": "[encoded data removed]",
      "text/plain": [
       "<Figure size 432x288 with 1 Axes>"
      ]
     },
     "metadata": {
      "needs_background": "light"
     },
     "output_type": "display_data"
    }
   ],
   "source": [
    "x_values = pd.Series(range(0, len(orders)))\n",
    "plt.scatter(x_values, orders['revenue'])\n",
    "plt.xlabel('Порядковый номер заказа')\n",
    "plt.ylabel('Выручка с заказа')\n",
    "plt.title('Распределение дохода по заказам')\n",
    "None"
   ]
  },
  {
   "cell_type": "markdown",
   "metadata": {},
   "source": [
    "В выборке стоимостей заказов наблюдается всего 2 выброса, 1 из них совершил заказ стоимостью более 1,2 миллиона рублей. Такие заказы могут быть причиной увеличившейся разницы в выручке и среднем чеке между двумя исследуемыми группами"
   ]
  },
  {
   "cell_type": "code",
   "execution_count": 21,
   "metadata": {},
   "outputs": [
    {
     "data": {
      "image/png": "[encoded data removed]",
      "text/plain": [
       "<Figure size 432x288 with 1 Axes>"
      ]
     },
     "metadata": {
      "needs_background": "light"
     },
     "output_type": "display_data"
    }
   ],
   "source": [
    "x_values = pd.Series(range(0, len(orders.query('revenue < 200000'))))\n",
    "plt.scatter(x_values, orders.query('revenue < 200000')['revenue'])\n",
    "plt.xlabel('Порядковый номер заказа')\n",
    "plt.ylabel('Выручка с заказа')\n",
    "plt.title('Распределение дохода по заказам')\n",
    "None"
   ]
  },
  {
   "cell_type": "markdown",
   "metadata": {},
   "source": [
    "По графику, построенному на данных без выбросов, можно заметить, что чаще всего встречаются заказы до 20 000 руб"
   ]
  },
  {
   "cell_type": "markdown",
   "metadata": {},
   "source": [
    "### 95-й и 99-й перцентили стоимости заказов. Определение границы для выявления аномальных заказов"
   ]
  },
  {
   "cell_type": "code",
   "execution_count": 22,
   "metadata": {},
   "outputs": [
    {
     "data": {
      "text/plain": [
       "array([28000. , 58233.2])"
      ]
     },
     "execution_count": 22,
     "metadata": {},
     "output_type": "execute_result"
    }
   ],
   "source": [
    "np.percentile(orders['revenue'], [95,99])"
   ]
  },
  {
   "cell_type": "markdown",
   "metadata": {},
   "source": [
    "Итак:\n",
    "* Всего 5% заказов было со стоимостью более 28 000 руб.\n",
    "* 1% заказов был со стоимостью более 58233.2 руб."
   ]
  },
  {
   "cell_type": "markdown",
   "metadata": {},
   "source": [
    "### Статистическая значимость различий в конверсии между группами по «сырым» данным"
   ]
  },
  {
   "cell_type": "markdown",
   "metadata": {},
   "source": [
    "Формулируем гипотезы:\n",
    "* H0: по \"сырым данным\" конверсия группы 'B' равна конверсии группы 'A' \n",
    "* H1: по \"сырым данным\" конверсия группы 'B' не равна конверсии группы 'A' "
   ]
  },
  {
   "cell_type": "code",
   "execution_count": 34,
   "metadata": {},
   "outputs": [
    {
     "name": "stdout",
     "output_type": "stream",
     "text": [
      "p-значение:  0.00001\n",
      "Отвергаем нулевую гипотезу: разница статистически значима, разница составила 54%\n"
     ]
    },
    {
     "data": {
      "text/plain": [
       "591      11\n",
       "1023     11\n",
       "569       9\n",
       "487       8\n",
       "44        5\n",
       "         ..\n",
       "6114      0\n",
       "6115      0\n",
       "6116      0\n",
       "6117      0\n",
       "18329     0\n",
       "Name: orders, Length: 18916, dtype: int64"
      ]
     },
     "execution_count": 34,
     "metadata": {},
     "output_type": "execute_result"
    }
   ],
   "source": [
    "ordersByUsersA = ordersByUsers.query('group == \"A\"')\n",
    "\n",
    "ordersSampleA = pd.concat([\n",
    "    ordersByUsersA['orders'],\n",
    "    pd.Series(0,np.arange(visitorsADaily['visitorsPerDateA'].sum() - len(ordersByUsersA)), name='orders')\n",
    "                          ],\n",
    "    axis=0\n",
    "                         )\n",
    "\n",
    "ordersByUsersB = ordersByUsers.query('group == \"B\"')\n",
    "\n",
    "ordersSampleB = pd.concat([\n",
    "    ordersByUsersB['orders'],\n",
    "    pd.Series(0,np.arange(visitorsBDaily['visitorsPerDateB'].sum() - len(ordersByUsersB)), name='orders')\n",
    "                          ],\n",
    "    axis=0\n",
    "                         )\n",
    "\n",
    "alpha = .05\n",
    "\n",
    "p_value = stats.mannwhitneyu(ordersSampleA, ordersSampleB)[1]\n",
    "\n",
    "differenceBtoA = ordersSampleB.mean() / ordersSampleA.mean() - 1\n",
    "\n",
    "print('p-значение: ', '{0:.5f}'.format(p_value))\n",
    "\n",
    "if p_value < alpha:\n",
    "    print('Отвергаем нулевую гипотезу: разница статистически значима, разница составила', '{0:.0%}'.format(differenceBtoA))\n",
    "else:\n",
    "    print('Не получилось отвергнуть нулевую гипотезу, вывод о различии сделать нельзя')\n",
    "    \n",
    "ordersSampleB.sort_values(ascending=False)"
   ]
  },
  {
   "cell_type": "markdown",
   "metadata": {},
   "source": [
    "Итого по сырым данным конверсия группы `B` превысила аналогичный показатель группы `A` на 54%. При этом наблюдается высокая значимость данных, `p-value` составил всего 0.00001"
   ]
  },
  {
   "cell_type": "markdown",
   "metadata": {},
   "source": [
    "### Статистическая значимость различий в среднем чеке заказа между группами по «сырым» данным"
   ]
  },
  {
   "cell_type": "markdown",
   "metadata": {},
   "source": [
    "Формулируем гипотезы:\n",
    "* H0: По \"сырым данным\" средний чек группы 'B' равен среднему чеку группы 'A'\n",
    "* H1: По \"сырым данным\" средний чек группы 'B' не равен среднему чеку группы 'A'"
   ]
  },
  {
   "cell_type": "code",
   "execution_count": 24,
   "metadata": {},
   "outputs": [
    {
     "name": "stdout",
     "output_type": "stream",
     "text": [
      "Не получилось отвергнуть нулевую гипотезу, вывод о различии сделать нельзя\n"
     ]
    }
   ],
   "source": [
    "alpha = .05\n",
    "\n",
    "p_value = stats.mannwhitneyu(orders.query('group == \"A\"')['revenue']\n",
    "                                        , orders.query('group == \"B\"')['revenue']\n",
    "                                         )[1]\n",
    "\n",
    "differenceBtoA = orders.query('group == \"B\"')['revenue'].mean() / orders.query('group == \"A\"')['revenue'].mean() - 1\n",
    "\n",
    "if p_value < alpha:\n",
    "    print('Отвергаем нулевую гипотезу: разница статистически значима, разница составила', '{0:.2%}'.format(differenceBtoA))\n",
    "else:\n",
    "    print('Не получилось отвергнуть нулевую гипотезу, вывод о различии сделать нельзя')"
   ]
  },
  {
   "cell_type": "code",
   "execution_count": 25,
   "metadata": {},
   "outputs": [
    {
     "name": "stdout",
     "output_type": "stream",
     "text": [
      "0.72929\n"
     ]
    },
    {
     "data": {
      "text/plain": [
       "'25.87%'"
      ]
     },
     "execution_count": 25,
     "metadata": {},
     "output_type": "execute_result"
    }
   ],
   "source": [
    "print('{0:.5f}'.format(p_value))\n",
    "'{0:.2%}'.format(differenceBtoA)"
   ]
  },
  {
   "cell_type": "markdown",
   "metadata": {},
   "source": [
    "Несмотря на фактическую разницу между средними чеками, мы не можем утверждать, что по \"сырым данным\" выявлена статистически значимая разница между этими показателями"
   ]
  },
  {
   "cell_type": "markdown",
   "metadata": {},
   "source": [
    "### Статистическая значимость различий в конверсии между группами по «очищенным» данным"
   ]
  },
  {
   "cell_type": "markdown",
   "metadata": {},
   "source": [
    "Формулируем гипотезы:\n",
    "* H0: по \"очищенным данным\" конверсия группы 'B' равна конверсии группы 'A' \n",
    "* H1: по \"очищенным данным\" конверсия группы 'B' не равна конверсии группы 'A' "
   ]
  },
  {
   "cell_type": "markdown",
   "metadata": {},
   "source": [
    "Для начала создадим таблицу с аномальными пользователями. Это те пользователи, которые совершили покупки стоимостью более 28000, а также пользователи, совершившие более 2 заказов. То есть мы исключим 5% самых аномальных пользователей"
   ]
  },
  {
   "cell_type": "code",
   "execution_count": 26,
   "metadata": {},
   "outputs": [],
   "source": [
    "abnormalUsers = pd.concat(\n",
    "    [\n",
    "    orders[orders['revenue'] > np.percentile(orders['revenue'], 95)]['visitorId']\n",
    "  , ordersByUsers[ordersByUsers['orders'] > np.percentile(ordersByUsers['orders'], 95)]['visitorId']\n",
    "    ],\n",
    "    axis=0\n",
    ").drop_duplicates()"
   ]
  },
  {
   "cell_type": "code",
   "execution_count": 27,
   "metadata": {},
   "outputs": [
    {
     "name": "stdout",
     "output_type": "stream",
     "text": [
      "p-значение:  0.00034\n",
      "Отвергаем нулевую гипотезу: разница статистически значима, разница составила 33%\n"
     ]
    }
   ],
   "source": [
    "ordersSampleA = pd.concat([\n",
    "    ordersByUsersA[np.logical_not(ordersByUsersA['visitorId'].isin(abnormalUsers))]['orders'],\n",
    "    pd.Series(0,np.arange(visitorsADaily['visitorsPerDateA'].sum() - len(ordersByUsersA)), name='orders')\n",
    "                          ],\n",
    "    axis=0\n",
    "                         )\n",
    "\n",
    "ordersSampleB = pd.concat([\n",
    "    ordersByUsersB[np.logical_not(ordersByUsersB['visitorId'].isin(abnormalUsers))]['orders'],\n",
    "    pd.Series(0,np.arange(visitorsBDaily['visitorsPerDateB'].sum() - len(ordersByUsersB)), name='orders')\n",
    "                          ],\n",
    "    axis=0\n",
    "                         )\n",
    "\n",
    "\n",
    "p_value = stats.mannwhitneyu(ordersSampleA, ordersSampleB)[1]\n",
    "differenceBtoA = ordersSampleB.mean() / ordersSampleA.mean() - 1\n",
    "\n",
    "print('p-значение: ', '{0:.5f}'.format(p_value))\n",
    "\n",
    "if p_value < alpha:\n",
    "    print('Отвергаем нулевую гипотезу: разница статистически значима, разница составила', '{0:.0%}'.format(differenceBtoA))\n",
    "else:\n",
    "    print('Не получилось отвергнуть нулевую гипотезу, вывод о различии сделать нельзя')"
   ]
  },
  {
   "cell_type": "markdown",
   "metadata": {},
   "source": [
    "Итого по очищенным данным конверсия группы `B` превысила аналогичный показатель группы `A` на 33%. Скорее всего, в группе `B` в \"сырых данных\" были заказы, которые искажали статистику в пользу группы `B`. При этом `p-value` увеличился и составил 0.00034. Несмотря на снижение значимости, показатель `p-value` очень низкий\n",
    "\n",
    "Мы можем с уверенностью сказать, что после \"очищенния данных\" выявлена значимость в разнице между конверсиями двух групп, хоть и не такая высокая как на \"сырых данных\""
   ]
  },
  {
   "cell_type": "markdown",
   "metadata": {},
   "source": [
    "### Статистическая значимость различий в среднем чеке заказа между группами по «очищенным» данным"
   ]
  },
  {
   "cell_type": "markdown",
   "metadata": {},
   "source": [
    "Формулируем гипотезы:\n",
    "* H0: По \"очищенным данным\" средний чек группы 'B' равен среднему чеку группы 'A'\n",
    "* H1: По \"очищенным данным\" средний чек группы 'B' не равен среднему чеку группы 'A'"
   ]
  },
  {
   "cell_type": "code",
   "execution_count": 28,
   "metadata": {},
   "outputs": [
    {
     "name": "stdout",
     "output_type": "stream",
     "text": [
      "p-значение:  0.75287\n",
      "Не получилось отвергнуть нулевую гипотезу, вывод о различии сделать нельзя\n"
     ]
    }
   ],
   "source": [
    "warnings.filterwarnings(\"ignore\")\n",
    "\n",
    "p_value = stats.mannwhitneyu(orders.query('group == \"A\"')[np.logical_not(orders['visitorId'].isin(abnormalUsers))]['revenue']\n",
    "                                        , orders.query('group == \"B\"')[np.logical_not(orders['visitorId'].isin(abnormalUsers))]['revenue']\n",
    "                                         )[1]\n",
    "\n",
    "differenceBtoA = (orders.query('group == \"A\"')[np.logical_not(orders['visitorId'].isin(abnormalUsers))]['revenue'].mean() / \n",
    "                  orders.query('group == \"B\"')[np.logical_not(orders['visitorId'].isin(abnormalUsers))]['revenue'].mean() -1)\n",
    "\n",
    "print('p-значение: ', '{0:.5f}'.format(p_value))\n",
    "\n",
    "if p_value < alpha:\n",
    "    print('Отвергаем нулевую гипотезу: разница статистически значима, разница составила', '{0:.2f%}'.format(differenceBtoA))\n",
    "else:\n",
    "    print('Не получилось отвергнуть нулевую гипотезу, вывод о различии сделать нельзя')"
   ]
  },
  {
   "cell_type": "code",
   "execution_count": 29,
   "metadata": {},
   "outputs": [
    {
     "name": "stdout",
     "output_type": "stream",
     "text": [
      "0.75287\n"
     ]
    },
    {
     "data": {
      "text/plain": [
       "'2.26%'"
      ]
     },
     "execution_count": 29,
     "metadata": {},
     "output_type": "execute_result"
    }
   ],
   "source": [
    "print('{0:.5f}'.format(p_value))\n",
    "'{0:.2%}'.format(differenceBtoA)"
   ]
  },
  {
   "cell_type": "markdown",
   "metadata": {},
   "source": [
    "`p_value` стал ещё выше, а разница средних чеков стала значительно ниже. Можно с уверенностью сказать, что нулевая гипотеза не может быть отвергнута, и мы не можем утверждать о разнице средних чеков в двух исследуемых группах. Между чеками теперь почти нет разницы, что подтверждает предположение, что единичные выбросы искажали статистику"
   ]
  },
  {
   "cell_type": "markdown",
   "metadata": {},
   "source": [
    "### Итоги A/B-теста"
   ]
  },
  {
   "cell_type": "markdown",
   "metadata": {},
   "source": [
    "По первичныму исследованию было выявлено:\n",
    "* В течение исследуемого периода накопительная выручка группы `B` стала значительно превышать накопительную выручку группы `A`\n",
    "* Такое резко увеличение выручки было связано с резким увеличением среднего чека. При этом такая динамика явно указывала на аномально высокие средние чеки в группе `B`\n",
    "* По результатам оценки количества заказов на одного покупателя было выявлено, что всего 5% пользователей совершили 2 и более заказов. В основном пользователи совершили по одному заказу\n",
    "* По результатам оценки стоимостей заказов было выявлено, что только у 5% пользователей сумма заказа превышала 28 000 руб. При этом выявлено два заказа с аномально высокой ценой. Один заказ был стоимостью более 1,2 млн рублей\n",
    "\n",
    "В результате проверки статистики на значимость:\n",
    "* По \"сырым данным\" конверсия группы `B` превышала конверсию группы на 54%, разница подтвердилась статистически. После \"очистки\" данных от аномальных значений разница между конверсиями снизилась и составила 33% и также была подтверждена статистически\n",
    "* По \"сырым данным\" средний чек группы `B` был выше среднего чека группы на 26%, но эта разница не подтвердилась статистически. После \"очистки\" данных от аномальных значений разница между средними чеками двух групп стала незначительной, и эта разница также не была подтверждена статистически\n",
    "\n",
    "Итого: тест можно признать успешным. С учетом того, что на выручку влияют два показателя, а именно конверсия и средний чек, можно утверждать, что группа `B` проявила себя более эффективно с точки зрения конверсии. При этом статистической разницы между средними чеками не выявлено"
   ]
  }
 ],
 "metadata": {
  "ExecuteTimeLog": [
   {
    "duration": 908,
    "start_time": "2022-05-23T19:12:37.888Z"
   },
   {
    "duration": 441,
    "start_time": "2022-05-23T19:13:28.276Z"
   },
   {
    "duration": 508,
    "start_time": "2022-05-23T19:13:33.501Z"
   },
   {
    "duration": 74,
    "start_time": "2022-05-23T19:13:49.763Z"
   },
   {
    "duration": 33,
    "start_time": "2022-05-23T19:15:09.896Z"
   },
   {
    "duration": 32,
    "start_time": "2022-05-23T19:15:19.305Z"
   },
   {
    "duration": 34,
    "start_time": "2022-05-23T19:15:31.064Z"
   },
   {
    "duration": 12,
    "start_time": "2022-05-23T19:17:05.325Z"
   },
   {
    "duration": 37,
    "start_time": "2022-05-23T19:20:55.272Z"
   },
   {
    "duration": 18,
    "start_time": "2022-05-23T19:21:04.788Z"
   },
   {
    "duration": 14,
    "start_time": "2022-05-23T19:21:08.611Z"
   },
   {
    "duration": 7,
    "start_time": "2022-05-23T19:21:42.295Z"
   },
   {
    "duration": 10,
    "start_time": "2022-05-23T19:21:49.168Z"
   },
   {
    "duration": 12,
    "start_time": "2022-05-23T19:22:45.803Z"
   },
   {
    "duration": 9,
    "start_time": "2022-05-23T19:22:50.558Z"
   },
   {
    "duration": 3,
    "start_time": "2022-05-23T19:23:00.049Z"
   },
   {
    "duration": 290,
    "start_time": "2022-05-23T19:23:49.172Z"
   },
   {
    "duration": 18,
    "start_time": "2022-05-23T19:24:08.677Z"
   },
   {
    "duration": 16,
    "start_time": "2022-05-23T19:25:58.556Z"
   },
   {
    "duration": 23,
    "start_time": "2022-05-23T19:26:38.074Z"
   },
   {
    "duration": 8,
    "start_time": "2022-05-23T19:27:15.281Z"
   },
   {
    "duration": 37,
    "start_time": "2022-05-23T19:27:15.294Z"
   },
   {
    "duration": 3,
    "start_time": "2022-05-23T19:27:15.332Z"
   },
   {
    "duration": 12,
    "start_time": "2022-05-23T19:27:15.337Z"
   },
   {
    "duration": 14,
    "start_time": "2022-05-23T19:27:15.351Z"
   },
   {
    "duration": 12,
    "start_time": "2022-05-23T19:27:43.162Z"
   },
   {
    "duration": 112,
    "start_time": "2022-05-23T19:31:40.313Z"
   },
   {
    "duration": 50,
    "start_time": "2022-05-23T19:53:15.916Z"
   },
   {
    "duration": 113,
    "start_time": "2022-05-23T19:54:03.083Z"
   },
   {
    "duration": 3,
    "start_time": "2022-05-23T20:19:54.348Z"
   },
   {
    "duration": 49,
    "start_time": "2022-05-24T18:52:11.827Z"
   },
   {
    "duration": 49,
    "start_time": "2022-05-24T18:52:25.227Z"
   },
   {
    "duration": 1215,
    "start_time": "2022-05-24T18:52:37.019Z"
   },
   {
    "duration": 69,
    "start_time": "2022-05-24T18:52:38.236Z"
   },
   {
    "duration": 2,
    "start_time": "2022-05-24T18:52:38.307Z"
   },
   {
    "duration": 68,
    "start_time": "2022-05-24T18:52:38.311Z"
   },
   {
    "duration": 0,
    "start_time": "2022-05-24T18:52:38.380Z"
   },
   {
    "duration": 0,
    "start_time": "2022-05-24T18:52:38.382Z"
   },
   {
    "duration": 2,
    "start_time": "2022-05-24T18:52:53.142Z"
   },
   {
    "duration": 52,
    "start_time": "2022-05-24T18:52:53.146Z"
   },
   {
    "duration": 3,
    "start_time": "2022-05-24T18:52:53.199Z"
   },
   {
    "duration": 30,
    "start_time": "2022-05-24T18:52:53.203Z"
   },
   {
    "duration": 19,
    "start_time": "2022-05-24T18:52:53.234Z"
   },
   {
    "duration": 154,
    "start_time": "2022-05-24T18:52:53.254Z"
   },
   {
    "duration": 495,
    "start_time": "2022-05-24T19:20:41.870Z"
   },
   {
    "duration": 66,
    "start_time": "2022-05-24T19:22:49.135Z"
   },
   {
    "duration": 8,
    "start_time": "2022-05-24T19:27:09.879Z"
   },
   {
    "duration": 5,
    "start_time": "2022-05-24T19:28:19.881Z"
   },
   {
    "duration": 14,
    "start_time": "2022-05-24T19:28:30.657Z"
   },
   {
    "duration": 4,
    "start_time": "2022-05-24T19:28:57.327Z"
   },
   {
    "duration": 7,
    "start_time": "2022-05-24T19:29:02.401Z"
   },
   {
    "duration": 28,
    "start_time": "2022-05-24T19:29:25.129Z"
   },
   {
    "duration": 14,
    "start_time": "2022-05-24T19:30:14.316Z"
   },
   {
    "duration": 3,
    "start_time": "2022-05-24T19:31:10.235Z"
   },
   {
    "duration": 35,
    "start_time": "2022-05-24T19:31:10.240Z"
   },
   {
    "duration": 3,
    "start_time": "2022-05-24T19:31:10.277Z"
   },
   {
    "duration": 16,
    "start_time": "2022-05-24T19:31:10.282Z"
   },
   {
    "duration": 14,
    "start_time": "2022-05-24T19:31:10.300Z"
   },
   {
    "duration": 62,
    "start_time": "2022-05-24T19:31:10.316Z"
   },
   {
    "duration": 6,
    "start_time": "2022-05-24T19:31:10.380Z"
   },
   {
    "duration": 9,
    "start_time": "2022-05-24T19:31:10.387Z"
   },
   {
    "duration": 14,
    "start_time": "2022-05-24T19:31:10.397Z"
   },
   {
    "duration": 6,
    "start_time": "2022-05-24T19:31:10.412Z"
   },
   {
    "duration": 7,
    "start_time": "2022-05-24T19:33:51.676Z"
   },
   {
    "duration": 12,
    "start_time": "2022-05-24T19:39:51.588Z"
   },
   {
    "duration": 8,
    "start_time": "2022-05-24T19:39:56.749Z"
   },
   {
    "duration": 31,
    "start_time": "2022-05-24T19:41:27.141Z"
   },
   {
    "duration": 16,
    "start_time": "2022-05-24T19:41:37.234Z"
   },
   {
    "duration": 13,
    "start_time": "2022-05-24T19:43:53.747Z"
   },
   {
    "duration": 18,
    "start_time": "2022-05-24T19:44:13.242Z"
   },
   {
    "duration": 18,
    "start_time": "2022-05-24T19:45:36.181Z"
   },
   {
    "duration": 170,
    "start_time": "2022-05-24T19:45:52.490Z"
   },
   {
    "duration": 15,
    "start_time": "2022-05-24T19:46:14.599Z"
   },
   {
    "duration": 14,
    "start_time": "2022-05-24T19:47:12.424Z"
   },
   {
    "duration": 35,
    "start_time": "2022-05-24T20:01:16.442Z"
   },
   {
    "duration": 59,
    "start_time": "2022-05-24T20:01:37.096Z"
   },
   {
    "duration": 66,
    "start_time": "2022-05-24T20:01:52.656Z"
   },
   {
    "duration": 61,
    "start_time": "2022-05-24T20:01:56.487Z"
   },
   {
    "duration": 59,
    "start_time": "2022-05-24T20:02:53.360Z"
   },
   {
    "duration": 95,
    "start_time": "2022-05-24T20:03:54.271Z"
   },
   {
    "duration": 96,
    "start_time": "2022-05-24T20:05:45.258Z"
   },
   {
    "duration": 179,
    "start_time": "2022-05-24T20:06:46.271Z"
   },
   {
    "duration": 105,
    "start_time": "2022-05-24T20:07:06.058Z"
   },
   {
    "duration": 2,
    "start_time": "2022-05-24T20:07:24.899Z"
   },
   {
    "duration": 41,
    "start_time": "2022-05-24T20:07:24.904Z"
   },
   {
    "duration": 24,
    "start_time": "2022-05-24T20:07:24.947Z"
   },
   {
    "duration": 37,
    "start_time": "2022-05-24T20:07:24.972Z"
   },
   {
    "duration": 45,
    "start_time": "2022-05-24T20:07:25.011Z"
   },
   {
    "duration": 98,
    "start_time": "2022-05-24T20:07:25.058Z"
   },
   {
    "duration": 5,
    "start_time": "2022-05-24T20:07:25.158Z"
   },
   {
    "duration": 35,
    "start_time": "2022-05-24T20:07:25.165Z"
   },
   {
    "duration": 44,
    "start_time": "2022-05-24T20:07:25.201Z"
   },
   {
    "duration": 138,
    "start_time": "2022-05-24T20:07:25.247Z"
   },
   {
    "duration": 225,
    "start_time": "2022-05-24T20:07:38.936Z"
   },
   {
    "duration": 225,
    "start_time": "2022-05-24T20:07:45.887Z"
   },
   {
    "duration": 223,
    "start_time": "2022-05-24T20:08:26.271Z"
   },
   {
    "duration": 239,
    "start_time": "2022-05-24T20:08:38.399Z"
   },
   {
    "duration": 10,
    "start_time": "2022-05-24T20:14:06.357Z"
   },
   {
    "duration": 65,
    "start_time": "2022-05-25T14:46:14.580Z"
   },
   {
    "duration": 1246,
    "start_time": "2022-05-25T14:46:17.821Z"
   },
   {
    "duration": 76,
    "start_time": "2022-05-25T14:46:19.070Z"
   },
   {
    "duration": 3,
    "start_time": "2022-05-25T14:46:19.148Z"
   },
   {
    "duration": 28,
    "start_time": "2022-05-25T14:46:19.154Z"
   },
   {
    "duration": 19,
    "start_time": "2022-05-25T14:46:19.184Z"
   },
   {
    "duration": 202,
    "start_time": "2022-05-25T14:46:19.204Z"
   },
   {
    "duration": 6,
    "start_time": "2022-05-25T14:46:19.407Z"
   },
   {
    "duration": 11,
    "start_time": "2022-05-25T14:46:19.415Z"
   },
   {
    "duration": 20,
    "start_time": "2022-05-25T14:46:19.427Z"
   },
   {
    "duration": 303,
    "start_time": "2022-05-25T14:46:19.450Z"
   },
   {
    "duration": 552,
    "start_time": "2022-05-25T14:46:19.754Z"
   },
   {
    "duration": 287,
    "start_time": "2022-05-25T14:47:07.473Z"
   },
   {
    "duration": 876,
    "start_time": "2022-05-25T15:48:52.303Z"
   },
   {
    "duration": 265,
    "start_time": "2022-05-25T15:49:13.216Z"
   },
   {
    "duration": 276,
    "start_time": "2022-05-25T15:50:02.393Z"
   },
   {
    "duration": 264,
    "start_time": "2022-05-25T15:50:47.688Z"
   },
   {
    "duration": 265,
    "start_time": "2022-05-25T15:51:09.637Z"
   },
   {
    "duration": 288,
    "start_time": "2022-05-25T15:52:06.238Z"
   },
   {
    "duration": 267,
    "start_time": "2022-05-25T15:52:53.082Z"
   },
   {
    "duration": 10,
    "start_time": "2022-05-25T15:53:36.570Z"
   },
   {
    "duration": 172,
    "start_time": "2022-05-25T15:53:59.130Z"
   },
   {
    "duration": 184,
    "start_time": "2022-05-25T15:54:15.167Z"
   },
   {
    "duration": 185,
    "start_time": "2022-05-25T16:18:02.560Z"
   },
   {
    "duration": 264,
    "start_time": "2022-05-25T16:18:36.360Z"
   },
   {
    "duration": 304,
    "start_time": "2022-05-25T16:20:38.298Z"
   },
   {
    "duration": 320,
    "start_time": "2022-05-25T16:20:51.949Z"
   },
   {
    "duration": 176,
    "start_time": "2022-05-25T16:22:01.169Z"
   },
   {
    "duration": 1676,
    "start_time": "2022-05-25T18:59:54.220Z"
   },
   {
    "duration": 84,
    "start_time": "2022-05-25T18:59:55.898Z"
   },
   {
    "duration": 4,
    "start_time": "2022-05-25T18:59:55.984Z"
   },
   {
    "duration": 21,
    "start_time": "2022-05-25T18:59:55.990Z"
   },
   {
    "duration": 18,
    "start_time": "2022-05-25T18:59:56.014Z"
   },
   {
    "duration": 165,
    "start_time": "2022-05-25T18:59:56.037Z"
   },
   {
    "duration": 6,
    "start_time": "2022-05-25T18:59:56.203Z"
   },
   {
    "duration": 9,
    "start_time": "2022-05-25T18:59:56.211Z"
   },
   {
    "duration": 24,
    "start_time": "2022-05-25T18:59:56.222Z"
   },
   {
    "duration": 430,
    "start_time": "2022-05-25T18:59:56.248Z"
   },
   {
    "duration": 275,
    "start_time": "2022-05-25T18:59:56.680Z"
   },
   {
    "duration": 321,
    "start_time": "2022-05-25T18:59:56.956Z"
   },
   {
    "duration": 7,
    "start_time": "2022-05-25T18:59:57.279Z"
   },
   {
    "duration": 20,
    "start_time": "2022-05-25T19:00:50.331Z"
   },
   {
    "duration": 50,
    "start_time": "2022-05-25T19:03:06.587Z"
   },
   {
    "duration": 134,
    "start_time": "2022-05-25T19:03:17.774Z"
   },
   {
    "duration": 31,
    "start_time": "2022-05-25T19:03:31.918Z"
   },
   {
    "duration": 21,
    "start_time": "2022-05-25T19:03:41.610Z"
   },
   {
    "duration": 56,
    "start_time": "2022-05-25T19:04:04.939Z"
   },
   {
    "duration": 21,
    "start_time": "2022-05-25T19:04:14.879Z"
   },
   {
    "duration": 19,
    "start_time": "2022-05-25T19:04:27.765Z"
   },
   {
    "duration": 8,
    "start_time": "2022-05-25T19:05:07.438Z"
   },
   {
    "duration": 11,
    "start_time": "2022-05-25T19:05:47.418Z"
   },
   {
    "duration": 278,
    "start_time": "2022-05-25T19:19:18.154Z"
   },
   {
    "duration": 268,
    "start_time": "2022-05-25T19:19:28.040Z"
   },
   {
    "duration": 169,
    "start_time": "2022-05-25T19:19:53.459Z"
   },
   {
    "duration": 282,
    "start_time": "2022-05-25T19:20:43.456Z"
   },
   {
    "duration": 298,
    "start_time": "2022-05-25T19:20:57.063Z"
   },
   {
    "duration": 108,
    "start_time": "2022-05-25T19:32:18.787Z"
   },
   {
    "duration": 399,
    "start_time": "2022-05-25T19:36:11.891Z"
   },
   {
    "duration": 86,
    "start_time": "2022-05-25T19:36:17.612Z"
   },
   {
    "duration": 148,
    "start_time": "2022-05-25T19:37:26.677Z"
   },
   {
    "duration": 3,
    "start_time": "2022-05-25T20:03:56.160Z"
   },
   {
    "duration": 61,
    "start_time": "2022-05-25T20:03:56.165Z"
   },
   {
    "duration": 5,
    "start_time": "2022-05-25T20:03:56.228Z"
   },
   {
    "duration": 22,
    "start_time": "2022-05-25T20:03:56.235Z"
   },
   {
    "duration": 14,
    "start_time": "2022-05-25T20:03:56.259Z"
   },
   {
    "duration": 127,
    "start_time": "2022-05-25T20:03:56.275Z"
   },
   {
    "duration": 0,
    "start_time": "2022-05-25T20:03:56.403Z"
   },
   {
    "duration": 0,
    "start_time": "2022-05-25T20:03:56.404Z"
   },
   {
    "duration": 0,
    "start_time": "2022-05-25T20:03:56.405Z"
   },
   {
    "duration": 0,
    "start_time": "2022-05-25T20:03:56.406Z"
   },
   {
    "duration": 0,
    "start_time": "2022-05-25T20:03:56.408Z"
   },
   {
    "duration": 0,
    "start_time": "2022-05-25T20:03:56.409Z"
   },
   {
    "duration": 0,
    "start_time": "2022-05-25T20:03:56.410Z"
   },
   {
    "duration": 4,
    "start_time": "2022-05-25T20:04:12.896Z"
   },
   {
    "duration": 43,
    "start_time": "2022-05-25T20:04:12.903Z"
   },
   {
    "duration": 3,
    "start_time": "2022-05-25T20:04:12.948Z"
   },
   {
    "duration": 17,
    "start_time": "2022-05-25T20:04:12.953Z"
   },
   {
    "duration": 19,
    "start_time": "2022-05-25T20:04:12.971Z"
   },
   {
    "duration": 73,
    "start_time": "2022-05-25T20:04:12.992Z"
   },
   {
    "duration": 5,
    "start_time": "2022-05-25T20:04:13.067Z"
   },
   {
    "duration": 13,
    "start_time": "2022-05-25T20:04:13.074Z"
   },
   {
    "duration": 27,
    "start_time": "2022-05-25T20:04:13.089Z"
   },
   {
    "duration": 321,
    "start_time": "2022-05-25T20:04:13.118Z"
   },
   {
    "duration": 201,
    "start_time": "2022-05-25T20:04:13.442Z"
   },
   {
    "duration": 310,
    "start_time": "2022-05-25T20:04:13.645Z"
   },
   {
    "duration": 140,
    "start_time": "2022-05-25T20:04:13.958Z"
   },
   {
    "duration": 23,
    "start_time": "2022-05-25T20:05:28.354Z"
   },
   {
    "duration": 101,
    "start_time": "2022-05-25T20:06:08.578Z"
   },
   {
    "duration": 32,
    "start_time": "2022-05-25T20:10:07.124Z"
   },
   {
    "duration": 44,
    "start_time": "2022-05-25T20:10:31.468Z"
   },
   {
    "duration": 28,
    "start_time": "2022-05-25T20:10:47.440Z"
   },
   {
    "duration": 50,
    "start_time": "2022-05-25T20:11:05.921Z"
   },
   {
    "duration": 113,
    "start_time": "2022-05-25T20:11:19.379Z"
   },
   {
    "duration": 132,
    "start_time": "2022-05-25T20:11:27.713Z"
   },
   {
    "duration": 141,
    "start_time": "2022-05-25T20:14:04.172Z"
   },
   {
    "duration": 3,
    "start_time": "2022-05-25T20:14:39.161Z"
   },
   {
    "duration": 39,
    "start_time": "2022-05-25T20:14:39.166Z"
   },
   {
    "duration": 4,
    "start_time": "2022-05-25T20:14:39.207Z"
   },
   {
    "duration": 19,
    "start_time": "2022-05-25T20:14:39.212Z"
   },
   {
    "duration": 33,
    "start_time": "2022-05-25T20:14:39.234Z"
   },
   {
    "duration": 76,
    "start_time": "2022-05-25T20:14:39.268Z"
   },
   {
    "duration": 6,
    "start_time": "2022-05-25T20:14:39.346Z"
   },
   {
    "duration": 13,
    "start_time": "2022-05-25T20:14:39.354Z"
   },
   {
    "duration": 20,
    "start_time": "2022-05-25T20:14:39.369Z"
   },
   {
    "duration": 321,
    "start_time": "2022-05-25T20:14:39.391Z"
   },
   {
    "duration": 313,
    "start_time": "2022-05-25T20:14:39.714Z"
   },
   {
    "duration": 323,
    "start_time": "2022-05-25T20:14:40.031Z"
   },
   {
    "duration": 124,
    "start_time": "2022-05-25T20:14:40.357Z"
   },
   {
    "duration": 116,
    "start_time": "2022-05-25T20:15:35.140Z"
   },
   {
    "duration": 128,
    "start_time": "2022-05-25T20:16:53.964Z"
   },
   {
    "duration": 117,
    "start_time": "2022-05-25T20:17:15.494Z"
   },
   {
    "duration": 63,
    "start_time": "2022-05-25T20:24:17.303Z"
   },
   {
    "duration": 111,
    "start_time": "2022-05-25T20:25:03.881Z"
   },
   {
    "duration": 124,
    "start_time": "2022-05-25T20:25:11.319Z"
   },
   {
    "duration": 114,
    "start_time": "2022-05-25T20:25:15.843Z"
   },
   {
    "duration": 110,
    "start_time": "2022-05-25T20:25:29.773Z"
   },
   {
    "duration": 105,
    "start_time": "2022-05-25T20:25:35.184Z"
   },
   {
    "duration": 87,
    "start_time": "2022-05-25T20:35:38.128Z"
   },
   {
    "duration": 117,
    "start_time": "2022-05-25T20:35:48.362Z"
   },
   {
    "duration": 111,
    "start_time": "2022-05-25T20:38:00.722Z"
   },
   {
    "duration": 116,
    "start_time": "2022-05-25T20:38:58.978Z"
   },
   {
    "duration": 85,
    "start_time": "2022-05-25T20:39:04.348Z"
   },
   {
    "duration": 100,
    "start_time": "2022-05-25T20:39:12.749Z"
   },
   {
    "duration": 91,
    "start_time": "2022-05-25T20:40:06.672Z"
   },
   {
    "duration": 93,
    "start_time": "2022-05-25T20:40:53.542Z"
   },
   {
    "duration": 101,
    "start_time": "2022-05-25T20:41:01.109Z"
   },
   {
    "duration": 308,
    "start_time": "2022-05-25T20:43:38.676Z"
   },
   {
    "duration": 268,
    "start_time": "2022-05-25T20:46:36.798Z"
   },
   {
    "duration": 369,
    "start_time": "2022-05-25T20:48:09.500Z"
   },
   {
    "duration": 254,
    "start_time": "2022-05-25T20:48:34.052Z"
   },
   {
    "duration": 294,
    "start_time": "2022-05-25T20:48:40.315Z"
   },
   {
    "duration": 608,
    "start_time": "2022-05-25T20:49:36.013Z"
   },
   {
    "duration": 598,
    "start_time": "2022-05-25T20:49:54.648Z"
   },
   {
    "duration": 8,
    "start_time": "2022-05-25T20:51:56.375Z"
   },
   {
    "duration": 8,
    "start_time": "2022-05-25T20:52:16.634Z"
   },
   {
    "duration": 13,
    "start_time": "2022-05-25T20:53:28.905Z"
   },
   {
    "duration": 11,
    "start_time": "2022-05-25T20:53:40.664Z"
   },
   {
    "duration": 12,
    "start_time": "2022-05-25T20:54:05.536Z"
   },
   {
    "duration": 4,
    "start_time": "2022-05-25T20:57:49.439Z"
   },
   {
    "duration": 152,
    "start_time": "2022-05-25T20:57:54.664Z"
   },
   {
    "duration": 147,
    "start_time": "2022-05-25T20:58:17.628Z"
   },
   {
    "duration": 108,
    "start_time": "2022-05-25T20:59:02.228Z"
   },
   {
    "duration": 12,
    "start_time": "2022-05-25T20:59:56.473Z"
   },
   {
    "duration": 8,
    "start_time": "2022-05-25T21:00:28.095Z"
   },
   {
    "duration": 111,
    "start_time": "2022-05-25T21:00:40.874Z"
   },
   {
    "duration": 119,
    "start_time": "2022-05-25T21:01:11.756Z"
   },
   {
    "duration": 100,
    "start_time": "2022-05-25T21:01:18.560Z"
   },
   {
    "duration": 109,
    "start_time": "2022-05-25T21:02:15.160Z"
   },
   {
    "duration": 509,
    "start_time": "2022-05-25T21:03:37.293Z"
   },
   {
    "duration": 102,
    "start_time": "2022-05-25T21:03:45.587Z"
   },
   {
    "duration": 119,
    "start_time": "2022-05-25T21:04:15.174Z"
   },
   {
    "duration": 193,
    "start_time": "2022-05-25T21:04:34.577Z"
   },
   {
    "duration": 104,
    "start_time": "2022-05-25T21:04:47.960Z"
   },
   {
    "duration": 125,
    "start_time": "2022-05-25T21:04:52.172Z"
   },
   {
    "duration": 5,
    "start_time": "2022-05-25T21:06:15.511Z"
   },
   {
    "duration": 5,
    "start_time": "2022-05-25T21:06:54.286Z"
   },
   {
    "duration": 93,
    "start_time": "2022-05-26T13:21:46.492Z"
   },
   {
    "duration": 1834,
    "start_time": "2022-05-26T13:21:55.018Z"
   },
   {
    "duration": 104,
    "start_time": "2022-05-26T13:21:56.855Z"
   },
   {
    "duration": 3,
    "start_time": "2022-05-26T13:21:56.961Z"
   },
   {
    "duration": 26,
    "start_time": "2022-05-26T13:21:56.966Z"
   },
   {
    "duration": 30,
    "start_time": "2022-05-26T13:21:57.005Z"
   },
   {
    "duration": 227,
    "start_time": "2022-05-26T13:21:57.037Z"
   },
   {
    "duration": 10,
    "start_time": "2022-05-26T13:21:57.266Z"
   },
   {
    "duration": 19,
    "start_time": "2022-05-26T13:21:57.278Z"
   },
   {
    "duration": 69,
    "start_time": "2022-05-26T13:21:57.303Z"
   },
   {
    "duration": 479,
    "start_time": "2022-05-26T13:21:57.374Z"
   },
   {
    "duration": 334,
    "start_time": "2022-05-26T13:21:57.855Z"
   },
   {
    "duration": 377,
    "start_time": "2022-05-26T13:21:58.192Z"
   },
   {
    "duration": 410,
    "start_time": "2022-05-26T13:21:58.571Z"
   },
   {
    "duration": 363,
    "start_time": "2022-05-26T13:21:58.984Z"
   },
   {
    "duration": 181,
    "start_time": "2022-05-26T13:21:59.349Z"
   },
   {
    "duration": 7,
    "start_time": "2022-05-26T13:21:59.532Z"
   },
   {
    "duration": 168,
    "start_time": "2022-05-26T13:21:59.541Z"
   },
   {
    "duration": 18,
    "start_time": "2022-05-26T13:21:59.713Z"
   },
   {
    "duration": 14,
    "start_time": "2022-05-26T13:21:59.734Z"
   },
   {
    "duration": 74,
    "start_time": "2022-05-26T13:22:18.023Z"
   },
   {
    "duration": 10,
    "start_time": "2022-05-26T13:22:23.267Z"
   },
   {
    "duration": 164,
    "start_time": "2022-05-26T13:38:19.211Z"
   },
   {
    "duration": 128,
    "start_time": "2022-05-26T13:38:50.156Z"
   },
   {
    "duration": 205,
    "start_time": "2022-05-26T13:39:15.563Z"
   },
   {
    "duration": 209,
    "start_time": "2022-05-26T13:39:35.310Z"
   },
   {
    "duration": 225,
    "start_time": "2022-05-26T13:39:39.755Z"
   },
   {
    "duration": 6,
    "start_time": "2022-05-26T13:40:19.381Z"
   },
   {
    "duration": 5,
    "start_time": "2022-05-26T13:40:27.719Z"
   },
   {
    "duration": 8,
    "start_time": "2022-05-26T13:40:49.370Z"
   },
   {
    "duration": 16,
    "start_time": "2022-05-26T13:41:03.420Z"
   },
   {
    "duration": 7,
    "start_time": "2022-05-26T13:42:00.875Z"
   },
   {
    "duration": 13,
    "start_time": "2022-05-26T13:43:38.354Z"
   },
   {
    "duration": 15,
    "start_time": "2022-05-26T13:46:24.016Z"
   },
   {
    "duration": 9,
    "start_time": "2022-05-26T13:46:56.124Z"
   },
   {
    "duration": 21,
    "start_time": "2022-05-26T13:48:33.252Z"
   },
   {
    "duration": 19,
    "start_time": "2022-05-26T13:48:42.057Z"
   },
   {
    "duration": 12,
    "start_time": "2022-05-26T13:48:50.986Z"
   },
   {
    "duration": 11,
    "start_time": "2022-05-26T13:49:13.011Z"
   },
   {
    "duration": 15,
    "start_time": "2022-05-26T13:49:26.216Z"
   },
   {
    "duration": 17,
    "start_time": "2022-05-26T13:49:32.327Z"
   },
   {
    "duration": 24,
    "start_time": "2022-05-26T13:50:13.708Z"
   },
   {
    "duration": 24,
    "start_time": "2022-05-26T13:50:45.317Z"
   },
   {
    "duration": 430,
    "start_time": "2022-05-26T13:54:27.251Z"
   },
   {
    "duration": 11,
    "start_time": "2022-05-26T13:55:03.309Z"
   },
   {
    "duration": 12,
    "start_time": "2022-05-26T13:55:23.423Z"
   },
   {
    "duration": 13,
    "start_time": "2022-05-26T13:55:27.612Z"
   },
   {
    "duration": 50,
    "start_time": "2022-05-26T13:57:25.136Z"
   },
   {
    "duration": 56,
    "start_time": "2022-05-26T13:58:02.166Z"
   },
   {
    "duration": 38,
    "start_time": "2022-05-26T13:59:03.221Z"
   },
   {
    "duration": 38,
    "start_time": "2022-05-26T13:59:12.922Z"
   },
   {
    "duration": 38,
    "start_time": "2022-05-26T13:59:18.454Z"
   },
   {
    "duration": 57,
    "start_time": "2022-05-26T13:59:51.515Z"
   },
   {
    "duration": 43,
    "start_time": "2022-05-26T13:59:58.519Z"
   },
   {
    "duration": 63,
    "start_time": "2022-05-26T14:00:07.859Z"
   },
   {
    "duration": 57,
    "start_time": "2022-05-26T14:00:23.068Z"
   },
   {
    "duration": 16,
    "start_time": "2022-05-26T14:10:52.959Z"
   },
   {
    "duration": 55,
    "start_time": "2022-05-26T14:11:46.377Z"
   },
   {
    "duration": 67,
    "start_time": "2022-05-26T14:12:01.451Z"
   },
   {
    "duration": 42,
    "start_time": "2022-05-26T14:13:06.692Z"
   },
   {
    "duration": 58,
    "start_time": "2022-05-26T14:19:28.186Z"
   },
   {
    "duration": 16,
    "start_time": "2022-05-26T14:19:33.515Z"
   },
   {
    "duration": 34,
    "start_time": "2022-05-26T14:20:17.782Z"
   },
   {
    "duration": 23,
    "start_time": "2022-05-26T14:20:27.245Z"
   },
   {
    "duration": 24,
    "start_time": "2022-05-26T14:20:52.597Z"
   },
   {
    "duration": 11,
    "start_time": "2022-05-26T14:21:01.098Z"
   },
   {
    "duration": 13,
    "start_time": "2022-05-26T14:21:14.648Z"
   },
   {
    "duration": 23,
    "start_time": "2022-05-26T14:21:19.430Z"
   },
   {
    "duration": 10,
    "start_time": "2022-05-26T14:21:28.050Z"
   },
   {
    "duration": 64,
    "start_time": "2022-05-26T14:23:50.127Z"
   },
   {
    "duration": 18,
    "start_time": "2022-05-26T14:24:09.507Z"
   },
   {
    "duration": 14,
    "start_time": "2022-05-26T14:25:55.253Z"
   },
   {
    "duration": 25,
    "start_time": "2022-05-26T14:26:37.340Z"
   },
   {
    "duration": 17,
    "start_time": "2022-05-26T14:27:41.013Z"
   },
   {
    "duration": 21,
    "start_time": "2022-05-26T14:28:37.169Z"
   },
   {
    "duration": 18,
    "start_time": "2022-05-26T14:29:06.154Z"
   },
   {
    "duration": 9,
    "start_time": "2022-05-26T14:39:05.212Z"
   },
   {
    "duration": 17,
    "start_time": "2022-05-26T14:39:47.070Z"
   },
   {
    "duration": 12,
    "start_time": "2022-05-26T14:39:55.946Z"
   },
   {
    "duration": 20,
    "start_time": "2022-05-26T14:40:45.094Z"
   },
   {
    "duration": 15,
    "start_time": "2022-05-26T14:40:51.814Z"
   },
   {
    "duration": 11,
    "start_time": "2022-05-26T14:41:20.479Z"
   },
   {
    "duration": 12,
    "start_time": "2022-05-26T14:41:27.747Z"
   },
   {
    "duration": 8,
    "start_time": "2022-05-26T14:42:36.147Z"
   },
   {
    "duration": 15,
    "start_time": "2022-05-26T14:43:12.047Z"
   },
   {
    "duration": 14,
    "start_time": "2022-05-26T14:44:17.510Z"
   },
   {
    "duration": 11,
    "start_time": "2022-05-26T14:44:21.667Z"
   },
   {
    "duration": 3,
    "start_time": "2022-05-26T14:46:47.271Z"
   },
   {
    "duration": 44,
    "start_time": "2022-05-26T14:46:47.276Z"
   },
   {
    "duration": 3,
    "start_time": "2022-05-26T14:46:47.322Z"
   },
   {
    "duration": 20,
    "start_time": "2022-05-26T14:46:47.326Z"
   },
   {
    "duration": 16,
    "start_time": "2022-05-26T14:46:47.348Z"
   },
   {
    "duration": 83,
    "start_time": "2022-05-26T14:46:47.366Z"
   },
   {
    "duration": 6,
    "start_time": "2022-05-26T14:46:47.451Z"
   },
   {
    "duration": 15,
    "start_time": "2022-05-26T14:46:47.459Z"
   },
   {
    "duration": 32,
    "start_time": "2022-05-26T14:46:47.476Z"
   },
   {
    "duration": 303,
    "start_time": "2022-05-26T14:46:47.510Z"
   },
   {
    "duration": 200,
    "start_time": "2022-05-26T14:46:47.815Z"
   },
   {
    "duration": 436,
    "start_time": "2022-05-26T14:46:48.017Z"
   },
   {
    "duration": 316,
    "start_time": "2022-05-26T14:46:48.457Z"
   },
   {
    "duration": 349,
    "start_time": "2022-05-26T14:46:48.775Z"
   },
   {
    "duration": 252,
    "start_time": "2022-05-26T14:46:49.126Z"
   },
   {
    "duration": 7,
    "start_time": "2022-05-26T14:46:49.379Z"
   },
   {
    "duration": 144,
    "start_time": "2022-05-26T14:46:49.395Z"
   },
   {
    "duration": 6,
    "start_time": "2022-05-26T14:46:49.540Z"
   },
   {
    "duration": 55,
    "start_time": "2022-05-26T14:46:49.548Z"
   },
   {
    "duration": 17,
    "start_time": "2022-05-26T14:46:49.606Z"
   },
   {
    "duration": 11,
    "start_time": "2022-05-26T14:46:49.624Z"
   },
   {
    "duration": 9,
    "start_time": "2022-05-26T14:47:13.809Z"
   },
   {
    "duration": 11,
    "start_time": "2022-05-26T14:51:33.163Z"
   },
   {
    "duration": 9,
    "start_time": "2022-05-26T14:52:13.164Z"
   },
   {
    "duration": 12,
    "start_time": "2022-05-26T14:52:31.863Z"
   },
   {
    "duration": 28,
    "start_time": "2022-05-26T14:57:44.289Z"
   },
   {
    "duration": 21,
    "start_time": "2022-05-26T14:58:19.223Z"
   },
   {
    "duration": 32,
    "start_time": "2022-05-26T14:58:32.984Z"
   },
   {
    "duration": 11,
    "start_time": "2022-05-26T14:59:04.617Z"
   },
   {
    "duration": 9,
    "start_time": "2022-05-26T15:00:00.416Z"
   },
   {
    "duration": 11,
    "start_time": "2022-05-26T15:00:21.045Z"
   },
   {
    "duration": 0,
    "start_time": "2022-05-26T15:02:56.939Z"
   },
   {
    "duration": 0,
    "start_time": "2022-05-26T15:02:56.941Z"
   },
   {
    "duration": 0,
    "start_time": "2022-05-26T15:02:56.942Z"
   },
   {
    "duration": 0,
    "start_time": "2022-05-26T15:02:56.943Z"
   },
   {
    "duration": 0,
    "start_time": "2022-05-26T15:02:56.944Z"
   },
   {
    "duration": 0,
    "start_time": "2022-05-26T15:02:56.945Z"
   },
   {
    "duration": 0,
    "start_time": "2022-05-26T15:02:56.946Z"
   },
   {
    "duration": 0,
    "start_time": "2022-05-26T15:02:56.947Z"
   },
   {
    "duration": 0,
    "start_time": "2022-05-26T15:02:56.948Z"
   },
   {
    "duration": 0,
    "start_time": "2022-05-26T15:02:56.950Z"
   },
   {
    "duration": 0,
    "start_time": "2022-05-26T15:02:56.951Z"
   },
   {
    "duration": 0,
    "start_time": "2022-05-26T15:02:56.952Z"
   },
   {
    "duration": 0,
    "start_time": "2022-05-26T15:02:56.952Z"
   },
   {
    "duration": 0,
    "start_time": "2022-05-26T15:02:56.954Z"
   },
   {
    "duration": 0,
    "start_time": "2022-05-26T15:02:56.954Z"
   },
   {
    "duration": 0,
    "start_time": "2022-05-26T15:02:56.956Z"
   },
   {
    "duration": 0,
    "start_time": "2022-05-26T15:02:56.957Z"
   },
   {
    "duration": 0,
    "start_time": "2022-05-26T15:02:56.958Z"
   },
   {
    "duration": 0,
    "start_time": "2022-05-26T15:02:56.958Z"
   },
   {
    "duration": 0,
    "start_time": "2022-05-26T15:02:56.960Z"
   },
   {
    "duration": 0,
    "start_time": "2022-05-26T15:02:56.961Z"
   },
   {
    "duration": 0,
    "start_time": "2022-05-26T15:02:56.962Z"
   },
   {
    "duration": 33,
    "start_time": "2022-05-26T15:03:16.837Z"
   },
   {
    "duration": 4,
    "start_time": "2022-05-26T15:03:26.820Z"
   },
   {
    "duration": 65,
    "start_time": "2022-05-26T15:03:26.826Z"
   },
   {
    "duration": 14,
    "start_time": "2022-05-26T15:03:26.893Z"
   },
   {
    "duration": 56,
    "start_time": "2022-05-26T15:03:26.910Z"
   },
   {
    "duration": 16,
    "start_time": "2022-05-26T15:03:26.969Z"
   },
   {
    "duration": 101,
    "start_time": "2022-05-26T15:03:26.988Z"
   },
   {
    "duration": 10,
    "start_time": "2022-05-26T15:03:27.092Z"
   },
   {
    "duration": 29,
    "start_time": "2022-05-26T15:03:27.114Z"
   },
   {
    "duration": 28,
    "start_time": "2022-05-26T15:03:27.145Z"
   },
   {
    "duration": 367,
    "start_time": "2022-05-26T15:03:27.175Z"
   },
   {
    "duration": 217,
    "start_time": "2022-05-26T15:03:27.544Z"
   },
   {
    "duration": 367,
    "start_time": "2022-05-26T15:03:27.763Z"
   },
   {
    "duration": 317,
    "start_time": "2022-05-26T15:03:28.132Z"
   },
   {
    "duration": 288,
    "start_time": "2022-05-26T15:03:28.452Z"
   },
   {
    "duration": 277,
    "start_time": "2022-05-26T15:03:28.742Z"
   },
   {
    "duration": 24,
    "start_time": "2022-05-26T15:03:29.024Z"
   },
   {
    "duration": 189,
    "start_time": "2022-05-26T15:03:29.051Z"
   },
   {
    "duration": 7,
    "start_time": "2022-05-26T15:03:29.243Z"
   },
   {
    "duration": 204,
    "start_time": "2022-05-26T15:03:29.252Z"
   },
   {
    "duration": 17,
    "start_time": "2022-05-26T15:03:29.458Z"
   },
   {
    "duration": 8,
    "start_time": "2022-05-26T15:03:29.477Z"
   },
   {
    "duration": 47,
    "start_time": "2022-05-26T15:03:29.501Z"
   },
   {
    "duration": 1016,
    "start_time": "2022-05-26T15:09:47.568Z"
   },
   {
    "duration": 19,
    "start_time": "2022-05-26T15:10:18.718Z"
   },
   {
    "duration": 20,
    "start_time": "2022-05-26T15:10:46.251Z"
   },
   {
    "duration": 23,
    "start_time": "2022-05-26T15:11:34.211Z"
   },
   {
    "duration": 27,
    "start_time": "2022-05-26T15:11:46.043Z"
   },
   {
    "duration": 301,
    "start_time": "2022-05-26T15:22:25.317Z"
   },
   {
    "duration": 315,
    "start_time": "2022-05-26T15:22:30.565Z"
   },
   {
    "duration": 44,
    "start_time": "2022-05-26T15:22:43.622Z"
   },
   {
    "duration": 342,
    "start_time": "2022-05-26T15:22:59.225Z"
   },
   {
    "duration": 325,
    "start_time": "2022-05-26T15:23:07.038Z"
   },
   {
    "duration": 327,
    "start_time": "2022-05-26T15:23:14.313Z"
   },
   {
    "duration": 224,
    "start_time": "2022-05-26T15:27:09.841Z"
   },
   {
    "duration": 316,
    "start_time": "2022-05-26T15:34:02.759Z"
   },
   {
    "duration": 31,
    "start_time": "2022-05-26T15:36:24.047Z"
   },
   {
    "duration": 355,
    "start_time": "2022-05-26T15:41:03.291Z"
   },
   {
    "duration": 325,
    "start_time": "2022-05-26T15:43:06.922Z"
   },
   {
    "duration": 63,
    "start_time": "2022-05-26T16:07:25.558Z"
   },
   {
    "duration": 39,
    "start_time": "2022-05-26T16:07:53.229Z"
   },
   {
    "duration": 61,
    "start_time": "2022-05-26T16:08:11.282Z"
   },
   {
    "duration": 6,
    "start_time": "2022-05-26T16:08:35.840Z"
   },
   {
    "duration": 54,
    "start_time": "2022-05-26T16:09:26.359Z"
   },
   {
    "duration": 48,
    "start_time": "2022-05-26T16:09:39.198Z"
   },
   {
    "duration": 40,
    "start_time": "2022-05-26T16:10:01.253Z"
   },
   {
    "duration": 42,
    "start_time": "2022-05-26T16:10:22.995Z"
   },
   {
    "duration": 53,
    "start_time": "2022-05-26T16:13:21.417Z"
   },
   {
    "duration": 52,
    "start_time": "2022-05-26T16:13:26.889Z"
   },
   {
    "duration": 56,
    "start_time": "2022-05-26T16:13:34.264Z"
   },
   {
    "duration": 72,
    "start_time": "2022-05-26T18:09:01.908Z"
   },
   {
    "duration": 1307,
    "start_time": "2022-05-26T18:09:05.788Z"
   },
   {
    "duration": 98,
    "start_time": "2022-05-26T18:09:07.097Z"
   },
   {
    "duration": 4,
    "start_time": "2022-05-26T18:09:07.198Z"
   },
   {
    "duration": 22,
    "start_time": "2022-05-26T18:09:07.204Z"
   },
   {
    "duration": 14,
    "start_time": "2022-05-26T18:09:07.229Z"
   },
   {
    "duration": 239,
    "start_time": "2022-05-26T18:09:07.245Z"
   },
   {
    "duration": 11,
    "start_time": "2022-05-26T18:09:07.491Z"
   },
   {
    "duration": 16,
    "start_time": "2022-05-26T18:09:07.504Z"
   },
   {
    "duration": 24,
    "start_time": "2022-05-26T18:09:07.522Z"
   },
   {
    "duration": 469,
    "start_time": "2022-05-26T18:09:07.548Z"
   },
   {
    "duration": 294,
    "start_time": "2022-05-26T18:09:08.019Z"
   },
   {
    "duration": 367,
    "start_time": "2022-05-26T18:09:08.314Z"
   },
   {
    "duration": 328,
    "start_time": "2022-05-26T18:09:08.684Z"
   },
   {
    "duration": 346,
    "start_time": "2022-05-26T18:09:09.016Z"
   },
   {
    "duration": 211,
    "start_time": "2022-05-26T18:09:09.363Z"
   },
   {
    "duration": 11,
    "start_time": "2022-05-26T18:09:09.576Z"
   },
   {
    "duration": 135,
    "start_time": "2022-05-26T18:09:09.591Z"
   },
   {
    "duration": 4,
    "start_time": "2022-05-26T18:09:09.728Z"
   },
   {
    "duration": 115,
    "start_time": "2022-05-26T18:09:09.734Z"
   },
   {
    "duration": 0,
    "start_time": "2022-05-26T18:09:09.850Z"
   },
   {
    "duration": 0,
    "start_time": "2022-05-26T18:09:09.861Z"
   },
   {
    "duration": 0,
    "start_time": "2022-05-26T18:09:09.862Z"
   },
   {
    "duration": 0,
    "start_time": "2022-05-26T18:09:09.862Z"
   },
   {
    "duration": 38,
    "start_time": "2022-05-26T18:09:40.516Z"
   },
   {
    "duration": 45,
    "start_time": "2022-05-26T18:09:51.134Z"
   },
   {
    "duration": 39,
    "start_time": "2022-05-26T18:10:04.505Z"
   },
   {
    "duration": 39,
    "start_time": "2022-05-26T18:11:02.092Z"
   },
   {
    "duration": 67,
    "start_time": "2022-05-26T18:11:06.554Z"
   },
   {
    "duration": 21,
    "start_time": "2022-05-26T18:11:28.291Z"
   },
   {
    "duration": 47,
    "start_time": "2022-05-26T18:11:32.909Z"
   },
   {
    "duration": 34,
    "start_time": "2022-05-26T18:11:51.588Z"
   },
   {
    "duration": 13,
    "start_time": "2022-05-26T18:25:12.593Z"
   },
   {
    "duration": 25,
    "start_time": "2022-05-26T18:26:10.897Z"
   },
   {
    "duration": 4,
    "start_time": "2022-05-26T18:26:18.513Z"
   },
   {
    "duration": 9,
    "start_time": "2022-05-26T18:27:10.511Z"
   },
   {
    "duration": 10,
    "start_time": "2022-05-26T18:33:34.378Z"
   },
   {
    "duration": 5,
    "start_time": "2022-05-26T18:33:46.012Z"
   },
   {
    "duration": 12,
    "start_time": "2022-05-26T18:41:49.649Z"
   },
   {
    "duration": 33,
    "start_time": "2022-05-26T18:41:53.992Z"
   },
   {
    "duration": 9,
    "start_time": "2022-05-26T18:42:23.008Z"
   },
   {
    "duration": 33,
    "start_time": "2022-05-26T18:42:25.419Z"
   },
   {
    "duration": 7,
    "start_time": "2022-05-26T18:42:48.706Z"
   },
   {
    "duration": 55,
    "start_time": "2022-05-26T18:42:50.449Z"
   },
   {
    "duration": 16,
    "start_time": "2022-05-26T18:43:21.495Z"
   },
   {
    "duration": 39,
    "start_time": "2022-05-26T18:44:11.346Z"
   },
   {
    "duration": 22,
    "start_time": "2022-05-26T18:45:22.723Z"
   },
   {
    "duration": 5,
    "start_time": "2022-05-26T18:47:14.812Z"
   },
   {
    "duration": 15,
    "start_time": "2022-05-26T18:47:42.675Z"
   },
   {
    "duration": 9,
    "start_time": "2022-05-26T18:47:51.933Z"
   },
   {
    "duration": 16,
    "start_time": "2022-05-26T18:48:04.985Z"
   },
   {
    "duration": 9,
    "start_time": "2022-05-26T18:48:10.881Z"
   },
   {
    "duration": 9,
    "start_time": "2022-05-26T18:48:29.912Z"
   },
   {
    "duration": 5,
    "start_time": "2022-05-26T18:48:38.334Z"
   },
   {
    "duration": 16,
    "start_time": "2022-05-26T18:48:46.305Z"
   },
   {
    "duration": 17,
    "start_time": "2022-05-26T18:49:03.016Z"
   },
   {
    "duration": 5,
    "start_time": "2022-05-26T18:49:04.413Z"
   },
   {
    "duration": 3,
    "start_time": "2022-05-26T18:49:19.710Z"
   },
   {
    "duration": 34,
    "start_time": "2022-05-26T18:49:19.714Z"
   },
   {
    "duration": 2,
    "start_time": "2022-05-26T18:49:19.750Z"
   },
   {
    "duration": 33,
    "start_time": "2022-05-26T18:49:19.755Z"
   },
   {
    "duration": 14,
    "start_time": "2022-05-26T18:49:19.790Z"
   },
   {
    "duration": 65,
    "start_time": "2022-05-26T18:49:19.805Z"
   },
   {
    "duration": 6,
    "start_time": "2022-05-26T18:49:19.874Z"
   },
   {
    "duration": 13,
    "start_time": "2022-05-26T18:49:19.882Z"
   },
   {
    "duration": 18,
    "start_time": "2022-05-26T18:49:19.898Z"
   },
   {
    "duration": 343,
    "start_time": "2022-05-26T18:49:19.917Z"
   },
   {
    "duration": 197,
    "start_time": "2022-05-26T18:49:20.273Z"
   },
   {
    "duration": 309,
    "start_time": "2022-05-26T18:49:20.472Z"
   },
   {
    "duration": 315,
    "start_time": "2022-05-26T18:49:20.783Z"
   },
   {
    "duration": 291,
    "start_time": "2022-05-26T18:49:21.100Z"
   },
   {
    "duration": 198,
    "start_time": "2022-05-26T18:49:21.393Z"
   },
   {
    "duration": 5,
    "start_time": "2022-05-26T18:49:21.592Z"
   },
   {
    "duration": 229,
    "start_time": "2022-05-26T18:49:21.599Z"
   },
   {
    "duration": 5,
    "start_time": "2022-05-26T18:49:21.829Z"
   },
   {
    "duration": 54,
    "start_time": "2022-05-26T18:49:21.836Z"
   },
   {
    "duration": 14,
    "start_time": "2022-05-26T18:49:21.891Z"
   },
   {
    "duration": 4,
    "start_time": "2022-05-26T18:49:21.907Z"
   },
   {
    "duration": 23,
    "start_time": "2022-05-26T18:49:21.912Z"
   },
   {
    "duration": 48,
    "start_time": "2022-05-26T18:49:21.936Z"
   },
   {
    "duration": 16,
    "start_time": "2022-05-26T18:49:21.987Z"
   },
   {
    "duration": 4,
    "start_time": "2022-05-26T18:49:22.005Z"
   },
   {
    "duration": 29,
    "start_time": "2022-05-26T18:49:22.010Z"
   },
   {
    "duration": 9,
    "start_time": "2022-05-26T18:54:30.443Z"
   },
   {
    "duration": 12,
    "start_time": "2022-05-26T18:54:48.976Z"
   },
   {
    "duration": 12,
    "start_time": "2022-05-26T18:54:59.809Z"
   },
   {
    "duration": 8,
    "start_time": "2022-05-26T18:55:17.408Z"
   },
   {
    "duration": 5,
    "start_time": "2022-05-26T18:55:22.375Z"
   },
   {
    "duration": 42,
    "start_time": "2022-05-26T18:55:22.382Z"
   },
   {
    "duration": 3,
    "start_time": "2022-05-26T18:55:22.426Z"
   },
   {
    "duration": 17,
    "start_time": "2022-05-26T18:55:22.430Z"
   },
   {
    "duration": 49,
    "start_time": "2022-05-26T18:55:22.449Z"
   },
   {
    "duration": 60,
    "start_time": "2022-05-26T18:55:22.500Z"
   },
   {
    "duration": 6,
    "start_time": "2022-05-26T18:55:22.564Z"
   },
   {
    "duration": 27,
    "start_time": "2022-05-26T18:55:22.572Z"
   },
   {
    "duration": 18,
    "start_time": "2022-05-26T18:55:22.601Z"
   },
   {
    "duration": 373,
    "start_time": "2022-05-26T18:55:22.620Z"
   },
   {
    "duration": 240,
    "start_time": "2022-05-26T18:55:22.998Z"
   },
   {
    "duration": 383,
    "start_time": "2022-05-26T18:55:23.240Z"
   },
   {
    "duration": 367,
    "start_time": "2022-05-26T18:55:23.625Z"
   },
   {
    "duration": 335,
    "start_time": "2022-05-26T18:55:23.995Z"
   },
   {
    "duration": 251,
    "start_time": "2022-05-26T18:55:24.331Z"
   },
   {
    "duration": 6,
    "start_time": "2022-05-26T18:55:24.584Z"
   },
   {
    "duration": 149,
    "start_time": "2022-05-26T18:55:24.592Z"
   },
   {
    "duration": 6,
    "start_time": "2022-05-26T18:55:24.743Z"
   },
   {
    "duration": 80,
    "start_time": "2022-05-26T18:55:24.751Z"
   },
   {
    "duration": 15,
    "start_time": "2022-05-26T18:55:24.833Z"
   },
   {
    "duration": 8,
    "start_time": "2022-05-26T18:55:24.850Z"
   },
   {
    "duration": 49,
    "start_time": "2022-05-26T18:55:24.861Z"
   },
   {
    "duration": 59,
    "start_time": "2022-05-26T18:55:24.912Z"
   },
   {
    "duration": 27,
    "start_time": "2022-05-26T18:55:24.974Z"
   },
   {
    "duration": 20,
    "start_time": "2022-05-26T18:55:25.002Z"
   },
   {
    "duration": 60,
    "start_time": "2022-05-26T18:55:25.024Z"
   },
   {
    "duration": 1430,
    "start_time": "2022-05-27T15:45:03.495Z"
   },
   {
    "duration": 67,
    "start_time": "2022-05-27T15:45:04.928Z"
   },
   {
    "duration": 4,
    "start_time": "2022-05-27T15:45:04.996Z"
   },
   {
    "duration": 20,
    "start_time": "2022-05-27T15:45:05.002Z"
   },
   {
    "duration": 13,
    "start_time": "2022-05-27T15:45:05.025Z"
   },
   {
    "duration": 147,
    "start_time": "2022-05-27T15:45:05.040Z"
   },
   {
    "duration": 5,
    "start_time": "2022-05-27T15:45:05.189Z"
   },
   {
    "duration": 11,
    "start_time": "2022-05-27T15:45:05.196Z"
   },
   {
    "duration": 31,
    "start_time": "2022-05-27T15:45:05.209Z"
   },
   {
    "duration": 428,
    "start_time": "2022-05-27T15:45:05.242Z"
   },
   {
    "duration": 283,
    "start_time": "2022-05-27T15:45:05.672Z"
   },
   {
    "duration": 409,
    "start_time": "2022-05-27T15:45:05.956Z"
   },
   {
    "duration": 319,
    "start_time": "2022-05-27T15:45:06.368Z"
   },
   {
    "duration": 346,
    "start_time": "2022-05-27T15:45:06.689Z"
   },
   {
    "duration": 220,
    "start_time": "2022-05-27T15:45:07.037Z"
   },
   {
    "duration": 6,
    "start_time": "2022-05-27T15:45:07.260Z"
   },
   {
    "duration": 146,
    "start_time": "2022-05-27T15:45:07.268Z"
   },
   {
    "duration": 5,
    "start_time": "2022-05-27T15:45:07.416Z"
   },
   {
    "duration": 62,
    "start_time": "2022-05-27T15:45:07.423Z"
   },
   {
    "duration": 14,
    "start_time": "2022-05-27T15:45:07.487Z"
   },
   {
    "duration": 20,
    "start_time": "2022-05-27T15:45:07.502Z"
   },
   {
    "duration": 32,
    "start_time": "2022-05-27T15:45:07.524Z"
   },
   {
    "duration": 53,
    "start_time": "2022-05-27T15:45:07.558Z"
   },
   {
    "duration": 16,
    "start_time": "2022-05-27T15:45:07.613Z"
   },
   {
    "duration": 30,
    "start_time": "2022-05-27T15:45:07.631Z"
   },
   {
    "duration": 3,
    "start_time": "2022-05-27T15:45:21.832Z"
   },
   {
    "duration": 37,
    "start_time": "2022-05-27T15:45:21.837Z"
   },
   {
    "duration": 3,
    "start_time": "2022-05-27T15:45:21.876Z"
   },
   {
    "duration": 18,
    "start_time": "2022-05-27T15:45:21.881Z"
   },
   {
    "duration": 17,
    "start_time": "2022-05-27T15:45:21.901Z"
   },
   {
    "duration": 67,
    "start_time": "2022-05-27T15:45:21.919Z"
   },
   {
    "duration": 6,
    "start_time": "2022-05-27T15:45:21.988Z"
   },
   {
    "duration": 12,
    "start_time": "2022-05-27T15:45:21.996Z"
   },
   {
    "duration": 19,
    "start_time": "2022-05-27T15:45:22.010Z"
   },
   {
    "duration": 336,
    "start_time": "2022-05-27T15:45:22.031Z"
   },
   {
    "duration": 238,
    "start_time": "2022-05-27T15:45:22.369Z"
   },
   {
    "duration": 341,
    "start_time": "2022-05-27T15:45:22.609Z"
   },
   {
    "duration": 357,
    "start_time": "2022-05-27T15:45:22.952Z"
   },
   {
    "duration": 335,
    "start_time": "2022-05-27T15:45:23.312Z"
   },
   {
    "duration": 209,
    "start_time": "2022-05-27T15:45:23.649Z"
   },
   {
    "duration": 6,
    "start_time": "2022-05-27T15:45:23.860Z"
   },
   {
    "duration": 257,
    "start_time": "2022-05-27T15:45:23.868Z"
   },
   {
    "duration": 6,
    "start_time": "2022-05-27T15:45:24.127Z"
   },
   {
    "duration": 60,
    "start_time": "2022-05-27T15:45:24.134Z"
   },
   {
    "duration": 16,
    "start_time": "2022-05-27T15:45:24.196Z"
   },
   {
    "duration": 7,
    "start_time": "2022-05-27T15:45:24.214Z"
   },
   {
    "duration": 13,
    "start_time": "2022-05-27T15:45:24.223Z"
   },
   {
    "duration": 60,
    "start_time": "2022-05-27T15:45:24.238Z"
   },
   {
    "duration": 17,
    "start_time": "2022-05-27T15:45:24.300Z"
   },
   {
    "duration": 6,
    "start_time": "2022-05-27T15:45:24.319Z"
   },
   {
    "duration": 21,
    "start_time": "2022-05-27T15:52:51.082Z"
   },
   {
    "duration": 4,
    "start_time": "2022-05-27T15:53:01.395Z"
   },
   {
    "duration": 48,
    "start_time": "2022-05-27T15:53:01.401Z"
   },
   {
    "duration": 3,
    "start_time": "2022-05-27T15:53:01.451Z"
   },
   {
    "duration": 30,
    "start_time": "2022-05-27T15:53:01.455Z"
   },
   {
    "duration": 17,
    "start_time": "2022-05-27T15:53:01.486Z"
   },
   {
    "duration": 79,
    "start_time": "2022-05-27T15:53:01.505Z"
   },
   {
    "duration": 5,
    "start_time": "2022-05-27T15:53:01.586Z"
   },
   {
    "duration": 10,
    "start_time": "2022-05-27T15:53:01.593Z"
   },
   {
    "duration": 15,
    "start_time": "2022-05-27T15:53:01.605Z"
   },
   {
    "duration": 324,
    "start_time": "2022-05-27T15:53:01.622Z"
   },
   {
    "duration": 206,
    "start_time": "2022-05-27T15:53:01.949Z"
   },
   {
    "duration": 316,
    "start_time": "2022-05-27T15:53:02.156Z"
   },
   {
    "duration": 326,
    "start_time": "2022-05-27T15:53:02.474Z"
   },
   {
    "duration": 319,
    "start_time": "2022-05-27T15:53:02.802Z"
   },
   {
    "duration": 200,
    "start_time": "2022-05-27T15:53:03.123Z"
   },
   {
    "duration": 5,
    "start_time": "2022-05-27T15:53:03.325Z"
   },
   {
    "duration": 135,
    "start_time": "2022-05-27T15:53:03.332Z"
   },
   {
    "duration": 5,
    "start_time": "2022-05-27T15:53:03.469Z"
   },
   {
    "duration": 53,
    "start_time": "2022-05-27T15:53:03.476Z"
   },
   {
    "duration": 16,
    "start_time": "2022-05-27T15:53:03.531Z"
   },
   {
    "duration": 9,
    "start_time": "2022-05-27T15:53:03.549Z"
   },
   {
    "duration": 10,
    "start_time": "2022-05-27T15:53:03.560Z"
   },
   {
    "duration": 52,
    "start_time": "2022-05-27T15:53:03.572Z"
   },
   {
    "duration": 19,
    "start_time": "2022-05-27T15:53:03.626Z"
   },
   {
    "duration": 5,
    "start_time": "2022-05-27T15:53:03.647Z"
   },
   {
    "duration": 1156,
    "start_time": "2022-05-28T19:44:31.409Z"
   },
   {
    "duration": 71,
    "start_time": "2022-05-28T19:44:32.567Z"
   },
   {
    "duration": 3,
    "start_time": "2022-05-28T19:44:32.640Z"
   },
   {
    "duration": 27,
    "start_time": "2022-05-28T19:44:32.647Z"
   },
   {
    "duration": 13,
    "start_time": "2022-05-28T19:44:32.675Z"
   },
   {
    "duration": 147,
    "start_time": "2022-05-28T19:44:32.689Z"
   },
   {
    "duration": 8,
    "start_time": "2022-05-28T19:44:32.838Z"
   },
   {
    "duration": 19,
    "start_time": "2022-05-28T19:44:32.848Z"
   },
   {
    "duration": 22,
    "start_time": "2022-05-28T19:44:32.869Z"
   },
   {
    "duration": 385,
    "start_time": "2022-05-28T19:44:32.893Z"
   },
   {
    "duration": 259,
    "start_time": "2022-05-28T19:44:33.279Z"
   },
   {
    "duration": 356,
    "start_time": "2022-05-28T19:44:33.540Z"
   },
   {
    "duration": 313,
    "start_time": "2022-05-28T19:44:33.898Z"
   },
   {
    "duration": 279,
    "start_time": "2022-05-28T19:44:34.213Z"
   },
   {
    "duration": 203,
    "start_time": "2022-05-28T19:44:34.494Z"
   },
   {
    "duration": 5,
    "start_time": "2022-05-28T19:44:34.699Z"
   },
   {
    "duration": 126,
    "start_time": "2022-05-28T19:44:34.705Z"
   },
   {
    "duration": 5,
    "start_time": "2022-05-28T19:44:34.832Z"
   },
   {
    "duration": 42,
    "start_time": "2022-05-28T19:44:34.838Z"
   },
   {
    "duration": 12,
    "start_time": "2022-05-28T19:44:34.882Z"
   },
   {
    "duration": 4,
    "start_time": "2022-05-28T19:44:34.895Z"
   },
   {
    "duration": 7,
    "start_time": "2022-05-28T19:44:34.901Z"
   },
   {
    "duration": 50,
    "start_time": "2022-05-28T19:44:34.909Z"
   },
   {
    "duration": 17,
    "start_time": "2022-05-28T19:44:34.960Z"
   },
   {
    "duration": 4,
    "start_time": "2022-05-28T19:44:34.978Z"
   },
   {
    "duration": 4,
    "start_time": "2022-05-28T19:45:32.281Z"
   },
   {
    "duration": 6,
    "start_time": "2022-05-28T19:46:07.404Z"
   },
   {
    "duration": 8,
    "start_time": "2022-05-28T19:49:47.679Z"
   },
   {
    "duration": 10,
    "start_time": "2022-05-28T20:11:02.044Z"
   },
   {
    "duration": 1418,
    "start_time": "2022-05-28T20:22:45.896Z"
   },
   {
    "duration": 85,
    "start_time": "2022-05-28T20:22:47.317Z"
   },
   {
    "duration": 4,
    "start_time": "2022-05-28T20:22:47.404Z"
   },
   {
    "duration": 28,
    "start_time": "2022-05-28T20:22:47.410Z"
   },
   {
    "duration": 23,
    "start_time": "2022-05-28T20:22:47.442Z"
   },
   {
    "duration": 250,
    "start_time": "2022-05-28T20:22:47.467Z"
   },
   {
    "duration": 7,
    "start_time": "2022-05-28T20:22:47.720Z"
   },
   {
    "duration": 13,
    "start_time": "2022-05-28T20:22:47.729Z"
   },
   {
    "duration": 23,
    "start_time": "2022-05-28T20:22:47.744Z"
   },
   {
    "duration": 496,
    "start_time": "2022-05-28T20:22:47.770Z"
   },
   {
    "duration": 308,
    "start_time": "2022-05-28T20:22:48.268Z"
   },
   {
    "duration": 394,
    "start_time": "2022-05-28T20:22:48.577Z"
   },
   {
    "duration": 340,
    "start_time": "2022-05-28T20:22:48.974Z"
   },
   {
    "duration": 296,
    "start_time": "2022-05-28T20:22:49.317Z"
   },
   {
    "duration": 208,
    "start_time": "2022-05-28T20:22:49.615Z"
   },
   {
    "duration": 5,
    "start_time": "2022-05-28T20:22:49.824Z"
   },
   {
    "duration": 155,
    "start_time": "2022-05-28T20:22:49.831Z"
   },
   {
    "duration": 6,
    "start_time": "2022-05-28T20:22:49.988Z"
   },
   {
    "duration": 58,
    "start_time": "2022-05-28T20:22:49.996Z"
   },
   {
    "duration": 22,
    "start_time": "2022-05-28T20:22:50.056Z"
   },
   {
    "duration": 22,
    "start_time": "2022-05-28T20:22:50.079Z"
   },
   {
    "duration": 31,
    "start_time": "2022-05-28T20:22:50.103Z"
   },
   {
    "duration": 54,
    "start_time": "2022-05-28T20:22:50.136Z"
   },
   {
    "duration": 18,
    "start_time": "2022-05-28T20:22:50.192Z"
   },
   {
    "duration": 18,
    "start_time": "2022-05-28T20:22:50.211Z"
   },
   {
    "duration": 9,
    "start_time": "2022-05-28T20:25:33.776Z"
   },
   {
    "duration": 46,
    "start_time": "2022-05-28T20:26:25.939Z"
   },
   {
    "duration": 15,
    "start_time": "2022-05-28T20:26:50.589Z"
   },
   {
    "duration": 11,
    "start_time": "2022-05-28T20:26:55.615Z"
   },
   {
    "duration": 62,
    "start_time": "2022-05-28T20:27:11.318Z"
   },
   {
    "duration": 21,
    "start_time": "2022-05-28T20:28:11.594Z"
   },
   {
    "duration": 7,
    "start_time": "2022-05-28T20:28:19.275Z"
   },
   {
    "duration": 14,
    "start_time": "2022-05-28T20:28:37.138Z"
   },
   {
    "duration": 9,
    "start_time": "2022-05-28T20:28:49.732Z"
   },
   {
    "duration": 33,
    "start_time": "2022-05-28T20:29:53.260Z"
   },
   {
    "duration": 24,
    "start_time": "2022-05-28T20:30:05.499Z"
   },
   {
    "duration": 8,
    "start_time": "2022-05-28T20:30:13.975Z"
   },
   {
    "duration": 13,
    "start_time": "2022-05-28T20:31:01.313Z"
   },
   {
    "duration": 15,
    "start_time": "2022-05-28T20:32:28.845Z"
   },
   {
    "duration": 7,
    "start_time": "2022-05-28T20:32:34.450Z"
   },
   {
    "duration": 9,
    "start_time": "2022-05-28T20:32:45.608Z"
   },
   {
    "duration": 8,
    "start_time": "2022-05-28T20:33:03.985Z"
   },
   {
    "duration": 7,
    "start_time": "2022-05-28T20:33:21.385Z"
   },
   {
    "duration": 3,
    "start_time": "2022-05-28T20:33:26.487Z"
   },
   {
    "duration": 39,
    "start_time": "2022-05-28T20:33:26.493Z"
   },
   {
    "duration": 3,
    "start_time": "2022-05-28T20:33:26.534Z"
   },
   {
    "duration": 23,
    "start_time": "2022-05-28T20:33:26.539Z"
   },
   {
    "duration": 29,
    "start_time": "2022-05-28T20:33:26.564Z"
   },
   {
    "duration": 70,
    "start_time": "2022-05-28T20:33:26.595Z"
   },
   {
    "duration": 9,
    "start_time": "2022-05-28T20:33:26.668Z"
   },
   {
    "duration": 14,
    "start_time": "2022-05-28T20:33:26.679Z"
   },
   {
    "duration": 19,
    "start_time": "2022-05-28T20:33:26.695Z"
   },
   {
    "duration": 355,
    "start_time": "2022-05-28T20:33:26.716Z"
   },
   {
    "duration": 323,
    "start_time": "2022-05-28T20:33:27.073Z"
   },
   {
    "duration": 347,
    "start_time": "2022-05-28T20:33:27.399Z"
   },
   {
    "duration": 380,
    "start_time": "2022-05-28T20:33:27.749Z"
   },
   {
    "duration": 324,
    "start_time": "2022-05-28T20:33:28.130Z"
   },
   {
    "duration": 236,
    "start_time": "2022-05-28T20:33:28.455Z"
   },
   {
    "duration": 6,
    "start_time": "2022-05-28T20:33:28.692Z"
   },
   {
    "duration": 252,
    "start_time": "2022-05-28T20:33:28.699Z"
   },
   {
    "duration": 10,
    "start_time": "2022-05-28T20:33:28.953Z"
   },
   {
    "duration": 52,
    "start_time": "2022-05-28T20:33:28.965Z"
   },
   {
    "duration": 15,
    "start_time": "2022-05-28T20:33:29.020Z"
   },
   {
    "duration": 15,
    "start_time": "2022-05-28T20:33:29.036Z"
   },
   {
    "duration": 22,
    "start_time": "2022-05-28T20:33:29.058Z"
   },
   {
    "duration": 38,
    "start_time": "2022-05-28T20:33:29.082Z"
   },
   {
    "duration": 19,
    "start_time": "2022-05-28T20:33:29.124Z"
   },
   {
    "duration": 15,
    "start_time": "2022-05-28T20:33:29.145Z"
   },
   {
    "duration": 39,
    "start_time": "2022-05-28T20:34:55.880Z"
   },
   {
    "duration": 130,
    "start_time": "2022-05-28T20:40:16.473Z"
   },
   {
    "duration": 14,
    "start_time": "2022-05-28T20:40:31.442Z"
   },
   {
    "duration": 20,
    "start_time": "2022-05-28T20:40:50.207Z"
   },
   {
    "duration": 145,
    "start_time": "2022-05-28T20:41:02.347Z"
   },
   {
    "duration": 189,
    "start_time": "2022-05-28T20:41:27.221Z"
   },
   {
    "duration": 138,
    "start_time": "2022-05-28T20:42:57.834Z"
   },
   {
    "duration": 55,
    "start_time": "2022-05-28T22:17:36.402Z"
   },
   {
    "duration": 1264,
    "start_time": "2022-05-28T22:17:41.493Z"
   },
   {
    "duration": 89,
    "start_time": "2022-05-28T22:17:42.760Z"
   },
   {
    "duration": 4,
    "start_time": "2022-05-28T22:17:42.850Z"
   },
   {
    "duration": 22,
    "start_time": "2022-05-28T22:17:42.856Z"
   },
   {
    "duration": 23,
    "start_time": "2022-05-28T22:17:42.889Z"
   },
   {
    "duration": 176,
    "start_time": "2022-05-28T22:17:42.914Z"
   },
   {
    "duration": 9,
    "start_time": "2022-05-28T22:17:43.091Z"
   },
   {
    "duration": 16,
    "start_time": "2022-05-28T22:17:43.101Z"
   },
   {
    "duration": 16,
    "start_time": "2022-05-28T22:17:43.119Z"
   },
   {
    "duration": 558,
    "start_time": "2022-05-28T22:17:43.136Z"
   },
   {
    "duration": 0,
    "start_time": "2022-05-28T22:17:43.700Z"
   },
   {
    "duration": 0,
    "start_time": "2022-05-28T22:17:43.701Z"
   },
   {
    "duration": 0,
    "start_time": "2022-05-28T22:17:43.702Z"
   },
   {
    "duration": 0,
    "start_time": "2022-05-28T22:17:43.703Z"
   },
   {
    "duration": 0,
    "start_time": "2022-05-28T22:17:43.704Z"
   },
   {
    "duration": 0,
    "start_time": "2022-05-28T22:17:43.705Z"
   },
   {
    "duration": 0,
    "start_time": "2022-05-28T22:17:43.706Z"
   },
   {
    "duration": 0,
    "start_time": "2022-05-28T22:17:43.707Z"
   },
   {
    "duration": 0,
    "start_time": "2022-05-28T22:17:43.708Z"
   },
   {
    "duration": 0,
    "start_time": "2022-05-28T22:17:43.709Z"
   },
   {
    "duration": 0,
    "start_time": "2022-05-28T22:17:43.710Z"
   },
   {
    "duration": 0,
    "start_time": "2022-05-28T22:17:43.711Z"
   },
   {
    "duration": 0,
    "start_time": "2022-05-28T22:17:43.712Z"
   },
   {
    "duration": 0,
    "start_time": "2022-05-28T22:17:43.713Z"
   },
   {
    "duration": 0,
    "start_time": "2022-05-28T22:17:43.714Z"
   },
   {
    "duration": 0,
    "start_time": "2022-05-28T22:17:43.715Z"
   },
   {
    "duration": 326,
    "start_time": "2022-05-28T22:18:01.598Z"
   },
   {
    "duration": 288,
    "start_time": "2022-05-28T22:18:19.226Z"
   },
   {
    "duration": 303,
    "start_time": "2022-05-28T22:18:55.359Z"
   },
   {
    "duration": 3,
    "start_time": "2022-05-28T22:19:06.391Z"
   },
   {
    "duration": 36,
    "start_time": "2022-05-28T22:19:06.396Z"
   },
   {
    "duration": 4,
    "start_time": "2022-05-28T22:19:06.433Z"
   },
   {
    "duration": 12,
    "start_time": "2022-05-28T22:19:06.439Z"
   },
   {
    "duration": 14,
    "start_time": "2022-05-28T22:19:06.453Z"
   },
   {
    "duration": 64,
    "start_time": "2022-05-28T22:19:06.468Z"
   },
   {
    "duration": 5,
    "start_time": "2022-05-28T22:19:06.533Z"
   },
   {
    "duration": 11,
    "start_time": "2022-05-28T22:19:06.539Z"
   },
   {
    "duration": 16,
    "start_time": "2022-05-28T22:19:06.552Z"
   },
   {
    "duration": 334,
    "start_time": "2022-05-28T22:19:06.569Z"
   },
   {
    "duration": 203,
    "start_time": "2022-05-28T22:19:06.905Z"
   },
   {
    "duration": 343,
    "start_time": "2022-05-28T22:19:07.109Z"
   },
   {
    "duration": 286,
    "start_time": "2022-05-28T22:19:07.454Z"
   },
   {
    "duration": 375,
    "start_time": "2022-05-28T22:19:07.742Z"
   },
   {
    "duration": 467,
    "start_time": "2022-05-28T22:19:08.119Z"
   },
   {
    "duration": 4,
    "start_time": "2022-05-28T22:19:08.588Z"
   },
   {
    "duration": 143,
    "start_time": "2022-05-28T22:19:08.596Z"
   },
   {
    "duration": 124,
    "start_time": "2022-05-28T22:19:08.740Z"
   },
   {
    "duration": 13,
    "start_time": "2022-05-28T22:19:08.866Z"
   },
   {
    "duration": 43,
    "start_time": "2022-05-28T22:19:08.881Z"
   },
   {
    "duration": 13,
    "start_time": "2022-05-28T22:19:08.926Z"
   },
   {
    "duration": 5,
    "start_time": "2022-05-28T22:19:08.940Z"
   },
   {
    "duration": 19,
    "start_time": "2022-05-28T22:19:08.947Z"
   },
   {
    "duration": 30,
    "start_time": "2022-05-28T22:19:08.981Z"
   },
   {
    "duration": 17,
    "start_time": "2022-05-28T22:19:09.013Z"
   },
   {
    "duration": 4,
    "start_time": "2022-05-28T22:19:09.032Z"
   },
   {
    "duration": 348,
    "start_time": "2022-05-28T22:21:27.856Z"
   },
   {
    "duration": 418,
    "start_time": "2022-05-28T22:22:10.790Z"
   },
   {
    "duration": 291,
    "start_time": "2022-05-28T22:24:04.332Z"
   },
   {
    "duration": 295,
    "start_time": "2022-05-28T22:24:15.534Z"
   },
   {
    "duration": 202,
    "start_time": "2022-05-28T22:25:18.710Z"
   },
   {
    "duration": 231,
    "start_time": "2022-05-28T22:26:20.238Z"
   },
   {
    "duration": 142,
    "start_time": "2022-05-28T22:27:38.958Z"
   },
   {
    "duration": 167,
    "start_time": "2022-05-28T22:27:56.642Z"
   },
   {
    "duration": 3,
    "start_time": "2022-05-28T22:28:17.259Z"
   },
   {
    "duration": 43,
    "start_time": "2022-05-28T22:28:17.264Z"
   },
   {
    "duration": 3,
    "start_time": "2022-05-28T22:28:17.309Z"
   },
   {
    "duration": 12,
    "start_time": "2022-05-28T22:28:17.314Z"
   },
   {
    "duration": 12,
    "start_time": "2022-05-28T22:28:17.329Z"
   },
   {
    "duration": 67,
    "start_time": "2022-05-28T22:28:17.343Z"
   },
   {
    "duration": 5,
    "start_time": "2022-05-28T22:28:17.411Z"
   },
   {
    "duration": 9,
    "start_time": "2022-05-28T22:28:17.418Z"
   },
   {
    "duration": 15,
    "start_time": "2022-05-28T22:28:17.428Z"
   },
   {
    "duration": 299,
    "start_time": "2022-05-28T22:28:17.445Z"
   },
   {
    "duration": 202,
    "start_time": "2022-05-28T22:28:17.746Z"
   },
   {
    "duration": 358,
    "start_time": "2022-05-28T22:28:17.949Z"
   },
   {
    "duration": 310,
    "start_time": "2022-05-28T22:28:18.309Z"
   },
   {
    "duration": 291,
    "start_time": "2022-05-28T22:28:18.622Z"
   },
   {
    "duration": 297,
    "start_time": "2022-05-28T22:28:18.915Z"
   },
   {
    "duration": 5,
    "start_time": "2022-05-28T22:28:19.213Z"
   },
   {
    "duration": 146,
    "start_time": "2022-05-28T22:28:19.219Z"
   },
   {
    "duration": 141,
    "start_time": "2022-05-28T22:28:19.366Z"
   },
   {
    "duration": 5,
    "start_time": "2022-05-28T22:28:19.508Z"
   },
   {
    "duration": 32,
    "start_time": "2022-05-28T22:28:19.515Z"
   },
   {
    "duration": 36,
    "start_time": "2022-05-28T22:28:19.548Z"
   },
   {
    "duration": 8,
    "start_time": "2022-05-28T22:28:19.586Z"
   },
   {
    "duration": 6,
    "start_time": "2022-05-28T22:28:19.596Z"
   },
   {
    "duration": 32,
    "start_time": "2022-05-28T22:28:19.603Z"
   },
   {
    "duration": 46,
    "start_time": "2022-05-28T22:28:19.637Z"
   },
   {
    "duration": 5,
    "start_time": "2022-05-28T22:28:19.690Z"
   },
   {
    "duration": 215,
    "start_time": "2022-05-28T22:31:14.092Z"
   },
   {
    "duration": 5,
    "start_time": "2022-05-28T22:34:14.311Z"
   },
   {
    "duration": 5,
    "start_time": "2022-05-28T22:35:09.365Z"
   },
   {
    "duration": 4,
    "start_time": "2022-05-28T22:35:58.928Z"
   },
   {
    "duration": 12,
    "start_time": "2022-05-28T22:39:41.028Z"
   },
   {
    "duration": 181,
    "start_time": "2022-05-28T22:40:00.105Z"
   },
   {
    "duration": 1141,
    "start_time": "2022-06-15T10:37:43.545Z"
   },
   {
    "duration": 147,
    "start_time": "2022-06-15T10:37:44.688Z"
   },
   {
    "duration": 7,
    "start_time": "2022-06-15T10:37:44.837Z"
   },
   {
    "duration": 33,
    "start_time": "2022-06-15T10:37:44.846Z"
   },
   {
    "duration": 13,
    "start_time": "2022-06-15T10:37:44.882Z"
   },
   {
    "duration": 215,
    "start_time": "2022-06-15T10:37:44.896Z"
   },
   {
    "duration": 163,
    "start_time": "2022-06-15T10:37:45.113Z"
   },
   {
    "duration": 6,
    "start_time": "2022-06-15T10:37:45.278Z"
   },
   {
    "duration": 21,
    "start_time": "2022-06-15T10:37:45.286Z"
   },
   {
    "duration": 23,
    "start_time": "2022-06-15T10:37:45.309Z"
   },
   {
    "duration": 21,
    "start_time": "2022-06-15T10:37:45.335Z"
   },
   {
    "duration": 21,
    "start_time": "2022-06-15T10:37:45.357Z"
   },
   {
    "duration": 413,
    "start_time": "2022-06-15T10:37:45.380Z"
   },
   {
    "duration": 222,
    "start_time": "2022-06-15T10:37:45.796Z"
   },
   {
    "duration": 353,
    "start_time": "2022-06-15T10:37:46.020Z"
   },
   {
    "duration": 340,
    "start_time": "2022-06-15T10:37:46.375Z"
   },
   {
    "duration": 344,
    "start_time": "2022-06-15T10:37:46.726Z"
   },
   {
    "duration": 234,
    "start_time": "2022-06-15T10:37:47.071Z"
   },
   {
    "duration": 6,
    "start_time": "2022-06-15T10:37:47.306Z"
   },
   {
    "duration": 154,
    "start_time": "2022-06-15T10:37:47.313Z"
   },
   {
    "duration": 142,
    "start_time": "2022-06-15T10:37:47.469Z"
   },
   {
    "duration": 16,
    "start_time": "2022-06-15T10:37:47.612Z"
   },
   {
    "duration": 118,
    "start_time": "2022-06-15T10:37:47.631Z"
   },
   {
    "duration": 15,
    "start_time": "2022-06-15T10:37:47.750Z"
   },
   {
    "duration": 5,
    "start_time": "2022-06-15T10:37:47.766Z"
   },
   {
    "duration": 9,
    "start_time": "2022-06-15T10:37:47.772Z"
   },
   {
    "duration": 59,
    "start_time": "2022-06-15T10:37:47.783Z"
   },
   {
    "duration": 18,
    "start_time": "2022-06-15T10:37:47.844Z"
   },
   {
    "duration": 4,
    "start_time": "2022-06-15T10:37:47.864Z"
   },
   {
    "duration": 37,
    "start_time": "2022-06-15T10:38:35.428Z"
   },
   {
    "duration": 45,
    "start_time": "2022-06-15T10:39:10.598Z"
   },
   {
    "duration": 39,
    "start_time": "2022-06-15T10:55:53.849Z"
   },
   {
    "duration": 33,
    "start_time": "2022-06-15T10:57:12.790Z"
   },
   {
    "duration": 38,
    "start_time": "2022-06-15T13:37:14.173Z"
   }
  ],
  "kernelspec": {
   "display_name": "Python 3 (ipykernel)",
   "language": "python",
   "name": "python3"
  },
  "language_info": {
   "codemirror_mode": {
    "name": "ipython",
    "version": 3
   },
   "file_extension": ".py",
   "mimetype": "text/x-python",
   "name": "python",
   "nbconvert_exporter": "python",
   "pygments_lexer": "ipython3",
   "version": "3.9.5"
  },
  "toc": {
   "base_numbering": 1,
   "nav_menu": {},
   "number_sections": true,
   "sideBar": true,
   "skip_h1_title": true,
   "title_cell": "Содержание",
   "title_sidebar": "Contents",
   "toc_cell": true,
   "toc_position": {
    "height": "calc(100% - 180px)",
    "left": "10px",
    "top": "150px",
    "width": "288px"
   },
   "toc_section_display": true,
   "toc_window_display": true
  }
 },
 "nbformat": 4,
 "nbformat_minor": 2
}
