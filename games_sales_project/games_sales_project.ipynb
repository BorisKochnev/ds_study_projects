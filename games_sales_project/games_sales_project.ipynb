{
 "cells": [
  {
   "cell_type": "markdown",
   "metadata": {},
   "source": [
    "# Проект \"Анализ продаж компьютерных игр для интернет-магазина электроники\""
   ]
  },
  {
   "cell_type": "markdown",
   "metadata": {},
   "source": [
    "<strong>Описание проекта:</strong> коллеги интернет-магазина электроники попросили подготовить исследование, которое позволит спланировать рекламные кампании и закупки в категории \"компьютерные игры\"\n",
    "\n",
    "<strong>Цель проекта:</strong> выявить закономерности, определяющие потенциальный успех игры"
   ]
  },
  {
   "cell_type": "markdown",
   "metadata": {
    "toc": true
   },
   "source": [
    "<h1>Содержание<span class=\"tocSkip\"></span></h1>\n",
    "<div class=\"toc\"><ul class=\"toc-item\"><li><span><a href=\"#Изучение-данных\" data-toc-modified-id=\"Изучение-данных-1\"><span class=\"toc-item-num\">1&nbsp;&nbsp;</span>Изучение данных</a></span></li><li><span><a href=\"#Подготовка-данных\" data-toc-modified-id=\"Подготовка-данных-2\"><span class=\"toc-item-num\">2&nbsp;&nbsp;</span>Подготовка данных</a></span><ul class=\"toc-item\"><li><span><a href=\"#Замена-названий-столбцов\" data-toc-modified-id=\"Замена-названий-столбцов-2.1\"><span class=\"toc-item-num\">2.1&nbsp;&nbsp;</span>Замена названий столбцов</a></span></li><li><span><a href=\"#Преобразование-форматов\" data-toc-modified-id=\"Преобразование-форматов-2.2\"><span class=\"toc-item-num\">2.2&nbsp;&nbsp;</span>Преобразование форматов</a></span></li><li><span><a href=\"#Обработка-пропусков\" data-toc-modified-id=\"Обработка-пропусков-2.3\"><span class=\"toc-item-num\">2.3&nbsp;&nbsp;</span>Обработка пропусков</a></span></li><li><span><a href=\"#Проверить-данные-на-аномалии\" data-toc-modified-id=\"Проверить-данные-на-аномалии-2.4\"><span class=\"toc-item-num\">2.4&nbsp;&nbsp;</span>Проверить данные на аномалии</a></span></li><li><span><a href=\"#Посчитать-суммарные-продажи-и-записать-их-в-отдельный-столбец\" data-toc-modified-id=\"Посчитать-суммарные-продажи-и-записать-их-в-отдельный-столбец-2.5\"><span class=\"toc-item-num\">2.5&nbsp;&nbsp;</span>Посчитать суммарные продажи и записать их в отдельный столбец</a></span></li></ul></li><li><span><a href=\"#Исследовательский-анализ-данных\" data-toc-modified-id=\"Исследовательский-анализ-данных-3\"><span class=\"toc-item-num\">3&nbsp;&nbsp;</span>Исследовательский анализ данных</a></span><ul class=\"toc-item\"><li><span><a href=\"#Сколько-игр-выпускалось-в-разные-годы?-Важны-ли-данные-за-все-периоды?\" data-toc-modified-id=\"Сколько-игр-выпускалось-в-разные-годы?-Важны-ли-данные-за-все-периоды?-3.1\"><span class=\"toc-item-num\">3.1&nbsp;&nbsp;</span>Сколько игр выпускалось в разные годы? Важны ли данные за все периоды?</a></span></li><li><span><a href=\"#Выбрать-платформы-с-наибольшими-суммарными-продажами-и-построить-распределение-по-годам.-За-какой-характерный-срок-появляются-новые-и-исчезают-старые-платформы?\" data-toc-modified-id=\"Выбрать-платформы-с-наибольшими-суммарными-продажами-и-построить-распределение-по-годам.-За-какой-характерный-срок-появляются-новые-и-исчезают-старые-платформы?-3.2\"><span class=\"toc-item-num\">3.2&nbsp;&nbsp;</span>Выбрать платформы с наибольшими суммарными продажами и построить распределение по годам. За какой характерный срок появляются новые и исчезают старые платформы?</a></span></li><li><span><a href=\"#Выявление-лидеров-по-продажам-и-выбор-несколько-потенциально-прибыльных-платформ\" data-toc-modified-id=\"Выявление-лидеров-по-продажам-и-выбор-несколько-потенциально-прибыльных-платформ-3.3\"><span class=\"toc-item-num\">3.3&nbsp;&nbsp;</span>Выявление лидеров по продажам и выбор несколько потенциально прибыльных платформ</a></span></li><li><span><a href=\"#Определение-актуального-периода-для-анализа\" data-toc-modified-id=\"Определение-актуального-периода-для-анализа-3.4\"><span class=\"toc-item-num\">3.4&nbsp;&nbsp;</span>Определение актуального периода для анализа</a></span></li><li><span><a href=\"#График-&quot;ящик-с-усами&quot;-по-глобальным-продажам-игр-в-разбивке-по-платформам\" data-toc-modified-id=\"График-&quot;ящик-с-усами&quot;-по-глобальным-продажам-игр-в-разбивке-по-платформам-3.5\"><span class=\"toc-item-num\">3.5&nbsp;&nbsp;</span>График \"ящик с усами\" по глобальным продажам игр в разбивке по платформам</a></span></li><li><span><a href=\"#Как-отзывы-пользователей-и-критиков-влияют-на-продажи-внутри-одной-платформы.-Построить-диаграмму-рассеяния-и-посчитать-корреляцию-между-отзывами-и-продажами\" data-toc-modified-id=\"Как-отзывы-пользователей-и-критиков-влияют-на-продажи-внутри-одной-платформы.-Построить-диаграмму-рассеяния-и-посчитать-корреляцию-между-отзывами-и-продажами-3.6\"><span class=\"toc-item-num\">3.6&nbsp;&nbsp;</span>Как отзывы пользователей и критиков влияют на продажи внутри одной платформы. Построить диаграмму рассеяния и посчитать корреляцию между отзывами и продажами</a></span></li><li><span><a href=\"#Изучение-распределения-игр-по-жанрам,-выделить-жанры-с-высокими-и-низкими-продажами\" data-toc-modified-id=\"Изучение-распределения-игр-по-жанрам,-выделить-жанры-с-высокими-и-низкими-продажами-3.7\"><span class=\"toc-item-num\">3.7&nbsp;&nbsp;</span>Изучение распределения игр по жанрам, выделить жанры с высокими и низкими продажами</a></span></li></ul></li><li><span><a href=\"#Составить-портрет-пользователя-каждого-региона:\" data-toc-modified-id=\"Составить-портрет-пользователя-каждого-региона:-4\"><span class=\"toc-item-num\">4&nbsp;&nbsp;</span>Составить портрет пользователя каждого региона:</a></span><ul class=\"toc-item\"><li><span><a href=\"#Топ-5-самых-популярных-платформ.-Описать-различия-в-долях-продаж\" data-toc-modified-id=\"Топ-5-самых-популярных-платформ.-Описать-различия-в-долях-продаж-4.1\"><span class=\"toc-item-num\">4.1&nbsp;&nbsp;</span>Топ-5 самых популярных платформ. Описать различия в долях продаж</a></span></li><li><span><a href=\"#Топ-5-самых-популярных-жанров.-Пояснить-разницу\" data-toc-modified-id=\"Топ-5-самых-популярных-жанров.-Пояснить-разницу-4.2\"><span class=\"toc-item-num\">4.2&nbsp;&nbsp;</span>Топ-5 самых популярных жанров. Пояснить разницу</a></span></li><li><span><a href=\"#Оценить,-влияет-ли-рейтинг-ERSB-на-продажи-в-отдельном-регионе\" data-toc-modified-id=\"Оценить,-влияет-ли-рейтинг-ERSB-на-продажи-в-отдельном-регионе-4.3\"><span class=\"toc-item-num\">4.3&nbsp;&nbsp;</span>Оценить, влияет ли рейтинг ERSB на продажи в отдельном регионе</a></span></li></ul></li><li><span><a href=\"#Проверить-гипотезы:\" data-toc-modified-id=\"Проверить-гипотезы:-5\"><span class=\"toc-item-num\">5&nbsp;&nbsp;</span>Проверить гипотезы:</a></span><ul class=\"toc-item\"><li><span><a href=\"#Средние-пользовательские-рейтинги-платформ-Xbox-One-и-PC-одинаковые\" data-toc-modified-id=\"Средние-пользовательские-рейтинги-платформ-Xbox-One-и-PC-одинаковые-5.1\"><span class=\"toc-item-num\">5.1&nbsp;&nbsp;</span>Средние пользовательские рейтинги платформ Xbox One и PC одинаковые</a></span></li><li><span><a href=\"#Средние-пользовательские-рейтинги-жанров-Action-и-Sports-разные\" data-toc-modified-id=\"Средние-пользовательские-рейтинги-жанров-Action-и-Sports-разные-5.2\"><span class=\"toc-item-num\">5.2&nbsp;&nbsp;</span>Средние пользовательские рейтинги жанров Action и Sports разные</a></span></li></ul></li><li><span><a href=\"#Общий-вывод:\" data-toc-modified-id=\"Общий-вывод:-6\"><span class=\"toc-item-num\">6&nbsp;&nbsp;</span>Общий вывод:</a></span></li></ul></div>"
   ]
  },
  {
   "cell_type": "markdown",
   "id": "e096da5e",
   "metadata": {},
   "source": [
    "## Изучение данных"
   ]
  },
  {
   "cell_type": "code",
   "execution_count": 153,
   "id": "e11cd345",
   "metadata": {
    "scrolled": false
   },
   "outputs": [],
   "source": [
    "import pandas as pd\n",
    "import matplotlib.pyplot as plt\n",
    "import statistics\n",
    "import warnings\n",
    "from scipy import stats as st"
   ]
  },
  {
   "cell_type": "code",
   "execution_count": 154,
   "id": "36b4b2ce",
   "metadata": {
    "scrolled": true
   },
   "outputs": [
    {
     "name": "stdout",
     "output_type": "stream",
     "text": [
      "<class 'pandas.core.frame.DataFrame'>\n",
      "RangeIndex: 16715 entries, 0 to 16714\n",
      "Data columns (total 11 columns):\n",
      " #   Column           Non-Null Count  Dtype  \n",
      "---  ------           --------------  -----  \n",
      " 0   Name             16713 non-null  object \n",
      " 1   Platform         16715 non-null  object \n",
      " 2   Year_of_Release  16446 non-null  float64\n",
      " 3   Genre            16713 non-null  object \n",
      " 4   NA_sales         16715 non-null  float64\n",
      " 5   EU_sales         16715 non-null  float64\n",
      " 6   JP_sales         16715 non-null  float64\n",
      " 7   Other_sales      16715 non-null  float64\n",
      " 8   Critic_Score     8137 non-null   float64\n",
      " 9   User_Score       10014 non-null  object \n",
      " 10  Rating           9949 non-null   object \n",
      "dtypes: float64(6), object(5)\n",
      "memory usage: 1.4+ MB\n"
     ]
    }
   ],
   "source": [
    "df = pd.read_csv('/datasets/games.csv')\n",
    "df.info()"
   ]
  },
  {
   "cell_type": "markdown",
   "id": "7ab2f2e7",
   "metadata": {},
   "source": [
    "Итак, таблица состоит из 11 столбцов:\n",
    "* `Name` - название игры\n",
    "* `Platform` - платформа\n",
    "* `Year_of_Release` - год выпуска\n",
    "* `Genre` - жанр\n",
    "* `NA_sales` - продажи в Северной Америке (в млн копий)\n",
    "* `EU_sales` - продажи в Европе (в млн копий)\n",
    "* `JP_sales` - продажи в Японии (в млн копий)\n",
    "* `Other_sales` - продажи в других странах\n",
    "* `Critic_Score` - оценка критиков по 100-бальной шкале\n",
    "* `User_Score` - оценка пользователей по 10-бальной шкале\n",
    "* `Rating` - возрастной рейтинг ESRB\n",
    "\n",
    "Замечены первичные особенности таблицы:\n",
    "* Стоит привести названия столбцов в единый строчный формат\n",
    "* У столбца `User_Score` неподходящий формат данных\n",
    "* В столбцах `Name`, `Year_of_Release`, `Genre`, `Critic_Score`, `User_Score`, `Rating` есть пропущенные значения\n",
    "\n"
   ]
  },
  {
   "cell_type": "markdown",
   "id": "41c3f3d9",
   "metadata": {},
   "source": [
    "## Подготовка данных"
   ]
  },
  {
   "cell_type": "markdown",
   "id": "65d019ea",
   "metadata": {},
   "source": [
    "### Замена названий столбцов"
   ]
  },
  {
   "cell_type": "code",
   "execution_count": 155,
   "id": "cedb7ca2",
   "metadata": {},
   "outputs": [],
   "source": [
    "df.columns = df.columns.str.lower()"
   ]
  },
  {
   "cell_type": "markdown",
   "id": "b9ed1f49",
   "metadata": {},
   "source": [
    "### Преобразование форматов"
   ]
  },
  {
   "cell_type": "code",
   "execution_count": 156,
   "id": "945637b7",
   "metadata": {},
   "outputs": [
    {
     "data": {
      "text/plain": [
       "array(['8', nan, '8.3', '8.5', '6.6', '8.4', '8.6', '7.7', '6.3', '7.4',\n",
       "       '8.2', '9', '7.9', '8.1', '8.7', '7.1', '3.4', '5.3', '4.8', '3.2',\n",
       "       '8.9', '6.4', '7.8', '7.5', '2.6', '7.2', '9.2', '7', '7.3', '4.3',\n",
       "       '7.6', '5.7', '5', '9.1', '6.5', 'tbd', '8.8', '6.9', '9.4', '6.8',\n",
       "       '6.1', '6.7', '5.4', '4', '4.9', '4.5', '9.3', '6.2', '4.2', '6',\n",
       "       '3.7', '4.1', '5.8', '5.6', '5.5', '4.4', '4.6', '5.9', '3.9',\n",
       "       '3.1', '2.9', '5.2', '3.3', '4.7', '5.1', '3.5', '2.5', '1.9', '3',\n",
       "       '2.7', '2.2', '2', '9.5', '2.1', '3.6', '2.8', '1.8', '3.8', '0',\n",
       "       '1.6', '9.6', '2.4', '1.7', '1.1', '0.3', '1.5', '0.7', '1.2',\n",
       "       '2.3', '0.5', '1.3', '0.2', '0.6', '1.4', '0.9', '1', '9.7'],\n",
       "      dtype=object)"
      ]
     },
     "execution_count": 156,
     "metadata": {},
     "output_type": "execute_result"
    }
   ],
   "source": [
    "df['user_score'].unique()"
   ]
  },
  {
   "cell_type": "markdown",
   "id": "fd3bce91",
   "metadata": {},
   "source": [
    "Столбец `user_score` содержит значение `tbd` - `to be determined`. Другими словами, рейтинг еще не определен, поэтому при конвертации форматов можно заменить такие значения на `nan`"
   ]
  },
  {
   "cell_type": "code",
   "execution_count": 157,
   "id": "41cebde5",
   "metadata": {},
   "outputs": [],
   "source": [
    "df['user_score'] = pd.to_numeric(df['user_score'], errors='coerce')"
   ]
  },
  {
   "cell_type": "markdown",
   "id": "d0f5fc20",
   "metadata": {},
   "source": [
    "### Обработка пропусков"
   ]
  },
  {
   "cell_type": "markdown",
   "id": "90422135",
   "metadata": {},
   "source": [
    "По предварительным данным можно увидеть, что:\n",
    "* Незначительное количество пропущенных значений есть в столбцах `name`, `year_of_release`, `genre`. Определить эти значения не представляется возможным, такие пропущенные строки можно просто удалить\n",
    "* Значительное количество пропущенных значений есть в столбцах `critic_score`, `user_score`. Не для всех игр известны оценки, лучше оставить значения без изменений. Лучше `не` заменять эти значения на медианные, так как мы не знаем, какие показатели (платформа или сама игра) влияют на итоговые оценки\n",
    "* Значительное количество пропущенных значений `rating`. Частично возрастное ограничение можно восстановить, например, если этот показатель известен для той же игры, но на другой платформе. Для этого придется намеренно пренебречь ситуацией, когда одной и той же игре присваивается разный рейтинг на разных платформах. Названиям игр, рейтинг который неизвестен на всех платформах, можно проставить значение `UNKNWN`"
   ]
  },
  {
   "cell_type": "code",
   "execution_count": 158,
   "id": "9e3357eb",
   "metadata": {},
   "outputs": [
    {
     "name": "stdout",
     "output_type": "stream",
     "text": [
      "<class 'pandas.core.frame.DataFrame'>\n",
      "Int64Index: 16444 entries, 0 to 16714\n",
      "Data columns (total 11 columns):\n",
      " #   Column           Non-Null Count  Dtype  \n",
      "---  ------           --------------  -----  \n",
      " 0   name             16444 non-null  object \n",
      " 1   platform         16444 non-null  object \n",
      " 2   year_of_release  16444 non-null  float64\n",
      " 3   genre            16444 non-null  object \n",
      " 4   na_sales         16444 non-null  float64\n",
      " 5   eu_sales         16444 non-null  float64\n",
      " 6   jp_sales         16444 non-null  float64\n",
      " 7   other_sales      16444 non-null  float64\n",
      " 8   critic_score     7983 non-null   float64\n",
      " 9   user_score       7463 non-null   float64\n",
      " 10  rating           9768 non-null   object \n",
      "dtypes: float64(7), object(4)\n",
      "memory usage: 1.5+ MB\n"
     ]
    },
    {
     "data": {
      "text/plain": [
       "array(['E', nan, 'M', 'T', 'E10+', 'K-A', 'AO', 'EC', 'RP'], dtype=object)"
      ]
     },
     "execution_count": 158,
     "metadata": {},
     "output_type": "execute_result"
    }
   ],
   "source": [
    "#удаляю строки, которые незначительно повлияют на данные:\n",
    "df = df.dropna(subset=['name', 'year_of_release'])\n",
    "df.info()\n",
    "df['rating'].unique()"
   ]
  },
  {
   "cell_type": "markdown",
   "id": "efa9c48b",
   "metadata": {},
   "source": [
    "Чтобы частично восстановить возрастной рейтинг, я создам словарь, в котором будет храниться пара \"название-рейтинг\""
   ]
  },
  {
   "cell_type": "code",
   "execution_count": 159,
   "id": "5f23603c",
   "metadata": {},
   "outputs": [],
   "source": [
    "#создаю словарь\n",
    "rating_dict = (df[['name', 'rating']]\n",
    "               .dropna()\n",
    "               .drop_duplicates(subset='name') #дубликаты удаляю по столбцу `name`, чтобы одной игре не назначалось два разных рейтинга\n",
    "               .reset_index(drop=True)\n",
    "               .rename(columns={'rating' : 'dict_rating'})\n",
    "              )\n",
    "#добавляю новый столбец в исходную таблицу\n",
    "df = df.merge(rating_dict, on='name', how='left')\n",
    "#меняю значения null на значения из нового столбца\n",
    "df['rating'] = df['rating'].fillna(df['dict_rating'])\n",
    "#удаляю столбец за ненадобностью\n",
    "df.drop('dict_rating',axis=1,inplace=True)"
   ]
  },
  {
   "cell_type": "code",
   "execution_count": 160,
   "id": "2f3116a9",
   "metadata": {
    "scrolled": true
   },
   "outputs": [
    {
     "name": "stdout",
     "output_type": "stream",
     "text": [
      "<class 'pandas.core.frame.DataFrame'>\n",
      "Int64Index: 16444 entries, 0 to 16443\n",
      "Data columns (total 11 columns):\n",
      " #   Column           Non-Null Count  Dtype  \n",
      "---  ------           --------------  -----  \n",
      " 0   name             16444 non-null  object \n",
      " 1   platform         16444 non-null  object \n",
      " 2   year_of_release  16444 non-null  float64\n",
      " 3   genre            16444 non-null  object \n",
      " 4   na_sales         16444 non-null  float64\n",
      " 5   eu_sales         16444 non-null  float64\n",
      " 6   jp_sales         16444 non-null  float64\n",
      " 7   other_sales      16444 non-null  float64\n",
      " 8   critic_score     7983 non-null   float64\n",
      " 9   user_score       7463 non-null   float64\n",
      " 10  rating           10185 non-null  object \n",
      "dtypes: float64(7), object(4)\n",
      "memory usage: 1.5+ MB\n"
     ]
    }
   ],
   "source": [
    "df.info()"
   ]
  },
  {
   "cell_type": "markdown",
   "id": "f54ec290",
   "metadata": {},
   "source": [
    "Значений с ненулевым рейтингом стало чуть больше. Остальные значения рейтинга можно заменить на UNKNWN:"
   ]
  },
  {
   "cell_type": "code",
   "execution_count": 161,
   "id": "a306d065",
   "metadata": {},
   "outputs": [
    {
     "name": "stdout",
     "output_type": "stream",
     "text": [
      "<class 'pandas.core.frame.DataFrame'>\n",
      "Int64Index: 16444 entries, 0 to 16443\n",
      "Data columns (total 11 columns):\n",
      " #   Column           Non-Null Count  Dtype  \n",
      "---  ------           --------------  -----  \n",
      " 0   name             16444 non-null  object \n",
      " 1   platform         16444 non-null  object \n",
      " 2   year_of_release  16444 non-null  float64\n",
      " 3   genre            16444 non-null  object \n",
      " 4   na_sales         16444 non-null  float64\n",
      " 5   eu_sales         16444 non-null  float64\n",
      " 6   jp_sales         16444 non-null  float64\n",
      " 7   other_sales      16444 non-null  float64\n",
      " 8   critic_score     7983 non-null   float64\n",
      " 9   user_score       7463 non-null   float64\n",
      " 10  rating           16444 non-null  object \n",
      "dtypes: float64(7), object(4)\n",
      "memory usage: 1.5+ MB\n"
     ]
    }
   ],
   "source": [
    "df['rating'] = df['rating'].fillna('UNKNWN')\n",
    "df.info()"
   ]
  },
  {
   "cell_type": "markdown",
   "id": "7131746f",
   "metadata": {},
   "source": [
    "Итак, все пропуски устранены, значения null остались у двух столбцов: \n",
    "* `critic_score`\n",
    "* `user_score`\n",
    "\n",
    "Почти все данные (более 98%) сохранены"
   ]
  },
  {
   "cell_type": "markdown",
   "id": "4855b888",
   "metadata": {},
   "source": [
    "### Проверить данные на аномалии"
   ]
  },
  {
   "cell_type": "markdown",
   "metadata": {},
   "source": [
    "Рассмотрим распределение объемов продаж:"
   ]
  },
  {
   "cell_type": "code",
   "execution_count": 162,
   "metadata": {
    "scrolled": true
   },
   "outputs": [
    {
     "data": {
      "image/png": "[encoded data removed]",
      "text/plain": [
       "<Figure size 432x288 with 1 Axes>"
      ]
     },
     "metadata": {
      "needs_background": "light"
     },
     "output_type": "display_data"
    },
    {
     "data": {
      "image/png": "[encoded data removed]",
      "text/plain": [
       "<Figure size 432x288 with 1 Axes>"
      ]
     },
     "metadata": {
      "needs_background": "light"
     },
     "output_type": "display_data"
    },
    {
     "data": {
      "image/png": "[encoded data removed]",
      "text/plain": [
       "<Figure size 432x288 with 1 Axes>"
      ]
     },
     "metadata": {
      "needs_background": "light"
     },
     "output_type": "display_data"
    },
    {
     "data": {
      "image/png": "[encoded data removed]",
      "text/plain": [
       "<Figure size 432x288 with 1 Axes>"
      ]
     },
     "metadata": {
      "needs_background": "light"
     },
     "output_type": "display_data"
    }
   ],
   "source": [
    "sales_columns = ['na_sales', 'eu_sales', 'jp_sales', 'other_sales']\n",
    "\n",
    "for column in sales_columns:\n",
    "    df[['name', column]].hist(bins=20)"
   ]
  },
  {
   "cell_type": "markdown",
   "metadata": {},
   "source": [
    "Встречаются релизы с продажами более 40 млн копий. Рассмотрим диапазон до 2 млн копий:"
   ]
  },
  {
   "cell_type": "code",
   "execution_count": 163,
   "metadata": {
    "scrolled": true
   },
   "outputs": [
    {
     "data": {
      "image/png": "[encoded data removed]",
      "text/plain": [
       "<Figure size 432x288 with 1 Axes>"
      ]
     },
     "metadata": {
      "needs_background": "light"
     },
     "output_type": "display_data"
    },
    {
     "data": {
      "image/png": "[encoded data removed]",
      "text/plain": [
       "<Figure size 432x288 with 1 Axes>"
      ]
     },
     "metadata": {
      "needs_background": "light"
     },
     "output_type": "display_data"
    },
    {
     "data": {
      "image/png": "[encoded data removed]",
      "text/plain": [
       "<Figure size 432x288 with 1 Axes>"
      ]
     },
     "metadata": {
      "needs_background": "light"
     },
     "output_type": "display_data"
    },
    {
     "data": {
      "image/png": "[encoded data removed]",
      "text/plain": [
       "<Figure size 432x288 with 1 Axes>"
      ]
     },
     "metadata": {
      "needs_background": "light"
     },
     "output_type": "display_data"
    }
   ],
   "source": [
    "sales_columns = ['na_sales', 'eu_sales', 'jp_sales', 'other_sales']\n",
    "\n",
    "for column in sales_columns:\n",
    "    df[df[column] < 2][['name', column]].hist(bins=20)"
   ]
  },
  {
   "cell_type": "markdown",
   "metadata": {},
   "source": [
    "В данных встречаются игры с очень большими продажами. Аномалий и ошибок не выявлено"
   ]
  },
  {
   "cell_type": "markdown",
   "metadata": {},
   "source": [
    "Рассмотрим распределение рейтингов:"
   ]
  },
  {
   "cell_type": "code",
   "execution_count": 164,
   "metadata": {
    "scrolled": true
   },
   "outputs": [
    {
     "data": {
      "image/png": "[encoded data removed]",
      "text/plain": [
       "<Figure size 432x288 with 1 Axes>"
      ]
     },
     "metadata": {
      "needs_background": "light"
     },
     "output_type": "display_data"
    },
    {
     "data": {
      "image/png": "[encoded data removed]",
      "text/plain": [
       "<Figure size 432x288 with 1 Axes>"
      ]
     },
     "metadata": {
      "needs_background": "light"
     },
     "output_type": "display_data"
    }
   ],
   "source": [
    "score_columns = ['critic_score', 'user_score']\n",
    "\n",
    "for column in score_columns:\n",
    "    df[['name', column]].hist(bins=20)"
   ]
  },
  {
   "cell_type": "markdown",
   "metadata": {},
   "source": [
    "Оценки смещены в сторону высоких. Аномалий и ошибок не выявлено"
   ]
  },
  {
   "cell_type": "markdown",
   "id": "90422135",
   "metadata": {},
   "source": [
    "По итогам предобработки данных:\n",
    "* изменены названия столбцов\n",
    "* у столбца `user_score` изменён формат\n",
    "* удалены строки со значениями null в столбцах `name`, `year_of_release`, `genre`\n",
    "* восстановлена часть пропусков с возрастным рейтингом\n",
    "* данные проверены на наличие аномалий и дубликатов"
   ]
  },
  {
   "cell_type": "markdown",
   "id": "4855b888",
   "metadata": {},
   "source": [
    "### Посчитать суммарные продажи и записать их в отдельный столбец"
   ]
  },
  {
   "cell_type": "code",
   "execution_count": 165,
   "id": "8f2bee97",
   "metadata": {},
   "outputs": [],
   "source": [
    "df['total_sales'] = df['na_sales'] + df['eu_sales'] + df['jp_sales'] + df['other_sales']"
   ]
  },
  {
   "cell_type": "markdown",
   "id": "58ded371",
   "metadata": {},
   "source": [
    "## Исследовательский анализ данных"
   ]
  },
  {
   "cell_type": "markdown",
   "id": "6f91fffd",
   "metadata": {},
   "source": [
    "### Сколько игр выпускалось в разные годы? Важны ли данные за все периоды?"
   ]
  },
  {
   "cell_type": "code",
   "execution_count": 166,
   "id": "d5bee24e",
   "metadata": {
    "scrolled": true
   },
   "outputs": [
    {
     "data": {
      "image/png": "[encoded data removed]",
      "text/plain": [
       "<Figure size 720x360 with 1 Axes>"
      ]
     },
     "metadata": {
      "needs_background": "light"
     },
     "output_type": "display_data"
    }
   ],
   "source": [
    "(df\n",
    " .pivot_table(index='year_of_release', values='name', aggfunc='count')\n",
    " .rename(columns={'name': 'games'})\n",
    " .plot(title='games release dynamics', figsize=(10,5), grid=True)\n",
    ")\n",
    "None"
   ]
  },
  {
   "cell_type": "markdown",
   "id": "de3d94e7",
   "metadata": {},
   "source": [
    "На графике можно выделить 3 характерных периода выпуска игр:\n",
    "* с 1980 по 1990 годы - менее 50 игр в год\n",
    "* с 1991 по 2009 годы - период роста, более 1400 игр в 2008 году\n",
    "* с 2010 по 2016 год - снижение количества игр. Минимальное значение относится к 2016 году - около 500 игр\n",
    "\n",
    "Наиболее стабильным временем можно считать период с 2012 по 2016 год"
   ]
  },
  {
   "cell_type": "markdown",
   "id": "3d18e363",
   "metadata": {},
   "source": [
    "Из-за неравномерной динамики (периодов роста, спада и стагнации) некоторые данные могут быть актуальны только за последний год. Тем не менее, для некоторых задач стоит брать данные за более длительный промежуток времени (с 2012 по 2016 год)"
   ]
  },
  {
   "cell_type": "markdown",
   "id": "2ba89f4d",
   "metadata": {},
   "source": [
    "### Выбрать платформы с наибольшими суммарными продажами и построить распределение по годам. За какой характерный срок появляются новые и исчезают старые платформы?"
   ]
  },
  {
   "cell_type": "code",
   "execution_count": 167,
   "id": "56ead52c",
   "metadata": {},
   "outputs": [
    {
     "data": {
      "text/plain": [
       "Index(['PS2', 'X360', 'PS3', 'Wii', 'DS'], dtype='object', name='platform')"
      ]
     },
     "execution_count": 167,
     "metadata": {},
     "output_type": "execute_result"
    }
   ],
   "source": [
    "#нахожу топ-5 самых прибыльных платформ за всё время\n",
    "top_sales_platforms = (df\n",
    "                       .pivot_table(\n",
    "                           index='platform'\n",
    "                         , values='total_sales'\n",
    "                         , aggfunc='sum'\n",
    "                       )\n",
    "                       .sort_values(by='total_sales',ascending=False)\n",
    "                       .head()\n",
    "                       .index\n",
    "                       )\n",
    "#вывожу платформы на экран\n",
    "top_sales_platforms"
   ]
  },
  {
   "cell_type": "code",
   "execution_count": 168,
   "metadata": {},
   "outputs": [
    {
     "data": {
      "image/png": "[encoded data removed]",
      "text/plain": [
       "<Figure size 720x360 with 1 Axes>"
      ]
     },
     "metadata": {
      "needs_background": "light"
     },
     "output_type": "display_data"
    }
   ],
   "source": [
    "(df[df['platform'].isin(top_sales_platforms)]\n",
    " .query('year_of_release >= 2000')\n",
    " .pivot_table(index='year_of_release', columns='platform', values='name', aggfunc='count')\n",
    " .plot(figsize=(10,5), grid=True)\n",
    ")\n",
    "None"
   ]
  },
  {
   "cell_type": "markdown",
   "id": "1e8f7e10",
   "metadata": {},
   "source": [
    "Каждая платформа-лидер продаж имеет характерный жизненный цикл:\n",
    "* период роста\n",
    "* период стагнации\n",
    "* период оттока\n",
    "\n",
    "Такая информация может быть полезной в дальнейшем. Определив стадию цикла, можно предугадать дальнейшие развитие платформы "
   ]
  },
  {
   "cell_type": "markdown",
   "id": "4b3dd90d",
   "metadata": {},
   "source": [
    "Далее я определю срок жизни платформ, которые больше не продаются:"
   ]
  },
  {
   "cell_type": "code",
   "execution_count": 169,
   "id": "bb28c5df",
   "metadata": {},
   "outputs": [
    {
     "data": {
      "text/html": [
       "<div>\n",
       "<style scoped>\n",
       "    .dataframe tbody tr th:only-of-type {\n",
       "        vertical-align: middle;\n",
       "    }\n",
       "\n",
       "    .dataframe tbody tr th {\n",
       "        vertical-align: top;\n",
       "    }\n",
       "\n",
       "    .dataframe thead th {\n",
       "        text-align: right;\n",
       "    }\n",
       "</style>\n",
       "<table border=\"1\" class=\"dataframe\">\n",
       "  <thead>\n",
       "    <tr style=\"text-align: right;\">\n",
       "      <th></th>\n",
       "      <th>platform_name</th>\n",
       "      <th>last_year_release</th>\n",
       "      <th>lifetime</th>\n",
       "    </tr>\n",
       "  </thead>\n",
       "  <tbody>\n",
       "    <tr>\n",
       "      <th>0</th>\n",
       "      <td>DS</td>\n",
       "      <td>2013.0</td>\n",
       "      <td>28.0</td>\n",
       "    </tr>\n",
       "    <tr>\n",
       "      <th>1</th>\n",
       "      <td>GB</td>\n",
       "      <td>2001.0</td>\n",
       "      <td>13.0</td>\n",
       "    </tr>\n",
       "    <tr>\n",
       "      <th>2</th>\n",
       "      <td>NES</td>\n",
       "      <td>1994.0</td>\n",
       "      <td>11.0</td>\n",
       "    </tr>\n",
       "    <tr>\n",
       "      <th>3</th>\n",
       "      <td>PS2</td>\n",
       "      <td>2011.0</td>\n",
       "      <td>11.0</td>\n",
       "    </tr>\n",
       "    <tr>\n",
       "      <th>4</th>\n",
       "      <td>PSP</td>\n",
       "      <td>2015.0</td>\n",
       "      <td>11.0</td>\n",
       "    </tr>\n",
       "    <tr>\n",
       "      <th>5</th>\n",
       "      <td>DC</td>\n",
       "      <td>2008.0</td>\n",
       "      <td>10.0</td>\n",
       "    </tr>\n",
       "    <tr>\n",
       "      <th>6</th>\n",
       "      <td>SNES</td>\n",
       "      <td>1999.0</td>\n",
       "      <td>9.0</td>\n",
       "    </tr>\n",
       "    <tr>\n",
       "      <th>7</th>\n",
       "      <td>PS</td>\n",
       "      <td>2003.0</td>\n",
       "      <td>9.0</td>\n",
       "    </tr>\n",
       "    <tr>\n",
       "      <th>8</th>\n",
       "      <td>2600</td>\n",
       "      <td>1989.0</td>\n",
       "      <td>9.0</td>\n",
       "    </tr>\n",
       "    <tr>\n",
       "      <th>9</th>\n",
       "      <td>XB</td>\n",
       "      <td>2008.0</td>\n",
       "      <td>8.0</td>\n",
       "    </tr>\n",
       "    <tr>\n",
       "      <th>10</th>\n",
       "      <td>GBA</td>\n",
       "      <td>2007.0</td>\n",
       "      <td>7.0</td>\n",
       "    </tr>\n",
       "    <tr>\n",
       "      <th>11</th>\n",
       "      <td>GC</td>\n",
       "      <td>2007.0</td>\n",
       "      <td>6.0</td>\n",
       "    </tr>\n",
       "    <tr>\n",
       "      <th>12</th>\n",
       "      <td>N64</td>\n",
       "      <td>2002.0</td>\n",
       "      <td>6.0</td>\n",
       "    </tr>\n",
       "    <tr>\n",
       "      <th>13</th>\n",
       "      <td>SAT</td>\n",
       "      <td>1999.0</td>\n",
       "      <td>5.0</td>\n",
       "    </tr>\n",
       "    <tr>\n",
       "      <th>14</th>\n",
       "      <td>GEN</td>\n",
       "      <td>1994.0</td>\n",
       "      <td>4.0</td>\n",
       "    </tr>\n",
       "    <tr>\n",
       "      <th>15</th>\n",
       "      <td>NG</td>\n",
       "      <td>1996.0</td>\n",
       "      <td>3.0</td>\n",
       "    </tr>\n",
       "    <tr>\n",
       "      <th>16</th>\n",
       "      <td>WS</td>\n",
       "      <td>2001.0</td>\n",
       "      <td>2.0</td>\n",
       "    </tr>\n",
       "    <tr>\n",
       "      <th>17</th>\n",
       "      <td>SCD</td>\n",
       "      <td>1994.0</td>\n",
       "      <td>1.0</td>\n",
       "    </tr>\n",
       "    <tr>\n",
       "      <th>18</th>\n",
       "      <td>3DO</td>\n",
       "      <td>1995.0</td>\n",
       "      <td>1.0</td>\n",
       "    </tr>\n",
       "    <tr>\n",
       "      <th>19</th>\n",
       "      <td>TG16</td>\n",
       "      <td>1995.0</td>\n",
       "      <td>0.0</td>\n",
       "    </tr>\n",
       "    <tr>\n",
       "      <th>20</th>\n",
       "      <td>GG</td>\n",
       "      <td>1992.0</td>\n",
       "      <td>0.0</td>\n",
       "    </tr>\n",
       "    <tr>\n",
       "      <th>21</th>\n",
       "      <td>PCFX</td>\n",
       "      <td>1996.0</td>\n",
       "      <td>0.0</td>\n",
       "    </tr>\n",
       "  </tbody>\n",
       "</table>\n",
       "</div>"
      ],
      "text/plain": [
       "   platform_name  last_year_release  lifetime\n",
       "0             DS             2013.0      28.0\n",
       "1             GB             2001.0      13.0\n",
       "2            NES             1994.0      11.0\n",
       "3            PS2             2011.0      11.0\n",
       "4            PSP             2015.0      11.0\n",
       "5             DC             2008.0      10.0\n",
       "6           SNES             1999.0       9.0\n",
       "7             PS             2003.0       9.0\n",
       "8           2600             1989.0       9.0\n",
       "9             XB             2008.0       8.0\n",
       "10           GBA             2007.0       7.0\n",
       "11            GC             2007.0       6.0\n",
       "12           N64             2002.0       6.0\n",
       "13           SAT             1999.0       5.0\n",
       "14           GEN             1994.0       4.0\n",
       "15            NG             1996.0       3.0\n",
       "16            WS             2001.0       2.0\n",
       "17           SCD             1994.0       1.0\n",
       "18           3DO             1995.0       1.0\n",
       "19          TG16             1995.0       0.0\n",
       "20            GG             1992.0       0.0\n",
       "21          PCFX             1996.0       0.0"
      ]
     },
     "execution_count": 169,
     "metadata": {},
     "output_type": "execute_result"
    }
   ],
   "source": [
    "platform_names = df['platform'].unique()\n",
    "\n",
    "lifetime_table = {'platform_name' : []\n",
    "                , 'last_year_release' : []\n",
    "                , 'lifetime' : []\n",
    "                 }\n",
    "\n",
    "for platform_name in platform_names:\n",
    "    max_year = df.query('platform == @platform_name')['year_of_release'].max()\n",
    "    if max_year < df['year_of_release'].max():\n",
    "        min_year = df.query('platform == @platform_name')['year_of_release'].min()\n",
    "        lifetime_table['platform_name'].append(platform_name)\n",
    "        lifetime_table['last_year_release'].append(max_year)\n",
    "        lifetime_table['lifetime'].append(max_year - min_year)\n",
    "\n",
    "(pd\n",
    " .DataFrame(data=lifetime_table)\n",
    " .sort_values(by='lifetime', ascending=False)\n",
    " .reset_index(drop=True)\n",
    ")\n"
   ]
  },
  {
   "cell_type": "markdown",
   "id": "9f36c479",
   "metadata": {},
   "source": [
    "Итак, условно можно разделить полученные сроки жизни на 3 группы:\n",
    "* неудачные запуски - это 5 платформ, которые продавали менее 2 лет\n",
    "* платформы со небольшим сроком жизни - от 3 до 7 лет\n",
    "* платформы-долгожители - платформы, которые продавались более 8 лет"
   ]
  },
  {
   "cell_type": "code",
   "execution_count": 170,
   "id": "861f1aa0",
   "metadata": {},
   "outputs": [
    {
     "name": "stdout",
     "output_type": "stream",
     "text": [
      "Медианный срок жизни платформы: 6.5 лет\n"
     ]
    }
   ],
   "source": [
    "lifetime_median = statistics.median(lifetime_table['lifetime'])\n",
    "print('Медианный срок жизни платформы:', lifetime_median, 'лет')"
   ]
  },
  {
   "cell_type": "markdown",
   "id": "df878602",
   "metadata": {},
   "source": [
    "### Выявление лидеров по продажам и выбор несколько потенциально прибыльных платформ"
   ]
  },
  {
   "cell_type": "code",
   "execution_count": 171,
   "id": "16703be5",
   "metadata": {
    "scrolled": true
   },
   "outputs": [
    {
     "data": {
      "image/png": "[encoded data removed]",
      "text/plain": [
       "<Figure size 720x360 with 1 Axes>"
      ]
     },
     "metadata": {
      "needs_background": "light"
     },
     "output_type": "display_data"
    }
   ],
   "source": [
    "(df\n",
    " .pivot_table(index='year_of_release', values='total_sales', aggfunc='sum')\n",
    " .plot(title='sales dynamics', figsize=(10,5), grid=True)\n",
    ")\n",
    "None"
   ]
  },
  {
   "cell_type": "markdown",
   "id": "6b4db795",
   "metadata": {},
   "source": [
    "Несмотря на то, что графики выпуска игр и суммарных продаж похожи по динамике, с 2012 года между ними есть существенное различие: динамика выпуска игр достаточно стабильна, а суммарные продажи продолжают снижаться от года к году. Стоит учесть, что данные за 2016 год могут быть неполными. Для прогнозирования прибыльности лучше ориентироваться только на динамику последних двух лет"
   ]
  },
  {
   "cell_type": "code",
   "execution_count": 172,
   "id": "8d1f41e8",
   "metadata": {},
   "outputs": [
    {
     "data": {
      "text/html": [
       "<div>\n",
       "<style scoped>\n",
       "    .dataframe tbody tr th:only-of-type {\n",
       "        vertical-align: middle;\n",
       "    }\n",
       "\n",
       "    .dataframe tbody tr th {\n",
       "        vertical-align: top;\n",
       "    }\n",
       "\n",
       "    .dataframe thead th {\n",
       "        text-align: right;\n",
       "    }\n",
       "</style>\n",
       "<table border=\"1\" class=\"dataframe\">\n",
       "  <thead>\n",
       "    <tr style=\"text-align: right;\">\n",
       "      <th></th>\n",
       "      <th>platform</th>\n",
       "      <th>sales_2016</th>\n",
       "      <th>sales_2015</th>\n",
       "      <th>dynamics</th>\n",
       "    </tr>\n",
       "  </thead>\n",
       "  <tbody>\n",
       "    <tr>\n",
       "      <th>0</th>\n",
       "      <td>PSV</td>\n",
       "      <td>4.25</td>\n",
       "      <td>6.25</td>\n",
       "      <td>-0.320000</td>\n",
       "    </tr>\n",
       "    <tr>\n",
       "      <th>1</th>\n",
       "      <td>PC</td>\n",
       "      <td>5.25</td>\n",
       "      <td>8.52</td>\n",
       "      <td>-0.383803</td>\n",
       "    </tr>\n",
       "    <tr>\n",
       "      <th>2</th>\n",
       "      <td>PS4</td>\n",
       "      <td>69.25</td>\n",
       "      <td>118.90</td>\n",
       "      <td>-0.417578</td>\n",
       "    </tr>\n",
       "    <tr>\n",
       "      <th>3</th>\n",
       "      <td>3DS</td>\n",
       "      <td>15.14</td>\n",
       "      <td>27.78</td>\n",
       "      <td>-0.455004</td>\n",
       "    </tr>\n",
       "    <tr>\n",
       "      <th>4</th>\n",
       "      <td>XOne</td>\n",
       "      <td>26.15</td>\n",
       "      <td>60.14</td>\n",
       "      <td>-0.565181</td>\n",
       "    </tr>\n",
       "    <tr>\n",
       "      <th>5</th>\n",
       "      <td>WiiU</td>\n",
       "      <td>4.60</td>\n",
       "      <td>16.35</td>\n",
       "      <td>-0.718654</td>\n",
       "    </tr>\n",
       "    <tr>\n",
       "      <th>6</th>\n",
       "      <td>PS3</td>\n",
       "      <td>3.60</td>\n",
       "      <td>16.82</td>\n",
       "      <td>-0.785969</td>\n",
       "    </tr>\n",
       "    <tr>\n",
       "      <th>7</th>\n",
       "      <td>Wii</td>\n",
       "      <td>0.18</td>\n",
       "      <td>1.14</td>\n",
       "      <td>-0.842105</td>\n",
       "    </tr>\n",
       "    <tr>\n",
       "      <th>8</th>\n",
       "      <td>X360</td>\n",
       "      <td>1.52</td>\n",
       "      <td>11.96</td>\n",
       "      <td>-0.872910</td>\n",
       "    </tr>\n",
       "  </tbody>\n",
       "</table>\n",
       "</div>"
      ],
      "text/plain": [
       "  platform  sales_2016  sales_2015  dynamics\n",
       "0      PSV        4.25        6.25 -0.320000\n",
       "1       PC        5.25        8.52 -0.383803\n",
       "2      PS4       69.25      118.90 -0.417578\n",
       "3      3DS       15.14       27.78 -0.455004\n",
       "4     XOne       26.15       60.14 -0.565181\n",
       "5     WiiU        4.60       16.35 -0.718654\n",
       "6      PS3        3.60       16.82 -0.785969\n",
       "7      Wii        0.18        1.14 -0.842105\n",
       "8     X360        1.52       11.96 -0.872910"
      ]
     },
     "execution_count": 172,
     "metadata": {},
     "output_type": "execute_result"
    }
   ],
   "source": [
    "platforms_sales_2016 = (df.query('year_of_release == 2016')\n",
    "                          .pivot_table(index=['platform'], values='total_sales', aggfunc='sum')\n",
    "                          .reset_index()\n",
    "                          .rename(columns={'total_sales' : 'sales_2016'})\n",
    "                         )\n",
    "\n",
    "platforms_sales_2015 = (df.query('year_of_release == 2015')\n",
    "                          .pivot_table(index=['platform'], values='total_sales', aggfunc='sum')\n",
    "                          .reset_index()\n",
    "                          .rename(columns={'total_sales' : 'sales_2015'})\n",
    "                         )\n",
    "\n",
    "platforms_sales_2016 = platforms_sales_2016.merge(platforms_sales_2015, on='platform', how='left')\n",
    "platforms_sales_2016['dynamics'] = platforms_sales_2016['sales_2016'] / platforms_sales_2016['sales_2015'] - 1\n",
    "platforms_sales_2016.sort_values(by='dynamics', ascending=False).reset_index(drop=True)"
   ]
  },
  {
   "cell_type": "markdown",
   "id": "3b1d76bd",
   "metadata": {},
   "source": [
    "В данном случае потенциально прибыльными можно считать те платформы, суммарные продажи которые снизились в наименьшой степени и продолжали продаваться в 2016 году. Также стоит обратить внимание на абсолютные значения продаж. Учитывая динамику и абсолютные показатели, можно выделить несколько самых потенциально прибыльных платформ для 2017 года:\n",
    "* `PS4`, `XOne`, `3DS` - не самая лучшая динамика, но хорошие абсолютные показатели\n",
    "* `PSV`, `PC` - невысокие абсолютные показатели, но отток по продажам ниже, чем у других платформ"
   ]
  },
  {
   "cell_type": "markdown",
   "id": "df878602",
   "metadata": {},
   "source": [
    "### Определение актуального периода для анализа"
   ]
  },
  {
   "cell_type": "code",
   "execution_count": 173,
   "metadata": {},
   "outputs": [
    {
     "data": {
      "image/png": "[encoded data removed]",
      "text/plain": [
       "<Figure size 1440x720 with 1 Axes>"
      ]
     },
     "metadata": {
      "needs_background": "light"
     },
     "output_type": "display_data"
    }
   ],
   "source": [
    "#берем только платформы, которые продавались в 2016 году\n",
    "promising_platforms = platforms_sales_2016['platform'].unique()\n",
    "\n",
    "(df[df['platform'].isin(promising_platforms)]\n",
    " .query('year_of_release > 2005')\n",
    " .pivot_table(index='year_of_release', columns='platform', values='total_sales', aggfunc='sum')\n",
    " .plot(figsize=(20,10), grid=True)\n",
    ")\n",
    "None"
   ]
  },
  {
   "cell_type": "markdown",
   "metadata": {},
   "source": [
    "По графику можно увидеть, что платформы `Wii`, `PS3`, `X360` находятся на стадии оттока - в скором времени игры на эти платформы, скорее всего перестанут продаваться. Наиболее актуальным периодом для анализа можно считать период с 2014 года - в этом году все платформы нового поколения обогнали по продажам консоли более раннего поколения, и по всем потенциально прибыльным платформам уже были продажи"
   ]
  },
  {
   "cell_type": "code",
   "execution_count": 174,
   "metadata": {},
   "outputs": [],
   "source": [
    "df_filtered = df.query('year_of_release >= 2014')"
   ]
  },
  {
   "cell_type": "markdown",
   "id": "a493e25a",
   "metadata": {},
   "source": [
    "### График \"ящик с усами\" по глобальным продажам игр в разбивке по платформам"
   ]
  },
  {
   "cell_type": "code",
   "execution_count": 175,
   "id": "f06d66f8",
   "metadata": {
    "scrolled": true
   },
   "outputs": [
    {
     "data": {
      "image/png": "[encoded data removed]",
      "text/plain": [
       "<Figure size 1080x360 with 1 Axes>"
      ]
     },
     "metadata": {
      "needs_background": "light"
     },
     "output_type": "display_data"
    }
   ],
   "source": [
    "#ящик с усами строю по всему фрейму, чтобы иметь представление о стадии цикла платформы\n",
    "(df_filtered\n",
    " .reset_index()\n",
    " .boxplot(column='total_sales', by='platform', figsize=(15,5))\n",
    ")\n",
    "None"
   ]
  },
  {
   "cell_type": "markdown",
   "id": "0e35cafe",
   "metadata": {},
   "source": [
    "Такой ящик с усами показывает, что в некоторых платформах есть \"выбросы\" успешных игр. Больше всего таких успешных выбросов у платформы `PS4`. Для более точных выводов стоит ограничить выгрузку играми, продажи по которым не превышали 1 млн \n",
    "копий"
   ]
  },
  {
   "cell_type": "code",
   "execution_count": 176,
   "id": "f06d66f8",
   "metadata": {
    "scrolled": true
   },
   "outputs": [
    {
     "data": {
      "image/png": "[encoded data removed]",
      "text/plain": [
       "<Figure size 1080x360 with 1 Axes>"
      ]
     },
     "metadata": {
      "needs_background": "light"
     },
     "output_type": "display_data"
    }
   ],
   "source": [
    "(df_filtered\n",
    " .query('total_sales < 1')\n",
    " .reset_index()\n",
    " .boxplot(column='total_sales', by='platform', figsize=(15,5))\n",
    ")\n",
    "None"
   ]
  },
  {
   "cell_type": "markdown",
   "id": "0e35cafe",
   "metadata": {},
   "source": [
    "Самые высокие медианные значения в период с 2014 по 2016 год встречались у платформы `Wii`. Наиболее низкие - у платформ `PSV` и `PSP`"
   ]
  },
  {
   "cell_type": "markdown",
   "id": "c137e666",
   "metadata": {},
   "source": [
    "### Как отзывы пользователей и критиков влияют на продажи внутри одной платформы. Построить диаграмму рассеяния и посчитать корреляцию между отзывами и продажами"
   ]
  },
  {
   "cell_type": "code",
   "execution_count": 177,
   "id": "4dc26d70",
   "metadata": {
    "scrolled": true
   },
   "outputs": [
    {
     "name": "stdout",
     "output_type": "stream",
     "text": [
      "корреляция по платформе 3DS\n"
     ]
    },
    {
     "data": {
      "text/html": [
       "<div>\n",
       "<style scoped>\n",
       "    .dataframe tbody tr th:only-of-type {\n",
       "        vertical-align: middle;\n",
       "    }\n",
       "\n",
       "    .dataframe tbody tr th {\n",
       "        vertical-align: top;\n",
       "    }\n",
       "\n",
       "    .dataframe thead th {\n",
       "        text-align: right;\n",
       "    }\n",
       "</style>\n",
       "<table border=\"1\" class=\"dataframe\">\n",
       "  <thead>\n",
       "    <tr style=\"text-align: right;\">\n",
       "      <th></th>\n",
       "      <th>total_sales</th>\n",
       "      <th>critic_score</th>\n",
       "      <th>user_score</th>\n",
       "    </tr>\n",
       "  </thead>\n",
       "  <tbody>\n",
       "    <tr>\n",
       "      <th>total_sales</th>\n",
       "      <td>1.000000</td>\n",
       "      <td>0.314117</td>\n",
       "      <td>0.215193</td>\n",
       "    </tr>\n",
       "    <tr>\n",
       "      <th>critic_score</th>\n",
       "      <td>0.314117</td>\n",
       "      <td>1.000000</td>\n",
       "      <td>0.862485</td>\n",
       "    </tr>\n",
       "    <tr>\n",
       "      <th>user_score</th>\n",
       "      <td>0.215193</td>\n",
       "      <td>0.862485</td>\n",
       "      <td>1.000000</td>\n",
       "    </tr>\n",
       "  </tbody>\n",
       "</table>\n",
       "</div>"
      ],
      "text/plain": [
       "              total_sales  critic_score  user_score\n",
       "total_sales      1.000000      0.314117    0.215193\n",
       "critic_score     0.314117      1.000000    0.862485\n",
       "user_score       0.215193      0.862485    1.000000"
      ]
     },
     "metadata": {},
     "output_type": "display_data"
    },
    {
     "name": "stdout",
     "output_type": "stream",
     "text": [
      "корреляция по платформе PC\n"
     ]
    },
    {
     "data": {
      "text/html": [
       "<div>\n",
       "<style scoped>\n",
       "    .dataframe tbody tr th:only-of-type {\n",
       "        vertical-align: middle;\n",
       "    }\n",
       "\n",
       "    .dataframe tbody tr th {\n",
       "        vertical-align: top;\n",
       "    }\n",
       "\n",
       "    .dataframe thead th {\n",
       "        text-align: right;\n",
       "    }\n",
       "</style>\n",
       "<table border=\"1\" class=\"dataframe\">\n",
       "  <thead>\n",
       "    <tr style=\"text-align: right;\">\n",
       "      <th></th>\n",
       "      <th>total_sales</th>\n",
       "      <th>critic_score</th>\n",
       "      <th>user_score</th>\n",
       "    </tr>\n",
       "  </thead>\n",
       "  <tbody>\n",
       "    <tr>\n",
       "      <th>total_sales</th>\n",
       "      <td>1.000000</td>\n",
       "      <td>0.174634</td>\n",
       "      <td>-0.071597</td>\n",
       "    </tr>\n",
       "    <tr>\n",
       "      <th>critic_score</th>\n",
       "      <td>0.174634</td>\n",
       "      <td>1.000000</td>\n",
       "      <td>0.466099</td>\n",
       "    </tr>\n",
       "    <tr>\n",
       "      <th>user_score</th>\n",
       "      <td>-0.071597</td>\n",
       "      <td>0.466099</td>\n",
       "      <td>1.000000</td>\n",
       "    </tr>\n",
       "  </tbody>\n",
       "</table>\n",
       "</div>"
      ],
      "text/plain": [
       "              total_sales  critic_score  user_score\n",
       "total_sales      1.000000      0.174634   -0.071597\n",
       "critic_score     0.174634      1.000000    0.466099\n",
       "user_score      -0.071597      0.466099    1.000000"
      ]
     },
     "metadata": {},
     "output_type": "display_data"
    },
    {
     "name": "stdout",
     "output_type": "stream",
     "text": [
      "корреляция по платформе PS3\n"
     ]
    },
    {
     "data": {
      "text/html": [
       "<div>\n",
       "<style scoped>\n",
       "    .dataframe tbody tr th:only-of-type {\n",
       "        vertical-align: middle;\n",
       "    }\n",
       "\n",
       "    .dataframe tbody tr th {\n",
       "        vertical-align: top;\n",
       "    }\n",
       "\n",
       "    .dataframe thead th {\n",
       "        text-align: right;\n",
       "    }\n",
       "</style>\n",
       "<table border=\"1\" class=\"dataframe\">\n",
       "  <thead>\n",
       "    <tr style=\"text-align: right;\">\n",
       "      <th></th>\n",
       "      <th>total_sales</th>\n",
       "      <th>critic_score</th>\n",
       "      <th>user_score</th>\n",
       "    </tr>\n",
       "  </thead>\n",
       "  <tbody>\n",
       "    <tr>\n",
       "      <th>total_sales</th>\n",
       "      <td>1.000000</td>\n",
       "      <td>0.446575</td>\n",
       "      <td>-0.166761</td>\n",
       "    </tr>\n",
       "    <tr>\n",
       "      <th>critic_score</th>\n",
       "      <td>0.446575</td>\n",
       "      <td>1.000000</td>\n",
       "      <td>0.693445</td>\n",
       "    </tr>\n",
       "    <tr>\n",
       "      <th>user_score</th>\n",
       "      <td>-0.166761</td>\n",
       "      <td>0.693445</td>\n",
       "      <td>1.000000</td>\n",
       "    </tr>\n",
       "  </tbody>\n",
       "</table>\n",
       "</div>"
      ],
      "text/plain": [
       "              total_sales  critic_score  user_score\n",
       "total_sales      1.000000      0.446575   -0.166761\n",
       "critic_score     0.446575      1.000000    0.693445\n",
       "user_score      -0.166761      0.693445    1.000000"
      ]
     },
     "metadata": {},
     "output_type": "display_data"
    },
    {
     "name": "stdout",
     "output_type": "stream",
     "text": [
      "корреляция по платформе PS4\n"
     ]
    },
    {
     "data": {
      "text/html": [
       "<div>\n",
       "<style scoped>\n",
       "    .dataframe tbody tr th:only-of-type {\n",
       "        vertical-align: middle;\n",
       "    }\n",
       "\n",
       "    .dataframe tbody tr th {\n",
       "        vertical-align: top;\n",
       "    }\n",
       "\n",
       "    .dataframe thead th {\n",
       "        text-align: right;\n",
       "    }\n",
       "</style>\n",
       "<table border=\"1\" class=\"dataframe\">\n",
       "  <thead>\n",
       "    <tr style=\"text-align: right;\">\n",
       "      <th></th>\n",
       "      <th>total_sales</th>\n",
       "      <th>critic_score</th>\n",
       "      <th>user_score</th>\n",
       "    </tr>\n",
       "  </thead>\n",
       "  <tbody>\n",
       "    <tr>\n",
       "      <th>total_sales</th>\n",
       "      <td>1.000000</td>\n",
       "      <td>0.402661</td>\n",
       "      <td>-0.040132</td>\n",
       "    </tr>\n",
       "    <tr>\n",
       "      <th>critic_score</th>\n",
       "      <td>0.402661</td>\n",
       "      <td>1.000000</td>\n",
       "      <td>0.546434</td>\n",
       "    </tr>\n",
       "    <tr>\n",
       "      <th>user_score</th>\n",
       "      <td>-0.040132</td>\n",
       "      <td>0.546434</td>\n",
       "      <td>1.000000</td>\n",
       "    </tr>\n",
       "  </tbody>\n",
       "</table>\n",
       "</div>"
      ],
      "text/plain": [
       "              total_sales  critic_score  user_score\n",
       "total_sales      1.000000      0.402661   -0.040132\n",
       "critic_score     0.402661      1.000000    0.546434\n",
       "user_score      -0.040132      0.546434    1.000000"
      ]
     },
     "metadata": {},
     "output_type": "display_data"
    },
    {
     "name": "stdout",
     "output_type": "stream",
     "text": [
      "корреляция по платформе PSV\n"
     ]
    },
    {
     "data": {
      "text/html": [
       "<div>\n",
       "<style scoped>\n",
       "    .dataframe tbody tr th:only-of-type {\n",
       "        vertical-align: middle;\n",
       "    }\n",
       "\n",
       "    .dataframe tbody tr th {\n",
       "        vertical-align: top;\n",
       "    }\n",
       "\n",
       "    .dataframe thead th {\n",
       "        text-align: right;\n",
       "    }\n",
       "</style>\n",
       "<table border=\"1\" class=\"dataframe\">\n",
       "  <thead>\n",
       "    <tr style=\"text-align: right;\">\n",
       "      <th></th>\n",
       "      <th>total_sales</th>\n",
       "      <th>critic_score</th>\n",
       "      <th>user_score</th>\n",
       "    </tr>\n",
       "  </thead>\n",
       "  <tbody>\n",
       "    <tr>\n",
       "      <th>total_sales</th>\n",
       "      <td>1.000000</td>\n",
       "      <td>0.042665</td>\n",
       "      <td>-0.168455</td>\n",
       "    </tr>\n",
       "    <tr>\n",
       "      <th>critic_score</th>\n",
       "      <td>0.042665</td>\n",
       "      <td>1.000000</td>\n",
       "      <td>0.524066</td>\n",
       "    </tr>\n",
       "    <tr>\n",
       "      <th>user_score</th>\n",
       "      <td>-0.168455</td>\n",
       "      <td>0.524066</td>\n",
       "      <td>1.000000</td>\n",
       "    </tr>\n",
       "  </tbody>\n",
       "</table>\n",
       "</div>"
      ],
      "text/plain": [
       "              total_sales  critic_score  user_score\n",
       "total_sales      1.000000      0.042665   -0.168455\n",
       "critic_score     0.042665      1.000000    0.524066\n",
       "user_score      -0.168455      0.524066    1.000000"
      ]
     },
     "metadata": {},
     "output_type": "display_data"
    },
    {
     "name": "stdout",
     "output_type": "stream",
     "text": [
      "корреляция по платформе Wii\n"
     ]
    },
    {
     "data": {
      "text/html": [
       "<div>\n",
       "<style scoped>\n",
       "    .dataframe tbody tr th:only-of-type {\n",
       "        vertical-align: middle;\n",
       "    }\n",
       "\n",
       "    .dataframe tbody tr th {\n",
       "        vertical-align: top;\n",
       "    }\n",
       "\n",
       "    .dataframe thead th {\n",
       "        text-align: right;\n",
       "    }\n",
       "</style>\n",
       "<table border=\"1\" class=\"dataframe\">\n",
       "  <thead>\n",
       "    <tr style=\"text-align: right;\">\n",
       "      <th></th>\n",
       "      <th>total_sales</th>\n",
       "      <th>critic_score</th>\n",
       "      <th>user_score</th>\n",
       "    </tr>\n",
       "  </thead>\n",
       "  <tbody>\n",
       "    <tr>\n",
       "      <th>total_sales</th>\n",
       "      <td>1.0</td>\n",
       "      <td>NaN</td>\n",
       "      <td>1.0</td>\n",
       "    </tr>\n",
       "    <tr>\n",
       "      <th>critic_score</th>\n",
       "      <td>NaN</td>\n",
       "      <td>NaN</td>\n",
       "      <td>NaN</td>\n",
       "    </tr>\n",
       "    <tr>\n",
       "      <th>user_score</th>\n",
       "      <td>1.0</td>\n",
       "      <td>NaN</td>\n",
       "      <td>1.0</td>\n",
       "    </tr>\n",
       "  </tbody>\n",
       "</table>\n",
       "</div>"
      ],
      "text/plain": [
       "              total_sales  critic_score  user_score\n",
       "total_sales           1.0           NaN         1.0\n",
       "critic_score          NaN           NaN         NaN\n",
       "user_score            1.0           NaN         1.0"
      ]
     },
     "metadata": {},
     "output_type": "display_data"
    },
    {
     "name": "stdout",
     "output_type": "stream",
     "text": [
      "корреляция по платформе WiiU\n"
     ]
    },
    {
     "data": {
      "text/html": [
       "<div>\n",
       "<style scoped>\n",
       "    .dataframe tbody tr th:only-of-type {\n",
       "        vertical-align: middle;\n",
       "    }\n",
       "\n",
       "    .dataframe tbody tr th {\n",
       "        vertical-align: top;\n",
       "    }\n",
       "\n",
       "    .dataframe thead th {\n",
       "        text-align: right;\n",
       "    }\n",
       "</style>\n",
       "<table border=\"1\" class=\"dataframe\">\n",
       "  <thead>\n",
       "    <tr style=\"text-align: right;\">\n",
       "      <th></th>\n",
       "      <th>total_sales</th>\n",
       "      <th>critic_score</th>\n",
       "      <th>user_score</th>\n",
       "    </tr>\n",
       "  </thead>\n",
       "  <tbody>\n",
       "    <tr>\n",
       "      <th>total_sales</th>\n",
       "      <td>1.000000</td>\n",
       "      <td>0.370201</td>\n",
       "      <td>0.407926</td>\n",
       "    </tr>\n",
       "    <tr>\n",
       "      <th>critic_score</th>\n",
       "      <td>0.370201</td>\n",
       "      <td>1.000000</td>\n",
       "      <td>0.763536</td>\n",
       "    </tr>\n",
       "    <tr>\n",
       "      <th>user_score</th>\n",
       "      <td>0.407926</td>\n",
       "      <td>0.763536</td>\n",
       "      <td>1.000000</td>\n",
       "    </tr>\n",
       "  </tbody>\n",
       "</table>\n",
       "</div>"
      ],
      "text/plain": [
       "              total_sales  critic_score  user_score\n",
       "total_sales      1.000000      0.370201    0.407926\n",
       "critic_score     0.370201      1.000000    0.763536\n",
       "user_score       0.407926      0.763536    1.000000"
      ]
     },
     "metadata": {},
     "output_type": "display_data"
    },
    {
     "name": "stdout",
     "output_type": "stream",
     "text": [
      "корреляция по платформе X360\n"
     ]
    },
    {
     "data": {
      "text/html": [
       "<div>\n",
       "<style scoped>\n",
       "    .dataframe tbody tr th:only-of-type {\n",
       "        vertical-align: middle;\n",
       "    }\n",
       "\n",
       "    .dataframe tbody tr th {\n",
       "        vertical-align: top;\n",
       "    }\n",
       "\n",
       "    .dataframe thead th {\n",
       "        text-align: right;\n",
       "    }\n",
       "</style>\n",
       "<table border=\"1\" class=\"dataframe\">\n",
       "  <thead>\n",
       "    <tr style=\"text-align: right;\">\n",
       "      <th></th>\n",
       "      <th>total_sales</th>\n",
       "      <th>critic_score</th>\n",
       "      <th>user_score</th>\n",
       "    </tr>\n",
       "  </thead>\n",
       "  <tbody>\n",
       "    <tr>\n",
       "      <th>total_sales</th>\n",
       "      <td>1.000000</td>\n",
       "      <td>0.525723</td>\n",
       "      <td>-0.138445</td>\n",
       "    </tr>\n",
       "    <tr>\n",
       "      <th>critic_score</th>\n",
       "      <td>0.525723</td>\n",
       "      <td>1.000000</td>\n",
       "      <td>0.625309</td>\n",
       "    </tr>\n",
       "    <tr>\n",
       "      <th>user_score</th>\n",
       "      <td>-0.138445</td>\n",
       "      <td>0.625309</td>\n",
       "      <td>1.000000</td>\n",
       "    </tr>\n",
       "  </tbody>\n",
       "</table>\n",
       "</div>"
      ],
      "text/plain": [
       "              total_sales  critic_score  user_score\n",
       "total_sales      1.000000      0.525723   -0.138445\n",
       "critic_score     0.525723      1.000000    0.625309\n",
       "user_score      -0.138445      0.625309    1.000000"
      ]
     },
     "metadata": {},
     "output_type": "display_data"
    },
    {
     "name": "stdout",
     "output_type": "stream",
     "text": [
      "корреляция по платформе XOne\n"
     ]
    },
    {
     "data": {
      "text/html": [
       "<div>\n",
       "<style scoped>\n",
       "    .dataframe tbody tr th:only-of-type {\n",
       "        vertical-align: middle;\n",
       "    }\n",
       "\n",
       "    .dataframe tbody tr th {\n",
       "        vertical-align: top;\n",
       "    }\n",
       "\n",
       "    .dataframe thead th {\n",
       "        text-align: right;\n",
       "    }\n",
       "</style>\n",
       "<table border=\"1\" class=\"dataframe\">\n",
       "  <thead>\n",
       "    <tr style=\"text-align: right;\">\n",
       "      <th></th>\n",
       "      <th>total_sales</th>\n",
       "      <th>critic_score</th>\n",
       "      <th>user_score</th>\n",
       "    </tr>\n",
       "  </thead>\n",
       "  <tbody>\n",
       "    <tr>\n",
       "      <th>total_sales</th>\n",
       "      <td>1.000000</td>\n",
       "      <td>0.428677</td>\n",
       "      <td>-0.070384</td>\n",
       "    </tr>\n",
       "    <tr>\n",
       "      <th>critic_score</th>\n",
       "      <td>0.428677</td>\n",
       "      <td>1.000000</td>\n",
       "      <td>0.440977</td>\n",
       "    </tr>\n",
       "    <tr>\n",
       "      <th>user_score</th>\n",
       "      <td>-0.070384</td>\n",
       "      <td>0.440977</td>\n",
       "      <td>1.000000</td>\n",
       "    </tr>\n",
       "  </tbody>\n",
       "</table>\n",
       "</div>"
      ],
      "text/plain": [
       "              total_sales  critic_score  user_score\n",
       "total_sales      1.000000      0.428677   -0.070384\n",
       "critic_score     0.428677      1.000000    0.440977\n",
       "user_score      -0.070384      0.440977    1.000000"
      ]
     },
     "metadata": {},
     "output_type": "display_data"
    }
   ],
   "source": [
    "for platform_name in promising_platforms:\n",
    "    print('корреляция по платформе', platform_name)\n",
    "    display(df_filtered\n",
    "            .query('platform == @platform_name')[['total_sales', 'critic_score', 'user_score']]\n",
    "            .corr()\n",
    "           )"
   ]
  },
  {
   "cell_type": "markdown",
   "id": "10661ae3",
   "metadata": {},
   "source": [
    "В расчет взяты только те платформы, по которым были продажи в 2016 году. С 2014 по 2016 год по этим платформам замечены следующие результаты:\n",
    "* По платформе `Wii` нет данных\n",
    "* Во всех платформах кроме `WiiU` и `PSV` отзывы критиков оказывают более существенное влияние на продажи, чем отзывы пользователей\n",
    "* Между пользовательскими отзывами и продажами наличие взаимосвязи установлено только для платформ `Wii`, `WiiU` и `3DS`. Для других платформ связь практически отсутствует\n",
    "* Наименьшим образом отзывы критиков влияют на продажи в платформе `PSV`"
   ]
  },
  {
   "cell_type": "markdown",
   "id": "1fded723",
   "metadata": {},
   "source": [
    "Перейдем к диаграммам распределения:"
   ]
  },
  {
   "cell_type": "code",
   "execution_count": 178,
   "metadata": {},
   "outputs": [
    {
     "data": {
      "image/png": "[encoded data removed]",
      "text/plain": [
       "<Figure size 1152x576 with 2 Axes>"
      ]
     },
     "metadata": {
      "needs_background": "light"
     },
     "output_type": "display_data"
    },
    {
     "data": {
      "image/png": "[encoded data removed]",
      "text/plain": [
       "<Figure size 1152x576 with 2 Axes>"
      ]
     },
     "metadata": {
      "needs_background": "light"
     },
     "output_type": "display_data"
    },
    {
     "data": {
      "image/png": "[encoded data removed]",
      "text/plain": [
       "<Figure size 1152x576 with 2 Axes>"
      ]
     },
     "metadata": {
      "needs_background": "light"
     },
     "output_type": "display_data"
    },
    {
     "data": {
      "image/png": "[encoded data removed]",
      "text/plain": [
       "<Figure size 1152x576 with 2 Axes>"
      ]
     },
     "metadata": {
      "needs_background": "light"
     },
     "output_type": "display_data"
    },
    {
     "data": {
      "image/png": "[encoded data removed]",
      "text/plain": [
       "<Figure size 1152x576 with 2 Axes>"
      ]
     },
     "metadata": {
      "needs_background": "light"
     },
     "output_type": "display_data"
    },
    {
     "data": {
      "image/png": "[encoded data removed]",
      "text/plain": [
       "<Figure size 1152x576 with 2 Axes>"
      ]
     },
     "metadata": {
      "needs_background": "light"
     },
     "output_type": "display_data"
    },
    {
     "data": {
      "image/png": "[encoded data removed]",
      "text/plain": [
       "<Figure size 1152x576 with 2 Axes>"
      ]
     },
     "metadata": {
      "needs_background": "light"
     },
     "output_type": "display_data"
    },
    {
     "data": {
      "image/png": "[encoded data removed]",
      "text/plain": [
       "<Figure size 1152x576 with 2 Axes>"
      ]
     },
     "metadata": {
      "needs_background": "light"
     },
     "output_type": "display_data"
    },
    {
     "data": {
      "image/png": "[encoded data removed]",
      "text/plain": [
       "<Figure size 1152x576 with 2 Axes>"
      ]
     },
     "metadata": {
      "needs_background": "light"
     },
     "output_type": "display_data"
    }
   ],
   "source": [
    "score_types = ['critic_score', 'user_score']\n",
    "for platform_name in promising_platforms:\n",
    "    table_placement = 0\n",
    "    platform_table = df_filtered.query('platform == @platform_name')\n",
    "    plt.figure(figsize=(16,8))\n",
    "    for score_type in score_types:\n",
    "        table_placement +=1\n",
    "        plt.subplot(2,2,table_placement)\n",
    "        plt.scatter(x=platform_table[score_type], y=platform_table['total_sales'], label='df')\n",
    "        plt.title(platform_name)\n",
    "        plt.xlabel(score_type)\n",
    "        plt.ylabel('total_sales')"
   ]
  },
  {
   "cell_type": "markdown",
   "id": "d74d5ed1",
   "metadata": {},
   "source": [
    "По диаграммам можно сделать следующие выводы: \n",
    "* Наибольший объём данных наблюдается в платформах `XOne` и `PS4` - по этим платформам видно, что среди игр с самыми высокими продажами встречаются только высокие оценки критиков. Однако между продажами и пользовательскими оценками корреляция не такая явная - у многих коммерчески успешных игр `XOne` и `PS4` встречаются низкие пользовательские оценки\n",
    "* Для остальных платформ корреляция не такая явная, и точных выводов сделать нельзя "
   ]
  },
  {
   "cell_type": "markdown",
   "id": "37ba03e2",
   "metadata": {},
   "source": [
    "### Изучение распределения игр по жанрам, выделить жанры с высокими и низкими продажами"
   ]
  },
  {
   "cell_type": "code",
   "execution_count": 179,
   "id": "6d830d66",
   "metadata": {
    "scrolled": true
   },
   "outputs": [
    {
     "data": {
      "image/png": "[encoded data removed]",
      "text/plain": [
       "<Figure size 432x288 with 1 Axes>"
      ]
     },
     "metadata": {
      "needs_background": "light"
     },
     "output_type": "display_data"
    }
   ],
   "source": [
    "(df_filtered\n",
    " .pivot_table(index='genre', values='total_sales', aggfunc='median')\n",
    " .sort_values(by='total_sales', ascending=False)\n",
    " .plot(kind='bar')\n",
    ")\n",
    "None"
   ]
  },
  {
   "cell_type": "markdown",
   "id": "01b25945",
   "metadata": {},
   "source": [
    "Наиболее высокие медианные продажи игр за 2014-2016:\n",
    "* `Shooter` - существенный отрыв от остальных жанров\n",
    "* Распределение медианных продаж остальных жанров достаточно равномерно, в топ-5 помимо жанра `Shooter` попали: `Sports`, `Platform`, `Fighting`, `Role-Playing`"
   ]
  },
  {
   "cell_type": "markdown",
   "id": "4a5c11c8",
   "metadata": {},
   "source": [
    "## Составить портрет пользователя каждого региона:"
   ]
  },
  {
   "cell_type": "markdown",
   "id": "8ce41a17",
   "metadata": {},
   "source": [
    "### Топ-5 самых популярных платформ. Описать различия в долях продаж"
   ]
  },
  {
   "cell_type": "code",
   "execution_count": 180,
   "id": "5079e337",
   "metadata": {
    "scrolled": true
   },
   "outputs": [
    {
     "data": {
      "image/png": "[encoded data removed]",
      "text/plain": [
       "<Figure size 720x360 with 1 Axes>"
      ]
     },
     "metadata": {
      "needs_background": "light"
     },
     "output_type": "display_data"
    },
    {
     "data": {
      "image/png": "[encoded data removed]",
      "text/plain": [
       "<Figure size 720x360 with 1 Axes>"
      ]
     },
     "metadata": {
      "needs_background": "light"
     },
     "output_type": "display_data"
    },
    {
     "data": {
      "image/png": "[encoded data removed]",
      "text/plain": [
       "<Figure size 720x360 with 1 Axes>"
      ]
     },
     "metadata": {
      "needs_background": "light"
     },
     "output_type": "display_data"
    },
    {
     "data": {
      "image/png": "[encoded data removed]",
      "text/plain": [
       "<Figure size 720x360 with 1 Axes>"
      ]
     },
     "metadata": {
      "needs_background": "light"
     },
     "output_type": "display_data"
    }
   ],
   "source": [
    "regions = ['na_sales', 'eu_sales', 'jp_sales', 'other_sales']\n",
    "\n",
    "for region in regions:    \n",
    "    sales_by_platform = (df_filtered\n",
    "                         .pivot_table(index='platform', values=region, aggfunc='sum')\n",
    "                        )\n",
    "    sales_by_platform['sales_share'] = sales_by_platform[region] / (sales_by_platform[region].sum())\n",
    "    (sales_by_platform\n",
    "     .sort_values(by='sales_share', ascending=False)\n",
    "     .head()\n",
    "     .plot(title=region, kind='bar', y='sales_share', grid=True, figsize=(10,5))\n",
    "    )"
   ]
  },
  {
   "cell_type": "markdown",
   "id": "2eb57c2b",
   "metadata": {},
   "source": [
    "В 2014-2016 годах:\n",
    "* Во всех регионах кроме Японии абсолютными лидерами по доле продаж были `PS4` и `Xone`\n",
    "* Во всех регионах в топ-5 вошли платформы: `PS4`, `PS3`, `3DS`\n",
    "* Япония больше других отличается от общемировых трендов: в топ-1 вошла платформа `3DS`"
   ]
  },
  {
   "cell_type": "markdown",
   "id": "e0192f69",
   "metadata": {},
   "source": [
    "### Топ-5 самых популярных жанров. Пояснить разницу"
   ]
  },
  {
   "cell_type": "code",
   "execution_count": 181,
   "id": "1e9eab11",
   "metadata": {},
   "outputs": [
    {
     "data": {
      "image/png": "[encoded data removed]",
      "text/plain": [
       "<Figure size 720x360 with 1 Axes>"
      ]
     },
     "metadata": {
      "needs_background": "light"
     },
     "output_type": "display_data"
    },
    {
     "data": {
      "image/png": "[encoded data removed]",
      "text/plain": [
       "<Figure size 720x360 with 1 Axes>"
      ]
     },
     "metadata": {
      "needs_background": "light"
     },
     "output_type": "display_data"
    },
    {
     "data": {
      "image/png": "[encoded data removed]",
      "text/plain": [
       "<Figure size 720x360 with 1 Axes>"
      ]
     },
     "metadata": {
      "needs_background": "light"
     },
     "output_type": "display_data"
    },
    {
     "data": {
      "image/png": "[encoded data removed]",
      "text/plain": [
       "<Figure size 720x360 with 1 Axes>"
      ]
     },
     "metadata": {
      "needs_background": "light"
     },
     "output_type": "display_data"
    }
   ],
   "source": [
    "for region in regions:    \n",
    "    sales_by_genre = (df_filtered.pivot_table(index='genre', values=region, aggfunc='sum'))\n",
    "    sales_by_genre['sales_share'] = sales_by_genre[region] / (sales_by_genre[region].sum())\n",
    "    (sales_by_genre\n",
    "        .sort_values(by='sales_share', ascending=False)\n",
    "        .head()\n",
    "        .plot(title=region, kind='bar', y='sales_share', grid=True, figsize=(10,5))\n",
    "    )\n",
    "None"
   ]
  },
  {
   "cell_type": "markdown",
   "id": "565ac556",
   "metadata": {},
   "source": [
    "В 2014-2016 годах:\n",
    "* Во всех регионах кроме Японии абсолютными лидерами по доле продаж были жанры `Action` и `Shooter`\n",
    "* Во всех регионах кроме Японии в топ-5 вошли жанры: `Shooter`, `Action`, `Sports`, `RPG`\n",
    "* Япония больше других отличается от общемировых трендов: в топ-5 вошел жанр `Fighting`, который не вошел в топ-5 по продажам в других странах. В Японии жанр-лидеры по продажам - `Role-Playing` и `Action`, остальные же жанры сильно уступают по доле продаж"
   ]
  },
  {
   "cell_type": "markdown",
   "id": "832db151",
   "metadata": {},
   "source": [
    "### Оценить, влияет ли рейтинг ERSB на продажи в отдельном регионе"
   ]
  },
  {
   "cell_type": "code",
   "execution_count": 182,
   "id": "fea76d11",
   "metadata": {
    "scrolled": true
   },
   "outputs": [
    {
     "data": {
      "image/png": "[encoded data removed]",
      "text/plain": [
       "<Figure size 720x360 with 1 Axes>"
      ]
     },
     "metadata": {
      "needs_background": "light"
     },
     "output_type": "display_data"
    },
    {
     "data": {
      "image/png": "[encoded data removed]",
      "text/plain": [
       "<Figure size 720x360 with 1 Axes>"
      ]
     },
     "metadata": {
      "needs_background": "light"
     },
     "output_type": "display_data"
    },
    {
     "data": {
      "image/png": "[encoded data removed]",
      "text/plain": [
       "<Figure size 720x360 with 1 Axes>"
      ]
     },
     "metadata": {
      "needs_background": "light"
     },
     "output_type": "display_data"
    },
    {
     "data": {
      "image/png": "[encoded data removed]",
      "text/plain": [
       "<Figure size 720x360 with 1 Axes>"
      ]
     },
     "metadata": {
      "needs_background": "light"
     },
     "output_type": "display_data"
    }
   ],
   "source": [
    "for region in regions:    \n",
    "    sales_by_rating = (df_filtered\n",
    "                       .query('rating != \"UNKNWN\"')\n",
    "                       .pivot_table(index='rating', values=region, aggfunc='sum'))\n",
    "    sales_by_rating['sales_share'] = sales_by_rating[region] / (sales_by_rating[region].sum())\n",
    "    (sales_by_rating\n",
    "        .sort_values(by='sales_share', ascending=False)\n",
    "        .plot(title=region, kind='bar', y='sales_share', grid=True, figsize=(10,5))\n",
    "    )\n",
    "None"
   ]
  },
  {
   "cell_type": "markdown",
   "id": "6ad30d24",
   "metadata": {},
   "source": [
    "Проверим зависимость за весь период:"
   ]
  },
  {
   "cell_type": "markdown",
   "id": "185e3345",
   "metadata": {},
   "source": [
    "Можно сделать следующие выводы:\n",
    "* Во всех регионах кроме Японии больше всего продаж наблюдается у игр с рейтингом `M`. Градация популярности игр с другим рейтингом также совпадает: на втором месте рейтинг `E`, на третьем - `T`, на четвертом - `E10+`\n",
    "* В Японии лидирует жанр `T`"
   ]
  },
  {
   "cell_type": "markdown",
   "id": "464b1dfc",
   "metadata": {},
   "source": [
    "## Проверить гипотезы:"
   ]
  },
  {
   "cell_type": "markdown",
   "id": "20df9714",
   "metadata": {},
   "source": [
    "### Средние пользовательские рейтинги платформ Xbox One и PC одинаковые"
   ]
  },
  {
   "cell_type": "markdown",
   "id": "8a88e973",
   "metadata": {},
   "source": [
    "Чтобы проверить гипотезу, лучше проверять именно наличие различий между рейтингами. То есть за гипотезу `H₀` стоит взять равенство между пользовательскими рейтингами\n",
    "\n",
    "Формулируем нулевую и альтернативную гипотезы: \n",
    "* `H₀`: средние пользовательские рейтинги Xbox One равны аналогичному показателю PC;\n",
    "* `H₁`: средние пользовательские рейтинги Xbox One не равны аналогичному показателю PC;\n",
    "\n",
    "Гипотезу можно сформулировать с помощью кода:\n",
    "* `H₀`: df.query('platform == \"XOne\"')['user_score'].mean() == df.query('platform == \"PC\"')['user_score'].mean()\n",
    "* `H₁`: df.query('platform == \"XOne\"')['user_score'].mean() != df.query('platform == \"PC\"')['user_score'].mean()\n",
    "\n",
    "Так как значения могут различаться в разную сторону, тест будет двусторонним:"
   ]
  },
  {
   "cell_type": "code",
   "execution_count": 183,
   "id": "b4a754dd",
   "metadata": {
    "scrolled": true
   },
   "outputs": [
    {
     "name": "stdout",
     "output_type": "stream",
     "text": [
      "p-значение: 0.10450507919348415\n",
      "Не получилось отвергнуть нулевую гипотезу\n"
     ]
    }
   ],
   "source": [
    "df_xone_score = df_filtered.query('platform == \"XOne\"')['user_score'].dropna()\n",
    "\n",
    "df_pc_score = df_filtered.query('platform == \"PC\"')['user_score'].dropna()\n",
    "\n",
    "alpha = 0.01\n",
    "\n",
    "results = st.ttest_ind(df_xone_score, df_pc_score)\n",
    "\n",
    "print('p-значение:', results.pvalue)\n",
    "\n",
    "if results.pvalue < alpha:\n",
    "    print(\"Отвергаем нулевую гипотезу\")\n",
    "else:\n",
    "    print(\"Не получилось отвергнуть нулевую гипотезу\")"
   ]
  },
  {
   "cell_type": "markdown",
   "id": "7f8b8caa",
   "metadata": {},
   "source": [
    "Не удалось отвергнуть гипотезу `H₀` о том, что средние пользовательские рейтинги платформ Xbox One и PC одинаковые"
   ]
  },
  {
   "cell_type": "markdown",
   "id": "b75221df",
   "metadata": {},
   "source": [
    "### Средние пользовательские рейтинги жанров Action и Sports разные"
   ]
  },
  {
   "cell_type": "markdown",
   "id": "09c6382e",
   "metadata": {},
   "source": [
    "Формулируем нулевую и альтернативную гипотезы: \n",
    "* `H₀`: средние пользовательские рейтинги жанра Sports равны аналогичному показателю жанра Action;\n",
    "* `H₁`: средние пользовательские рейтинги жанра Sports не равны аналогичному показателю жанра Action;\n",
    "\n",
    "Гипотезу можно сформулировать с помощью кода:\n",
    "* `H₀`: df.query('genre == \"Sports\"')['user_score'].mean() == df.query('genre == \"Action\"')['user_score'].mean()\n",
    "* `H₁`: df.query('genre == \"Sports\"')['user_score'].mean() != df.query('genre == \"Action\"')['user_score'].mean()\n",
    "\n",
    "Так как значения могут различаться в разную сторону, тест будет двусторонним:"
   ]
  },
  {
   "cell_type": "code",
   "execution_count": 184,
   "metadata": {},
   "outputs": [
    {
     "name": "stdout",
     "output_type": "stream",
     "text": [
      "p-значение: 2.8711147985105864e-19\n",
      "Отвергаем нулевую гипотезу\n"
     ]
    }
   ],
   "source": [
    "df_xone_score = df_filtered.query('genre == \"Sports\"')['user_score'].dropna()\n",
    "\n",
    "df_pc_score = df_filtered.query('genre == \"Action\"')['user_score'].dropna()\n",
    "\n",
    "alpha = 0.01\n",
    "\n",
    "results = st.ttest_ind(df_xone_score, df_pc_score)\n",
    "\n",
    "print('p-значение:', results.pvalue)\n",
    "\n",
    "if results.pvalue < alpha:\n",
    "    print(\"Отвергаем нулевую гипотезу\")\n",
    "else:\n",
    "    print(\"Не получилось отвергнуть нулевую гипотезу\")"
   ]
  },
  {
   "cell_type": "markdown",
   "id": "88b2512a",
   "metadata": {},
   "source": [
    "Принимаем гипотезу `H₁` - средние пользовательские рейтинги жанров Action и Sports различаются"
   ]
  },
  {
   "cell_type": "markdown",
   "id": "88b2512a",
   "metadata": {},
   "source": [
    "Дополнительно можно провести односторонний тест:\n",
    "Формулируем нулевую и альтернативную гипотезы: \n",
    "* `H₀`: средние пользовательские рейтинги жанра Action равны аналогичному показателю жанра Sports;\n",
    "* `H₁`: средние пользовательские рейтинги жанра Action выше аналогичного показателя жанра Sports;"
   ]
  },
  {
   "cell_type": "code",
   "execution_count": 185,
   "metadata": {
    "scrolled": true
   },
   "outputs": [
    {
     "name": "stdout",
     "output_type": "stream",
     "text": [
      "p-значение: 2.8711147985105864e-19\n",
      "Отвергаем нулевую гипотезу\n"
     ]
    }
   ],
   "source": [
    "df_sports_score = df_filtered.query('genre == \"Sports\"')['user_score'].dropna()\n",
    "\n",
    "df_action_score = df_filtered.query('genre == \"Action\"')['user_score'].dropna()\n",
    "\n",
    "alpha = 0.01\n",
    "\n",
    "results = st.ttest_ind(df_sports_score, df_action_score)\n",
    "\n",
    "print('p-значение:', results.pvalue)\n",
    "\n",
    "if results.pvalue / 2 < alpha and (df_action_score.mean() > df_sports_score.mean()):\n",
    "    print(\"Отвергаем нулевую гипотезу\")\n",
    "else:\n",
    "    print(\"Не получилось отвергнуть нулевую гипотезу\")"
   ]
  },
  {
   "cell_type": "markdown",
   "id": "88b2512a",
   "metadata": {},
   "source": [
    "Принимаем гипотезу `H₁` - средние пользовательские рейтинги жанра Action выше средних пользовательских оценок жанра Sports"
   ]
  },
  {
   "cell_type": "markdown",
   "id": "acecd7ab",
   "metadata": {},
   "source": [
    "## Общий вывод:"
   ]
  },
  {
   "cell_type": "markdown",
   "id": "9790cef4",
   "metadata": {},
   "source": [
    "В течение проекта были выполнены следущие блоки работ:\n",
    "* изучен основной датасет\n",
    "* заменены названия столбцов\n",
    "* часть неизвестных значений была удалена, часть - восстановлена\n",
    "* все данные приведены в нужный тип\n",
    "* изучено распределение данных на предмет наличия аномалий\n",
    "* суммарные продажи посчитаны в отдельный столбец\n",
    "* проведен исследовательский анализ данных\n",
    "* описан портрет каждого региона\n",
    "* проверены 2 гипотезы\n",
    "\n",
    "Исследовательский анализ данных:\n",
    "\n",
    "* В течение всего периода было выявлено, что динамика по продажам с 1980 по 2016 год имеет глобальный период роста до 2008 года и снижения к 2016 году\n",
    "* Платформы-лидеры продаж за всю историю - `PS2`, `X360`, `DS`, `Wii`, `PS3`. Средний срок жизни платформы - 6.5 лет\n",
    "* Наиболее перспективные платформы по абсолютным продажам - `PS4`, `XOne`, `3DS`, по перспективе роста - `PSV`, `PC`\n",
    "* Выбран актуальный период для исследования - 2014-2016 годы\n",
    "* Чаще всего отзывы критиков оказывают более существенное влияние на продажи, чем отзывы пользователей\n",
    "* Жанр с самыми высокими медианными продажами в 2014-2016 году: `Shooter`. Также в топ-5 попали: `Sports`, `Platform`, `Fighting`, `Role-Playing`\n",
    "\n",
    "Портрет пользователя каждого региона 2014-2016:\n",
    "\n",
    "* Во всех регионах кроме Японии абсолютными лидерами по доле продаж были `PS4` и `Xone`, в Японии - `3DS`\n",
    "* В 2016 году во всех регионах кроме Японии абсолютными лидерами по доле продаж были жанры `Action` и `Shooter`, в Японии жанр-лидер по продажам - `RPG`\n",
    "* Во всех регионах кроме Японии больше всего продаж наблюдается у игр с рейтингом `M`. В Японии лидирует жанр `T`\n",
    "\n",
    "Проверка гипотез:\n",
    "\n",
    "* В результате теста не удалось отвергнуть гипотезу о том, что средние пользовательские оценки `XOne` и `PC` одинаковы\n",
    "* В результате теста была принята гипотеза `H₁` о том, что средние пользовательские рейтинги жанра `Action` выше аналогичного показателя жанра `Sports`;\n",
    "\n",
    "Самые перспективные платформы:\n",
    "* самыми перспективными платформами на 2017 год по объему продаж можно считать `PS4`, `XOne`, `3DS`. Также стоит обратить внимание на платформы `PSV`, `PC` - эти платформы показали лучшие результаты по динамике продаж с 2015 по 2016 год"
   ]
  }
 ],
 "metadata": {
  "ExecuteTimeLog": [
   {
    "duration": 1693,
    "start_time": "2022-04-12T19:10:10.914Z"
   },
   {
    "duration": 72,
    "start_time": "2022-04-12T19:10:12.609Z"
   },
   {
    "duration": 5,
    "start_time": "2022-04-12T19:10:12.683Z"
   },
   {
    "duration": 11,
    "start_time": "2022-04-12T19:10:12.690Z"
   },
   {
    "duration": 49,
    "start_time": "2022-04-12T19:10:12.704Z"
   },
   {
    "duration": 33,
    "start_time": "2022-04-12T19:10:12.756Z"
   },
   {
    "duration": 84,
    "start_time": "2022-04-12T19:10:12.791Z"
   },
   {
    "duration": 20,
    "start_time": "2022-04-12T19:10:12.877Z"
   },
   {
    "duration": 57,
    "start_time": "2022-04-12T19:10:12.900Z"
   },
   {
    "duration": 6,
    "start_time": "2022-04-12T19:10:12.959Z"
   },
   {
    "duration": 324,
    "start_time": "2022-04-12T19:10:12.967Z"
   },
   {
    "duration": 18,
    "start_time": "2022-04-12T19:10:13.293Z"
   },
   {
    "duration": 1247,
    "start_time": "2022-04-12T19:10:13.313Z"
   },
   {
    "duration": 208,
    "start_time": "2022-04-12T19:10:14.565Z"
   },
   {
    "duration": 5,
    "start_time": "2022-04-12T19:10:14.775Z"
   },
   {
    "duration": 317,
    "start_time": "2022-04-12T19:10:14.782Z"
   },
   {
    "duration": 69,
    "start_time": "2022-04-12T19:10:15.101Z"
   },
   {
    "duration": 406,
    "start_time": "2022-04-12T19:10:15.172Z"
   },
   {
    "duration": 294,
    "start_time": "2022-04-12T19:10:15.582Z"
   },
   {
    "duration": 211,
    "start_time": "2022-04-12T19:10:15.878Z"
   },
   {
    "duration": 183,
    "start_time": "2022-04-12T19:10:16.091Z"
   },
   {
    "duration": 1024,
    "start_time": "2022-04-12T19:10:16.277Z"
   },
   {
    "duration": 957,
    "start_time": "2022-04-12T19:10:17.303Z"
   },
   {
    "duration": 295,
    "start_time": "2022-04-12T19:10:18.262Z"
   },
   {
    "duration": 304,
    "start_time": "2022-04-12T19:10:18.559Z"
   },
   {
    "duration": 118,
    "start_time": "2022-04-12T19:10:18.865Z"
   },
   {
    "duration": 167,
    "start_time": "2022-04-12T19:10:18.985Z"
   },
   {
    "duration": 490,
    "start_time": "2022-04-12T19:10:19.155Z"
   },
   {
    "duration": 15,
    "start_time": "2022-04-12T19:10:19.648Z"
   },
   {
    "duration": 17,
    "start_time": "2022-04-12T19:10:19.666Z"
   },
   {
    "duration": 72,
    "start_time": "2022-04-12T19:10:19.686Z"
   },
   {
    "duration": 18,
    "start_time": "2022-04-12T19:10:19.761Z"
   },
   {
    "duration": 71,
    "start_time": "2022-04-12T19:10:19.783Z"
   },
   {
    "duration": 308,
    "start_time": "2022-04-12T19:13:51.548Z"
   },
   {
    "duration": 431,
    "start_time": "2022-04-12T19:14:18.456Z"
   },
   {
    "duration": 322,
    "start_time": "2022-04-12T19:15:15.105Z"
   },
   {
    "duration": 11,
    "start_time": "2022-04-12T19:15:24.447Z"
   },
   {
    "duration": 363,
    "start_time": "2022-04-12T19:15:30.925Z"
   },
   {
    "duration": 4,
    "start_time": "2022-04-12T19:22:47.752Z"
   },
   {
    "duration": 67,
    "start_time": "2022-04-12T19:22:47.759Z"
   },
   {
    "duration": 23,
    "start_time": "2022-04-12T19:22:47.829Z"
   },
   {
    "duration": 10,
    "start_time": "2022-04-12T19:22:47.854Z"
   },
   {
    "duration": 12,
    "start_time": "2022-04-12T19:22:47.867Z"
   },
   {
    "duration": 29,
    "start_time": "2022-04-12T19:22:47.882Z"
   },
   {
    "duration": 69,
    "start_time": "2022-04-12T19:22:47.913Z"
   },
   {
    "duration": 17,
    "start_time": "2022-04-12T19:22:47.985Z"
   },
   {
    "duration": 21,
    "start_time": "2022-04-12T19:22:48.005Z"
   },
   {
    "duration": 1302,
    "start_time": "2022-04-12T19:22:48.052Z"
   },
   {
    "duration": 6,
    "start_time": "2022-04-12T19:22:49.356Z"
   },
   {
    "duration": 283,
    "start_time": "2022-04-12T19:22:49.364Z"
   },
   {
    "duration": 17,
    "start_time": "2022-04-12T19:22:49.652Z"
   },
   {
    "duration": 1292,
    "start_time": "2022-04-12T19:22:49.675Z"
   },
   {
    "duration": 195,
    "start_time": "2022-04-12T19:22:50.969Z"
   },
   {
    "duration": 5,
    "start_time": "2022-04-12T19:22:51.167Z"
   },
   {
    "duration": 282,
    "start_time": "2022-04-12T19:22:51.175Z"
   },
   {
    "duration": 49,
    "start_time": "2022-04-12T19:22:51.460Z"
   },
   {
    "duration": 394,
    "start_time": "2022-04-12T19:22:51.512Z"
   },
   {
    "duration": 272,
    "start_time": "2022-04-12T19:22:51.909Z"
   },
   {
    "duration": 212,
    "start_time": "2022-04-12T19:22:52.183Z"
   },
   {
    "duration": 168,
    "start_time": "2022-04-12T19:22:52.397Z"
   },
   {
    "duration": 932,
    "start_time": "2022-04-12T19:22:52.568Z"
   },
   {
    "duration": 1031,
    "start_time": "2022-04-12T19:22:53.502Z"
   },
   {
    "duration": 299,
    "start_time": "2022-04-12T19:22:54.536Z"
   },
   {
    "duration": 291,
    "start_time": "2022-04-12T19:22:54.837Z"
   },
   {
    "duration": 96,
    "start_time": "2022-04-12T19:22:55.131Z"
   },
   {
    "duration": 104,
    "start_time": "2022-04-12T19:22:55.251Z"
   },
   {
    "duration": 509,
    "start_time": "2022-04-12T19:22:55.358Z"
   },
   {
    "duration": 11,
    "start_time": "2022-04-12T19:22:55.869Z"
   },
   {
    "duration": 14,
    "start_time": "2022-04-12T19:22:55.882Z"
   },
   {
    "duration": 16,
    "start_time": "2022-04-12T19:22:55.898Z"
   },
   {
    "duration": 48,
    "start_time": "2022-04-12T19:22:55.916Z"
   },
   {
    "duration": 16,
    "start_time": "2022-04-12T19:22:55.967Z"
   },
   {
    "duration": 1309,
    "start_time": "2022-04-12T19:24:02.580Z"
   },
   {
    "duration": 1324,
    "start_time": "2022-04-12T19:24:15.259Z"
   },
   {
    "duration": 4,
    "start_time": "2022-04-12T19:24:32.490Z"
   },
   {
    "duration": 73,
    "start_time": "2022-04-12T19:24:32.497Z"
   },
   {
    "duration": 4,
    "start_time": "2022-04-12T19:24:32.572Z"
   },
   {
    "duration": 10,
    "start_time": "2022-04-12T19:24:32.578Z"
   },
   {
    "duration": 13,
    "start_time": "2022-04-12T19:24:32.591Z"
   },
   {
    "duration": 72,
    "start_time": "2022-04-12T19:24:32.606Z"
   },
   {
    "duration": 42,
    "start_time": "2022-04-12T19:24:32.680Z"
   },
   {
    "duration": 38,
    "start_time": "2022-04-12T19:24:32.725Z"
   },
   {
    "duration": 22,
    "start_time": "2022-04-12T19:24:32.765Z"
   },
   {
    "duration": 1266,
    "start_time": "2022-04-12T19:24:32.789Z"
   },
   {
    "duration": 8,
    "start_time": "2022-04-12T19:24:34.057Z"
   },
   {
    "duration": 287,
    "start_time": "2022-04-12T19:24:34.067Z"
   },
   {
    "duration": 18,
    "start_time": "2022-04-12T19:24:34.360Z"
   },
   {
    "duration": 1192,
    "start_time": "2022-04-12T19:24:34.380Z"
   },
   {
    "duration": 202,
    "start_time": "2022-04-12T19:24:35.575Z"
   },
   {
    "duration": 13,
    "start_time": "2022-04-12T19:24:35.780Z"
   },
   {
    "duration": 298,
    "start_time": "2022-04-12T19:24:35.796Z"
   },
   {
    "duration": 64,
    "start_time": "2022-04-12T19:24:36.096Z"
   },
   {
    "duration": 453,
    "start_time": "2022-04-12T19:24:36.162Z"
   },
   {
    "duration": 278,
    "start_time": "2022-04-12T19:24:36.617Z"
   },
   {
    "duration": 210,
    "start_time": "2022-04-12T19:24:36.897Z"
   },
   {
    "duration": 181,
    "start_time": "2022-04-12T19:24:37.109Z"
   },
   {
    "duration": 933,
    "start_time": "2022-04-12T19:24:37.293Z"
   },
   {
    "duration": 939,
    "start_time": "2022-04-12T19:24:38.228Z"
   },
   {
    "duration": 371,
    "start_time": "2022-04-12T19:24:39.169Z"
   },
   {
    "duration": 290,
    "start_time": "2022-04-12T19:24:39.542Z"
   },
   {
    "duration": 124,
    "start_time": "2022-04-12T19:24:39.834Z"
   },
   {
    "duration": 108,
    "start_time": "2022-04-12T19:24:39.961Z"
   },
   {
    "duration": 462,
    "start_time": "2022-04-12T19:24:40.072Z"
   },
   {
    "duration": 19,
    "start_time": "2022-04-12T19:24:40.537Z"
   },
   {
    "duration": 13,
    "start_time": "2022-04-12T19:24:40.558Z"
   },
   {
    "duration": 19,
    "start_time": "2022-04-12T19:24:40.573Z"
   },
   {
    "duration": 21,
    "start_time": "2022-04-12T19:24:40.595Z"
   },
   {
    "duration": 43,
    "start_time": "2022-04-12T19:24:40.619Z"
   },
   {
    "duration": 4,
    "start_time": "2022-04-12T19:24:56.786Z"
   },
   {
    "duration": 80,
    "start_time": "2022-04-12T19:24:56.793Z"
   },
   {
    "duration": 6,
    "start_time": "2022-04-12T19:24:56.875Z"
   },
   {
    "duration": 8,
    "start_time": "2022-04-12T19:24:56.886Z"
   },
   {
    "duration": 14,
    "start_time": "2022-04-12T19:24:56.897Z"
   },
   {
    "duration": 68,
    "start_time": "2022-04-12T19:24:56.913Z"
   },
   {
    "duration": 74,
    "start_time": "2022-04-12T19:24:56.984Z"
   },
   {
    "duration": 22,
    "start_time": "2022-04-12T19:24:57.060Z"
   },
   {
    "duration": 22,
    "start_time": "2022-04-12T19:24:57.087Z"
   },
   {
    "duration": 441,
    "start_time": "2022-04-12T19:24:57.112Z"
   },
   {
    "duration": 7,
    "start_time": "2022-04-12T19:24:57.555Z"
   },
   {
    "duration": 277,
    "start_time": "2022-04-12T19:24:57.564Z"
   },
   {
    "duration": 19,
    "start_time": "2022-04-12T19:24:57.851Z"
   },
   {
    "duration": 1207,
    "start_time": "2022-04-12T19:24:57.872Z"
   },
   {
    "duration": 195,
    "start_time": "2022-04-12T19:24:59.082Z"
   },
   {
    "duration": 5,
    "start_time": "2022-04-12T19:24:59.279Z"
   },
   {
    "duration": 281,
    "start_time": "2022-04-12T19:24:59.286Z"
   },
   {
    "duration": 46,
    "start_time": "2022-04-12T19:24:59.569Z"
   },
   {
    "duration": 389,
    "start_time": "2022-04-12T19:24:59.617Z"
   },
   {
    "duration": 373,
    "start_time": "2022-04-12T19:25:00.009Z"
   },
   {
    "duration": 236,
    "start_time": "2022-04-12T19:25:00.384Z"
   },
   {
    "duration": 188,
    "start_time": "2022-04-12T19:25:00.622Z"
   },
   {
    "duration": 1029,
    "start_time": "2022-04-12T19:25:00.813Z"
   },
   {
    "duration": 952,
    "start_time": "2022-04-12T19:25:01.854Z"
   },
   {
    "duration": 285,
    "start_time": "2022-04-12T19:25:02.808Z"
   },
   {
    "duration": 288,
    "start_time": "2022-04-12T19:25:03.095Z"
   },
   {
    "duration": 103,
    "start_time": "2022-04-12T19:25:03.385Z"
   },
   {
    "duration": 201,
    "start_time": "2022-04-12T19:25:03.490Z"
   },
   {
    "duration": 491,
    "start_time": "2022-04-12T19:25:03.693Z"
   },
   {
    "duration": 11,
    "start_time": "2022-04-12T19:25:04.186Z"
   },
   {
    "duration": 13,
    "start_time": "2022-04-12T19:25:04.199Z"
   },
   {
    "duration": 43,
    "start_time": "2022-04-12T19:25:04.214Z"
   },
   {
    "duration": 17,
    "start_time": "2022-04-12T19:25:04.259Z"
   },
   {
    "duration": 15,
    "start_time": "2022-04-12T19:25:04.279Z"
   },
   {
    "duration": 427,
    "start_time": "2022-04-12T19:25:15.948Z"
   },
   {
    "duration": 84,
    "start_time": "2022-04-12T19:25:41.286Z"
   },
   {
    "duration": 1112,
    "start_time": "2022-04-12T19:27:17.023Z"
   },
   {
    "duration": 1495,
    "start_time": "2022-04-12T19:27:35.439Z"
   },
   {
    "duration": 36,
    "start_time": "2022-04-12T19:30:23.490Z"
   },
   {
    "duration": 35,
    "start_time": "2022-04-12T19:33:02.193Z"
   },
   {
    "duration": 993,
    "start_time": "2022-04-12T19:33:52.772Z"
   },
   {
    "duration": 999,
    "start_time": "2022-04-12T19:34:42.974Z"
   },
   {
    "duration": 962,
    "start_time": "2022-04-12T19:35:06.155Z"
   },
   {
    "duration": 4,
    "start_time": "2022-04-12T19:56:20.344Z"
   },
   {
    "duration": 74,
    "start_time": "2022-04-12T19:56:20.351Z"
   },
   {
    "duration": 25,
    "start_time": "2022-04-12T19:56:20.428Z"
   },
   {
    "duration": 18,
    "start_time": "2022-04-12T19:56:20.455Z"
   },
   {
    "duration": 13,
    "start_time": "2022-04-12T19:56:20.476Z"
   },
   {
    "duration": 35,
    "start_time": "2022-04-12T19:56:20.491Z"
   },
   {
    "duration": 56,
    "start_time": "2022-04-12T19:56:20.528Z"
   },
   {
    "duration": 18,
    "start_time": "2022-04-12T19:56:20.587Z"
   },
   {
    "duration": 45,
    "start_time": "2022-04-12T19:56:20.607Z"
   },
   {
    "duration": 924,
    "start_time": "2022-04-12T19:56:20.655Z"
   },
   {
    "duration": 1064,
    "start_time": "2022-04-12T19:56:21.584Z"
   },
   {
    "duration": 433,
    "start_time": "2022-04-12T19:56:22.652Z"
   },
   {
    "duration": 6,
    "start_time": "2022-04-12T19:56:23.088Z"
   },
   {
    "duration": 287,
    "start_time": "2022-04-12T19:56:23.096Z"
   },
   {
    "duration": 16,
    "start_time": "2022-04-12T19:56:23.386Z"
   },
   {
    "duration": 1186,
    "start_time": "2022-04-12T19:56:23.405Z"
   },
   {
    "duration": 193,
    "start_time": "2022-04-12T19:56:24.594Z"
   },
   {
    "duration": 5,
    "start_time": "2022-04-12T19:56:24.789Z"
   },
   {
    "duration": 277,
    "start_time": "2022-04-12T19:56:24.796Z"
   },
   {
    "duration": 45,
    "start_time": "2022-04-12T19:56:25.076Z"
   },
   {
    "duration": 384,
    "start_time": "2022-04-12T19:56:25.123Z"
   },
   {
    "duration": 278,
    "start_time": "2022-04-12T19:56:25.509Z"
   },
   {
    "duration": 307,
    "start_time": "2022-04-12T19:56:25.790Z"
   },
   {
    "duration": 164,
    "start_time": "2022-04-12T19:56:26.099Z"
   },
   {
    "duration": 918,
    "start_time": "2022-04-12T19:56:26.265Z"
   },
   {
    "duration": 929,
    "start_time": "2022-04-12T19:56:27.185Z"
   },
   {
    "duration": 281,
    "start_time": "2022-04-12T19:56:28.116Z"
   },
   {
    "duration": 300,
    "start_time": "2022-04-12T19:56:28.399Z"
   },
   {
    "duration": 102,
    "start_time": "2022-04-12T19:56:28.703Z"
   },
   {
    "duration": 109,
    "start_time": "2022-04-12T19:56:28.807Z"
   },
   {
    "duration": 505,
    "start_time": "2022-04-12T19:56:28.918Z"
   },
   {
    "duration": 27,
    "start_time": "2022-04-12T19:56:29.425Z"
   },
   {
    "duration": 14,
    "start_time": "2022-04-12T19:56:29.455Z"
   },
   {
    "duration": 16,
    "start_time": "2022-04-12T19:56:29.472Z"
   },
   {
    "duration": 18,
    "start_time": "2022-04-12T19:56:29.490Z"
   },
   {
    "duration": 55,
    "start_time": "2022-04-12T19:56:29.511Z"
   },
   {
    "duration": 1559,
    "start_time": "2022-04-22T13:14:07.436Z"
   },
   {
    "duration": 69,
    "start_time": "2022-04-22T13:14:08.997Z"
   },
   {
    "duration": 4,
    "start_time": "2022-04-22T13:14:09.068Z"
   },
   {
    "duration": 11,
    "start_time": "2022-04-22T13:14:09.074Z"
   },
   {
    "duration": 9,
    "start_time": "2022-04-22T13:14:09.086Z"
   },
   {
    "duration": 32,
    "start_time": "2022-04-22T13:14:09.096Z"
   },
   {
    "duration": 25,
    "start_time": "2022-04-22T13:14:09.130Z"
   },
   {
    "duration": 17,
    "start_time": "2022-04-22T13:14:09.157Z"
   },
   {
    "duration": 42,
    "start_time": "2022-04-22T13:14:09.176Z"
   },
   {
    "duration": 619,
    "start_time": "2022-04-22T13:14:09.220Z"
   },
   {
    "duration": 716,
    "start_time": "2022-04-22T13:14:09.841Z"
   },
   {
    "duration": 286,
    "start_time": "2022-04-22T13:14:10.559Z"
   },
   {
    "duration": 4,
    "start_time": "2022-04-22T13:14:10.847Z"
   },
   {
    "duration": 194,
    "start_time": "2022-04-22T13:14:10.853Z"
   },
   {
    "duration": 16,
    "start_time": "2022-04-22T13:14:11.049Z"
   },
   {
    "duration": 828,
    "start_time": "2022-04-22T13:14:11.066Z"
   },
   {
    "duration": 161,
    "start_time": "2022-04-22T13:14:11.901Z"
   },
   {
    "duration": 4,
    "start_time": "2022-04-22T13:14:12.064Z"
   },
   {
    "duration": 185,
    "start_time": "2022-04-22T13:14:12.069Z"
   },
   {
    "duration": 27,
    "start_time": "2022-04-22T13:14:12.256Z"
   },
   {
    "duration": 229,
    "start_time": "2022-04-22T13:14:12.285Z"
   },
   {
    "duration": 162,
    "start_time": "2022-04-22T13:14:12.516Z"
   },
   {
    "duration": 157,
    "start_time": "2022-04-22T13:14:12.679Z"
   },
   {
    "duration": 116,
    "start_time": "2022-04-22T13:14:12.837Z"
   },
   {
    "duration": 659,
    "start_time": "2022-04-22T13:14:12.954Z"
   },
   {
    "duration": 743,
    "start_time": "2022-04-22T13:14:13.615Z"
   },
   {
    "duration": 186,
    "start_time": "2022-04-22T13:14:14.360Z"
   },
   {
    "duration": 205,
    "start_time": "2022-04-22T13:14:14.550Z"
   },
   {
    "duration": 70,
    "start_time": "2022-04-22T13:14:14.757Z"
   },
   {
    "duration": 85,
    "start_time": "2022-04-22T13:14:14.829Z"
   },
   {
    "duration": 316,
    "start_time": "2022-04-22T13:14:14.916Z"
   },
   {
    "duration": 9,
    "start_time": "2022-04-22T13:14:15.234Z"
   },
   {
    "duration": 8,
    "start_time": "2022-04-22T13:14:15.244Z"
   },
   {
    "duration": 11,
    "start_time": "2022-04-22T13:14:15.254Z"
   },
   {
    "duration": 42,
    "start_time": "2022-04-22T13:14:15.267Z"
   },
   {
    "duration": 13,
    "start_time": "2022-04-22T13:14:15.311Z"
   },
   {
    "duration": 1493,
    "start_time": "2022-04-22T15:19:24.724Z"
   },
   {
    "duration": 70,
    "start_time": "2022-04-22T15:19:26.220Z"
   },
   {
    "duration": 5,
    "start_time": "2022-04-22T15:19:26.292Z"
   },
   {
    "duration": 14,
    "start_time": "2022-04-22T15:19:26.300Z"
   },
   {
    "duration": 25,
    "start_time": "2022-04-22T15:19:26.317Z"
   },
   {
    "duration": 34,
    "start_time": "2022-04-22T15:19:26.344Z"
   },
   {
    "duration": 31,
    "start_time": "2022-04-22T15:19:26.379Z"
   },
   {
    "duration": 36,
    "start_time": "2022-04-22T15:19:26.412Z"
   },
   {
    "duration": 24,
    "start_time": "2022-04-22T15:19:26.451Z"
   },
   {
    "duration": 804,
    "start_time": "2022-04-22T15:19:26.479Z"
   },
   {
    "duration": 792,
    "start_time": "2022-04-22T15:19:27.286Z"
   },
   {
    "duration": 374,
    "start_time": "2022-04-22T15:19:28.081Z"
   },
   {
    "duration": 7,
    "start_time": "2022-04-22T15:19:28.459Z"
   },
   {
    "duration": 223,
    "start_time": "2022-04-22T15:19:28.467Z"
   },
   {
    "duration": 13,
    "start_time": "2022-04-22T15:19:28.692Z"
   },
   {
    "duration": 1288,
    "start_time": "2022-04-22T15:19:28.707Z"
   },
   {
    "duration": 234,
    "start_time": "2022-04-22T15:19:30.003Z"
   },
   {
    "duration": 6,
    "start_time": "2022-04-22T15:19:30.239Z"
   },
   {
    "duration": 300,
    "start_time": "2022-04-22T15:19:30.248Z"
   },
   {
    "duration": 46,
    "start_time": "2022-04-22T15:19:30.551Z"
   },
   {
    "duration": 340,
    "start_time": "2022-04-22T15:19:30.600Z"
   },
   {
    "duration": 280,
    "start_time": "2022-04-22T15:19:30.942Z"
   },
   {
    "duration": 229,
    "start_time": "2022-04-22T15:19:31.225Z"
   },
   {
    "duration": 144,
    "start_time": "2022-04-22T15:19:31.457Z"
   },
   {
    "duration": 831,
    "start_time": "2022-04-22T15:19:31.604Z"
   },
   {
    "duration": 899,
    "start_time": "2022-04-22T15:19:32.439Z"
   },
   {
    "duration": 221,
    "start_time": "2022-04-22T15:19:33.340Z"
   },
   {
    "duration": 212,
    "start_time": "2022-04-22T15:19:33.565Z"
   },
   {
    "duration": 90,
    "start_time": "2022-04-22T15:19:33.778Z"
   },
   {
    "duration": 101,
    "start_time": "2022-04-22T15:19:33.870Z"
   },
   {
    "duration": 403,
    "start_time": "2022-04-22T15:19:33.973Z"
   },
   {
    "duration": 10,
    "start_time": "2022-04-22T15:19:34.378Z"
   },
   {
    "duration": 10,
    "start_time": "2022-04-22T15:19:34.390Z"
   },
   {
    "duration": 36,
    "start_time": "2022-04-22T15:19:34.402Z"
   },
   {
    "duration": 24,
    "start_time": "2022-04-22T15:19:34.440Z"
   },
   {
    "duration": 13,
    "start_time": "2022-04-22T15:19:34.466Z"
   },
   {
    "duration": 877,
    "start_time": "2022-04-22T15:36:30.554Z"
   },
   {
    "duration": 14,
    "start_time": "2022-04-22T15:37:59.006Z"
   },
   {
    "duration": 110,
    "start_time": "2022-04-22T15:39:39.706Z"
   },
   {
    "duration": 22,
    "start_time": "2022-04-22T15:39:46.715Z"
   },
   {
    "duration": 21,
    "start_time": "2022-04-22T15:41:28.310Z"
   },
   {
    "duration": 154,
    "start_time": "2022-04-22T15:41:57.446Z"
   },
   {
    "duration": 186,
    "start_time": "2022-04-22T15:43:03.150Z"
   },
   {
    "duration": 183,
    "start_time": "2022-04-22T15:43:19.811Z"
   },
   {
    "duration": 250,
    "start_time": "2022-04-22T15:43:30.820Z"
   },
   {
    "duration": 2876,
    "start_time": "2022-04-22T15:44:54.917Z"
   },
   {
    "duration": 6830,
    "start_time": "2022-04-22T15:45:06.729Z"
   },
   {
    "duration": 282,
    "start_time": "2022-04-22T15:46:09.635Z"
   },
   {
    "duration": 161,
    "start_time": "2022-04-22T15:46:27.770Z"
   },
   {
    "duration": 170,
    "start_time": "2022-04-22T15:48:06.258Z"
   },
   {
    "duration": 168,
    "start_time": "2022-04-22T15:48:28.027Z"
   },
   {
    "duration": 431,
    "start_time": "2022-04-22T15:48:41.187Z"
   },
   {
    "duration": 563,
    "start_time": "2022-04-22T15:49:04.868Z"
   },
   {
    "duration": 188,
    "start_time": "2022-04-22T15:49:16.685Z"
   },
   {
    "duration": 4931,
    "start_time": "2022-04-22T15:52:51.775Z"
   },
   {
    "duration": 20,
    "start_time": "2022-04-22T15:55:49.365Z"
   },
   {
    "duration": 181,
    "start_time": "2022-04-22T15:57:06.354Z"
   },
   {
    "duration": 3181,
    "start_time": "2022-04-22T15:57:18.255Z"
   },
   {
    "duration": 3191,
    "start_time": "2022-04-22T15:57:25.265Z"
   },
   {
    "duration": 199,
    "start_time": "2022-04-22T15:57:41.609Z"
   },
   {
    "duration": 187,
    "start_time": "2022-04-22T15:58:20.002Z"
   },
   {
    "duration": 3083,
    "start_time": "2022-04-22T15:58:31.873Z"
   },
   {
    "duration": 28,
    "start_time": "2022-04-22T15:58:45.605Z"
   },
   {
    "duration": 25,
    "start_time": "2022-04-22T15:58:53.621Z"
   },
   {
    "duration": 272,
    "start_time": "2022-04-22T15:59:04.350Z"
   },
   {
    "duration": 172,
    "start_time": "2022-04-22T15:59:17.104Z"
   },
   {
    "duration": 182,
    "start_time": "2022-04-22T15:59:56.537Z"
   },
   {
    "duration": 165,
    "start_time": "2022-04-22T16:00:07.652Z"
   },
   {
    "duration": 20,
    "start_time": "2022-04-22T16:03:59.169Z"
   },
   {
    "duration": 935,
    "start_time": "2022-04-22T16:04:26.225Z"
   },
   {
    "duration": 18,
    "start_time": "2022-04-22T16:09:17.458Z"
   },
   {
    "duration": 6314,
    "start_time": "2022-04-22T16:10:44.205Z"
   },
   {
    "duration": 59,
    "start_time": "2022-04-22T16:11:26.813Z"
   },
   {
    "duration": 2347,
    "start_time": "2022-04-22T18:17:41.096Z"
   },
   {
    "duration": 95,
    "start_time": "2022-04-22T18:17:43.447Z"
   },
   {
    "duration": 4,
    "start_time": "2022-04-22T18:17:43.551Z"
   },
   {
    "duration": 16,
    "start_time": "2022-04-22T18:17:43.558Z"
   },
   {
    "duration": 16,
    "start_time": "2022-04-22T18:17:43.576Z"
   },
   {
    "duration": 59,
    "start_time": "2022-04-22T18:17:43.595Z"
   },
   {
    "duration": 42,
    "start_time": "2022-04-22T18:17:43.656Z"
   },
   {
    "duration": 23,
    "start_time": "2022-04-22T18:17:43.700Z"
   },
   {
    "duration": 21,
    "start_time": "2022-04-22T18:17:43.753Z"
   },
   {
    "duration": 981,
    "start_time": "2022-04-22T18:17:43.778Z"
   },
   {
    "duration": 1026,
    "start_time": "2022-04-22T18:17:44.761Z"
   },
   {
    "duration": 453,
    "start_time": "2022-04-22T18:17:45.790Z"
   },
   {
    "duration": 11,
    "start_time": "2022-04-22T18:17:46.245Z"
   },
   {
    "duration": 421,
    "start_time": "2022-04-22T18:17:46.259Z"
   },
   {
    "duration": 24,
    "start_time": "2022-04-22T18:17:46.683Z"
   },
   {
    "duration": 97,
    "start_time": "2022-04-22T18:17:46.709Z"
   },
   {
    "duration": 0,
    "start_time": "2022-04-22T18:17:46.809Z"
   },
   {
    "duration": 0,
    "start_time": "2022-04-22T18:17:46.812Z"
   },
   {
    "duration": 0,
    "start_time": "2022-04-22T18:17:46.814Z"
   },
   {
    "duration": 1,
    "start_time": "2022-04-22T18:17:46.816Z"
   },
   {
    "duration": 0,
    "start_time": "2022-04-22T18:17:46.818Z"
   },
   {
    "duration": 0,
    "start_time": "2022-04-22T18:17:46.821Z"
   },
   {
    "duration": 0,
    "start_time": "2022-04-22T18:17:46.823Z"
   },
   {
    "duration": 0,
    "start_time": "2022-04-22T18:17:46.825Z"
   },
   {
    "duration": 0,
    "start_time": "2022-04-22T18:17:46.827Z"
   },
   {
    "duration": 0,
    "start_time": "2022-04-22T18:17:46.829Z"
   },
   {
    "duration": 0,
    "start_time": "2022-04-22T18:17:46.831Z"
   },
   {
    "duration": 0,
    "start_time": "2022-04-22T18:17:46.833Z"
   },
   {
    "duration": 0,
    "start_time": "2022-04-22T18:17:46.836Z"
   },
   {
    "duration": 0,
    "start_time": "2022-04-22T18:17:46.838Z"
   },
   {
    "duration": 0,
    "start_time": "2022-04-22T18:17:46.840Z"
   },
   {
    "duration": 0,
    "start_time": "2022-04-22T18:17:46.978Z"
   },
   {
    "duration": 0,
    "start_time": "2022-04-22T18:17:46.980Z"
   },
   {
    "duration": 0,
    "start_time": "2022-04-22T18:17:46.982Z"
   },
   {
    "duration": 0,
    "start_time": "2022-04-22T18:17:46.984Z"
   },
   {
    "duration": 0,
    "start_time": "2022-04-22T18:17:46.986Z"
   },
   {
    "duration": 0,
    "start_time": "2022-04-22T18:17:46.988Z"
   },
   {
    "duration": 50,
    "start_time": "2022-04-22T18:18:07.207Z"
   },
   {
    "duration": 34,
    "start_time": "2022-04-22T18:19:17.440Z"
   },
   {
    "duration": 36,
    "start_time": "2022-04-22T18:19:56.673Z"
   },
   {
    "duration": 405,
    "start_time": "2022-04-22T18:20:08.865Z"
   },
   {
    "duration": 341,
    "start_time": "2022-04-22T18:20:45.723Z"
   },
   {
    "duration": 5,
    "start_time": "2022-04-22T18:22:33.430Z"
   },
   {
    "duration": 92,
    "start_time": "2022-04-22T18:22:33.439Z"
   },
   {
    "duration": 6,
    "start_time": "2022-04-22T18:22:33.553Z"
   },
   {
    "duration": 20,
    "start_time": "2022-04-22T18:22:33.562Z"
   },
   {
    "duration": 15,
    "start_time": "2022-04-22T18:22:33.585Z"
   },
   {
    "duration": 52,
    "start_time": "2022-04-22T18:22:33.603Z"
   },
   {
    "duration": 43,
    "start_time": "2022-04-22T18:22:33.657Z"
   },
   {
    "duration": 19,
    "start_time": "2022-04-22T18:22:33.702Z"
   },
   {
    "duration": 22,
    "start_time": "2022-04-22T18:22:33.753Z"
   },
   {
    "duration": 1427,
    "start_time": "2022-04-22T18:22:33.777Z"
   },
   {
    "duration": 1496,
    "start_time": "2022-04-22T18:22:35.207Z"
   },
   {
    "duration": 656,
    "start_time": "2022-04-22T18:22:36.706Z"
   },
   {
    "duration": 7,
    "start_time": "2022-04-22T18:22:37.366Z"
   },
   {
    "duration": 298,
    "start_time": "2022-04-22T18:22:37.376Z"
   },
   {
    "duration": 19,
    "start_time": "2022-04-22T18:22:37.676Z"
   },
   {
    "duration": 462,
    "start_time": "2022-04-22T18:22:37.698Z"
   },
   {
    "duration": 208,
    "start_time": "2022-04-22T18:22:38.162Z"
   },
   {
    "duration": 6,
    "start_time": "2022-04-22T18:22:38.373Z"
   },
   {
    "duration": 417,
    "start_time": "2022-04-22T18:22:38.382Z"
   },
   {
    "duration": 76,
    "start_time": "2022-04-22T18:22:38.802Z"
   },
   {
    "duration": 543,
    "start_time": "2022-04-22T18:22:38.881Z"
   },
   {
    "duration": 398,
    "start_time": "2022-04-22T18:22:39.426Z"
   },
   {
    "duration": 293,
    "start_time": "2022-04-22T18:22:39.826Z"
   },
   {
    "duration": 227,
    "start_time": "2022-04-22T18:22:40.125Z"
   },
   {
    "duration": 979,
    "start_time": "2022-04-22T18:22:40.354Z"
   },
   {
    "duration": 1046,
    "start_time": "2022-04-22T18:22:41.335Z"
   },
   {
    "duration": 414,
    "start_time": "2022-04-22T18:22:42.383Z"
   },
   {
    "duration": 442,
    "start_time": "2022-04-22T18:22:42.800Z"
   },
   {
    "duration": 138,
    "start_time": "2022-04-22T18:22:43.252Z"
   },
   {
    "duration": 139,
    "start_time": "2022-04-22T18:22:43.392Z"
   },
   {
    "duration": 769,
    "start_time": "2022-04-22T18:22:43.552Z"
   },
   {
    "duration": 28,
    "start_time": "2022-04-22T18:22:44.323Z"
   },
   {
    "duration": 15,
    "start_time": "2022-04-22T18:22:44.354Z"
   },
   {
    "duration": 20,
    "start_time": "2022-04-22T18:22:44.371Z"
   },
   {
    "duration": 18,
    "start_time": "2022-04-22T18:22:44.393Z"
   },
   {
    "duration": 54,
    "start_time": "2022-04-22T18:22:44.414Z"
   },
   {
    "duration": 321,
    "start_time": "2022-04-22T18:22:57.129Z"
   },
   {
    "duration": 204,
    "start_time": "2022-04-22T18:48:51.049Z"
   },
   {
    "duration": 408,
    "start_time": "2022-04-22T18:50:39.970Z"
   },
   {
    "duration": 580,
    "start_time": "2022-04-22T18:58:14.883Z"
   },
   {
    "duration": 421,
    "start_time": "2022-04-22T19:09:44.006Z"
   },
   {
    "duration": 128,
    "start_time": "2022-04-22T19:16:11.717Z"
   },
   {
    "duration": 22,
    "start_time": "2022-04-22T19:16:20.000Z"
   },
   {
    "duration": 1323,
    "start_time": "2022-04-22T19:19:25.835Z"
   },
   {
    "duration": 30,
    "start_time": "2022-04-22T19:25:43.575Z"
   },
   {
    "duration": 376,
    "start_time": "2022-04-22T19:26:08.246Z"
   },
   {
    "duration": 574,
    "start_time": "2022-04-22T19:27:04.820Z"
   },
   {
    "duration": 388,
    "start_time": "2022-04-22T19:27:37.668Z"
   },
   {
    "duration": 659,
    "start_time": "2022-04-22T19:30:12.972Z"
   },
   {
    "duration": 17,
    "start_time": "2022-04-22T19:51:55.048Z"
   },
   {
    "duration": 12,
    "start_time": "2022-04-22T19:51:57.978Z"
   },
   {
    "duration": 598,
    "start_time": "2022-04-22T19:51:59.503Z"
   },
   {
    "duration": 11,
    "start_time": "2022-04-22T19:57:14.250Z"
   },
   {
    "duration": 649,
    "start_time": "2022-04-22T19:57:16.474Z"
   },
   {
    "duration": 475,
    "start_time": "2022-04-22T19:57:42.022Z"
   },
   {
    "duration": 624,
    "start_time": "2022-04-22T19:58:03.546Z"
   },
   {
    "duration": 483,
    "start_time": "2022-04-22T19:58:36.627Z"
   },
   {
    "duration": 504,
    "start_time": "2022-04-22T19:59:14.167Z"
   },
   {
    "duration": 515,
    "start_time": "2022-04-22T19:59:18.387Z"
   },
   {
    "duration": 148,
    "start_time": "2022-04-22T20:12:26.878Z"
   },
   {
    "duration": 7,
    "start_time": "2022-04-22T20:13:32.048Z"
   },
   {
    "duration": 98,
    "start_time": "2022-04-22T20:13:32.058Z"
   },
   {
    "duration": 5,
    "start_time": "2022-04-22T20:13:32.159Z"
   },
   {
    "duration": 35,
    "start_time": "2022-04-22T20:13:32.167Z"
   },
   {
    "duration": 21,
    "start_time": "2022-04-22T20:13:32.204Z"
   },
   {
    "duration": 165,
    "start_time": "2022-04-22T20:13:32.228Z"
   },
   {
    "duration": 39,
    "start_time": "2022-04-22T20:13:32.396Z"
   },
   {
    "duration": 35,
    "start_time": "2022-04-22T20:13:32.438Z"
   },
   {
    "duration": 39,
    "start_time": "2022-04-22T20:13:32.478Z"
   },
   {
    "duration": 1317,
    "start_time": "2022-04-22T20:13:32.520Z"
   },
   {
    "duration": 1417,
    "start_time": "2022-04-22T20:13:33.840Z"
   },
   {
    "duration": 647,
    "start_time": "2022-04-22T20:13:35.260Z"
   },
   {
    "duration": 8,
    "start_time": "2022-04-22T20:13:35.910Z"
   },
   {
    "duration": 398,
    "start_time": "2022-04-22T20:13:35.920Z"
   },
   {
    "duration": 40,
    "start_time": "2022-04-22T20:13:36.320Z"
   },
   {
    "duration": 455,
    "start_time": "2022-04-22T20:13:36.362Z"
   },
   {
    "duration": 296,
    "start_time": "2022-04-22T20:13:36.819Z"
   },
   {
    "duration": 6,
    "start_time": "2022-04-22T20:13:37.117Z"
   },
   {
    "duration": 338,
    "start_time": "2022-04-22T20:13:37.125Z"
   },
   {
    "duration": 56,
    "start_time": "2022-04-22T20:13:37.466Z"
   },
   {
    "duration": 684,
    "start_time": "2022-04-22T20:13:37.524Z"
   },
   {
    "duration": 10,
    "start_time": "2022-04-22T20:13:38.211Z"
   },
   {
    "duration": 482,
    "start_time": "2022-04-22T20:13:38.224Z"
   },
   {
    "duration": 513,
    "start_time": "2022-04-22T20:13:38.712Z"
   },
   {
    "duration": 177,
    "start_time": "2022-04-22T20:13:39.228Z"
   },
   {
    "duration": 1388,
    "start_time": "2022-04-22T20:13:39.407Z"
   },
   {
    "duration": 1397,
    "start_time": "2022-04-22T20:13:40.798Z"
   },
   {
    "duration": 325,
    "start_time": "2022-04-22T20:13:42.197Z"
   },
   {
    "duration": 338,
    "start_time": "2022-04-22T20:13:42.524Z"
   },
   {
    "duration": 130,
    "start_time": "2022-04-22T20:13:42.865Z"
   },
   {
    "duration": 128,
    "start_time": "2022-04-22T20:13:42.997Z"
   },
   {
    "duration": 576,
    "start_time": "2022-04-22T20:13:43.127Z"
   },
   {
    "duration": 11,
    "start_time": "2022-04-22T20:13:43.706Z"
   },
   {
    "duration": 36,
    "start_time": "2022-04-22T20:13:43.719Z"
   },
   {
    "duration": 26,
    "start_time": "2022-04-22T20:13:43.760Z"
   },
   {
    "duration": 20,
    "start_time": "2022-04-22T20:13:43.789Z"
   },
   {
    "duration": 51,
    "start_time": "2022-04-22T20:13:43.811Z"
   },
   {
    "duration": 11,
    "start_time": "2022-04-22T20:20:47.879Z"
   },
   {
    "duration": 446,
    "start_time": "2022-04-22T20:20:49.717Z"
   },
   {
    "duration": 450,
    "start_time": "2022-04-22T20:20:52.828Z"
   },
   {
    "duration": 17,
    "start_time": "2022-04-22T20:25:02.007Z"
   },
   {
    "duration": 12,
    "start_time": "2022-04-22T20:25:25.012Z"
   },
   {
    "duration": 147,
    "start_time": "2022-04-22T20:26:23.780Z"
   },
   {
    "duration": 13,
    "start_time": "2022-04-22T20:26:28.797Z"
   },
   {
    "duration": 396,
    "start_time": "2022-04-22T20:27:20.280Z"
   },
   {
    "duration": 264,
    "start_time": "2022-04-22T20:27:30.367Z"
   },
   {
    "duration": 869,
    "start_time": "2022-04-22T20:29:55.373Z"
   },
   {
    "duration": 446,
    "start_time": "2022-04-22T20:32:11.220Z"
   },
   {
    "duration": 448,
    "start_time": "2022-04-22T20:32:34.127Z"
   },
   {
    "duration": 288,
    "start_time": "2022-04-22T20:33:21.637Z"
   },
   {
    "duration": 199,
    "start_time": "2022-04-22T20:34:18.746Z"
   },
   {
    "duration": 279,
    "start_time": "2022-04-22T20:34:40.053Z"
   },
   {
    "duration": 531,
    "start_time": "2022-04-22T20:38:08.905Z"
   },
   {
    "duration": 263,
    "start_time": "2022-04-22T20:40:39.296Z"
   },
   {
    "duration": 260,
    "start_time": "2022-04-22T20:40:50.283Z"
   },
   {
    "duration": 255,
    "start_time": "2022-04-22T20:41:04.196Z"
   },
   {
    "duration": 394,
    "start_time": "2022-04-22T20:41:21.231Z"
   },
   {
    "duration": 264,
    "start_time": "2022-04-22T20:43:35.290Z"
   },
   {
    "duration": 10,
    "start_time": "2022-04-22T20:43:40.713Z"
   },
   {
    "duration": 14,
    "start_time": "2022-04-22T20:43:45.217Z"
   },
   {
    "duration": 547,
    "start_time": "2022-04-22T20:47:45.677Z"
   },
   {
    "duration": 637,
    "start_time": "2022-04-22T20:48:55.600Z"
   },
   {
    "duration": 592,
    "start_time": "2022-04-22T20:50:02.618Z"
   },
   {
    "duration": 1150,
    "start_time": "2022-04-22T20:52:23.544Z"
   },
   {
    "duration": 776,
    "start_time": "2022-04-22T20:54:50.017Z"
   },
   {
    "duration": 1051,
    "start_time": "2022-04-22T21:01:23.982Z"
   },
   {
    "duration": 898,
    "start_time": "2022-04-22T21:02:40.036Z"
   },
   {
    "duration": 275,
    "start_time": "2022-04-22T21:03:01.237Z"
   },
   {
    "duration": 365,
    "start_time": "2022-04-22T21:03:11.324Z"
   },
   {
    "duration": 971,
    "start_time": "2022-04-22T21:03:18.299Z"
   },
   {
    "duration": 209,
    "start_time": "2022-04-22T21:03:27.197Z"
   },
   {
    "duration": 310,
    "start_time": "2022-04-22T21:03:57.647Z"
   },
   {
    "duration": 832,
    "start_time": "2022-04-22T21:06:36.017Z"
   },
   {
    "duration": 114,
    "start_time": "2022-04-22T21:08:49.802Z"
   },
   {
    "duration": 138,
    "start_time": "2022-04-22T21:08:58.868Z"
   },
   {
    "duration": 45,
    "start_time": "2022-04-22T21:09:14.517Z"
   },
   {
    "duration": 2055,
    "start_time": "2022-04-22T21:09:24.352Z"
   },
   {
    "duration": 292,
    "start_time": "2022-04-22T21:11:45.802Z"
   },
   {
    "duration": 11,
    "start_time": "2022-04-22T21:15:38.094Z"
   },
   {
    "duration": 2189,
    "start_time": "2022-04-22T21:15:52.192Z"
   },
   {
    "duration": 2411,
    "start_time": "2022-04-22T21:16:27.628Z"
   },
   {
    "duration": 185,
    "start_time": "2022-04-22T21:19:12.191Z"
   },
   {
    "duration": 2962,
    "start_time": "2022-04-22T21:19:52.219Z"
   },
   {
    "duration": 5356,
    "start_time": "2022-04-22T21:21:25.772Z"
   },
   {
    "duration": 189,
    "start_time": "2022-04-22T21:22:15.369Z"
   },
   {
    "duration": 869,
    "start_time": "2022-04-22T21:22:30.092Z"
   },
   {
    "duration": 276,
    "start_time": "2022-04-22T21:22:35.801Z"
   },
   {
    "duration": 20,
    "start_time": "2022-04-22T21:25:24.337Z"
   },
   {
    "duration": 3822,
    "start_time": "2022-04-22T21:27:32.434Z"
   },
   {
    "duration": 338,
    "start_time": "2022-04-22T21:28:16.380Z"
   },
   {
    "duration": 154,
    "start_time": "2022-04-22T21:28:31.152Z"
   },
   {
    "duration": 276,
    "start_time": "2022-04-22T21:28:54.140Z"
   },
   {
    "duration": 746,
    "start_time": "2022-04-22T21:31:55.756Z"
   },
   {
    "duration": 268,
    "start_time": "2022-04-22T21:32:23.696Z"
   },
   {
    "duration": 191,
    "start_time": "2022-04-22T21:32:33.767Z"
   },
   {
    "duration": 184,
    "start_time": "2022-04-22T21:33:35.037Z"
   },
   {
    "duration": 204,
    "start_time": "2022-04-22T21:33:44.667Z"
   },
   {
    "duration": 178,
    "start_time": "2022-04-22T21:33:59.639Z"
   },
   {
    "duration": 183,
    "start_time": "2022-04-22T21:34:12.075Z"
   },
   {
    "duration": 173,
    "start_time": "2022-04-22T21:34:24.863Z"
   },
   {
    "duration": 341,
    "start_time": "2022-04-22T21:34:51.985Z"
   },
   {
    "duration": 241,
    "start_time": "2022-04-22T21:35:02.565Z"
   },
   {
    "duration": 203,
    "start_time": "2022-04-22T21:35:53.369Z"
   },
   {
    "duration": 368,
    "start_time": "2022-04-22T21:38:48.986Z"
   },
   {
    "duration": 395,
    "start_time": "2022-04-22T21:40:45.200Z"
   },
   {
    "duration": 401,
    "start_time": "2022-04-22T21:40:56.781Z"
   },
   {
    "duration": 349,
    "start_time": "2022-04-22T21:41:05.652Z"
   },
   {
    "duration": 446,
    "start_time": "2022-04-22T21:41:12.460Z"
   },
   {
    "duration": 628,
    "start_time": "2022-04-22T21:41:34.647Z"
   },
   {
    "duration": 389,
    "start_time": "2022-04-22T21:42:10.742Z"
   },
   {
    "duration": 607,
    "start_time": "2022-04-22T21:43:13.658Z"
   },
   {
    "duration": 459,
    "start_time": "2022-04-22T21:44:39.038Z"
   },
   {
    "duration": 170,
    "start_time": "2022-04-22T21:46:15.885Z"
   },
   {
    "duration": 206,
    "start_time": "2022-04-22T21:46:26.895Z"
   },
   {
    "duration": 629,
    "start_time": "2022-04-22T21:46:53.159Z"
   },
   {
    "duration": 282,
    "start_time": "2022-04-22T21:48:15.176Z"
   },
   {
    "duration": 299,
    "start_time": "2022-04-22T21:48:24.482Z"
   },
   {
    "duration": 256,
    "start_time": "2022-04-22T21:49:06.921Z"
   },
   {
    "duration": 486,
    "start_time": "2022-04-22T21:49:29.962Z"
   },
   {
    "duration": 344,
    "start_time": "2022-04-22T21:49:53.672Z"
   },
   {
    "duration": 292,
    "start_time": "2022-04-22T21:50:10.662Z"
   },
   {
    "duration": 365,
    "start_time": "2022-04-22T21:50:23.658Z"
   },
   {
    "duration": 187,
    "start_time": "2022-04-22T21:51:18.305Z"
   },
   {
    "duration": 4137,
    "start_time": "2022-04-22T21:52:50.414Z"
   },
   {
    "duration": 4433,
    "start_time": "2022-04-22T21:53:06.550Z"
   },
   {
    "duration": 6,
    "start_time": "2022-04-22T21:54:47.442Z"
   },
   {
    "duration": 390,
    "start_time": "2022-04-22T21:54:58.012Z"
   },
   {
    "duration": 885,
    "start_time": "2022-04-22T21:56:11.516Z"
   },
   {
    "duration": 365,
    "start_time": "2022-04-22T21:59:31.527Z"
   },
   {
    "duration": 81,
    "start_time": "2022-04-22T22:01:13.129Z"
   },
   {
    "duration": 14,
    "start_time": "2022-04-22T22:02:41.192Z"
   },
   {
    "duration": 14,
    "start_time": "2022-04-22T22:02:54.923Z"
   },
   {
    "duration": 15,
    "start_time": "2022-04-22T22:03:03.527Z"
   },
   {
    "duration": 15,
    "start_time": "2022-04-22T22:03:25.237Z"
   },
   {
    "duration": 14,
    "start_time": "2022-04-22T22:04:50.799Z"
   },
   {
    "duration": 13,
    "start_time": "2022-04-22T22:05:14.374Z"
   },
   {
    "duration": 12,
    "start_time": "2022-04-22T22:05:46.576Z"
   },
   {
    "duration": 13,
    "start_time": "2022-04-22T22:06:11.122Z"
   },
   {
    "duration": 15,
    "start_time": "2022-04-22T22:07:27.295Z"
   },
   {
    "duration": 30,
    "start_time": "2022-04-22T22:22:32.041Z"
   },
   {
    "duration": 1518,
    "start_time": "2022-04-22T22:23:47.120Z"
   },
   {
    "duration": 1517,
    "start_time": "2022-04-22T22:26:06.707Z"
   },
   {
    "duration": 1432,
    "start_time": "2022-04-22T22:26:23.145Z"
   },
   {
    "duration": 4706,
    "start_time": "2022-04-22T22:28:17.678Z"
   },
   {
    "duration": 218,
    "start_time": "2022-04-22T22:31:56.233Z"
   },
   {
    "duration": 2888,
    "start_time": "2022-04-22T22:32:24.986Z"
   },
   {
    "duration": 3154,
    "start_time": "2022-04-22T22:34:36.691Z"
   },
   {
    "duration": 3176,
    "start_time": "2022-04-22T22:35:05.317Z"
   },
   {
    "duration": 201,
    "start_time": "2022-04-22T22:35:32.414Z"
   },
   {
    "duration": 3783,
    "start_time": "2022-04-22T22:35:40.731Z"
   },
   {
    "duration": 3013,
    "start_time": "2022-04-22T22:36:00.968Z"
   },
   {
    "duration": 2741,
    "start_time": "2022-04-22T22:36:58.772Z"
   },
   {
    "duration": 2998,
    "start_time": "2022-04-22T22:37:17.797Z"
   },
   {
    "duration": 3506,
    "start_time": "2022-04-22T22:40:24.582Z"
   },
   {
    "duration": 19,
    "start_time": "2022-04-22T22:41:12.069Z"
   },
   {
    "duration": 3714,
    "start_time": "2022-04-22T22:42:57.500Z"
   },
   {
    "duration": 3807,
    "start_time": "2022-04-22T22:43:18.497Z"
   },
   {
    "duration": 3263,
    "start_time": "2022-04-22T22:43:46.902Z"
   },
   {
    "duration": 238,
    "start_time": "2022-04-22T22:48:54.942Z"
   },
   {
    "duration": 93,
    "start_time": "2022-04-22T22:50:03.431Z"
   },
   {
    "duration": 3438,
    "start_time": "2022-04-22T22:50:09.201Z"
   },
   {
    "duration": 180,
    "start_time": "2022-04-22T22:50:29.977Z"
   },
   {
    "duration": 181,
    "start_time": "2022-04-22T22:50:36.518Z"
   },
   {
    "duration": 4708,
    "start_time": "2022-04-22T22:51:51.659Z"
   },
   {
    "duration": 3565,
    "start_time": "2022-04-22T22:56:26.777Z"
   },
   {
    "duration": 221,
    "start_time": "2022-04-22T22:56:56.669Z"
   },
   {
    "duration": 222,
    "start_time": "2022-04-22T22:57:22.903Z"
   },
   {
    "duration": 248,
    "start_time": "2022-04-22T22:59:03.757Z"
   },
   {
    "duration": 3259,
    "start_time": "2022-04-22T22:59:12.323Z"
   },
   {
    "duration": 190,
    "start_time": "2022-04-22T22:59:26.736Z"
   },
   {
    "duration": 3671,
    "start_time": "2022-04-22T22:59:31.226Z"
   },
   {
    "duration": 3562,
    "start_time": "2022-04-22T22:59:35.335Z"
   },
   {
    "duration": 325,
    "start_time": "2022-04-22T23:01:44.692Z"
   },
   {
    "duration": 4861,
    "start_time": "2022-04-22T23:01:52.713Z"
   },
   {
    "duration": 5120,
    "start_time": "2022-04-22T23:03:19.135Z"
   },
   {
    "duration": 80,
    "start_time": "2022-04-22T23:06:56.376Z"
   },
   {
    "duration": 91,
    "start_time": "2022-04-22T23:07:22.361Z"
   },
   {
    "duration": 93,
    "start_time": "2022-04-22T23:09:13.012Z"
   },
   {
    "duration": 46,
    "start_time": "2022-04-23T10:24:48.170Z"
   },
   {
    "duration": 1381,
    "start_time": "2022-04-23T10:24:53.028Z"
   },
   {
    "duration": 55,
    "start_time": "2022-04-23T10:24:54.411Z"
   },
   {
    "duration": 3,
    "start_time": "2022-04-23T10:24:54.469Z"
   },
   {
    "duration": 11,
    "start_time": "2022-04-23T10:24:54.473Z"
   },
   {
    "duration": 10,
    "start_time": "2022-04-23T10:24:54.486Z"
   },
   {
    "duration": 24,
    "start_time": "2022-04-23T10:24:54.497Z"
   },
   {
    "duration": 46,
    "start_time": "2022-04-23T10:24:54.523Z"
   },
   {
    "duration": 13,
    "start_time": "2022-04-23T10:24:54.571Z"
   },
   {
    "duration": 22,
    "start_time": "2022-04-23T10:24:54.585Z"
   },
   {
    "duration": 567,
    "start_time": "2022-04-23T10:24:54.608Z"
   },
   {
    "duration": 564,
    "start_time": "2022-04-23T10:24:55.176Z"
   },
   {
    "duration": 253,
    "start_time": "2022-04-23T10:24:55.741Z"
   },
   {
    "duration": 5,
    "start_time": "2022-04-23T10:24:55.996Z"
   },
   {
    "duration": 180,
    "start_time": "2022-04-23T10:24:56.005Z"
   },
   {
    "duration": 13,
    "start_time": "2022-04-23T10:24:56.187Z"
   },
   {
    "duration": 299,
    "start_time": "2022-04-23T10:24:56.202Z"
   },
   {
    "duration": 128,
    "start_time": "2022-04-23T10:24:56.503Z"
   },
   {
    "duration": 4,
    "start_time": "2022-04-23T10:24:56.633Z"
   },
   {
    "duration": 172,
    "start_time": "2022-04-23T10:24:56.638Z"
   },
   {
    "duration": 43,
    "start_time": "2022-04-23T10:24:56.811Z"
   },
   {
    "duration": 311,
    "start_time": "2022-04-23T10:24:56.856Z"
   },
   {
    "duration": 9,
    "start_time": "2022-04-23T10:24:57.169Z"
   },
   {
    "duration": 223,
    "start_time": "2022-04-23T10:24:57.180Z"
   },
   {
    "duration": 225,
    "start_time": "2022-04-23T10:24:57.405Z"
   },
   {
    "duration": 92,
    "start_time": "2022-04-23T10:24:57.632Z"
   },
   {
    "duration": 2259,
    "start_time": "2022-04-23T10:24:57.726Z"
   },
   {
    "duration": 179,
    "start_time": "2022-04-23T10:24:59.986Z"
   },
   {
    "duration": 50,
    "start_time": "2022-04-23T10:25:00.167Z"
   },
   {
    "duration": 81,
    "start_time": "2022-04-23T10:25:00.218Z"
   },
   {
    "duration": 317,
    "start_time": "2022-04-23T10:25:00.301Z"
   },
   {
    "duration": 10,
    "start_time": "2022-04-23T10:25:00.620Z"
   },
   {
    "duration": 18,
    "start_time": "2022-04-23T10:25:00.632Z"
   },
   {
    "duration": 27,
    "start_time": "2022-04-23T10:25:00.663Z"
   },
   {
    "duration": 33,
    "start_time": "2022-04-23T10:25:00.692Z"
   },
   {
    "duration": 557,
    "start_time": "2022-04-23T10:29:43.529Z"
   },
   {
    "duration": 189,
    "start_time": "2022-04-23T10:31:06.249Z"
   },
   {
    "duration": 868,
    "start_time": "2022-04-23T10:32:56.069Z"
   },
   {
    "duration": 649,
    "start_time": "2022-04-23T10:34:01.685Z"
   },
   {
    "duration": 2528,
    "start_time": "2022-04-23T10:35:23.220Z"
   },
   {
    "duration": 138,
    "start_time": "2022-04-23T10:35:56.808Z"
   },
   {
    "duration": 47,
    "start_time": "2022-04-23T10:36:05.368Z"
   },
   {
    "duration": 146,
    "start_time": "2022-04-23T10:36:38.532Z"
   },
   {
    "duration": 531,
    "start_time": "2022-04-23T10:36:43.910Z"
   },
   {
    "duration": 143,
    "start_time": "2022-04-23T10:39:25.724Z"
   },
   {
    "duration": 155,
    "start_time": "2022-04-23T10:39:35.076Z"
   },
   {
    "duration": 580,
    "start_time": "2022-04-23T10:39:40.358Z"
   },
   {
    "duration": 44,
    "start_time": "2022-04-23T10:39:52.805Z"
   },
   {
    "duration": 693,
    "start_time": "2022-04-23T10:40:12.516Z"
   },
   {
    "duration": 25,
    "start_time": "2022-04-23T10:40:28.981Z"
   },
   {
    "duration": 124,
    "start_time": "2022-04-23T10:40:36.337Z"
   },
   {
    "duration": 116,
    "start_time": "2022-04-23T10:40:44.200Z"
   },
   {
    "duration": 237,
    "start_time": "2022-04-23T10:40:47.880Z"
   },
   {
    "duration": 149,
    "start_time": "2022-04-23T10:41:25.716Z"
   },
   {
    "duration": 612,
    "start_time": "2022-04-23T10:41:30.933Z"
   },
   {
    "duration": 672,
    "start_time": "2022-04-23T10:41:53.018Z"
   },
   {
    "duration": 561,
    "start_time": "2022-04-23T10:42:21.698Z"
   },
   {
    "duration": 558,
    "start_time": "2022-04-23T10:42:32.078Z"
   },
   {
    "duration": 581,
    "start_time": "2022-04-23T10:43:04.547Z"
   },
   {
    "duration": 565,
    "start_time": "2022-04-23T10:43:10.268Z"
   },
   {
    "duration": 535,
    "start_time": "2022-04-23T10:43:16.704Z"
   },
   {
    "duration": 170,
    "start_time": "2022-04-23T10:43:29.845Z"
   },
   {
    "duration": 670,
    "start_time": "2022-04-23T10:43:34.253Z"
   },
   {
    "duration": 532,
    "start_time": "2022-04-23T10:43:49.792Z"
   },
   {
    "duration": 550,
    "start_time": "2022-04-23T10:43:55.037Z"
   },
   {
    "duration": 534,
    "start_time": "2022-04-23T10:44:02.278Z"
   },
   {
    "duration": 161,
    "start_time": "2022-04-23T10:44:54.520Z"
   },
   {
    "duration": 508,
    "start_time": "2022-04-23T10:45:24.726Z"
   },
   {
    "duration": 647,
    "start_time": "2022-04-23T10:45:51.093Z"
   },
   {
    "duration": 147,
    "start_time": "2022-04-23T10:47:45.844Z"
   },
   {
    "duration": 528,
    "start_time": "2022-04-23T10:47:57.301Z"
   },
   {
    "duration": 509,
    "start_time": "2022-04-23T10:48:48.838Z"
   },
   {
    "duration": 554,
    "start_time": "2022-04-23T11:04:53.073Z"
   },
   {
    "duration": 524,
    "start_time": "2022-04-23T11:06:02.192Z"
   },
   {
    "duration": 3,
    "start_time": "2022-04-23T11:06:24.901Z"
   },
   {
    "duration": 47,
    "start_time": "2022-04-23T11:06:24.906Z"
   },
   {
    "duration": 13,
    "start_time": "2022-04-23T11:06:24.955Z"
   },
   {
    "duration": 7,
    "start_time": "2022-04-23T11:06:24.970Z"
   },
   {
    "duration": 8,
    "start_time": "2022-04-23T11:06:24.979Z"
   },
   {
    "duration": 20,
    "start_time": "2022-04-23T11:06:24.989Z"
   },
   {
    "duration": 50,
    "start_time": "2022-04-23T11:06:25.011Z"
   },
   {
    "duration": 14,
    "start_time": "2022-04-23T11:06:25.064Z"
   },
   {
    "duration": 13,
    "start_time": "2022-04-23T11:06:25.081Z"
   },
   {
    "duration": 653,
    "start_time": "2022-04-23T11:06:25.096Z"
   },
   {
    "duration": 560,
    "start_time": "2022-04-23T11:06:25.751Z"
   },
   {
    "duration": 260,
    "start_time": "2022-04-23T11:06:26.313Z"
   },
   {
    "duration": 4,
    "start_time": "2022-04-23T11:06:26.575Z"
   },
   {
    "duration": 169,
    "start_time": "2022-04-23T11:06:26.581Z"
   },
   {
    "duration": 22,
    "start_time": "2022-04-23T11:06:26.751Z"
   },
   {
    "duration": 185,
    "start_time": "2022-04-23T11:06:26.775Z"
   },
   {
    "duration": 128,
    "start_time": "2022-04-23T11:06:26.962Z"
   },
   {
    "duration": 4,
    "start_time": "2022-04-23T11:06:27.092Z"
   },
   {
    "duration": 171,
    "start_time": "2022-04-23T11:06:27.098Z"
   },
   {
    "duration": 29,
    "start_time": "2022-04-23T11:06:27.271Z"
   },
   {
    "duration": 279,
    "start_time": "2022-04-23T11:06:27.301Z"
   },
   {
    "duration": 6,
    "start_time": "2022-04-23T11:06:27.583Z"
   },
   {
    "duration": 329,
    "start_time": "2022-04-23T11:06:27.591Z"
   },
   {
    "duration": 225,
    "start_time": "2022-04-23T11:06:27.925Z"
   },
   {
    "duration": 119,
    "start_time": "2022-04-23T11:06:28.152Z"
   },
   {
    "duration": 1975,
    "start_time": "2022-04-23T11:06:28.273Z"
   },
   {
    "duration": 262,
    "start_time": "2022-04-23T11:06:30.250Z"
   },
   {
    "duration": 549,
    "start_time": "2022-04-23T11:06:30.513Z"
   },
   {
    "duration": 567,
    "start_time": "2022-04-23T11:06:31.064Z"
   },
   {
    "duration": 534,
    "start_time": "2022-04-23T11:06:31.632Z"
   },
   {
    "duration": 270,
    "start_time": "2022-04-23T11:06:32.168Z"
   },
   {
    "duration": 19,
    "start_time": "2022-04-23T11:06:32.440Z"
   },
   {
    "duration": 21,
    "start_time": "2022-04-23T11:06:32.462Z"
   },
   {
    "duration": 9,
    "start_time": "2022-04-23T11:06:32.485Z"
   },
   {
    "duration": 494,
    "start_time": "2022-04-23T11:07:18.292Z"
   },
   {
    "duration": 147,
    "start_time": "2022-04-23T11:43:05.903Z"
   },
   {
    "duration": 10,
    "start_time": "2022-04-23T11:45:45.781Z"
   },
   {
    "duration": 9,
    "start_time": "2022-04-23T11:46:32.266Z"
   },
   {
    "duration": 9,
    "start_time": "2022-04-23T11:46:57.093Z"
   },
   {
    "duration": 97,
    "start_time": "2022-04-23T11:48:25.168Z"
   },
   {
    "duration": 11,
    "start_time": "2022-04-23T11:48:35.476Z"
   },
   {
    "duration": 10,
    "start_time": "2022-04-23T11:49:44.120Z"
   },
   {
    "duration": 10,
    "start_time": "2022-04-23T11:51:01.940Z"
   },
   {
    "duration": 10,
    "start_time": "2022-04-23T11:51:06.783Z"
   },
   {
    "duration": 3,
    "start_time": "2022-04-23T11:52:42.779Z"
   },
   {
    "duration": 48,
    "start_time": "2022-04-23T11:52:42.783Z"
   },
   {
    "duration": 3,
    "start_time": "2022-04-23T11:52:42.833Z"
   },
   {
    "duration": 8,
    "start_time": "2022-04-23T11:52:42.837Z"
   },
   {
    "duration": 14,
    "start_time": "2022-04-23T11:52:42.847Z"
   },
   {
    "duration": 25,
    "start_time": "2022-04-23T11:52:42.863Z"
   },
   {
    "duration": 27,
    "start_time": "2022-04-23T11:52:42.890Z"
   },
   {
    "duration": 39,
    "start_time": "2022-04-23T11:52:42.919Z"
   },
   {
    "duration": 17,
    "start_time": "2022-04-23T11:52:42.960Z"
   },
   {
    "duration": 705,
    "start_time": "2022-04-23T11:52:42.979Z"
   },
   {
    "duration": 614,
    "start_time": "2022-04-23T11:52:43.686Z"
   },
   {
    "duration": 275,
    "start_time": "2022-04-23T11:52:44.302Z"
   },
   {
    "duration": 5,
    "start_time": "2022-04-23T11:52:44.579Z"
   },
   {
    "duration": 168,
    "start_time": "2022-04-23T11:52:44.586Z"
   },
   {
    "duration": 17,
    "start_time": "2022-04-23T11:52:44.757Z"
   },
   {
    "duration": 205,
    "start_time": "2022-04-23T11:52:44.776Z"
   },
   {
    "duration": 131,
    "start_time": "2022-04-23T11:52:44.983Z"
   },
   {
    "duration": 4,
    "start_time": "2022-04-23T11:52:45.116Z"
   },
   {
    "duration": 178,
    "start_time": "2022-04-23T11:52:45.121Z"
   },
   {
    "duration": 31,
    "start_time": "2022-04-23T11:52:45.301Z"
   },
   {
    "duration": 292,
    "start_time": "2022-04-23T11:52:45.334Z"
   },
   {
    "duration": 7,
    "start_time": "2022-04-23T11:52:45.628Z"
   },
   {
    "duration": 346,
    "start_time": "2022-04-23T11:52:45.637Z"
   },
   {
    "duration": 235,
    "start_time": "2022-04-23T11:52:45.985Z"
   },
   {
    "duration": 93,
    "start_time": "2022-04-23T11:52:46.221Z"
   },
   {
    "duration": 2061,
    "start_time": "2022-04-23T11:52:46.316Z"
   },
   {
    "duration": 279,
    "start_time": "2022-04-23T11:52:48.378Z"
   },
   {
    "duration": 545,
    "start_time": "2022-04-23T11:52:48.660Z"
   },
   {
    "duration": 565,
    "start_time": "2022-04-23T11:52:49.209Z"
   },
   {
    "duration": 540,
    "start_time": "2022-04-23T11:52:49.776Z"
   },
   {
    "duration": 10,
    "start_time": "2022-04-23T11:52:50.317Z"
   },
   {
    "duration": 32,
    "start_time": "2022-04-23T11:52:50.329Z"
   },
   {
    "duration": 147,
    "start_time": "2022-04-23T11:52:50.363Z"
   },
   {
    "duration": 11,
    "start_time": "2022-04-23T11:55:14.768Z"
   },
   {
    "duration": 3,
    "start_time": "2022-04-23T11:55:22.136Z"
   },
   {
    "duration": 48,
    "start_time": "2022-04-23T11:55:22.141Z"
   },
   {
    "duration": 3,
    "start_time": "2022-04-23T11:55:22.191Z"
   },
   {
    "duration": 7,
    "start_time": "2022-04-23T11:55:22.196Z"
   },
   {
    "duration": 9,
    "start_time": "2022-04-23T11:55:22.205Z"
   },
   {
    "duration": 39,
    "start_time": "2022-04-23T11:55:22.215Z"
   },
   {
    "duration": 32,
    "start_time": "2022-04-23T11:55:22.258Z"
   },
   {
    "duration": 14,
    "start_time": "2022-04-23T11:55:22.292Z"
   },
   {
    "duration": 15,
    "start_time": "2022-04-23T11:55:22.309Z"
   },
   {
    "duration": 568,
    "start_time": "2022-04-23T11:55:22.325Z"
   },
   {
    "duration": 680,
    "start_time": "2022-04-23T11:55:22.895Z"
   },
   {
    "duration": 257,
    "start_time": "2022-04-23T11:55:23.576Z"
   },
   {
    "duration": 5,
    "start_time": "2022-04-23T11:55:23.834Z"
   },
   {
    "duration": 172,
    "start_time": "2022-04-23T11:55:23.841Z"
   },
   {
    "duration": 12,
    "start_time": "2022-04-23T11:55:24.015Z"
   },
   {
    "duration": 205,
    "start_time": "2022-04-23T11:55:24.028Z"
   },
   {
    "duration": 130,
    "start_time": "2022-04-23T11:55:24.235Z"
   },
   {
    "duration": 4,
    "start_time": "2022-04-23T11:55:24.367Z"
   },
   {
    "duration": 159,
    "start_time": "2022-04-23T11:55:24.373Z"
   },
   {
    "duration": 41,
    "start_time": "2022-04-23T11:55:24.534Z"
   },
   {
    "duration": 266,
    "start_time": "2022-04-23T11:55:24.576Z"
   },
   {
    "duration": 20,
    "start_time": "2022-04-23T11:55:24.844Z"
   },
   {
    "duration": 227,
    "start_time": "2022-04-23T11:55:24.866Z"
   },
   {
    "duration": 312,
    "start_time": "2022-04-23T11:55:25.096Z"
   },
   {
    "duration": 86,
    "start_time": "2022-04-23T11:55:25.410Z"
   },
   {
    "duration": 2178,
    "start_time": "2022-04-23T11:55:25.498Z"
   },
   {
    "duration": 155,
    "start_time": "2022-04-23T11:55:27.678Z"
   },
   {
    "duration": 643,
    "start_time": "2022-04-23T11:55:27.835Z"
   },
   {
    "duration": 552,
    "start_time": "2022-04-23T11:55:28.480Z"
   },
   {
    "duration": 522,
    "start_time": "2022-04-23T11:55:29.034Z"
   },
   {
    "duration": 14,
    "start_time": "2022-04-23T11:55:29.557Z"
   },
   {
    "duration": 9,
    "start_time": "2022-04-23T11:55:29.572Z"
   },
   {
    "duration": 9,
    "start_time": "2022-04-23T11:55:29.582Z"
   }
  ],
  "kernelspec": {
   "display_name": "Python 3 (ipykernel)",
   "language": "python",
   "name": "python3"
  },
  "language_info": {
   "codemirror_mode": {
    "name": "ipython",
    "version": 3
   },
   "file_extension": ".py",
   "mimetype": "text/x-python",
   "name": "python",
   "nbconvert_exporter": "python",
   "pygments_lexer": "ipython3",
   "version": "3.9.5"
  },
  "toc": {
   "base_numbering": 1,
   "nav_menu": {},
   "number_sections": true,
   "sideBar": true,
   "skip_h1_title": true,
   "title_cell": "Содержание",
   "title_sidebar": "Contents",
   "toc_cell": true,
   "toc_position": {
    "height": "calc(100% - 180px)",
    "left": "10px",
    "top": "150px",
    "width": "280px"
   },
   "toc_section_display": true,
   "toc_window_display": true
  }
 },
 "nbformat": 4,
 "nbformat_minor": 2
}
