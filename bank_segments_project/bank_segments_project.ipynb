{
 "cells": [
  {
   "cell_type": "markdown",
   "metadata": {},
   "source": [
    "# Проект \"сегментация аудитории банка\""
   ]
  },
  {
   "cell_type": "markdown",
   "metadata": {
    "toc": true
   },
   "source": [
    "<h1>Содержание<span class=\"tocSkip\"></span></h1>\n",
    "<div class=\"toc\"><ul class=\"toc-item\"><li><span><a href=\"#Загрузка-данных-и-предобработка\" data-toc-modified-id=\"Загрузка-данных-и-предобработка-1\"><span class=\"toc-item-num\">1&nbsp;&nbsp;</span>Загрузка данных и предобработка</a></span><ul class=\"toc-item\"><li><span><a href=\"#Загрузка-данных-и-первичное-изучение-датасета\" data-toc-modified-id=\"Загрузка-данных-и-первичное-изучение-датасета-1.1\"><span class=\"toc-item-num\">1.1&nbsp;&nbsp;</span>Загрузка данных и первичное изучение датасета</a></span></li><li><span><a href=\"#Проверка-данных-на-наличие-дубликатов\" data-toc-modified-id=\"Проверка-данных-на-наличие-дубликатов-1.2\"><span class=\"toc-item-num\">1.2&nbsp;&nbsp;</span>Проверка данных на наличие дубликатов</a></span></li><li><span><a href=\"#Проверка-данных-на-наличие-отсутствующих-значений-и-аномалий\" data-toc-modified-id=\"Проверка-данных-на-наличие-отсутствующих-значений-и-аномалий-1.3\"><span class=\"toc-item-num\">1.3&nbsp;&nbsp;</span>Проверка данных на наличие отсутствующих значений и аномалий</a></span></li></ul></li><li><span><a href=\"#Исследовательский-анализ-данных\" data-toc-modified-id=\"Исследовательский-анализ-данных-2\"><span class=\"toc-item-num\">2&nbsp;&nbsp;</span>Исследовательский анализ данных</a></span><ul class=\"toc-item\"><li><span><a href=\"#Изучение-средних-значений,-максимальных-и-минимальных-значений,-медианы-и-отклонений-по-всем-клиентам\" data-toc-modified-id=\"Изучение-средних-значений,-максимальных-и-минимальных-значений,-медианы-и-отклонений-по-всем-клиентам-2.1\"><span class=\"toc-item-num\">2.1&nbsp;&nbsp;</span>Изучение средних значений, максимальных и минимальных значений, медианы и отклонений по всем клиентам</a></span></li><li><span><a href=\"#Изучение-общего-количества-клиентов-и-средних-значений-признаков-в-зависимости-от-города\" data-toc-modified-id=\"Изучение-общего-количества-клиентов-и-средних-значений-признаков-в-зависимости-от-города-2.2\"><span class=\"toc-item-num\">2.2&nbsp;&nbsp;</span>Изучение общего количества клиентов и средних значений признаков в зависимости от города</a></span></li><li><span><a href=\"#Изучение-средних-значений-в-разбивке-по-количеству-продуктов.-Общее-количество-клиентов-по-каждому-сегменту\" data-toc-modified-id=\"Изучение-средних-значений-в-разбивке-по-количеству-продуктов.-Общее-количество-клиентов-по-каждому-сегменту-2.3\"><span class=\"toc-item-num\">2.3&nbsp;&nbsp;</span>Изучение средних значений в разбивке по количеству продуктов. Общее количество клиентов по каждому сегменту</a></span></li><li><span><a href=\"#Изучение-распределений-в-разбивке-по-количеству-продуктов\" data-toc-modified-id=\"Изучение-распределений-в-разбивке-по-количеству-продуктов-2.4\"><span class=\"toc-item-num\">2.4&nbsp;&nbsp;</span>Изучение распределений в разбивке по количеству продуктов</a></span></li><li><span><a href=\"#Описание-портрета-каждого-сегмента-аудитории\" data-toc-modified-id=\"Описание-портрета-каждого-сегмента-аудитории-2.5\"><span class=\"toc-item-num\">2.5&nbsp;&nbsp;</span>Описание портрета каждого сегмента аудитории</a></span></li></ul></li><li><span><a href=\"#Проверка-статистических-гипотез\" data-toc-modified-id=\"Проверка-статистических-гипотез-3\"><span class=\"toc-item-num\">3&nbsp;&nbsp;</span>Проверка статистических гипотез</a></span><ul class=\"toc-item\"><li><span><a href=\"#Средний-доход-клиентов,-пользующихся-двумя-продуктами,-выше,-чем-средний-доход-клиентов,-пользующихся-одним-продуктом\" data-toc-modified-id=\"Средний-доход-клиентов,-пользующихся-двумя-продуктами,-выше,-чем-средний-доход-клиентов,-пользующихся-одним-продуктом-3.1\"><span class=\"toc-item-num\">3.1&nbsp;&nbsp;</span>Средний доход клиентов, пользующихся двумя продуктами, выше, чем средний доход клиентов, пользующихся одним продуктом</a></span></li><li><span><a href=\"#Вероятность-оттока-клиентов,-пользующихся-одним-продуктом,-выше,-чем-вероятность-оттока-клиентов,-пользующихся-двумя-продуктами\" data-toc-modified-id=\"Вероятность-оттока-клиентов,-пользующихся-одним-продуктом,-выше,-чем-вероятность-оттока-клиентов,-пользующихся-двумя-продуктами-3.2\"><span class=\"toc-item-num\">3.2&nbsp;&nbsp;</span>Вероятность оттока клиентов, пользующихся одним продуктом, выше, чем вероятность оттока клиентов, пользующихся двумя продуктами</a></span></li></ul></li><li><span><a href=\"#Финальные-выводы-и-рекомендации\" data-toc-modified-id=\"Финальные-выводы-и-рекомендации-4\"><span class=\"toc-item-num\">4&nbsp;&nbsp;</span>Финальные выводы и рекомендации</a></span></li></ul></div>"
   ]
  },
  {
   "cell_type": "markdown",
   "metadata": {},
   "source": [
    "<strong>Описание проекта:</strong> банку необходимо персонализировать подход к работе с пользователями в зависимости от количества потребляемых продуктов"
   ]
  },
  {
   "cell_type": "markdown",
   "metadata": {},
   "source": [
    "<strong>Цель проекта:</strong> проанализировать клиентов регионального банка и сегментировать пользователей по количеству потребляемых продуктов. Провести проверку статистических гипотез на основе выдвинутых предположений"
   ]
  },
  {
   "cell_type": "markdown",
   "metadata": {},
   "source": [
    "## Загрузка данных и предобработка"
   ]
  },
  {
   "cell_type": "markdown",
   "metadata": {},
   "source": [
    "### Загрузка данных и первичное изучение датасета"
   ]
  },
  {
   "cell_type": "code",
   "execution_count": 1,
   "metadata": {},
   "outputs": [],
   "source": [
    "import pandas as pd\n",
    "import numpy as np\n",
    "from matplotlib import pyplot as plt\n",
    "import seaborn as sns\n",
    "from scipy import stats as st\n",
    "import math as mth"
   ]
  },
  {
   "cell_type": "code",
   "execution_count": 2,
   "metadata": {},
   "outputs": [],
   "source": [
    "data = pd.read_csv('/datasets/bank_dataset.csv')"
   ]
  },
  {
   "cell_type": "code",
   "execution_count": 3,
   "metadata": {},
   "outputs": [
    {
     "data": {
      "text/html": [
       "<div>\n",
       "<style scoped>\n",
       "    .dataframe tbody tr th:only-of-type {\n",
       "        vertical-align: middle;\n",
       "    }\n",
       "\n",
       "    .dataframe tbody tr th {\n",
       "        vertical-align: top;\n",
       "    }\n",
       "\n",
       "    .dataframe thead th {\n",
       "        text-align: right;\n",
       "    }\n",
       "</style>\n",
       "<table border=\"1\" class=\"dataframe\">\n",
       "  <thead>\n",
       "    <tr style=\"text-align: right;\">\n",
       "      <th></th>\n",
       "      <th>userid</th>\n",
       "      <th>score</th>\n",
       "      <th>City</th>\n",
       "      <th>Gender</th>\n",
       "      <th>Age</th>\n",
       "      <th>Objects</th>\n",
       "      <th>Balance</th>\n",
       "      <th>Products</th>\n",
       "      <th>CreditCard</th>\n",
       "      <th>Loyalty</th>\n",
       "      <th>estimated_salary</th>\n",
       "      <th>Churn</th>\n",
       "    </tr>\n",
       "  </thead>\n",
       "  <tbody>\n",
       "    <tr>\n",
       "      <th>0</th>\n",
       "      <td>15677338</td>\n",
       "      <td>619</td>\n",
       "      <td>Ярославль</td>\n",
       "      <td>Ж</td>\n",
       "      <td>42</td>\n",
       "      <td>2</td>\n",
       "      <td>NaN</td>\n",
       "      <td>1</td>\n",
       "      <td>1</td>\n",
       "      <td>1</td>\n",
       "      <td>101348.88</td>\n",
       "      <td>1</td>\n",
       "    </tr>\n",
       "    <tr>\n",
       "      <th>1</th>\n",
       "      <td>15690047</td>\n",
       "      <td>608</td>\n",
       "      <td>Рыбинск</td>\n",
       "      <td>Ж</td>\n",
       "      <td>41</td>\n",
       "      <td>1</td>\n",
       "      <td>83807.86</td>\n",
       "      <td>1</td>\n",
       "      <td>0</td>\n",
       "      <td>1</td>\n",
       "      <td>112542.58</td>\n",
       "      <td>0</td>\n",
       "    </tr>\n",
       "    <tr>\n",
       "      <th>2</th>\n",
       "      <td>15662040</td>\n",
       "      <td>502</td>\n",
       "      <td>Ярославль</td>\n",
       "      <td>Ж</td>\n",
       "      <td>42</td>\n",
       "      <td>8</td>\n",
       "      <td>159660.80</td>\n",
       "      <td>3</td>\n",
       "      <td>1</td>\n",
       "      <td>0</td>\n",
       "      <td>113931.57</td>\n",
       "      <td>1</td>\n",
       "    </tr>\n",
       "    <tr>\n",
       "      <th>3</th>\n",
       "      <td>15744090</td>\n",
       "      <td>699</td>\n",
       "      <td>Ярославль</td>\n",
       "      <td>Ж</td>\n",
       "      <td>39</td>\n",
       "      <td>1</td>\n",
       "      <td>NaN</td>\n",
       "      <td>2</td>\n",
       "      <td>0</td>\n",
       "      <td>0</td>\n",
       "      <td>93826.63</td>\n",
       "      <td>0</td>\n",
       "    </tr>\n",
       "    <tr>\n",
       "      <th>4</th>\n",
       "      <td>15780624</td>\n",
       "      <td>850</td>\n",
       "      <td>Рыбинск</td>\n",
       "      <td>Ж</td>\n",
       "      <td>43</td>\n",
       "      <td>2</td>\n",
       "      <td>125510.82</td>\n",
       "      <td>1</td>\n",
       "      <td>1</td>\n",
       "      <td>1</td>\n",
       "      <td>79084.10</td>\n",
       "      <td>0</td>\n",
       "    </tr>\n",
       "  </tbody>\n",
       "</table>\n",
       "</div>"
      ],
      "text/plain": [
       "     userid  score       City Gender  Age  Objects    Balance  Products  \\\n",
       "0  15677338    619  Ярославль      Ж   42        2        NaN         1   \n",
       "1  15690047    608    Рыбинск      Ж   41        1   83807.86         1   \n",
       "2  15662040    502  Ярославль      Ж   42        8  159660.80         3   \n",
       "3  15744090    699  Ярославль      Ж   39        1        NaN         2   \n",
       "4  15780624    850    Рыбинск      Ж   43        2  125510.82         1   \n",
       "\n",
       "   CreditCard  Loyalty  estimated_salary  Churn  \n",
       "0           1        1         101348.88      1  \n",
       "1           0        1         112542.58      0  \n",
       "2           1        0         113931.57      1  \n",
       "3           0        0          93826.63      0  \n",
       "4           1        1          79084.10      0  "
      ]
     },
     "execution_count": 3,
     "metadata": {},
     "output_type": "execute_result"
    }
   ],
   "source": [
    "data.head()"
   ]
  },
  {
   "cell_type": "markdown",
   "metadata": {},
   "source": [
    "Итак, данные состоят из 12 столбцов: \n",
    "* `userid` — идентификатор пользователя,\n",
    "* `score` — баллы кредитного скоринга,\n",
    "* `City` — город,\n",
    "* `Gender` — пол,\n",
    "* `Age` — возраст,\n",
    "* `Objects` — количество объектов в собственности,\n",
    "* `Balance` — баланс на счёте,\n",
    "* `Products` — количество продуктов, которыми пользуется клиент,\n",
    "* `CreditCard` — есть ли кредитная карта,\n",
    "* `Loyalty` — активный клиент,\n",
    "* `estimated_salary` — заработная плата клиента,\n",
    "* `Churn` — ушёл или нет"
   ]
  },
  {
   "cell_type": "markdown",
   "metadata": {},
   "source": [
    "Первое, что необходимо сделать - перевести все названия колонок в единый формат:"
   ]
  },
  {
   "cell_type": "code",
   "execution_count": 4,
   "metadata": {
    "scrolled": true
   },
   "outputs": [],
   "source": [
    "data.columns = data.columns.str.lower()\n",
    "data.rename(columns={'userid' : 'user_id', 'creditcard' : 'credit_card'}, inplace=True)"
   ]
  },
  {
   "cell_type": "markdown",
   "metadata": {},
   "source": [
    "### Проверка данных на наличие дубликатов"
   ]
  },
  {
   "cell_type": "code",
   "execution_count": 5,
   "metadata": {},
   "outputs": [
    {
     "name": "stdout",
     "output_type": "stream",
     "text": [
      "<class 'pandas.core.frame.DataFrame'>\n",
      "RangeIndex: 10000 entries, 0 to 9999\n",
      "Data columns (total 12 columns):\n",
      " #   Column            Non-Null Count  Dtype  \n",
      "---  ------            --------------  -----  \n",
      " 0   user_id           10000 non-null  int64  \n",
      " 1   score             10000 non-null  int64  \n",
      " 2   city              10000 non-null  object \n",
      " 3   gender            10000 non-null  object \n",
      " 4   age               10000 non-null  int64  \n",
      " 5   objects           10000 non-null  int64  \n",
      " 6   balance           6383 non-null   float64\n",
      " 7   products          10000 non-null  int64  \n",
      " 8   credit_card       10000 non-null  int64  \n",
      " 9   loyalty           10000 non-null  int64  \n",
      " 10  estimated_salary  10000 non-null  float64\n",
      " 11  churn             10000 non-null  int64  \n",
      "dtypes: float64(2), int64(8), object(2)\n",
      "memory usage: 937.6+ KB\n"
     ]
    }
   ],
   "source": [
    "data.info()"
   ]
  },
  {
   "cell_type": "code",
   "execution_count": 6,
   "metadata": {
    "scrolled": true
   },
   "outputs": [
    {
     "name": "stdout",
     "output_type": "stream",
     "text": [
      "<class 'pandas.core.frame.DataFrame'>\n",
      "Int64Index: 10000 entries, 0 to 9999\n",
      "Data columns (total 12 columns):\n",
      " #   Column            Non-Null Count  Dtype  \n",
      "---  ------            --------------  -----  \n",
      " 0   user_id           10000 non-null  int64  \n",
      " 1   score             10000 non-null  int64  \n",
      " 2   city              10000 non-null  object \n",
      " 3   gender            10000 non-null  object \n",
      " 4   age               10000 non-null  int64  \n",
      " 5   objects           10000 non-null  int64  \n",
      " 6   balance           6383 non-null   float64\n",
      " 7   products          10000 non-null  int64  \n",
      " 8   credit_card       10000 non-null  int64  \n",
      " 9   loyalty           10000 non-null  int64  \n",
      " 10  estimated_salary  10000 non-null  float64\n",
      " 11  churn             10000 non-null  int64  \n",
      "dtypes: float64(2), int64(8), object(2)\n",
      "memory usage: 1015.6+ KB\n"
     ]
    }
   ],
   "source": [
    "data.drop_duplicates(subset=['user_id'], inplace=True)\n",
    "data.info()"
   ]
  },
  {
   "cell_type": "markdown",
   "metadata": {},
   "source": [
    "Пользователей с одинаковыми `user_id` не найдено"
   ]
  },
  {
   "cell_type": "code",
   "execution_count": 7,
   "metadata": {},
   "outputs": [
    {
     "name": "stdout",
     "output_type": "stream",
     "text": [
      "<class 'pandas.core.frame.DataFrame'>\n",
      "Int64Index: 10000 entries, 0 to 9999\n",
      "Data columns (total 12 columns):\n",
      " #   Column            Non-Null Count  Dtype  \n",
      "---  ------            --------------  -----  \n",
      " 0   user_id           10000 non-null  int64  \n",
      " 1   score             10000 non-null  int64  \n",
      " 2   city              10000 non-null  object \n",
      " 3   gender            10000 non-null  object \n",
      " 4   age               10000 non-null  int64  \n",
      " 5   objects           10000 non-null  int64  \n",
      " 6   balance           6383 non-null   float64\n",
      " 7   products          10000 non-null  int64  \n",
      " 8   credit_card       10000 non-null  int64  \n",
      " 9   loyalty           10000 non-null  int64  \n",
      " 10  estimated_salary  10000 non-null  float64\n",
      " 11  churn             10000 non-null  int64  \n",
      "dtypes: float64(2), int64(8), object(2)\n",
      "memory usage: 1015.6+ KB\n"
     ]
    }
   ],
   "source": [
    "data.drop_duplicates(subset=['score',\n",
    "                             'city',\n",
    "                             'gender',\n",
    "                             'age',\n",
    "                             'objects',\n",
    "                             'balance',\n",
    "                             'products',\n",
    "                             'credit_card',\n",
    "                             'loyalty',\n",
    "                             'estimated_salary',\n",
    "                             'churn'\n",
    "                            ], \n",
    "                     inplace=True\n",
    "                    )\n",
    "data.info()"
   ]
  },
  {
   "cell_type": "markdown",
   "metadata": {},
   "source": [
    "Пользователей с разными `user_id`, но идентичными признаками, не найдено"
   ]
  },
  {
   "cell_type": "markdown",
   "metadata": {},
   "source": [
    "<strong>Дубликатов не найдено</strong>"
   ]
  },
  {
   "cell_type": "markdown",
   "metadata": {},
   "source": [
    "### Проверка данных на наличие отсутствующих значений и аномалий"
   ]
  },
  {
   "cell_type": "markdown",
   "metadata": {},
   "source": [
    "В столбце `balance` есть пропущенные значения. Можно предположить, из-за чего это произошло:\n",
    "* Баланс этих клиентов на самом деле равен нулю\n",
    "* Клиенты c балансом `null` не пользуются продуктами со счётом, в связи с чем баланса нет как такового\n",
    "\n",
    "Решим две задачи одновременно - изучим распределения данных и выявим отличия между пользователями, чей баланс известен и теми пользователями, чей баланс определён как `null`"
   ]
  },
  {
   "cell_type": "code",
   "execution_count": 8,
   "metadata": {},
   "outputs": [
    {
     "data": {
      "image/png": "[encoded data removed]",
      "text/plain": [
       "<Figure size 1080x360 with 3 Axes>"
      ]
     },
     "metadata": {
      "needs_background": "light"
     },
     "output_type": "display_data"
    },
    {
     "data": {
      "image/png": "[encoded data removed]",
      "text/plain": [
       "<Figure size 1080x360 with 3 Axes>"
      ]
     },
     "metadata": {
      "needs_background": "light"
     },
     "output_type": "display_data"
    },
    {
     "data": {
      "image/png": "[encoded data removed]",
      "text/plain": [
       "<Figure size 1080x360 with 3 Axes>"
      ]
     },
     "metadata": {
      "needs_background": "light"
     },
     "output_type": "display_data"
    },
    {
     "data": {
      "image/png": "[encoded data removed]",
      "text/plain": [
       "<Figure size 1080x360 with 3 Axes>"
      ]
     },
     "metadata": {
      "needs_background": "light"
     },
     "output_type": "display_data"
    },
    {
     "data": {
      "image/png": "[encoded data removed]",
      "text/plain": [
       "<Figure size 1080x360 with 3 Axes>"
      ]
     },
     "metadata": {
      "needs_background": "light"
     },
     "output_type": "display_data"
    },
    {
     "data": {
      "image/png": "[encoded data removed]",
      "text/plain": [
       "<Figure size 1080x360 with 3 Axes>"
      ]
     },
     "metadata": {
      "needs_background": "light"
     },
     "output_type": "display_data"
    }
   ],
   "source": [
    "numeric_columns = [\n",
    "    'score',\n",
    "    'age', \n",
    "    'objects',\n",
    "    'balance',\n",
    "    'products',\n",
    "    'estimated_salary'\n",
    "]\n",
    "\n",
    "sns.set_palette(\"pastel\")\n",
    "\n",
    "for column in numeric_columns:\n",
    "    plt.figure(figsize=(15, 5))\n",
    "    plt.suptitle('Признак: ' + str(column))\n",
    "    if len(data[column].unique()) < 100:\n",
    "           n_bars = len(data[column].unique())\n",
    "    else:\n",
    "        n_bars = 20             \n",
    "    ax1 = plt.subplot(1, 3, 1)\n",
    "    sns.histplot(data=data[np.logical_not(data['balance'].isna())], x=column, bins=n_bars)\n",
    "    ax1.set_xlabel('По клиентам с известным балансом')\n",
    "    ax1.set_ylabel('Количество клиентов')\n",
    "    ax2 = plt.subplot(1, 3, 2, sharey=ax1)\n",
    "    sns.histplot(data=data[data['balance'].isna()], x=column, bins=n_bars)\n",
    "    ax2.set_xlabel('По клиентам с неизвестным балансом')\n",
    "    ax2.set_ylabel('')\n",
    "    ax3 = plt.subplot(1, 3, 3, sharey=ax1)\n",
    "    sns.histplot(data=data, x=column, bins=n_bars)\n",
    "    ax3.set_xlabel('По всем клиентам')\n",
    "    ax3.set_ylabel('')"
   ]
  },
  {
   "cell_type": "markdown",
   "metadata": {},
   "source": [
    "<strong>Выводы по распределению параметров для клиентов, чей баланс неизвестен:</strong>\n",
    "* По всем параметрам кроме количества продуктов и возраста существенной разницы между распределениями не обнаружено\n",
    "* Предположение о счёте, равном нулю, нельзя подтвердить: клиенты с неизвестным счётом обладают схожим распределением по скорингу, предпологаемому доходу и количеству объектов в собственности. Также среди этой аудитории встречаются клиенты, пользующиеся количеством продуктов от одного до четырех включительно\n",
    "* Значения `null` стоит оставить, чтобы не искажать статистику\n",
    "\n",
    "<strong>Выводы по общему распределению параметров:</strong>\n",
    "* Аномалий не выявлено"
   ]
  },
  {
   "cell_type": "markdown",
   "metadata": {},
   "source": [
    "Дополнительно можно проанализировать аудиторию с неизвестным балансом в разрезе булевых параметров:"
   ]
  },
  {
   "cell_type": "code",
   "execution_count": 9,
   "metadata": {},
   "outputs": [],
   "source": [
    "bar_columns = [\n",
    "    'credit_card',\n",
    "    'loyalty', \n",
    "    'churn'\n",
    "]"
   ]
  },
  {
   "cell_type": "code",
   "execution_count": 10,
   "metadata": {},
   "outputs": [
    {
     "data": {
      "image/png": "[encoded data removed]",
      "text/plain": [
       "<Figure size 1080x360 with 1 Axes>"
      ]
     },
     "metadata": {
      "needs_background": "light"
     },
     "output_type": "display_data"
    }
   ],
   "source": [
    "bar_table = (pd.DataFrame(data={'balance_active' : data[np.logical_not(data['balance'].isna())][bar_columns].mean(),\n",
    "                                'balance_null' : data[data['balance'].isna()][bar_columns].mean()\n",
    "                               }\n",
    "                         )\n",
    "            )\n",
    "\n",
    "bar_table.plot(kind='bar', figsize=(15,5), title='Доля пользователей с положительным параметром')\n",
    "None"
   ]
  },
  {
   "cell_type": "markdown",
   "metadata": {},
   "source": [
    "Клиенты с неизвестным балансом имели кредитную карту и были активными клиентами примерно с такой же вероятностью, что и остальные клиенты. Клиенты с неизвестным балансом реже остальных подвержены оттоку. Исследовав все срезы, нельзя точно определить причину отсутствующих значений. Стоит оставить эти значения без изменений"
   ]
  },
  {
   "cell_type": "markdown",
   "metadata": {},
   "source": [
    "Осталось исследовать признаки \"город\", \"активность\" и \"кредитная карта\":"
   ]
  },
  {
   "cell_type": "code",
   "execution_count": 11,
   "metadata": {},
   "outputs": [
    {
     "data": {
      "image/png": "[encoded data removed]",
      "text/plain": [
       "<Figure size 1080x360 with 3 Axes>"
      ]
     },
     "metadata": {},
     "output_type": "display_data"
    }
   ],
   "source": [
    "pie_columns = ['city', 'loyalty', 'credit_card']\n",
    "\n",
    "plt.figure(figsize=(15,5))\n",
    "\n",
    "i = 0\n",
    "\n",
    "for column in pie_columns:\n",
    "    i += 1\n",
    "    ax1 = plt.subplot(1, 3, i)\n",
    "    pie_table = data.groupby(column, as_index=False).agg({'user_id' : 'nunique'})\n",
    "    plt.pie(pie_table['user_id'], labels=pie_table[column], autopct='%.1f%%')\n",
    "    plt.title('Распределение признака ' + str(column))\n",
    "    plt.legend()\n",
    "None"
   ]
  },
  {
   "cell_type": "markdown",
   "metadata": {},
   "source": [
    "* Клиенты из Ярославля составляют около 50%, между остальными городами клиенты распределяются поровну\n",
    "* Около 52% клиентов являются активными\n",
    "* Около 71% клиентов пользуются кредитными картами"
   ]
  },
  {
   "cell_type": "markdown",
   "metadata": {},
   "source": [
    "<strong> Выводы:</strong>\n",
    "\n",
    "* Причина отсутствующих значений не может быть определена. Данные оставлены без изменений, чтобы не искажать статистику\n",
    "* В остальных данных явных аномалий не выявлено"
   ]
  },
  {
   "cell_type": "markdown",
   "metadata": {},
   "source": [
    "## Исследовательский анализ данных"
   ]
  },
  {
   "cell_type": "markdown",
   "metadata": {},
   "source": [
    "### Изучение средних значений, максимальных и минимальных значений, медианы и отклонений по всем клиентам"
   ]
  },
  {
   "cell_type": "code",
   "execution_count": 12,
   "metadata": {},
   "outputs": [
    {
     "data": {
      "text/html": [
       "<style  type=\"text/css\" >\n",
       "#T_ba409_row0_col0,#T_ba409_row0_col3,#T_ba409_row0_col8,#T_ba409_row3_col0,#T_ba409_row3_col3,#T_ba409_row3_col8{\n",
       "            background-color:  #75b975;\n",
       "            color:  #000000;\n",
       "        }#T_ba409_row0_col1{\n",
       "            background-color:  #5eae5e;\n",
       "            color:  #000000;\n",
       "        }#T_ba409_row0_col2{\n",
       "            background-color:  #a8d2a8;\n",
       "            color:  #000000;\n",
       "        }#T_ba409_row0_col4,#T_ba409_row3_col4{\n",
       "            background-color:  #7cbd7c;\n",
       "            color:  #000000;\n",
       "        }#T_ba409_row0_col5{\n",
       "            background-color:  #c1dfc1;\n",
       "            color:  #000000;\n",
       "        }#T_ba409_row0_col6{\n",
       "            background-color:  #45a245;\n",
       "            color:  #000000;\n",
       "        }#T_ba409_row0_col7{\n",
       "            background-color:  #72b872;\n",
       "            color:  #000000;\n",
       "        }#T_ba409_row0_col9{\n",
       "            background-color:  #bbdcbb;\n",
       "            color:  #000000;\n",
       "        }#T_ba409_row1_col0,#T_ba409_row1_col1,#T_ba409_row1_col2,#T_ba409_row1_col3,#T_ba409_row1_col4,#T_ba409_row1_col5,#T_ba409_row1_col6,#T_ba409_row1_col7,#T_ba409_row1_col8,#T_ba409_row1_col9,#T_ba409_row3_col5,#T_ba409_row3_col9{\n",
       "            background-color:  #ebf3eb;\n",
       "            color:  #000000;\n",
       "        }#T_ba409_row2_col0,#T_ba409_row2_col1,#T_ba409_row2_col2,#T_ba409_row2_col3,#T_ba409_row2_col4,#T_ba409_row2_col5,#T_ba409_row2_col6,#T_ba409_row2_col7,#T_ba409_row2_col8,#T_ba409_row2_col9,#T_ba409_row3_col6,#T_ba409_row3_col7{\n",
       "            background-color:  #008000;\n",
       "            color:  #f1f1f1;\n",
       "        }#T_ba409_row3_col1{\n",
       "            background-color:  #5dae5d;\n",
       "            color:  #000000;\n",
       "        }#T_ba409_row3_col2{\n",
       "            background-color:  #afd6af;\n",
       "            color:  #000000;\n",
       "        }</style><table id=\"T_ba409_\" ><thead>    <tr>        <th class=\"blank level0\" ></th>        <th class=\"col_heading level0 col0\" >user_id</th>        <th class=\"col_heading level0 col1\" >score</th>        <th class=\"col_heading level0 col2\" >age</th>        <th class=\"col_heading level0 col3\" >objects</th>        <th class=\"col_heading level0 col4\" >balance</th>        <th class=\"col_heading level0 col5\" >products</th>        <th class=\"col_heading level0 col6\" >credit_card</th>        <th class=\"col_heading level0 col7\" >loyalty</th>        <th class=\"col_heading level0 col8\" >estimated_salary</th>        <th class=\"col_heading level0 col9\" >churn</th>    </tr></thead><tbody>\n",
       "                <tr>\n",
       "                        <th id=\"T_ba409_level0_row0\" class=\"row_heading level0 row0\" >mean</th>\n",
       "                        <td id=\"T_ba409_row0_col0\" class=\"data row0 col0\" >15733676.569400</td>\n",
       "                        <td id=\"T_ba409_row0_col1\" class=\"data row0 col1\" >650.528800</td>\n",
       "                        <td id=\"T_ba409_row0_col2\" class=\"data row0 col2\" >38.921800</td>\n",
       "                        <td id=\"T_ba409_row0_col3\" class=\"data row0 col3\" >5.012800</td>\n",
       "                        <td id=\"T_ba409_row0_col4\" class=\"data row0 col4\" >119827.493793</td>\n",
       "                        <td id=\"T_ba409_row0_col5\" class=\"data row0 col5\" >1.530200</td>\n",
       "                        <td id=\"T_ba409_row0_col6\" class=\"data row0 col6\" >0.705500</td>\n",
       "                        <td id=\"T_ba409_row0_col7\" class=\"data row0 col7\" >0.515100</td>\n",
       "                        <td id=\"T_ba409_row0_col8\" class=\"data row0 col8\" >100090.239881</td>\n",
       "                        <td id=\"T_ba409_row0_col9\" class=\"data row0 col9\" >0.203700</td>\n",
       "            </tr>\n",
       "            <tr>\n",
       "                        <th id=\"T_ba409_level0_row1\" class=\"row_heading level0 row1\" >min</th>\n",
       "                        <td id=\"T_ba409_row1_col0\" class=\"data row1 col0\" >15608437.000000</td>\n",
       "                        <td id=\"T_ba409_row1_col1\" class=\"data row1 col1\" >350.000000</td>\n",
       "                        <td id=\"T_ba409_row1_col2\" class=\"data row1 col2\" >18.000000</td>\n",
       "                        <td id=\"T_ba409_row1_col3\" class=\"data row1 col3\" >0.000000</td>\n",
       "                        <td id=\"T_ba409_row1_col4\" class=\"data row1 col4\" >3768.690000</td>\n",
       "                        <td id=\"T_ba409_row1_col5\" class=\"data row1 col5\" >1.000000</td>\n",
       "                        <td id=\"T_ba409_row1_col6\" class=\"data row1 col6\" >0.000000</td>\n",
       "                        <td id=\"T_ba409_row1_col7\" class=\"data row1 col7\" >0.000000</td>\n",
       "                        <td id=\"T_ba409_row1_col8\" class=\"data row1 col8\" >11.580000</td>\n",
       "                        <td id=\"T_ba409_row1_col9\" class=\"data row1 col9\" >0.000000</td>\n",
       "            </tr>\n",
       "            <tr>\n",
       "                        <th id=\"T_ba409_level0_row2\" class=\"row_heading level0 row2\" >max</th>\n",
       "                        <td id=\"T_ba409_row2_col0\" class=\"data row2 col0\" >15858426.000000</td>\n",
       "                        <td id=\"T_ba409_row2_col1\" class=\"data row2 col1\" >850.000000</td>\n",
       "                        <td id=\"T_ba409_row2_col2\" class=\"data row2 col2\" >92.000000</td>\n",
       "                        <td id=\"T_ba409_row2_col3\" class=\"data row2 col3\" >10.000000</td>\n",
       "                        <td id=\"T_ba409_row2_col4\" class=\"data row2 col4\" >250898.090000</td>\n",
       "                        <td id=\"T_ba409_row2_col5\" class=\"data row2 col5\" >4.000000</td>\n",
       "                        <td id=\"T_ba409_row2_col6\" class=\"data row2 col6\" >1.000000</td>\n",
       "                        <td id=\"T_ba409_row2_col7\" class=\"data row2 col7\" >1.000000</td>\n",
       "                        <td id=\"T_ba409_row2_col8\" class=\"data row2 col8\" >199992.480000</td>\n",
       "                        <td id=\"T_ba409_row2_col9\" class=\"data row2 col9\" >1.000000</td>\n",
       "            </tr>\n",
       "            <tr>\n",
       "                        <th id=\"T_ba409_level0_row3\" class=\"row_heading level0 row3\" >50%</th>\n",
       "                        <td id=\"T_ba409_row3_col0\" class=\"data row3 col0\" >15733474.000000</td>\n",
       "                        <td id=\"T_ba409_row3_col1\" class=\"data row3 col1\" >652.000000</td>\n",
       "                        <td id=\"T_ba409_row3_col2\" class=\"data row3 col2\" >37.000000</td>\n",
       "                        <td id=\"T_ba409_row3_col3\" class=\"data row3 col3\" >5.000000</td>\n",
       "                        <td id=\"T_ba409_row3_col4\" class=\"data row3 col4\" >119839.690000</td>\n",
       "                        <td id=\"T_ba409_row3_col5\" class=\"data row3 col5\" >1.000000</td>\n",
       "                        <td id=\"T_ba409_row3_col6\" class=\"data row3 col6\" >1.000000</td>\n",
       "                        <td id=\"T_ba409_row3_col7\" class=\"data row3 col7\" >1.000000</td>\n",
       "                        <td id=\"T_ba409_row3_col8\" class=\"data row3 col8\" >100193.915000</td>\n",
       "                        <td id=\"T_ba409_row3_col9\" class=\"data row3 col9\" >0.000000</td>\n",
       "            </tr>\n",
       "    </tbody></table>"
      ],
      "text/plain": [
       "<pandas.io.formats.style.Styler at 0x7f0df92e7f10>"
      ]
     },
     "execution_count": 12,
     "metadata": {},
     "output_type": "execute_result"
    }
   ],
   "source": [
    "cm = sns.light_palette(\"green\", as_cmap=True)\n",
    "\n",
    "data.describe().loc[['mean', 'min', 'max', '50%']].style.background_gradient(cmap=cm)"
   ]
  },
  {
   "cell_type": "markdown",
   "metadata": {},
   "source": [
    "Итак, можно сделать следующие выводы:\n",
    "* Баллы скоринга клиентов варируются от 350 до 850 баллов со средним значением 651\n",
    "* Медианный возраст составил 37 лет\n",
    "* У клиентов могло быть максимум 10 объектов в собственности. Среднее значение - 5\n",
    "* Клиенты могли использовать от 1 до 4 продуктов\n",
    "* 71% клиентов пользовались кредитными картами\n",
    "* Активные клиенты составили 52% от выборки\n",
    "* Средняя и медианная зарплата клиентов примерно 100 000 руб.\n",
    "* Уровень оттока выборки составил 20%"
   ]
  },
  {
   "cell_type": "markdown",
   "metadata": {},
   "source": [
    "### Изучение общего количества клиентов и средних значений признаков в зависимости от города"
   ]
  },
  {
   "cell_type": "markdown",
   "metadata": {},
   "source": [
    "Дополнительно можно оценить доли аудитории из разных городов:"
   ]
  },
  {
   "cell_type": "code",
   "execution_count": 13,
   "metadata": {
    "scrolled": true
   },
   "outputs": [
    {
     "data": {
      "image/png": "[encoded data removed]",
      "text/plain": [
       "<Figure size 504x504 with 1 Axes>"
      ]
     },
     "metadata": {},
     "output_type": "display_data"
    }
   ],
   "source": [
    "plt.figure(figsize=(7,7))\n",
    "\n",
    "pie_table = data.groupby('city', as_index=False).agg({'user_id' : 'nunique'})\n",
    "\n",
    "plt.pie(pie_table['user_id'], labels=pie_table['city'], autopct='%.1f%%')\n",
    "\n",
    "plt.title('Распределение клиентов по городам')\n",
    "plt.legend()\n",
    "\n",
    "\n",
    "None"
   ]
  },
  {
   "cell_type": "markdown",
   "metadata": {},
   "source": [
    "Клиенты из Ярославля составляют около 50%, между остальными городами клиенты распределяются поровну"
   ]
  },
  {
   "cell_type": "code",
   "execution_count": 14,
   "metadata": {},
   "outputs": [
    {
     "data": {
      "text/html": [
       "<div>\n",
       "<style scoped>\n",
       "    .dataframe tbody tr th:only-of-type {\n",
       "        vertical-align: middle;\n",
       "    }\n",
       "\n",
       "    .dataframe tbody tr th {\n",
       "        vertical-align: top;\n",
       "    }\n",
       "\n",
       "    .dataframe thead th {\n",
       "        text-align: right;\n",
       "    }\n",
       "</style>\n",
       "<table border=\"1\" class=\"dataframe\">\n",
       "  <thead>\n",
       "    <tr style=\"text-align: right;\">\n",
       "      <th></th>\n",
       "      <th>user_id</th>\n",
       "      <th>score</th>\n",
       "      <th>age</th>\n",
       "      <th>objects</th>\n",
       "      <th>balance</th>\n",
       "      <th>products</th>\n",
       "      <th>credit_card</th>\n",
       "      <th>loyalty</th>\n",
       "      <th>estimated_salary</th>\n",
       "      <th>churn</th>\n",
       "    </tr>\n",
       "    <tr>\n",
       "      <th>city</th>\n",
       "      <th></th>\n",
       "      <th></th>\n",
       "      <th></th>\n",
       "      <th></th>\n",
       "      <th></th>\n",
       "      <th></th>\n",
       "      <th></th>\n",
       "      <th></th>\n",
       "      <th></th>\n",
       "      <th></th>\n",
       "    </tr>\n",
       "  </thead>\n",
       "  <tbody>\n",
       "    <tr>\n",
       "      <th>Ростов Великий</th>\n",
       "      <td>15733291.65</td>\n",
       "      <td>651.45</td>\n",
       "      <td>39.77</td>\n",
       "      <td>5.01</td>\n",
       "      <td>119730.12</td>\n",
       "      <td>1.52</td>\n",
       "      <td>0.71</td>\n",
       "      <td>0.50</td>\n",
       "      <td>101113.44</td>\n",
       "      <td>0.32</td>\n",
       "    </tr>\n",
       "    <tr>\n",
       "      <th>Рыбинск</th>\n",
       "      <td>15734654.41</td>\n",
       "      <td>651.33</td>\n",
       "      <td>38.89</td>\n",
       "      <td>5.03</td>\n",
       "      <td>119814.99</td>\n",
       "      <td>1.54</td>\n",
       "      <td>0.69</td>\n",
       "      <td>0.53</td>\n",
       "      <td>99440.57</td>\n",
       "      <td>0.17</td>\n",
       "    </tr>\n",
       "    <tr>\n",
       "      <th>Ярославль</th>\n",
       "      <td>15733386.11</td>\n",
       "      <td>649.67</td>\n",
       "      <td>38.51</td>\n",
       "      <td>5.00</td>\n",
       "      <td>119927.77</td>\n",
       "      <td>1.53</td>\n",
       "      <td>0.71</td>\n",
       "      <td>0.52</td>\n",
       "      <td>99899.18</td>\n",
       "      <td>0.16</td>\n",
       "    </tr>\n",
       "  </tbody>\n",
       "</table>\n",
       "</div>"
      ],
      "text/plain": [
       "                    user_id   score    age  objects    balance  products  \\\n",
       "city                                                                       \n",
       "Ростов Великий  15733291.65  651.45  39.77     5.01  119730.12      1.52   \n",
       "Рыбинск         15734654.41  651.33  38.89     5.03  119814.99      1.54   \n",
       "Ярославль       15733386.11  649.67  38.51     5.00  119927.77      1.53   \n",
       "\n",
       "                credit_card  loyalty  estimated_salary  churn  \n",
       "city                                                           \n",
       "Ростов Великий         0.71     0.50         101113.44   0.32  \n",
       "Рыбинск                0.69     0.53          99440.57   0.17  \n",
       "Ярославль              0.71     0.52          99899.18   0.16  "
      ]
     },
     "execution_count": 14,
     "metadata": {},
     "output_type": "execute_result"
    }
   ],
   "source": [
    "round(data.groupby('city').mean(),2)"
   ]
  },
  {
   "cell_type": "markdown",
   "metadata": {},
   "source": [
    "Можно увидеть, что уровень оттока в разных городах отличается:"
   ]
  },
  {
   "cell_type": "code",
   "execution_count": 15,
   "metadata": {},
   "outputs": [
    {
     "data": {
      "image/png": "[encoded data removed]",
      "text/plain": [
       "<Figure size 720x360 with 1 Axes>"
      ]
     },
     "metadata": {
      "needs_background": "light"
     },
     "output_type": "display_data"
    }
   ],
   "source": [
    "plt.figure(figsize=(10,5))\n",
    "\n",
    "ax = sns.barplot(x=data['city'], y=data['churn'])\n",
    "\n",
    "ax.set_xlabel('Количество продуктов')\n",
    "ax.set_ylabel('Уровень оттока')\n",
    "ax.set_title('Уверень оттока в зависимости от количества продуктов')\n",
    "\n",
    "None"
   ]
  },
  {
   "cell_type": "markdown",
   "metadata": {},
   "source": [
    "<strong>Выводы в разбивке по городам:</strong>\n",
    "\n",
    "* Больше всего клиентов живут в Ярославле - 50%\n",
    "* Наибольший показатель оттока наблюдается в Ростове Великом - 32%"
   ]
  },
  {
   "cell_type": "markdown",
   "metadata": {},
   "source": [
    "### Изучение средних значений в разбивке по количеству продуктов. Общее количество клиентов по каждому сегменту"
   ]
  },
  {
   "cell_type": "markdown",
   "metadata": {},
   "source": [
    "Посчитаем общее количество клиентов в каждой группе:"
   ]
  },
  {
   "cell_type": "code",
   "execution_count": 16,
   "metadata": {},
   "outputs": [
    {
     "data": {
      "text/html": [
       "<div>\n",
       "<style scoped>\n",
       "    .dataframe tbody tr th:only-of-type {\n",
       "        vertical-align: middle;\n",
       "    }\n",
       "\n",
       "    .dataframe tbody tr th {\n",
       "        vertical-align: top;\n",
       "    }\n",
       "\n",
       "    .dataframe thead th {\n",
       "        text-align: right;\n",
       "    }\n",
       "</style>\n",
       "<table border=\"1\" class=\"dataframe\">\n",
       "  <thead>\n",
       "    <tr style=\"text-align: right;\">\n",
       "      <th></th>\n",
       "      <th>products</th>\n",
       "      <th>user_id</th>\n",
       "    </tr>\n",
       "  </thead>\n",
       "  <tbody>\n",
       "    <tr>\n",
       "      <th>0</th>\n",
       "      <td>1</td>\n",
       "      <td>5084</td>\n",
       "    </tr>\n",
       "    <tr>\n",
       "      <th>1</th>\n",
       "      <td>2</td>\n",
       "      <td>4590</td>\n",
       "    </tr>\n",
       "    <tr>\n",
       "      <th>2</th>\n",
       "      <td>3</td>\n",
       "      <td>266</td>\n",
       "    </tr>\n",
       "    <tr>\n",
       "      <th>3</th>\n",
       "      <td>4</td>\n",
       "      <td>60</td>\n",
       "    </tr>\n",
       "  </tbody>\n",
       "</table>\n",
       "</div>"
      ],
      "text/plain": [
       "   products  user_id\n",
       "0         1     5084\n",
       "1         2     4590\n",
       "2         3      266\n",
       "3         4       60"
      ]
     },
     "execution_count": 16,
     "metadata": {},
     "output_type": "execute_result"
    }
   ],
   "source": [
    "users_by_product = (data\n",
    "                    .groupby('products', as_index=False)['user_id']\n",
    "                    .count()\n",
    "                    .sort_values(by='user_id', ascending=False)\n",
    "                   )\n",
    "users_by_product"
   ]
  },
  {
   "cell_type": "code",
   "execution_count": 17,
   "metadata": {},
   "outputs": [
    {
     "data": {
      "image/png": "[encoded data removed]",
      "text/plain": [
       "<Figure size 720x360 with 1 Axes>"
      ]
     },
     "metadata": {
      "needs_background": "light"
     },
     "output_type": "display_data"
    }
   ],
   "source": [
    "plt.figure(figsize=(10,5))\n",
    "\n",
    "ax = sns.barplot(x='products', y='user_id', data=users_by_product)\n",
    "\n",
    "\n",
    "ax.set_xlabel('Количество продуктов')\n",
    "ax.set_ylabel('Количество пользователей')\n",
    "ax.set_title('Распределение клиентов по количеству потребляемых продуктов')\n",
    "\n",
    "None"
   ]
  },
  {
   "cell_type": "markdown",
   "metadata": {},
   "source": [
    "Изучим структуру сегментов:"
   ]
  },
  {
   "cell_type": "code",
   "execution_count": 18,
   "metadata": {
    "scrolled": true
   },
   "outputs": [
    {
     "data": {
      "image/png": "[encoded data removed]",
      "text/plain": [
       "<Figure size 504x504 with 1 Axes>"
      ]
     },
     "metadata": {},
     "output_type": "display_data"
    }
   ],
   "source": [
    "plt.figure(figsize=(7,7))\n",
    "\n",
    "plt.pie(users_by_product['user_id'], labels=users_by_product['products'], labeldistance=None, autopct='%.2f%%')\n",
    "\n",
    "plt.title('Распределение клиентов по количеству продуктов')\n",
    "plt.legend()\n",
    "\n",
    "\n",
    "None"
   ]
  },
  {
   "cell_type": "markdown",
   "metadata": {},
   "source": [
    "Самые многочисленные группы - клиенты, пользующиеся одним и двумя продуктами. Совокупно клиенты с 3-мя и 4-мя продуктами составляют менее 4% от всей выборки"
   ]
  },
  {
   "cell_type": "markdown",
   "metadata": {},
   "source": [
    "Перейдём к анализу средних значений:"
   ]
  },
  {
   "cell_type": "code",
   "execution_count": 19,
   "metadata": {
    "scrolled": true
   },
   "outputs": [
    {
     "data": {
      "text/html": [
       "<div>\n",
       "<style scoped>\n",
       "    .dataframe tbody tr th:only-of-type {\n",
       "        vertical-align: middle;\n",
       "    }\n",
       "\n",
       "    .dataframe tbody tr th {\n",
       "        vertical-align: top;\n",
       "    }\n",
       "\n",
       "    .dataframe thead th {\n",
       "        text-align: right;\n",
       "    }\n",
       "</style>\n",
       "<table border=\"1\" class=\"dataframe\">\n",
       "  <thead>\n",
       "    <tr style=\"text-align: right;\">\n",
       "      <th></th>\n",
       "      <th>user_id</th>\n",
       "      <th>score</th>\n",
       "      <th>age</th>\n",
       "      <th>objects</th>\n",
       "      <th>balance</th>\n",
       "      <th>credit_card</th>\n",
       "      <th>loyalty</th>\n",
       "      <th>estimated_salary</th>\n",
       "      <th>churn</th>\n",
       "    </tr>\n",
       "    <tr>\n",
       "      <th>products</th>\n",
       "      <th></th>\n",
       "      <th></th>\n",
       "      <th></th>\n",
       "      <th></th>\n",
       "      <th></th>\n",
       "      <th></th>\n",
       "      <th></th>\n",
       "      <th></th>\n",
       "      <th></th>\n",
       "    </tr>\n",
       "  </thead>\n",
       "  <tbody>\n",
       "    <tr>\n",
       "      <th>1</th>\n",
       "      <td>15732367.90</td>\n",
       "      <td>649.12</td>\n",
       "      <td>39.67</td>\n",
       "      <td>4.97</td>\n",
       "      <td>119894.16</td>\n",
       "      <td>0.70</td>\n",
       "      <td>0.50</td>\n",
       "      <td>99487.26</td>\n",
       "      <td>0.28</td>\n",
       "    </tr>\n",
       "    <tr>\n",
       "      <th>2</th>\n",
       "      <td>15734841.49</td>\n",
       "      <td>652.19</td>\n",
       "      <td>37.75</td>\n",
       "      <td>5.05</td>\n",
       "      <td>119660.94</td>\n",
       "      <td>0.71</td>\n",
       "      <td>0.53</td>\n",
       "      <td>100452.01</td>\n",
       "      <td>0.08</td>\n",
       "    </tr>\n",
       "    <tr>\n",
       "      <th>3</th>\n",
       "      <td>15741816.49</td>\n",
       "      <td>648.11</td>\n",
       "      <td>43.20</td>\n",
       "      <td>5.00</td>\n",
       "      <td>119475.69</td>\n",
       "      <td>0.71</td>\n",
       "      <td>0.42</td>\n",
       "      <td>104318.13</td>\n",
       "      <td>0.83</td>\n",
       "    </tr>\n",
       "    <tr>\n",
       "      <th>4</th>\n",
       "      <td>15719361.27</td>\n",
       "      <td>653.58</td>\n",
       "      <td>45.68</td>\n",
       "      <td>5.30</td>\n",
       "      <td>122260.61</td>\n",
       "      <td>0.68</td>\n",
       "      <td>0.48</td>\n",
       "      <td>104763.72</td>\n",
       "      <td>1.00</td>\n",
       "    </tr>\n",
       "  </tbody>\n",
       "</table>\n",
       "</div>"
      ],
      "text/plain": [
       "              user_id   score    age  objects    balance  credit_card  \\\n",
       "products                                                                \n",
       "1         15732367.90  649.12  39.67     4.97  119894.16         0.70   \n",
       "2         15734841.49  652.19  37.75     5.05  119660.94         0.71   \n",
       "3         15741816.49  648.11  43.20     5.00  119475.69         0.71   \n",
       "4         15719361.27  653.58  45.68     5.30  122260.61         0.68   \n",
       "\n",
       "          loyalty  estimated_salary  churn  \n",
       "products                                    \n",
       "1            0.50          99487.26   0.28  \n",
       "2            0.53         100452.01   0.08  \n",
       "3            0.42         104318.13   0.83  \n",
       "4            0.48         104763.72   1.00  "
      ]
     },
     "execution_count": 19,
     "metadata": {},
     "output_type": "execute_result"
    }
   ],
   "source": [
    "round(data.groupby('products').mean(),2)"
   ]
  },
  {
   "cell_type": "code",
   "execution_count": 20,
   "metadata": {
    "scrolled": false
   },
   "outputs": [
    {
     "data": {
      "image/png": "[encoded data removed]",
      "text/plain": [
       "<Figure size 720x360 with 1 Axes>"
      ]
     },
     "metadata": {
      "needs_background": "light"
     },
     "output_type": "display_data"
    }
   ],
   "source": [
    "plt.figure(figsize=(10,5))\n",
    "\n",
    "ax = sns.barplot(x=data['products'], y=data['churn'])\n",
    "\n",
    "ax.set_xlabel('Количество продуктов')\n",
    "ax.set_ylabel('Уровень оттока')\n",
    "ax.set_title('Уверень оттока в зависимости от количества продуктов')\n",
    "\n",
    "None"
   ]
  },
  {
   "cell_type": "markdown",
   "metadata": {},
   "source": [
    "Клиенты, пользующиеся 3-мя и 4-мя продуктами, дифференцируется от двух первых групп - такие клиенты наиболее склонны к оттоку\n",
    "\n",
    "Также можно заметить линейную зависимость между количеством продуктов клиента и некоторыми признаками:\n",
    "* возраст\n",
    "* предполагаемый доход\n",
    "* объекты в собственности\n",
    "\n",
    "Стоит проверить, есть ли корреляция между этими признаками:"
   ]
  },
  {
   "cell_type": "code",
   "execution_count": 21,
   "metadata": {
    "scrolled": true
   },
   "outputs": [
    {
     "data": {
      "image/png": "[encoded data removed]",
      "text/plain": [
       "<Figure size 1440x1440 with 2 Axes>"
      ]
     },
     "metadata": {
      "needs_background": "light"
     },
     "output_type": "display_data"
    }
   ],
   "source": [
    "plt.figure(figsize=(20,20))\n",
    "plt.title('Матрица корреляций между признаками')\n",
    "sns.heatmap(pd.get_dummies(data).corr(), annot=True)\n",
    "None"
   ]
  },
  {
   "cell_type": "code",
   "execution_count": 22,
   "metadata": {},
   "outputs": [
    {
     "data": {
      "image/png": "[encoded data removed]",
      "text/plain": [
       "<Figure size 1440x1440 with 2 Axes>"
      ]
     },
     "metadata": {
      "needs_background": "light"
     },
     "output_type": "display_data"
    }
   ],
   "source": [
    "spirman_matrix = pd.DataFrame(st.spearmanr(pd.get_dummies(data))[0], \n",
    "                              columns=pd.get_dummies(data).columns, \n",
    "                              index=pd.get_dummies(data).columns\n",
    "                             )\n",
    "\n",
    "plt.figure(figsize=(20,20))\n",
    "plt.title('Матрица корреляций между признаками')\n",
    "sns.heatmap(spirman_matrix, annot=True)\n",
    "None"
   ]
  },
  {
   "cell_type": "markdown",
   "metadata": {},
   "source": [
    "Кроме очевидных мультиколлинеарных признаков (пол, город) установлено две взаимосвязи:\n",
    "* Прямая слабая связь между оттоком и возрастом\n",
    "* Прямая и очень слабая связь между оттоком и принадлежностью к городу Ростов Великий"
   ]
  },
  {
   "cell_type": "markdown",
   "metadata": {},
   "source": [
    "<strong>Выводы:</strong>\n",
    "\n",
    "* Можно с уверенностью сказать, что группы дифференцируются по уровню оттока\n",
    "* Есть слабая прямая связь между оттоком и возрастом\n",
    "* Между остальными признаками не установлено существенной взаимосвязи"
   ]
  },
  {
   "cell_type": "markdown",
   "metadata": {},
   "source": [
    "### Изучение распределений в разбивке по количеству продуктов"
   ]
  },
  {
   "cell_type": "markdown",
   "metadata": {},
   "source": [
    "Анализ разброса значений позволит выявить дополнительную информацию о каждом сегменте:"
   ]
  },
  {
   "cell_type": "code",
   "execution_count": 23,
   "metadata": {
    "scrolled": false
   },
   "outputs": [
    {
     "data": {
      "image/png": "[encoded data removed]",
      "text/plain": [
       "<Figure size 1080x360 with 1 Axes>"
      ]
     },
     "metadata": {
      "needs_background": "light"
     },
     "output_type": "display_data"
    },
    {
     "data": {
      "image/png": "[encoded data removed]",
      "text/plain": [
       "<Figure size 1080x360 with 1 Axes>"
      ]
     },
     "metadata": {
      "needs_background": "light"
     },
     "output_type": "display_data"
    },
    {
     "data": {
      "image/png": "[encoded data removed]",
      "text/plain": [
       "<Figure size 1080x360 with 1 Axes>"
      ]
     },
     "metadata": {
      "needs_background": "light"
     },
     "output_type": "display_data"
    },
    {
     "data": {
      "image/png": "[encoded data removed]",
      "text/plain": [
       "<Figure size 1080x360 with 1 Axes>"
      ]
     },
     "metadata": {
      "needs_background": "light"
     },
     "output_type": "display_data"
    },
    {
     "data": {
      "image/png": "[encoded data removed]",
      "text/plain": [
       "<Figure size 1080x360 with 1 Axes>"
      ]
     },
     "metadata": {
      "needs_background": "light"
     },
     "output_type": "display_data"
    },
    {
     "data": {
      "image/png": "[encoded data removed]",
      "text/plain": [
       "<Figure size 1080x360 with 1 Axes>"
      ]
     },
     "metadata": {
      "needs_background": "light"
     },
     "output_type": "display_data"
    }
   ],
   "source": [
    "for column in numeric_columns:\n",
    "    plt.figure(figsize=(15, 5))\n",
    "    plt.suptitle('Признак: ' + str(column))\n",
    "    ax = sns.boxplot(x='products', y=column, data=data)\n",
    "    ax.set_ylabel('')\n",
    "    ax.set_xlabel('Количество продуктов')\n",
    "None"
   ]
  },
  {
   "cell_type": "markdown",
   "metadata": {},
   "source": [
    "По ящику с усами можно сделать некоторые выводы о сегментах:\n",
    "* по всем признакам кроме возраста не выявлено существенных различий между сегментами\n",
    "* в 1-й и 2-й группе наблюдается много нетипичных \"выбросов\" клиентов старшего возраста. Это могут быть клиенты, пользующиеся пенсионными картами\n",
    "* Распределения в 3-ей и 4-ей группе смещены в сторону более старшего возраста по сравнению с первыми двумя группами"
   ]
  },
  {
   "cell_type": "code",
   "execution_count": 24,
   "metadata": {},
   "outputs": [
    {
     "data": {
      "image/png": "[encoded data removed]",
      "text/plain": [
       "<Figure size 1440x504 with 4 Axes>"
      ]
     },
     "metadata": {
      "needs_background": "light"
     },
     "output_type": "display_data"
    },
    {
     "data": {
      "image/png": "[encoded data removed]",
      "text/plain": [
       "<Figure size 1440x504 with 4 Axes>"
      ]
     },
     "metadata": {
      "needs_background": "light"
     },
     "output_type": "display_data"
    },
    {
     "data": {
      "image/png": "[encoded data removed]",
      "text/plain": [
       "<Figure size 1440x504 with 4 Axes>"
      ]
     },
     "metadata": {
      "needs_background": "light"
     },
     "output_type": "display_data"
    },
    {
     "data": {
      "image/png": "[encoded data removed]",
      "text/plain": [
       "<Figure size 1440x504 with 4 Axes>"
      ]
     },
     "metadata": {
      "needs_background": "light"
     },
     "output_type": "display_data"
    },
    {
     "data": {
      "image/png": "[encoded data removed]",
      "text/plain": [
       "<Figure size 1440x504 with 4 Axes>"
      ]
     },
     "metadata": {
      "needs_background": "light"
     },
     "output_type": "display_data"
    },
    {
     "data": {
      "image/png": "[encoded data removed]",
      "text/plain": [
       "<Figure size 1440x504 with 4 Axes>"
      ]
     },
     "metadata": {
      "needs_background": "light"
     },
     "output_type": "display_data"
    }
   ],
   "source": [
    "for column in numeric_columns:\n",
    "    plt.figure(figsize=(20, 7))\n",
    "    plt.suptitle('Признак: ' + str(column))\n",
    "    if len(data[column].unique()) < 100:\n",
    "           n_bars = len(data[column].unique())\n",
    "    else:\n",
    "        n_bars = 20\n",
    "    \n",
    "    products = sorted(data['products'].unique())   \n",
    "    ax1 = plt.subplot(1, len(products), 1)\n",
    "    sns.histplot(data=data.query('products == @products[0]'), x=column, bins=n_bars)\n",
    "    ax1.set_xlabel('')\n",
    "    ax1.set_ylabel('Количество пользователей')\n",
    "    for product in products[1:]:\n",
    "        ax2 = plt.subplot(1, len(products), product, sharey=ax1)\n",
    "        sns.histplot(data=data.query('products == @product'), x=column, bins=n_bars)\n",
    "        ax2.set_xlabel('')\n",
    "        ax2.set_ylabel('')"
   ]
  },
  {
   "cell_type": "markdown",
   "metadata": {},
   "source": [
    "Кроме возраста в распределениях не найдено существенных отличий между группами"
   ]
  },
  {
   "cell_type": "markdown",
   "metadata": {},
   "source": [
    "Дополнительно можно изучить, как распределяются сегменты по городам:"
   ]
  },
  {
   "cell_type": "code",
   "execution_count": 25,
   "metadata": {},
   "outputs": [
    {
     "data": {
      "image/png": "[encoded data removed]",
      "text/plain": [
       "<Figure size 1080x360 with 4 Axes>"
      ]
     },
     "metadata": {},
     "output_type": "display_data"
    }
   ],
   "source": [
    "products = sorted(data['products'].unique())\n",
    "fig, axes = plt.subplots(1,len(products), figsize=(15,5))\n",
    "for ax, product in zip(axes, products):\n",
    "    pie_table = data.query('products == @product').groupby(['city'], as_index=False).agg({'user_id' : 'count'})\n",
    "    ax.pie(pie_table['user_id'], labels=pie_table['city'], labeldistance=None, autopct='%.2f%%')\n",
    "    ax.set(ylabel='', title='Распределение в сегменте ' + str(product), aspect='equal')\n",
    "axes[0].legend(bbox_to_anchor=(0, 0.5))\n",
    "\n",
    "None"
   ]
  },
  {
   "cell_type": "markdown",
   "metadata": {},
   "source": [
    "С учётом малочисленности 3-го и 4-го сегмента нельзя сказать, что в каком-то сегменте распределение по городам аномально отличается от распределения всех клиентов по городам"
   ]
  },
  {
   "cell_type": "markdown",
   "metadata": {},
   "source": [
    "Последний признак изучен, можно переходить к финальному описанию портретов аудитории:"
   ]
  },
  {
   "cell_type": "markdown",
   "metadata": {},
   "source": [
    "### Описание портрета каждого сегмента аудитории"
   ]
  },
  {
   "cell_type": "markdown",
   "metadata": {},
   "source": [
    "Выборка была разделена на 4 сегмента. В основном сегменты дифференцируются по уровню оттока:\n",
    "* Клиенты, которые пользуются одним продуктом - самая многочисленная группа\n",
    "* Клиенты, которые пользуются двумя продуктами - вторая по многочисленности группа с самым низким уровнем оттока и самым высоким уровнем активности\n",
    "* Клиенты, которые пользуются 3-мя продуктами - очень высокий уровень оттока и самый низкий уровень активности\n",
    "* Клиенты, которые пользуются 4-мя продуктами - самая малочисленная группа. Среди таких клиентов все были подвержены оттоку\n",
    "\n",
    "Также было выявлена слабая корреляция между возрастом и уровнем оттока. Можно предположить, что старшее поколение чаще подвержено оттоку\n",
    "\n",
    "По остальным признакам сегменты не дифференцируются"
   ]
  },
  {
   "cell_type": "markdown",
   "metadata": {},
   "source": [
    "## Проверка статистических гипотез"
   ]
  },
  {
   "cell_type": "markdown",
   "metadata": {},
   "source": [
    "### Средний доход клиентов, пользующихся двумя продуктами, выше, чем средний доход клиентов, пользующихся одним продуктом"
   ]
  },
  {
   "cell_type": "code",
   "execution_count": 26,
   "metadata": {},
   "outputs": [
    {
     "data": {
      "image/png": "[encoded data removed]",
      "text/plain": [
       "<Figure size 720x360 with 1 Axes>"
      ]
     },
     "metadata": {
      "needs_background": "light"
     },
     "output_type": "display_data"
    }
   ],
   "source": [
    "plt.figure(figsize=(10,5))\n",
    "\n",
    "ax = sns.barplot(x=data[data['products'].isin([1,2])]['products'], y=data['estimated_salary'])\n",
    "\n",
    "ax.set_xlabel('Сегменты по количеству продуктов')\n",
    "ax.set_ylabel('Средний доход')\n",
    "ax.set_title('Наблюдаемый средний доход по проверяемым сегментам')\n",
    "None"
   ]
  },
  {
   "cell_type": "markdown",
   "metadata": {},
   "source": [
    "Формулируем нулевую и альтернативную гипотезы: \n",
    "* `H₀`: средний доход клиентов, пользующихся двумя продуктами, равен среднему доходу клиентов, пользующихся одним продуктом\n",
    "* `H₁`: средний доход клиентов, пользующихся двумя продуктами, выше, чем средний доход клиентов, пользующихся одним продуктом\n",
    "\n",
    "Так как нас интересует отклонение в одну сторону, тест будет односторонним. Так как сравниваем средние значения, используем `t-test`:"
   ]
  },
  {
   "cell_type": "code",
   "execution_count": 27,
   "metadata": {},
   "outputs": [
    {
     "name": "stdout",
     "output_type": "stream",
     "text": [
      "p-значение: 0.41047183624949335\n",
      "Не получилось отвергнуть нулевую гипотезу\n"
     ]
    }
   ],
   "source": [
    "salary_products_1 = data.query('products == 1')['estimated_salary']\n",
    "\n",
    "salary_products_2 = data.query('products == 2')['estimated_salary']\n",
    "\n",
    "alpha = 0.05\n",
    "\n",
    "results = st.ttest_ind(salary_products_1, salary_products_2)\n",
    "\n",
    "print('p-значение:', results.pvalue)\n",
    "\n",
    "if results.pvalue / 2 < alpha and salary_products_2.mean() > salary_products_1.mean():\n",
    "    print(\"Отвергаем нулевую гипотезу\")\n",
    "else:\n",
    "    print(\"Не получилось отвергнуть нулевую гипотезу\")"
   ]
  },
  {
   "cell_type": "markdown",
   "metadata": {},
   "source": [
    "Нельзя отвергнуть нулевую гипотезу о равенстве средних значений между двумя сегментами"
   ]
  },
  {
   "cell_type": "markdown",
   "metadata": {},
   "source": [
    "### Вероятность оттока клиентов, пользующихся одним продуктом, выше, чем вероятность оттока клиентов, пользующихся двумя продуктами"
   ]
  },
  {
   "cell_type": "code",
   "execution_count": 28,
   "metadata": {},
   "outputs": [
    {
     "data": {
      "image/png": "[encoded data removed]",
      "text/plain": [
       "<Figure size 720x360 with 1 Axes>"
      ]
     },
     "metadata": {
      "needs_background": "light"
     },
     "output_type": "display_data"
    }
   ],
   "source": [
    "plt.figure(figsize=(10,5))\n",
    "\n",
    "ax = sns.barplot(x=data[data['products'].isin([1,2])]['products'], y=data['churn'])\n",
    "\n",
    "ax.set_xlabel('Сегменты по количеству продуктов')\n",
    "ax.set_ylabel('Уровень оттока')\n",
    "ax.set_title('Наблюдаемый уровень оттока по проверяемым сегментам')\n",
    "None"
   ]
  },
  {
   "cell_type": "markdown",
   "metadata": {},
   "source": [
    "Формулируем нулевую и альтернативную гипотезы: \n",
    "* `H₀`: вероятность оттока клиентов, пользующихся одним продуктом, равна вероятности оттока клиентов, пользующихся двумя продуктами\n",
    "* `H₁`: вероятность оттока клиентов, пользующихся одним продуктом, выше вероятности оттока клиентов, пользующихся двумя продуктами\n",
    "\n",
    "Так как нас интересует отклонение в одну сторону, тест будет односторонним. Так как сравниваем доли, используем `z-test`:"
   ]
  },
  {
   "cell_type": "code",
   "execution_count": 31,
   "metadata": {},
   "outputs": [
    {
     "name": "stdout",
     "output_type": "stream",
     "text": [
      "p-значение: 0.0\n",
      "Отвергаем нулевую гипотезу\n"
     ]
    }
   ],
   "source": [
    "churn_products_1 = data.query('products == 1')['churn']\n",
    "churn_products_2 = data.query('products == 2')['churn']\n",
    "\n",
    "p1 = churn_products_1.mean()\n",
    "p2 = churn_products_2.mean()\n",
    "p_combined = (churn_products_1.sum() + churn_products_2.sum()) / (churn_products_1.count() + churn_products_2.count())\n",
    "difference = p1 - p2\n",
    "z_value = difference / mth.sqrt(p_combined * (1 - p_combined) * (1 / churn_products_1.count() + 1 / churn_products_2.count()))\n",
    "distr = st.norm(0,1)\n",
    "p_value = (1 - distr.cdf(abs(z_value))) * 2\n",
    "\n",
    "alpha = 0.05\n",
    "\n",
    "print('p-значение:', p_value / 2)\n",
    "\n",
    "if p_value / 2 < alpha and churn_products_1.mean() > churn_products_2.mean():\n",
    "    print(\"Отвергаем нулевую гипотезу\")\n",
    "else:\n",
    "    print(\"Не получилось отвергнуть нулевую гипотезу\")"
   ]
  },
  {
   "cell_type": "code",
   "execution_count": 30,
   "metadata": {},
   "outputs": [
    {
     "data": {
      "text/plain": [
       "0       1\n",
       "1       0\n",
       "4       0\n",
       "9       0\n",
       "16      1\n",
       "       ..\n",
       "9992    0\n",
       "9993    0\n",
       "9996    0\n",
       "9997    1\n",
       "9999    0\n",
       "Name: churn, Length: 5084, dtype: int64"
      ]
     },
     "execution_count": 30,
     "metadata": {},
     "output_type": "execute_result"
    }
   ],
   "source": [
    "churn_products_1"
   ]
  },
  {
   "cell_type": "markdown",
   "metadata": {},
   "source": [
    "В данном случае принимаем гипотезу `H₁` - клиенты, пользующиеся одним продуктом, чаще подвержены оттоку, чем клиенты, пользующиеся двумя продуктами"
   ]
  },
  {
   "cell_type": "markdown",
   "metadata": {},
   "source": [
    "## Финальные выводы и рекомендации"
   ]
  },
  {
   "cell_type": "markdown",
   "metadata": {},
   "source": [
    "В процессе исследования были выполнены следующие пункты:\n",
    "\n",
    "<strong>По загрузке и предобработке данных:</strong>\n",
    "\n",
    "* Загружена таблица, данные переведены в единый формат\n",
    "* Проведена проверка на дубликаты. Дубликатов не найдено\n",
    "* Изучены пропущенные значения. Причин не выявлено, значения оставлены без изменений\n",
    "* Изучены распределения признаков. Найдены аномалии в возрасте. Аномалии также оставлены без изменений, так как они соответствуют среднему значению нормального распределения\n",
    "\n",
    "<strong>В рамках исследовательского анализа данных:</strong>\n",
    "* Изучены средние значения по всем клиентам\n",
    "* Данные изучены в разбивке по городам: выявлено, что больше всего клиентов приходится на Ярославль, а наибольший показатель оттока наблюдается в Ростове Великом\n",
    "* Клиенты разделены по сегментам по количеству потребляемых продуктов\n",
    "* Выявлены крупные сегменты - клиенты, пользующиеся одним или двумя продуктами, а также маленькие сегменты - пользующиеся 3-мя и 4-я продуктами\n",
    "* Выявлено, что сегменты дифференцируются по показателю оттока\n",
    "* Выявлена слабая прямая взаимосвязь между количеством потребляемых продуктов и возрастом клиента\n",
    "* Описаны портреты сегментов. Выявлено, что наиболее активный сегмент, менее всего подверженный оттоку - аудитория клиентов, пользующихся двумя продуктами. Вероятность оттока таких клиентов самая низкая. При этом пользователи, пользующиеся 3-я и 4-мя продуктам, вероятнее всего подвержены оттоку\n",
    "\n",
    "<strong>В рамках проверки статистических гипотез:</strong>\n",
    "\n",
    "* Не удалось отвергнуть нулевую гипотезу о равенстве средних значений между средним доходом клиентов, пользующихся одним продуктом и средним доходом клиентов, пользующихся двумя продуктами\n",
    "* Была принята альтернативная гипотеза о том, что уровень оттока пользователей, пользующихся одним продуктом, превышает уровень оттока пользователей, пользующихся двумя продуктами\n",
    "\n",
    "<strong>Общие выводы и рекомендации:</strong>\n",
    "\n",
    "* Наиболее многочисленная группа - клиенты, пользующиеся одним продуктом. Для снижения уровня оттока таким пользователям можно предлагать дополнительный продукт, который будет отвечать потребностям каждого конкретного клиента\n",
    "* Клиенты, пользующиеся двумя продуктами, наиболее активны и наименее подвержены оттоку. Такое количество продуктов для одного клиента является оптимальным\n",
    "* Группа клиентов, пользующихся 3-мя или 4-мя продуктами не многочисленна, но почти всегда гарантирует отток. Предлагать пользователям дополнительные продукты при активном использовании двух не рекомендуется\n",
    "* Скорее всего, целевая аудитория сильно отличается для разных продуктов. Об этом говорит уровень оттока клиентов с количеством продуктов более 2"
   ]
  }
 ],
 "metadata": {
  "ExecuteTimeLog": [
   {
    "duration": 878,
    "start_time": "2022-08-01T12:04:10.681Z"
   },
   {
    "duration": 75,
    "start_time": "2022-08-01T12:16:52.077Z"
   },
   {
    "duration": 18,
    "start_time": "2022-08-01T12:16:54.901Z"
   },
   {
    "duration": 12,
    "start_time": "2022-08-01T12:17:23.308Z"
   },
   {
    "duration": 82,
    "start_time": "2022-08-01T12:18:12.752Z"
   },
   {
    "duration": 11,
    "start_time": "2022-08-01T12:18:33.955Z"
   },
   {
    "duration": 8,
    "start_time": "2022-08-01T12:18:40.301Z"
   },
   {
    "duration": 10,
    "start_time": "2022-08-01T12:18:53.562Z"
   },
   {
    "duration": 18,
    "start_time": "2022-08-01T12:19:14.996Z"
   },
   {
    "duration": 8,
    "start_time": "2022-08-01T12:19:19.342Z"
   },
   {
    "duration": 8,
    "start_time": "2022-08-01T12:19:27.530Z"
   },
   {
    "duration": 9,
    "start_time": "2022-08-01T12:19:45.664Z"
   },
   {
    "duration": 8,
    "start_time": "2022-08-01T12:20:29.642Z"
   },
   {
    "duration": 9,
    "start_time": "2022-08-01T12:20:54.977Z"
   },
   {
    "duration": 10,
    "start_time": "2022-08-01T12:22:18.084Z"
   },
   {
    "duration": 4,
    "start_time": "2022-08-01T12:29:14.583Z"
   },
   {
    "duration": 12,
    "start_time": "2022-08-01T12:29:18.916Z"
   },
   {
    "duration": 59,
    "start_time": "2022-08-01T12:29:55.327Z"
   },
   {
    "duration": 18,
    "start_time": "2022-08-01T12:29:59.711Z"
   },
   {
    "duration": 20,
    "start_time": "2022-08-01T12:31:12.316Z"
   },
   {
    "duration": 13,
    "start_time": "2022-08-01T12:31:38.145Z"
   },
   {
    "duration": 4,
    "start_time": "2022-08-01T12:31:49.138Z"
   },
   {
    "duration": 11,
    "start_time": "2022-08-01T12:31:53.368Z"
   },
   {
    "duration": 64,
    "start_time": "2022-08-01T12:34:04.118Z"
   },
   {
    "duration": 842,
    "start_time": "2022-08-01T12:35:13.217Z"
   },
   {
    "duration": 65,
    "start_time": "2022-08-01T12:35:22.164Z"
   },
   {
    "duration": 46,
    "start_time": "2022-08-01T12:35:44.050Z"
   },
   {
    "duration": 50,
    "start_time": "2022-08-01T12:36:01.518Z"
   },
   {
    "duration": 63,
    "start_time": "2022-08-01T12:36:04.657Z"
   },
   {
    "duration": 55,
    "start_time": "2022-08-01T12:36:13.993Z"
   },
   {
    "duration": 54,
    "start_time": "2022-08-01T12:36:41.483Z"
   },
   {
    "duration": 59,
    "start_time": "2022-08-01T12:37:06.820Z"
   },
   {
    "duration": 56,
    "start_time": "2022-08-01T12:37:19.054Z"
   },
   {
    "duration": 9,
    "start_time": "2022-08-01T13:04:23.574Z"
   },
   {
    "duration": 2,
    "start_time": "2022-08-01T13:04:32.552Z"
   },
   {
    "duration": 2622,
    "start_time": "2022-08-01T13:04:35.472Z"
   },
   {
    "duration": 1464,
    "start_time": "2022-08-01T13:05:16.508Z"
   },
   {
    "duration": 1801,
    "start_time": "2022-08-01T13:11:14.438Z"
   },
   {
    "duration": 11,
    "start_time": "2022-08-01T13:13:13.292Z"
   },
   {
    "duration": 11,
    "start_time": "2022-08-01T13:13:22.513Z"
   },
   {
    "duration": 12,
    "start_time": "2022-08-01T13:19:00.196Z"
   },
   {
    "duration": 320,
    "start_time": "2022-08-01T13:19:10.966Z"
   },
   {
    "duration": 41,
    "start_time": "2022-08-01T13:19:23.504Z"
   },
   {
    "duration": 33,
    "start_time": "2022-08-01T13:20:17.538Z"
   },
   {
    "duration": 17,
    "start_time": "2022-08-01T13:21:15.039Z"
   },
   {
    "duration": 15,
    "start_time": "2022-08-01T13:21:23.534Z"
   },
   {
    "duration": 36,
    "start_time": "2022-08-01T13:22:31.865Z"
   },
   {
    "duration": 35,
    "start_time": "2022-08-01T13:22:49.711Z"
   },
   {
    "duration": 30,
    "start_time": "2022-08-01T13:23:52.338Z"
   },
   {
    "duration": 26,
    "start_time": "2022-08-01T13:24:10.884Z"
   },
   {
    "duration": 33,
    "start_time": "2022-08-01T13:24:43.264Z"
   },
   {
    "duration": 37,
    "start_time": "2022-08-01T13:24:51.871Z"
   },
   {
    "duration": 28,
    "start_time": "2022-08-01T13:25:10.610Z"
   },
   {
    "duration": 30,
    "start_time": "2022-08-01T13:25:40.084Z"
   },
   {
    "duration": 33,
    "start_time": "2022-08-01T13:26:31.756Z"
   },
   {
    "duration": 30,
    "start_time": "2022-08-01T13:27:11.928Z"
   },
   {
    "duration": 49,
    "start_time": "2022-08-01T13:28:08.907Z"
   },
   {
    "duration": 40,
    "start_time": "2022-08-01T13:29:57.082Z"
   },
   {
    "duration": 57,
    "start_time": "2022-08-01T13:31:45.736Z"
   },
   {
    "duration": 39,
    "start_time": "2022-08-01T13:31:56.261Z"
   },
   {
    "duration": 28,
    "start_time": "2022-08-01T13:33:02.397Z"
   },
   {
    "duration": 20,
    "start_time": "2022-08-01T13:33:13.025Z"
   },
   {
    "duration": 17,
    "start_time": "2022-08-01T13:34:06.577Z"
   },
   {
    "duration": 17,
    "start_time": "2022-08-01T13:44:21.092Z"
   },
   {
    "duration": 37,
    "start_time": "2022-08-01T13:44:59.701Z"
   },
   {
    "duration": 39,
    "start_time": "2022-08-01T13:45:09.293Z"
   },
   {
    "duration": 40,
    "start_time": "2022-08-01T13:46:22.552Z"
   },
   {
    "duration": 58,
    "start_time": "2022-08-01T13:46:40.662Z"
   },
   {
    "duration": 36,
    "start_time": "2022-08-01T13:46:45.589Z"
   },
   {
    "duration": 42,
    "start_time": "2022-08-01T13:47:05.496Z"
   },
   {
    "duration": 32,
    "start_time": "2022-08-01T13:47:13.008Z"
   },
   {
    "duration": 79,
    "start_time": "2022-08-01T13:47:44.762Z"
   },
   {
    "duration": 33,
    "start_time": "2022-08-01T13:48:27.630Z"
   },
   {
    "duration": 47,
    "start_time": "2022-08-01T13:48:34.522Z"
   },
   {
    "duration": 62,
    "start_time": "2022-08-01T13:48:42.262Z"
   },
   {
    "duration": 940,
    "start_time": "2022-08-01T13:49:04.816Z"
   },
   {
    "duration": 1127,
    "start_time": "2022-08-01T13:49:59.642Z"
   },
   {
    "duration": 1173,
    "start_time": "2022-08-01T13:50:13.740Z"
   },
   {
    "duration": 38,
    "start_time": "2022-08-01T13:50:21.540Z"
   },
   {
    "duration": 34,
    "start_time": "2022-08-01T13:50:41.168Z"
   },
   {
    "duration": 57,
    "start_time": "2022-08-01T13:50:53.176Z"
   },
   {
    "duration": 40,
    "start_time": "2022-08-01T13:51:49.470Z"
   },
   {
    "duration": 36,
    "start_time": "2022-08-01T13:52:51.626Z"
   },
   {
    "duration": 38,
    "start_time": "2022-08-01T13:53:02.439Z"
   },
   {
    "duration": 52,
    "start_time": "2022-08-01T13:54:06.154Z"
   },
   {
    "duration": 39,
    "start_time": "2022-08-01T13:54:37.897Z"
   },
   {
    "duration": 39,
    "start_time": "2022-08-01T13:55:24.139Z"
   },
   {
    "duration": 885,
    "start_time": "2022-08-01T13:57:40.940Z"
   },
   {
    "duration": 20856,
    "start_time": "2022-08-01T13:59:35.534Z"
   },
   {
    "duration": 815,
    "start_time": "2022-08-01T14:02:41.443Z"
   },
   {
    "duration": 2425,
    "start_time": "2022-08-01T14:03:03.895Z"
   },
   {
    "duration": 1149,
    "start_time": "2022-08-01T14:03:41.998Z"
   },
   {
    "duration": 302,
    "start_time": "2022-08-01T14:03:57.207Z"
   },
   {
    "duration": 1068,
    "start_time": "2022-08-01T14:04:24.995Z"
   },
   {
    "duration": 3,
    "start_time": "2022-08-01T14:06:17.846Z"
   },
   {
    "duration": 140,
    "start_time": "2022-08-01T14:12:23.483Z"
   },
   {
    "duration": 165,
    "start_time": "2022-08-01T14:13:12.061Z"
   },
   {
    "duration": 5,
    "start_time": "2022-08-01T14:13:56.876Z"
   },
   {
    "duration": 1894,
    "start_time": "2022-08-01T14:14:16.428Z"
   },
   {
    "duration": 2385,
    "start_time": "2022-08-01T14:15:07.727Z"
   },
   {
    "duration": 114,
    "start_time": "2022-08-01T14:15:56.864Z"
   },
   {
    "duration": 1774,
    "start_time": "2022-08-01T14:16:37.217Z"
   },
   {
    "duration": 3157,
    "start_time": "2022-08-01T14:17:44.886Z"
   },
   {
    "duration": 4299,
    "start_time": "2022-08-01T14:20:12.450Z"
   },
   {
    "duration": 2356,
    "start_time": "2022-08-01T14:26:06.073Z"
   },
   {
    "duration": 12,
    "start_time": "2022-08-01T14:51:29.872Z"
   },
   {
    "duration": 2,
    "start_time": "2022-08-01T14:54:15.421Z"
   },
   {
    "duration": 94,
    "start_time": "2022-08-01T15:07:43.631Z"
   },
   {
    "duration": 13,
    "start_time": "2022-08-01T15:07:48.753Z"
   },
   {
    "duration": 16,
    "start_time": "2022-08-01T15:31:12.211Z"
   },
   {
    "duration": 187,
    "start_time": "2022-08-01T15:31:18.493Z"
   },
   {
    "duration": 162,
    "start_time": "2022-08-01T15:31:27.821Z"
   },
   {
    "duration": 166,
    "start_time": "2022-08-01T15:31:38.452Z"
   },
   {
    "duration": 173,
    "start_time": "2022-08-01T15:32:00.789Z"
   },
   {
    "duration": 8,
    "start_time": "2022-08-01T15:33:59.053Z"
   },
   {
    "duration": 202,
    "start_time": "2022-08-01T15:34:30.686Z"
   },
   {
    "duration": 104,
    "start_time": "2022-08-01T15:34:44.113Z"
   },
   {
    "duration": 10,
    "start_time": "2022-08-01T15:35:22.353Z"
   },
   {
    "duration": 109,
    "start_time": "2022-08-01T15:35:28.453Z"
   },
   {
    "duration": 12,
    "start_time": "2022-08-01T15:35:39.670Z"
   },
   {
    "duration": 843,
    "start_time": "2022-08-01T15:38:55.982Z"
   },
   {
    "duration": 8,
    "start_time": "2022-08-01T15:39:10.174Z"
   },
   {
    "duration": 1273,
    "start_time": "2022-08-01T15:39:55.328Z"
   },
   {
    "duration": 104,
    "start_time": "2022-08-01T15:40:22.629Z"
   },
   {
    "duration": 94,
    "start_time": "2022-08-01T15:40:36.088Z"
   },
   {
    "duration": 19,
    "start_time": "2022-08-01T15:42:05.993Z"
   },
   {
    "duration": 512,
    "start_time": "2022-08-01T15:42:18.745Z"
   },
   {
    "duration": 151,
    "start_time": "2022-08-01T15:42:24.041Z"
   },
   {
    "duration": 145,
    "start_time": "2022-08-01T15:42:42.497Z"
   },
   {
    "duration": 2,
    "start_time": "2022-08-01T15:43:58.629Z"
   },
   {
    "duration": 12,
    "start_time": "2022-08-01T15:44:08.864Z"
   },
   {
    "duration": 18,
    "start_time": "2022-08-01T15:44:46.305Z"
   },
   {
    "duration": 15,
    "start_time": "2022-08-01T15:45:33.022Z"
   },
   {
    "duration": 43,
    "start_time": "2022-08-01T15:46:14.762Z"
   },
   {
    "duration": 9,
    "start_time": "2022-08-01T15:46:31.716Z"
   },
   {
    "duration": 9,
    "start_time": "2022-08-01T15:46:38.232Z"
   },
   {
    "duration": 8,
    "start_time": "2022-08-01T15:46:51.126Z"
   },
   {
    "duration": 3,
    "start_time": "2022-08-01T15:46:59.062Z"
   },
   {
    "duration": 4,
    "start_time": "2022-08-01T15:47:04.574Z"
   },
   {
    "duration": 10,
    "start_time": "2022-08-01T15:47:06.831Z"
   },
   {
    "duration": 9,
    "start_time": "2022-08-01T15:47:13.340Z"
   },
   {
    "duration": 3,
    "start_time": "2022-08-01T15:47:16.816Z"
   },
   {
    "duration": 40,
    "start_time": "2022-08-01T15:47:16.822Z"
   },
   {
    "duration": 11,
    "start_time": "2022-08-01T15:47:16.864Z"
   },
   {
    "duration": 11,
    "start_time": "2022-08-01T15:47:16.877Z"
   },
   {
    "duration": 33,
    "start_time": "2022-08-01T15:47:16.891Z"
   },
   {
    "duration": 14,
    "start_time": "2022-08-01T15:47:16.926Z"
   },
   {
    "duration": 2360,
    "start_time": "2022-08-01T15:47:16.942Z"
   },
   {
    "duration": 3,
    "start_time": "2022-08-01T15:47:19.304Z"
   },
   {
    "duration": 173,
    "start_time": "2022-08-01T15:47:19.309Z"
   },
   {
    "duration": 167,
    "start_time": "2022-08-01T15:47:19.484Z"
   },
   {
    "duration": 3,
    "start_time": "2022-08-01T15:47:19.653Z"
   },
   {
    "duration": 17,
    "start_time": "2022-08-01T15:47:19.657Z"
   },
   {
    "duration": 9,
    "start_time": "2022-08-01T15:47:42.777Z"
   },
   {
    "duration": 23,
    "start_time": "2022-08-01T15:47:47.285Z"
   },
   {
    "duration": 13,
    "start_time": "2022-08-01T15:48:02.216Z"
   },
   {
    "duration": 12,
    "start_time": "2022-08-01T15:49:12.439Z"
   },
   {
    "duration": 15,
    "start_time": "2022-08-01T15:49:22.323Z"
   },
   {
    "duration": 4,
    "start_time": "2022-08-01T15:49:42.795Z"
   },
   {
    "duration": 47,
    "start_time": "2022-08-01T15:49:42.801Z"
   },
   {
    "duration": 11,
    "start_time": "2022-08-01T15:49:42.850Z"
   },
   {
    "duration": 8,
    "start_time": "2022-08-01T15:49:42.863Z"
   },
   {
    "duration": 16,
    "start_time": "2022-08-01T15:49:42.874Z"
   },
   {
    "duration": 13,
    "start_time": "2022-08-01T15:49:42.892Z"
   },
   {
    "duration": 12,
    "start_time": "2022-08-01T15:49:42.907Z"
   },
   {
    "duration": 2414,
    "start_time": "2022-08-01T15:49:42.921Z"
   },
   {
    "duration": 3,
    "start_time": "2022-08-01T15:49:45.336Z"
   },
   {
    "duration": 178,
    "start_time": "2022-08-01T15:49:45.341Z"
   },
   {
    "duration": 160,
    "start_time": "2022-08-01T15:49:45.521Z"
   },
   {
    "duration": 7,
    "start_time": "2022-08-01T15:49:45.683Z"
   },
   {
    "duration": 16,
    "start_time": "2022-08-01T15:49:45.697Z"
   },
   {
    "duration": 108,
    "start_time": "2022-08-01T15:53:14.710Z"
   },
   {
    "duration": 19,
    "start_time": "2022-08-01T15:54:03.786Z"
   },
   {
    "duration": 22,
    "start_time": "2022-08-01T15:54:14.406Z"
   },
   {
    "duration": 26,
    "start_time": "2022-08-01T15:55:47.205Z"
   },
   {
    "duration": 114,
    "start_time": "2022-08-01T16:04:02.011Z"
   },
   {
    "duration": 109,
    "start_time": "2022-08-01T16:04:09.704Z"
   },
   {
    "duration": 225,
    "start_time": "2022-08-01T16:05:11.255Z"
   },
   {
    "duration": 139,
    "start_time": "2022-08-01T16:05:29.334Z"
   },
   {
    "duration": 196,
    "start_time": "2022-08-01T16:05:54.549Z"
   },
   {
    "duration": 92,
    "start_time": "2022-08-01T16:06:11.208Z"
   },
   {
    "duration": 158,
    "start_time": "2022-08-01T16:06:16.808Z"
   },
   {
    "duration": 219,
    "start_time": "2022-08-01T16:06:24.318Z"
   },
   {
    "duration": 230,
    "start_time": "2022-08-01T16:06:32.380Z"
   },
   {
    "duration": 189,
    "start_time": "2022-08-01T16:06:52.653Z"
   },
   {
    "duration": 185,
    "start_time": "2022-08-01T16:07:01.020Z"
   },
   {
    "duration": 158,
    "start_time": "2022-08-01T16:07:09.540Z"
   },
   {
    "duration": 120,
    "start_time": "2022-08-01T16:08:48.535Z"
   },
   {
    "duration": 80,
    "start_time": "2022-08-01T16:09:09.307Z"
   },
   {
    "duration": 70,
    "start_time": "2022-08-01T16:09:42.996Z"
   },
   {
    "duration": 94,
    "start_time": "2022-08-01T16:09:45.710Z"
   },
   {
    "duration": 905,
    "start_time": "2022-08-01T16:14:18.225Z"
   },
   {
    "duration": 161,
    "start_time": "2022-08-01T16:14:37.348Z"
   },
   {
    "duration": 145,
    "start_time": "2022-08-01T16:14:45.296Z"
   },
   {
    "duration": 161,
    "start_time": "2022-08-01T16:15:38.230Z"
   },
   {
    "duration": 335,
    "start_time": "2022-08-01T16:16:05.465Z"
   },
   {
    "duration": 374,
    "start_time": "2022-08-01T16:16:34.732Z"
   },
   {
    "duration": 3118,
    "start_time": "2022-08-01T16:16:52.049Z"
   },
   {
    "duration": 3317,
    "start_time": "2022-08-01T16:21:42.348Z"
   },
   {
    "duration": 3233,
    "start_time": "2022-08-01T16:22:01.546Z"
   },
   {
    "duration": 140,
    "start_time": "2022-08-01T16:24:41.590Z"
   },
   {
    "duration": 155,
    "start_time": "2022-08-01T16:27:25.869Z"
   },
   {
    "duration": 156,
    "start_time": "2022-08-01T16:27:55.286Z"
   },
   {
    "duration": 172,
    "start_time": "2022-08-01T16:28:18.284Z"
   },
   {
    "duration": 163,
    "start_time": "2022-08-01T16:28:22.411Z"
   },
   {
    "duration": 177,
    "start_time": "2022-08-01T16:28:28.663Z"
   },
   {
    "duration": 155,
    "start_time": "2022-08-01T16:28:39.221Z"
   },
   {
    "duration": 1207,
    "start_time": "2022-08-01T16:29:22.722Z"
   },
   {
    "duration": 958,
    "start_time": "2022-08-01T16:32:49.275Z"
   },
   {
    "duration": 1265,
    "start_time": "2022-08-01T16:32:53.496Z"
   },
   {
    "duration": 149,
    "start_time": "2022-08-01T16:33:38.979Z"
   },
   {
    "duration": 1145,
    "start_time": "2022-08-01T16:33:43.385Z"
   },
   {
    "duration": 46,
    "start_time": "2022-08-02T12:18:30.518Z"
   },
   {
    "duration": 1233,
    "start_time": "2022-08-02T12:18:34.580Z"
   },
   {
    "duration": 142,
    "start_time": "2022-08-02T12:18:35.815Z"
   },
   {
    "duration": 15,
    "start_time": "2022-08-02T12:18:35.959Z"
   },
   {
    "duration": 4,
    "start_time": "2022-08-02T12:18:35.976Z"
   },
   {
    "duration": 15,
    "start_time": "2022-08-02T12:18:35.982Z"
   },
   {
    "duration": 15,
    "start_time": "2022-08-02T12:18:35.999Z"
   },
   {
    "duration": 12,
    "start_time": "2022-08-02T12:18:36.016Z"
   },
   {
    "duration": 2227,
    "start_time": "2022-08-02T12:18:36.053Z"
   },
   {
    "duration": 3,
    "start_time": "2022-08-02T12:18:38.282Z"
   },
   {
    "duration": 172,
    "start_time": "2022-08-02T12:18:38.286Z"
   },
   {
    "duration": 154,
    "start_time": "2022-08-02T12:18:38.460Z"
   },
   {
    "duration": 172,
    "start_time": "2022-08-02T12:18:38.616Z"
   },
   {
    "duration": 18,
    "start_time": "2022-08-02T12:18:38.790Z"
   },
   {
    "duration": 17,
    "start_time": "2022-08-02T12:18:38.810Z"
   },
   {
    "duration": 86,
    "start_time": "2022-08-02T12:18:38.828Z"
   },
   {
    "duration": 0,
    "start_time": "2022-08-02T12:18:38.916Z"
   },
   {
    "duration": 19,
    "start_time": "2022-08-02T12:19:07.648Z"
   },
   {
    "duration": 21,
    "start_time": "2022-08-02T12:19:16.014Z"
   },
   {
    "duration": 994,
    "start_time": "2022-08-02T12:19:42.677Z"
   },
   {
    "duration": 10,
    "start_time": "2022-08-02T12:20:15.703Z"
   },
   {
    "duration": 3094,
    "start_time": "2022-08-02T12:20:22.410Z"
   },
   {
    "duration": 14,
    "start_time": "2022-08-02T14:00:07.881Z"
   },
   {
    "duration": 3,
    "start_time": "2022-08-02T14:00:37.972Z"
   },
   {
    "duration": 3,
    "start_time": "2022-08-02T14:00:40.999Z"
   },
   {
    "duration": 38,
    "start_time": "2022-08-02T14:00:41.004Z"
   },
   {
    "duration": 15,
    "start_time": "2022-08-02T14:00:41.044Z"
   },
   {
    "duration": 14,
    "start_time": "2022-08-02T14:00:41.063Z"
   },
   {
    "duration": 14,
    "start_time": "2022-08-02T14:00:41.079Z"
   },
   {
    "duration": 11,
    "start_time": "2022-08-02T14:00:41.095Z"
   },
   {
    "duration": 9,
    "start_time": "2022-08-02T14:00:41.108Z"
   },
   {
    "duration": 2584,
    "start_time": "2022-08-02T14:00:41.119Z"
   },
   {
    "duration": 3,
    "start_time": "2022-08-02T14:00:43.704Z"
   },
   {
    "duration": 177,
    "start_time": "2022-08-02T14:00:43.709Z"
   },
   {
    "duration": 174,
    "start_time": "2022-08-02T14:00:43.888Z"
   },
   {
    "duration": 179,
    "start_time": "2022-08-02T14:00:44.065Z"
   },
   {
    "duration": 26,
    "start_time": "2022-08-02T14:00:44.246Z"
   },
   {
    "duration": 20,
    "start_time": "2022-08-02T14:00:44.274Z"
   },
   {
    "duration": 1138,
    "start_time": "2022-08-02T14:00:44.295Z"
   },
   {
    "duration": 3363,
    "start_time": "2022-08-02T14:00:45.435Z"
   },
   {
    "duration": 10,
    "start_time": "2022-08-02T14:00:48.800Z"
   },
   {
    "duration": 10,
    "start_time": "2022-08-02T14:00:59.063Z"
   },
   {
    "duration": 11,
    "start_time": "2022-08-02T14:02:05.404Z"
   },
   {
    "duration": 144,
    "start_time": "2022-08-02T14:34:11.172Z"
   },
   {
    "duration": 12,
    "start_time": "2022-08-02T14:34:47.402Z"
   },
   {
    "duration": 10,
    "start_time": "2022-08-02T14:48:13.773Z"
   },
   {
    "duration": 17,
    "start_time": "2022-08-02T18:39:32.846Z"
   },
   {
    "duration": 3,
    "start_time": "2022-08-02T18:39:58.636Z"
   },
   {
    "duration": 3,
    "start_time": "2022-08-02T18:40:04.431Z"
   },
   {
    "duration": 85,
    "start_time": "2022-08-02T18:40:04.436Z"
   },
   {
    "duration": 15,
    "start_time": "2022-08-02T18:40:04.524Z"
   },
   {
    "duration": 16,
    "start_time": "2022-08-02T18:40:04.542Z"
   },
   {
    "duration": 23,
    "start_time": "2022-08-02T18:40:04.562Z"
   },
   {
    "duration": 29,
    "start_time": "2022-08-02T18:40:04.587Z"
   },
   {
    "duration": 34,
    "start_time": "2022-08-02T18:40:04.617Z"
   },
   {
    "duration": 2477,
    "start_time": "2022-08-02T18:40:04.653Z"
   },
   {
    "duration": 3,
    "start_time": "2022-08-02T18:40:07.131Z"
   },
   {
    "duration": 173,
    "start_time": "2022-08-02T18:40:07.135Z"
   },
   {
    "duration": 176,
    "start_time": "2022-08-02T18:40:07.310Z"
   },
   {
    "duration": 174,
    "start_time": "2022-08-02T18:40:07.488Z"
   },
   {
    "duration": 18,
    "start_time": "2022-08-02T18:40:07.664Z"
   },
   {
    "duration": 18,
    "start_time": "2022-08-02T18:40:07.684Z"
   },
   {
    "duration": 1200,
    "start_time": "2022-08-02T18:40:07.704Z"
   },
   {
    "duration": 3001,
    "start_time": "2022-08-02T18:40:08.907Z"
   },
   {
    "duration": 10,
    "start_time": "2022-08-02T18:40:11.909Z"
   },
   {
    "duration": 42,
    "start_time": "2022-08-02T18:40:11.921Z"
   },
   {
    "duration": 13,
    "start_time": "2022-08-02T18:40:42.069Z"
   },
   {
    "duration": 14,
    "start_time": "2022-08-02T18:41:26.079Z"
   },
   {
    "duration": 12,
    "start_time": "2022-08-02T18:41:52.836Z"
   },
   {
    "duration": 13,
    "start_time": "2022-08-02T18:42:04.182Z"
   },
   {
    "duration": 15,
    "start_time": "2022-08-02T18:42:28.230Z"
   },
   {
    "duration": 20,
    "start_time": "2022-08-02T18:43:37.989Z"
   },
   {
    "duration": 13,
    "start_time": "2022-08-02T18:45:00.253Z"
   },
   {
    "duration": 12,
    "start_time": "2022-08-02T18:47:38.426Z"
   },
   {
    "duration": 101,
    "start_time": "2022-08-02T19:49:12.224Z"
   },
   {
    "duration": 70,
    "start_time": "2022-08-02T19:57:31.478Z"
   },
   {
    "duration": 73,
    "start_time": "2022-08-02T19:57:51.601Z"
   },
   {
    "duration": 6,
    "start_time": "2022-08-02T20:00:10.164Z"
   },
   {
    "duration": 106,
    "start_time": "2022-08-02T20:00:37.983Z"
   },
   {
    "duration": 136,
    "start_time": "2022-08-02T20:00:42.403Z"
   },
   {
    "duration": 259,
    "start_time": "2022-08-02T20:01:00.187Z"
   },
   {
    "duration": 108,
    "start_time": "2022-08-02T20:01:07.644Z"
   },
   {
    "duration": 209,
    "start_time": "2022-08-02T20:01:31.388Z"
   },
   {
    "duration": 135,
    "start_time": "2022-08-02T20:02:15.973Z"
   },
   {
    "duration": 166,
    "start_time": "2022-08-02T20:02:31.419Z"
   },
   {
    "duration": 115,
    "start_time": "2022-08-02T20:03:05.079Z"
   },
   {
    "duration": 6,
    "start_time": "2022-08-02T20:03:11.401Z"
   },
   {
    "duration": 8,
    "start_time": "2022-08-02T20:03:17.841Z"
   },
   {
    "duration": 13,
    "start_time": "2022-08-02T20:03:42.639Z"
   },
   {
    "duration": 10,
    "start_time": "2022-08-02T20:03:56.923Z"
   },
   {
    "duration": 44,
    "start_time": "2022-08-03T18:51:19.649Z"
   },
   {
    "duration": 1165,
    "start_time": "2022-08-03T18:51:24.645Z"
   },
   {
    "duration": 166,
    "start_time": "2022-08-03T18:51:25.812Z"
   },
   {
    "duration": 14,
    "start_time": "2022-08-03T18:51:25.979Z"
   },
   {
    "duration": 4,
    "start_time": "2022-08-03T18:51:25.995Z"
   },
   {
    "duration": 11,
    "start_time": "2022-08-03T18:51:26.000Z"
   },
   {
    "duration": 13,
    "start_time": "2022-08-03T18:51:26.012Z"
   },
   {
    "duration": 10,
    "start_time": "2022-08-03T18:51:26.026Z"
   },
   {
    "duration": 2164,
    "start_time": "2022-08-03T18:51:26.037Z"
   },
   {
    "duration": 2,
    "start_time": "2022-08-03T18:51:28.203Z"
   },
   {
    "duration": 149,
    "start_time": "2022-08-03T18:51:28.207Z"
   },
   {
    "duration": 150,
    "start_time": "2022-08-03T18:51:28.357Z"
   },
   {
    "duration": 9,
    "start_time": "2022-08-03T18:51:28.508Z"
   },
   {
    "duration": 169,
    "start_time": "2022-08-03T18:51:28.518Z"
   },
   {
    "duration": 16,
    "start_time": "2022-08-03T18:51:28.689Z"
   },
   {
    "duration": 891,
    "start_time": "2022-08-03T18:51:28.706Z"
   },
   {
    "duration": 3026,
    "start_time": "2022-08-03T18:51:29.599Z"
   },
   {
    "duration": 16,
    "start_time": "2022-08-03T18:51:32.626Z"
   },
   {
    "duration": 0,
    "start_time": "2022-08-03T18:51:32.643Z"
   },
   {
    "duration": 11,
    "start_time": "2022-08-03T18:51:50.545Z"
   },
   {
    "duration": 73,
    "start_time": "2022-08-03T18:55:26.598Z"
   },
   {
    "duration": 12,
    "start_time": "2022-08-03T19:12:26.713Z"
   },
   {
    "duration": 9,
    "start_time": "2022-08-03T19:12:42.153Z"
   },
   {
    "duration": 15,
    "start_time": "2022-08-03T19:12:48.181Z"
   },
   {
    "duration": 169,
    "start_time": "2022-08-03T19:13:05.154Z"
   },
   {
    "duration": 157,
    "start_time": "2022-08-03T19:13:12.660Z"
   },
   {
    "duration": 154,
    "start_time": "2022-08-03T19:14:23.913Z"
   },
   {
    "duration": 89,
    "start_time": "2022-08-03T19:27:47.014Z"
   },
   {
    "duration": 84,
    "start_time": "2022-08-03T19:28:08.288Z"
   },
   {
    "duration": 74,
    "start_time": "2022-08-03T19:30:24.445Z"
   },
   {
    "duration": 1271,
    "start_time": "2022-08-03T19:30:44.782Z"
   },
   {
    "duration": 188,
    "start_time": "2022-08-03T19:31:37.358Z"
   },
   {
    "duration": 199,
    "start_time": "2022-08-03T19:32:36.687Z"
   },
   {
    "duration": 300,
    "start_time": "2022-08-03T19:32:53.582Z"
   },
   {
    "duration": 226,
    "start_time": "2022-08-03T19:34:11.762Z"
   },
   {
    "duration": 246,
    "start_time": "2022-08-03T19:34:25.910Z"
   },
   {
    "duration": 249,
    "start_time": "2022-08-03T19:34:46.466Z"
   },
   {
    "duration": 250,
    "start_time": "2022-08-03T19:34:50.478Z"
   },
   {
    "duration": 238,
    "start_time": "2022-08-03T19:35:02.696Z"
   },
   {
    "duration": 319,
    "start_time": "2022-08-03T19:35:08.797Z"
   },
   {
    "duration": 224,
    "start_time": "2022-08-03T19:35:15.046Z"
   },
   {
    "duration": 250,
    "start_time": "2022-08-03T19:37:06.681Z"
   },
   {
    "duration": 94,
    "start_time": "2022-08-03T19:37:53.072Z"
   },
   {
    "duration": 101,
    "start_time": "2022-08-03T19:37:57.969Z"
   },
   {
    "duration": 262,
    "start_time": "2022-08-03T19:38:06.179Z"
   },
   {
    "duration": 2838,
    "start_time": "2022-08-03T19:39:28.572Z"
   },
   {
    "duration": 15,
    "start_time": "2022-08-03T19:40:47.500Z"
   },
   {
    "duration": 12,
    "start_time": "2022-08-03T19:41:12.649Z"
   },
   {
    "duration": 14,
    "start_time": "2022-08-03T19:41:16.467Z"
   },
   {
    "duration": 203,
    "start_time": "2022-08-03T19:59:20.175Z"
   },
   {
    "duration": 269,
    "start_time": "2022-08-03T19:59:47.558Z"
   },
   {
    "duration": 262,
    "start_time": "2022-08-03T19:59:58.889Z"
   },
   {
    "duration": 261,
    "start_time": "2022-08-03T20:00:12.595Z"
   },
   {
    "duration": 380,
    "start_time": "2022-08-03T20:00:26.166Z"
   },
   {
    "duration": 417,
    "start_time": "2022-08-03T20:00:42.685Z"
   },
   {
    "duration": 424,
    "start_time": "2022-08-03T20:09:42.703Z"
   },
   {
    "duration": 274,
    "start_time": "2022-08-03T20:14:40.141Z"
   },
   {
    "duration": 283,
    "start_time": "2022-08-03T20:15:38.038Z"
   },
   {
    "duration": 365,
    "start_time": "2022-08-03T20:18:43.270Z"
   },
   {
    "duration": 236,
    "start_time": "2022-08-03T20:27:35.134Z"
   },
   {
    "duration": 232,
    "start_time": "2022-08-03T20:27:44.588Z"
   },
   {
    "duration": 227,
    "start_time": "2022-08-03T20:27:52.346Z"
   },
   {
    "duration": 246,
    "start_time": "2022-08-03T20:27:58.278Z"
   },
   {
    "duration": 249,
    "start_time": "2022-08-03T20:28:08.894Z"
   },
   {
    "duration": 329,
    "start_time": "2022-08-03T20:28:33.737Z"
   },
   {
    "duration": 224,
    "start_time": "2022-08-03T20:28:43.278Z"
   },
   {
    "duration": 238,
    "start_time": "2022-08-03T20:30:39.968Z"
   },
   {
    "duration": 248,
    "start_time": "2022-08-03T20:30:47.702Z"
   },
   {
    "duration": 238,
    "start_time": "2022-08-03T20:31:38.287Z"
   },
   {
    "duration": 224,
    "start_time": "2022-08-03T20:32:49.291Z"
   },
   {
    "duration": 10,
    "start_time": "2022-08-03T20:32:57.767Z"
   },
   {
    "duration": 257,
    "start_time": "2022-08-03T20:33:18.342Z"
   },
   {
    "duration": 436,
    "start_time": "2022-08-03T20:33:27.343Z"
   },
   {
    "duration": 243,
    "start_time": "2022-08-03T20:33:33.540Z"
   },
   {
    "duration": 239,
    "start_time": "2022-08-03T20:33:59.914Z"
   },
   {
    "duration": 256,
    "start_time": "2022-08-03T20:34:29.275Z"
   },
   {
    "duration": 246,
    "start_time": "2022-08-03T20:34:38.464Z"
   },
   {
    "duration": 147,
    "start_time": "2022-08-03T20:36:27.467Z"
   },
   {
    "duration": 153,
    "start_time": "2022-08-03T20:36:43.459Z"
   },
   {
    "duration": 141,
    "start_time": "2022-08-03T20:36:49.544Z"
   },
   {
    "duration": 379,
    "start_time": "2022-08-03T20:37:38.001Z"
   },
   {
    "duration": 18,
    "start_time": "2022-08-03T20:49:43.871Z"
   },
   {
    "duration": 72,
    "start_time": "2022-08-03T20:53:48.249Z"
   },
   {
    "duration": 50,
    "start_time": "2022-08-04T14:18:19.498Z"
   },
   {
    "duration": 1276,
    "start_time": "2022-08-04T14:18:26.020Z"
   },
   {
    "duration": 80,
    "start_time": "2022-08-04T14:18:27.299Z"
   },
   {
    "duration": 25,
    "start_time": "2022-08-04T14:18:27.382Z"
   },
   {
    "duration": 6,
    "start_time": "2022-08-04T14:18:27.409Z"
   },
   {
    "duration": 18,
    "start_time": "2022-08-04T14:18:27.418Z"
   },
   {
    "duration": 15,
    "start_time": "2022-08-04T14:18:27.438Z"
   },
   {
    "duration": 2166,
    "start_time": "2022-08-04T14:18:27.456Z"
   },
   {
    "duration": 3,
    "start_time": "2022-08-04T14:18:29.623Z"
   },
   {
    "duration": 172,
    "start_time": "2022-08-04T14:18:29.627Z"
   },
   {
    "duration": 177,
    "start_time": "2022-08-04T14:18:29.801Z"
   },
   {
    "duration": 13,
    "start_time": "2022-08-04T14:18:29.980Z"
   },
   {
    "duration": 173,
    "start_time": "2022-08-04T14:18:29.995Z"
   },
   {
    "duration": 16,
    "start_time": "2022-08-04T14:18:30.170Z"
   },
   {
    "duration": 459,
    "start_time": "2022-08-04T14:18:30.189Z"
   },
   {
    "duration": 1095,
    "start_time": "2022-08-04T14:18:30.650Z"
   },
   {
    "duration": 3072,
    "start_time": "2022-08-04T14:18:31.746Z"
   },
   {
    "duration": 306,
    "start_time": "2022-08-04T14:18:34.820Z"
   },
   {
    "duration": 14,
    "start_time": "2022-08-04T14:18:35.128Z"
   },
   {
    "duration": 16,
    "start_time": "2022-08-04T14:18:35.145Z"
   },
   {
    "duration": 279,
    "start_time": "2022-08-04T14:18:57.487Z"
   },
   {
    "duration": 225,
    "start_time": "2022-08-04T14:19:04.352Z"
   },
   {
    "duration": 351,
    "start_time": "2022-08-04T14:19:17.363Z"
   },
   {
    "duration": 251,
    "start_time": "2022-08-04T14:19:57.327Z"
   },
   {
    "duration": 300,
    "start_time": "2022-08-04T14:20:07.516Z"
   },
   {
    "duration": 292,
    "start_time": "2022-08-04T14:21:20.835Z"
   },
   {
    "duration": 297,
    "start_time": "2022-08-04T14:21:46.316Z"
   },
   {
    "duration": 17,
    "start_time": "2022-08-04T14:32:30.949Z"
   },
   {
    "duration": 18,
    "start_time": "2022-08-04T14:36:39.225Z"
   },
   {
    "duration": 320,
    "start_time": "2022-08-04T15:45:38.749Z"
   },
   {
    "duration": 334,
    "start_time": "2022-08-04T15:46:38.655Z"
   },
   {
    "duration": 298,
    "start_time": "2022-08-04T15:52:36.827Z"
   },
   {
    "duration": 15,
    "start_time": "2022-08-04T15:56:53.131Z"
   },
   {
    "duration": 10,
    "start_time": "2022-08-04T16:38:49.634Z"
   },
   {
    "duration": 127,
    "start_time": "2022-08-04T16:39:05.859Z"
   },
   {
    "duration": 164,
    "start_time": "2022-08-04T16:39:11.791Z"
   },
   {
    "duration": 1236,
    "start_time": "2022-08-04T16:40:03.224Z"
   },
   {
    "duration": 16,
    "start_time": "2022-08-04T16:40:07.323Z"
   },
   {
    "duration": 151,
    "start_time": "2022-08-04T16:40:12.440Z"
   },
   {
    "duration": 133,
    "start_time": "2022-08-04T16:40:42.263Z"
   },
   {
    "duration": 244,
    "start_time": "2022-08-04T16:41:16.482Z"
   },
   {
    "duration": 137,
    "start_time": "2022-08-04T16:41:21.525Z"
   },
   {
    "duration": 286,
    "start_time": "2022-08-04T16:43:55.924Z"
   },
   {
    "duration": 291,
    "start_time": "2022-08-04T16:44:08.426Z"
   },
   {
    "duration": 291,
    "start_time": "2022-08-04T16:44:23.419Z"
   },
   {
    "duration": 392,
    "start_time": "2022-08-04T16:44:56.037Z"
   },
   {
    "duration": 399,
    "start_time": "2022-08-04T16:46:39.930Z"
   },
   {
    "duration": 285,
    "start_time": "2022-08-04T16:46:52.930Z"
   },
   {
    "duration": 292,
    "start_time": "2022-08-04T16:48:00.641Z"
   },
   {
    "duration": 286,
    "start_time": "2022-08-04T16:48:10.370Z"
   },
   {
    "duration": 56,
    "start_time": "2022-08-04T16:48:18.352Z"
   },
   {
    "duration": 306,
    "start_time": "2022-08-04T16:49:25.322Z"
   },
   {
    "duration": 76,
    "start_time": "2022-08-04T16:49:53.224Z"
   },
   {
    "duration": 310,
    "start_time": "2022-08-04T16:50:02.780Z"
   },
   {
    "duration": 380,
    "start_time": "2022-08-04T16:50:06.111Z"
   },
   {
    "duration": 18,
    "start_time": "2022-08-04T16:52:21.141Z"
   },
   {
    "duration": 111,
    "start_time": "2022-08-04T16:52:40.717Z"
   },
   {
    "duration": 101,
    "start_time": "2022-08-04T16:53:00.839Z"
   },
   {
    "duration": 105,
    "start_time": "2022-08-04T16:53:09.427Z"
   },
   {
    "duration": 104,
    "start_time": "2022-08-04T16:53:28.685Z"
   },
   {
    "duration": 18,
    "start_time": "2022-08-04T16:53:42.767Z"
   },
   {
    "duration": 56,
    "start_time": "2022-08-04T16:53:49.922Z"
   },
   {
    "duration": 9,
    "start_time": "2022-08-04T16:53:54.649Z"
   },
   {
    "duration": 9,
    "start_time": "2022-08-04T16:54:00.383Z"
   },
   {
    "duration": 100,
    "start_time": "2022-08-04T16:54:05.445Z"
   },
   {
    "duration": 101,
    "start_time": "2022-08-04T16:54:08.924Z"
   },
   {
    "duration": 107,
    "start_time": "2022-08-04T16:54:33.444Z"
   },
   {
    "duration": 110,
    "start_time": "2022-08-04T16:54:47.826Z"
   },
   {
    "duration": 124,
    "start_time": "2022-08-04T16:55:48.030Z"
   },
   {
    "duration": 117,
    "start_time": "2022-08-04T16:56:07.352Z"
   },
   {
    "duration": 8,
    "start_time": "2022-08-04T16:59:28.834Z"
   },
   {
    "duration": 8,
    "start_time": "2022-08-04T17:00:08.734Z"
   },
   {
    "duration": 106,
    "start_time": "2022-08-04T17:00:16.468Z"
   },
   {
    "duration": 91,
    "start_time": "2022-08-04T17:00:21.572Z"
   },
   {
    "duration": 101,
    "start_time": "2022-08-04T17:00:26.926Z"
   },
   {
    "duration": 90,
    "start_time": "2022-08-04T17:00:48.851Z"
   },
   {
    "duration": 134,
    "start_time": "2022-08-04T17:02:33.044Z"
   },
   {
    "duration": 140,
    "start_time": "2022-08-04T17:03:15.744Z"
   },
   {
    "duration": 271,
    "start_time": "2022-08-04T17:03:35.085Z"
   },
   {
    "duration": 124,
    "start_time": "2022-08-04T17:06:18.529Z"
   },
   {
    "duration": 955,
    "start_time": "2022-08-04T17:06:29.378Z"
   },
   {
    "duration": 80,
    "start_time": "2022-08-04T17:07:27.314Z"
   },
   {
    "duration": 142,
    "start_time": "2022-08-04T17:07:50.601Z"
   },
   {
    "duration": 84,
    "start_time": "2022-08-04T17:09:21.184Z"
   },
   {
    "duration": 16,
    "start_time": "2022-08-04T17:09:27.928Z"
   },
   {
    "duration": 0,
    "start_time": "2022-08-04T17:11:29.069Z"
   },
   {
    "duration": 133,
    "start_time": "2022-08-04T17:11:53.525Z"
   },
   {
    "duration": 320,
    "start_time": "2022-08-04T17:12:40.943Z"
   },
   {
    "duration": 1148,
    "start_time": "2022-08-04T17:13:25.827Z"
   },
   {
    "duration": 1597,
    "start_time": "2022-08-05T14:06:51.863Z"
   },
   {
    "duration": 202,
    "start_time": "2022-08-05T14:06:53.463Z"
   },
   {
    "duration": 14,
    "start_time": "2022-08-05T14:06:53.667Z"
   },
   {
    "duration": 58,
    "start_time": "2022-08-05T14:06:53.683Z"
   },
   {
    "duration": 40,
    "start_time": "2022-08-05T14:06:53.743Z"
   },
   {
    "duration": 63,
    "start_time": "2022-08-05T14:06:53.785Z"
   },
   {
    "duration": 29,
    "start_time": "2022-08-05T14:06:53.849Z"
   },
   {
    "duration": 2638,
    "start_time": "2022-08-05T14:06:53.880Z"
   },
   {
    "duration": 3,
    "start_time": "2022-08-05T14:06:56.522Z"
   },
   {
    "duration": 232,
    "start_time": "2022-08-05T14:06:56.532Z"
   },
   {
    "duration": 196,
    "start_time": "2022-08-05T14:06:56.766Z"
   },
   {
    "duration": 10,
    "start_time": "2022-08-05T14:06:56.963Z"
   },
   {
    "duration": 164,
    "start_time": "2022-08-05T14:06:56.975Z"
   },
   {
    "duration": 202,
    "start_time": "2022-08-05T14:06:57.141Z"
   },
   {
    "duration": 19,
    "start_time": "2022-08-05T14:06:57.345Z"
   },
   {
    "duration": 137,
    "start_time": "2022-08-05T14:06:57.365Z"
   },
   {
    "duration": 362,
    "start_time": "2022-08-05T14:06:57.503Z"
   },
   {
    "duration": 1275,
    "start_time": "2022-08-05T14:06:57.866Z"
   },
   {
    "duration": 1084,
    "start_time": "2022-08-05T14:06:59.143Z"
   },
   {
    "duration": 3805,
    "start_time": "2022-08-05T14:07:00.229Z"
   },
   {
    "duration": 347,
    "start_time": "2022-08-05T14:07:04.036Z"
   },
   {
    "duration": 145,
    "start_time": "2022-08-05T14:07:04.385Z"
   },
   {
    "duration": 11,
    "start_time": "2022-08-05T14:07:04.531Z"
   },
   {
    "duration": 146,
    "start_time": "2022-08-05T14:07:04.543Z"
   },
   {
    "duration": 15,
    "start_time": "2022-08-05T14:07:04.691Z"
   },
   {
    "duration": 99,
    "start_time": "2022-08-05T14:09:06.072Z"
   },
   {
    "duration": 16,
    "start_time": "2022-08-05T14:09:40.720Z"
   },
   {
    "duration": 12,
    "start_time": "2022-08-05T14:09:50.915Z"
   },
   {
    "duration": 13,
    "start_time": "2022-08-05T14:11:10.257Z"
   },
   {
    "duration": 1424,
    "start_time": "2022-08-05T14:11:56.340Z"
   },
   {
    "duration": 231,
    "start_time": "2022-08-05T14:12:02.536Z"
   },
   {
    "duration": 239,
    "start_time": "2022-08-05T14:12:17.414Z"
   },
   {
    "duration": 263,
    "start_time": "2022-08-05T14:12:33.612Z"
   },
   {
    "duration": 248,
    "start_time": "2022-08-05T14:13:01.439Z"
   },
   {
    "duration": 20,
    "start_time": "2022-08-05T14:13:12.413Z"
   },
   {
    "duration": 377,
    "start_time": "2022-08-05T14:14:09.049Z"
   },
   {
    "duration": 105,
    "start_time": "2022-08-05T14:16:25.931Z"
   },
   {
    "duration": 262,
    "start_time": "2022-08-05T14:16:34.067Z"
   },
   {
    "duration": 289,
    "start_time": "2022-08-05T14:16:45.543Z"
   },
   {
    "duration": 254,
    "start_time": "2022-08-05T14:16:52.759Z"
   },
   {
    "duration": 262,
    "start_time": "2022-08-05T14:18:29.912Z"
   },
   {
    "duration": 16,
    "start_time": "2022-08-05T14:18:40.266Z"
   },
   {
    "duration": 16,
    "start_time": "2022-08-05T14:18:53.315Z"
   },
   {
    "duration": 287,
    "start_time": "2022-08-05T14:19:35.484Z"
   },
   {
    "duration": 19,
    "start_time": "2022-08-05T14:21:29.890Z"
   },
   {
    "duration": 1047,
    "start_time": "2022-08-05T14:21:33.913Z"
   },
   {
    "duration": 9,
    "start_time": "2022-08-05T14:22:13.658Z"
   },
   {
    "duration": 1092,
    "start_time": "2022-08-05T14:22:41.164Z"
   },
   {
    "duration": 6,
    "start_time": "2022-08-05T14:27:26.652Z"
   },
   {
    "duration": 10,
    "start_time": "2022-08-05T14:27:30.956Z"
   },
   {
    "duration": 301,
    "start_time": "2022-08-05T14:27:41.279Z"
   },
   {
    "duration": 133,
    "start_time": "2022-08-05T14:28:53.929Z"
   },
   {
    "duration": 125,
    "start_time": "2022-08-05T14:29:28.506Z"
   },
   {
    "duration": 135,
    "start_time": "2022-08-05T14:29:44.977Z"
   },
   {
    "duration": 177,
    "start_time": "2022-08-05T14:29:52.143Z"
   },
   {
    "duration": 103,
    "start_time": "2022-08-05T14:42:23.899Z"
   },
   {
    "duration": 456,
    "start_time": "2022-08-05T14:43:19.609Z"
   },
   {
    "duration": 2685,
    "start_time": "2022-08-05T14:43:58.116Z"
   },
   {
    "duration": 2610,
    "start_time": "2022-08-05T14:46:01.023Z"
   },
   {
    "duration": 2673,
    "start_time": "2022-08-05T14:46:52.975Z"
   },
   {
    "duration": 2686,
    "start_time": "2022-08-05T14:48:29.743Z"
   },
   {
    "duration": 3,
    "start_time": "2022-08-05T14:49:10.526Z"
   },
   {
    "duration": 313,
    "start_time": "2022-08-05T14:49:12.537Z"
   },
   {
    "duration": 168,
    "start_time": "2022-08-05T14:49:34.279Z"
   },
   {
    "duration": 18,
    "start_time": "2022-08-05T14:49:38.291Z"
   },
   {
    "duration": 249,
    "start_time": "2022-08-05T14:49:49.518Z"
   },
   {
    "duration": 359,
    "start_time": "2022-08-05T14:49:55.175Z"
   },
   {
    "duration": 3427,
    "start_time": "2022-08-05T14:50:03.306Z"
   },
   {
    "duration": 314,
    "start_time": "2022-08-05T14:50:19.823Z"
   },
   {
    "duration": 144,
    "start_time": "2022-08-05T14:53:24.180Z"
   },
   {
    "duration": 1157,
    "start_time": "2022-08-05T14:55:23.356Z"
   },
   {
    "duration": 123,
    "start_time": "2022-08-05T14:57:55.215Z"
   },
   {
    "duration": 235,
    "start_time": "2022-08-05T14:59:18.270Z"
   },
   {
    "duration": 3488,
    "start_time": "2022-08-05T14:59:48.821Z"
   },
   {
    "duration": 3719,
    "start_time": "2022-08-05T15:01:00.138Z"
   },
   {
    "duration": 3734,
    "start_time": "2022-08-05T15:02:32.073Z"
   },
   {
    "duration": 3524,
    "start_time": "2022-08-05T15:03:22.815Z"
   },
   {
    "duration": 12,
    "start_time": "2022-08-05T15:08:10.840Z"
   },
   {
    "duration": 405,
    "start_time": "2022-08-05T15:08:25.443Z"
   },
   {
    "duration": 297,
    "start_time": "2022-08-05T15:10:29.720Z"
   },
   {
    "duration": 206,
    "start_time": "2022-08-05T15:11:06.212Z"
   },
   {
    "duration": 199,
    "start_time": "2022-08-05T15:11:11.057Z"
   },
   {
    "duration": 191,
    "start_time": "2022-08-05T15:11:33.269Z"
   },
   {
    "duration": 245,
    "start_time": "2022-08-05T15:12:16.775Z"
   },
   {
    "duration": 202,
    "start_time": "2022-08-05T15:12:28.127Z"
   },
   {
    "duration": 209,
    "start_time": "2022-08-05T15:12:43.220Z"
   },
   {
    "duration": 81,
    "start_time": "2022-08-05T15:15:39.771Z"
   },
   {
    "duration": 794,
    "start_time": "2022-08-05T15:15:48.491Z"
   },
   {
    "duration": 1002,
    "start_time": "2022-08-05T15:16:10.382Z"
   },
   {
    "duration": 222,
    "start_time": "2022-08-05T15:16:22.217Z"
   },
   {
    "duration": 356,
    "start_time": "2022-08-05T15:16:47.926Z"
   },
   {
    "duration": 2979,
    "start_time": "2022-08-05T15:18:10.674Z"
   },
   {
    "duration": 244,
    "start_time": "2022-08-05T15:18:26.614Z"
   },
   {
    "duration": 244,
    "start_time": "2022-08-05T15:18:47.046Z"
   },
   {
    "duration": 246,
    "start_time": "2022-08-05T15:18:57.564Z"
   },
   {
    "duration": 287,
    "start_time": "2022-08-05T15:19:35.341Z"
   },
   {
    "duration": 406,
    "start_time": "2022-08-05T15:19:48.066Z"
   },
   {
    "duration": 266,
    "start_time": "2022-08-05T15:19:57.272Z"
   },
   {
    "duration": 46,
    "start_time": "2022-08-05T15:36:14.271Z"
   },
   {
    "duration": 9,
    "start_time": "2022-08-05T15:55:17.213Z"
   },
   {
    "duration": 2876,
    "start_time": "2022-08-05T15:56:04.071Z"
   },
   {
    "duration": 2970,
    "start_time": "2022-08-05T15:56:30.440Z"
   },
   {
    "duration": 3015,
    "start_time": "2022-08-05T15:58:09.011Z"
   },
   {
    "duration": 1219,
    "start_time": "2022-08-06T09:51:40.403Z"
   },
   {
    "duration": 69,
    "start_time": "2022-08-06T09:51:41.624Z"
   },
   {
    "duration": 14,
    "start_time": "2022-08-06T09:51:41.694Z"
   },
   {
    "duration": 3,
    "start_time": "2022-08-06T09:51:41.710Z"
   },
   {
    "duration": 13,
    "start_time": "2022-08-06T09:51:41.715Z"
   },
   {
    "duration": 11,
    "start_time": "2022-08-06T09:51:41.729Z"
   },
   {
    "duration": 14,
    "start_time": "2022-08-06T09:51:41.741Z"
   },
   {
    "duration": 2178,
    "start_time": "2022-08-06T09:51:41.756Z"
   },
   {
    "duration": 3,
    "start_time": "2022-08-06T09:51:43.936Z"
   },
   {
    "duration": 157,
    "start_time": "2022-08-06T09:51:43.941Z"
   },
   {
    "duration": 147,
    "start_time": "2022-08-06T09:51:44.099Z"
   },
   {
    "duration": 35,
    "start_time": "2022-08-06T09:51:44.248Z"
   },
   {
    "duration": 10,
    "start_time": "2022-08-06T09:51:44.299Z"
   },
   {
    "duration": 124,
    "start_time": "2022-08-06T09:51:44.313Z"
   },
   {
    "duration": 151,
    "start_time": "2022-08-06T09:51:44.439Z"
   },
   {
    "duration": 22,
    "start_time": "2022-08-06T09:51:44.592Z"
   },
   {
    "duration": 222,
    "start_time": "2022-08-06T09:51:44.616Z"
   },
   {
    "duration": 318,
    "start_time": "2022-08-06T09:51:44.839Z"
   },
   {
    "duration": 928,
    "start_time": "2022-08-06T09:51:45.158Z"
   },
   {
    "duration": 3060,
    "start_time": "2022-08-06T09:51:46.088Z"
   },
   {
    "duration": 271,
    "start_time": "2022-08-06T09:51:49.150Z"
   },
   {
    "duration": 182,
    "start_time": "2022-08-06T09:51:49.423Z"
   },
   {
    "duration": 11,
    "start_time": "2022-08-06T09:51:49.607Z"
   },
   {
    "duration": 195,
    "start_time": "2022-08-06T09:51:49.620Z"
   },
   {
    "duration": 13,
    "start_time": "2022-08-06T09:51:49.817Z"
   },
   {
    "duration": 10,
    "start_time": "2022-08-06T09:51:49.832Z"
   },
   {
    "duration": 8,
    "start_time": "2022-08-06T09:52:15.163Z"
   },
   {
    "duration": 41,
    "start_time": "2022-08-06T09:52:27.305Z"
   },
   {
    "duration": 11,
    "start_time": "2022-08-06T10:25:36.175Z"
   },
   {
    "duration": 23,
    "start_time": "2022-08-06T10:26:27.744Z"
   },
   {
    "duration": 17,
    "start_time": "2022-08-06T11:25:09.493Z"
   },
   {
    "duration": 51,
    "start_time": "2022-08-06T11:33:45.783Z"
   },
   {
    "duration": 219,
    "start_time": "2022-08-06T11:34:15.209Z"
   },
   {
    "duration": 1379,
    "start_time": "2022-08-07T17:44:11.574Z"
   },
   {
    "duration": 179,
    "start_time": "2022-08-07T17:44:12.955Z"
   },
   {
    "duration": 14,
    "start_time": "2022-08-07T17:44:13.136Z"
   },
   {
    "duration": 12,
    "start_time": "2022-08-07T17:44:13.152Z"
   },
   {
    "duration": 41,
    "start_time": "2022-08-07T17:44:13.166Z"
   },
   {
    "duration": 11,
    "start_time": "2022-08-07T17:44:13.209Z"
   },
   {
    "duration": 15,
    "start_time": "2022-08-07T17:44:13.331Z"
   },
   {
    "duration": 2628,
    "start_time": "2022-08-07T17:44:14.126Z"
   },
   {
    "duration": 4,
    "start_time": "2022-08-07T17:44:16.757Z"
   },
   {
    "duration": 229,
    "start_time": "2022-08-07T17:44:16.764Z"
   },
   {
    "duration": 43,
    "start_time": "2022-08-07T17:44:16.995Z"
   },
   {
    "duration": 172,
    "start_time": "2022-08-07T17:44:17.039Z"
   },
   {
    "duration": 17,
    "start_time": "2022-08-07T17:44:17.213Z"
   },
   {
    "duration": 319,
    "start_time": "2022-08-07T17:44:17.353Z"
   },
   {
    "duration": 18,
    "start_time": "2022-08-07T17:44:18.073Z"
   },
   {
    "duration": 150,
    "start_time": "2022-08-07T17:44:18.251Z"
   },
   {
    "duration": 168,
    "start_time": "2022-08-07T17:44:18.627Z"
   },
   {
    "duration": 17,
    "start_time": "2022-08-07T17:44:19.200Z"
   },
   {
    "duration": 256,
    "start_time": "2022-08-07T17:44:19.394Z"
   },
   {
    "duration": 346,
    "start_time": "2022-08-07T17:44:19.790Z"
   },
   {
    "duration": 1096,
    "start_time": "2022-08-07T17:44:20.953Z"
   },
   {
    "duration": 3420,
    "start_time": "2022-08-07T17:44:22.051Z"
   },
   {
    "duration": 342,
    "start_time": "2022-08-07T17:44:25.477Z"
   },
   {
    "duration": 220,
    "start_time": "2022-08-07T17:44:25.821Z"
   },
   {
    "duration": 17,
    "start_time": "2022-08-07T17:44:26.043Z"
   },
   {
    "duration": 248,
    "start_time": "2022-08-07T17:44:26.061Z"
   },
   {
    "duration": 175,
    "start_time": "2022-08-07T17:44:26.310Z"
   },
   {
    "duration": 114,
    "start_time": "2022-08-07T18:04:54.276Z"
   },
   {
    "duration": 46,
    "start_time": "2022-08-07T18:32:11.159Z"
   },
   {
    "duration": 1396,
    "start_time": "2022-08-07T18:32:16.515Z"
   },
   {
    "duration": 81,
    "start_time": "2022-08-07T18:32:17.913Z"
   },
   {
    "duration": 16,
    "start_time": "2022-08-07T18:32:17.996Z"
   },
   {
    "duration": 7,
    "start_time": "2022-08-07T18:32:18.016Z"
   },
   {
    "duration": 18,
    "start_time": "2022-08-07T18:32:18.026Z"
   },
   {
    "duration": 18,
    "start_time": "2022-08-07T18:32:18.046Z"
   },
   {
    "duration": 16,
    "start_time": "2022-08-07T18:32:18.066Z"
   },
   {
    "duration": 2490,
    "start_time": "2022-08-07T18:32:18.084Z"
   },
   {
    "duration": 2,
    "start_time": "2022-08-07T18:32:20.576Z"
   },
   {
    "duration": 187,
    "start_time": "2022-08-07T18:32:20.581Z"
   },
   {
    "duration": 47,
    "start_time": "2022-08-07T18:32:20.770Z"
   },
   {
    "duration": 173,
    "start_time": "2022-08-07T18:32:20.819Z"
   },
   {
    "duration": 31,
    "start_time": "2022-08-07T18:32:20.994Z"
   },
   {
    "duration": 268,
    "start_time": "2022-08-07T18:32:21.027Z"
   },
   {
    "duration": 17,
    "start_time": "2022-08-07T18:32:21.297Z"
   },
   {
    "duration": 136,
    "start_time": "2022-08-07T18:32:21.315Z"
   },
   {
    "duration": 169,
    "start_time": "2022-08-07T18:32:21.453Z"
   },
   {
    "duration": 20,
    "start_time": "2022-08-07T18:32:21.624Z"
   },
   {
    "duration": 265,
    "start_time": "2022-08-07T18:32:21.646Z"
   },
   {
    "duration": 389,
    "start_time": "2022-08-07T18:32:21.912Z"
   },
   {
    "duration": 1038,
    "start_time": "2022-08-07T18:32:22.303Z"
   },
   {
    "duration": 3616,
    "start_time": "2022-08-07T18:32:23.342Z"
   },
   {
    "duration": 353,
    "start_time": "2022-08-07T18:32:26.959Z"
   },
   {
    "duration": 247,
    "start_time": "2022-08-07T18:32:27.313Z"
   },
   {
    "duration": 11,
    "start_time": "2022-08-07T18:32:27.562Z"
   },
   {
    "duration": 229,
    "start_time": "2022-08-07T18:32:27.575Z"
   },
   {
    "duration": 175,
    "start_time": "2022-08-07T18:32:27.808Z"
   },
   {
    "duration": 38,
    "start_time": "2022-08-07T18:32:38.070Z"
   },
   {
    "duration": 3,
    "start_time": "2022-08-07T19:08:58.659Z"
   },
   {
    "duration": 42,
    "start_time": "2022-08-07T19:08:58.664Z"
   },
   {
    "duration": 11,
    "start_time": "2022-08-07T19:08:58.707Z"
   },
   {
    "duration": 6,
    "start_time": "2022-08-07T19:08:58.720Z"
   },
   {
    "duration": 17,
    "start_time": "2022-08-07T19:08:58.728Z"
   },
   {
    "duration": 12,
    "start_time": "2022-08-07T19:08:58.747Z"
   },
   {
    "duration": 17,
    "start_time": "2022-08-07T19:08:58.761Z"
   },
   {
    "duration": 2532,
    "start_time": "2022-08-07T19:08:58.779Z"
   },
   {
    "duration": 2,
    "start_time": "2022-08-07T19:09:01.314Z"
   },
   {
    "duration": 186,
    "start_time": "2022-08-07T19:09:01.318Z"
   },
   {
    "duration": 33,
    "start_time": "2022-08-07T19:09:01.506Z"
   },
   {
    "duration": 0,
    "start_time": "2022-08-07T19:09:01.540Z"
   },
   {
    "duration": 0,
    "start_time": "2022-08-07T19:09:01.541Z"
   },
   {
    "duration": 0,
    "start_time": "2022-08-07T19:09:01.543Z"
   },
   {
    "duration": 0,
    "start_time": "2022-08-07T19:09:01.544Z"
   },
   {
    "duration": 0,
    "start_time": "2022-08-07T19:09:01.545Z"
   },
   {
    "duration": 0,
    "start_time": "2022-08-07T19:09:01.546Z"
   },
   {
    "duration": 0,
    "start_time": "2022-08-07T19:09:01.547Z"
   },
   {
    "duration": 0,
    "start_time": "2022-08-07T19:09:01.548Z"
   },
   {
    "duration": 0,
    "start_time": "2022-08-07T19:09:01.549Z"
   },
   {
    "duration": 0,
    "start_time": "2022-08-07T19:09:01.550Z"
   },
   {
    "duration": 0,
    "start_time": "2022-08-07T19:09:01.551Z"
   },
   {
    "duration": 0,
    "start_time": "2022-08-07T19:09:01.552Z"
   },
   {
    "duration": 0,
    "start_time": "2022-08-07T19:09:01.553Z"
   },
   {
    "duration": 0,
    "start_time": "2022-08-07T19:09:01.554Z"
   },
   {
    "duration": 0,
    "start_time": "2022-08-07T19:09:01.555Z"
   },
   {
    "duration": 0,
    "start_time": "2022-08-07T19:09:01.556Z"
   },
   {
    "duration": 4824,
    "start_time": "2022-08-07T19:09:11.427Z"
   },
   {
    "duration": 288,
    "start_time": "2022-08-07T19:14:04.052Z"
   },
   {
    "duration": 24,
    "start_time": "2022-08-07T19:16:41.590Z"
   },
   {
    "duration": 24,
    "start_time": "2022-08-07T19:17:03.249Z"
   },
   {
    "duration": 24,
    "start_time": "2022-08-07T19:17:08.214Z"
   },
   {
    "duration": 32,
    "start_time": "2022-08-07T19:17:17.246Z"
   },
   {
    "duration": 11,
    "start_time": "2022-08-07T19:18:10.563Z"
   },
   {
    "duration": 3,
    "start_time": "2022-08-07T19:18:30.473Z"
   },
   {
    "duration": 45,
    "start_time": "2022-08-07T19:18:30.481Z"
   },
   {
    "duration": 11,
    "start_time": "2022-08-07T19:18:30.528Z"
   },
   {
    "duration": 36,
    "start_time": "2022-08-07T19:18:30.540Z"
   },
   {
    "duration": 20,
    "start_time": "2022-08-07T19:18:30.578Z"
   },
   {
    "duration": 17,
    "start_time": "2022-08-07T19:18:30.599Z"
   },
   {
    "duration": 25,
    "start_time": "2022-08-07T19:18:30.618Z"
   },
   {
    "duration": 2594,
    "start_time": "2022-08-07T19:18:30.645Z"
   },
   {
    "duration": 3,
    "start_time": "2022-08-07T19:18:33.241Z"
   },
   {
    "duration": 165,
    "start_time": "2022-08-07T19:18:33.246Z"
   },
   {
    "duration": 24,
    "start_time": "2022-08-07T19:18:33.414Z"
   },
   {
    "duration": 4809,
    "start_time": "2022-08-07T19:18:33.439Z"
   },
   {
    "duration": 360,
    "start_time": "2022-08-07T19:18:38.251Z"
   },
   {
    "duration": 20,
    "start_time": "2022-08-07T19:18:38.613Z"
   },
   {
    "duration": 351,
    "start_time": "2022-08-07T19:18:38.635Z"
   },
   {
    "duration": 21,
    "start_time": "2022-08-07T19:18:38.988Z"
   },
   {
    "duration": 135,
    "start_time": "2022-08-07T19:18:39.011Z"
   },
   {
    "duration": 180,
    "start_time": "2022-08-07T19:18:39.148Z"
   },
   {
    "duration": 16,
    "start_time": "2022-08-07T19:18:39.330Z"
   },
   {
    "duration": 633,
    "start_time": "2022-08-07T19:18:39.348Z"
   },
   {
    "duration": 369,
    "start_time": "2022-08-07T19:18:39.983Z"
   },
   {
    "duration": 880,
    "start_time": "2022-08-07T19:18:40.353Z"
   },
   {
    "duration": 3396,
    "start_time": "2022-08-07T19:18:41.235Z"
   },
   {
    "duration": 293,
    "start_time": "2022-08-07T19:18:44.633Z"
   },
   {
    "duration": 194,
    "start_time": "2022-08-07T19:18:44.928Z"
   },
   {
    "duration": 11,
    "start_time": "2022-08-07T19:18:45.123Z"
   },
   {
    "duration": 209,
    "start_time": "2022-08-07T19:18:45.136Z"
   },
   {
    "duration": 14,
    "start_time": "2022-08-07T19:18:45.347Z"
   },
   {
    "duration": 26,
    "start_time": "2022-08-07T19:18:52.652Z"
   },
   {
    "duration": 28,
    "start_time": "2022-08-07T19:20:29.861Z"
   },
   {
    "duration": 30,
    "start_time": "2022-08-07T19:20:38.597Z"
   },
   {
    "duration": 10,
    "start_time": "2022-08-07T19:21:37.584Z"
   },
   {
    "duration": 11,
    "start_time": "2022-08-07T19:21:52.586Z"
   },
   {
    "duration": 48,
    "start_time": "2022-08-07T19:22:03.062Z"
   },
   {
    "duration": 13,
    "start_time": "2022-08-07T19:22:07.261Z"
   },
   {
    "duration": 16,
    "start_time": "2022-08-07T19:22:30.671Z"
   },
   {
    "duration": 34,
    "start_time": "2022-08-07T19:23:20.269Z"
   },
   {
    "duration": 25,
    "start_time": "2022-08-07T19:23:25.913Z"
   },
   {
    "duration": 23,
    "start_time": "2022-08-07T19:23:53.086Z"
   },
   {
    "duration": 26,
    "start_time": "2022-08-07T19:24:05.774Z"
   },
   {
    "duration": 11,
    "start_time": "2022-08-07T19:24:47.011Z"
   },
   {
    "duration": 13,
    "start_time": "2022-08-07T19:25:14.234Z"
   },
   {
    "duration": 771,
    "start_time": "2022-08-07T19:25:40.950Z"
   },
   {
    "duration": 24,
    "start_time": "2022-08-07T19:26:11.552Z"
   },
   {
    "duration": 282,
    "start_time": "2022-08-07T19:27:43.350Z"
   },
   {
    "duration": 272,
    "start_time": "2022-08-07T19:29:13.840Z"
   },
   {
    "duration": 327,
    "start_time": "2022-08-07T19:29:30.542Z"
   },
   {
    "duration": 353,
    "start_time": "2022-08-07T19:29:48.052Z"
   },
   {
    "duration": 372,
    "start_time": "2022-08-07T19:31:10.386Z"
   },
   {
    "duration": 370,
    "start_time": "2022-08-07T19:31:16.207Z"
   },
   {
    "duration": 38,
    "start_time": "2022-08-07T19:38:21.293Z"
   },
   {
    "duration": 50,
    "start_time": "2022-08-07T19:41:08.986Z"
   },
   {
    "duration": 32,
    "start_time": "2022-08-07T19:42:34.065Z"
   },
   {
    "duration": 47,
    "start_time": "2022-08-07T19:42:41.097Z"
   },
   {
    "duration": 240,
    "start_time": "2022-08-07T19:50:37.060Z"
   },
   {
    "duration": 980,
    "start_time": "2022-08-07T19:51:26.404Z"
   },
   {
    "duration": 922,
    "start_time": "2022-08-07T19:51:39.856Z"
   },
   {
    "duration": 1199,
    "start_time": "2022-08-07T19:52:23.452Z"
   },
   {
    "duration": 1183,
    "start_time": "2022-08-07T19:52:42.739Z"
   },
   {
    "duration": 50,
    "start_time": "2022-08-07T19:56:45.944Z"
   },
   {
    "duration": 1523,
    "start_time": "2022-08-07T19:57:32.543Z"
   },
   {
    "duration": 1576,
    "start_time": "2022-08-07T19:57:40.218Z"
   },
   {
    "duration": 3,
    "start_time": "2022-08-07T19:58:23.258Z"
   },
   {
    "duration": 1679,
    "start_time": "2022-08-07T20:01:12.278Z"
   },
   {
    "duration": 36,
    "start_time": "2022-08-07T20:10:56.654Z"
   },
   {
    "duration": 690,
    "start_time": "2022-08-07T20:11:02.957Z"
   },
   {
    "duration": 50,
    "start_time": "2022-08-07T20:11:10.283Z"
   },
   {
    "duration": 51,
    "start_time": "2022-08-07T20:11:17.506Z"
   },
   {
    "duration": 45,
    "start_time": "2022-08-07T20:12:02.490Z"
   },
   {
    "duration": 131,
    "start_time": "2022-08-07T20:19:40.271Z"
   },
   {
    "duration": 357,
    "start_time": "2022-08-07T20:21:50.254Z"
   },
   {
    "duration": 373,
    "start_time": "2022-08-07T20:22:10.074Z"
   },
   {
    "duration": 452,
    "start_time": "2022-08-07T20:22:57.832Z"
   },
   {
    "duration": 482,
    "start_time": "2022-08-07T20:23:35.357Z"
   },
   {
    "duration": 225,
    "start_time": "2022-08-07T20:23:55.325Z"
   },
   {
    "duration": 15,
    "start_time": "2022-08-07T20:25:44.111Z"
   },
   {
    "duration": 13,
    "start_time": "2022-08-07T20:26:17.923Z"
   },
   {
    "duration": 14,
    "start_time": "2022-08-07T20:26:48.998Z"
   },
   {
    "duration": 17,
    "start_time": "2022-08-07T20:27:36.194Z"
   },
   {
    "duration": 14,
    "start_time": "2022-08-07T20:28:30.458Z"
   },
   {
    "duration": 438,
    "start_time": "2022-08-07T20:29:30.997Z"
   },
   {
    "duration": 244,
    "start_time": "2022-08-07T20:30:44.502Z"
   },
   {
    "duration": 389,
    "start_time": "2022-08-07T20:32:30.220Z"
   },
   {
    "duration": 376,
    "start_time": "2022-08-07T20:32:38.726Z"
   },
   {
    "duration": 247,
    "start_time": "2022-08-07T20:33:37.889Z"
   },
   {
    "duration": 21,
    "start_time": "2022-08-07T20:33:46.663Z"
   },
   {
    "duration": 457,
    "start_time": "2022-08-07T20:33:53.783Z"
   },
   {
    "duration": 98,
    "start_time": "2022-08-07T20:34:19.436Z"
   },
   {
    "duration": 451,
    "start_time": "2022-08-07T20:36:24.720Z"
   },
   {
    "duration": 250,
    "start_time": "2022-08-07T20:37:13.249Z"
   },
   {
    "duration": 129,
    "start_time": "2022-08-07T20:37:22.243Z"
   },
   {
    "duration": 458,
    "start_time": "2022-08-07T20:37:54.487Z"
   },
   {
    "duration": 452,
    "start_time": "2022-08-07T20:38:22.042Z"
   },
   {
    "duration": 504,
    "start_time": "2022-08-07T20:38:32.684Z"
   },
   {
    "duration": 129,
    "start_time": "2022-08-07T20:41:20.291Z"
   },
   {
    "duration": 165,
    "start_time": "2022-08-07T20:45:16.710Z"
   },
   {
    "duration": 125,
    "start_time": "2022-08-07T20:46:58.932Z"
   },
   {
    "duration": 10,
    "start_time": "2022-08-07T20:56:33.989Z"
   },
   {
    "duration": 162,
    "start_time": "2022-08-07T20:56:49.129Z"
   },
   {
    "duration": 179,
    "start_time": "2022-08-07T20:57:15.658Z"
   },
   {
    "duration": 171,
    "start_time": "2022-08-07T20:57:34.479Z"
   },
   {
    "duration": 165,
    "start_time": "2022-08-07T20:59:42.253Z"
   },
   {
    "duration": 167,
    "start_time": "2022-08-07T20:59:54.918Z"
   },
   {
    "duration": 182,
    "start_time": "2022-08-07T21:00:09.564Z"
   },
   {
    "duration": 10,
    "start_time": "2022-08-07T21:00:50.879Z"
   },
   {
    "duration": 166,
    "start_time": "2022-08-07T21:10:43.754Z"
   },
   {
    "duration": 172,
    "start_time": "2022-08-07T21:10:50.068Z"
   },
   {
    "duration": 165,
    "start_time": "2022-08-07T21:11:00.447Z"
   },
   {
    "duration": 10,
    "start_time": "2022-08-07T21:12:09.385Z"
   },
   {
    "duration": 176,
    "start_time": "2022-08-07T21:12:14.159Z"
   },
   {
    "duration": 185,
    "start_time": "2022-08-07T21:12:26.008Z"
   },
   {
    "duration": 173,
    "start_time": "2022-08-07T21:12:36.600Z"
   },
   {
    "duration": 162,
    "start_time": "2022-08-07T21:13:00.516Z"
   },
   {
    "duration": 1371,
    "start_time": "2022-08-07T21:13:24.807Z"
   },
   {
    "duration": 38,
    "start_time": "2022-08-07T21:14:07.007Z"
   },
   {
    "duration": 1548,
    "start_time": "2022-08-07T21:14:41.066Z"
   },
   {
    "duration": 1178,
    "start_time": "2022-08-09T13:07:35.313Z"
   },
   {
    "duration": 179,
    "start_time": "2022-08-09T13:07:36.494Z"
   },
   {
    "duration": 26,
    "start_time": "2022-08-09T13:07:36.675Z"
   },
   {
    "duration": 21,
    "start_time": "2022-08-09T13:07:36.704Z"
   },
   {
    "duration": 19,
    "start_time": "2022-08-09T13:07:36.728Z"
   },
   {
    "duration": 23,
    "start_time": "2022-08-09T13:07:36.749Z"
   },
   {
    "duration": 27,
    "start_time": "2022-08-09T13:07:36.775Z"
   },
   {
    "duration": 2739,
    "start_time": "2022-08-09T13:07:36.804Z"
   },
   {
    "duration": 3,
    "start_time": "2022-08-09T13:07:39.545Z"
   },
   {
    "duration": 209,
    "start_time": "2022-08-09T13:07:39.551Z"
   },
   {
    "duration": 420,
    "start_time": "2022-08-09T13:07:39.762Z"
   },
   {
    "duration": 105,
    "start_time": "2022-08-09T13:07:40.183Z"
   },
   {
    "duration": 204,
    "start_time": "2022-08-09T13:07:40.290Z"
   },
   {
    "duration": 28,
    "start_time": "2022-08-09T13:07:40.496Z"
   },
   {
    "duration": 276,
    "start_time": "2022-08-09T13:07:40.527Z"
   },
   {
    "duration": 11,
    "start_time": "2022-08-09T13:07:40.806Z"
   },
   {
    "duration": 159,
    "start_time": "2022-08-09T13:07:40.819Z"
   },
   {
    "duration": 194,
    "start_time": "2022-08-09T13:07:40.980Z"
   },
   {
    "duration": 22,
    "start_time": "2022-08-09T13:07:41.176Z"
   },
   {
    "duration": 445,
    "start_time": "2022-08-09T13:07:41.201Z"
   },
   {
    "duration": 1884,
    "start_time": "2022-08-09T13:07:41.649Z"
   },
   {
    "duration": 1689,
    "start_time": "2022-08-09T13:07:43.535Z"
   },
   {
    "duration": 1132,
    "start_time": "2022-08-09T13:07:45.227Z"
   },
   {
    "duration": 3700,
    "start_time": "2022-08-09T13:07:46.361Z"
   },
   {
    "duration": 332,
    "start_time": "2022-08-09T13:07:50.063Z"
   },
   {
    "duration": 221,
    "start_time": "2022-08-09T13:07:50.397Z"
   },
   {
    "duration": 12,
    "start_time": "2022-08-09T13:07:50.620Z"
   },
   {
    "duration": 250,
    "start_time": "2022-08-09T13:07:50.636Z"
   },
   {
    "duration": 16,
    "start_time": "2022-08-09T13:07:50.887Z"
   },
   {
    "duration": 5,
    "start_time": "2022-08-09T13:08:31.863Z"
   },
   {
    "duration": 17,
    "start_time": "2022-08-09T14:04:46.658Z"
   },
   {
    "duration": 1297,
    "start_time": "2022-08-16T19:58:24.655Z"
   }
  ],
  "kernelspec": {
   "display_name": "Python 3 (ipykernel)",
   "language": "python",
   "name": "python3"
  },
  "language_info": {
   "codemirror_mode": {
    "name": "ipython",
    "version": 3
   },
   "file_extension": ".py",
   "mimetype": "text/x-python",
   "name": "python",
   "nbconvert_exporter": "python",
   "pygments_lexer": "ipython3",
   "version": "3.9.5"
  },
  "toc": {
   "base_numbering": 1,
   "nav_menu": {},
   "number_sections": true,
   "sideBar": true,
   "skip_h1_title": true,
   "title_cell": "Содержание",
   "title_sidebar": "Contents",
   "toc_cell": true,
   "toc_position": {},
   "toc_section_display": true,
   "toc_window_display": true
  }
 },
 "nbformat": 4,
 "nbformat_minor": 2
}
